{
 "metadata": {
  "language_info": {
   "codemirror_mode": {
    "name": "ipython",
    "version": 3
   },
   "file_extension": ".py",
   "mimetype": "text/x-python",
   "name": "python",
   "nbconvert_exporter": "python",
   "pygments_lexer": "ipython3",
   "version": "3.8.5"
  },
  "orig_nbformat": 2,
  "kernelspec": {
   "name": "python385jvsc74a57bd0fbff9bfab3ee0df4124016b4e010029cf2ec5864ce5e3c4aa09796cc364af95f",
   "display_name": "Python 3.8.5 64-bit (conda)"
  }
 },
 "nbformat": 4,
 "nbformat_minor": 2,
 "cells": [
  {
   "cell_type": "code",
   "execution_count": 1,
   "metadata": {},
   "outputs": [],
   "source": [
    "import pandas as pd\n",
    "import numpy as np\n",
    "from pathlib import PurePosixPath, PureWindowsPath"
   ]
  },
  {
   "cell_type": "code",
   "execution_count": 2,
   "metadata": {},
   "outputs": [],
   "source": [
    "def get_directory(path):\n",
    "    if os.name == 'posix':\n",
    "        return str(PurePosixPath(path))\n",
    "    else:\n",
    "        return str(PureWindowsPath(path))"
   ]
  },
  {
   "cell_type": "code",
   "execution_count": 3,
   "metadata": {},
   "outputs": [],
   "source": [
    "# Variables\n",
    "FERTILIZER_LOCATION = get_directory('./dataset/fertilizer')\n",
    "TRAIN_SPLIT = 0.8\n",
    "INPUT_HEADERS = ['temperature', 'humidity', 'ph', 'rainfall', 'is_maize', 'is_grape', 'is_apple', 'is_orange', 'label']"
   ]
  },
  {
   "cell_type": "code",
   "execution_count": 4,
   "metadata": {},
   "outputs": [
    {
     "output_type": "execute_result",
     "data": {
      "text/plain": [
       "['temperature',\n",
       " 'humidity',\n",
       " 'ph',\n",
       " 'rainfall',\n",
       " 'is_maize',\n",
       " 'is_grape',\n",
       " 'is_apple',\n",
       " 'is_orange',\n",
       " 'label']"
      ]
     },
     "metadata": {},
     "execution_count": 4
    }
   ],
   "source": [
    "INPUT_HEADERS"
   ]
  },
  {
   "cell_type": "code",
   "execution_count": 5,
   "metadata": {},
   "outputs": [],
   "source": [
    "_fert = pd.read_excel(get_directory(FERTILIZER_LOCATION + '/Fertiliser Prediction.xlsx'))"
   ]
  },
  {
   "cell_type": "code",
   "execution_count": 6,
   "metadata": {},
   "outputs": [
    {
     "output_type": "execute_result",
     "data": {
      "text/plain": [
       "    N   P   K  temperature   humidity        ph    rainfall  label\n",
       "0  71  54  16    22.613600  63.690706  5.749914   87.759539  maize\n",
       "1  61  44  17    26.100184  71.574769  6.931757  102.266244  maize\n",
       "2  80  43  16    23.558821  71.593514  6.657965   66.719955  maize\n",
       "3  73  58  21    19.972160  57.682729  6.596061   60.651715  maize\n",
       "4  61  38  20    18.478913  62.695039  5.970458   65.438354  maize"
      ],
      "text/html": "<div>\n<style scoped>\n    .dataframe tbody tr th:only-of-type {\n        vertical-align: middle;\n    }\n\n    .dataframe tbody tr th {\n        vertical-align: top;\n    }\n\n    .dataframe thead th {\n        text-align: right;\n    }\n</style>\n<table border=\"1\" class=\"dataframe\">\n  <thead>\n    <tr style=\"text-align: right;\">\n      <th></th>\n      <th>N</th>\n      <th>P</th>\n      <th>K</th>\n      <th>temperature</th>\n      <th>humidity</th>\n      <th>ph</th>\n      <th>rainfall</th>\n      <th>label</th>\n    </tr>\n  </thead>\n  <tbody>\n    <tr>\n      <th>0</th>\n      <td>71</td>\n      <td>54</td>\n      <td>16</td>\n      <td>22.613600</td>\n      <td>63.690706</td>\n      <td>5.749914</td>\n      <td>87.759539</td>\n      <td>maize</td>\n    </tr>\n    <tr>\n      <th>1</th>\n      <td>61</td>\n      <td>44</td>\n      <td>17</td>\n      <td>26.100184</td>\n      <td>71.574769</td>\n      <td>6.931757</td>\n      <td>102.266244</td>\n      <td>maize</td>\n    </tr>\n    <tr>\n      <th>2</th>\n      <td>80</td>\n      <td>43</td>\n      <td>16</td>\n      <td>23.558821</td>\n      <td>71.593514</td>\n      <td>6.657965</td>\n      <td>66.719955</td>\n      <td>maize</td>\n    </tr>\n    <tr>\n      <th>3</th>\n      <td>73</td>\n      <td>58</td>\n      <td>21</td>\n      <td>19.972160</td>\n      <td>57.682729</td>\n      <td>6.596061</td>\n      <td>60.651715</td>\n      <td>maize</td>\n    </tr>\n    <tr>\n      <th>4</th>\n      <td>61</td>\n      <td>38</td>\n      <td>20</td>\n      <td>18.478913</td>\n      <td>62.695039</td>\n      <td>5.970458</td>\n      <td>65.438354</td>\n      <td>maize</td>\n    </tr>\n  </tbody>\n</table>\n</div>"
     },
     "metadata": {},
     "execution_count": 6
    }
   ],
   "source": [
    "_fert.head()"
   ]
  },
  {
   "cell_type": "code",
   "execution_count": 7,
   "metadata": {},
   "outputs": [
    {
     "output_type": "execute_result",
     "data": {
      "text/plain": [
       "N                int64\n",
       "P                int64\n",
       "K                int64\n",
       "temperature    float64\n",
       "humidity       float64\n",
       "ph             float64\n",
       "rainfall       float64\n",
       "label           object\n",
       "dtype: object"
      ]
     },
     "metadata": {},
     "execution_count": 7
    }
   ],
   "source": [
    "_fert.dtypes"
   ]
  },
  {
   "cell_type": "code",
   "execution_count": 8,
   "metadata": {},
   "outputs": [],
   "source": [
    "#_fert['label'] = pd.Categorical(_fert['label'])\n",
    "#_fert['label'] = _fert.label.cat.codes"
   ]
  },
  {
   "cell_type": "code",
   "execution_count": 9,
   "metadata": {},
   "outputs": [
    {
     "output_type": "execute_result",
     "data": {
      "text/plain": [
       "      N   P   K  temperature   humidity        ph    rainfall   label\n",
       "0    71  54  16    22.613600  63.690706  5.749914   87.759539   maize\n",
       "1    61  44  17    26.100184  71.574769  6.931757  102.266244   maize\n",
       "2    80  43  16    23.558821  71.593514  6.657965   66.719955   maize\n",
       "3    73  58  21    19.972160  57.682729  6.596061   60.651715   maize\n",
       "4    61  38  20    18.478913  62.695039  5.970458   65.438354   maize\n",
       "..   ..  ..  ..          ...        ...       ...         ...     ...\n",
       "395  27  30   5    32.717485  90.546083  7.656978  113.328978  orange\n",
       "396  13   8  12    25.162966  92.547360  7.105905  114.311720  orange\n",
       "397   6   7   7    27.681673  94.473169  7.199106  113.999515  orange\n",
       "398  40  17  15    21.350934  90.949297  7.871063  107.086209  orange\n",
       "399  31  26   9    11.698946  93.256389  7.566166  103.200599  orange\n",
       "\n",
       "[400 rows x 8 columns]"
      ],
      "text/html": "<div>\n<style scoped>\n    .dataframe tbody tr th:only-of-type {\n        vertical-align: middle;\n    }\n\n    .dataframe tbody tr th {\n        vertical-align: top;\n    }\n\n    .dataframe thead th {\n        text-align: right;\n    }\n</style>\n<table border=\"1\" class=\"dataframe\">\n  <thead>\n    <tr style=\"text-align: right;\">\n      <th></th>\n      <th>N</th>\n      <th>P</th>\n      <th>K</th>\n      <th>temperature</th>\n      <th>humidity</th>\n      <th>ph</th>\n      <th>rainfall</th>\n      <th>label</th>\n    </tr>\n  </thead>\n  <tbody>\n    <tr>\n      <th>0</th>\n      <td>71</td>\n      <td>54</td>\n      <td>16</td>\n      <td>22.613600</td>\n      <td>63.690706</td>\n      <td>5.749914</td>\n      <td>87.759539</td>\n      <td>maize</td>\n    </tr>\n    <tr>\n      <th>1</th>\n      <td>61</td>\n      <td>44</td>\n      <td>17</td>\n      <td>26.100184</td>\n      <td>71.574769</td>\n      <td>6.931757</td>\n      <td>102.266244</td>\n      <td>maize</td>\n    </tr>\n    <tr>\n      <th>2</th>\n      <td>80</td>\n      <td>43</td>\n      <td>16</td>\n      <td>23.558821</td>\n      <td>71.593514</td>\n      <td>6.657965</td>\n      <td>66.719955</td>\n      <td>maize</td>\n    </tr>\n    <tr>\n      <th>3</th>\n      <td>73</td>\n      <td>58</td>\n      <td>21</td>\n      <td>19.972160</td>\n      <td>57.682729</td>\n      <td>6.596061</td>\n      <td>60.651715</td>\n      <td>maize</td>\n    </tr>\n    <tr>\n      <th>4</th>\n      <td>61</td>\n      <td>38</td>\n      <td>20</td>\n      <td>18.478913</td>\n      <td>62.695039</td>\n      <td>5.970458</td>\n      <td>65.438354</td>\n      <td>maize</td>\n    </tr>\n    <tr>\n      <th>...</th>\n      <td>...</td>\n      <td>...</td>\n      <td>...</td>\n      <td>...</td>\n      <td>...</td>\n      <td>...</td>\n      <td>...</td>\n      <td>...</td>\n    </tr>\n    <tr>\n      <th>395</th>\n      <td>27</td>\n      <td>30</td>\n      <td>5</td>\n      <td>32.717485</td>\n      <td>90.546083</td>\n      <td>7.656978</td>\n      <td>113.328978</td>\n      <td>orange</td>\n    </tr>\n    <tr>\n      <th>396</th>\n      <td>13</td>\n      <td>8</td>\n      <td>12</td>\n      <td>25.162966</td>\n      <td>92.547360</td>\n      <td>7.105905</td>\n      <td>114.311720</td>\n      <td>orange</td>\n    </tr>\n    <tr>\n      <th>397</th>\n      <td>6</td>\n      <td>7</td>\n      <td>7</td>\n      <td>27.681673</td>\n      <td>94.473169</td>\n      <td>7.199106</td>\n      <td>113.999515</td>\n      <td>orange</td>\n    </tr>\n    <tr>\n      <th>398</th>\n      <td>40</td>\n      <td>17</td>\n      <td>15</td>\n      <td>21.350934</td>\n      <td>90.949297</td>\n      <td>7.871063</td>\n      <td>107.086209</td>\n      <td>orange</td>\n    </tr>\n    <tr>\n      <th>399</th>\n      <td>31</td>\n      <td>26</td>\n      <td>9</td>\n      <td>11.698946</td>\n      <td>93.256389</td>\n      <td>7.566166</td>\n      <td>103.200599</td>\n      <td>orange</td>\n    </tr>\n  </tbody>\n</table>\n<p>400 rows × 8 columns</p>\n</div>"
     },
     "metadata": {},
     "execution_count": 9
    }
   ],
   "source": [
    "# Sanity check - now Label should be gone, replaced by one-hot encodings\n",
    "_fert"
   ]
  },
  {
   "cell_type": "code",
   "execution_count": 10,
   "metadata": {},
   "outputs": [],
   "source": [
    "_fert['label'] = pd.Categorical(_fert['label'])\n",
    "_fert['label'] = _fert.label.cat.codes"
   ]
  },
  {
   "cell_type": "code",
   "execution_count": 11,
   "metadata": {},
   "outputs": [
    {
     "output_type": "execute_result",
     "data": {
      "text/plain": [
       "    N   P   K  temperature   humidity        ph    rainfall  label\n",
       "0  71  54  16    22.613600  63.690706  5.749914   87.759539      2\n",
       "1  61  44  17    26.100184  71.574769  6.931757  102.266244      2\n",
       "2  80  43  16    23.558821  71.593514  6.657965   66.719955      2\n",
       "3  73  58  21    19.972160  57.682729  6.596061   60.651715      2\n",
       "4  61  38  20    18.478913  62.695039  5.970458   65.438354      2"
      ],
      "text/html": "<div>\n<style scoped>\n    .dataframe tbody tr th:only-of-type {\n        vertical-align: middle;\n    }\n\n    .dataframe tbody tr th {\n        vertical-align: top;\n    }\n\n    .dataframe thead th {\n        text-align: right;\n    }\n</style>\n<table border=\"1\" class=\"dataframe\">\n  <thead>\n    <tr style=\"text-align: right;\">\n      <th></th>\n      <th>N</th>\n      <th>P</th>\n      <th>K</th>\n      <th>temperature</th>\n      <th>humidity</th>\n      <th>ph</th>\n      <th>rainfall</th>\n      <th>label</th>\n    </tr>\n  </thead>\n  <tbody>\n    <tr>\n      <th>0</th>\n      <td>71</td>\n      <td>54</td>\n      <td>16</td>\n      <td>22.613600</td>\n      <td>63.690706</td>\n      <td>5.749914</td>\n      <td>87.759539</td>\n      <td>2</td>\n    </tr>\n    <tr>\n      <th>1</th>\n      <td>61</td>\n      <td>44</td>\n      <td>17</td>\n      <td>26.100184</td>\n      <td>71.574769</td>\n      <td>6.931757</td>\n      <td>102.266244</td>\n      <td>2</td>\n    </tr>\n    <tr>\n      <th>2</th>\n      <td>80</td>\n      <td>43</td>\n      <td>16</td>\n      <td>23.558821</td>\n      <td>71.593514</td>\n      <td>6.657965</td>\n      <td>66.719955</td>\n      <td>2</td>\n    </tr>\n    <tr>\n      <th>3</th>\n      <td>73</td>\n      <td>58</td>\n      <td>21</td>\n      <td>19.972160</td>\n      <td>57.682729</td>\n      <td>6.596061</td>\n      <td>60.651715</td>\n      <td>2</td>\n    </tr>\n    <tr>\n      <th>4</th>\n      <td>61</td>\n      <td>38</td>\n      <td>20</td>\n      <td>18.478913</td>\n      <td>62.695039</td>\n      <td>5.970458</td>\n      <td>65.438354</td>\n      <td>2</td>\n    </tr>\n  </tbody>\n</table>\n</div>"
     },
     "metadata": {},
     "execution_count": 11
    }
   ],
   "source": [
    "_fert.head()"
   ]
  },
  {
   "cell_type": "code",
   "execution_count": 12,
   "metadata": {},
   "outputs": [],
   "source": [
    "_fert_N = _fert[['N', 'temperature', 'humidity', 'ph', 'rainfall', 'label']].copy()\n",
    "_fert_P = _fert[['P', 'temperature', 'humidity', 'ph', 'rainfall', 'label']].copy()\n",
    "_fert_K = _fert[['K', 'temperature', 'humidity', 'ph', 'rainfall', 'label']].copy()"
   ]
  },
  {
   "cell_type": "code",
   "execution_count": 13,
   "metadata": {},
   "outputs": [],
   "source": [
    "# Labelling representation of each data\n",
    "_fert_N.loc[:, 'target_output'] = 0\n",
    "_fert_P.loc[:, 'target_output'] = 1\n",
    "_fert_K.loc[:, 'target_output'] = 2\n",
    "\n",
    "_fert_N.rename(columns = {'N': 'output'}, inplace=True)\n",
    "_fert_P.rename(columns = {'P': 'output'}, inplace=True)\n",
    "_fert_K.rename(columns = {'K': 'output'}, inplace=True)"
   ]
  },
  {
   "cell_type": "code",
   "execution_count": 14,
   "metadata": {},
   "outputs": [
    {
     "output_type": "execute_result",
     "data": {
      "text/plain": [
       "     output  temperature   humidity        ph    rainfall  label  \\\n",
       "0        71    22.613600  63.690706  5.749914   87.759539      2   \n",
       "1        61    26.100184  71.574769  6.931757  102.266244      2   \n",
       "2        80    23.558821  71.593514  6.657965   66.719955      2   \n",
       "3        73    19.972160  57.682729  6.596061   60.651715      2   \n",
       "4        61    18.478913  62.695039  5.970458   65.438354      2   \n",
       "..      ...          ...        ...       ...         ...    ...   \n",
       "395      27    32.717485  90.546083  7.656978  113.328978      3   \n",
       "396      13    25.162966  92.547360  7.105905  114.311720      3   \n",
       "397       6    27.681673  94.473169  7.199106  113.999515      3   \n",
       "398      40    21.350934  90.949297  7.871063  107.086209      3   \n",
       "399      31    11.698946  93.256389  7.566166  103.200599      3   \n",
       "\n",
       "     target_output  \n",
       "0                0  \n",
       "1                0  \n",
       "2                0  \n",
       "3                0  \n",
       "4                0  \n",
       "..             ...  \n",
       "395              0  \n",
       "396              0  \n",
       "397              0  \n",
       "398              0  \n",
       "399              0  \n",
       "\n",
       "[400 rows x 7 columns]"
      ],
      "text/html": "<div>\n<style scoped>\n    .dataframe tbody tr th:only-of-type {\n        vertical-align: middle;\n    }\n\n    .dataframe tbody tr th {\n        vertical-align: top;\n    }\n\n    .dataframe thead th {\n        text-align: right;\n    }\n</style>\n<table border=\"1\" class=\"dataframe\">\n  <thead>\n    <tr style=\"text-align: right;\">\n      <th></th>\n      <th>output</th>\n      <th>temperature</th>\n      <th>humidity</th>\n      <th>ph</th>\n      <th>rainfall</th>\n      <th>label</th>\n      <th>target_output</th>\n    </tr>\n  </thead>\n  <tbody>\n    <tr>\n      <th>0</th>\n      <td>71</td>\n      <td>22.613600</td>\n      <td>63.690706</td>\n      <td>5.749914</td>\n      <td>87.759539</td>\n      <td>2</td>\n      <td>0</td>\n    </tr>\n    <tr>\n      <th>1</th>\n      <td>61</td>\n      <td>26.100184</td>\n      <td>71.574769</td>\n      <td>6.931757</td>\n      <td>102.266244</td>\n      <td>2</td>\n      <td>0</td>\n    </tr>\n    <tr>\n      <th>2</th>\n      <td>80</td>\n      <td>23.558821</td>\n      <td>71.593514</td>\n      <td>6.657965</td>\n      <td>66.719955</td>\n      <td>2</td>\n      <td>0</td>\n    </tr>\n    <tr>\n      <th>3</th>\n      <td>73</td>\n      <td>19.972160</td>\n      <td>57.682729</td>\n      <td>6.596061</td>\n      <td>60.651715</td>\n      <td>2</td>\n      <td>0</td>\n    </tr>\n    <tr>\n      <th>4</th>\n      <td>61</td>\n      <td>18.478913</td>\n      <td>62.695039</td>\n      <td>5.970458</td>\n      <td>65.438354</td>\n      <td>2</td>\n      <td>0</td>\n    </tr>\n    <tr>\n      <th>...</th>\n      <td>...</td>\n      <td>...</td>\n      <td>...</td>\n      <td>...</td>\n      <td>...</td>\n      <td>...</td>\n      <td>...</td>\n    </tr>\n    <tr>\n      <th>395</th>\n      <td>27</td>\n      <td>32.717485</td>\n      <td>90.546083</td>\n      <td>7.656978</td>\n      <td>113.328978</td>\n      <td>3</td>\n      <td>0</td>\n    </tr>\n    <tr>\n      <th>396</th>\n      <td>13</td>\n      <td>25.162966</td>\n      <td>92.547360</td>\n      <td>7.105905</td>\n      <td>114.311720</td>\n      <td>3</td>\n      <td>0</td>\n    </tr>\n    <tr>\n      <th>397</th>\n      <td>6</td>\n      <td>27.681673</td>\n      <td>94.473169</td>\n      <td>7.199106</td>\n      <td>113.999515</td>\n      <td>3</td>\n      <td>0</td>\n    </tr>\n    <tr>\n      <th>398</th>\n      <td>40</td>\n      <td>21.350934</td>\n      <td>90.949297</td>\n      <td>7.871063</td>\n      <td>107.086209</td>\n      <td>3</td>\n      <td>0</td>\n    </tr>\n    <tr>\n      <th>399</th>\n      <td>31</td>\n      <td>11.698946</td>\n      <td>93.256389</td>\n      <td>7.566166</td>\n      <td>103.200599</td>\n      <td>3</td>\n      <td>0</td>\n    </tr>\n  </tbody>\n</table>\n<p>400 rows × 7 columns</p>\n</div>"
     },
     "metadata": {},
     "execution_count": 14
    }
   ],
   "source": [
    "# Sanity check\n",
    "_fert_N"
   ]
  },
  {
   "cell_type": "code",
   "execution_count": 15,
   "metadata": {},
   "outputs": [
    {
     "output_type": "execute_result",
     "data": {
      "text/plain": [
       "     output  temperature   humidity        ph    rainfall  label  \\\n",
       "0        16    22.613600  63.690706  5.749914   87.759539      2   \n",
       "1        17    26.100184  71.574769  6.931757  102.266244      2   \n",
       "2        16    23.558821  71.593514  6.657965   66.719955      2   \n",
       "3        21    19.972160  57.682729  6.596061   60.651715      2   \n",
       "4        20    18.478913  62.695039  5.970458   65.438354      2   \n",
       "..      ...          ...        ...       ...         ...    ...   \n",
       "395       5    32.717485  90.546083  7.656978  113.328978      3   \n",
       "396      12    25.162966  92.547360  7.105905  114.311720      3   \n",
       "397       7    27.681673  94.473169  7.199106  113.999515      3   \n",
       "398      15    21.350934  90.949297  7.871063  107.086209      3   \n",
       "399       9    11.698946  93.256389  7.566166  103.200599      3   \n",
       "\n",
       "     target_output  \n",
       "0                2  \n",
       "1                2  \n",
       "2                2  \n",
       "3                2  \n",
       "4                2  \n",
       "..             ...  \n",
       "395              2  \n",
       "396              2  \n",
       "397              2  \n",
       "398              2  \n",
       "399              2  \n",
       "\n",
       "[400 rows x 7 columns]"
      ],
      "text/html": "<div>\n<style scoped>\n    .dataframe tbody tr th:only-of-type {\n        vertical-align: middle;\n    }\n\n    .dataframe tbody tr th {\n        vertical-align: top;\n    }\n\n    .dataframe thead th {\n        text-align: right;\n    }\n</style>\n<table border=\"1\" class=\"dataframe\">\n  <thead>\n    <tr style=\"text-align: right;\">\n      <th></th>\n      <th>output</th>\n      <th>temperature</th>\n      <th>humidity</th>\n      <th>ph</th>\n      <th>rainfall</th>\n      <th>label</th>\n      <th>target_output</th>\n    </tr>\n  </thead>\n  <tbody>\n    <tr>\n      <th>0</th>\n      <td>16</td>\n      <td>22.613600</td>\n      <td>63.690706</td>\n      <td>5.749914</td>\n      <td>87.759539</td>\n      <td>2</td>\n      <td>2</td>\n    </tr>\n    <tr>\n      <th>1</th>\n      <td>17</td>\n      <td>26.100184</td>\n      <td>71.574769</td>\n      <td>6.931757</td>\n      <td>102.266244</td>\n      <td>2</td>\n      <td>2</td>\n    </tr>\n    <tr>\n      <th>2</th>\n      <td>16</td>\n      <td>23.558821</td>\n      <td>71.593514</td>\n      <td>6.657965</td>\n      <td>66.719955</td>\n      <td>2</td>\n      <td>2</td>\n    </tr>\n    <tr>\n      <th>3</th>\n      <td>21</td>\n      <td>19.972160</td>\n      <td>57.682729</td>\n      <td>6.596061</td>\n      <td>60.651715</td>\n      <td>2</td>\n      <td>2</td>\n    </tr>\n    <tr>\n      <th>4</th>\n      <td>20</td>\n      <td>18.478913</td>\n      <td>62.695039</td>\n      <td>5.970458</td>\n      <td>65.438354</td>\n      <td>2</td>\n      <td>2</td>\n    </tr>\n    <tr>\n      <th>...</th>\n      <td>...</td>\n      <td>...</td>\n      <td>...</td>\n      <td>...</td>\n      <td>...</td>\n      <td>...</td>\n      <td>...</td>\n    </tr>\n    <tr>\n      <th>395</th>\n      <td>5</td>\n      <td>32.717485</td>\n      <td>90.546083</td>\n      <td>7.656978</td>\n      <td>113.328978</td>\n      <td>3</td>\n      <td>2</td>\n    </tr>\n    <tr>\n      <th>396</th>\n      <td>12</td>\n      <td>25.162966</td>\n      <td>92.547360</td>\n      <td>7.105905</td>\n      <td>114.311720</td>\n      <td>3</td>\n      <td>2</td>\n    </tr>\n    <tr>\n      <th>397</th>\n      <td>7</td>\n      <td>27.681673</td>\n      <td>94.473169</td>\n      <td>7.199106</td>\n      <td>113.999515</td>\n      <td>3</td>\n      <td>2</td>\n    </tr>\n    <tr>\n      <th>398</th>\n      <td>15</td>\n      <td>21.350934</td>\n      <td>90.949297</td>\n      <td>7.871063</td>\n      <td>107.086209</td>\n      <td>3</td>\n      <td>2</td>\n    </tr>\n    <tr>\n      <th>399</th>\n      <td>9</td>\n      <td>11.698946</td>\n      <td>93.256389</td>\n      <td>7.566166</td>\n      <td>103.200599</td>\n      <td>3</td>\n      <td>2</td>\n    </tr>\n  </tbody>\n</table>\n<p>400 rows × 7 columns</p>\n</div>"
     },
     "metadata": {},
     "execution_count": 15
    }
   ],
   "source": [
    "_fert_K"
   ]
  },
  {
   "cell_type": "code",
   "execution_count": 16,
   "metadata": {},
   "outputs": [
    {
     "output_type": "execute_result",
     "data": {
      "text/plain": [
       "      output  temperature   humidity        ph    rainfall  label  \\\n",
       "0         71    22.613600  63.690706  5.749914   87.759539      2   \n",
       "1         61    26.100184  71.574769  6.931757  102.266244      2   \n",
       "2         80    23.558821  71.593514  6.657965   66.719955      2   \n",
       "3         73    19.972160  57.682729  6.596061   60.651715      2   \n",
       "4         61    18.478913  62.695039  5.970458   65.438354      2   \n",
       "...      ...          ...        ...       ...         ...    ...   \n",
       "1195       5    32.717485  90.546083  7.656978  113.328978      3   \n",
       "1196      12    25.162966  92.547360  7.105905  114.311720      3   \n",
       "1197       7    27.681673  94.473169  7.199106  113.999515      3   \n",
       "1198      15    21.350934  90.949297  7.871063  107.086209      3   \n",
       "1199       9    11.698946  93.256389  7.566166  103.200599      3   \n",
       "\n",
       "      target_output  \n",
       "0                 0  \n",
       "1                 0  \n",
       "2                 0  \n",
       "3                 0  \n",
       "4                 0  \n",
       "...             ...  \n",
       "1195              2  \n",
       "1196              2  \n",
       "1197              2  \n",
       "1198              2  \n",
       "1199              2  \n",
       "\n",
       "[1200 rows x 7 columns]"
      ],
      "text/html": "<div>\n<style scoped>\n    .dataframe tbody tr th:only-of-type {\n        vertical-align: middle;\n    }\n\n    .dataframe tbody tr th {\n        vertical-align: top;\n    }\n\n    .dataframe thead th {\n        text-align: right;\n    }\n</style>\n<table border=\"1\" class=\"dataframe\">\n  <thead>\n    <tr style=\"text-align: right;\">\n      <th></th>\n      <th>output</th>\n      <th>temperature</th>\n      <th>humidity</th>\n      <th>ph</th>\n      <th>rainfall</th>\n      <th>label</th>\n      <th>target_output</th>\n    </tr>\n  </thead>\n  <tbody>\n    <tr>\n      <th>0</th>\n      <td>71</td>\n      <td>22.613600</td>\n      <td>63.690706</td>\n      <td>5.749914</td>\n      <td>87.759539</td>\n      <td>2</td>\n      <td>0</td>\n    </tr>\n    <tr>\n      <th>1</th>\n      <td>61</td>\n      <td>26.100184</td>\n      <td>71.574769</td>\n      <td>6.931757</td>\n      <td>102.266244</td>\n      <td>2</td>\n      <td>0</td>\n    </tr>\n    <tr>\n      <th>2</th>\n      <td>80</td>\n      <td>23.558821</td>\n      <td>71.593514</td>\n      <td>6.657965</td>\n      <td>66.719955</td>\n      <td>2</td>\n      <td>0</td>\n    </tr>\n    <tr>\n      <th>3</th>\n      <td>73</td>\n      <td>19.972160</td>\n      <td>57.682729</td>\n      <td>6.596061</td>\n      <td>60.651715</td>\n      <td>2</td>\n      <td>0</td>\n    </tr>\n    <tr>\n      <th>4</th>\n      <td>61</td>\n      <td>18.478913</td>\n      <td>62.695039</td>\n      <td>5.970458</td>\n      <td>65.438354</td>\n      <td>2</td>\n      <td>0</td>\n    </tr>\n    <tr>\n      <th>...</th>\n      <td>...</td>\n      <td>...</td>\n      <td>...</td>\n      <td>...</td>\n      <td>...</td>\n      <td>...</td>\n      <td>...</td>\n    </tr>\n    <tr>\n      <th>1195</th>\n      <td>5</td>\n      <td>32.717485</td>\n      <td>90.546083</td>\n      <td>7.656978</td>\n      <td>113.328978</td>\n      <td>3</td>\n      <td>2</td>\n    </tr>\n    <tr>\n      <th>1196</th>\n      <td>12</td>\n      <td>25.162966</td>\n      <td>92.547360</td>\n      <td>7.105905</td>\n      <td>114.311720</td>\n      <td>3</td>\n      <td>2</td>\n    </tr>\n    <tr>\n      <th>1197</th>\n      <td>7</td>\n      <td>27.681673</td>\n      <td>94.473169</td>\n      <td>7.199106</td>\n      <td>113.999515</td>\n      <td>3</td>\n      <td>2</td>\n    </tr>\n    <tr>\n      <th>1198</th>\n      <td>15</td>\n      <td>21.350934</td>\n      <td>90.949297</td>\n      <td>7.871063</td>\n      <td>107.086209</td>\n      <td>3</td>\n      <td>2</td>\n    </tr>\n    <tr>\n      <th>1199</th>\n      <td>9</td>\n      <td>11.698946</td>\n      <td>93.256389</td>\n      <td>7.566166</td>\n      <td>103.200599</td>\n      <td>3</td>\n      <td>2</td>\n    </tr>\n  </tbody>\n</table>\n<p>1200 rows × 7 columns</p>\n</div>"
     },
     "metadata": {},
     "execution_count": 16
    }
   ],
   "source": [
    "FERTILISER = _fert_N.copy()\n",
    "FERTILISER = FERTILISER.append(\n",
    "    _fert_P, \n",
    "    ignore_index=True).append(\n",
    "        _fert_K,\n",
    "        ignore_index=True\n",
    "    )\n",
    "\n",
    "FERTILISER"
   ]
  },
  {
   "cell_type": "code",
   "execution_count": 17,
   "metadata": {},
   "outputs": [
    {
     "output_type": "execute_result",
     "data": {
      "text/plain": [
       "            output  temperature     humidity           ph     rainfall  \\\n",
       "count  1200.000000  1200.000000  1200.000000  1200.000000  1200.000000   \n",
       "mean     75.238333    22.908862    82.867767     6.304437    94.377141   \n",
       "std      70.161186     6.253690    11.493721     0.588955    20.189610   \n",
       "min       0.000000     8.825675    55.282204     5.510925    60.651715   \n",
       "25%      17.000000    19.723364    78.719580     5.839879    71.424148   \n",
       "50%      39.000000    22.705257    86.994867     6.206827   102.626226   \n",
       "75%     135.000000    25.190546    92.049560     6.552920   111.777102   \n",
       "max     205.000000    41.948657    94.964199     7.995849   124.983162   \n",
       "\n",
       "           label  target_output  \n",
       "count  1200.0000    1200.000000  \n",
       "mean      1.5000       1.000000  \n",
       "std       1.1185       0.816837  \n",
       "min       0.0000       0.000000  \n",
       "25%       0.7500       0.000000  \n",
       "50%       1.5000       1.000000  \n",
       "75%       2.2500       2.000000  \n",
       "max       3.0000       2.000000  "
      ],
      "text/html": "<div>\n<style scoped>\n    .dataframe tbody tr th:only-of-type {\n        vertical-align: middle;\n    }\n\n    .dataframe tbody tr th {\n        vertical-align: top;\n    }\n\n    .dataframe thead th {\n        text-align: right;\n    }\n</style>\n<table border=\"1\" class=\"dataframe\">\n  <thead>\n    <tr style=\"text-align: right;\">\n      <th></th>\n      <th>output</th>\n      <th>temperature</th>\n      <th>humidity</th>\n      <th>ph</th>\n      <th>rainfall</th>\n      <th>label</th>\n      <th>target_output</th>\n    </tr>\n  </thead>\n  <tbody>\n    <tr>\n      <th>count</th>\n      <td>1200.000000</td>\n      <td>1200.000000</td>\n      <td>1200.000000</td>\n      <td>1200.000000</td>\n      <td>1200.000000</td>\n      <td>1200.0000</td>\n      <td>1200.000000</td>\n    </tr>\n    <tr>\n      <th>mean</th>\n      <td>75.238333</td>\n      <td>22.908862</td>\n      <td>82.867767</td>\n      <td>6.304437</td>\n      <td>94.377141</td>\n      <td>1.5000</td>\n      <td>1.000000</td>\n    </tr>\n    <tr>\n      <th>std</th>\n      <td>70.161186</td>\n      <td>6.253690</td>\n      <td>11.493721</td>\n      <td>0.588955</td>\n      <td>20.189610</td>\n      <td>1.1185</td>\n      <td>0.816837</td>\n    </tr>\n    <tr>\n      <th>min</th>\n      <td>0.000000</td>\n      <td>8.825675</td>\n      <td>55.282204</td>\n      <td>5.510925</td>\n      <td>60.651715</td>\n      <td>0.0000</td>\n      <td>0.000000</td>\n    </tr>\n    <tr>\n      <th>25%</th>\n      <td>17.000000</td>\n      <td>19.723364</td>\n      <td>78.719580</td>\n      <td>5.839879</td>\n      <td>71.424148</td>\n      <td>0.7500</td>\n      <td>0.000000</td>\n    </tr>\n    <tr>\n      <th>50%</th>\n      <td>39.000000</td>\n      <td>22.705257</td>\n      <td>86.994867</td>\n      <td>6.206827</td>\n      <td>102.626226</td>\n      <td>1.5000</td>\n      <td>1.000000</td>\n    </tr>\n    <tr>\n      <th>75%</th>\n      <td>135.000000</td>\n      <td>25.190546</td>\n      <td>92.049560</td>\n      <td>6.552920</td>\n      <td>111.777102</td>\n      <td>2.2500</td>\n      <td>2.000000</td>\n    </tr>\n    <tr>\n      <th>max</th>\n      <td>205.000000</td>\n      <td>41.948657</td>\n      <td>94.964199</td>\n      <td>7.995849</td>\n      <td>124.983162</td>\n      <td>3.0000</td>\n      <td>2.000000</td>\n    </tr>\n  </tbody>\n</table>\n</div>"
     },
     "metadata": {},
     "execution_count": 17
    }
   ],
   "source": [
    "# Data to see before deciding on normalisation: max values\n",
    "FERTILISER.describe()"
   ]
  },
  {
   "cell_type": "code",
   "execution_count": 18,
   "metadata": {},
   "outputs": [
    {
     "output_type": "execute_result",
     "data": {
      "text/plain": [
       "      output  temperature   humidity        ph    rainfall  label  \\\n",
       "0         71    22.613600  63.690706  5.749914   87.759539      2   \n",
       "1         61    26.100184  71.574769  6.931757  102.266244      2   \n",
       "2         80    23.558821  71.593514  6.657965   66.719955      2   \n",
       "3         73    19.972160  57.682729  6.596061   60.651715      2   \n",
       "4         61    18.478913  62.695039  5.970458   65.438354      2   \n",
       "...      ...          ...        ...       ...         ...    ...   \n",
       "1195       5    32.717485  90.546083  7.656978  113.328978      3   \n",
       "1196      12    25.162966  92.547360  7.105905  114.311720      3   \n",
       "1197       7    27.681673  94.473169  7.199106  113.999515      3   \n",
       "1198      15    21.350934  90.949297  7.871063  107.086209      3   \n",
       "1199       9    11.698946  93.256389  7.566166  103.200599      3   \n",
       "\n",
       "      target_output  \n",
       "0                 0  \n",
       "1                 0  \n",
       "2                 0  \n",
       "3                 0  \n",
       "4                 0  \n",
       "...             ...  \n",
       "1195              2  \n",
       "1196              2  \n",
       "1197              2  \n",
       "1198              2  \n",
       "1199              2  \n",
       "\n",
       "[1200 rows x 7 columns]"
      ],
      "text/html": "<div>\n<style scoped>\n    .dataframe tbody tr th:only-of-type {\n        vertical-align: middle;\n    }\n\n    .dataframe tbody tr th {\n        vertical-align: top;\n    }\n\n    .dataframe thead th {\n        text-align: right;\n    }\n</style>\n<table border=\"1\" class=\"dataframe\">\n  <thead>\n    <tr style=\"text-align: right;\">\n      <th></th>\n      <th>output</th>\n      <th>temperature</th>\n      <th>humidity</th>\n      <th>ph</th>\n      <th>rainfall</th>\n      <th>label</th>\n      <th>target_output</th>\n    </tr>\n  </thead>\n  <tbody>\n    <tr>\n      <th>0</th>\n      <td>71</td>\n      <td>22.613600</td>\n      <td>63.690706</td>\n      <td>5.749914</td>\n      <td>87.759539</td>\n      <td>2</td>\n      <td>0</td>\n    </tr>\n    <tr>\n      <th>1</th>\n      <td>61</td>\n      <td>26.100184</td>\n      <td>71.574769</td>\n      <td>6.931757</td>\n      <td>102.266244</td>\n      <td>2</td>\n      <td>0</td>\n    </tr>\n    <tr>\n      <th>2</th>\n      <td>80</td>\n      <td>23.558821</td>\n      <td>71.593514</td>\n      <td>6.657965</td>\n      <td>66.719955</td>\n      <td>2</td>\n      <td>0</td>\n    </tr>\n    <tr>\n      <th>3</th>\n      <td>73</td>\n      <td>19.972160</td>\n      <td>57.682729</td>\n      <td>6.596061</td>\n      <td>60.651715</td>\n      <td>2</td>\n      <td>0</td>\n    </tr>\n    <tr>\n      <th>4</th>\n      <td>61</td>\n      <td>18.478913</td>\n      <td>62.695039</td>\n      <td>5.970458</td>\n      <td>65.438354</td>\n      <td>2</td>\n      <td>0</td>\n    </tr>\n    <tr>\n      <th>...</th>\n      <td>...</td>\n      <td>...</td>\n      <td>...</td>\n      <td>...</td>\n      <td>...</td>\n      <td>...</td>\n      <td>...</td>\n    </tr>\n    <tr>\n      <th>1195</th>\n      <td>5</td>\n      <td>32.717485</td>\n      <td>90.546083</td>\n      <td>7.656978</td>\n      <td>113.328978</td>\n      <td>3</td>\n      <td>2</td>\n    </tr>\n    <tr>\n      <th>1196</th>\n      <td>12</td>\n      <td>25.162966</td>\n      <td>92.547360</td>\n      <td>7.105905</td>\n      <td>114.311720</td>\n      <td>3</td>\n      <td>2</td>\n    </tr>\n    <tr>\n      <th>1197</th>\n      <td>7</td>\n      <td>27.681673</td>\n      <td>94.473169</td>\n      <td>7.199106</td>\n      <td>113.999515</td>\n      <td>3</td>\n      <td>2</td>\n    </tr>\n    <tr>\n      <th>1198</th>\n      <td>15</td>\n      <td>21.350934</td>\n      <td>90.949297</td>\n      <td>7.871063</td>\n      <td>107.086209</td>\n      <td>3</td>\n      <td>2</td>\n    </tr>\n    <tr>\n      <th>1199</th>\n      <td>9</td>\n      <td>11.698946</td>\n      <td>93.256389</td>\n      <td>7.566166</td>\n      <td>103.200599</td>\n      <td>3</td>\n      <td>2</td>\n    </tr>\n  </tbody>\n</table>\n<p>1200 rows × 7 columns</p>\n</div>"
     },
     "metadata": {},
     "execution_count": 18
    }
   ],
   "source": [
    "FERTILISER.reset_index().drop('index', axis=1)"
   ]
  },
  {
   "cell_type": "code",
   "execution_count": 19,
   "metadata": {},
   "outputs": [
    {
     "output_type": "execute_result",
     "data": {
      "text/plain": [
       "output             int64\n",
       "temperature      float64\n",
       "humidity         float64\n",
       "ph               float64\n",
       "rainfall         float64\n",
       "label               int8\n",
       "target_output      int64\n",
       "dtype: object"
      ]
     },
     "metadata": {},
     "execution_count": 19
    }
   ],
   "source": [
    "FERTILISER.dtypes"
   ]
  },
  {
   "cell_type": "code",
   "execution_count": 20,
   "metadata": {},
   "outputs": [],
   "source": [
    "# manually normalise\n",
    "FERTILISER.loc[:, 'output'] = FERTILISER['output'] / 205\n",
    "FERTILISER.loc[:, 'temperature'] = FERTILISER['temperature'] / 42\n",
    "FERTILISER.loc[:, 'humidity'] = FERTILISER['humidity'] / 95\n",
    "FERTILISER.loc[:, 'ph'] = FERTILISER['ph'] / 8\n",
    "FERTILISER.loc[:, 'rainfall'] = FERTILISER['rainfall'] / 125"
   ]
  },
  {
   "cell_type": "code",
   "execution_count": 21,
   "metadata": {},
   "outputs": [
    {
     "output_type": "execute_result",
     "data": {
      "text/plain": [
       "        output  temperature  humidity        ph  rainfall  label  \\\n",
       "0     0.346341     0.538419  0.670428  0.718739  0.702076      2   \n",
       "1     0.297561     0.621433  0.753419  0.866470  0.818130      2   \n",
       "2     0.390244     0.560924  0.753616  0.832246  0.533760      2   \n",
       "3     0.356098     0.475528  0.607187  0.824508  0.485214      2   \n",
       "4     0.297561     0.439974  0.659948  0.746307  0.523507      2   \n",
       "...        ...          ...       ...       ...       ...    ...   \n",
       "1195  0.024390     0.778988  0.953117  0.957122  0.906632      3   \n",
       "1196  0.058537     0.599118  0.974183  0.888238  0.914494      3   \n",
       "1197  0.034146     0.659087  0.994454  0.899888  0.911996      3   \n",
       "1198  0.073171     0.508356  0.957361  0.983883  0.856690      3   \n",
       "1199  0.043902     0.278546  0.981646  0.945771  0.825605      3   \n",
       "\n",
       "      target_output  \n",
       "0                 0  \n",
       "1                 0  \n",
       "2                 0  \n",
       "3                 0  \n",
       "4                 0  \n",
       "...             ...  \n",
       "1195              2  \n",
       "1196              2  \n",
       "1197              2  \n",
       "1198              2  \n",
       "1199              2  \n",
       "\n",
       "[1200 rows x 7 columns]"
      ],
      "text/html": "<div>\n<style scoped>\n    .dataframe tbody tr th:only-of-type {\n        vertical-align: middle;\n    }\n\n    .dataframe tbody tr th {\n        vertical-align: top;\n    }\n\n    .dataframe thead th {\n        text-align: right;\n    }\n</style>\n<table border=\"1\" class=\"dataframe\">\n  <thead>\n    <tr style=\"text-align: right;\">\n      <th></th>\n      <th>output</th>\n      <th>temperature</th>\n      <th>humidity</th>\n      <th>ph</th>\n      <th>rainfall</th>\n      <th>label</th>\n      <th>target_output</th>\n    </tr>\n  </thead>\n  <tbody>\n    <tr>\n      <th>0</th>\n      <td>0.346341</td>\n      <td>0.538419</td>\n      <td>0.670428</td>\n      <td>0.718739</td>\n      <td>0.702076</td>\n      <td>2</td>\n      <td>0</td>\n    </tr>\n    <tr>\n      <th>1</th>\n      <td>0.297561</td>\n      <td>0.621433</td>\n      <td>0.753419</td>\n      <td>0.866470</td>\n      <td>0.818130</td>\n      <td>2</td>\n      <td>0</td>\n    </tr>\n    <tr>\n      <th>2</th>\n      <td>0.390244</td>\n      <td>0.560924</td>\n      <td>0.753616</td>\n      <td>0.832246</td>\n      <td>0.533760</td>\n      <td>2</td>\n      <td>0</td>\n    </tr>\n    <tr>\n      <th>3</th>\n      <td>0.356098</td>\n      <td>0.475528</td>\n      <td>0.607187</td>\n      <td>0.824508</td>\n      <td>0.485214</td>\n      <td>2</td>\n      <td>0</td>\n    </tr>\n    <tr>\n      <th>4</th>\n      <td>0.297561</td>\n      <td>0.439974</td>\n      <td>0.659948</td>\n      <td>0.746307</td>\n      <td>0.523507</td>\n      <td>2</td>\n      <td>0</td>\n    </tr>\n    <tr>\n      <th>...</th>\n      <td>...</td>\n      <td>...</td>\n      <td>...</td>\n      <td>...</td>\n      <td>...</td>\n      <td>...</td>\n      <td>...</td>\n    </tr>\n    <tr>\n      <th>1195</th>\n      <td>0.024390</td>\n      <td>0.778988</td>\n      <td>0.953117</td>\n      <td>0.957122</td>\n      <td>0.906632</td>\n      <td>3</td>\n      <td>2</td>\n    </tr>\n    <tr>\n      <th>1196</th>\n      <td>0.058537</td>\n      <td>0.599118</td>\n      <td>0.974183</td>\n      <td>0.888238</td>\n      <td>0.914494</td>\n      <td>3</td>\n      <td>2</td>\n    </tr>\n    <tr>\n      <th>1197</th>\n      <td>0.034146</td>\n      <td>0.659087</td>\n      <td>0.994454</td>\n      <td>0.899888</td>\n      <td>0.911996</td>\n      <td>3</td>\n      <td>2</td>\n    </tr>\n    <tr>\n      <th>1198</th>\n      <td>0.073171</td>\n      <td>0.508356</td>\n      <td>0.957361</td>\n      <td>0.983883</td>\n      <td>0.856690</td>\n      <td>3</td>\n      <td>2</td>\n    </tr>\n    <tr>\n      <th>1199</th>\n      <td>0.043902</td>\n      <td>0.278546</td>\n      <td>0.981646</td>\n      <td>0.945771</td>\n      <td>0.825605</td>\n      <td>3</td>\n      <td>2</td>\n    </tr>\n  </tbody>\n</table>\n<p>1200 rows × 7 columns</p>\n</div>"
     },
     "metadata": {},
     "execution_count": 21
    }
   ],
   "source": [
    "FERTILISER"
   ]
  },
  {
   "cell_type": "code",
   "execution_count": 22,
   "metadata": {},
   "outputs": [],
   "source": [
    "FERTILISER = FERTILISER.sample(frac=1).reset_index().drop('index', axis=1)\n",
    "\n",
    "FERTILISER_FEATURES = FERTILISER.copy().reset_index().drop('index', axis=1)\n",
    "FERTILISER_LABEL = FERTILISER_FEATURES.pop('output')\n",
    "\n",
    "FERTILISER_TRAIN = FERTILISER.loc[:int(len(FERTILISER) * TRAIN_SPLIT)].reset_index().drop('index', axis=1)\n",
    "FERTILISER_TEST = FERTILISER.loc[int(len(FERTILISER) * TRAIN_SPLIT):].reset_index().drop('index', axis=1)\n",
    "\n",
    "FERTILISER_TRAIN_FEATURES = FERTILISER_TRAIN.copy()\n",
    "FERTILISER_TEST_FEATURES = FERTILISER_TEST.copy()\n",
    "\n",
    "FERTILISER_TRAIN_LABEL = FERTILISER_TRAIN_FEATURES.pop('output')\n",
    "FERTILISER_TEST_LABEL = FERTILISER_TEST_FEATURES.pop('output')"
   ]
  },
  {
   "cell_type": "code",
   "execution_count": 23,
   "metadata": {},
   "outputs": [
    {
     "output_type": "execute_result",
     "data": {
      "text/plain": [
       "       output  temperature  humidity        ph  rainfall  label  target_output\n",
       "0    0.668293     0.539035  0.949311  0.712243  0.866725      0              1\n",
       "1    0.039024     0.831111  0.977665  0.927345  0.817525      3              2\n",
       "2    0.624390     0.501732  0.984904  0.755132  0.862990      0              1\n",
       "3    0.092683     0.554847  0.775005  0.734155  0.780727      2              2\n",
       "4    0.068293     0.390387  0.970332  0.828192  0.823553      3              2\n",
       "..        ...          ...       ...       ...       ...    ...            ...\n",
       "956  0.170732     0.236903  0.868962  0.730142  0.528065      1              0\n",
       "957  0.180488     0.561904  0.957642  0.699556  0.857383      0              0\n",
       "958  0.097561     0.609930  0.668118  0.822052  0.870643      2              2\n",
       "959  0.107317     0.521712  0.965131  0.812403  0.936609      0              0\n",
       "960  0.039024     0.599118  0.974183  0.888238  0.914494      3              1\n",
       "\n",
       "[961 rows x 7 columns]"
      ],
      "text/html": "<div>\n<style scoped>\n    .dataframe tbody tr th:only-of-type {\n        vertical-align: middle;\n    }\n\n    .dataframe tbody tr th {\n        vertical-align: top;\n    }\n\n    .dataframe thead th {\n        text-align: right;\n    }\n</style>\n<table border=\"1\" class=\"dataframe\">\n  <thead>\n    <tr style=\"text-align: right;\">\n      <th></th>\n      <th>output</th>\n      <th>temperature</th>\n      <th>humidity</th>\n      <th>ph</th>\n      <th>rainfall</th>\n      <th>label</th>\n      <th>target_output</th>\n    </tr>\n  </thead>\n  <tbody>\n    <tr>\n      <th>0</th>\n      <td>0.668293</td>\n      <td>0.539035</td>\n      <td>0.949311</td>\n      <td>0.712243</td>\n      <td>0.866725</td>\n      <td>0</td>\n      <td>1</td>\n    </tr>\n    <tr>\n      <th>1</th>\n      <td>0.039024</td>\n      <td>0.831111</td>\n      <td>0.977665</td>\n      <td>0.927345</td>\n      <td>0.817525</td>\n      <td>3</td>\n      <td>2</td>\n    </tr>\n    <tr>\n      <th>2</th>\n      <td>0.624390</td>\n      <td>0.501732</td>\n      <td>0.984904</td>\n      <td>0.755132</td>\n      <td>0.862990</td>\n      <td>0</td>\n      <td>1</td>\n    </tr>\n    <tr>\n      <th>3</th>\n      <td>0.092683</td>\n      <td>0.554847</td>\n      <td>0.775005</td>\n      <td>0.734155</td>\n      <td>0.780727</td>\n      <td>2</td>\n      <td>2</td>\n    </tr>\n    <tr>\n      <th>4</th>\n      <td>0.068293</td>\n      <td>0.390387</td>\n      <td>0.970332</td>\n      <td>0.828192</td>\n      <td>0.823553</td>\n      <td>3</td>\n      <td>2</td>\n    </tr>\n    <tr>\n      <th>...</th>\n      <td>...</td>\n      <td>...</td>\n      <td>...</td>\n      <td>...</td>\n      <td>...</td>\n      <td>...</td>\n      <td>...</td>\n    </tr>\n    <tr>\n      <th>956</th>\n      <td>0.170732</td>\n      <td>0.236903</td>\n      <td>0.868962</td>\n      <td>0.730142</td>\n      <td>0.528065</td>\n      <td>1</td>\n      <td>0</td>\n    </tr>\n    <tr>\n      <th>957</th>\n      <td>0.180488</td>\n      <td>0.561904</td>\n      <td>0.957642</td>\n      <td>0.699556</td>\n      <td>0.857383</td>\n      <td>0</td>\n      <td>0</td>\n    </tr>\n    <tr>\n      <th>958</th>\n      <td>0.097561</td>\n      <td>0.609930</td>\n      <td>0.668118</td>\n      <td>0.822052</td>\n      <td>0.870643</td>\n      <td>2</td>\n      <td>2</td>\n    </tr>\n    <tr>\n      <th>959</th>\n      <td>0.107317</td>\n      <td>0.521712</td>\n      <td>0.965131</td>\n      <td>0.812403</td>\n      <td>0.936609</td>\n      <td>0</td>\n      <td>0</td>\n    </tr>\n    <tr>\n      <th>960</th>\n      <td>0.039024</td>\n      <td>0.599118</td>\n      <td>0.974183</td>\n      <td>0.888238</td>\n      <td>0.914494</td>\n      <td>3</td>\n      <td>1</td>\n    </tr>\n  </tbody>\n</table>\n<p>961 rows × 7 columns</p>\n</div>"
     },
     "metadata": {},
     "execution_count": 23
    }
   ],
   "source": [
    "# Check if they're balanced or not\n",
    "FERTILISER_TRAIN"
   ]
  },
  {
   "cell_type": "code",
   "execution_count": 24,
   "metadata": {},
   "outputs": [
    {
     "output_type": "execute_result",
     "data": {
      "text/plain": [
       "       output  temperature  humidity        ph  rainfall  label  target_output\n",
       "0    0.039024     0.599118  0.974183  0.888238  0.914494      3              1\n",
       "1    0.156098     0.937405  0.855300  0.766227  0.592648      1              0\n",
       "2    1.000000     0.225428  0.866246  0.725030  0.528221      1              2\n",
       "3    0.107317     0.435324  0.701679  0.853650  0.647806      2              2\n",
       "4    0.687805     0.500297  0.854519  0.764937  0.531076      1              1\n",
       "..        ...          ...       ...       ...       ...    ...            ...\n",
       "235  0.600000     0.532531  0.955639  0.717457  0.999865      0              1\n",
       "236  0.121951     0.441074  0.726607  0.721682  0.704819      2              2\n",
       "237  0.034146     0.821777  0.985664  0.895406  0.828548      3              2\n",
       "238  0.068293     0.796765  0.882815  0.695349  0.543376      1              0\n",
       "239  0.404878     0.612630  0.744709  0.859734  0.789902      2              0\n",
       "\n",
       "[240 rows x 7 columns]"
      ],
      "text/html": "<div>\n<style scoped>\n    .dataframe tbody tr th:only-of-type {\n        vertical-align: middle;\n    }\n\n    .dataframe tbody tr th {\n        vertical-align: top;\n    }\n\n    .dataframe thead th {\n        text-align: right;\n    }\n</style>\n<table border=\"1\" class=\"dataframe\">\n  <thead>\n    <tr style=\"text-align: right;\">\n      <th></th>\n      <th>output</th>\n      <th>temperature</th>\n      <th>humidity</th>\n      <th>ph</th>\n      <th>rainfall</th>\n      <th>label</th>\n      <th>target_output</th>\n    </tr>\n  </thead>\n  <tbody>\n    <tr>\n      <th>0</th>\n      <td>0.039024</td>\n      <td>0.599118</td>\n      <td>0.974183</td>\n      <td>0.888238</td>\n      <td>0.914494</td>\n      <td>3</td>\n      <td>1</td>\n    </tr>\n    <tr>\n      <th>1</th>\n      <td>0.156098</td>\n      <td>0.937405</td>\n      <td>0.855300</td>\n      <td>0.766227</td>\n      <td>0.592648</td>\n      <td>1</td>\n      <td>0</td>\n    </tr>\n    <tr>\n      <th>2</th>\n      <td>1.000000</td>\n      <td>0.225428</td>\n      <td>0.866246</td>\n      <td>0.725030</td>\n      <td>0.528221</td>\n      <td>1</td>\n      <td>2</td>\n    </tr>\n    <tr>\n      <th>3</th>\n      <td>0.107317</td>\n      <td>0.435324</td>\n      <td>0.701679</td>\n      <td>0.853650</td>\n      <td>0.647806</td>\n      <td>2</td>\n      <td>2</td>\n    </tr>\n    <tr>\n      <th>4</th>\n      <td>0.687805</td>\n      <td>0.500297</td>\n      <td>0.854519</td>\n      <td>0.764937</td>\n      <td>0.531076</td>\n      <td>1</td>\n      <td>1</td>\n    </tr>\n    <tr>\n      <th>...</th>\n      <td>...</td>\n      <td>...</td>\n      <td>...</td>\n      <td>...</td>\n      <td>...</td>\n      <td>...</td>\n      <td>...</td>\n    </tr>\n    <tr>\n      <th>235</th>\n      <td>0.600000</td>\n      <td>0.532531</td>\n      <td>0.955639</td>\n      <td>0.717457</td>\n      <td>0.999865</td>\n      <td>0</td>\n      <td>1</td>\n    </tr>\n    <tr>\n      <th>236</th>\n      <td>0.121951</td>\n      <td>0.441074</td>\n      <td>0.726607</td>\n      <td>0.721682</td>\n      <td>0.704819</td>\n      <td>2</td>\n      <td>2</td>\n    </tr>\n    <tr>\n      <th>237</th>\n      <td>0.034146</td>\n      <td>0.821777</td>\n      <td>0.985664</td>\n      <td>0.895406</td>\n      <td>0.828548</td>\n      <td>3</td>\n      <td>2</td>\n    </tr>\n    <tr>\n      <th>238</th>\n      <td>0.068293</td>\n      <td>0.796765</td>\n      <td>0.882815</td>\n      <td>0.695349</td>\n      <td>0.543376</td>\n      <td>1</td>\n      <td>0</td>\n    </tr>\n    <tr>\n      <th>239</th>\n      <td>0.404878</td>\n      <td>0.612630</td>\n      <td>0.744709</td>\n      <td>0.859734</td>\n      <td>0.789902</td>\n      <td>2</td>\n      <td>0</td>\n    </tr>\n  </tbody>\n</table>\n<p>240 rows × 7 columns</p>\n</div>"
     },
     "metadata": {},
     "execution_count": 24
    }
   ],
   "source": [
    "FERTILISER_TEST"
   ]
  },
  {
   "cell_type": "code",
   "execution_count": 25,
   "metadata": {},
   "outputs": [],
   "source": [
    "import seaborn as sns\n",
    "#sns.pairplot(FERTILISER_TRAIN)"
   ]
  },
  {
   "cell_type": "code",
   "execution_count": 26,
   "metadata": {
    "tags": []
   },
   "outputs": [
    {
     "output_type": "stream",
     "name": "stdout",
     "text": [
      "INFO:tensorflow:Enabling eager execution\n",
      "INFO:tensorflow:Enabling v2 tensorshape\n",
      "INFO:tensorflow:Enabling resource variables\n",
      "INFO:tensorflow:Enabling tensor equality\n",
      "INFO:tensorflow:Enabling control flow v2\n"
     ]
    }
   ],
   "source": [
    "import tensorflow as tf\n",
    "#fertiliser_train = df_to_dataset(FERTILISER_TRAIN)\n",
    "#fertiliser_test = df_to_dataset(FERTILISER_TEST)\n",
    "#dataset = dataset.shuffle(len(_fert)).batch(1)"
   ]
  },
  {
   "cell_type": "code",
   "execution_count": 104,
   "metadata": {},
   "outputs": [],
   "source": [
    "# Create a tf.Dataset\n",
    "train_features = np.array(FERTILISER_TRAIN_FEATURES)\n",
    "train_labels = np.array(FERTILISER_TRAIN_LABEL)\n",
    "\n",
    "test_features = np.array(FERTILISER_TEST_FEATURES)\n",
    "test_labels = np.array(FERTILISER_TEST_LABEL)"
   ]
  },
  {
   "cell_type": "code",
   "execution_count": 28,
   "metadata": {},
   "outputs": [
    {
     "output_type": "execute_result",
     "data": {
      "text/plain": [
       "array([0.53903487, 0.9493107 , 0.71224319, 0.8667247 , 0.        ,\n",
       "       1.        ])"
      ]
     },
     "metadata": {},
     "execution_count": 28
    }
   ],
   "source": [
    "dataset_features[0]"
   ]
  },
  {
   "cell_type": "code",
   "execution_count": 105,
   "metadata": {},
   "outputs": [],
   "source": [
    "tf.keras.backend.clear_session()\n",
    "tf.random.set_seed(51)\n",
    "np.random.seed(51)\n",
    "\n",
    "tf.keras.backend.clear_session()\n",
    "\n",
    "# Define model\n",
    "predict_fert = tf.keras.Sequential([\n",
    "    tf.keras.layers.Dense(64, activation=tf.nn.relu),\n",
    "    tf.keras.layers.Dense(1, activation=tf.nn.relu)\n",
    "])\n",
    "\n",
    "#predict_fert.summary()"
   ]
  },
  {
   "cell_type": "code",
   "execution_count": 106,
   "metadata": {
    "tags": [
     "outputPrepend"
    ]
   },
   "outputs": [
    {
     "output_type": "stream",
     "name": "stdout",
     "text": [
      "[==============================] - 0s 3ms/step - loss: 0.0036 - accuracy: 0.0215 - val_loss: 0.0030 - val_accuracy: 0.0167\n",
      "Epoch 162/300\n",
      "31/31 [==============================] - 0s 3ms/step - loss: 0.0030 - accuracy: 0.0186 - val_loss: 0.0030 - val_accuracy: 0.0167\n",
      "Epoch 163/300\n",
      "31/31 [==============================] - 0s 3ms/step - loss: 0.0028 - accuracy: 0.0203 - val_loss: 0.0029 - val_accuracy: 0.0167\n",
      "Epoch 164/300\n",
      "31/31 [==============================] - 0s 3ms/step - loss: 0.0031 - accuracy: 0.0174 - val_loss: 0.0029 - val_accuracy: 0.0167\n",
      "Epoch 165/300\n",
      "31/31 [==============================] - 0s 3ms/step - loss: 0.0030 - accuracy: 0.0245 - val_loss: 0.0029 - val_accuracy: 0.0167\n",
      "Epoch 166/300\n",
      "31/31 [==============================] - 0s 3ms/step - loss: 0.0029 - accuracy: 0.0224 - val_loss: 0.0030 - val_accuracy: 0.0167\n",
      "Epoch 167/300\n",
      "31/31 [==============================] - 0s 3ms/step - loss: 0.0030 - accuracy: 0.0204 - val_loss: 0.0029 - val_accuracy: 0.0167\n",
      "Epoch 168/300\n",
      "31/31 [==============================] - 0s 3ms/step - loss: 0.0029 - accuracy: 0.0291 - val_loss: 0.0029 - val_accuracy: 0.0167\n",
      "Epoch 169/300\n",
      "31/31 [==============================] - 0s 3ms/step - loss: 0.0031 - accuracy: 0.0271 - val_loss: 0.0029 - val_accuracy: 0.0167\n",
      "Epoch 170/300\n",
      "31/31 [==============================] - 0s 3ms/step - loss: 0.0029 - accuracy: 0.0259 - val_loss: 0.0029 - val_accuracy: 0.0167\n",
      "Epoch 171/300\n",
      "31/31 [==============================] - 0s 3ms/step - loss: 0.0030 - accuracy: 0.0273 - val_loss: 0.0029 - val_accuracy: 0.0167\n",
      "Epoch 172/300\n",
      "31/31 [==============================] - 0s 4ms/step - loss: 0.0028 - accuracy: 0.0236 - val_loss: 0.0029 - val_accuracy: 0.0167\n",
      "Epoch 173/300\n",
      "31/31 [==============================] - 0s 3ms/step - loss: 0.0031 - accuracy: 0.0205 - val_loss: 0.0030 - val_accuracy: 0.0167\n",
      "Epoch 174/300\n",
      "31/31 [==============================] - 0s 3ms/step - loss: 0.0030 - accuracy: 0.0165 - val_loss: 0.0029 - val_accuracy: 0.0167\n",
      "Epoch 175/300\n",
      "31/31 [==============================] - 0s 3ms/step - loss: 0.0030 - accuracy: 0.0226 - val_loss: 0.0029 - val_accuracy: 0.0167\n",
      "Epoch 176/300\n",
      "31/31 [==============================] - 0s 3ms/step - loss: 0.0027 - accuracy: 0.0178 - val_loss: 0.0029 - val_accuracy: 0.0167\n",
      "Epoch 177/300\n",
      "31/31 [==============================] - 0s 3ms/step - loss: 0.0032 - accuracy: 0.0209 - val_loss: 0.0029 - val_accuracy: 0.0167\n",
      "Epoch 178/300\n",
      "31/31 [==============================] - 0s 3ms/step - loss: 0.0031 - accuracy: 0.0206 - val_loss: 0.0029 - val_accuracy: 0.0167\n",
      "Epoch 179/300\n",
      "31/31 [==============================] - 0s 3ms/step - loss: 0.0030 - accuracy: 0.0203 - val_loss: 0.0029 - val_accuracy: 0.0167\n",
      "Epoch 180/300\n",
      "31/31 [==============================] - 0s 3ms/step - loss: 0.0029 - accuracy: 0.0274 - val_loss: 0.0029 - val_accuracy: 0.0167\n",
      "Epoch 181/300\n",
      "31/31 [==============================] - 0s 3ms/step - loss: 0.0028 - accuracy: 0.0239 - val_loss: 0.0029 - val_accuracy: 0.0167\n",
      "Epoch 182/300\n",
      "31/31 [==============================] - 0s 3ms/step - loss: 0.0030 - accuracy: 0.0225 - val_loss: 0.0029 - val_accuracy: 0.0167\n",
      "Epoch 183/300\n",
      "31/31 [==============================] - 0s 3ms/step - loss: 0.0030 - accuracy: 0.0165 - val_loss: 0.0029 - val_accuracy: 0.0167\n",
      "Epoch 184/300\n",
      "31/31 [==============================] - 0s 3ms/step - loss: 0.0029 - accuracy: 0.0188 - val_loss: 0.0029 - val_accuracy: 0.0167\n",
      "Epoch 185/300\n",
      "31/31 [==============================] - 0s 3ms/step - loss: 0.0030 - accuracy: 0.0213 - val_loss: 0.0029 - val_accuracy: 0.0167\n",
      "Epoch 186/300\n",
      "31/31 [==============================] - 0s 3ms/step - loss: 0.0028 - accuracy: 0.0189 - val_loss: 0.0028 - val_accuracy: 0.0167\n",
      "Epoch 187/300\n",
      "31/31 [==============================] - 0s 3ms/step - loss: 0.0026 - accuracy: 0.0141 - val_loss: 0.0028 - val_accuracy: 0.0167\n",
      "Epoch 188/300\n",
      "31/31 [==============================] - 0s 3ms/step - loss: 0.0028 - accuracy: 0.0155 - val_loss: 0.0028 - val_accuracy: 0.0167\n",
      "Epoch 189/300\n",
      "31/31 [==============================] - 0s 3ms/step - loss: 0.0027 - accuracy: 0.0236 - val_loss: 0.0028 - val_accuracy: 0.0167\n",
      "Epoch 190/300\n",
      "31/31 [==============================] - 0s 3ms/step - loss: 0.0028 - accuracy: 0.0211 - val_loss: 0.0028 - val_accuracy: 0.0167\n",
      "Epoch 191/300\n",
      "31/31 [==============================] - 0s 3ms/step - loss: 0.0027 - accuracy: 0.0325 - val_loss: 0.0028 - val_accuracy: 0.0167\n",
      "Epoch 192/300\n",
      "31/31 [==============================] - 0s 3ms/step - loss: 0.0030 - accuracy: 0.0251 - val_loss: 0.0028 - val_accuracy: 0.0167\n",
      "Epoch 193/300\n",
      "31/31 [==============================] - 0s 3ms/step - loss: 0.0029 - accuracy: 0.0226 - val_loss: 0.0028 - val_accuracy: 0.0167\n",
      "Epoch 194/300\n",
      "31/31 [==============================] - 0s 3ms/step - loss: 0.0027 - accuracy: 0.0155 - val_loss: 0.0028 - val_accuracy: 0.0167\n",
      "Epoch 195/300\n",
      "31/31 [==============================] - 0s 3ms/step - loss: 0.0028 - accuracy: 0.0236 - val_loss: 0.0028 - val_accuracy: 0.0167\n",
      "Epoch 196/300\n",
      "31/31 [==============================] - 0s 3ms/step - loss: 0.0028 - accuracy: 0.0237 - val_loss: 0.0028 - val_accuracy: 0.0167\n",
      "Epoch 197/300\n",
      "31/31 [==============================] - 0s 3ms/step - loss: 0.0027 - accuracy: 0.0181 - val_loss: 0.0028 - val_accuracy: 0.0167\n",
      "Epoch 198/300\n",
      "31/31 [==============================] - 0s 3ms/step - loss: 0.0026 - accuracy: 0.0240 - val_loss: 0.0028 - val_accuracy: 0.0167\n",
      "Epoch 199/300\n",
      "31/31 [==============================] - 0s 3ms/step - loss: 0.0029 - accuracy: 0.0223 - val_loss: 0.0028 - val_accuracy: 0.0167\n",
      "Epoch 200/300\n",
      "31/31 [==============================] - 0s 3ms/step - loss: 0.0029 - accuracy: 0.0208 - val_loss: 0.0028 - val_accuracy: 0.0167\n",
      "Epoch 201/300\n",
      "31/31 [==============================] - 0s 3ms/step - loss: 0.0029 - accuracy: 0.0223 - val_loss: 0.0028 - val_accuracy: 0.0167\n",
      "Epoch 202/300\n",
      "31/31 [==============================] - 0s 3ms/step - loss: 0.0027 - accuracy: 0.0244 - val_loss: 0.0028 - val_accuracy: 0.0167\n",
      "Epoch 203/300\n",
      "31/31 [==============================] - 0s 3ms/step - loss: 0.0027 - accuracy: 0.0241 - val_loss: 0.0028 - val_accuracy: 0.0167\n",
      "Epoch 204/300\n",
      "31/31 [==============================] - 0s 3ms/step - loss: 0.0029 - accuracy: 0.0200 - val_loss: 0.0029 - val_accuracy: 0.0167\n",
      "Epoch 205/300\n",
      "31/31 [==============================] - 0s 4ms/step - loss: 0.0030 - accuracy: 0.0255 - val_loss: 0.0028 - val_accuracy: 0.0167\n",
      "Epoch 206/300\n",
      "31/31 [==============================] - 0s 3ms/step - loss: 0.0029 - accuracy: 0.0287 - val_loss: 0.0028 - val_accuracy: 0.0167\n",
      "Epoch 207/300\n",
      "31/31 [==============================] - 0s 3ms/step - loss: 0.0029 - accuracy: 0.0187 - val_loss: 0.0028 - val_accuracy: 0.0167\n",
      "Epoch 208/300\n",
      "31/31 [==============================] - 0s 3ms/step - loss: 0.0026 - accuracy: 0.0261 - val_loss: 0.0027 - val_accuracy: 0.0167\n",
      "Epoch 209/300\n",
      "31/31 [==============================] - 0s 4ms/step - loss: 0.0029 - accuracy: 0.0205 - val_loss: 0.0028 - val_accuracy: 0.0167\n",
      "Epoch 210/300\n",
      "31/31 [==============================] - 0s 3ms/step - loss: 0.0027 - accuracy: 0.0257 - val_loss: 0.0027 - val_accuracy: 0.0167\n",
      "Epoch 211/300\n",
      "31/31 [==============================] - 0s 3ms/step - loss: 0.0028 - accuracy: 0.0229 - val_loss: 0.0027 - val_accuracy: 0.0167\n",
      "Epoch 212/300\n",
      "31/31 [==============================] - 0s 3ms/step - loss: 0.0028 - accuracy: 0.0223 - val_loss: 0.0027 - val_accuracy: 0.0167\n",
      "Epoch 213/300\n",
      "31/31 [==============================] - 0s 3ms/step - loss: 0.0026 - accuracy: 0.0146 - val_loss: 0.0027 - val_accuracy: 0.0167\n",
      "Epoch 214/300\n",
      "31/31 [==============================] - 0s 3ms/step - loss: 0.0026 - accuracy: 0.0257 - val_loss: 0.0027 - val_accuracy: 0.0167\n",
      "Epoch 215/300\n",
      "31/31 [==============================] - 0s 3ms/step - loss: 0.0028 - accuracy: 0.0227 - val_loss: 0.0028 - val_accuracy: 0.0167\n",
      "Epoch 216/300\n",
      "31/31 [==============================] - 0s 3ms/step - loss: 0.0033 - accuracy: 0.0261 - val_loss: 0.0028 - val_accuracy: 0.0167\n",
      "Epoch 217/300\n",
      "31/31 [==============================] - 0s 3ms/step - loss: 0.0028 - accuracy: 0.0272 - val_loss: 0.0027 - val_accuracy: 0.0167\n",
      "Epoch 218/300\n",
      "31/31 [==============================] - 0s 3ms/step - loss: 0.0029 - accuracy: 0.0197 - val_loss: 0.0027 - val_accuracy: 0.0167\n",
      "Epoch 219/300\n",
      "31/31 [==============================] - 0s 3ms/step - loss: 0.0028 - accuracy: 0.0295 - val_loss: 0.0027 - val_accuracy: 0.0167\n",
      "Epoch 220/300\n",
      "31/31 [==============================] - 0s 3ms/step - loss: 0.0027 - accuracy: 0.0127 - val_loss: 0.0027 - val_accuracy: 0.0167\n",
      "Epoch 221/300\n",
      "31/31 [==============================] - 0s 3ms/step - loss: 0.0029 - accuracy: 0.0238 - val_loss: 0.0027 - val_accuracy: 0.0167\n",
      "Epoch 222/300\n",
      "31/31 [==============================] - 0s 3ms/step - loss: 0.0027 - accuracy: 0.0254 - val_loss: 0.0027 - val_accuracy: 0.0167\n",
      "Epoch 223/300\n",
      "31/31 [==============================] - 0s 3ms/step - loss: 0.0028 - accuracy: 0.0241 - val_loss: 0.0027 - val_accuracy: 0.0167\n",
      "Epoch 224/300\n",
      "31/31 [==============================] - 0s 3ms/step - loss: 0.0027 - accuracy: 0.0226 - val_loss: 0.0027 - val_accuracy: 0.0167\n",
      "Epoch 225/300\n",
      "31/31 [==============================] - 0s 3ms/step - loss: 0.0027 - accuracy: 0.0181 - val_loss: 0.0027 - val_accuracy: 0.0167\n",
      "Epoch 226/300\n",
      "31/31 [==============================] - 0s 3ms/step - loss: 0.0026 - accuracy: 0.0224 - val_loss: 0.0027 - val_accuracy: 0.0167\n",
      "Epoch 227/300\n",
      "31/31 [==============================] - 0s 3ms/step - loss: 0.0027 - accuracy: 0.0280 - val_loss: 0.0027 - val_accuracy: 0.0167\n",
      "Epoch 228/300\n",
      "31/31 [==============================] - 0s 3ms/step - loss: 0.0027 - accuracy: 0.0228 - val_loss: 0.0027 - val_accuracy: 0.0167\n",
      "Epoch 229/300\n",
      "31/31 [==============================] - 0s 3ms/step - loss: 0.0027 - accuracy: 0.0172 - val_loss: 0.0027 - val_accuracy: 0.0167\n",
      "Epoch 230/300\n",
      "31/31 [==============================] - 0s 3ms/step - loss: 0.0027 - accuracy: 0.0190 - val_loss: 0.0027 - val_accuracy: 0.0167\n",
      "Epoch 231/300\n",
      "31/31 [==============================] - 0s 3ms/step - loss: 0.0028 - accuracy: 0.0203 - val_loss: 0.0027 - val_accuracy: 0.0167\n",
      "Epoch 232/300\n",
      "31/31 [==============================] - 0s 3ms/step - loss: 0.0028 - accuracy: 0.0337 - val_loss: 0.0027 - val_accuracy: 0.0167\n",
      "Epoch 233/300\n",
      "31/31 [==============================] - 0s 3ms/step - loss: 0.0026 - accuracy: 0.0242 - val_loss: 0.0027 - val_accuracy: 0.0167\n",
      "Epoch 234/300\n",
      "31/31 [==============================] - 0s 3ms/step - loss: 0.0026 - accuracy: 0.0168 - val_loss: 0.0027 - val_accuracy: 0.0167\n",
      "Epoch 235/300\n",
      "31/31 [==============================] - 0s 3ms/step - loss: 0.0027 - accuracy: 0.0330 - val_loss: 0.0027 - val_accuracy: 0.0167\n",
      "Epoch 236/300\n",
      "31/31 [==============================] - 0s 3ms/step - loss: 0.0027 - accuracy: 0.0183 - val_loss: 0.0027 - val_accuracy: 0.0167\n",
      "Epoch 237/300\n",
      "31/31 [==============================] - 0s 3ms/step - loss: 0.0025 - accuracy: 0.0192 - val_loss: 0.0027 - val_accuracy: 0.0167\n",
      "Epoch 238/300\n",
      "31/31 [==============================] - 0s 3ms/step - loss: 0.0026 - accuracy: 0.0236 - val_loss: 0.0027 - val_accuracy: 0.0167\n",
      "Epoch 239/300\n",
      "31/31 [==============================] - 0s 3ms/step - loss: 0.0026 - accuracy: 0.0252 - val_loss: 0.0027 - val_accuracy: 0.0167\n",
      "Epoch 240/300\n",
      "31/31 [==============================] - 0s 3ms/step - loss: 0.0027 - accuracy: 0.0238 - val_loss: 0.0027 - val_accuracy: 0.0167\n",
      "Epoch 241/300\n",
      "31/31 [==============================] - 0s 3ms/step - loss: 0.0027 - accuracy: 0.0267 - val_loss: 0.0026 - val_accuracy: 0.0167\n",
      "Epoch 242/300\n",
      "31/31 [==============================] - 0s 3ms/step - loss: 0.0027 - accuracy: 0.0229 - val_loss: 0.0026 - val_accuracy: 0.0167\n",
      "Epoch 243/300\n",
      "31/31 [==============================] - 0s 3ms/step - loss: 0.0026 - accuracy: 0.0242 - val_loss: 0.0026 - val_accuracy: 0.0167\n",
      "Epoch 244/300\n",
      "31/31 [==============================] - 0s 3ms/step - loss: 0.0027 - accuracy: 0.0202 - val_loss: 0.0027 - val_accuracy: 0.0167\n",
      "Epoch 245/300\n",
      "31/31 [==============================] - 0s 3ms/step - loss: 0.0028 - accuracy: 0.0245 - val_loss: 0.0026 - val_accuracy: 0.0167\n",
      "Epoch 246/300\n",
      "31/31 [==============================] - 0s 3ms/step - loss: 0.0026 - accuracy: 0.0208 - val_loss: 0.0026 - val_accuracy: 0.0167\n",
      "Epoch 247/300\n",
      "31/31 [==============================] - 0s 3ms/step - loss: 0.0026 - accuracy: 0.0176 - val_loss: 0.0026 - val_accuracy: 0.0167\n",
      "Epoch 248/300\n",
      "31/31 [==============================] - 0s 3ms/step - loss: 0.0026 - accuracy: 0.0281 - val_loss: 0.0026 - val_accuracy: 0.0167\n",
      "Epoch 249/300\n",
      "31/31 [==============================] - 0s 3ms/step - loss: 0.0026 - accuracy: 0.0113 - val_loss: 0.0026 - val_accuracy: 0.0167\n",
      "Epoch 250/300\n",
      "31/31 [==============================] - 0s 3ms/step - loss: 0.0027 - accuracy: 0.0252 - val_loss: 0.0026 - val_accuracy: 0.0167\n",
      "Epoch 251/300\n",
      "31/31 [==============================] - 0s 3ms/step - loss: 0.0025 - accuracy: 0.0252 - val_loss: 0.0026 - val_accuracy: 0.0167\n",
      "Epoch 252/300\n",
      "31/31 [==============================] - 0s 3ms/step - loss: 0.0026 - accuracy: 0.0151 - val_loss: 0.0026 - val_accuracy: 0.0167\n",
      "Epoch 253/300\n",
      "31/31 [==============================] - 0s 3ms/step - loss: 0.0025 - accuracy: 0.0273 - val_loss: 0.0026 - val_accuracy: 0.0167\n",
      "Epoch 254/300\n",
      "31/31 [==============================] - 0s 3ms/step - loss: 0.0026 - accuracy: 0.0255 - val_loss: 0.0026 - val_accuracy: 0.0167\n",
      "Epoch 255/300\n",
      "31/31 [==============================] - 0s 3ms/step - loss: 0.0027 - accuracy: 0.0305 - val_loss: 0.0026 - val_accuracy: 0.0167\n",
      "Epoch 256/300\n",
      "31/31 [==============================] - 0s 3ms/step - loss: 0.0026 - accuracy: 0.0222 - val_loss: 0.0026 - val_accuracy: 0.0167\n",
      "Epoch 257/300\n",
      "31/31 [==============================] - 0s 3ms/step - loss: 0.0027 - accuracy: 0.0153 - val_loss: 0.0026 - val_accuracy: 0.0167\n",
      "Epoch 258/300\n",
      "31/31 [==============================] - 0s 3ms/step - loss: 0.0026 - accuracy: 0.0301 - val_loss: 0.0026 - val_accuracy: 0.0167\n",
      "Epoch 259/300\n",
      "31/31 [==============================] - 0s 3ms/step - loss: 0.0025 - accuracy: 0.0218 - val_loss: 0.0026 - val_accuracy: 0.0167\n",
      "Epoch 260/300\n",
      "31/31 [==============================] - 0s 3ms/step - loss: 0.0027 - accuracy: 0.0204 - val_loss: 0.0026 - val_accuracy: 0.0167\n",
      "Epoch 261/300\n",
      "31/31 [==============================] - 0s 3ms/step - loss: 0.0025 - accuracy: 0.0182 - val_loss: 0.0026 - val_accuracy: 0.0167\n",
      "Epoch 262/300\n",
      "31/31 [==============================] - 0s 3ms/step - loss: 0.0027 - accuracy: 0.0262 - val_loss: 0.0026 - val_accuracy: 0.0167\n",
      "Epoch 263/300\n",
      "31/31 [==============================] - 0s 3ms/step - loss: 0.0026 - accuracy: 0.0237 - val_loss: 0.0026 - val_accuracy: 0.0167\n",
      "Epoch 264/300\n",
      "31/31 [==============================] - 0s 3ms/step - loss: 0.0026 - accuracy: 0.0162 - val_loss: 0.0026 - val_accuracy: 0.0167\n",
      "Epoch 265/300\n",
      "31/31 [==============================] - 0s 3ms/step - loss: 0.0026 - accuracy: 0.0202 - val_loss: 0.0026 - val_accuracy: 0.0167\n",
      "Epoch 266/300\n",
      "31/31 [==============================] - 0s 3ms/step - loss: 0.0027 - accuracy: 0.0178 - val_loss: 0.0026 - val_accuracy: 0.0167\n",
      "Epoch 267/300\n",
      "31/31 [==============================] - 0s 3ms/step - loss: 0.0026 - accuracy: 0.0235 - val_loss: 0.0026 - val_accuracy: 0.0167\n",
      "Epoch 268/300\n",
      "31/31 [==============================] - 0s 3ms/step - loss: 0.0026 - accuracy: 0.0154 - val_loss: 0.0026 - val_accuracy: 0.0167\n",
      "Epoch 269/300\n",
      "31/31 [==============================] - 0s 3ms/step - loss: 0.0028 - accuracy: 0.0306 - val_loss: 0.0026 - val_accuracy: 0.0167\n",
      "Epoch 270/300\n",
      "31/31 [==============================] - 0s 3ms/step - loss: 0.0026 - accuracy: 0.0260 - val_loss: 0.0026 - val_accuracy: 0.0167\n",
      "Epoch 271/300\n",
      "31/31 [==============================] - 0s 3ms/step - loss: 0.0026 - accuracy: 0.0156 - val_loss: 0.0026 - val_accuracy: 0.0167\n",
      "Epoch 272/300\n",
      "31/31 [==============================] - 0s 3ms/step - loss: 0.0026 - accuracy: 0.0252 - val_loss: 0.0026 - val_accuracy: 0.0167\n",
      "Epoch 273/300\n",
      "31/31 [==============================] - 0s 3ms/step - loss: 0.0027 - accuracy: 0.0240 - val_loss: 0.0026 - val_accuracy: 0.0167\n",
      "Epoch 274/300\n",
      "31/31 [==============================] - 0s 3ms/step - loss: 0.0027 - accuracy: 0.0240 - val_loss: 0.0026 - val_accuracy: 0.0167\n",
      "Epoch 275/300\n",
      "31/31 [==============================] - 0s 3ms/step - loss: 0.0026 - accuracy: 0.0210 - val_loss: 0.0026 - val_accuracy: 0.0167\n",
      "Epoch 276/300\n",
      "31/31 [==============================] - 0s 3ms/step - loss: 0.0027 - accuracy: 0.0272 - val_loss: 0.0026 - val_accuracy: 0.0167\n",
      "Epoch 277/300\n",
      "31/31 [==============================] - 0s 3ms/step - loss: 0.0027 - accuracy: 0.0225 - val_loss: 0.0026 - val_accuracy: 0.0167\n",
      "Epoch 278/300\n",
      "31/31 [==============================] - 0s 3ms/step - loss: 0.0025 - accuracy: 0.0217 - val_loss: 0.0026 - val_accuracy: 0.0167\n",
      "Epoch 279/300\n",
      "31/31 [==============================] - 0s 3ms/step - loss: 0.0025 - accuracy: 0.0297 - val_loss: 0.0026 - val_accuracy: 0.0167\n",
      "Epoch 280/300\n",
      "31/31 [==============================] - 0s 3ms/step - loss: 0.0026 - accuracy: 0.0228 - val_loss: 0.0026 - val_accuracy: 0.0167\n",
      "Epoch 281/300\n",
      "31/31 [==============================] - 0s 3ms/step - loss: 0.0028 - accuracy: 0.0214 - val_loss: 0.0026 - val_accuracy: 0.0167\n",
      "Epoch 282/300\n",
      "31/31 [==============================] - 0s 3ms/step - loss: 0.0027 - accuracy: 0.0174 - val_loss: 0.0026 - val_accuracy: 0.0167\n",
      "Epoch 283/300\n",
      "31/31 [==============================] - 0s 4ms/step - loss: 0.0027 - accuracy: 0.0244 - val_loss: 0.0026 - val_accuracy: 0.0167\n",
      "Epoch 284/300\n",
      "31/31 [==============================] - 0s 3ms/step - loss: 0.0025 - accuracy: 0.0215 - val_loss: 0.0026 - val_accuracy: 0.0167\n",
      "Epoch 285/300\n",
      "31/31 [==============================] - 0s 3ms/step - loss: 0.0026 - accuracy: 0.0230 - val_loss: 0.0025 - val_accuracy: 0.0167\n",
      "Epoch 286/300\n",
      "31/31 [==============================] - 0s 3ms/step - loss: 0.0025 - accuracy: 0.0202 - val_loss: 0.0026 - val_accuracy: 0.0167\n",
      "Epoch 287/300\n",
      "31/31 [==============================] - 0s 4ms/step - loss: 0.0026 - accuracy: 0.0217 - val_loss: 0.0026 - val_accuracy: 0.0167\n",
      "Epoch 288/300\n",
      "31/31 [==============================] - 0s 3ms/step - loss: 0.0025 - accuracy: 0.0235 - val_loss: 0.0026 - val_accuracy: 0.0167\n",
      "Epoch 289/300\n",
      "31/31 [==============================] - 0s 3ms/step - loss: 0.0026 - accuracy: 0.0271 - val_loss: 0.0026 - val_accuracy: 0.0167\n",
      "Epoch 290/300\n",
      "31/31 [==============================] - 0s 3ms/step - loss: 0.0026 - accuracy: 0.0289 - val_loss: 0.0026 - val_accuracy: 0.0167\n",
      "Epoch 291/300\n",
      "31/31 [==============================] - 0s 3ms/step - loss: 0.0025 - accuracy: 0.0176 - val_loss: 0.0026 - val_accuracy: 0.0167\n",
      "Epoch 292/300\n",
      "31/31 [==============================] - 0s 3ms/step - loss: 0.0025 - accuracy: 0.0250 - val_loss: 0.0026 - val_accuracy: 0.0167\n",
      "Epoch 293/300\n",
      "31/31 [==============================] - 0s 3ms/step - loss: 0.0028 - accuracy: 0.0223 - val_loss: 0.0025 - val_accuracy: 0.0167\n",
      "Epoch 294/300\n",
      "31/31 [==============================] - 0s 3ms/step - loss: 0.0025 - accuracy: 0.0229 - val_loss: 0.0025 - val_accuracy: 0.0167\n",
      "Epoch 295/300\n",
      "31/31 [==============================] - 0s 3ms/step - loss: 0.0026 - accuracy: 0.0209 - val_loss: 0.0025 - val_accuracy: 0.0167\n",
      "Epoch 296/300\n",
      "31/31 [==============================] - 0s 3ms/step - loss: 0.0027 - accuracy: 0.0284 - val_loss: 0.0025 - val_accuracy: 0.0167\n",
      "Epoch 297/300\n",
      "31/31 [==============================] - 0s 3ms/step - loss: 0.0027 - accuracy: 0.0256 - val_loss: 0.0025 - val_accuracy: 0.0167\n",
      "Epoch 298/300\n",
      "31/31 [==============================] - 0s 3ms/step - loss: 0.0026 - accuracy: 0.0168 - val_loss: 0.0025 - val_accuracy: 0.0167\n",
      "Epoch 299/300\n",
      "31/31 [==============================] - 0s 3ms/step - loss: 0.0026 - accuracy: 0.0200 - val_loss: 0.0025 - val_accuracy: 0.0167\n",
      "Epoch 300/300\n",
      "31/31 [==============================] - 0s 3ms/step - loss: 0.0025 - accuracy: 0.0265 - val_loss: 0.0026 - val_accuracy: 0.0167\n"
     ]
    }
   ],
   "source": [
    "#lr_schedule = tf.keras.callbacks.LearningRateScheduler(\n",
    "#    lambda epoch: 1e-4 * 10**(epoch / 20))\n",
    "optimizer = tf.keras.optimizers.SGD(learning_rate=1e-3, momentum=0.9)\n",
    "\n",
    "predict_fert.compile(\n",
    "    optimizer = optimizer,\n",
    "    loss = tf.keras.losses.MSE,\n",
    "    metrics = ['accuracy']\n",
    ")\n",
    "\n",
    "hist = predict_fert.fit(\n",
    "    train_features, train_labels,\n",
    "    #fertiliser,\n",
    "    epochs = 300,\n",
    "    validation_data = (test_features, test_labels),\n",
    "#    callbacks = [lr_schedule]\n",
    " )"
   ]
  },
  {
   "cell_type": "code",
   "execution_count": 113,
   "metadata": {},
   "outputs": [
    {
     "output_type": "display_data",
     "data": {
      "text/plain": "<Figure size 432x288 with 1 Axes>",
      "image/svg+xml": "<?xml version=\"1.0\" encoding=\"utf-8\" standalone=\"no\"?>\r\n<!DOCTYPE svg PUBLIC \"-//W3C//DTD SVG 1.1//EN\"\r\n  \"http://www.w3.org/Graphics/SVG/1.1/DTD/svg11.dtd\">\r\n<!-- Created with matplotlib (https://matplotlib.org/) -->\r\n<svg height=\"248.518125pt\" version=\"1.1\" viewBox=\"0 0 378.465625 248.518125\" width=\"378.465625pt\" xmlns=\"http://www.w3.org/2000/svg\" xmlns:xlink=\"http://www.w3.org/1999/xlink\">\r\n <metadata>\r\n  <rdf:RDF xmlns:cc=\"http://creativecommons.org/ns#\" xmlns:dc=\"http://purl.org/dc/elements/1.1/\" xmlns:rdf=\"http://www.w3.org/1999/02/22-rdf-syntax-ns#\">\r\n   <cc:Work>\r\n    <dc:type rdf:resource=\"http://purl.org/dc/dcmitype/StillImage\"/>\r\n    <dc:date>2021-05-24T10:33:26.347294</dc:date>\r\n    <dc:format>image/svg+xml</dc:format>\r\n    <dc:creator>\r\n     <cc:Agent>\r\n      <dc:title>Matplotlib v3.3.3, https://matplotlib.org/</dc:title>\r\n     </cc:Agent>\r\n    </dc:creator>\r\n   </cc:Work>\r\n  </rdf:RDF>\r\n </metadata>\r\n <defs>\r\n  <style type=\"text/css\">*{stroke-linecap:butt;stroke-linejoin:round;}</style>\r\n </defs>\r\n <g id=\"figure_1\">\r\n  <g id=\"patch_1\">\r\n   <path d=\"M 0 248.518125 \r\nL 378.465625 248.518125 \r\nL 378.465625 0 \r\nL 0 0 \r\nz\r\n\" style=\"fill:none;\"/>\r\n  </g>\r\n  <g id=\"axes_1\">\r\n   <g id=\"patch_2\">\r\n    <path d=\"M 36.465625 224.64 \r\nL 371.265625 224.64 \r\nL 371.265625 7.2 \r\nL 36.465625 7.2 \r\nz\r\n\" style=\"fill:#ffffff;\"/>\r\n   </g>\r\n   <g id=\"matplotlib.axis_1\">\r\n    <g id=\"xtick_1\">\r\n     <g id=\"line2d_1\">\r\n      <defs>\r\n       <path d=\"M 0 0 \r\nL 0 3.5 \r\n\" id=\"m423fbc5722\" style=\"stroke:#000000;stroke-width:0.8;\"/>\r\n      </defs>\r\n      <g>\r\n       <use style=\"stroke:#000000;stroke-width:0.8;\" x=\"51.683807\" xlink:href=\"#m423fbc5722\" y=\"224.64\"/>\r\n      </g>\r\n     </g>\r\n     <g id=\"text_1\">\r\n      <!-- 0 -->\r\n      <g transform=\"translate(48.502557 239.238437)scale(0.1 -0.1)\">\r\n       <defs>\r\n        <path d=\"M 31.78125 66.40625 \r\nQ 24.171875 66.40625 20.328125 58.90625 \r\nQ 16.5 51.421875 16.5 36.375 \r\nQ 16.5 21.390625 20.328125 13.890625 \r\nQ 24.171875 6.390625 31.78125 6.390625 \r\nQ 39.453125 6.390625 43.28125 13.890625 \r\nQ 47.125 21.390625 47.125 36.375 \r\nQ 47.125 51.421875 43.28125 58.90625 \r\nQ 39.453125 66.40625 31.78125 66.40625 \r\nz\r\nM 31.78125 74.21875 \r\nQ 44.046875 74.21875 50.515625 64.515625 \r\nQ 56.984375 54.828125 56.984375 36.375 \r\nQ 56.984375 17.96875 50.515625 8.265625 \r\nQ 44.046875 -1.421875 31.78125 -1.421875 \r\nQ 19.53125 -1.421875 13.0625 8.265625 \r\nQ 6.59375 17.96875 6.59375 36.375 \r\nQ 6.59375 54.828125 13.0625 64.515625 \r\nQ 19.53125 74.21875 31.78125 74.21875 \r\nz\r\n\" id=\"DejaVuSans-48\"/>\r\n       </defs>\r\n       <use xlink:href=\"#DejaVuSans-48\"/>\r\n      </g>\r\n     </g>\r\n    </g>\r\n    <g id=\"xtick_2\">\r\n     <g id=\"line2d_2\">\r\n      <g>\r\n       <use style=\"stroke:#000000;stroke-width:0.8;\" x=\"102.580736\" xlink:href=\"#m423fbc5722\" y=\"224.64\"/>\r\n      </g>\r\n     </g>\r\n     <g id=\"text_2\">\r\n      <!-- 50 -->\r\n      <g transform=\"translate(96.218236 239.238437)scale(0.1 -0.1)\">\r\n       <defs>\r\n        <path d=\"M 10.796875 72.90625 \r\nL 49.515625 72.90625 \r\nL 49.515625 64.59375 \r\nL 19.828125 64.59375 \r\nL 19.828125 46.734375 \r\nQ 21.96875 47.46875 24.109375 47.828125 \r\nQ 26.265625 48.1875 28.421875 48.1875 \r\nQ 40.625 48.1875 47.75 41.5 \r\nQ 54.890625 34.8125 54.890625 23.390625 \r\nQ 54.890625 11.625 47.5625 5.09375 \r\nQ 40.234375 -1.421875 26.90625 -1.421875 \r\nQ 22.3125 -1.421875 17.546875 -0.640625 \r\nQ 12.796875 0.140625 7.71875 1.703125 \r\nL 7.71875 11.625 \r\nQ 12.109375 9.234375 16.796875 8.0625 \r\nQ 21.484375 6.890625 26.703125 6.890625 \r\nQ 35.15625 6.890625 40.078125 11.328125 \r\nQ 45.015625 15.765625 45.015625 23.390625 \r\nQ 45.015625 31 40.078125 35.4375 \r\nQ 35.15625 39.890625 26.703125 39.890625 \r\nQ 22.75 39.890625 18.8125 39.015625 \r\nQ 14.890625 38.140625 10.796875 36.28125 \r\nz\r\n\" id=\"DejaVuSans-53\"/>\r\n       </defs>\r\n       <use xlink:href=\"#DejaVuSans-53\"/>\r\n       <use x=\"63.623047\" xlink:href=\"#DejaVuSans-48\"/>\r\n      </g>\r\n     </g>\r\n    </g>\r\n    <g id=\"xtick_3\">\r\n     <g id=\"line2d_3\">\r\n      <g>\r\n       <use style=\"stroke:#000000;stroke-width:0.8;\" x=\"153.477665\" xlink:href=\"#m423fbc5722\" y=\"224.64\"/>\r\n      </g>\r\n     </g>\r\n     <g id=\"text_3\">\r\n      <!-- 100 -->\r\n      <g transform=\"translate(143.933915 239.238437)scale(0.1 -0.1)\">\r\n       <defs>\r\n        <path d=\"M 12.40625 8.296875 \r\nL 28.515625 8.296875 \r\nL 28.515625 63.921875 \r\nL 10.984375 60.40625 \r\nL 10.984375 69.390625 \r\nL 28.421875 72.90625 \r\nL 38.28125 72.90625 \r\nL 38.28125 8.296875 \r\nL 54.390625 8.296875 \r\nL 54.390625 0 \r\nL 12.40625 0 \r\nz\r\n\" id=\"DejaVuSans-49\"/>\r\n       </defs>\r\n       <use xlink:href=\"#DejaVuSans-49\"/>\r\n       <use x=\"63.623047\" xlink:href=\"#DejaVuSans-48\"/>\r\n       <use x=\"127.246094\" xlink:href=\"#DejaVuSans-48\"/>\r\n      </g>\r\n     </g>\r\n    </g>\r\n    <g id=\"xtick_4\">\r\n     <g id=\"line2d_4\">\r\n      <g>\r\n       <use style=\"stroke:#000000;stroke-width:0.8;\" x=\"204.374594\" xlink:href=\"#m423fbc5722\" y=\"224.64\"/>\r\n      </g>\r\n     </g>\r\n     <g id=\"text_4\">\r\n      <!-- 150 -->\r\n      <g transform=\"translate(194.830844 239.238437)scale(0.1 -0.1)\">\r\n       <use xlink:href=\"#DejaVuSans-49\"/>\r\n       <use x=\"63.623047\" xlink:href=\"#DejaVuSans-53\"/>\r\n       <use x=\"127.246094\" xlink:href=\"#DejaVuSans-48\"/>\r\n      </g>\r\n     </g>\r\n    </g>\r\n    <g id=\"xtick_5\">\r\n     <g id=\"line2d_5\">\r\n      <g>\r\n       <use style=\"stroke:#000000;stroke-width:0.8;\" x=\"255.271523\" xlink:href=\"#m423fbc5722\" y=\"224.64\"/>\r\n      </g>\r\n     </g>\r\n     <g id=\"text_5\">\r\n      <!-- 200 -->\r\n      <g transform=\"translate(245.727773 239.238437)scale(0.1 -0.1)\">\r\n       <defs>\r\n        <path d=\"M 19.1875 8.296875 \r\nL 53.609375 8.296875 \r\nL 53.609375 0 \r\nL 7.328125 0 \r\nL 7.328125 8.296875 \r\nQ 12.9375 14.109375 22.625 23.890625 \r\nQ 32.328125 33.6875 34.8125 36.53125 \r\nQ 39.546875 41.84375 41.421875 45.53125 \r\nQ 43.3125 49.21875 43.3125 52.78125 \r\nQ 43.3125 58.59375 39.234375 62.25 \r\nQ 35.15625 65.921875 28.609375 65.921875 \r\nQ 23.96875 65.921875 18.8125 64.3125 \r\nQ 13.671875 62.703125 7.8125 59.421875 \r\nL 7.8125 69.390625 \r\nQ 13.765625 71.78125 18.9375 73 \r\nQ 24.125 74.21875 28.421875 74.21875 \r\nQ 39.75 74.21875 46.484375 68.546875 \r\nQ 53.21875 62.890625 53.21875 53.421875 \r\nQ 53.21875 48.921875 51.53125 44.890625 \r\nQ 49.859375 40.875 45.40625 35.40625 \r\nQ 44.1875 33.984375 37.640625 27.21875 \r\nQ 31.109375 20.453125 19.1875 8.296875 \r\nz\r\n\" id=\"DejaVuSans-50\"/>\r\n       </defs>\r\n       <use xlink:href=\"#DejaVuSans-50\"/>\r\n       <use x=\"63.623047\" xlink:href=\"#DejaVuSans-48\"/>\r\n       <use x=\"127.246094\" xlink:href=\"#DejaVuSans-48\"/>\r\n      </g>\r\n     </g>\r\n    </g>\r\n    <g id=\"xtick_6\">\r\n     <g id=\"line2d_6\">\r\n      <g>\r\n       <use style=\"stroke:#000000;stroke-width:0.8;\" x=\"306.168453\" xlink:href=\"#m423fbc5722\" y=\"224.64\"/>\r\n      </g>\r\n     </g>\r\n     <g id=\"text_6\">\r\n      <!-- 250 -->\r\n      <g transform=\"translate(296.624703 239.238437)scale(0.1 -0.1)\">\r\n       <use xlink:href=\"#DejaVuSans-50\"/>\r\n       <use x=\"63.623047\" xlink:href=\"#DejaVuSans-53\"/>\r\n       <use x=\"127.246094\" xlink:href=\"#DejaVuSans-48\"/>\r\n      </g>\r\n     </g>\r\n    </g>\r\n    <g id=\"xtick_7\">\r\n     <g id=\"line2d_7\">\r\n      <g>\r\n       <use style=\"stroke:#000000;stroke-width:0.8;\" x=\"357.065382\" xlink:href=\"#m423fbc5722\" y=\"224.64\"/>\r\n      </g>\r\n     </g>\r\n     <g id=\"text_7\">\r\n      <!-- 300 -->\r\n      <g transform=\"translate(347.521632 239.238437)scale(0.1 -0.1)\">\r\n       <defs>\r\n        <path d=\"M 40.578125 39.3125 \r\nQ 47.65625 37.796875 51.625 33 \r\nQ 55.609375 28.21875 55.609375 21.1875 \r\nQ 55.609375 10.40625 48.1875 4.484375 \r\nQ 40.765625 -1.421875 27.09375 -1.421875 \r\nQ 22.515625 -1.421875 17.65625 -0.515625 \r\nQ 12.796875 0.390625 7.625 2.203125 \r\nL 7.625 11.71875 \r\nQ 11.71875 9.328125 16.59375 8.109375 \r\nQ 21.484375 6.890625 26.8125 6.890625 \r\nQ 36.078125 6.890625 40.9375 10.546875 \r\nQ 45.796875 14.203125 45.796875 21.1875 \r\nQ 45.796875 27.640625 41.28125 31.265625 \r\nQ 36.765625 34.90625 28.71875 34.90625 \r\nL 20.21875 34.90625 \r\nL 20.21875 43.015625 \r\nL 29.109375 43.015625 \r\nQ 36.375 43.015625 40.234375 45.921875 \r\nQ 44.09375 48.828125 44.09375 54.296875 \r\nQ 44.09375 59.90625 40.109375 62.90625 \r\nQ 36.140625 65.921875 28.71875 65.921875 \r\nQ 24.65625 65.921875 20.015625 65.03125 \r\nQ 15.375 64.15625 9.8125 62.3125 \r\nL 9.8125 71.09375 \r\nQ 15.4375 72.65625 20.34375 73.4375 \r\nQ 25.25 74.21875 29.59375 74.21875 \r\nQ 40.828125 74.21875 47.359375 69.109375 \r\nQ 53.90625 64.015625 53.90625 55.328125 \r\nQ 53.90625 49.265625 50.4375 45.09375 \r\nQ 46.96875 40.921875 40.578125 39.3125 \r\nz\r\n\" id=\"DejaVuSans-51\"/>\r\n       </defs>\r\n       <use xlink:href=\"#DejaVuSans-51\"/>\r\n       <use x=\"63.623047\" xlink:href=\"#DejaVuSans-48\"/>\r\n       <use x=\"127.246094\" xlink:href=\"#DejaVuSans-48\"/>\r\n      </g>\r\n     </g>\r\n    </g>\r\n   </g>\r\n   <g id=\"matplotlib.axis_2\">\r\n    <g id=\"ytick_1\">\r\n     <g id=\"line2d_8\">\r\n      <defs>\r\n       <path d=\"M 0 0 \r\nL -3.5 0 \r\n\" id=\"m851d382a4a\" style=\"stroke:#000000;stroke-width:0.8;\"/>\r\n      </defs>\r\n      <g>\r\n       <use style=\"stroke:#000000;stroke-width:0.8;\" x=\"36.465625\" xlink:href=\"#m851d382a4a\" y=\"219.293919\"/>\r\n      </g>\r\n     </g>\r\n     <g id=\"text_8\">\r\n      <!-- 0.00 -->\r\n      <g transform=\"translate(7.2 223.093138)scale(0.1 -0.1)\">\r\n       <defs>\r\n        <path d=\"M 10.6875 12.40625 \r\nL 21 12.40625 \r\nL 21 0 \r\nL 10.6875 0 \r\nz\r\n\" id=\"DejaVuSans-46\"/>\r\n       </defs>\r\n       <use xlink:href=\"#DejaVuSans-48\"/>\r\n       <use x=\"63.623047\" xlink:href=\"#DejaVuSans-46\"/>\r\n       <use x=\"95.410156\" xlink:href=\"#DejaVuSans-48\"/>\r\n       <use x=\"159.033203\" xlink:href=\"#DejaVuSans-48\"/>\r\n      </g>\r\n     </g>\r\n    </g>\r\n    <g id=\"ytick_2\">\r\n     <g id=\"line2d_9\">\r\n      <g>\r\n       <use style=\"stroke:#000000;stroke-width:0.8;\" x=\"36.465625\" xlink:href=\"#m851d382a4a\" y=\"183.262946\"/>\r\n      </g>\r\n     </g>\r\n     <g id=\"text_9\">\r\n      <!-- 0.02 -->\r\n      <g transform=\"translate(7.2 187.062164)scale(0.1 -0.1)\">\r\n       <use xlink:href=\"#DejaVuSans-48\"/>\r\n       <use x=\"63.623047\" xlink:href=\"#DejaVuSans-46\"/>\r\n       <use x=\"95.410156\" xlink:href=\"#DejaVuSans-48\"/>\r\n       <use x=\"159.033203\" xlink:href=\"#DejaVuSans-50\"/>\r\n      </g>\r\n     </g>\r\n    </g>\r\n    <g id=\"ytick_3\">\r\n     <g id=\"line2d_10\">\r\n      <g>\r\n       <use style=\"stroke:#000000;stroke-width:0.8;\" x=\"36.465625\" xlink:href=\"#m851d382a4a\" y=\"147.231972\"/>\r\n      </g>\r\n     </g>\r\n     <g id=\"text_10\">\r\n      <!-- 0.04 -->\r\n      <g transform=\"translate(7.2 151.031191)scale(0.1 -0.1)\">\r\n       <defs>\r\n        <path d=\"M 37.796875 64.3125 \r\nL 12.890625 25.390625 \r\nL 37.796875 25.390625 \r\nz\r\nM 35.203125 72.90625 \r\nL 47.609375 72.90625 \r\nL 47.609375 25.390625 \r\nL 58.015625 25.390625 \r\nL 58.015625 17.1875 \r\nL 47.609375 17.1875 \r\nL 47.609375 0 \r\nL 37.796875 0 \r\nL 37.796875 17.1875 \r\nL 4.890625 17.1875 \r\nL 4.890625 26.703125 \r\nz\r\n\" id=\"DejaVuSans-52\"/>\r\n       </defs>\r\n       <use xlink:href=\"#DejaVuSans-48\"/>\r\n       <use x=\"63.623047\" xlink:href=\"#DejaVuSans-46\"/>\r\n       <use x=\"95.410156\" xlink:href=\"#DejaVuSans-48\"/>\r\n       <use x=\"159.033203\" xlink:href=\"#DejaVuSans-52\"/>\r\n      </g>\r\n     </g>\r\n    </g>\r\n    <g id=\"ytick_4\">\r\n     <g id=\"line2d_11\">\r\n      <g>\r\n       <use style=\"stroke:#000000;stroke-width:0.8;\" x=\"36.465625\" xlink:href=\"#m851d382a4a\" y=\"111.200998\"/>\r\n      </g>\r\n     </g>\r\n     <g id=\"text_11\">\r\n      <!-- 0.06 -->\r\n      <g transform=\"translate(7.2 115.000217)scale(0.1 -0.1)\">\r\n       <defs>\r\n        <path d=\"M 33.015625 40.375 \r\nQ 26.375 40.375 22.484375 35.828125 \r\nQ 18.609375 31.296875 18.609375 23.390625 \r\nQ 18.609375 15.53125 22.484375 10.953125 \r\nQ 26.375 6.390625 33.015625 6.390625 \r\nQ 39.65625 6.390625 43.53125 10.953125 \r\nQ 47.40625 15.53125 47.40625 23.390625 \r\nQ 47.40625 31.296875 43.53125 35.828125 \r\nQ 39.65625 40.375 33.015625 40.375 \r\nz\r\nM 52.59375 71.296875 \r\nL 52.59375 62.3125 \r\nQ 48.875 64.0625 45.09375 64.984375 \r\nQ 41.3125 65.921875 37.59375 65.921875 \r\nQ 27.828125 65.921875 22.671875 59.328125 \r\nQ 17.53125 52.734375 16.796875 39.40625 \r\nQ 19.671875 43.65625 24.015625 45.921875 \r\nQ 28.375 48.1875 33.59375 48.1875 \r\nQ 44.578125 48.1875 50.953125 41.515625 \r\nQ 57.328125 34.859375 57.328125 23.390625 \r\nQ 57.328125 12.15625 50.6875 5.359375 \r\nQ 44.046875 -1.421875 33.015625 -1.421875 \r\nQ 20.359375 -1.421875 13.671875 8.265625 \r\nQ 6.984375 17.96875 6.984375 36.375 \r\nQ 6.984375 53.65625 15.1875 63.9375 \r\nQ 23.390625 74.21875 37.203125 74.21875 \r\nQ 40.921875 74.21875 44.703125 73.484375 \r\nQ 48.484375 72.75 52.59375 71.296875 \r\nz\r\n\" id=\"DejaVuSans-54\"/>\r\n       </defs>\r\n       <use xlink:href=\"#DejaVuSans-48\"/>\r\n       <use x=\"63.623047\" xlink:href=\"#DejaVuSans-46\"/>\r\n       <use x=\"95.410156\" xlink:href=\"#DejaVuSans-48\"/>\r\n       <use x=\"159.033203\" xlink:href=\"#DejaVuSans-54\"/>\r\n      </g>\r\n     </g>\r\n    </g>\r\n    <g id=\"ytick_5\">\r\n     <g id=\"line2d_12\">\r\n      <g>\r\n       <use style=\"stroke:#000000;stroke-width:0.8;\" x=\"36.465625\" xlink:href=\"#m851d382a4a\" y=\"75.170025\"/>\r\n      </g>\r\n     </g>\r\n     <g id=\"text_12\">\r\n      <!-- 0.08 -->\r\n      <g transform=\"translate(7.2 78.969244)scale(0.1 -0.1)\">\r\n       <defs>\r\n        <path d=\"M 31.78125 34.625 \r\nQ 24.75 34.625 20.71875 30.859375 \r\nQ 16.703125 27.09375 16.703125 20.515625 \r\nQ 16.703125 13.921875 20.71875 10.15625 \r\nQ 24.75 6.390625 31.78125 6.390625 \r\nQ 38.8125 6.390625 42.859375 10.171875 \r\nQ 46.921875 13.96875 46.921875 20.515625 \r\nQ 46.921875 27.09375 42.890625 30.859375 \r\nQ 38.875 34.625 31.78125 34.625 \r\nz\r\nM 21.921875 38.8125 \r\nQ 15.578125 40.375 12.03125 44.71875 \r\nQ 8.5 49.078125 8.5 55.328125 \r\nQ 8.5 64.0625 14.71875 69.140625 \r\nQ 20.953125 74.21875 31.78125 74.21875 \r\nQ 42.671875 74.21875 48.875 69.140625 \r\nQ 55.078125 64.0625 55.078125 55.328125 \r\nQ 55.078125 49.078125 51.53125 44.71875 \r\nQ 48 40.375 41.703125 38.8125 \r\nQ 48.828125 37.15625 52.796875 32.3125 \r\nQ 56.78125 27.484375 56.78125 20.515625 \r\nQ 56.78125 9.90625 50.3125 4.234375 \r\nQ 43.84375 -1.421875 31.78125 -1.421875 \r\nQ 19.734375 -1.421875 13.25 4.234375 \r\nQ 6.78125 9.90625 6.78125 20.515625 \r\nQ 6.78125 27.484375 10.78125 32.3125 \r\nQ 14.796875 37.15625 21.921875 38.8125 \r\nz\r\nM 18.3125 54.390625 \r\nQ 18.3125 48.734375 21.84375 45.5625 \r\nQ 25.390625 42.390625 31.78125 42.390625 \r\nQ 38.140625 42.390625 41.71875 45.5625 \r\nQ 45.3125 48.734375 45.3125 54.390625 \r\nQ 45.3125 60.0625 41.71875 63.234375 \r\nQ 38.140625 66.40625 31.78125 66.40625 \r\nQ 25.390625 66.40625 21.84375 63.234375 \r\nQ 18.3125 60.0625 18.3125 54.390625 \r\nz\r\n\" id=\"DejaVuSans-56\"/>\r\n       </defs>\r\n       <use xlink:href=\"#DejaVuSans-48\"/>\r\n       <use x=\"63.623047\" xlink:href=\"#DejaVuSans-46\"/>\r\n       <use x=\"95.410156\" xlink:href=\"#DejaVuSans-48\"/>\r\n       <use x=\"159.033203\" xlink:href=\"#DejaVuSans-56\"/>\r\n      </g>\r\n     </g>\r\n    </g>\r\n    <g id=\"ytick_6\">\r\n     <g id=\"line2d_13\">\r\n      <g>\r\n       <use style=\"stroke:#000000;stroke-width:0.8;\" x=\"36.465625\" xlink:href=\"#m851d382a4a\" y=\"39.139051\"/>\r\n      </g>\r\n     </g>\r\n     <g id=\"text_13\">\r\n      <!-- 0.10 -->\r\n      <g transform=\"translate(7.2 42.93827)scale(0.1 -0.1)\">\r\n       <use xlink:href=\"#DejaVuSans-48\"/>\r\n       <use x=\"63.623047\" xlink:href=\"#DejaVuSans-46\"/>\r\n       <use x=\"95.410156\" xlink:href=\"#DejaVuSans-49\"/>\r\n       <use x=\"159.033203\" xlink:href=\"#DejaVuSans-48\"/>\r\n      </g>\r\n     </g>\r\n    </g>\r\n   </g>\r\n   <g id=\"line2d_14\">\r\n    <path clip-path=\"url(#p1654f35ed8)\" d=\"M 51.683807 17.083636 \r\nL 52.701745 122.372382 \r\nL 53.719684 138.851194 \r\nL 54.737623 148.401275 \r\nL 55.755561 155.817736 \r\nL 57.791438 166.412124 \r\nL 58.809377 170.631832 \r\nL 59.827315 174.330734 \r\nL 60.845254 177.469266 \r\nL 61.863193 180.077982 \r\nL 63.89907 184.269862 \r\nL 66.952886 189.1158 \r\nL 68.988763 191.544241 \r\nL 70.006701 191.751068 \r\nL 71.02464 193.597363 \r\nL 72.042578 194.163537 \r\nL 73.060517 195.66884 \r\nL 74.078456 196.503476 \r\nL 76.114333 197.586209 \r\nL 77.132271 198.556459 \r\nL 78.15021 199.211076 \r\nL 79.168149 199.317949 \r\nL 80.186087 200.325698 \r\nL 83.239903 201.952537 \r\nL 85.27578 202.15999 \r\nL 86.293719 203.224763 \r\nL 88.329596 203.745135 \r\nL 89.347534 204.218418 \r\nL 90.365473 204.512302 \r\nL 91.383412 203.889156 \r\nL 92.40135 204.95889 \r\nL 93.419289 205.20358 \r\nL 94.437227 205.636854 \r\nL 95.455166 205.459349 \r\nL 96.473104 206.0305 \r\nL 98.508982 206.482889 \r\nL 99.52692 206.670136 \r\nL 100.544859 206.421791 \r\nL 101.562797 206.421201 \r\nL 102.580736 206.922577 \r\nL 103.598675 206.932887 \r\nL 104.616613 207.578227 \r\nL 105.634552 207.499763 \r\nL 106.65249 207.869095 \r\nL 108.688367 208.191123 \r\nL 110.724245 208.477071 \r\nL 111.742183 208.110697 \r\nL 112.760122 208.805522 \r\nL 113.77806 208.835575 \r\nL 115.813938 209.22428 \r\nL 116.831876 209.311392 \r\nL 117.849815 209.232559 \r\nL 118.867753 209.594306 \r\nL 121.921569 209.90696 \r\nL 122.939508 209.888752 \r\nL 123.957446 210.144333 \r\nL 127.011262 210.419419 \r\nL 128.029201 210.489875 \r\nL 129.047139 210.3999 \r\nL 130.065078 210.720646 \r\nL 134.136832 211.001797 \r\nL 135.154771 210.664796 \r\nL 136.172709 211.185745 \r\nL 140.244464 211.498397 \r\nL 141.262402 211.467701 \r\nL 142.280341 211.647702 \r\nL 143.298279 211.624455 \r\nL 144.316218 211.791239 \r\nL 145.334156 211.805056 \r\nL 146.352095 211.688776 \r\nL 147.370034 211.858799 \r\nL 149.405911 211.986317 \r\nL 157.549419 212.460719 \r\nL 158.567358 212.356029 \r\nL 159.585297 212.532529 \r\nL 164.67499 212.744369 \r\nL 165.692928 212.341792 \r\nL 166.710867 212.754595 \r\nL 168.746744 212.873293 \r\nL 172.818498 212.91081 \r\nL 173.836437 213.049033 \r\nL 184.015823 213.150676 \r\nL 187.069638 213.366365 \r\nL 188.087577 213.388325 \r\nL 189.105516 213.116387 \r\nL 190.123454 213.362821 \r\nL 193.17727 213.473317 \r\nL 201.320779 213.618691 \r\nL 204.374594 213.717057 \r\nL 205.392533 213.615468 \r\nL 207.42841 213.729369 \r\nL 213.536042 213.748504 \r\nL 214.55398 213.320938 \r\nL 215.571919 213.819244 \r\nL 219.643673 213.934855 \r\nL 221.67955 213.90682 \r\nL 225.751305 213.975085 \r\nL 235.93069 214.096536 \r\nL 237.966568 213.857178 \r\nL 238.984506 214.110067 \r\nL 257.307401 214.2783 \r\nL 258.325339 214.113773 \r\nL 259.343278 214.270792 \r\nL 265.450909 214.298103 \r\nL 269.522664 214.312197 \r\nL 270.540602 213.742843 \r\nL 271.558541 214.344054 \r\nL 273.594418 214.314782 \r\nL 275.630295 214.374015 \r\nL 281.737927 214.409771 \r\nL 286.82762 214.370378 \r\nL 289.881435 214.45295 \r\nL 298.024944 214.496653 \r\nL 312.276084 214.570777 \r\nL 313.294023 214.457498 \r\nL 315.3299 214.564109 \r\nL 316.347838 214.520856 \r\nL 317.365777 214.59117 \r\nL 321.437531 214.468187 \r\nL 322.45547 214.595861 \r\nL 332.634856 214.448296 \r\nL 333.652794 214.635758 \r\nL 340.778364 214.634581 \r\nL 343.83218 214.693344 \r\nL 347.903935 214.714978 \r\nL 348.921873 214.545737 \r\nL 349.939812 214.659526 \r\nL 350.95775 214.584846 \r\nL 351.975689 214.705187 \r\nL 356.047443 214.703501 \r\nL 356.047443 214.703501 \r\n\" style=\"fill:none;stroke:#ff0000;stroke-linecap:square;stroke-width:1.5;\"/>\r\n   </g>\r\n   <g id=\"line2d_15\">\r\n    <path clip-path=\"url(#p1654f35ed8)\" d=\"M 51.683807 196.797995 \r\nL 52.701745 179.926049 \r\nL 53.719684 178.05139 \r\nL 356.047443 178.05139 \r\nL 356.047443 178.05139 \r\n\" style=\"fill:none;stroke:#008000;stroke-linecap:square;stroke-width:1.5;\"/>\r\n   </g>\r\n   <g id=\"line2d_16\">\r\n    <path clip-path=\"url(#p1654f35ed8)\" d=\"M 51.683807 117.951769 \r\nL 52.701745 138.378478 \r\nL 53.719684 146.659098 \r\nL 54.737623 151.389397 \r\nL 56.7735 163.94306 \r\nL 57.791438 168.151211 \r\nL 61.863193 180.123173 \r\nL 63.89907 183.943226 \r\nL 64.917008 184.840617 \r\nL 65.934947 186.982036 \r\nL 66.952886 188.089919 \r\nL 70.006701 192.679724 \r\nL 71.02464 193.013017 \r\nL 72.042578 194.404078 \r\nL 73.060517 195.133421 \r\nL 74.078456 194.901439 \r\nL 75.096394 195.787146 \r\nL 76.114333 196.904412 \r\nL 77.132271 197.831235 \r\nL 78.15021 198.495581 \r\nL 79.168149 197.680679 \r\nL 80.186087 199.47358 \r\nL 81.204026 200.181232 \r\nL 82.221964 200.664027 \r\nL 83.239903 200.364219 \r\nL 84.257841 201.834299 \r\nL 85.27578 202.654615 \r\nL 87.311657 202.847825 \r\nL 88.329596 203.166118 \r\nL 89.347534 203.671701 \r\nL 90.365473 203.346121 \r\nL 91.383412 204.618317 \r\nL 92.40135 204.578979 \r\nL 93.419289 205.03553 \r\nL 94.437227 205.121439 \r\nL 95.455166 204.570793 \r\nL 96.473104 205.713737 \r\nL 97.491043 206.012048 \r\nL 98.508982 206.175073 \r\nL 99.52692 206.497742 \r\nL 100.544859 206.333859 \r\nL 101.562797 206.288569 \r\nL 102.580736 206.946151 \r\nL 103.598675 207.430813 \r\nL 105.634552 207.709249 \r\nL 106.65249 207.610859 \r\nL 107.670429 208.123351 \r\nL 109.706306 208.222873 \r\nL 110.724245 207.92957 \r\nL 111.742183 208.884266 \r\nL 112.760122 208.538067 \r\nL 114.795999 209.218059 \r\nL 115.813938 209.306085 \r\nL 116.831876 209.534966 \r\nL 117.849815 209.426954 \r\nL 119.885692 209.87841 \r\nL 121.921569 210.049854 \r\nL 122.939508 210.302502 \r\nL 124.975385 210.351979 \r\nL 125.993323 210.591302 \r\nL 128.029201 210.761984 \r\nL 129.047139 210.533157 \r\nL 130.065078 210.876062 \r\nL 133.118893 211.205677 \r\nL 136.172709 211.461598 \r\nL 138.208586 211.668635 \r\nL 140.244464 211.591893 \r\nL 141.262402 211.803212 \r\nL 142.280341 211.87354 \r\nL 143.298279 211.798622 \r\nL 144.316218 212.030121 \r\nL 150.423849 212.361543 \r\nL 151.441788 212.324275 \r\nL 152.459727 212.425036 \r\nL 153.477665 212.18029 \r\nL 154.495604 212.495179 \r\nL 155.513542 212.359676 \r\nL 156.531481 212.543929 \r\nL 157.549419 212.409149 \r\nL 159.585297 212.820273 \r\nL 164.67499 212.918007 \r\nL 165.692928 212.795999 \r\nL 166.710867 212.995577 \r\nL 169.764682 213.11851 \r\nL 170.782621 212.919154 \r\nL 171.80056 213.196978 \r\nL 173.836437 213.285803 \r\nL 176.890253 213.338068 \r\nL 187.069638 213.555958 \r\nL 190.123454 213.43342 \r\nL 191.141393 213.593965 \r\nL 197.249024 213.730918 \r\nL 198.266963 213.506523 \r\nL 199.284901 213.825667 \r\nL 206.410471 213.845486 \r\nL 209.464287 213.920157 \r\nL 212.518103 213.957397 \r\nL 213.536042 213.726836 \r\nL 216.589857 213.987108 \r\nL 224.733366 214.095731 \r\nL 226.769243 213.979293 \r\nL 227.787182 214.10278 \r\nL 241.020383 214.210408 \r\nL 248.145953 214.275243 \r\nL 249.163892 214.198695 \r\nL 252.217708 214.257523 \r\nL 257.307401 214.324613 \r\nL 258.325339 214.105758 \r\nL 259.343278 214.306465 \r\nL 268.504725 214.413989 \r\nL 269.522664 214.193342 \r\nL 271.558541 214.372113 \r\nL 274.612357 214.427505 \r\nL 279.702049 214.45475 \r\nL 294.971128 214.475026 \r\nL 298.024944 214.554068 \r\nL 299.042883 214.476018 \r\nL 301.07876 214.562726 \r\nL 319.401654 214.591004 \r\nL 323.473409 214.675298 \r\nL 335.688672 214.641835 \r\nL 356.047443 214.695879 \r\nL 356.047443 214.695879 \r\n\" style=\"fill:none;stroke:#0000ff;stroke-linecap:square;stroke-width:1.5;\"/>\r\n   </g>\r\n   <g id=\"line2d_17\">\r\n    <defs>\r\n     <path d=\"M 0 -3 \r\nL -2.85317 -0.927051 \r\nL -1.763356 2.427051 \r\nL 1.763356 2.427051 \r\nL 2.85317 -0.927051 \r\nz\r\n\" id=\"m532ad34e74\" style=\"stroke:#1f77b4;stroke-linejoin:miter;\"/>\r\n    </defs>\r\n    <g clip-path=\"url(#p1654f35ed8)\">\r\n     <use style=\"fill:#1f77b4;stroke:#1f77b4;stroke-linejoin:miter;\" x=\"51.683807\" xlink:href=\"#m532ad34e74\" y=\"189.268106\"/>\r\n     <use style=\"fill:#1f77b4;stroke:#1f77b4;stroke-linejoin:miter;\" x=\"52.701745\" xlink:href=\"#m532ad34e74\" y=\"189.268106\"/>\r\n     <use style=\"fill:#1f77b4;stroke:#1f77b4;stroke-linejoin:miter;\" x=\"53.719684\" xlink:href=\"#m532ad34e74\" y=\"189.268106\"/>\r\n     <use style=\"fill:#1f77b4;stroke:#1f77b4;stroke-linejoin:miter;\" x=\"54.737623\" xlink:href=\"#m532ad34e74\" y=\"189.268106\"/>\r\n     <use style=\"fill:#1f77b4;stroke:#1f77b4;stroke-linejoin:miter;\" x=\"55.755561\" xlink:href=\"#m532ad34e74\" y=\"189.268106\"/>\r\n     <use style=\"fill:#1f77b4;stroke:#1f77b4;stroke-linejoin:miter;\" x=\"56.7735\" xlink:href=\"#m532ad34e74\" y=\"189.268106\"/>\r\n     <use style=\"fill:#1f77b4;stroke:#1f77b4;stroke-linejoin:miter;\" x=\"57.791438\" xlink:href=\"#m532ad34e74\" y=\"189.268106\"/>\r\n     <use style=\"fill:#1f77b4;stroke:#1f77b4;stroke-linejoin:miter;\" x=\"58.809377\" xlink:href=\"#m532ad34e74\" y=\"189.268106\"/>\r\n     <use style=\"fill:#1f77b4;stroke:#1f77b4;stroke-linejoin:miter;\" x=\"59.827315\" xlink:href=\"#m532ad34e74\" y=\"189.268106\"/>\r\n     <use style=\"fill:#1f77b4;stroke:#1f77b4;stroke-linejoin:miter;\" x=\"60.845254\" xlink:href=\"#m532ad34e74\" y=\"189.268106\"/>\r\n     <use style=\"fill:#1f77b4;stroke:#1f77b4;stroke-linejoin:miter;\" x=\"61.863193\" xlink:href=\"#m532ad34e74\" y=\"189.268106\"/>\r\n     <use style=\"fill:#1f77b4;stroke:#1f77b4;stroke-linejoin:miter;\" x=\"62.881131\" xlink:href=\"#m532ad34e74\" y=\"189.268106\"/>\r\n     <use style=\"fill:#1f77b4;stroke:#1f77b4;stroke-linejoin:miter;\" x=\"63.89907\" xlink:href=\"#m532ad34e74\" y=\"189.268106\"/>\r\n     <use style=\"fill:#1f77b4;stroke:#1f77b4;stroke-linejoin:miter;\" x=\"64.917008\" xlink:href=\"#m532ad34e74\" y=\"189.268106\"/>\r\n     <use style=\"fill:#1f77b4;stroke:#1f77b4;stroke-linejoin:miter;\" x=\"65.934947\" xlink:href=\"#m532ad34e74\" y=\"189.268106\"/>\r\n     <use style=\"fill:#1f77b4;stroke:#1f77b4;stroke-linejoin:miter;\" x=\"66.952886\" xlink:href=\"#m532ad34e74\" y=\"189.268106\"/>\r\n     <use style=\"fill:#1f77b4;stroke:#1f77b4;stroke-linejoin:miter;\" x=\"67.970824\" xlink:href=\"#m532ad34e74\" y=\"189.268106\"/>\r\n     <use style=\"fill:#1f77b4;stroke:#1f77b4;stroke-linejoin:miter;\" x=\"68.988763\" xlink:href=\"#m532ad34e74\" y=\"189.268106\"/>\r\n     <use style=\"fill:#1f77b4;stroke:#1f77b4;stroke-linejoin:miter;\" x=\"70.006701\" xlink:href=\"#m532ad34e74\" y=\"189.268106\"/>\r\n     <use style=\"fill:#1f77b4;stroke:#1f77b4;stroke-linejoin:miter;\" x=\"71.02464\" xlink:href=\"#m532ad34e74\" y=\"189.268106\"/>\r\n     <use style=\"fill:#1f77b4;stroke:#1f77b4;stroke-linejoin:miter;\" x=\"72.042578\" xlink:href=\"#m532ad34e74\" y=\"189.268106\"/>\r\n     <use style=\"fill:#1f77b4;stroke:#1f77b4;stroke-linejoin:miter;\" x=\"73.060517\" xlink:href=\"#m532ad34e74\" y=\"189.268106\"/>\r\n     <use style=\"fill:#1f77b4;stroke:#1f77b4;stroke-linejoin:miter;\" x=\"74.078456\" xlink:href=\"#m532ad34e74\" y=\"189.268106\"/>\r\n     <use style=\"fill:#1f77b4;stroke:#1f77b4;stroke-linejoin:miter;\" x=\"75.096394\" xlink:href=\"#m532ad34e74\" y=\"189.268106\"/>\r\n     <use style=\"fill:#1f77b4;stroke:#1f77b4;stroke-linejoin:miter;\" x=\"76.114333\" xlink:href=\"#m532ad34e74\" y=\"189.268106\"/>\r\n     <use style=\"fill:#1f77b4;stroke:#1f77b4;stroke-linejoin:miter;\" x=\"77.132271\" xlink:href=\"#m532ad34e74\" y=\"189.268106\"/>\r\n     <use style=\"fill:#1f77b4;stroke:#1f77b4;stroke-linejoin:miter;\" x=\"78.15021\" xlink:href=\"#m532ad34e74\" y=\"189.268106\"/>\r\n     <use style=\"fill:#1f77b4;stroke:#1f77b4;stroke-linejoin:miter;\" x=\"79.168149\" xlink:href=\"#m532ad34e74\" y=\"189.268106\"/>\r\n     <use style=\"fill:#1f77b4;stroke:#1f77b4;stroke-linejoin:miter;\" x=\"80.186087\" xlink:href=\"#m532ad34e74\" y=\"189.268106\"/>\r\n     <use style=\"fill:#1f77b4;stroke:#1f77b4;stroke-linejoin:miter;\" x=\"81.204026\" xlink:href=\"#m532ad34e74\" y=\"189.268106\"/>\r\n     <use style=\"fill:#1f77b4;stroke:#1f77b4;stroke-linejoin:miter;\" x=\"82.221964\" xlink:href=\"#m532ad34e74\" y=\"189.268106\"/>\r\n     <use style=\"fill:#1f77b4;stroke:#1f77b4;stroke-linejoin:miter;\" x=\"83.239903\" xlink:href=\"#m532ad34e74\" y=\"189.268106\"/>\r\n     <use style=\"fill:#1f77b4;stroke:#1f77b4;stroke-linejoin:miter;\" x=\"84.257841\" xlink:href=\"#m532ad34e74\" y=\"189.268106\"/>\r\n     <use style=\"fill:#1f77b4;stroke:#1f77b4;stroke-linejoin:miter;\" x=\"85.27578\" xlink:href=\"#m532ad34e74\" y=\"189.268106\"/>\r\n     <use style=\"fill:#1f77b4;stroke:#1f77b4;stroke-linejoin:miter;\" x=\"86.293719\" xlink:href=\"#m532ad34e74\" y=\"189.268106\"/>\r\n     <use style=\"fill:#1f77b4;stroke:#1f77b4;stroke-linejoin:miter;\" x=\"87.311657\" xlink:href=\"#m532ad34e74\" y=\"189.268106\"/>\r\n     <use style=\"fill:#1f77b4;stroke:#1f77b4;stroke-linejoin:miter;\" x=\"88.329596\" xlink:href=\"#m532ad34e74\" y=\"189.268106\"/>\r\n     <use style=\"fill:#1f77b4;stroke:#1f77b4;stroke-linejoin:miter;\" x=\"89.347534\" xlink:href=\"#m532ad34e74\" y=\"189.268106\"/>\r\n     <use style=\"fill:#1f77b4;stroke:#1f77b4;stroke-linejoin:miter;\" x=\"90.365473\" xlink:href=\"#m532ad34e74\" y=\"189.268106\"/>\r\n     <use style=\"fill:#1f77b4;stroke:#1f77b4;stroke-linejoin:miter;\" x=\"91.383412\" xlink:href=\"#m532ad34e74\" y=\"189.268106\"/>\r\n     <use style=\"fill:#1f77b4;stroke:#1f77b4;stroke-linejoin:miter;\" x=\"92.40135\" xlink:href=\"#m532ad34e74\" y=\"189.268106\"/>\r\n     <use style=\"fill:#1f77b4;stroke:#1f77b4;stroke-linejoin:miter;\" x=\"93.419289\" xlink:href=\"#m532ad34e74\" y=\"189.268106\"/>\r\n     <use style=\"fill:#1f77b4;stroke:#1f77b4;stroke-linejoin:miter;\" x=\"94.437227\" xlink:href=\"#m532ad34e74\" y=\"189.268106\"/>\r\n     <use style=\"fill:#1f77b4;stroke:#1f77b4;stroke-linejoin:miter;\" x=\"95.455166\" xlink:href=\"#m532ad34e74\" y=\"189.268106\"/>\r\n     <use style=\"fill:#1f77b4;stroke:#1f77b4;stroke-linejoin:miter;\" x=\"96.473104\" xlink:href=\"#m532ad34e74\" y=\"189.268106\"/>\r\n     <use style=\"fill:#1f77b4;stroke:#1f77b4;stroke-linejoin:miter;\" x=\"97.491043\" xlink:href=\"#m532ad34e74\" y=\"189.268106\"/>\r\n     <use style=\"fill:#1f77b4;stroke:#1f77b4;stroke-linejoin:miter;\" x=\"98.508982\" xlink:href=\"#m532ad34e74\" y=\"189.268106\"/>\r\n     <use style=\"fill:#1f77b4;stroke:#1f77b4;stroke-linejoin:miter;\" x=\"99.52692\" xlink:href=\"#m532ad34e74\" y=\"189.268106\"/>\r\n     <use style=\"fill:#1f77b4;stroke:#1f77b4;stroke-linejoin:miter;\" x=\"100.544859\" xlink:href=\"#m532ad34e74\" y=\"189.268106\"/>\r\n     <use style=\"fill:#1f77b4;stroke:#1f77b4;stroke-linejoin:miter;\" x=\"101.562797\" xlink:href=\"#m532ad34e74\" y=\"189.268106\"/>\r\n     <use style=\"fill:#1f77b4;stroke:#1f77b4;stroke-linejoin:miter;\" x=\"102.580736\" xlink:href=\"#m532ad34e74\" y=\"189.268106\"/>\r\n     <use style=\"fill:#1f77b4;stroke:#1f77b4;stroke-linejoin:miter;\" x=\"103.598675\" xlink:href=\"#m532ad34e74\" y=\"189.268106\"/>\r\n     <use style=\"fill:#1f77b4;stroke:#1f77b4;stroke-linejoin:miter;\" x=\"104.616613\" xlink:href=\"#m532ad34e74\" y=\"189.268106\"/>\r\n     <use style=\"fill:#1f77b4;stroke:#1f77b4;stroke-linejoin:miter;\" x=\"105.634552\" xlink:href=\"#m532ad34e74\" y=\"189.268106\"/>\r\n     <use style=\"fill:#1f77b4;stroke:#1f77b4;stroke-linejoin:miter;\" x=\"106.65249\" xlink:href=\"#m532ad34e74\" y=\"189.268106\"/>\r\n     <use style=\"fill:#1f77b4;stroke:#1f77b4;stroke-linejoin:miter;\" x=\"107.670429\" xlink:href=\"#m532ad34e74\" y=\"189.268106\"/>\r\n     <use style=\"fill:#1f77b4;stroke:#1f77b4;stroke-linejoin:miter;\" x=\"108.688367\" xlink:href=\"#m532ad34e74\" y=\"189.268106\"/>\r\n     <use style=\"fill:#1f77b4;stroke:#1f77b4;stroke-linejoin:miter;\" x=\"109.706306\" xlink:href=\"#m532ad34e74\" y=\"189.268106\"/>\r\n     <use style=\"fill:#1f77b4;stroke:#1f77b4;stroke-linejoin:miter;\" x=\"110.724245\" xlink:href=\"#m532ad34e74\" y=\"189.268106\"/>\r\n     <use style=\"fill:#1f77b4;stroke:#1f77b4;stroke-linejoin:miter;\" x=\"111.742183\" xlink:href=\"#m532ad34e74\" y=\"189.268106\"/>\r\n     <use style=\"fill:#1f77b4;stroke:#1f77b4;stroke-linejoin:miter;\" x=\"112.760122\" xlink:href=\"#m532ad34e74\" y=\"189.268106\"/>\r\n     <use style=\"fill:#1f77b4;stroke:#1f77b4;stroke-linejoin:miter;\" x=\"113.77806\" xlink:href=\"#m532ad34e74\" y=\"189.268106\"/>\r\n     <use style=\"fill:#1f77b4;stroke:#1f77b4;stroke-linejoin:miter;\" x=\"114.795999\" xlink:href=\"#m532ad34e74\" y=\"189.268106\"/>\r\n     <use style=\"fill:#1f77b4;stroke:#1f77b4;stroke-linejoin:miter;\" x=\"115.813938\" xlink:href=\"#m532ad34e74\" y=\"189.268106\"/>\r\n     <use style=\"fill:#1f77b4;stroke:#1f77b4;stroke-linejoin:miter;\" x=\"116.831876\" xlink:href=\"#m532ad34e74\" y=\"189.268106\"/>\r\n     <use style=\"fill:#1f77b4;stroke:#1f77b4;stroke-linejoin:miter;\" x=\"117.849815\" xlink:href=\"#m532ad34e74\" y=\"189.268106\"/>\r\n     <use style=\"fill:#1f77b4;stroke:#1f77b4;stroke-linejoin:miter;\" x=\"118.867753\" xlink:href=\"#m532ad34e74\" y=\"189.268106\"/>\r\n     <use style=\"fill:#1f77b4;stroke:#1f77b4;stroke-linejoin:miter;\" x=\"119.885692\" xlink:href=\"#m532ad34e74\" y=\"189.268106\"/>\r\n     <use style=\"fill:#1f77b4;stroke:#1f77b4;stroke-linejoin:miter;\" x=\"120.90363\" xlink:href=\"#m532ad34e74\" y=\"189.268106\"/>\r\n     <use style=\"fill:#1f77b4;stroke:#1f77b4;stroke-linejoin:miter;\" x=\"121.921569\" xlink:href=\"#m532ad34e74\" y=\"189.268106\"/>\r\n     <use style=\"fill:#1f77b4;stroke:#1f77b4;stroke-linejoin:miter;\" x=\"122.939508\" xlink:href=\"#m532ad34e74\" y=\"189.268106\"/>\r\n     <use style=\"fill:#1f77b4;stroke:#1f77b4;stroke-linejoin:miter;\" x=\"123.957446\" xlink:href=\"#m532ad34e74\" y=\"189.268106\"/>\r\n     <use style=\"fill:#1f77b4;stroke:#1f77b4;stroke-linejoin:miter;\" x=\"124.975385\" xlink:href=\"#m532ad34e74\" y=\"189.268106\"/>\r\n     <use style=\"fill:#1f77b4;stroke:#1f77b4;stroke-linejoin:miter;\" x=\"125.993323\" xlink:href=\"#m532ad34e74\" y=\"189.268106\"/>\r\n     <use style=\"fill:#1f77b4;stroke:#1f77b4;stroke-linejoin:miter;\" x=\"127.011262\" xlink:href=\"#m532ad34e74\" y=\"189.268106\"/>\r\n     <use style=\"fill:#1f77b4;stroke:#1f77b4;stroke-linejoin:miter;\" x=\"128.029201\" xlink:href=\"#m532ad34e74\" y=\"189.268106\"/>\r\n     <use style=\"fill:#1f77b4;stroke:#1f77b4;stroke-linejoin:miter;\" x=\"129.047139\" xlink:href=\"#m532ad34e74\" y=\"189.268106\"/>\r\n     <use style=\"fill:#1f77b4;stroke:#1f77b4;stroke-linejoin:miter;\" x=\"130.065078\" xlink:href=\"#m532ad34e74\" y=\"189.268106\"/>\r\n     <use style=\"fill:#1f77b4;stroke:#1f77b4;stroke-linejoin:miter;\" x=\"131.083016\" xlink:href=\"#m532ad34e74\" y=\"189.268106\"/>\r\n     <use style=\"fill:#1f77b4;stroke:#1f77b4;stroke-linejoin:miter;\" x=\"132.100955\" xlink:href=\"#m532ad34e74\" y=\"189.268106\"/>\r\n     <use style=\"fill:#1f77b4;stroke:#1f77b4;stroke-linejoin:miter;\" x=\"133.118893\" xlink:href=\"#m532ad34e74\" y=\"189.268106\"/>\r\n     <use style=\"fill:#1f77b4;stroke:#1f77b4;stroke-linejoin:miter;\" x=\"134.136832\" xlink:href=\"#m532ad34e74\" y=\"189.268106\"/>\r\n     <use style=\"fill:#1f77b4;stroke:#1f77b4;stroke-linejoin:miter;\" x=\"135.154771\" xlink:href=\"#m532ad34e74\" y=\"189.268106\"/>\r\n     <use style=\"fill:#1f77b4;stroke:#1f77b4;stroke-linejoin:miter;\" x=\"136.172709\" xlink:href=\"#m532ad34e74\" y=\"189.268106\"/>\r\n     <use style=\"fill:#1f77b4;stroke:#1f77b4;stroke-linejoin:miter;\" x=\"137.190648\" xlink:href=\"#m532ad34e74\" y=\"189.268106\"/>\r\n     <use style=\"fill:#1f77b4;stroke:#1f77b4;stroke-linejoin:miter;\" x=\"138.208586\" xlink:href=\"#m532ad34e74\" y=\"189.268106\"/>\r\n     <use style=\"fill:#1f77b4;stroke:#1f77b4;stroke-linejoin:miter;\" x=\"139.226525\" xlink:href=\"#m532ad34e74\" y=\"189.268106\"/>\r\n     <use style=\"fill:#1f77b4;stroke:#1f77b4;stroke-linejoin:miter;\" x=\"140.244464\" xlink:href=\"#m532ad34e74\" y=\"189.268106\"/>\r\n     <use style=\"fill:#1f77b4;stroke:#1f77b4;stroke-linejoin:miter;\" x=\"141.262402\" xlink:href=\"#m532ad34e74\" y=\"189.268106\"/>\r\n     <use style=\"fill:#1f77b4;stroke:#1f77b4;stroke-linejoin:miter;\" x=\"142.280341\" xlink:href=\"#m532ad34e74\" y=\"189.268106\"/>\r\n     <use style=\"fill:#1f77b4;stroke:#1f77b4;stroke-linejoin:miter;\" x=\"143.298279\" xlink:href=\"#m532ad34e74\" y=\"189.268106\"/>\r\n     <use style=\"fill:#1f77b4;stroke:#1f77b4;stroke-linejoin:miter;\" x=\"144.316218\" xlink:href=\"#m532ad34e74\" y=\"189.268106\"/>\r\n     <use style=\"fill:#1f77b4;stroke:#1f77b4;stroke-linejoin:miter;\" x=\"145.334156\" xlink:href=\"#m532ad34e74\" y=\"189.268106\"/>\r\n     <use style=\"fill:#1f77b4;stroke:#1f77b4;stroke-linejoin:miter;\" x=\"146.352095\" xlink:href=\"#m532ad34e74\" y=\"189.268106\"/>\r\n     <use style=\"fill:#1f77b4;stroke:#1f77b4;stroke-linejoin:miter;\" x=\"147.370034\" xlink:href=\"#m532ad34e74\" y=\"189.268106\"/>\r\n     <use style=\"fill:#1f77b4;stroke:#1f77b4;stroke-linejoin:miter;\" x=\"148.387972\" xlink:href=\"#m532ad34e74\" y=\"189.268106\"/>\r\n     <use style=\"fill:#1f77b4;stroke:#1f77b4;stroke-linejoin:miter;\" x=\"149.405911\" xlink:href=\"#m532ad34e74\" y=\"189.268106\"/>\r\n     <use style=\"fill:#1f77b4;stroke:#1f77b4;stroke-linejoin:miter;\" x=\"150.423849\" xlink:href=\"#m532ad34e74\" y=\"189.268106\"/>\r\n     <use style=\"fill:#1f77b4;stroke:#1f77b4;stroke-linejoin:miter;\" x=\"151.441788\" xlink:href=\"#m532ad34e74\" y=\"189.268106\"/>\r\n     <use style=\"fill:#1f77b4;stroke:#1f77b4;stroke-linejoin:miter;\" x=\"152.459727\" xlink:href=\"#m532ad34e74\" y=\"189.268106\"/>\r\n     <use style=\"fill:#1f77b4;stroke:#1f77b4;stroke-linejoin:miter;\" x=\"153.477665\" xlink:href=\"#m532ad34e74\" y=\"189.268106\"/>\r\n     <use style=\"fill:#1f77b4;stroke:#1f77b4;stroke-linejoin:miter;\" x=\"154.495604\" xlink:href=\"#m532ad34e74\" y=\"189.268106\"/>\r\n     <use style=\"fill:#1f77b4;stroke:#1f77b4;stroke-linejoin:miter;\" x=\"155.513542\" xlink:href=\"#m532ad34e74\" y=\"189.268106\"/>\r\n     <use style=\"fill:#1f77b4;stroke:#1f77b4;stroke-linejoin:miter;\" x=\"156.531481\" xlink:href=\"#m532ad34e74\" y=\"189.268106\"/>\r\n     <use style=\"fill:#1f77b4;stroke:#1f77b4;stroke-linejoin:miter;\" x=\"157.549419\" xlink:href=\"#m532ad34e74\" y=\"189.268106\"/>\r\n     <use style=\"fill:#1f77b4;stroke:#1f77b4;stroke-linejoin:miter;\" x=\"158.567358\" xlink:href=\"#m532ad34e74\" y=\"189.268106\"/>\r\n     <use style=\"fill:#1f77b4;stroke:#1f77b4;stroke-linejoin:miter;\" x=\"159.585297\" xlink:href=\"#m532ad34e74\" y=\"189.268106\"/>\r\n     <use style=\"fill:#1f77b4;stroke:#1f77b4;stroke-linejoin:miter;\" x=\"160.603235\" xlink:href=\"#m532ad34e74\" y=\"189.268106\"/>\r\n     <use style=\"fill:#1f77b4;stroke:#1f77b4;stroke-linejoin:miter;\" x=\"161.621174\" xlink:href=\"#m532ad34e74\" y=\"189.268106\"/>\r\n     <use style=\"fill:#1f77b4;stroke:#1f77b4;stroke-linejoin:miter;\" x=\"162.639112\" xlink:href=\"#m532ad34e74\" y=\"189.268106\"/>\r\n     <use style=\"fill:#1f77b4;stroke:#1f77b4;stroke-linejoin:miter;\" x=\"163.657051\" xlink:href=\"#m532ad34e74\" y=\"189.268106\"/>\r\n     <use style=\"fill:#1f77b4;stroke:#1f77b4;stroke-linejoin:miter;\" x=\"164.67499\" xlink:href=\"#m532ad34e74\" y=\"189.268106\"/>\r\n     <use style=\"fill:#1f77b4;stroke:#1f77b4;stroke-linejoin:miter;\" x=\"165.692928\" xlink:href=\"#m532ad34e74\" y=\"189.268106\"/>\r\n     <use style=\"fill:#1f77b4;stroke:#1f77b4;stroke-linejoin:miter;\" x=\"166.710867\" xlink:href=\"#m532ad34e74\" y=\"189.268106\"/>\r\n     <use style=\"fill:#1f77b4;stroke:#1f77b4;stroke-linejoin:miter;\" x=\"167.728805\" xlink:href=\"#m532ad34e74\" y=\"189.268106\"/>\r\n     <use style=\"fill:#1f77b4;stroke:#1f77b4;stroke-linejoin:miter;\" x=\"168.746744\" xlink:href=\"#m532ad34e74\" y=\"189.268106\"/>\r\n     <use style=\"fill:#1f77b4;stroke:#1f77b4;stroke-linejoin:miter;\" x=\"169.764682\" xlink:href=\"#m532ad34e74\" y=\"189.268106\"/>\r\n     <use style=\"fill:#1f77b4;stroke:#1f77b4;stroke-linejoin:miter;\" x=\"170.782621\" xlink:href=\"#m532ad34e74\" y=\"189.268106\"/>\r\n     <use style=\"fill:#1f77b4;stroke:#1f77b4;stroke-linejoin:miter;\" x=\"171.80056\" xlink:href=\"#m532ad34e74\" y=\"189.268106\"/>\r\n     <use style=\"fill:#1f77b4;stroke:#1f77b4;stroke-linejoin:miter;\" x=\"172.818498\" xlink:href=\"#m532ad34e74\" y=\"189.268106\"/>\r\n     <use style=\"fill:#1f77b4;stroke:#1f77b4;stroke-linejoin:miter;\" x=\"173.836437\" xlink:href=\"#m532ad34e74\" y=\"189.268106\"/>\r\n     <use style=\"fill:#1f77b4;stroke:#1f77b4;stroke-linejoin:miter;\" x=\"174.854375\" xlink:href=\"#m532ad34e74\" y=\"189.268106\"/>\r\n     <use style=\"fill:#1f77b4;stroke:#1f77b4;stroke-linejoin:miter;\" x=\"175.872314\" xlink:href=\"#m532ad34e74\" y=\"189.268106\"/>\r\n     <use style=\"fill:#1f77b4;stroke:#1f77b4;stroke-linejoin:miter;\" x=\"176.890253\" xlink:href=\"#m532ad34e74\" y=\"189.268106\"/>\r\n     <use style=\"fill:#1f77b4;stroke:#1f77b4;stroke-linejoin:miter;\" x=\"177.908191\" xlink:href=\"#m532ad34e74\" y=\"189.268106\"/>\r\n     <use style=\"fill:#1f77b4;stroke:#1f77b4;stroke-linejoin:miter;\" x=\"178.92613\" xlink:href=\"#m532ad34e74\" y=\"189.268106\"/>\r\n     <use style=\"fill:#1f77b4;stroke:#1f77b4;stroke-linejoin:miter;\" x=\"179.944068\" xlink:href=\"#m532ad34e74\" y=\"189.268106\"/>\r\n     <use style=\"fill:#1f77b4;stroke:#1f77b4;stroke-linejoin:miter;\" x=\"180.962007\" xlink:href=\"#m532ad34e74\" y=\"189.268106\"/>\r\n     <use style=\"fill:#1f77b4;stroke:#1f77b4;stroke-linejoin:miter;\" x=\"181.979945\" xlink:href=\"#m532ad34e74\" y=\"189.268106\"/>\r\n     <use style=\"fill:#1f77b4;stroke:#1f77b4;stroke-linejoin:miter;\" x=\"182.997884\" xlink:href=\"#m532ad34e74\" y=\"189.268106\"/>\r\n     <use style=\"fill:#1f77b4;stroke:#1f77b4;stroke-linejoin:miter;\" x=\"184.015823\" xlink:href=\"#m532ad34e74\" y=\"189.268106\"/>\r\n     <use style=\"fill:#1f77b4;stroke:#1f77b4;stroke-linejoin:miter;\" x=\"185.033761\" xlink:href=\"#m532ad34e74\" y=\"189.268106\"/>\r\n     <use style=\"fill:#1f77b4;stroke:#1f77b4;stroke-linejoin:miter;\" x=\"186.0517\" xlink:href=\"#m532ad34e74\" y=\"189.268106\"/>\r\n     <use style=\"fill:#1f77b4;stroke:#1f77b4;stroke-linejoin:miter;\" x=\"187.069638\" xlink:href=\"#m532ad34e74\" y=\"189.268106\"/>\r\n     <use style=\"fill:#1f77b4;stroke:#1f77b4;stroke-linejoin:miter;\" x=\"188.087577\" xlink:href=\"#m532ad34e74\" y=\"189.268106\"/>\r\n     <use style=\"fill:#1f77b4;stroke:#1f77b4;stroke-linejoin:miter;\" x=\"189.105516\" xlink:href=\"#m532ad34e74\" y=\"189.268106\"/>\r\n     <use style=\"fill:#1f77b4;stroke:#1f77b4;stroke-linejoin:miter;\" x=\"190.123454\" xlink:href=\"#m532ad34e74\" y=\"189.268106\"/>\r\n     <use style=\"fill:#1f77b4;stroke:#1f77b4;stroke-linejoin:miter;\" x=\"191.141393\" xlink:href=\"#m532ad34e74\" y=\"189.268106\"/>\r\n     <use style=\"fill:#1f77b4;stroke:#1f77b4;stroke-linejoin:miter;\" x=\"192.159331\" xlink:href=\"#m532ad34e74\" y=\"189.268106\"/>\r\n     <use style=\"fill:#1f77b4;stroke:#1f77b4;stroke-linejoin:miter;\" x=\"193.17727\" xlink:href=\"#m532ad34e74\" y=\"189.268106\"/>\r\n     <use style=\"fill:#1f77b4;stroke:#1f77b4;stroke-linejoin:miter;\" x=\"194.195208\" xlink:href=\"#m532ad34e74\" y=\"189.268106\"/>\r\n     <use style=\"fill:#1f77b4;stroke:#1f77b4;stroke-linejoin:miter;\" x=\"195.213147\" xlink:href=\"#m532ad34e74\" y=\"189.268106\"/>\r\n     <use style=\"fill:#1f77b4;stroke:#1f77b4;stroke-linejoin:miter;\" x=\"196.231086\" xlink:href=\"#m532ad34e74\" y=\"189.268106\"/>\r\n     <use style=\"fill:#1f77b4;stroke:#1f77b4;stroke-linejoin:miter;\" x=\"197.249024\" xlink:href=\"#m532ad34e74\" y=\"189.268106\"/>\r\n     <use style=\"fill:#1f77b4;stroke:#1f77b4;stroke-linejoin:miter;\" x=\"198.266963\" xlink:href=\"#m532ad34e74\" y=\"189.268106\"/>\r\n     <use style=\"fill:#1f77b4;stroke:#1f77b4;stroke-linejoin:miter;\" x=\"199.284901\" xlink:href=\"#m532ad34e74\" y=\"189.268106\"/>\r\n     <use style=\"fill:#1f77b4;stroke:#1f77b4;stroke-linejoin:miter;\" x=\"200.30284\" xlink:href=\"#m532ad34e74\" y=\"189.268106\"/>\r\n     <use style=\"fill:#1f77b4;stroke:#1f77b4;stroke-linejoin:miter;\" x=\"201.320779\" xlink:href=\"#m532ad34e74\" y=\"189.268106\"/>\r\n     <use style=\"fill:#1f77b4;stroke:#1f77b4;stroke-linejoin:miter;\" x=\"202.338717\" xlink:href=\"#m532ad34e74\" y=\"189.268106\"/>\r\n     <use style=\"fill:#1f77b4;stroke:#1f77b4;stroke-linejoin:miter;\" x=\"203.356656\" xlink:href=\"#m532ad34e74\" y=\"189.268106\"/>\r\n     <use style=\"fill:#1f77b4;stroke:#1f77b4;stroke-linejoin:miter;\" x=\"204.374594\" xlink:href=\"#m532ad34e74\" y=\"189.268106\"/>\r\n     <use style=\"fill:#1f77b4;stroke:#1f77b4;stroke-linejoin:miter;\" x=\"205.392533\" xlink:href=\"#m532ad34e74\" y=\"189.268106\"/>\r\n     <use style=\"fill:#1f77b4;stroke:#1f77b4;stroke-linejoin:miter;\" x=\"206.410471\" xlink:href=\"#m532ad34e74\" y=\"189.268106\"/>\r\n     <use style=\"fill:#1f77b4;stroke:#1f77b4;stroke-linejoin:miter;\" x=\"207.42841\" xlink:href=\"#m532ad34e74\" y=\"189.268106\"/>\r\n     <use style=\"fill:#1f77b4;stroke:#1f77b4;stroke-linejoin:miter;\" x=\"208.446349\" xlink:href=\"#m532ad34e74\" y=\"189.268106\"/>\r\n     <use style=\"fill:#1f77b4;stroke:#1f77b4;stroke-linejoin:miter;\" x=\"209.464287\" xlink:href=\"#m532ad34e74\" y=\"189.268106\"/>\r\n     <use style=\"fill:#1f77b4;stroke:#1f77b4;stroke-linejoin:miter;\" x=\"210.482226\" xlink:href=\"#m532ad34e74\" y=\"189.268106\"/>\r\n     <use style=\"fill:#1f77b4;stroke:#1f77b4;stroke-linejoin:miter;\" x=\"211.500164\" xlink:href=\"#m532ad34e74\" y=\"189.268106\"/>\r\n     <use style=\"fill:#1f77b4;stroke:#1f77b4;stroke-linejoin:miter;\" x=\"212.518103\" xlink:href=\"#m532ad34e74\" y=\"189.268106\"/>\r\n     <use style=\"fill:#1f77b4;stroke:#1f77b4;stroke-linejoin:miter;\" x=\"213.536042\" xlink:href=\"#m532ad34e74\" y=\"189.268106\"/>\r\n     <use style=\"fill:#1f77b4;stroke:#1f77b4;stroke-linejoin:miter;\" x=\"214.55398\" xlink:href=\"#m532ad34e74\" y=\"189.268106\"/>\r\n     <use style=\"fill:#1f77b4;stroke:#1f77b4;stroke-linejoin:miter;\" x=\"215.571919\" xlink:href=\"#m532ad34e74\" y=\"189.268106\"/>\r\n     <use style=\"fill:#1f77b4;stroke:#1f77b4;stroke-linejoin:miter;\" x=\"216.589857\" xlink:href=\"#m532ad34e74\" y=\"189.268106\"/>\r\n     <use style=\"fill:#1f77b4;stroke:#1f77b4;stroke-linejoin:miter;\" x=\"217.607796\" xlink:href=\"#m532ad34e74\" y=\"189.268106\"/>\r\n     <use style=\"fill:#1f77b4;stroke:#1f77b4;stroke-linejoin:miter;\" x=\"218.625734\" xlink:href=\"#m532ad34e74\" y=\"189.268106\"/>\r\n     <use style=\"fill:#1f77b4;stroke:#1f77b4;stroke-linejoin:miter;\" x=\"219.643673\" xlink:href=\"#m532ad34e74\" y=\"189.268106\"/>\r\n     <use style=\"fill:#1f77b4;stroke:#1f77b4;stroke-linejoin:miter;\" x=\"220.661612\" xlink:href=\"#m532ad34e74\" y=\"189.268106\"/>\r\n     <use style=\"fill:#1f77b4;stroke:#1f77b4;stroke-linejoin:miter;\" x=\"221.67955\" xlink:href=\"#m532ad34e74\" y=\"189.268106\"/>\r\n     <use style=\"fill:#1f77b4;stroke:#1f77b4;stroke-linejoin:miter;\" x=\"222.697489\" xlink:href=\"#m532ad34e74\" y=\"189.268106\"/>\r\n     <use style=\"fill:#1f77b4;stroke:#1f77b4;stroke-linejoin:miter;\" x=\"223.715427\" xlink:href=\"#m532ad34e74\" y=\"189.268106\"/>\r\n     <use style=\"fill:#1f77b4;stroke:#1f77b4;stroke-linejoin:miter;\" x=\"224.733366\" xlink:href=\"#m532ad34e74\" y=\"189.268106\"/>\r\n     <use style=\"fill:#1f77b4;stroke:#1f77b4;stroke-linejoin:miter;\" x=\"225.751305\" xlink:href=\"#m532ad34e74\" y=\"189.268106\"/>\r\n     <use style=\"fill:#1f77b4;stroke:#1f77b4;stroke-linejoin:miter;\" x=\"226.769243\" xlink:href=\"#m532ad34e74\" y=\"189.268106\"/>\r\n     <use style=\"fill:#1f77b4;stroke:#1f77b4;stroke-linejoin:miter;\" x=\"227.787182\" xlink:href=\"#m532ad34e74\" y=\"189.268106\"/>\r\n     <use style=\"fill:#1f77b4;stroke:#1f77b4;stroke-linejoin:miter;\" x=\"228.80512\" xlink:href=\"#m532ad34e74\" y=\"189.268106\"/>\r\n     <use style=\"fill:#1f77b4;stroke:#1f77b4;stroke-linejoin:miter;\" x=\"229.823059\" xlink:href=\"#m532ad34e74\" y=\"189.268106\"/>\r\n     <use style=\"fill:#1f77b4;stroke:#1f77b4;stroke-linejoin:miter;\" x=\"230.840997\" xlink:href=\"#m532ad34e74\" y=\"189.268106\"/>\r\n     <use style=\"fill:#1f77b4;stroke:#1f77b4;stroke-linejoin:miter;\" x=\"231.858936\" xlink:href=\"#m532ad34e74\" y=\"189.268106\"/>\r\n     <use style=\"fill:#1f77b4;stroke:#1f77b4;stroke-linejoin:miter;\" x=\"232.876875\" xlink:href=\"#m532ad34e74\" y=\"189.268106\"/>\r\n     <use style=\"fill:#1f77b4;stroke:#1f77b4;stroke-linejoin:miter;\" x=\"233.894813\" xlink:href=\"#m532ad34e74\" y=\"189.268106\"/>\r\n     <use style=\"fill:#1f77b4;stroke:#1f77b4;stroke-linejoin:miter;\" x=\"234.912752\" xlink:href=\"#m532ad34e74\" y=\"189.268106\"/>\r\n     <use style=\"fill:#1f77b4;stroke:#1f77b4;stroke-linejoin:miter;\" x=\"235.93069\" xlink:href=\"#m532ad34e74\" y=\"189.268106\"/>\r\n     <use style=\"fill:#1f77b4;stroke:#1f77b4;stroke-linejoin:miter;\" x=\"236.948629\" xlink:href=\"#m532ad34e74\" y=\"189.268106\"/>\r\n     <use style=\"fill:#1f77b4;stroke:#1f77b4;stroke-linejoin:miter;\" x=\"237.966568\" xlink:href=\"#m532ad34e74\" y=\"189.268106\"/>\r\n     <use style=\"fill:#1f77b4;stroke:#1f77b4;stroke-linejoin:miter;\" x=\"238.984506\" xlink:href=\"#m532ad34e74\" y=\"189.268106\"/>\r\n     <use style=\"fill:#1f77b4;stroke:#1f77b4;stroke-linejoin:miter;\" x=\"240.002445\" xlink:href=\"#m532ad34e74\" y=\"189.268106\"/>\r\n     <use style=\"fill:#1f77b4;stroke:#1f77b4;stroke-linejoin:miter;\" x=\"241.020383\" xlink:href=\"#m532ad34e74\" y=\"189.268106\"/>\r\n     <use style=\"fill:#1f77b4;stroke:#1f77b4;stroke-linejoin:miter;\" x=\"242.038322\" xlink:href=\"#m532ad34e74\" y=\"189.268106\"/>\r\n     <use style=\"fill:#1f77b4;stroke:#1f77b4;stroke-linejoin:miter;\" x=\"243.05626\" xlink:href=\"#m532ad34e74\" y=\"189.268106\"/>\r\n     <use style=\"fill:#1f77b4;stroke:#1f77b4;stroke-linejoin:miter;\" x=\"244.074199\" xlink:href=\"#m532ad34e74\" y=\"189.268106\"/>\r\n     <use style=\"fill:#1f77b4;stroke:#1f77b4;stroke-linejoin:miter;\" x=\"245.092138\" xlink:href=\"#m532ad34e74\" y=\"189.268106\"/>\r\n     <use style=\"fill:#1f77b4;stroke:#1f77b4;stroke-linejoin:miter;\" x=\"246.110076\" xlink:href=\"#m532ad34e74\" y=\"189.268106\"/>\r\n     <use style=\"fill:#1f77b4;stroke:#1f77b4;stroke-linejoin:miter;\" x=\"247.128015\" xlink:href=\"#m532ad34e74\" y=\"189.268106\"/>\r\n     <use style=\"fill:#1f77b4;stroke:#1f77b4;stroke-linejoin:miter;\" x=\"248.145953\" xlink:href=\"#m532ad34e74\" y=\"189.268106\"/>\r\n     <use style=\"fill:#1f77b4;stroke:#1f77b4;stroke-linejoin:miter;\" x=\"249.163892\" xlink:href=\"#m532ad34e74\" y=\"189.268106\"/>\r\n     <use style=\"fill:#1f77b4;stroke:#1f77b4;stroke-linejoin:miter;\" x=\"250.181831\" xlink:href=\"#m532ad34e74\" y=\"189.268106\"/>\r\n     <use style=\"fill:#1f77b4;stroke:#1f77b4;stroke-linejoin:miter;\" x=\"251.199769\" xlink:href=\"#m532ad34e74\" y=\"189.268106\"/>\r\n     <use style=\"fill:#1f77b4;stroke:#1f77b4;stroke-linejoin:miter;\" x=\"252.217708\" xlink:href=\"#m532ad34e74\" y=\"189.268106\"/>\r\n     <use style=\"fill:#1f77b4;stroke:#1f77b4;stroke-linejoin:miter;\" x=\"253.235646\" xlink:href=\"#m532ad34e74\" y=\"189.268106\"/>\r\n     <use style=\"fill:#1f77b4;stroke:#1f77b4;stroke-linejoin:miter;\" x=\"254.253585\" xlink:href=\"#m532ad34e74\" y=\"189.268106\"/>\r\n     <use style=\"fill:#1f77b4;stroke:#1f77b4;stroke-linejoin:miter;\" x=\"255.271523\" xlink:href=\"#m532ad34e74\" y=\"189.268106\"/>\r\n     <use style=\"fill:#1f77b4;stroke:#1f77b4;stroke-linejoin:miter;\" x=\"256.289462\" xlink:href=\"#m532ad34e74\" y=\"189.268106\"/>\r\n     <use style=\"fill:#1f77b4;stroke:#1f77b4;stroke-linejoin:miter;\" x=\"257.307401\" xlink:href=\"#m532ad34e74\" y=\"189.268106\"/>\r\n     <use style=\"fill:#1f77b4;stroke:#1f77b4;stroke-linejoin:miter;\" x=\"258.325339\" xlink:href=\"#m532ad34e74\" y=\"189.268106\"/>\r\n     <use style=\"fill:#1f77b4;stroke:#1f77b4;stroke-linejoin:miter;\" x=\"259.343278\" xlink:href=\"#m532ad34e74\" y=\"189.268106\"/>\r\n     <use style=\"fill:#1f77b4;stroke:#1f77b4;stroke-linejoin:miter;\" x=\"260.361216\" xlink:href=\"#m532ad34e74\" y=\"189.268106\"/>\r\n     <use style=\"fill:#1f77b4;stroke:#1f77b4;stroke-linejoin:miter;\" x=\"261.379155\" xlink:href=\"#m532ad34e74\" y=\"189.268106\"/>\r\n     <use style=\"fill:#1f77b4;stroke:#1f77b4;stroke-linejoin:miter;\" x=\"262.397094\" xlink:href=\"#m532ad34e74\" y=\"189.268106\"/>\r\n     <use style=\"fill:#1f77b4;stroke:#1f77b4;stroke-linejoin:miter;\" x=\"263.415032\" xlink:href=\"#m532ad34e74\" y=\"189.268106\"/>\r\n     <use style=\"fill:#1f77b4;stroke:#1f77b4;stroke-linejoin:miter;\" x=\"264.432971\" xlink:href=\"#m532ad34e74\" y=\"189.268106\"/>\r\n     <use style=\"fill:#1f77b4;stroke:#1f77b4;stroke-linejoin:miter;\" x=\"265.450909\" xlink:href=\"#m532ad34e74\" y=\"189.268106\"/>\r\n     <use style=\"fill:#1f77b4;stroke:#1f77b4;stroke-linejoin:miter;\" x=\"266.468848\" xlink:href=\"#m532ad34e74\" y=\"189.268106\"/>\r\n     <use style=\"fill:#1f77b4;stroke:#1f77b4;stroke-linejoin:miter;\" x=\"267.486786\" xlink:href=\"#m532ad34e74\" y=\"189.268106\"/>\r\n     <use style=\"fill:#1f77b4;stroke:#1f77b4;stroke-linejoin:miter;\" x=\"268.504725\" xlink:href=\"#m532ad34e74\" y=\"189.268106\"/>\r\n     <use style=\"fill:#1f77b4;stroke:#1f77b4;stroke-linejoin:miter;\" x=\"269.522664\" xlink:href=\"#m532ad34e74\" y=\"189.268106\"/>\r\n     <use style=\"fill:#1f77b4;stroke:#1f77b4;stroke-linejoin:miter;\" x=\"270.540602\" xlink:href=\"#m532ad34e74\" y=\"189.268106\"/>\r\n     <use style=\"fill:#1f77b4;stroke:#1f77b4;stroke-linejoin:miter;\" x=\"271.558541\" xlink:href=\"#m532ad34e74\" y=\"189.268106\"/>\r\n     <use style=\"fill:#1f77b4;stroke:#1f77b4;stroke-linejoin:miter;\" x=\"272.576479\" xlink:href=\"#m532ad34e74\" y=\"189.268106\"/>\r\n     <use style=\"fill:#1f77b4;stroke:#1f77b4;stroke-linejoin:miter;\" x=\"273.594418\" xlink:href=\"#m532ad34e74\" y=\"189.268106\"/>\r\n     <use style=\"fill:#1f77b4;stroke:#1f77b4;stroke-linejoin:miter;\" x=\"274.612357\" xlink:href=\"#m532ad34e74\" y=\"189.268106\"/>\r\n     <use style=\"fill:#1f77b4;stroke:#1f77b4;stroke-linejoin:miter;\" x=\"275.630295\" xlink:href=\"#m532ad34e74\" y=\"189.268106\"/>\r\n     <use style=\"fill:#1f77b4;stroke:#1f77b4;stroke-linejoin:miter;\" x=\"276.648234\" xlink:href=\"#m532ad34e74\" y=\"189.268106\"/>\r\n     <use style=\"fill:#1f77b4;stroke:#1f77b4;stroke-linejoin:miter;\" x=\"277.666172\" xlink:href=\"#m532ad34e74\" y=\"189.268106\"/>\r\n     <use style=\"fill:#1f77b4;stroke:#1f77b4;stroke-linejoin:miter;\" x=\"278.684111\" xlink:href=\"#m532ad34e74\" y=\"189.268106\"/>\r\n     <use style=\"fill:#1f77b4;stroke:#1f77b4;stroke-linejoin:miter;\" x=\"279.702049\" xlink:href=\"#m532ad34e74\" y=\"189.268106\"/>\r\n     <use style=\"fill:#1f77b4;stroke:#1f77b4;stroke-linejoin:miter;\" x=\"280.719988\" xlink:href=\"#m532ad34e74\" y=\"189.268106\"/>\r\n     <use style=\"fill:#1f77b4;stroke:#1f77b4;stroke-linejoin:miter;\" x=\"281.737927\" xlink:href=\"#m532ad34e74\" y=\"189.268106\"/>\r\n     <use style=\"fill:#1f77b4;stroke:#1f77b4;stroke-linejoin:miter;\" x=\"282.755865\" xlink:href=\"#m532ad34e74\" y=\"189.268106\"/>\r\n     <use style=\"fill:#1f77b4;stroke:#1f77b4;stroke-linejoin:miter;\" x=\"283.773804\" xlink:href=\"#m532ad34e74\" y=\"189.268106\"/>\r\n     <use style=\"fill:#1f77b4;stroke:#1f77b4;stroke-linejoin:miter;\" x=\"284.791742\" xlink:href=\"#m532ad34e74\" y=\"189.268106\"/>\r\n     <use style=\"fill:#1f77b4;stroke:#1f77b4;stroke-linejoin:miter;\" x=\"285.809681\" xlink:href=\"#m532ad34e74\" y=\"189.268106\"/>\r\n     <use style=\"fill:#1f77b4;stroke:#1f77b4;stroke-linejoin:miter;\" x=\"286.82762\" xlink:href=\"#m532ad34e74\" y=\"189.268106\"/>\r\n     <use style=\"fill:#1f77b4;stroke:#1f77b4;stroke-linejoin:miter;\" x=\"287.845558\" xlink:href=\"#m532ad34e74\" y=\"189.268106\"/>\r\n     <use style=\"fill:#1f77b4;stroke:#1f77b4;stroke-linejoin:miter;\" x=\"288.863497\" xlink:href=\"#m532ad34e74\" y=\"189.268106\"/>\r\n     <use style=\"fill:#1f77b4;stroke:#1f77b4;stroke-linejoin:miter;\" x=\"289.881435\" xlink:href=\"#m532ad34e74\" y=\"189.268106\"/>\r\n     <use style=\"fill:#1f77b4;stroke:#1f77b4;stroke-linejoin:miter;\" x=\"290.899374\" xlink:href=\"#m532ad34e74\" y=\"189.268106\"/>\r\n     <use style=\"fill:#1f77b4;stroke:#1f77b4;stroke-linejoin:miter;\" x=\"291.917312\" xlink:href=\"#m532ad34e74\" y=\"189.268106\"/>\r\n     <use style=\"fill:#1f77b4;stroke:#1f77b4;stroke-linejoin:miter;\" x=\"292.935251\" xlink:href=\"#m532ad34e74\" y=\"189.268106\"/>\r\n     <use style=\"fill:#1f77b4;stroke:#1f77b4;stroke-linejoin:miter;\" x=\"293.95319\" xlink:href=\"#m532ad34e74\" y=\"189.268106\"/>\r\n     <use style=\"fill:#1f77b4;stroke:#1f77b4;stroke-linejoin:miter;\" x=\"294.971128\" xlink:href=\"#m532ad34e74\" y=\"189.268106\"/>\r\n     <use style=\"fill:#1f77b4;stroke:#1f77b4;stroke-linejoin:miter;\" x=\"295.989067\" xlink:href=\"#m532ad34e74\" y=\"189.268106\"/>\r\n     <use style=\"fill:#1f77b4;stroke:#1f77b4;stroke-linejoin:miter;\" x=\"297.007005\" xlink:href=\"#m532ad34e74\" y=\"189.268106\"/>\r\n     <use style=\"fill:#1f77b4;stroke:#1f77b4;stroke-linejoin:miter;\" x=\"298.024944\" xlink:href=\"#m532ad34e74\" y=\"189.268106\"/>\r\n     <use style=\"fill:#1f77b4;stroke:#1f77b4;stroke-linejoin:miter;\" x=\"299.042883\" xlink:href=\"#m532ad34e74\" y=\"189.268106\"/>\r\n     <use style=\"fill:#1f77b4;stroke:#1f77b4;stroke-linejoin:miter;\" x=\"300.060821\" xlink:href=\"#m532ad34e74\" y=\"189.268106\"/>\r\n     <use style=\"fill:#1f77b4;stroke:#1f77b4;stroke-linejoin:miter;\" x=\"301.07876\" xlink:href=\"#m532ad34e74\" y=\"189.268106\"/>\r\n     <use style=\"fill:#1f77b4;stroke:#1f77b4;stroke-linejoin:miter;\" x=\"302.096698\" xlink:href=\"#m532ad34e74\" y=\"189.268106\"/>\r\n     <use style=\"fill:#1f77b4;stroke:#1f77b4;stroke-linejoin:miter;\" x=\"303.114637\" xlink:href=\"#m532ad34e74\" y=\"189.268106\"/>\r\n     <use style=\"fill:#1f77b4;stroke:#1f77b4;stroke-linejoin:miter;\" x=\"304.132575\" xlink:href=\"#m532ad34e74\" y=\"189.268106\"/>\r\n     <use style=\"fill:#1f77b4;stroke:#1f77b4;stroke-linejoin:miter;\" x=\"305.150514\" xlink:href=\"#m532ad34e74\" y=\"189.268106\"/>\r\n     <use style=\"fill:#1f77b4;stroke:#1f77b4;stroke-linejoin:miter;\" x=\"306.168453\" xlink:href=\"#m532ad34e74\" y=\"189.268106\"/>\r\n     <use style=\"fill:#1f77b4;stroke:#1f77b4;stroke-linejoin:miter;\" x=\"307.186391\" xlink:href=\"#m532ad34e74\" y=\"189.268106\"/>\r\n     <use style=\"fill:#1f77b4;stroke:#1f77b4;stroke-linejoin:miter;\" x=\"308.20433\" xlink:href=\"#m532ad34e74\" y=\"189.268106\"/>\r\n     <use style=\"fill:#1f77b4;stroke:#1f77b4;stroke-linejoin:miter;\" x=\"309.222268\" xlink:href=\"#m532ad34e74\" y=\"189.268106\"/>\r\n     <use style=\"fill:#1f77b4;stroke:#1f77b4;stroke-linejoin:miter;\" x=\"310.240207\" xlink:href=\"#m532ad34e74\" y=\"189.268106\"/>\r\n     <use style=\"fill:#1f77b4;stroke:#1f77b4;stroke-linejoin:miter;\" x=\"311.258146\" xlink:href=\"#m532ad34e74\" y=\"189.268106\"/>\r\n     <use style=\"fill:#1f77b4;stroke:#1f77b4;stroke-linejoin:miter;\" x=\"312.276084\" xlink:href=\"#m532ad34e74\" y=\"189.268106\"/>\r\n     <use style=\"fill:#1f77b4;stroke:#1f77b4;stroke-linejoin:miter;\" x=\"313.294023\" xlink:href=\"#m532ad34e74\" y=\"189.268106\"/>\r\n     <use style=\"fill:#1f77b4;stroke:#1f77b4;stroke-linejoin:miter;\" x=\"314.311961\" xlink:href=\"#m532ad34e74\" y=\"189.268106\"/>\r\n     <use style=\"fill:#1f77b4;stroke:#1f77b4;stroke-linejoin:miter;\" x=\"315.3299\" xlink:href=\"#m532ad34e74\" y=\"189.268106\"/>\r\n     <use style=\"fill:#1f77b4;stroke:#1f77b4;stroke-linejoin:miter;\" x=\"316.347838\" xlink:href=\"#m532ad34e74\" y=\"189.268106\"/>\r\n     <use style=\"fill:#1f77b4;stroke:#1f77b4;stroke-linejoin:miter;\" x=\"317.365777\" xlink:href=\"#m532ad34e74\" y=\"189.268106\"/>\r\n     <use style=\"fill:#1f77b4;stroke:#1f77b4;stroke-linejoin:miter;\" x=\"318.383716\" xlink:href=\"#m532ad34e74\" y=\"189.268106\"/>\r\n     <use style=\"fill:#1f77b4;stroke:#1f77b4;stroke-linejoin:miter;\" x=\"319.401654\" xlink:href=\"#m532ad34e74\" y=\"189.268106\"/>\r\n     <use style=\"fill:#1f77b4;stroke:#1f77b4;stroke-linejoin:miter;\" x=\"320.419593\" xlink:href=\"#m532ad34e74\" y=\"189.268106\"/>\r\n     <use style=\"fill:#1f77b4;stroke:#1f77b4;stroke-linejoin:miter;\" x=\"321.437531\" xlink:href=\"#m532ad34e74\" y=\"189.268106\"/>\r\n     <use style=\"fill:#1f77b4;stroke:#1f77b4;stroke-linejoin:miter;\" x=\"322.45547\" xlink:href=\"#m532ad34e74\" y=\"189.268106\"/>\r\n     <use style=\"fill:#1f77b4;stroke:#1f77b4;stroke-linejoin:miter;\" x=\"323.473409\" xlink:href=\"#m532ad34e74\" y=\"189.268106\"/>\r\n     <use style=\"fill:#1f77b4;stroke:#1f77b4;stroke-linejoin:miter;\" x=\"324.491347\" xlink:href=\"#m532ad34e74\" y=\"189.268106\"/>\r\n     <use style=\"fill:#1f77b4;stroke:#1f77b4;stroke-linejoin:miter;\" x=\"325.509286\" xlink:href=\"#m532ad34e74\" y=\"189.268106\"/>\r\n     <use style=\"fill:#1f77b4;stroke:#1f77b4;stroke-linejoin:miter;\" x=\"326.527224\" xlink:href=\"#m532ad34e74\" y=\"189.268106\"/>\r\n     <use style=\"fill:#1f77b4;stroke:#1f77b4;stroke-linejoin:miter;\" x=\"327.545163\" xlink:href=\"#m532ad34e74\" y=\"189.268106\"/>\r\n     <use style=\"fill:#1f77b4;stroke:#1f77b4;stroke-linejoin:miter;\" x=\"328.563101\" xlink:href=\"#m532ad34e74\" y=\"189.268106\"/>\r\n     <use style=\"fill:#1f77b4;stroke:#1f77b4;stroke-linejoin:miter;\" x=\"329.58104\" xlink:href=\"#m532ad34e74\" y=\"189.268106\"/>\r\n     <use style=\"fill:#1f77b4;stroke:#1f77b4;stroke-linejoin:miter;\" x=\"330.598979\" xlink:href=\"#m532ad34e74\" y=\"189.268106\"/>\r\n     <use style=\"fill:#1f77b4;stroke:#1f77b4;stroke-linejoin:miter;\" x=\"331.616917\" xlink:href=\"#m532ad34e74\" y=\"189.268106\"/>\r\n     <use style=\"fill:#1f77b4;stroke:#1f77b4;stroke-linejoin:miter;\" x=\"332.634856\" xlink:href=\"#m532ad34e74\" y=\"189.268106\"/>\r\n     <use style=\"fill:#1f77b4;stroke:#1f77b4;stroke-linejoin:miter;\" x=\"333.652794\" xlink:href=\"#m532ad34e74\" y=\"189.268106\"/>\r\n     <use style=\"fill:#1f77b4;stroke:#1f77b4;stroke-linejoin:miter;\" x=\"334.670733\" xlink:href=\"#m532ad34e74\" y=\"189.268106\"/>\r\n     <use style=\"fill:#1f77b4;stroke:#1f77b4;stroke-linejoin:miter;\" x=\"335.688672\" xlink:href=\"#m532ad34e74\" y=\"189.268106\"/>\r\n     <use style=\"fill:#1f77b4;stroke:#1f77b4;stroke-linejoin:miter;\" x=\"336.70661\" xlink:href=\"#m532ad34e74\" y=\"189.268106\"/>\r\n     <use style=\"fill:#1f77b4;stroke:#1f77b4;stroke-linejoin:miter;\" x=\"337.724549\" xlink:href=\"#m532ad34e74\" y=\"189.268106\"/>\r\n     <use style=\"fill:#1f77b4;stroke:#1f77b4;stroke-linejoin:miter;\" x=\"338.742487\" xlink:href=\"#m532ad34e74\" y=\"189.268106\"/>\r\n     <use style=\"fill:#1f77b4;stroke:#1f77b4;stroke-linejoin:miter;\" x=\"339.760426\" xlink:href=\"#m532ad34e74\" y=\"189.268106\"/>\r\n     <use style=\"fill:#1f77b4;stroke:#1f77b4;stroke-linejoin:miter;\" x=\"340.778364\" xlink:href=\"#m532ad34e74\" y=\"189.268106\"/>\r\n     <use style=\"fill:#1f77b4;stroke:#1f77b4;stroke-linejoin:miter;\" x=\"341.796303\" xlink:href=\"#m532ad34e74\" y=\"189.268106\"/>\r\n     <use style=\"fill:#1f77b4;stroke:#1f77b4;stroke-linejoin:miter;\" x=\"342.814242\" xlink:href=\"#m532ad34e74\" y=\"189.268106\"/>\r\n     <use style=\"fill:#1f77b4;stroke:#1f77b4;stroke-linejoin:miter;\" x=\"343.83218\" xlink:href=\"#m532ad34e74\" y=\"189.268106\"/>\r\n     <use style=\"fill:#1f77b4;stroke:#1f77b4;stroke-linejoin:miter;\" x=\"344.850119\" xlink:href=\"#m532ad34e74\" y=\"189.268106\"/>\r\n     <use style=\"fill:#1f77b4;stroke:#1f77b4;stroke-linejoin:miter;\" x=\"345.868057\" xlink:href=\"#m532ad34e74\" y=\"189.268106\"/>\r\n     <use style=\"fill:#1f77b4;stroke:#1f77b4;stroke-linejoin:miter;\" x=\"346.885996\" xlink:href=\"#m532ad34e74\" y=\"189.268106\"/>\r\n     <use style=\"fill:#1f77b4;stroke:#1f77b4;stroke-linejoin:miter;\" x=\"347.903935\" xlink:href=\"#m532ad34e74\" y=\"189.268106\"/>\r\n     <use style=\"fill:#1f77b4;stroke:#1f77b4;stroke-linejoin:miter;\" x=\"348.921873\" xlink:href=\"#m532ad34e74\" y=\"189.268106\"/>\r\n     <use style=\"fill:#1f77b4;stroke:#1f77b4;stroke-linejoin:miter;\" x=\"349.939812\" xlink:href=\"#m532ad34e74\" y=\"189.268106\"/>\r\n     <use style=\"fill:#1f77b4;stroke:#1f77b4;stroke-linejoin:miter;\" x=\"350.95775\" xlink:href=\"#m532ad34e74\" y=\"189.268106\"/>\r\n     <use style=\"fill:#1f77b4;stroke:#1f77b4;stroke-linejoin:miter;\" x=\"351.975689\" xlink:href=\"#m532ad34e74\" y=\"189.268106\"/>\r\n     <use style=\"fill:#1f77b4;stroke:#1f77b4;stroke-linejoin:miter;\" x=\"352.993627\" xlink:href=\"#m532ad34e74\" y=\"189.268106\"/>\r\n     <use style=\"fill:#1f77b4;stroke:#1f77b4;stroke-linejoin:miter;\" x=\"354.011566\" xlink:href=\"#m532ad34e74\" y=\"189.268106\"/>\r\n     <use style=\"fill:#1f77b4;stroke:#1f77b4;stroke-linejoin:miter;\" x=\"355.029505\" xlink:href=\"#m532ad34e74\" y=\"189.268106\"/>\r\n     <use style=\"fill:#1f77b4;stroke:#1f77b4;stroke-linejoin:miter;\" x=\"356.047443\" xlink:href=\"#m532ad34e74\" y=\"189.268106\"/>\r\n    </g>\r\n   </g>\r\n   <g id=\"patch_3\">\r\n    <path d=\"M 36.465625 224.64 \r\nL 36.465625 7.2 \r\n\" style=\"fill:none;stroke:#000000;stroke-linecap:square;stroke-linejoin:miter;stroke-width:0.8;\"/>\r\n   </g>\r\n   <g id=\"patch_4\">\r\n    <path d=\"M 371.265625 224.64 \r\nL 371.265625 7.2 \r\n\" style=\"fill:none;stroke:#000000;stroke-linecap:square;stroke-linejoin:miter;stroke-width:0.8;\"/>\r\n   </g>\r\n   <g id=\"patch_5\">\r\n    <path d=\"M 36.465625 224.64 \r\nL 371.265625 224.64 \r\n\" style=\"fill:none;stroke:#000000;stroke-linecap:square;stroke-linejoin:miter;stroke-width:0.8;\"/>\r\n   </g>\r\n   <g id=\"patch_6\">\r\n    <path d=\"M 36.465625 7.2 \r\nL 371.265625 7.2 \r\n\" style=\"fill:none;stroke:#000000;stroke-linecap:square;stroke-linejoin:miter;stroke-width:0.8;\"/>\r\n   </g>\r\n  </g>\r\n </g>\r\n <defs>\r\n  <clipPath id=\"p1654f35ed8\">\r\n   <rect height=\"217.44\" width=\"334.8\" x=\"36.465625\" y=\"7.2\"/>\r\n  </clipPath>\r\n </defs>\r\n</svg>\r\n",
      "image/png": "[encoded data removed]"
     },
     "metadata": {
      "needs_background": "light"
     }
    }
   ],
   "source": [
    "from matplotlib import pyplot as plt\n",
    "\n",
    "plt.plot(\n",
    "    range(len(hist.history['loss'])), hist.history['loss'], 'r',\n",
    "    range(len(hist.history['accuracy'])), hist.history['accuracy'], 'g',\n",
    "    range(len(hist.history['val_loss'])), hist.history['val_loss'], 'b',\n",
    "    range(len(hist.history['val_accuracy'])), hist.history['val_accuracy'], 'p'\n",
    "    )\n",
    "plt.show()\n",
    "\n",
    "#plt.semilogx(hist.history['lr'], hist.history['loss'])\n",
    "#plt.show()"
   ]
  },
  {
   "cell_type": "code",
   "execution_count": 114,
   "metadata": {},
   "outputs": [
    {
     "output_type": "stream",
     "name": "stdout",
     "text": [
      "Model: \"sequential\"\n_________________________________________________________________\nLayer (type)                 Output Shape              Param #   \n=================================================================\ndense (Dense)                (None, 64)                448       \n_________________________________________________________________\ndense_1 (Dense)              (None, 1)                 65        \n=================================================================\nTotal params: 513\nTrainable params: 513\nNon-trainable params: 0\n_________________________________________________________________\n"
     ]
    }
   ],
   "source": [
    "predict_fert.summary()"
   ]
  },
  {
   "cell_type": "code",
   "execution_count": 115,
   "metadata": {},
   "outputs": [
    {
     "output_type": "execute_result",
     "data": {
      "text/plain": [
       "array([[0.6758434]], dtype=float32)"
      ]
     },
     "metadata": {},
     "execution_count": 115
    }
   ],
   "source": [
    "predict_fert.predict(np.expand_dims(\n",
    "    FERTILISER_TRAIN_FEATURES.loc[2].values,\n",
    "    0\n",
    "    ))"
   ]
  },
  {
   "cell_type": "code",
   "execution_count": 124,
   "metadata": {},
   "outputs": [
    {
     "output_type": "execute_result",
     "data": {
      "text/plain": [
       "array([[0.66501397]], dtype=float32)"
      ]
     },
     "metadata": {},
     "execution_count": 124
    }
   ],
   "source": [
    "predict_fert.predict(np.expand_dims(\n",
    "    FERTILISER_TRAIN_FEATURES.loc[0].values,\n",
    "    0\n",
    "    ))"
   ]
  },
  {
   "cell_type": "code",
   "execution_count": 117,
   "metadata": {},
   "outputs": [
    {
     "output_type": "execute_result",
     "data": {
      "text/plain": [
       "array([[0.09985325]], dtype=float32)"
      ]
     },
     "metadata": {},
     "execution_count": 117
    }
   ],
   "source": [
    "predict_fert.predict(np.expand_dims(FERTILISER_TRAIN_FEATURES.loc[959].values, 0))"
   ]
  },
  {
   "cell_type": "code",
   "execution_count": 119,
   "metadata": {},
   "outputs": [
    {
     "output_type": "execute_result",
     "data": {
      "text/plain": [
       "       output  temperature  humidity        ph  rainfall  label  target_output\n",
       "0    0.668293     0.539035  0.949311  0.712243  0.866725      0              1\n",
       "1    0.039024     0.831111  0.977665  0.927345  0.817525      3              2\n",
       "2    0.624390     0.501732  0.984904  0.755132  0.862990      0              1\n",
       "3    0.092683     0.554847  0.775005  0.734155  0.780727      2              2\n",
       "4    0.068293     0.390387  0.970332  0.828192  0.823553      3              2\n",
       "..        ...          ...       ...       ...       ...    ...            ...\n",
       "956  0.170732     0.236903  0.868962  0.730142  0.528065      1              0\n",
       "957  0.180488     0.561904  0.957642  0.699556  0.857383      0              0\n",
       "958  0.097561     0.609930  0.668118  0.822052  0.870643      2              2\n",
       "959  0.107317     0.521712  0.965131  0.812403  0.936609      0              0\n",
       "960  0.039024     0.599118  0.974183  0.888238  0.914494      3              1\n",
       "\n",
       "[961 rows x 7 columns]"
      ],
      "text/html": "<div>\n<style scoped>\n    .dataframe tbody tr th:only-of-type {\n        vertical-align: middle;\n    }\n\n    .dataframe tbody tr th {\n        vertical-align: top;\n    }\n\n    .dataframe thead th {\n        text-align: right;\n    }\n</style>\n<table border=\"1\" class=\"dataframe\">\n  <thead>\n    <tr style=\"text-align: right;\">\n      <th></th>\n      <th>output</th>\n      <th>temperature</th>\n      <th>humidity</th>\n      <th>ph</th>\n      <th>rainfall</th>\n      <th>label</th>\n      <th>target_output</th>\n    </tr>\n  </thead>\n  <tbody>\n    <tr>\n      <th>0</th>\n      <td>0.668293</td>\n      <td>0.539035</td>\n      <td>0.949311</td>\n      <td>0.712243</td>\n      <td>0.866725</td>\n      <td>0</td>\n      <td>1</td>\n    </tr>\n    <tr>\n      <th>1</th>\n      <td>0.039024</td>\n      <td>0.831111</td>\n      <td>0.977665</td>\n      <td>0.927345</td>\n      <td>0.817525</td>\n      <td>3</td>\n      <td>2</td>\n    </tr>\n    <tr>\n      <th>2</th>\n      <td>0.624390</td>\n      <td>0.501732</td>\n      <td>0.984904</td>\n      <td>0.755132</td>\n      <td>0.862990</td>\n      <td>0</td>\n      <td>1</td>\n    </tr>\n    <tr>\n      <th>3</th>\n      <td>0.092683</td>\n      <td>0.554847</td>\n      <td>0.775005</td>\n      <td>0.734155</td>\n      <td>0.780727</td>\n      <td>2</td>\n      <td>2</td>\n    </tr>\n    <tr>\n      <th>4</th>\n      <td>0.068293</td>\n      <td>0.390387</td>\n      <td>0.970332</td>\n      <td>0.828192</td>\n      <td>0.823553</td>\n      <td>3</td>\n      <td>2</td>\n    </tr>\n    <tr>\n      <th>...</th>\n      <td>...</td>\n      <td>...</td>\n      <td>...</td>\n      <td>...</td>\n      <td>...</td>\n      <td>...</td>\n      <td>...</td>\n    </tr>\n    <tr>\n      <th>956</th>\n      <td>0.170732</td>\n      <td>0.236903</td>\n      <td>0.868962</td>\n      <td>0.730142</td>\n      <td>0.528065</td>\n      <td>1</td>\n      <td>0</td>\n    </tr>\n    <tr>\n      <th>957</th>\n      <td>0.180488</td>\n      <td>0.561904</td>\n      <td>0.957642</td>\n      <td>0.699556</td>\n      <td>0.857383</td>\n      <td>0</td>\n      <td>0</td>\n    </tr>\n    <tr>\n      <th>958</th>\n      <td>0.097561</td>\n      <td>0.609930</td>\n      <td>0.668118</td>\n      <td>0.822052</td>\n      <td>0.870643</td>\n      <td>2</td>\n      <td>2</td>\n    </tr>\n    <tr>\n      <th>959</th>\n      <td>0.107317</td>\n      <td>0.521712</td>\n      <td>0.965131</td>\n      <td>0.812403</td>\n      <td>0.936609</td>\n      <td>0</td>\n      <td>0</td>\n    </tr>\n    <tr>\n      <th>960</th>\n      <td>0.039024</td>\n      <td>0.599118</td>\n      <td>0.974183</td>\n      <td>0.888238</td>\n      <td>0.914494</td>\n      <td>3</td>\n      <td>1</td>\n    </tr>\n  </tbody>\n</table>\n<p>961 rows × 7 columns</p>\n</div>"
     },
     "metadata": {},
     "execution_count": 119
    }
   ],
   "source": [
    "FERTILISER_TRAIN"
   ]
  },
  {
   "cell_type": "code",
   "execution_count": 128,
   "metadata": {},
   "outputs": [
    {
     "output_type": "stream",
     "name": "stdout",
     "text": [
      "Real: 137.0\nPredicted: [[136.32787]]\n"
     ]
    }
   ],
   "source": [
    "# Output\n",
    "print('Real:', FERTILISER_TRAIN.loc[0, 'output'] * 205)\n",
    "print('Predicted:', predict_fert.predict(np.expand_dims(\n",
    "    FERTILISER_TRAIN_FEATURES.loc[0].values,\n",
    "    0\n",
    "    )) * 205)"
   ]
  },
  {
   "cell_type": "code",
   "execution_count": 29,
   "metadata": {},
   "outputs": [
    {
     "output_type": "display_data",
     "data": {
      "text/plain": "<Figure size 432x288 with 1 Axes>",
      "image/svg+xml": "<?xml version=\"1.0\" encoding=\"utf-8\" standalone=\"no\"?>\r\n<!DOCTYPE svg PUBLIC \"-//W3C//DTD SVG 1.1//EN\"\r\n  \"http://www.w3.org/Graphics/SVG/1.1/DTD/svg11.dtd\">\r\n<!-- Created with matplotlib (https://matplotlib.org/) -->\r\n<svg height=\"248.518125pt\" version=\"1.1\" viewBox=\"0 0 386.845312 248.518125\" width=\"386.845312pt\" xmlns=\"http://www.w3.org/2000/svg\" xmlns:xlink=\"http://www.w3.org/1999/xlink\">\r\n <metadata>\r\n  <rdf:RDF xmlns:cc=\"http://creativecommons.org/ns#\" xmlns:dc=\"http://purl.org/dc/elements/1.1/\" xmlns:rdf=\"http://www.w3.org/1999/02/22-rdf-syntax-ns#\">\r\n   <cc:Work>\r\n    <dc:type rdf:resource=\"http://purl.org/dc/dcmitype/StillImage\"/>\r\n    <dc:date>2021-05-24T07:02:05.601516</dc:date>\r\n    <dc:format>image/svg+xml</dc:format>\r\n    <dc:creator>\r\n     <cc:Agent>\r\n      <dc:title>Matplotlib v3.3.3, https://matplotlib.org/</dc:title>\r\n     </cc:Agent>\r\n    </dc:creator>\r\n   </cc:Work>\r\n  </rdf:RDF>\r\n </metadata>\r\n <defs>\r\n  <style type=\"text/css\">*{stroke-linecap:butt;stroke-linejoin:round;}</style>\r\n </defs>\r\n <g id=\"figure_1\">\r\n  <g id=\"patch_1\">\r\n   <path d=\"M 0 248.518125 \r\nL 386.845312 248.518125 \r\nL 386.845312 0 \r\nL 0 0 \r\nz\r\n\" style=\"fill:none;\"/>\r\n  </g>\r\n  <g id=\"axes_1\">\r\n   <g id=\"patch_2\">\r\n    <path d=\"M 44.845313 224.64 \r\nL 379.645313 224.64 \r\nL 379.645313 7.2 \r\nL 44.845313 7.2 \r\nz\r\n\" style=\"fill:#ffffff;\"/>\r\n   </g>\r\n   <g id=\"matplotlib.axis_1\">\r\n    <g id=\"xtick_1\">\r\n     <g id=\"line2d_1\">\r\n      <defs>\r\n       <path d=\"M 0 0 \r\nL 0 3.5 \r\n\" id=\"m1423250c89\" style=\"stroke:#000000;stroke-width:0.8;\"/>\r\n      </defs>\r\n      <g>\r\n       <use style=\"stroke:#000000;stroke-width:0.8;\" x=\"90.499858\" xlink:href=\"#m1423250c89\" y=\"224.64\"/>\r\n      </g>\r\n     </g>\r\n     <g id=\"text_1\">\r\n      <!-- −0.04 -->\r\n      <g transform=\"translate(75.177202 239.238437)scale(0.1 -0.1)\">\r\n       <defs>\r\n        <path d=\"M 10.59375 35.5 \r\nL 73.1875 35.5 \r\nL 73.1875 27.203125 \r\nL 10.59375 27.203125 \r\nz\r\n\" id=\"DejaVuSans-8722\"/>\r\n        <path d=\"M 31.78125 66.40625 \r\nQ 24.171875 66.40625 20.328125 58.90625 \r\nQ 16.5 51.421875 16.5 36.375 \r\nQ 16.5 21.390625 20.328125 13.890625 \r\nQ 24.171875 6.390625 31.78125 6.390625 \r\nQ 39.453125 6.390625 43.28125 13.890625 \r\nQ 47.125 21.390625 47.125 36.375 \r\nQ 47.125 51.421875 43.28125 58.90625 \r\nQ 39.453125 66.40625 31.78125 66.40625 \r\nz\r\nM 31.78125 74.21875 \r\nQ 44.046875 74.21875 50.515625 64.515625 \r\nQ 56.984375 54.828125 56.984375 36.375 \r\nQ 56.984375 17.96875 50.515625 8.265625 \r\nQ 44.046875 -1.421875 31.78125 -1.421875 \r\nQ 19.53125 -1.421875 13.0625 8.265625 \r\nQ 6.59375 17.96875 6.59375 36.375 \r\nQ 6.59375 54.828125 13.0625 64.515625 \r\nQ 19.53125 74.21875 31.78125 74.21875 \r\nz\r\n\" id=\"DejaVuSans-48\"/>\r\n        <path d=\"M 10.6875 12.40625 \r\nL 21 12.40625 \r\nL 21 0 \r\nL 10.6875 0 \r\nz\r\n\" id=\"DejaVuSans-46\"/>\r\n        <path d=\"M 37.796875 64.3125 \r\nL 12.890625 25.390625 \r\nL 37.796875 25.390625 \r\nz\r\nM 35.203125 72.90625 \r\nL 47.609375 72.90625 \r\nL 47.609375 25.390625 \r\nL 58.015625 25.390625 \r\nL 58.015625 17.1875 \r\nL 47.609375 17.1875 \r\nL 47.609375 0 \r\nL 37.796875 0 \r\nL 37.796875 17.1875 \r\nL 4.890625 17.1875 \r\nL 4.890625 26.703125 \r\nz\r\n\" id=\"DejaVuSans-52\"/>\r\n       </defs>\r\n       <use xlink:href=\"#DejaVuSans-8722\"/>\r\n       <use x=\"83.789062\" xlink:href=\"#DejaVuSans-48\"/>\r\n       <use x=\"147.412109\" xlink:href=\"#DejaVuSans-46\"/>\r\n       <use x=\"179.199219\" xlink:href=\"#DejaVuSans-48\"/>\r\n       <use x=\"242.822266\" xlink:href=\"#DejaVuSans-52\"/>\r\n      </g>\r\n     </g>\r\n    </g>\r\n    <g id=\"xtick_2\">\r\n     <g id=\"line2d_2\">\r\n      <g>\r\n       <use style=\"stroke:#000000;stroke-width:0.8;\" x=\"151.372585\" xlink:href=\"#m1423250c89\" y=\"224.64\"/>\r\n      </g>\r\n     </g>\r\n     <g id=\"text_2\">\r\n      <!-- −0.02 -->\r\n      <g transform=\"translate(136.049929 239.238437)scale(0.1 -0.1)\">\r\n       <defs>\r\n        <path d=\"M 19.1875 8.296875 \r\nL 53.609375 8.296875 \r\nL 53.609375 0 \r\nL 7.328125 0 \r\nL 7.328125 8.296875 \r\nQ 12.9375 14.109375 22.625 23.890625 \r\nQ 32.328125 33.6875 34.8125 36.53125 \r\nQ 39.546875 41.84375 41.421875 45.53125 \r\nQ 43.3125 49.21875 43.3125 52.78125 \r\nQ 43.3125 58.59375 39.234375 62.25 \r\nQ 35.15625 65.921875 28.609375 65.921875 \r\nQ 23.96875 65.921875 18.8125 64.3125 \r\nQ 13.671875 62.703125 7.8125 59.421875 \r\nL 7.8125 69.390625 \r\nQ 13.765625 71.78125 18.9375 73 \r\nQ 24.125 74.21875 28.421875 74.21875 \r\nQ 39.75 74.21875 46.484375 68.546875 \r\nQ 53.21875 62.890625 53.21875 53.421875 \r\nQ 53.21875 48.921875 51.53125 44.890625 \r\nQ 49.859375 40.875 45.40625 35.40625 \r\nQ 44.1875 33.984375 37.640625 27.21875 \r\nQ 31.109375 20.453125 19.1875 8.296875 \r\nz\r\n\" id=\"DejaVuSans-50\"/>\r\n       </defs>\r\n       <use xlink:href=\"#DejaVuSans-8722\"/>\r\n       <use x=\"83.789062\" xlink:href=\"#DejaVuSans-48\"/>\r\n       <use x=\"147.412109\" xlink:href=\"#DejaVuSans-46\"/>\r\n       <use x=\"179.199219\" xlink:href=\"#DejaVuSans-48\"/>\r\n       <use x=\"242.822266\" xlink:href=\"#DejaVuSans-50\"/>\r\n      </g>\r\n     </g>\r\n    </g>\r\n    <g id=\"xtick_3\">\r\n     <g id=\"line2d_3\">\r\n      <g>\r\n       <use style=\"stroke:#000000;stroke-width:0.8;\" x=\"212.245313\" xlink:href=\"#m1423250c89\" y=\"224.64\"/>\r\n      </g>\r\n     </g>\r\n     <g id=\"text_3\">\r\n      <!-- 0.00 -->\r\n      <g transform=\"translate(201.1125 239.238437)scale(0.1 -0.1)\">\r\n       <use xlink:href=\"#DejaVuSans-48\"/>\r\n       <use x=\"63.623047\" xlink:href=\"#DejaVuSans-46\"/>\r\n       <use x=\"95.410156\" xlink:href=\"#DejaVuSans-48\"/>\r\n       <use x=\"159.033203\" xlink:href=\"#DejaVuSans-48\"/>\r\n      </g>\r\n     </g>\r\n    </g>\r\n    <g id=\"xtick_4\">\r\n     <g id=\"line2d_4\">\r\n      <g>\r\n       <use style=\"stroke:#000000;stroke-width:0.8;\" x=\"273.11804\" xlink:href=\"#m1423250c89\" y=\"224.64\"/>\r\n      </g>\r\n     </g>\r\n     <g id=\"text_4\">\r\n      <!-- 0.02 -->\r\n      <g transform=\"translate(261.985227 239.238437)scale(0.1 -0.1)\">\r\n       <use xlink:href=\"#DejaVuSans-48\"/>\r\n       <use x=\"63.623047\" xlink:href=\"#DejaVuSans-46\"/>\r\n       <use x=\"95.410156\" xlink:href=\"#DejaVuSans-48\"/>\r\n       <use x=\"159.033203\" xlink:href=\"#DejaVuSans-50\"/>\r\n      </g>\r\n     </g>\r\n    </g>\r\n    <g id=\"xtick_5\">\r\n     <g id=\"line2d_5\">\r\n      <g>\r\n       <use style=\"stroke:#000000;stroke-width:0.8;\" x=\"333.990767\" xlink:href=\"#m1423250c89\" y=\"224.64\"/>\r\n      </g>\r\n     </g>\r\n     <g id=\"text_5\">\r\n      <!-- 0.04 -->\r\n      <g transform=\"translate(322.857955 239.238437)scale(0.1 -0.1)\">\r\n       <use xlink:href=\"#DejaVuSans-48\"/>\r\n       <use x=\"63.623047\" xlink:href=\"#DejaVuSans-46\"/>\r\n       <use x=\"95.410156\" xlink:href=\"#DejaVuSans-48\"/>\r\n       <use x=\"159.033203\" xlink:href=\"#DejaVuSans-52\"/>\r\n      </g>\r\n     </g>\r\n    </g>\r\n   </g>\r\n   <g id=\"matplotlib.axis_2\">\r\n    <g id=\"ytick_1\">\r\n     <g id=\"line2d_6\">\r\n      <defs>\r\n       <path d=\"M 0 0 \r\nL -3.5 0 \r\n\" id=\"mdd6759a7ad\" style=\"stroke:#000000;stroke-width:0.8;\"/>\r\n      </defs>\r\n      <g>\r\n       <use style=\"stroke:#000000;stroke-width:0.8;\" x=\"44.845313\" xlink:href=\"#mdd6759a7ad\" y=\"194.989091\"/>\r\n      </g>\r\n     </g>\r\n     <g id=\"text_6\">\r\n      <!-- −0.04 -->\r\n      <g transform=\"translate(7.2 198.78831)scale(0.1 -0.1)\">\r\n       <use xlink:href=\"#DejaVuSans-8722\"/>\r\n       <use x=\"83.789062\" xlink:href=\"#DejaVuSans-48\"/>\r\n       <use x=\"147.412109\" xlink:href=\"#DejaVuSans-46\"/>\r\n       <use x=\"179.199219\" xlink:href=\"#DejaVuSans-48\"/>\r\n       <use x=\"242.822266\" xlink:href=\"#DejaVuSans-52\"/>\r\n      </g>\r\n     </g>\r\n    </g>\r\n    <g id=\"ytick_2\">\r\n     <g id=\"line2d_7\">\r\n      <g>\r\n       <use style=\"stroke:#000000;stroke-width:0.8;\" x=\"44.845313\" xlink:href=\"#mdd6759a7ad\" y=\"155.454545\"/>\r\n      </g>\r\n     </g>\r\n     <g id=\"text_7\">\r\n      <!-- −0.02 -->\r\n      <g transform=\"translate(7.2 159.253764)scale(0.1 -0.1)\">\r\n       <use xlink:href=\"#DejaVuSans-8722\"/>\r\n       <use x=\"83.789062\" xlink:href=\"#DejaVuSans-48\"/>\r\n       <use x=\"147.412109\" xlink:href=\"#DejaVuSans-46\"/>\r\n       <use x=\"179.199219\" xlink:href=\"#DejaVuSans-48\"/>\r\n       <use x=\"242.822266\" xlink:href=\"#DejaVuSans-50\"/>\r\n      </g>\r\n     </g>\r\n    </g>\r\n    <g id=\"ytick_3\">\r\n     <g id=\"line2d_8\">\r\n      <g>\r\n       <use style=\"stroke:#000000;stroke-width:0.8;\" x=\"44.845313\" xlink:href=\"#mdd6759a7ad\" y=\"115.92\"/>\r\n      </g>\r\n     </g>\r\n     <g id=\"text_8\">\r\n      <!-- 0.00 -->\r\n      <g transform=\"translate(15.579688 119.719219)scale(0.1 -0.1)\">\r\n       <use xlink:href=\"#DejaVuSans-48\"/>\r\n       <use x=\"63.623047\" xlink:href=\"#DejaVuSans-46\"/>\r\n       <use x=\"95.410156\" xlink:href=\"#DejaVuSans-48\"/>\r\n       <use x=\"159.033203\" xlink:href=\"#DejaVuSans-48\"/>\r\n      </g>\r\n     </g>\r\n    </g>\r\n    <g id=\"ytick_4\">\r\n     <g id=\"line2d_9\">\r\n      <g>\r\n       <use style=\"stroke:#000000;stroke-width:0.8;\" x=\"44.845313\" xlink:href=\"#mdd6759a7ad\" y=\"76.385455\"/>\r\n      </g>\r\n     </g>\r\n     <g id=\"text_9\">\r\n      <!-- 0.02 -->\r\n      <g transform=\"translate(15.579688 80.184673)scale(0.1 -0.1)\">\r\n       <use xlink:href=\"#DejaVuSans-48\"/>\r\n       <use x=\"63.623047\" xlink:href=\"#DejaVuSans-46\"/>\r\n       <use x=\"95.410156\" xlink:href=\"#DejaVuSans-48\"/>\r\n       <use x=\"159.033203\" xlink:href=\"#DejaVuSans-50\"/>\r\n      </g>\r\n     </g>\r\n    </g>\r\n    <g id=\"ytick_5\">\r\n     <g id=\"line2d_10\">\r\n      <g>\r\n       <use style=\"stroke:#000000;stroke-width:0.8;\" x=\"44.845313\" xlink:href=\"#mdd6759a7ad\" y=\"36.850909\"/>\r\n      </g>\r\n     </g>\r\n     <g id=\"text_10\">\r\n      <!-- 0.04 -->\r\n      <g transform=\"translate(15.579688 40.650128)scale(0.1 -0.1)\">\r\n       <use xlink:href=\"#DejaVuSans-48\"/>\r\n       <use x=\"63.623047\" xlink:href=\"#DejaVuSans-46\"/>\r\n       <use x=\"95.410156\" xlink:href=\"#DejaVuSans-48\"/>\r\n       <use x=\"159.033203\" xlink:href=\"#DejaVuSans-52\"/>\r\n      </g>\r\n     </g>\r\n    </g>\r\n   </g>\r\n   <g id=\"line2d_11\">\r\n    <path clip-path=\"url(#p1f88d44ff9)\" d=\"M 0 0 \r\n\" style=\"fill:none;stroke:#1f77b4;stroke-linecap:square;stroke-width:1.5;\"/>\r\n   </g>\r\n   <g id=\"patch_3\">\r\n    <path d=\"M 44.845313 224.64 \r\nL 44.845313 7.2 \r\n\" style=\"fill:none;stroke:#000000;stroke-linecap:square;stroke-linejoin:miter;stroke-width:0.8;\"/>\r\n   </g>\r\n   <g id=\"patch_4\">\r\n    <path d=\"M 379.645313 224.64 \r\nL 379.645313 7.2 \r\n\" style=\"fill:none;stroke:#000000;stroke-linecap:square;stroke-linejoin:miter;stroke-width:0.8;\"/>\r\n   </g>\r\n   <g id=\"patch_5\">\r\n    <path d=\"M 44.845313 224.64 \r\nL 379.645313 224.64 \r\n\" style=\"fill:none;stroke:#000000;stroke-linecap:square;stroke-linejoin:miter;stroke-width:0.8;\"/>\r\n   </g>\r\n   <g id=\"patch_6\">\r\n    <path d=\"M 44.845313 7.2 \r\nL 379.645313 7.2 \r\n\" style=\"fill:none;stroke:#000000;stroke-linecap:square;stroke-linejoin:miter;stroke-width:0.8;\"/>\r\n   </g>\r\n  </g>\r\n </g>\r\n <defs>\r\n  <clipPath id=\"p1f88d44ff9\">\r\n   <rect height=\"217.44\" width=\"334.8\" x=\"44.845313\" y=\"7.2\"/>\r\n  </clipPath>\r\n </defs>\r\n</svg>\r\n",
      "image/png": "[encoded data removed]"
     },
     "metadata": {
      "needs_background": "light"
     }
    }
   ],
   "source": [
    "from matplotlib import pyplot as plt\n",
    "\n",
    "plt.plot(range(len(hist.history['loss'])), hist.history['loss'])\n",
    "plt.show()"
   ]
  },
  {
   "cell_type": "code",
   "execution_count": 28,
   "metadata": {},
   "outputs": [
    {
     "output_type": "execute_result",
     "data": {
      "text/plain": [
       "{'loss': [0.18927262723445892,\n",
       "  0.18918836116790771,\n",
       "  0.18909336626529694,\n",
       "  0.18898619711399078,\n",
       "  0.18886560201644897,\n",
       "  0.1887301355600357,\n",
       "  0.18857775628566742,\n",
       "  0.18840639293193817,\n",
       "  0.18821386992931366,\n",
       "  0.18799704313278198,\n",
       "  0.18775340914726257,\n",
       "  0.1874794214963913,\n",
       "  0.18717160820960999,\n",
       "  0.18682576715946198,\n",
       "  0.18643787503242493,\n",
       "  0.186003178358078,\n",
       "  0.18551622331142426,\n",
       "  0.18497122824192047,\n",
       "  0.18436217308044434,\n",
       "  0.18368224799633026,\n",
       "  0.18292470276355743,\n",
       "  0.18208079040050507,\n",
       "  0.18114130198955536,\n",
       "  0.18009795248508453,\n",
       "  0.17894195020198822,\n",
       "  0.177662193775177,\n",
       "  0.1762455701828003,\n",
       "  0.17468033730983734,\n",
       "  0.17295479774475098,\n",
       "  0.17105832695960999,\n",
       "  0.1689797341823578,\n",
       "  0.16670994460582733,\n",
       "  0.16423088312149048,\n",
       "  0.16153258085250854,\n",
       "  0.15860743820667267,\n",
       "  0.15545153617858887,\n",
       "  0.1520637571811676,\n",
       "  0.14844059944152832,\n",
       "  0.14458300173282623,\n",
       "  0.1405075639486313,\n",
       "  0.13623777031898499,\n",
       "  0.13180546462535858,\n",
       "  0.12724371254444122,\n",
       "  0.12257826328277588,\n",
       "  0.11786773055791855,\n",
       "  0.11318792402744293,\n",
       "  0.10860826820135117,\n",
       "  0.10419830679893494,\n",
       "  0.10002383589744568,\n",
       "  0.09614402800798416,\n",
       "  0.09261780977249146,\n",
       "  0.08953307569026947,\n",
       "  0.08693044632673264,\n",
       "  0.08481151610612869,\n",
       "  0.08314701169729233,\n",
       "  0.08190115541219711,\n",
       "  0.08101701736450195,\n",
       "  0.08042928576469421,\n",
       "  0.0800669938325882,\n",
       "  0.07986520230770111,\n",
       "  0.07976658642292023,\n",
       "  0.07972743362188339,\n",
       "  0.07972027361392975,\n",
       "  0.07972441613674164,\n",
       "  0.0797334760427475,\n",
       "  0.07974264770746231,\n",
       "  0.07974767684936523,\n",
       "  0.07975400239229202,\n",
       "  0.07975555956363678,\n",
       "  0.07974940538406372,\n",
       "  0.07973189651966095,\n",
       "  0.07970405369997025,\n",
       "  0.07964272797107697,\n",
       "  0.07957153022289276,\n",
       "  0.07945507019758224,\n",
       "  0.07927824556827545,\n",
       "  0.07903861999511719,\n",
       "  0.07871738821268082,\n",
       "  0.07830266654491425,\n",
       "  0.07778838276863098,\n",
       "  0.07713685184717178,\n",
       "  0.0763562023639679,\n",
       "  0.07540357112884521,\n",
       "  0.07428636401891708,\n",
       "  0.0730387270450592,\n",
       "  0.07163000851869583,\n",
       "  0.07006077468395233,\n",
       "  0.06835085898637772,\n",
       "  0.0665503442287445,\n",
       "  0.0647212341427803,\n",
       "  0.06259388476610184,\n",
       "  0.060343071818351746,\n",
       "  0.05807754769921303,\n",
       "  0.055788762867450714,\n",
       "  0.054075226187705994,\n",
       "  0.05185522139072418,\n",
       "  0.049819525331258774,\n",
       "  0.047941770404577255,\n",
       "  0.046583183109760284,\n",
       "  0.04479045420885086],\n",
       " 'acc': [0.00832466222345829,\n",
       "  0.00832466222345829,\n",
       "  0.00832466222345829,\n",
       "  0.00832466222345829,\n",
       "  0.00832466222345829,\n",
       "  0.00832466222345829,\n",
       "  0.00832466222345829,\n",
       "  0.00832466222345829,\n",
       "  0.00832466222345829,\n",
       "  0.00832466222345829,\n",
       "  0.00832466222345829,\n",
       "  0.00832466222345829,\n",
       "  0.00832466222345829,\n",
       "  0.00832466222345829,\n",
       "  0.00832466222345829,\n",
       "  0.00832466222345829,\n",
       "  0.00832466222345829,\n",
       "  0.00832466222345829,\n",
       "  0.00832466222345829,\n",
       "  0.00832466222345829,\n",
       "  0.00832466222345829,\n",
       "  0.00832466222345829,\n",
       "  0.00832466222345829,\n",
       "  0.00832466222345829,\n",
       "  0.00832466222345829,\n",
       "  0.00832466222345829,\n",
       "  0.00832466222345829,\n",
       "  0.00832466222345829,\n",
       "  0.00832466222345829,\n",
       "  0.00832466222345829,\n",
       "  0.00832466222345829,\n",
       "  0.00832466222345829,\n",
       "  0.00832466222345829,\n",
       "  0.00832466222345829,\n",
       "  0.00832466222345829,\n",
       "  0.00832466222345829,\n",
       "  0.00832466222345829,\n",
       "  0.00832466222345829,\n",
       "  0.00832466222345829,\n",
       "  0.00832466222345829,\n",
       "  0.00832466222345829,\n",
       "  0.00832466222345829,\n",
       "  0.00832466222345829,\n",
       "  0.00832466222345829,\n",
       "  0.00832466222345829,\n",
       "  0.00832466222345829,\n",
       "  0.00832466222345829,\n",
       "  0.00832466222345829,\n",
       "  0.00832466222345829,\n",
       "  0.00832466222345829,\n",
       "  0.00832466222345829,\n",
       "  0.00832466222345829,\n",
       "  0.00832466222345829,\n",
       "  0.00832466222345829,\n",
       "  0.00832466222345829,\n",
       "  0.00832466222345829,\n",
       "  0.00832466222345829,\n",
       "  0.00832466222345829,\n",
       "  0.00832466222345829,\n",
       "  0.00832466222345829,\n",
       "  0.00832466222345829,\n",
       "  0.00832466222345829,\n",
       "  0.00832466222345829,\n",
       "  0.00832466222345829,\n",
       "  0.00832466222345829,\n",
       "  0.00832466222345829,\n",
       "  0.00832466222345829,\n",
       "  0.00832466222345829,\n",
       "  0.00832466222345829,\n",
       "  0.00832466222345829,\n",
       "  0.00832466222345829,\n",
       "  0.00832466222345829,\n",
       "  0.00832466222345829,\n",
       "  0.00832466222345829,\n",
       "  0.00832466222345829,\n",
       "  0.00832466222345829,\n",
       "  0.00832466222345829,\n",
       "  0.00832466222345829,\n",
       "  0.00832466222345829,\n",
       "  0.00832466222345829,\n",
       "  0.00832466222345829,\n",
       "  0.00832466222345829,\n",
       "  0.00832466222345829,\n",
       "  0.00832466222345829,\n",
       "  0.00832466222345829,\n",
       "  0.00832466222345829,\n",
       "  0.00832466222345829,\n",
       "  0.00832466222345829,\n",
       "  0.00832466222345829,\n",
       "  0.00832466222345829,\n",
       "  0.00832466222345829,\n",
       "  0.00832466222345829,\n",
       "  0.00832466222345829,\n",
       "  0.00832466222345829,\n",
       "  0.00832466222345829,\n",
       "  0.00832466222345829,\n",
       "  0.00832466222345829,\n",
       "  0.00832466222345829,\n",
       "  0.00832466222345829,\n",
       "  0.00832466222345829],\n",
       " 'val_loss': [0.5808660984039307,\n",
       "  0.5807026028633118,\n",
       "  0.580517590045929,\n",
       "  0.5803095102310181,\n",
       "  0.5800751447677612,\n",
       "  0.5798114538192749,\n",
       "  0.5795153379440308,\n",
       "  0.5791820883750916,\n",
       "  0.5788068771362305,\n",
       "  0.578385055065155,\n",
       "  0.5779102444648743,\n",
       "  0.577376663684845,\n",
       "  0.5767771005630493,\n",
       "  0.5761021375656128,\n",
       "  0.5753458738327026,\n",
       "  0.5744980573654175,\n",
       "  0.5735474228858948,\n",
       "  0.5724826455116272,\n",
       "  0.5712909698486328,\n",
       "  0.5699607729911804,\n",
       "  0.5684757828712463,\n",
       "  0.5668184161186218,\n",
       "  0.5649716854095459,\n",
       "  0.5629187226295471,\n",
       "  0.5606400370597839,\n",
       "  0.558108925819397,\n",
       "  0.5552998781204224,\n",
       "  0.5521862506866455,\n",
       "  0.5487433075904846,\n",
       "  0.5449454188346863,\n",
       "  0.5407708287239075,\n",
       "  0.5361810326576233,\n",
       "  0.5311410427093506,\n",
       "  0.525620698928833,\n",
       "  0.5195949673652649,\n",
       "  0.5130444765090942,\n",
       "  0.5059440732002258,\n",
       "  0.49826452136039734,\n",
       "  0.4899963140487671,\n",
       "  0.4811461567878723,\n",
       "  0.47173452377319336,\n",
       "  0.4617893397808075,\n",
       "  0.4513148367404938,\n",
       "  0.4403265118598938,\n",
       "  0.428944855928421,\n",
       "  0.417275995016098,\n",
       "  0.4054311513900757,\n",
       "  0.3935203552246094,\n",
       "  0.3816662132740021,\n",
       "  0.36990371346473694,\n",
       "  0.358467161655426,\n",
       "  0.3476335108280182,\n",
       "  0.33754417300224304,\n",
       "  0.32828110456466675,\n",
       "  0.3199155926704407,\n",
       "  0.3125007748603821,\n",
       "  0.3060377538204193,\n",
       "  0.30055907368659973,\n",
       "  0.2960032820701599,\n",
       "  0.29228445887565613,\n",
       "  0.2892822325229645,\n",
       "  0.28686630725860596,\n",
       "  0.28490355610847473,\n",
       "  0.2832516133785248,\n",
       "  0.28179511427879333,\n",
       "  0.28044092655181885,\n",
       "  0.27908557653427124,\n",
       "  0.277688592672348,\n",
       "  0.27620643377304077,\n",
       "  0.274615615606308,\n",
       "  0.27287721633911133,\n",
       "  0.2710157036781311,\n",
       "  0.2689569294452667,\n",
       "  0.2668412923812866,\n",
       "  0.2646518349647522,\n",
       "  0.2623024880886078,\n",
       "  0.25985410809516907,\n",
       "  0.25719544291496277,\n",
       "  0.25434714555740356,\n",
       "  0.2514134645462036,\n",
       "  0.24833723902702332,\n",
       "  0.24526914954185486,\n",
       "  0.24200405180454254,\n",
       "  0.23876170814037323,\n",
       "  0.23528791964054108,\n",
       "  0.23173126578330994,\n",
       "  0.22779610753059387,\n",
       "  0.2238101363182068,\n",
       "  0.22024591267108917,\n",
       "  0.2168237268924713,\n",
       "  0.2135871797800064,\n",
       "  0.2111876904964447,\n",
       "  0.21004809439182281,\n",
       "  0.21059550344944,\n",
       "  0.21212543547153473,\n",
       "  0.21571244299411774,\n",
       "  0.22073091566562653,\n",
       "  0.22759218513965607,\n",
       "  0.23395930230617523,\n",
       "  0.2427425980567932],\n",
       " 'val_acc': [0.0,\n",
       "  0.0,\n",
       "  0.0,\n",
       "  0.0,\n",
       "  0.0,\n",
       "  0.0,\n",
       "  0.0,\n",
       "  0.0,\n",
       "  0.0,\n",
       "  0.0,\n",
       "  0.0,\n",
       "  0.0,\n",
       "  0.0,\n",
       "  0.0,\n",
       "  0.0,\n",
       "  0.0,\n",
       "  0.0,\n",
       "  0.0,\n",
       "  0.0,\n",
       "  0.0,\n",
       "  0.0,\n",
       "  0.0,\n",
       "  0.0,\n",
       "  0.0,\n",
       "  0.0,\n",
       "  0.0,\n",
       "  0.0,\n",
       "  0.0,\n",
       "  0.0,\n",
       "  0.0,\n",
       "  0.0,\n",
       "  0.0,\n",
       "  0.0,\n",
       "  0.0,\n",
       "  0.0,\n",
       "  0.0,\n",
       "  0.0,\n",
       "  0.0,\n",
       "  0.0,\n",
       "  0.0,\n",
       "  0.0,\n",
       "  0.0,\n",
       "  0.0,\n",
       "  0.0,\n",
       "  0.0,\n",
       "  0.0,\n",
       "  0.0,\n",
       "  0.0,\n",
       "  0.0,\n",
       "  0.0,\n",
       "  0.0,\n",
       "  0.0,\n",
       "  0.0,\n",
       "  0.0,\n",
       "  0.0,\n",
       "  0.0,\n",
       "  0.0,\n",
       "  0.0,\n",
       "  0.0,\n",
       "  0.0,\n",
       "  0.0,\n",
       "  0.0,\n",
       "  0.0,\n",
       "  0.0,\n",
       "  0.0,\n",
       "  0.0,\n",
       "  0.0,\n",
       "  0.0,\n",
       "  0.0,\n",
       "  0.0,\n",
       "  0.0,\n",
       "  0.0,\n",
       "  0.0,\n",
       "  0.0,\n",
       "  0.0,\n",
       "  0.0,\n",
       "  0.0,\n",
       "  0.0,\n",
       "  0.0,\n",
       "  0.0,\n",
       "  0.0,\n",
       "  0.0,\n",
       "  0.0,\n",
       "  0.0,\n",
       "  0.0,\n",
       "  0.0,\n",
       "  0.0,\n",
       "  0.0,\n",
       "  0.015909090638160706,\n",
       "  0.03181818127632141,\n",
       "  0.05833333358168602,\n",
       "  0.05833333358168602,\n",
       "  0.05833333358168602,\n",
       "  0.05833333358168602,\n",
       "  0.05833333358168602,\n",
       "  0.05833333358168602,\n",
       "  0.05833333358168602,\n",
       "  0.05833333358168602,\n",
       "  0.05833333358168602,\n",
       "  0.05833333358168602],\n",
       " 'lr': [1e-08,\n",
       "  1.1220185e-08,\n",
       "  1.2589254e-08,\n",
       "  1.41253755e-08,\n",
       "  1.5848931e-08,\n",
       "  1.7782794e-08,\n",
       "  1.9952623e-08,\n",
       "  2.2387212e-08,\n",
       "  2.5118863e-08,\n",
       "  2.8183829e-08,\n",
       "  3.1622776e-08,\n",
       "  3.548134e-08,\n",
       "  3.981072e-08,\n",
       "  4.4668358e-08,\n",
       "  5.011872e-08,\n",
       "  5.6234132e-08,\n",
       "  6.309573e-08,\n",
       "  7.079458e-08,\n",
       "  7.943282e-08,\n",
       "  8.9125095e-08,\n",
       "  1e-07,\n",
       "  1.12201846e-07,\n",
       "  1.2589254e-07,\n",
       "  1.4125375e-07,\n",
       "  1.5848931e-07,\n",
       "  1.7782794e-07,\n",
       "  1.9952623e-07,\n",
       "  2.2387212e-07,\n",
       "  2.5118865e-07,\n",
       "  2.8183828e-07,\n",
       "  3.1622776e-07,\n",
       "  3.5481338e-07,\n",
       "  3.9810718e-07,\n",
       "  4.466836e-07,\n",
       "  5.0118723e-07,\n",
       "  5.623413e-07,\n",
       "  6.3095735e-07,\n",
       "  7.079458e-07,\n",
       "  7.9432823e-07,\n",
       "  8.912509e-07,\n",
       "  1e-06,\n",
       "  1.1220185e-06,\n",
       "  1.2589254e-06,\n",
       "  1.4125376e-06,\n",
       "  1.5848932e-06,\n",
       "  1.7782794e-06,\n",
       "  1.9952622e-06,\n",
       "  2.2387212e-06,\n",
       "  2.5118864e-06,\n",
       "  2.8183829e-06,\n",
       "  3.1622776e-06,\n",
       "  3.548134e-06,\n",
       "  3.9810716e-06,\n",
       "  4.466836e-06,\n",
       "  5.0118724e-06,\n",
       "  5.6234135e-06,\n",
       "  6.3095736e-06,\n",
       "  7.0794576e-06,\n",
       "  7.943282e-06,\n",
       "  8.91251e-06,\n",
       "  1e-05,\n",
       "  1.1220184e-05,\n",
       "  1.2589254e-05,\n",
       "  1.4125376e-05,\n",
       "  1.5848931e-05,\n",
       "  1.7782793e-05,\n",
       "  1.9952624e-05,\n",
       "  2.2387212e-05,\n",
       "  2.5118865e-05,\n",
       "  2.818383e-05,\n",
       "  3.1622778e-05,\n",
       "  3.548134e-05,\n",
       "  3.981072e-05,\n",
       "  4.466836e-05,\n",
       "  5.0118724e-05,\n",
       "  5.6234134e-05,\n",
       "  6.309574e-05,\n",
       "  7.079458e-05,\n",
       "  7.943282e-05,\n",
       "  8.91251e-05,\n",
       "  1e-04,\n",
       "  0.000112201844,\n",
       "  0.00012589255,\n",
       "  0.00014125375,\n",
       "  0.00015848932,\n",
       "  0.00017782794,\n",
       "  0.00019952623,\n",
       "  0.00022387212,\n",
       "  0.00025118864,\n",
       "  0.0002818383,\n",
       "  0.00031622776,\n",
       "  0.00035481338,\n",
       "  0.00039810716,\n",
       "  0.00044668358,\n",
       "  0.0005011872,\n",
       "  0.0005623413,\n",
       "  0.00063095737,\n",
       "  0.0007079458,\n",
       "  0.0007943282,\n",
       "  0.00089125097]}"
      ]
     },
     "metadata": {},
     "execution_count": 28
    }
   ],
   "source": [
    "hist.history"
   ]
  },
  {
   "cell_type": "code",
   "execution_count": null,
   "metadata": {},
   "outputs": [],
   "source": []
  }
 ]
}