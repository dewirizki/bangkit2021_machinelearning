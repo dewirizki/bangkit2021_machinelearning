{
 "metadata": {
  "language_info": {
   "codemirror_mode": {
    "name": "ipython",
    "version": 3
   },
   "file_extension": ".py",
   "mimetype": "text/x-python",
   "name": "python",
   "nbconvert_exporter": "python",
   "pygments_lexer": "ipython3",
   "version": "3.8.5"
  },
  "orig_nbformat": 2,
  "kernelspec": {
   "name": "python385jvsc74a57bd0fbff9bfab3ee0df4124016b4e010029cf2ec5864ce5e3c4aa09796cc364af95f",
   "display_name": "Python 3.8.5 64-bit (conda)"
  }
 },
 "nbformat": 4,
 "nbformat_minor": 2,
 "cells": [
  {
   "cell_type": "code",
   "execution_count": 56,
   "metadata": {},
   "outputs": [],
   "source": [
    "import pandas as pd\n",
    "import numpy as np\n",
    "from pathlib import PurePosixPath, PureWindowsPath"
   ]
  },
  {
   "cell_type": "code",
   "execution_count": 57,
   "metadata": {},
   "outputs": [],
   "source": [
    "def get_directory(path):\n",
    "    if os.name == 'posix':\n",
    "        return str(PurePosixPath(path))\n",
    "    else:\n",
    "        return str(PureWindowsPath(path))"
   ]
  },
  {
   "cell_type": "code",
   "execution_count": 58,
   "metadata": {},
   "outputs": [],
   "source": [
    "# Variables\n",
    "FERTILIZER_LOCATION = get_directory('./dataset/fertilizer')\n",
    "TRAIN_SPLIT = 0.8\n",
    "INPUT_HEADERS = ['temperature', 'humidity', 'ph', 'rainfall', 'is_maize', 'is_grape', 'is_apple', 'is_orange', 'label']"
   ]
  },
  {
   "cell_type": "code",
   "execution_count": 59,
   "metadata": {},
   "outputs": [
    {
     "output_type": "execute_result",
     "data": {
      "text/plain": [
       "['temperature',\n",
       " 'humidity',\n",
       " 'ph',\n",
       " 'rainfall',\n",
       " 'is_maize',\n",
       " 'is_grape',\n",
       " 'is_apple',\n",
       " 'is_orange',\n",
       " 'label']"
      ]
     },
     "metadata": {},
     "execution_count": 59
    }
   ],
   "source": [
    "INPUT_HEADERS"
   ]
  },
  {
   "cell_type": "code",
   "execution_count": 60,
   "metadata": {},
   "outputs": [],
   "source": [
    "_fert = pd.read_excel(get_directory(FERTILIZER_LOCATION + '/Fertiliser Prediction.xlsx'))"
   ]
  },
  {
   "cell_type": "code",
   "execution_count": 61,
   "metadata": {},
   "outputs": [
    {
     "output_type": "execute_result",
     "data": {
      "text/plain": [
       "    N   P   K  temperature   humidity        ph    rainfall  label\n",
       "0  71  54  16    22.613600  63.690706  5.749914   87.759539  maize\n",
       "1  61  44  17    26.100184  71.574769  6.931757  102.266244  maize\n",
       "2  80  43  16    23.558821  71.593514  6.657965   66.719955  maize\n",
       "3  73  58  21    19.972160  57.682729  6.596061   60.651715  maize\n",
       "4  61  38  20    18.478913  62.695039  5.970458   65.438354  maize"
      ],
      "text/html": "<div>\n<style scoped>\n    .dataframe tbody tr th:only-of-type {\n        vertical-align: middle;\n    }\n\n    .dataframe tbody tr th {\n        vertical-align: top;\n    }\n\n    .dataframe thead th {\n        text-align: right;\n    }\n</style>\n<table border=\"1\" class=\"dataframe\">\n  <thead>\n    <tr style=\"text-align: right;\">\n      <th></th>\n      <th>N</th>\n      <th>P</th>\n      <th>K</th>\n      <th>temperature</th>\n      <th>humidity</th>\n      <th>ph</th>\n      <th>rainfall</th>\n      <th>label</th>\n    </tr>\n  </thead>\n  <tbody>\n    <tr>\n      <th>0</th>\n      <td>71</td>\n      <td>54</td>\n      <td>16</td>\n      <td>22.613600</td>\n      <td>63.690706</td>\n      <td>5.749914</td>\n      <td>87.759539</td>\n      <td>maize</td>\n    </tr>\n    <tr>\n      <th>1</th>\n      <td>61</td>\n      <td>44</td>\n      <td>17</td>\n      <td>26.100184</td>\n      <td>71.574769</td>\n      <td>6.931757</td>\n      <td>102.266244</td>\n      <td>maize</td>\n    </tr>\n    <tr>\n      <th>2</th>\n      <td>80</td>\n      <td>43</td>\n      <td>16</td>\n      <td>23.558821</td>\n      <td>71.593514</td>\n      <td>6.657965</td>\n      <td>66.719955</td>\n      <td>maize</td>\n    </tr>\n    <tr>\n      <th>3</th>\n      <td>73</td>\n      <td>58</td>\n      <td>21</td>\n      <td>19.972160</td>\n      <td>57.682729</td>\n      <td>6.596061</td>\n      <td>60.651715</td>\n      <td>maize</td>\n    </tr>\n    <tr>\n      <th>4</th>\n      <td>61</td>\n      <td>38</td>\n      <td>20</td>\n      <td>18.478913</td>\n      <td>62.695039</td>\n      <td>5.970458</td>\n      <td>65.438354</td>\n      <td>maize</td>\n    </tr>\n  </tbody>\n</table>\n</div>"
     },
     "metadata": {},
     "execution_count": 61
    }
   ],
   "source": [
    "_fert.head()"
   ]
  },
  {
   "cell_type": "code",
   "execution_count": 62,
   "metadata": {},
   "outputs": [
    {
     "output_type": "execute_result",
     "data": {
      "text/plain": [
       "N                int64\n",
       "P                int64\n",
       "K                int64\n",
       "temperature    float64\n",
       "humidity       float64\n",
       "ph             float64\n",
       "rainfall       float64\n",
       "label           object\n",
       "dtype: object"
      ]
     },
     "metadata": {},
     "execution_count": 62
    }
   ],
   "source": [
    "_fert.dtypes"
   ]
  },
  {
   "cell_type": "code",
   "execution_count": 63,
   "metadata": {},
   "outputs": [],
   "source": [
    "#_fert['label'] = pd.Categorical(_fert['label'])\n",
    "#_fert['label'] = _fert.label.cat.codes"
   ]
  },
  {
   "cell_type": "code",
   "execution_count": 64,
   "metadata": {},
   "outputs": [
    {
     "output_type": "execute_result",
     "data": {
      "text/plain": [
       "      N   P   K  temperature   humidity        ph    rainfall   label\n",
       "0    71  54  16    22.613600  63.690706  5.749914   87.759539   maize\n",
       "1    61  44  17    26.100184  71.574769  6.931757  102.266244   maize\n",
       "2    80  43  16    23.558821  71.593514  6.657965   66.719955   maize\n",
       "3    73  58  21    19.972160  57.682729  6.596061   60.651715   maize\n",
       "4    61  38  20    18.478913  62.695039  5.970458   65.438354   maize\n",
       "..   ..  ..  ..          ...        ...       ...         ...     ...\n",
       "395  27  30   5    32.717485  90.546083  7.656978  113.328978  orange\n",
       "396  13   8  12    25.162966  92.547360  7.105905  114.311720  orange\n",
       "397   6   7   7    27.681673  94.473169  7.199106  113.999515  orange\n",
       "398  40  17  15    21.350934  90.949297  7.871063  107.086209  orange\n",
       "399  31  26   9    11.698946  93.256389  7.566166  103.200599  orange\n",
       "\n",
       "[400 rows x 8 columns]"
      ],
      "text/html": "<div>\n<style scoped>\n    .dataframe tbody tr th:only-of-type {\n        vertical-align: middle;\n    }\n\n    .dataframe tbody tr th {\n        vertical-align: top;\n    }\n\n    .dataframe thead th {\n        text-align: right;\n    }\n</style>\n<table border=\"1\" class=\"dataframe\">\n  <thead>\n    <tr style=\"text-align: right;\">\n      <th></th>\n      <th>N</th>\n      <th>P</th>\n      <th>K</th>\n      <th>temperature</th>\n      <th>humidity</th>\n      <th>ph</th>\n      <th>rainfall</th>\n      <th>label</th>\n    </tr>\n  </thead>\n  <tbody>\n    <tr>\n      <th>0</th>\n      <td>71</td>\n      <td>54</td>\n      <td>16</td>\n      <td>22.613600</td>\n      <td>63.690706</td>\n      <td>5.749914</td>\n      <td>87.759539</td>\n      <td>maize</td>\n    </tr>\n    <tr>\n      <th>1</th>\n      <td>61</td>\n      <td>44</td>\n      <td>17</td>\n      <td>26.100184</td>\n      <td>71.574769</td>\n      <td>6.931757</td>\n      <td>102.266244</td>\n      <td>maize</td>\n    </tr>\n    <tr>\n      <th>2</th>\n      <td>80</td>\n      <td>43</td>\n      <td>16</td>\n      <td>23.558821</td>\n      <td>71.593514</td>\n      <td>6.657965</td>\n      <td>66.719955</td>\n      <td>maize</td>\n    </tr>\n    <tr>\n      <th>3</th>\n      <td>73</td>\n      <td>58</td>\n      <td>21</td>\n      <td>19.972160</td>\n      <td>57.682729</td>\n      <td>6.596061</td>\n      <td>60.651715</td>\n      <td>maize</td>\n    </tr>\n    <tr>\n      <th>4</th>\n      <td>61</td>\n      <td>38</td>\n      <td>20</td>\n      <td>18.478913</td>\n      <td>62.695039</td>\n      <td>5.970458</td>\n      <td>65.438354</td>\n      <td>maize</td>\n    </tr>\n    <tr>\n      <th>...</th>\n      <td>...</td>\n      <td>...</td>\n      <td>...</td>\n      <td>...</td>\n      <td>...</td>\n      <td>...</td>\n      <td>...</td>\n      <td>...</td>\n    </tr>\n    <tr>\n      <th>395</th>\n      <td>27</td>\n      <td>30</td>\n      <td>5</td>\n      <td>32.717485</td>\n      <td>90.546083</td>\n      <td>7.656978</td>\n      <td>113.328978</td>\n      <td>orange</td>\n    </tr>\n    <tr>\n      <th>396</th>\n      <td>13</td>\n      <td>8</td>\n      <td>12</td>\n      <td>25.162966</td>\n      <td>92.547360</td>\n      <td>7.105905</td>\n      <td>114.311720</td>\n      <td>orange</td>\n    </tr>\n    <tr>\n      <th>397</th>\n      <td>6</td>\n      <td>7</td>\n      <td>7</td>\n      <td>27.681673</td>\n      <td>94.473169</td>\n      <td>7.199106</td>\n      <td>113.999515</td>\n      <td>orange</td>\n    </tr>\n    <tr>\n      <th>398</th>\n      <td>40</td>\n      <td>17</td>\n      <td>15</td>\n      <td>21.350934</td>\n      <td>90.949297</td>\n      <td>7.871063</td>\n      <td>107.086209</td>\n      <td>orange</td>\n    </tr>\n    <tr>\n      <th>399</th>\n      <td>31</td>\n      <td>26</td>\n      <td>9</td>\n      <td>11.698946</td>\n      <td>93.256389</td>\n      <td>7.566166</td>\n      <td>103.200599</td>\n      <td>orange</td>\n    </tr>\n  </tbody>\n</table>\n<p>400 rows × 8 columns</p>\n</div>"
     },
     "metadata": {},
     "execution_count": 64
    }
   ],
   "source": [
    "# Sanity check - now Label should be gone, replaced by one-hot encodings\n",
    "_fert"
   ]
  },
  {
   "cell_type": "code",
   "execution_count": 65,
   "metadata": {},
   "outputs": [],
   "source": [
    "_fert['label'] = pd.Categorical(_fert['label'])\n",
    "_fert['label'] = _fert.label.cat.codes"
   ]
  },
  {
   "cell_type": "code",
   "execution_count": 66,
   "metadata": {},
   "outputs": [
    {
     "output_type": "execute_result",
     "data": {
      "text/plain": [
       "    N   P   K  temperature   humidity        ph    rainfall  label\n",
       "0  71  54  16    22.613600  63.690706  5.749914   87.759539      2\n",
       "1  61  44  17    26.100184  71.574769  6.931757  102.266244      2\n",
       "2  80  43  16    23.558821  71.593514  6.657965   66.719955      2\n",
       "3  73  58  21    19.972160  57.682729  6.596061   60.651715      2\n",
       "4  61  38  20    18.478913  62.695039  5.970458   65.438354      2"
      ],
      "text/html": "<div>\n<style scoped>\n    .dataframe tbody tr th:only-of-type {\n        vertical-align: middle;\n    }\n\n    .dataframe tbody tr th {\n        vertical-align: top;\n    }\n\n    .dataframe thead th {\n        text-align: right;\n    }\n</style>\n<table border=\"1\" class=\"dataframe\">\n  <thead>\n    <tr style=\"text-align: right;\">\n      <th></th>\n      <th>N</th>\n      <th>P</th>\n      <th>K</th>\n      <th>temperature</th>\n      <th>humidity</th>\n      <th>ph</th>\n      <th>rainfall</th>\n      <th>label</th>\n    </tr>\n  </thead>\n  <tbody>\n    <tr>\n      <th>0</th>\n      <td>71</td>\n      <td>54</td>\n      <td>16</td>\n      <td>22.613600</td>\n      <td>63.690706</td>\n      <td>5.749914</td>\n      <td>87.759539</td>\n      <td>2</td>\n    </tr>\n    <tr>\n      <th>1</th>\n      <td>61</td>\n      <td>44</td>\n      <td>17</td>\n      <td>26.100184</td>\n      <td>71.574769</td>\n      <td>6.931757</td>\n      <td>102.266244</td>\n      <td>2</td>\n    </tr>\n    <tr>\n      <th>2</th>\n      <td>80</td>\n      <td>43</td>\n      <td>16</td>\n      <td>23.558821</td>\n      <td>71.593514</td>\n      <td>6.657965</td>\n      <td>66.719955</td>\n      <td>2</td>\n    </tr>\n    <tr>\n      <th>3</th>\n      <td>73</td>\n      <td>58</td>\n      <td>21</td>\n      <td>19.972160</td>\n      <td>57.682729</td>\n      <td>6.596061</td>\n      <td>60.651715</td>\n      <td>2</td>\n    </tr>\n    <tr>\n      <th>4</th>\n      <td>61</td>\n      <td>38</td>\n      <td>20</td>\n      <td>18.478913</td>\n      <td>62.695039</td>\n      <td>5.970458</td>\n      <td>65.438354</td>\n      <td>2</td>\n    </tr>\n  </tbody>\n</table>\n</div>"
     },
     "metadata": {},
     "execution_count": 66
    }
   ],
   "source": [
    "_fert.head()"
   ]
  },
  {
   "cell_type": "code",
   "execution_count": 67,
   "metadata": {},
   "outputs": [],
   "source": [
    "_fert_N = _fert[['N', 'temperature', 'humidity', 'ph', 'rainfall', 'label']].copy()\n",
    "_fert_P = _fert[['P', 'temperature', 'humidity', 'ph', 'rainfall', 'label']].copy()\n",
    "_fert_K = _fert[['K', 'temperature', 'humidity', 'ph', 'rainfall', 'label']].copy()"
   ]
  },
  {
   "cell_type": "code",
   "execution_count": 68,
   "metadata": {},
   "outputs": [],
   "source": [
    "# Labelling representation of each data\n",
    "_fert_N.loc[:, 'target_output'] = 0\n",
    "_fert_P.loc[:, 'target_output'] = 1\n",
    "_fert_K.loc[:, 'target_output'] = 2\n",
    "\n",
    "_fert_N.rename(columns = {'N': 'output'}, inplace=True)\n",
    "_fert_P.rename(columns = {'P': 'output'}, inplace=True)\n",
    "_fert_K.rename(columns = {'K': 'output'}, inplace=True)"
   ]
  },
  {
   "cell_type": "code",
   "execution_count": 69,
   "metadata": {},
   "outputs": [
    {
     "output_type": "execute_result",
     "data": {
      "text/plain": [
       "     output  temperature   humidity        ph    rainfall  label  \\\n",
       "0        71    22.613600  63.690706  5.749914   87.759539      2   \n",
       "1        61    26.100184  71.574769  6.931757  102.266244      2   \n",
       "2        80    23.558821  71.593514  6.657965   66.719955      2   \n",
       "3        73    19.972160  57.682729  6.596061   60.651715      2   \n",
       "4        61    18.478913  62.695039  5.970458   65.438354      2   \n",
       "..      ...          ...        ...       ...         ...    ...   \n",
       "395      27    32.717485  90.546083  7.656978  113.328978      3   \n",
       "396      13    25.162966  92.547360  7.105905  114.311720      3   \n",
       "397       6    27.681673  94.473169  7.199106  113.999515      3   \n",
       "398      40    21.350934  90.949297  7.871063  107.086209      3   \n",
       "399      31    11.698946  93.256389  7.566166  103.200599      3   \n",
       "\n",
       "     target_output  \n",
       "0                0  \n",
       "1                0  \n",
       "2                0  \n",
       "3                0  \n",
       "4                0  \n",
       "..             ...  \n",
       "395              0  \n",
       "396              0  \n",
       "397              0  \n",
       "398              0  \n",
       "399              0  \n",
       "\n",
       "[400 rows x 7 columns]"
      ],
      "text/html": "<div>\n<style scoped>\n    .dataframe tbody tr th:only-of-type {\n        vertical-align: middle;\n    }\n\n    .dataframe tbody tr th {\n        vertical-align: top;\n    }\n\n    .dataframe thead th {\n        text-align: right;\n    }\n</style>\n<table border=\"1\" class=\"dataframe\">\n  <thead>\n    <tr style=\"text-align: right;\">\n      <th></th>\n      <th>output</th>\n      <th>temperature</th>\n      <th>humidity</th>\n      <th>ph</th>\n      <th>rainfall</th>\n      <th>label</th>\n      <th>target_output</th>\n    </tr>\n  </thead>\n  <tbody>\n    <tr>\n      <th>0</th>\n      <td>71</td>\n      <td>22.613600</td>\n      <td>63.690706</td>\n      <td>5.749914</td>\n      <td>87.759539</td>\n      <td>2</td>\n      <td>0</td>\n    </tr>\n    <tr>\n      <th>1</th>\n      <td>61</td>\n      <td>26.100184</td>\n      <td>71.574769</td>\n      <td>6.931757</td>\n      <td>102.266244</td>\n      <td>2</td>\n      <td>0</td>\n    </tr>\n    <tr>\n      <th>2</th>\n      <td>80</td>\n      <td>23.558821</td>\n      <td>71.593514</td>\n      <td>6.657965</td>\n      <td>66.719955</td>\n      <td>2</td>\n      <td>0</td>\n    </tr>\n    <tr>\n      <th>3</th>\n      <td>73</td>\n      <td>19.972160</td>\n      <td>57.682729</td>\n      <td>6.596061</td>\n      <td>60.651715</td>\n      <td>2</td>\n      <td>0</td>\n    </tr>\n    <tr>\n      <th>4</th>\n      <td>61</td>\n      <td>18.478913</td>\n      <td>62.695039</td>\n      <td>5.970458</td>\n      <td>65.438354</td>\n      <td>2</td>\n      <td>0</td>\n    </tr>\n    <tr>\n      <th>...</th>\n      <td>...</td>\n      <td>...</td>\n      <td>...</td>\n      <td>...</td>\n      <td>...</td>\n      <td>...</td>\n      <td>...</td>\n    </tr>\n    <tr>\n      <th>395</th>\n      <td>27</td>\n      <td>32.717485</td>\n      <td>90.546083</td>\n      <td>7.656978</td>\n      <td>113.328978</td>\n      <td>3</td>\n      <td>0</td>\n    </tr>\n    <tr>\n      <th>396</th>\n      <td>13</td>\n      <td>25.162966</td>\n      <td>92.547360</td>\n      <td>7.105905</td>\n      <td>114.311720</td>\n      <td>3</td>\n      <td>0</td>\n    </tr>\n    <tr>\n      <th>397</th>\n      <td>6</td>\n      <td>27.681673</td>\n      <td>94.473169</td>\n      <td>7.199106</td>\n      <td>113.999515</td>\n      <td>3</td>\n      <td>0</td>\n    </tr>\n    <tr>\n      <th>398</th>\n      <td>40</td>\n      <td>21.350934</td>\n      <td>90.949297</td>\n      <td>7.871063</td>\n      <td>107.086209</td>\n      <td>3</td>\n      <td>0</td>\n    </tr>\n    <tr>\n      <th>399</th>\n      <td>31</td>\n      <td>11.698946</td>\n      <td>93.256389</td>\n      <td>7.566166</td>\n      <td>103.200599</td>\n      <td>3</td>\n      <td>0</td>\n    </tr>\n  </tbody>\n</table>\n<p>400 rows × 7 columns</p>\n</div>"
     },
     "metadata": {},
     "execution_count": 69
    }
   ],
   "source": [
    "# Sanity check\n",
    "_fert_N"
   ]
  },
  {
   "cell_type": "code",
   "execution_count": 15,
   "metadata": {},
   "outputs": [
    {
     "output_type": "execute_result",
     "data": {
      "text/plain": [
       "     output  temperature   humidity        ph    rainfall  label  \\\n",
       "0        16    22.613600  63.690706  5.749914   87.759539      2   \n",
       "1        17    26.100184  71.574769  6.931757  102.266244      2   \n",
       "2        16    23.558821  71.593514  6.657965   66.719955      2   \n",
       "3        21    19.972160  57.682729  6.596061   60.651715      2   \n",
       "4        20    18.478913  62.695039  5.970458   65.438354      2   \n",
       "..      ...          ...        ...       ...         ...    ...   \n",
       "395       5    32.717485  90.546083  7.656978  113.328978      3   \n",
       "396      12    25.162966  92.547360  7.105905  114.311720      3   \n",
       "397       7    27.681673  94.473169  7.199106  113.999515      3   \n",
       "398      15    21.350934  90.949297  7.871063  107.086209      3   \n",
       "399       9    11.698946  93.256389  7.566166  103.200599      3   \n",
       "\n",
       "     target_output  \n",
       "0                2  \n",
       "1                2  \n",
       "2                2  \n",
       "3                2  \n",
       "4                2  \n",
       "..             ...  \n",
       "395              2  \n",
       "396              2  \n",
       "397              2  \n",
       "398              2  \n",
       "399              2  \n",
       "\n",
       "[400 rows x 7 columns]"
      ],
      "text/html": "<div>\n<style scoped>\n    .dataframe tbody tr th:only-of-type {\n        vertical-align: middle;\n    }\n\n    .dataframe tbody tr th {\n        vertical-align: top;\n    }\n\n    .dataframe thead th {\n        text-align: right;\n    }\n</style>\n<table border=\"1\" class=\"dataframe\">\n  <thead>\n    <tr style=\"text-align: right;\">\n      <th></th>\n      <th>output</th>\n      <th>temperature</th>\n      <th>humidity</th>\n      <th>ph</th>\n      <th>rainfall</th>\n      <th>label</th>\n      <th>target_output</th>\n    </tr>\n  </thead>\n  <tbody>\n    <tr>\n      <th>0</th>\n      <td>16</td>\n      <td>22.613600</td>\n      <td>63.690706</td>\n      <td>5.749914</td>\n      <td>87.759539</td>\n      <td>2</td>\n      <td>2</td>\n    </tr>\n    <tr>\n      <th>1</th>\n      <td>17</td>\n      <td>26.100184</td>\n      <td>71.574769</td>\n      <td>6.931757</td>\n      <td>102.266244</td>\n      <td>2</td>\n      <td>2</td>\n    </tr>\n    <tr>\n      <th>2</th>\n      <td>16</td>\n      <td>23.558821</td>\n      <td>71.593514</td>\n      <td>6.657965</td>\n      <td>66.719955</td>\n      <td>2</td>\n      <td>2</td>\n    </tr>\n    <tr>\n      <th>3</th>\n      <td>21</td>\n      <td>19.972160</td>\n      <td>57.682729</td>\n      <td>6.596061</td>\n      <td>60.651715</td>\n      <td>2</td>\n      <td>2</td>\n    </tr>\n    <tr>\n      <th>4</th>\n      <td>20</td>\n      <td>18.478913</td>\n      <td>62.695039</td>\n      <td>5.970458</td>\n      <td>65.438354</td>\n      <td>2</td>\n      <td>2</td>\n    </tr>\n    <tr>\n      <th>...</th>\n      <td>...</td>\n      <td>...</td>\n      <td>...</td>\n      <td>...</td>\n      <td>...</td>\n      <td>...</td>\n      <td>...</td>\n    </tr>\n    <tr>\n      <th>395</th>\n      <td>5</td>\n      <td>32.717485</td>\n      <td>90.546083</td>\n      <td>7.656978</td>\n      <td>113.328978</td>\n      <td>3</td>\n      <td>2</td>\n    </tr>\n    <tr>\n      <th>396</th>\n      <td>12</td>\n      <td>25.162966</td>\n      <td>92.547360</td>\n      <td>7.105905</td>\n      <td>114.311720</td>\n      <td>3</td>\n      <td>2</td>\n    </tr>\n    <tr>\n      <th>397</th>\n      <td>7</td>\n      <td>27.681673</td>\n      <td>94.473169</td>\n      <td>7.199106</td>\n      <td>113.999515</td>\n      <td>3</td>\n      <td>2</td>\n    </tr>\n    <tr>\n      <th>398</th>\n      <td>15</td>\n      <td>21.350934</td>\n      <td>90.949297</td>\n      <td>7.871063</td>\n      <td>107.086209</td>\n      <td>3</td>\n      <td>2</td>\n    </tr>\n    <tr>\n      <th>399</th>\n      <td>9</td>\n      <td>11.698946</td>\n      <td>93.256389</td>\n      <td>7.566166</td>\n      <td>103.200599</td>\n      <td>3</td>\n      <td>2</td>\n    </tr>\n  </tbody>\n</table>\n<p>400 rows × 7 columns</p>\n</div>"
     },
     "metadata": {},
     "execution_count": 15
    }
   ],
   "source": [
    "_fert_K"
   ]
  },
  {
   "cell_type": "code",
   "execution_count": 16,
   "metadata": {},
   "outputs": [
    {
     "output_type": "execute_result",
     "data": {
      "text/plain": [
       "      output  temperature   humidity        ph    rainfall  label  \\\n",
       "0         71    22.613600  63.690706  5.749914   87.759539      2   \n",
       "1         61    26.100184  71.574769  6.931757  102.266244      2   \n",
       "2         80    23.558821  71.593514  6.657965   66.719955      2   \n",
       "3         73    19.972160  57.682729  6.596061   60.651715      2   \n",
       "4         61    18.478913  62.695039  5.970458   65.438354      2   \n",
       "...      ...          ...        ...       ...         ...    ...   \n",
       "1195       5    32.717485  90.546083  7.656978  113.328978      3   \n",
       "1196      12    25.162966  92.547360  7.105905  114.311720      3   \n",
       "1197       7    27.681673  94.473169  7.199106  113.999515      3   \n",
       "1198      15    21.350934  90.949297  7.871063  107.086209      3   \n",
       "1199       9    11.698946  93.256389  7.566166  103.200599      3   \n",
       "\n",
       "      target_output  \n",
       "0                 0  \n",
       "1                 0  \n",
       "2                 0  \n",
       "3                 0  \n",
       "4                 0  \n",
       "...             ...  \n",
       "1195              2  \n",
       "1196              2  \n",
       "1197              2  \n",
       "1198              2  \n",
       "1199              2  \n",
       "\n",
       "[1200 rows x 7 columns]"
      ],
      "text/html": "<div>\n<style scoped>\n    .dataframe tbody tr th:only-of-type {\n        vertical-align: middle;\n    }\n\n    .dataframe tbody tr th {\n        vertical-align: top;\n    }\n\n    .dataframe thead th {\n        text-align: right;\n    }\n</style>\n<table border=\"1\" class=\"dataframe\">\n  <thead>\n    <tr style=\"text-align: right;\">\n      <th></th>\n      <th>output</th>\n      <th>temperature</th>\n      <th>humidity</th>\n      <th>ph</th>\n      <th>rainfall</th>\n      <th>label</th>\n      <th>target_output</th>\n    </tr>\n  </thead>\n  <tbody>\n    <tr>\n      <th>0</th>\n      <td>71</td>\n      <td>22.613600</td>\n      <td>63.690706</td>\n      <td>5.749914</td>\n      <td>87.759539</td>\n      <td>2</td>\n      <td>0</td>\n    </tr>\n    <tr>\n      <th>1</th>\n      <td>61</td>\n      <td>26.100184</td>\n      <td>71.574769</td>\n      <td>6.931757</td>\n      <td>102.266244</td>\n      <td>2</td>\n      <td>0</td>\n    </tr>\n    <tr>\n      <th>2</th>\n      <td>80</td>\n      <td>23.558821</td>\n      <td>71.593514</td>\n      <td>6.657965</td>\n      <td>66.719955</td>\n      <td>2</td>\n      <td>0</td>\n    </tr>\n    <tr>\n      <th>3</th>\n      <td>73</td>\n      <td>19.972160</td>\n      <td>57.682729</td>\n      <td>6.596061</td>\n      <td>60.651715</td>\n      <td>2</td>\n      <td>0</td>\n    </tr>\n    <tr>\n      <th>4</th>\n      <td>61</td>\n      <td>18.478913</td>\n      <td>62.695039</td>\n      <td>5.970458</td>\n      <td>65.438354</td>\n      <td>2</td>\n      <td>0</td>\n    </tr>\n    <tr>\n      <th>...</th>\n      <td>...</td>\n      <td>...</td>\n      <td>...</td>\n      <td>...</td>\n      <td>...</td>\n      <td>...</td>\n      <td>...</td>\n    </tr>\n    <tr>\n      <th>1195</th>\n      <td>5</td>\n      <td>32.717485</td>\n      <td>90.546083</td>\n      <td>7.656978</td>\n      <td>113.328978</td>\n      <td>3</td>\n      <td>2</td>\n    </tr>\n    <tr>\n      <th>1196</th>\n      <td>12</td>\n      <td>25.162966</td>\n      <td>92.547360</td>\n      <td>7.105905</td>\n      <td>114.311720</td>\n      <td>3</td>\n      <td>2</td>\n    </tr>\n    <tr>\n      <th>1197</th>\n      <td>7</td>\n      <td>27.681673</td>\n      <td>94.473169</td>\n      <td>7.199106</td>\n      <td>113.999515</td>\n      <td>3</td>\n      <td>2</td>\n    </tr>\n    <tr>\n      <th>1198</th>\n      <td>15</td>\n      <td>21.350934</td>\n      <td>90.949297</td>\n      <td>7.871063</td>\n      <td>107.086209</td>\n      <td>3</td>\n      <td>2</td>\n    </tr>\n    <tr>\n      <th>1199</th>\n      <td>9</td>\n      <td>11.698946</td>\n      <td>93.256389</td>\n      <td>7.566166</td>\n      <td>103.200599</td>\n      <td>3</td>\n      <td>2</td>\n    </tr>\n  </tbody>\n</table>\n<p>1200 rows × 7 columns</p>\n</div>"
     },
     "metadata": {},
     "execution_count": 16
    }
   ],
   "source": [
    "FERTILISER = _fert_N.copy()\n",
    "FERTILISER = FERTILISER.append(\n",
    "    _fert_P, \n",
    "    ignore_index=True).append(\n",
    "        _fert_K,\n",
    "        ignore_index=True\n",
    "    )\n",
    "\n",
    "FERTILISER"
   ]
  },
  {
   "cell_type": "code",
   "execution_count": 17,
   "metadata": {},
   "outputs": [
    {
     "output_type": "execute_result",
     "data": {
      "text/plain": [
       "            output  temperature     humidity           ph     rainfall  \\\n",
       "count  1200.000000  1200.000000  1200.000000  1200.000000  1200.000000   \n",
       "mean     75.238333    22.908862    82.867767     6.304437    94.377141   \n",
       "std      70.161186     6.253690    11.493721     0.588955    20.189610   \n",
       "min       0.000000     8.825675    55.282204     5.510925    60.651715   \n",
       "25%      17.000000    19.723364    78.719580     5.839879    71.424148   \n",
       "50%      39.000000    22.705257    86.994867     6.206827   102.626226   \n",
       "75%     135.000000    25.190546    92.049560     6.552920   111.777102   \n",
       "max     205.000000    41.948657    94.964199     7.995849   124.983162   \n",
       "\n",
       "           label  target_output  \n",
       "count  1200.0000    1200.000000  \n",
       "mean      1.5000       1.000000  \n",
       "std       1.1185       0.816837  \n",
       "min       0.0000       0.000000  \n",
       "25%       0.7500       0.000000  \n",
       "50%       1.5000       1.000000  \n",
       "75%       2.2500       2.000000  \n",
       "max       3.0000       2.000000  "
      ],
      "text/html": "<div>\n<style scoped>\n    .dataframe tbody tr th:only-of-type {\n        vertical-align: middle;\n    }\n\n    .dataframe tbody tr th {\n        vertical-align: top;\n    }\n\n    .dataframe thead th {\n        text-align: right;\n    }\n</style>\n<table border=\"1\" class=\"dataframe\">\n  <thead>\n    <tr style=\"text-align: right;\">\n      <th></th>\n      <th>output</th>\n      <th>temperature</th>\n      <th>humidity</th>\n      <th>ph</th>\n      <th>rainfall</th>\n      <th>label</th>\n      <th>target_output</th>\n    </tr>\n  </thead>\n  <tbody>\n    <tr>\n      <th>count</th>\n      <td>1200.000000</td>\n      <td>1200.000000</td>\n      <td>1200.000000</td>\n      <td>1200.000000</td>\n      <td>1200.000000</td>\n      <td>1200.0000</td>\n      <td>1200.000000</td>\n    </tr>\n    <tr>\n      <th>mean</th>\n      <td>75.238333</td>\n      <td>22.908862</td>\n      <td>82.867767</td>\n      <td>6.304437</td>\n      <td>94.377141</td>\n      <td>1.5000</td>\n      <td>1.000000</td>\n    </tr>\n    <tr>\n      <th>std</th>\n      <td>70.161186</td>\n      <td>6.253690</td>\n      <td>11.493721</td>\n      <td>0.588955</td>\n      <td>20.189610</td>\n      <td>1.1185</td>\n      <td>0.816837</td>\n    </tr>\n    <tr>\n      <th>min</th>\n      <td>0.000000</td>\n      <td>8.825675</td>\n      <td>55.282204</td>\n      <td>5.510925</td>\n      <td>60.651715</td>\n      <td>0.0000</td>\n      <td>0.000000</td>\n    </tr>\n    <tr>\n      <th>25%</th>\n      <td>17.000000</td>\n      <td>19.723364</td>\n      <td>78.719580</td>\n      <td>5.839879</td>\n      <td>71.424148</td>\n      <td>0.7500</td>\n      <td>0.000000</td>\n    </tr>\n    <tr>\n      <th>50%</th>\n      <td>39.000000</td>\n      <td>22.705257</td>\n      <td>86.994867</td>\n      <td>6.206827</td>\n      <td>102.626226</td>\n      <td>1.5000</td>\n      <td>1.000000</td>\n    </tr>\n    <tr>\n      <th>75%</th>\n      <td>135.000000</td>\n      <td>25.190546</td>\n      <td>92.049560</td>\n      <td>6.552920</td>\n      <td>111.777102</td>\n      <td>2.2500</td>\n      <td>2.000000</td>\n    </tr>\n    <tr>\n      <th>max</th>\n      <td>205.000000</td>\n      <td>41.948657</td>\n      <td>94.964199</td>\n      <td>7.995849</td>\n      <td>124.983162</td>\n      <td>3.0000</td>\n      <td>2.000000</td>\n    </tr>\n  </tbody>\n</table>\n</div>"
     },
     "metadata": {},
     "execution_count": 17
    }
   ],
   "source": [
    "# Data to see before deciding on normalisation: max values\n",
    "FERTILISER.describe()"
   ]
  },
  {
   "cell_type": "code",
   "execution_count": 18,
   "metadata": {},
   "outputs": [
    {
     "output_type": "execute_result",
     "data": {
      "text/plain": [
       "      output  temperature   humidity        ph    rainfall  label  \\\n",
       "0         71    22.613600  63.690706  5.749914   87.759539      2   \n",
       "1         61    26.100184  71.574769  6.931757  102.266244      2   \n",
       "2         80    23.558821  71.593514  6.657965   66.719955      2   \n",
       "3         73    19.972160  57.682729  6.596061   60.651715      2   \n",
       "4         61    18.478913  62.695039  5.970458   65.438354      2   \n",
       "...      ...          ...        ...       ...         ...    ...   \n",
       "1195       5    32.717485  90.546083  7.656978  113.328978      3   \n",
       "1196      12    25.162966  92.547360  7.105905  114.311720      3   \n",
       "1197       7    27.681673  94.473169  7.199106  113.999515      3   \n",
       "1198      15    21.350934  90.949297  7.871063  107.086209      3   \n",
       "1199       9    11.698946  93.256389  7.566166  103.200599      3   \n",
       "\n",
       "      target_output  \n",
       "0                 0  \n",
       "1                 0  \n",
       "2                 0  \n",
       "3                 0  \n",
       "4                 0  \n",
       "...             ...  \n",
       "1195              2  \n",
       "1196              2  \n",
       "1197              2  \n",
       "1198              2  \n",
       "1199              2  \n",
       "\n",
       "[1200 rows x 7 columns]"
      ],
      "text/html": "<div>\n<style scoped>\n    .dataframe tbody tr th:only-of-type {\n        vertical-align: middle;\n    }\n\n    .dataframe tbody tr th {\n        vertical-align: top;\n    }\n\n    .dataframe thead th {\n        text-align: right;\n    }\n</style>\n<table border=\"1\" class=\"dataframe\">\n  <thead>\n    <tr style=\"text-align: right;\">\n      <th></th>\n      <th>output</th>\n      <th>temperature</th>\n      <th>humidity</th>\n      <th>ph</th>\n      <th>rainfall</th>\n      <th>label</th>\n      <th>target_output</th>\n    </tr>\n  </thead>\n  <tbody>\n    <tr>\n      <th>0</th>\n      <td>71</td>\n      <td>22.613600</td>\n      <td>63.690706</td>\n      <td>5.749914</td>\n      <td>87.759539</td>\n      <td>2</td>\n      <td>0</td>\n    </tr>\n    <tr>\n      <th>1</th>\n      <td>61</td>\n      <td>26.100184</td>\n      <td>71.574769</td>\n      <td>6.931757</td>\n      <td>102.266244</td>\n      <td>2</td>\n      <td>0</td>\n    </tr>\n    <tr>\n      <th>2</th>\n      <td>80</td>\n      <td>23.558821</td>\n      <td>71.593514</td>\n      <td>6.657965</td>\n      <td>66.719955</td>\n      <td>2</td>\n      <td>0</td>\n    </tr>\n    <tr>\n      <th>3</th>\n      <td>73</td>\n      <td>19.972160</td>\n      <td>57.682729</td>\n      <td>6.596061</td>\n      <td>60.651715</td>\n      <td>2</td>\n      <td>0</td>\n    </tr>\n    <tr>\n      <th>4</th>\n      <td>61</td>\n      <td>18.478913</td>\n      <td>62.695039</td>\n      <td>5.970458</td>\n      <td>65.438354</td>\n      <td>2</td>\n      <td>0</td>\n    </tr>\n    <tr>\n      <th>...</th>\n      <td>...</td>\n      <td>...</td>\n      <td>...</td>\n      <td>...</td>\n      <td>...</td>\n      <td>...</td>\n      <td>...</td>\n    </tr>\n    <tr>\n      <th>1195</th>\n      <td>5</td>\n      <td>32.717485</td>\n      <td>90.546083</td>\n      <td>7.656978</td>\n      <td>113.328978</td>\n      <td>3</td>\n      <td>2</td>\n    </tr>\n    <tr>\n      <th>1196</th>\n      <td>12</td>\n      <td>25.162966</td>\n      <td>92.547360</td>\n      <td>7.105905</td>\n      <td>114.311720</td>\n      <td>3</td>\n      <td>2</td>\n    </tr>\n    <tr>\n      <th>1197</th>\n      <td>7</td>\n      <td>27.681673</td>\n      <td>94.473169</td>\n      <td>7.199106</td>\n      <td>113.999515</td>\n      <td>3</td>\n      <td>2</td>\n    </tr>\n    <tr>\n      <th>1198</th>\n      <td>15</td>\n      <td>21.350934</td>\n      <td>90.949297</td>\n      <td>7.871063</td>\n      <td>107.086209</td>\n      <td>3</td>\n      <td>2</td>\n    </tr>\n    <tr>\n      <th>1199</th>\n      <td>9</td>\n      <td>11.698946</td>\n      <td>93.256389</td>\n      <td>7.566166</td>\n      <td>103.200599</td>\n      <td>3</td>\n      <td>2</td>\n    </tr>\n  </tbody>\n</table>\n<p>1200 rows × 7 columns</p>\n</div>"
     },
     "metadata": {},
     "execution_count": 18
    }
   ],
   "source": [
    "FERTILISER.reset_index().drop('index', axis=1)"
   ]
  },
  {
   "cell_type": "code",
   "execution_count": 19,
   "metadata": {},
   "outputs": [
    {
     "output_type": "execute_result",
     "data": {
      "text/plain": [
       "output             int64\n",
       "temperature      float64\n",
       "humidity         float64\n",
       "ph               float64\n",
       "rainfall         float64\n",
       "label               int8\n",
       "target_output      int64\n",
       "dtype: object"
      ]
     },
     "metadata": {},
     "execution_count": 19
    }
   ],
   "source": [
    "FERTILISER.dtypes"
   ]
  },
  {
   "cell_type": "code",
   "execution_count": 20,
   "metadata": {},
   "outputs": [],
   "source": [
    "# manually normalise\n",
    "#FERTILISER.loc[:, 'output'] = FERTILISER['output'] / 205\n",
    "#FERTILISER.loc[:, 'temperature'] = FERTILISER['temperature'] / 42\n",
    "#FERTILISER.loc[:, 'humidity'] = FERTILISER['humidity'] / 95\n",
    "#FERTILISER.loc[:, 'ph'] = FERTILISER['ph'] / 8\n",
    "#FERTILISER.loc[:, 'rainfall'] = FERTILISER['rainfall'] / 125"
   ]
  },
  {
   "cell_type": "code",
   "execution_count": 21,
   "metadata": {},
   "outputs": [],
   "source": [
    "FERTILISER = FERTILISER.sample(frac=1).reset_index().drop('index', axis=1)\n",
    "\n",
    "FERTILISER_TRAIN = FERTILISER.loc[:int(len(FERTILISER) * TRAIN_SPLIT)].reset_index().drop('index', axis=1)\n",
    "FERTILISER_TEST = FERTILISER.loc[int(len(FERTILISER) * TRAIN_SPLIT):].reset_index().drop('index', axis=1)\n",
    "\n",
    "FERTILISER_TRAIN_FEATURES = FERTILISER_TRAIN.copy()\n",
    "FERTILISER_TEST_FEATURES = FERTILISER_TEST.copy()\n",
    "\n",
    "FERTILISER_TRAIN_LABEL = FERTILISER_TRAIN_FEATURES.pop('output')\n",
    "FERTILISER_TEST_LABEL = FERTILISER_TEST_FEATURES.pop('output')"
   ]
  },
  {
   "cell_type": "code",
   "execution_count": 22,
   "metadata": {},
   "outputs": [
    {
     "output_type": "execute_result",
     "data": {
      "text/plain": [
       "     output  temperature   humidity        ph    rainfall  label  \\\n",
       "0        75    19.398517  62.357506  5.696205   60.951975      2   \n",
       "1        23    22.566642  93.374889  7.598729  109.858575      3   \n",
       "2        14    21.032001  92.964197  7.684420  110.682394      3   \n",
       "3        71    25.107874  55.977328  5.790770   78.160777      2   \n",
       "4        18    33.105698  93.484475  7.434119  119.170911      3   \n",
       "..      ...          ...        ...       ...         ...    ...   \n",
       "956     199    23.710591  93.273924  5.658474  112.667659      0   \n",
       "957      10    28.262049  91.983174  6.929216  105.213226      3   \n",
       "958      13    23.109427  92.796308  6.383180  108.183792      0   \n",
       "959     201    22.782342  94.368035  5.682344  122.144995      0   \n",
       "960       8    28.262049  91.983174  6.929216  105.213226      3   \n",
       "\n",
       "     target_output  \n",
       "0                0  \n",
       "1                1  \n",
       "2                1  \n",
       "3                0  \n",
       "4                1  \n",
       "..             ...  \n",
       "956              2  \n",
       "957              2  \n",
       "958              0  \n",
       "959              2  \n",
       "960              0  \n",
       "\n",
       "[961 rows x 7 columns]"
      ],
      "text/html": "<div>\n<style scoped>\n    .dataframe tbody tr th:only-of-type {\n        vertical-align: middle;\n    }\n\n    .dataframe tbody tr th {\n        vertical-align: top;\n    }\n\n    .dataframe thead th {\n        text-align: right;\n    }\n</style>\n<table border=\"1\" class=\"dataframe\">\n  <thead>\n    <tr style=\"text-align: right;\">\n      <th></th>\n      <th>output</th>\n      <th>temperature</th>\n      <th>humidity</th>\n      <th>ph</th>\n      <th>rainfall</th>\n      <th>label</th>\n      <th>target_output</th>\n    </tr>\n  </thead>\n  <tbody>\n    <tr>\n      <th>0</th>\n      <td>75</td>\n      <td>19.398517</td>\n      <td>62.357506</td>\n      <td>5.696205</td>\n      <td>60.951975</td>\n      <td>2</td>\n      <td>0</td>\n    </tr>\n    <tr>\n      <th>1</th>\n      <td>23</td>\n      <td>22.566642</td>\n      <td>93.374889</td>\n      <td>7.598729</td>\n      <td>109.858575</td>\n      <td>3</td>\n      <td>1</td>\n    </tr>\n    <tr>\n      <th>2</th>\n      <td>14</td>\n      <td>21.032001</td>\n      <td>92.964197</td>\n      <td>7.684420</td>\n      <td>110.682394</td>\n      <td>3</td>\n      <td>1</td>\n    </tr>\n    <tr>\n      <th>3</th>\n      <td>71</td>\n      <td>25.107874</td>\n      <td>55.977328</td>\n      <td>5.790770</td>\n      <td>78.160777</td>\n      <td>2</td>\n      <td>0</td>\n    </tr>\n    <tr>\n      <th>4</th>\n      <td>18</td>\n      <td>33.105698</td>\n      <td>93.484475</td>\n      <td>7.434119</td>\n      <td>119.170911</td>\n      <td>3</td>\n      <td>1</td>\n    </tr>\n    <tr>\n      <th>...</th>\n      <td>...</td>\n      <td>...</td>\n      <td>...</td>\n      <td>...</td>\n      <td>...</td>\n      <td>...</td>\n      <td>...</td>\n    </tr>\n    <tr>\n      <th>956</th>\n      <td>199</td>\n      <td>23.710591</td>\n      <td>93.273924</td>\n      <td>5.658474</td>\n      <td>112.667659</td>\n      <td>0</td>\n      <td>2</td>\n    </tr>\n    <tr>\n      <th>957</th>\n      <td>10</td>\n      <td>28.262049</td>\n      <td>91.983174</td>\n      <td>6.929216</td>\n      <td>105.213226</td>\n      <td>3</td>\n      <td>2</td>\n    </tr>\n    <tr>\n      <th>958</th>\n      <td>13</td>\n      <td>23.109427</td>\n      <td>92.796308</td>\n      <td>6.383180</td>\n      <td>108.183792</td>\n      <td>0</td>\n      <td>0</td>\n    </tr>\n    <tr>\n      <th>959</th>\n      <td>201</td>\n      <td>22.782342</td>\n      <td>94.368035</td>\n      <td>5.682344</td>\n      <td>122.144995</td>\n      <td>0</td>\n      <td>2</td>\n    </tr>\n    <tr>\n      <th>960</th>\n      <td>8</td>\n      <td>28.262049</td>\n      <td>91.983174</td>\n      <td>6.929216</td>\n      <td>105.213226</td>\n      <td>3</td>\n      <td>0</td>\n    </tr>\n  </tbody>\n</table>\n<p>961 rows × 7 columns</p>\n</div>"
     },
     "metadata": {},
     "execution_count": 22
    }
   ],
   "source": [
    "# Check if they're balanced or not\n",
    "FERTILISER_TRAIN"
   ]
  },
  {
   "cell_type": "code",
   "execution_count": 23,
   "metadata": {},
   "outputs": [
    {
     "output_type": "execute_result",
     "data": {
      "text/plain": [
       "     output  temperature   humidity        ph    rainfall  label  \\\n",
       "0         8    28.262049  91.983174  6.929216  105.213226      3   \n",
       "1        17    23.391282  61.744272  5.871648  107.319813      2   \n",
       "2         8    21.032001  92.964197  7.684420  110.682394      3   \n",
       "3        28    31.349201  91.482476  7.181908  109.154982      3   \n",
       "4        10    34.052969  92.058117  6.725601  116.802085      3   \n",
       "..      ...          ...        ...       ...         ...    ...   \n",
       "235     142    27.237083  82.945733  6.224543   70.425089      1   \n",
       "236       9    10.356096  93.756520  7.796034  101.145695      3   \n",
       "237     128    22.608010  94.589006  6.226290  116.039659      0   \n",
       "238       5    19.667056  90.500967  7.764040  100.173796      3   \n",
       "239      20    21.701814  60.474705  6.708447   95.713885      2   \n",
       "\n",
       "     target_output  \n",
       "0                0  \n",
       "1                2  \n",
       "2                2  \n",
       "3                1  \n",
       "4                1  \n",
       "..             ...  \n",
       "235              1  \n",
       "236              2  \n",
       "237              1  \n",
       "238              2  \n",
       "239              2  \n",
       "\n",
       "[240 rows x 7 columns]"
      ],
      "text/html": "<div>\n<style scoped>\n    .dataframe tbody tr th:only-of-type {\n        vertical-align: middle;\n    }\n\n    .dataframe tbody tr th {\n        vertical-align: top;\n    }\n\n    .dataframe thead th {\n        text-align: right;\n    }\n</style>\n<table border=\"1\" class=\"dataframe\">\n  <thead>\n    <tr style=\"text-align: right;\">\n      <th></th>\n      <th>output</th>\n      <th>temperature</th>\n      <th>humidity</th>\n      <th>ph</th>\n      <th>rainfall</th>\n      <th>label</th>\n      <th>target_output</th>\n    </tr>\n  </thead>\n  <tbody>\n    <tr>\n      <th>0</th>\n      <td>8</td>\n      <td>28.262049</td>\n      <td>91.983174</td>\n      <td>6.929216</td>\n      <td>105.213226</td>\n      <td>3</td>\n      <td>0</td>\n    </tr>\n    <tr>\n      <th>1</th>\n      <td>17</td>\n      <td>23.391282</td>\n      <td>61.744272</td>\n      <td>5.871648</td>\n      <td>107.319813</td>\n      <td>2</td>\n      <td>2</td>\n    </tr>\n    <tr>\n      <th>2</th>\n      <td>8</td>\n      <td>21.032001</td>\n      <td>92.964197</td>\n      <td>7.684420</td>\n      <td>110.682394</td>\n      <td>3</td>\n      <td>2</td>\n    </tr>\n    <tr>\n      <th>3</th>\n      <td>28</td>\n      <td>31.349201</td>\n      <td>91.482476</td>\n      <td>7.181908</td>\n      <td>109.154982</td>\n      <td>3</td>\n      <td>1</td>\n    </tr>\n    <tr>\n      <th>4</th>\n      <td>10</td>\n      <td>34.052969</td>\n      <td>92.058117</td>\n      <td>6.725601</td>\n      <td>116.802085</td>\n      <td>3</td>\n      <td>1</td>\n    </tr>\n    <tr>\n      <th>...</th>\n      <td>...</td>\n      <td>...</td>\n      <td>...</td>\n      <td>...</td>\n      <td>...</td>\n      <td>...</td>\n      <td>...</td>\n    </tr>\n    <tr>\n      <th>235</th>\n      <td>142</td>\n      <td>27.237083</td>\n      <td>82.945733</td>\n      <td>6.224543</td>\n      <td>70.425089</td>\n      <td>1</td>\n      <td>1</td>\n    </tr>\n    <tr>\n      <th>236</th>\n      <td>9</td>\n      <td>10.356096</td>\n      <td>93.756520</td>\n      <td>7.796034</td>\n      <td>101.145695</td>\n      <td>3</td>\n      <td>2</td>\n    </tr>\n    <tr>\n      <th>237</th>\n      <td>128</td>\n      <td>22.608010</td>\n      <td>94.589006</td>\n      <td>6.226290</td>\n      <td>116.039659</td>\n      <td>0</td>\n      <td>1</td>\n    </tr>\n    <tr>\n      <th>238</th>\n      <td>5</td>\n      <td>19.667056</td>\n      <td>90.500967</td>\n      <td>7.764040</td>\n      <td>100.173796</td>\n      <td>3</td>\n      <td>2</td>\n    </tr>\n    <tr>\n      <th>239</th>\n      <td>20</td>\n      <td>21.701814</td>\n      <td>60.474705</td>\n      <td>6.708447</td>\n      <td>95.713885</td>\n      <td>2</td>\n      <td>2</td>\n    </tr>\n  </tbody>\n</table>\n<p>240 rows × 7 columns</p>\n</div>"
     },
     "metadata": {},
     "execution_count": 23
    }
   ],
   "source": [
    "FERTILISER_TEST"
   ]
  },
  {
   "cell_type": "code",
   "execution_count": 24,
   "metadata": {},
   "outputs": [],
   "source": [
    "import seaborn as sns\n",
    "#sns.pairplot(FERTILISER_TRAIN)"
   ]
  },
  {
   "cell_type": "code",
   "execution_count": 25,
   "metadata": {
    "tags": []
   },
   "outputs": [
    {
     "output_type": "stream",
     "name": "stdout",
     "text": [
      "INFO:tensorflow:Enabling eager execution\n",
      "INFO:tensorflow:Enabling v2 tensorshape\n",
      "INFO:tensorflow:Enabling resource variables\n",
      "INFO:tensorflow:Enabling tensor equality\n",
      "INFO:tensorflow:Enabling control flow v2\n"
     ]
    }
   ],
   "source": [
    "import tensorflow as tf\n",
    "#fertiliser_train = df_to_dataset(FERTILISER_TRAIN)\n",
    "#fertiliser_test = df_to_dataset(FERTILISER_TEST)\n",
    "#dataset = dataset.shuffle(len(_fert)).batch(1)"
   ]
  },
  {
   "cell_type": "code",
   "execution_count": 26,
   "metadata": {},
   "outputs": [],
   "source": [
    "# Create a tf.Dataset\n",
    "_train_dataset = np.array(FERTILISER_TRAIN)\n",
    "_test_dataset = np.array(FERTILISER_TEST)"
   ]
  },
  {
   "cell_type": "code",
   "execution_count": 37,
   "metadata": {},
   "outputs": [
    {
     "output_type": "execute_result",
     "data": {
      "text/plain": [
       "<BatchDataset shapes: ((None, 6), (None,)), types: (tf.float64, tf.int64)>"
      ]
     },
     "metadata": {},
     "execution_count": 37
    }
   ],
   "source": [
    "train_dataset"
   ]
  },
  {
   "cell_type": "code",
   "execution_count": 52,
   "metadata": {},
   "outputs": [],
   "source": [
    "# Define model\n",
    "predict_fert = tf.keras.Sequential([\n",
    "    tf.keras.layers.Dense(8, activation=tf.nn.relu, input_shape=[6]),\n",
    "    tf.keras.layers.Dense(1, activation=tf.nn.relu)\n",
    "])\n",
    "\n",
    "#predict_fert.summary()"
   ]
  },
  {
   "cell_type": "code",
   "execution_count": 55,
   "metadata": {},
   "outputs": [
    {
     "output_type": "stream",
     "name": "stdout",
     "text": [
      "Epoch 1/50\n",
      "961/961 [==============================] - 3s 2ms/step - loss: 10618.3267 - acc: 0.0063\n",
      "Epoch 2/50\n",
      "961/961 [==============================] - 2s 2ms/step - loss: 10108.1706 - acc: 0.0064\n",
      "Epoch 3/50\n",
      "961/961 [==============================] - 2s 2ms/step - loss: 10642.1703 - acc: 0.0049\n",
      "Epoch 4/50\n",
      "961/961 [==============================] - 2s 2ms/step - loss: 10969.6149 - acc: 0.0072\n",
      "Epoch 5/50\n",
      "961/961 [==============================] - 2s 2ms/step - loss: 10526.9035 - acc: 0.0043\n",
      "Epoch 6/50\n",
      "961/961 [==============================] - 2s 2ms/step - loss: 10208.7938 - acc: 0.0029\n",
      "Epoch 7/50\n",
      "961/961 [==============================] - 2s 2ms/step - loss: 9747.5014 - acc: 0.0060\n",
      "Epoch 8/50\n",
      "961/961 [==============================] - 2s 2ms/step - loss: 10071.7544 - acc: 0.0026\n",
      "Epoch 9/50\n",
      "961/961 [==============================] - 2s 2ms/step - loss: 10133.6456 - acc: 0.0103\n",
      "Epoch 10/50\n",
      "961/961 [==============================] - 2s 2ms/step - loss: 10479.1831 - acc: 0.0126\n",
      "Epoch 11/50\n",
      "961/961 [==============================] - 2s 2ms/step - loss: 9541.7915 - acc: 0.0061\n",
      "Epoch 12/50\n",
      "961/961 [==============================] - 2s 2ms/step - loss: 10304.2475 - acc: 0.0039\n",
      "Epoch 13/50\n",
      "961/961 [==============================] - 2s 2ms/step - loss: 10663.1881 - acc: 0.0097\n",
      "Epoch 14/50\n",
      "961/961 [==============================] - 2s 2ms/step - loss: 9561.7961 - acc: 0.0032\n",
      "Epoch 15/50\n",
      "961/961 [==============================] - 2s 2ms/step - loss: 9932.1639 - acc: 0.0101\n",
      "Epoch 16/50\n",
      "961/961 [==============================] - 2s 2ms/step - loss: 9972.5313 - acc: 0.0068\n",
      "Epoch 17/50\n",
      "961/961 [==============================] - 2s 2ms/step - loss: 10199.4563 - acc: 0.0084\n",
      "Epoch 18/50\n",
      "961/961 [==============================] - 2s 2ms/step - loss: 10749.8712 - acc: 0.0059\n",
      "Epoch 19/50\n",
      "961/961 [==============================] - 2s 2ms/step - loss: 10430.6538 - acc: 0.0051\n",
      "Epoch 20/50\n",
      "961/961 [==============================] - 2s 2ms/step - loss: 10920.3468 - acc: 0.0120\n",
      "Epoch 21/50\n",
      "961/961 [==============================] - 2s 2ms/step - loss: 10887.3554 - acc: 0.0054\n",
      "Epoch 22/50\n",
      "961/961 [==============================] - 2s 2ms/step - loss: 10143.8482 - acc: 0.0104\n",
      "Epoch 23/50\n",
      "961/961 [==============================] - 2s 2ms/step - loss: 10350.4875 - acc: 0.0075\n",
      "Epoch 24/50\n",
      "961/961 [==============================] - 2s 2ms/step - loss: 10072.9550 - acc: 0.0062\n",
      "Epoch 25/50\n",
      "961/961 [==============================] - 2s 2ms/step - loss: 10301.2223 - acc: 0.0104\n",
      "Epoch 26/50\n",
      "961/961 [==============================] - 2s 2ms/step - loss: 10754.2422 - acc: 0.0053\n",
      "Epoch 27/50\n",
      "961/961 [==============================] - 2s 2ms/step - loss: 10418.6809 - acc: 0.0052\n",
      "Epoch 28/50\n",
      "961/961 [==============================] - 2s 2ms/step - loss: 10259.6833 - acc: 0.0046\n",
      "Epoch 29/50\n",
      "961/961 [==============================] - 2s 2ms/step - loss: 10132.0198 - acc: 0.0075\n",
      "Epoch 30/50\n",
      "961/961 [==============================] - 2s 2ms/step - loss: 11072.0124 - acc: 0.0055\n",
      "Epoch 31/50\n",
      "961/961 [==============================] - 2s 2ms/step - loss: 10658.8364 - acc: 0.0041\n",
      "Epoch 32/50\n",
      "961/961 [==============================] - 2s 2ms/step - loss: 10007.4489 - acc: 0.0048\n",
      "Epoch 33/50\n",
      "961/961 [==============================] - 2s 2ms/step - loss: 10968.5405 - acc: 0.0077\n",
      "Epoch 34/50\n",
      "961/961 [==============================] - 2s 2ms/step - loss: 9458.7815 - acc: 0.0052\n",
      "Epoch 35/50\n",
      "961/961 [==============================] - 2s 2ms/step - loss: 10480.0347 - acc: 0.0053\n",
      "Epoch 36/50\n",
      "961/961 [==============================] - 2s 2ms/step - loss: 10349.2118 - acc: 0.0051\n",
      "Epoch 37/50\n",
      "961/961 [==============================] - 2s 2ms/step - loss: 11061.3472 - acc: 0.0059\n",
      "Epoch 38/50\n",
      "961/961 [==============================] - 2s 2ms/step - loss: 9351.9962 - acc: 0.0120\n",
      "Epoch 39/50\n",
      "961/961 [==============================] - 2s 2ms/step - loss: 10591.8844 - acc: 0.0088\n",
      "Epoch 40/50\n",
      "961/961 [==============================] - 2s 2ms/step - loss: 9894.6056 - acc: 0.0054\n",
      "Epoch 41/50\n",
      "961/961 [==============================] - 2s 2ms/step - loss: 10673.9102 - acc: 0.0090\n",
      "Epoch 42/50\n",
      "961/961 [==============================] - 2s 2ms/step - loss: 10602.2415 - acc: 0.0027\n",
      "Epoch 43/50\n",
      "961/961 [==============================] - 2s 2ms/step - loss: 10498.4289 - acc: 0.0027\n",
      "Epoch 44/50\n",
      "961/961 [==============================] - 2s 2ms/step - loss: 10614.4952 - acc: 0.0064\n",
      "Epoch 45/50\n",
      "961/961 [==============================] - 2s 2ms/step - loss: 9865.1613 - acc: 0.0067\n",
      "Epoch 46/50\n",
      "961/961 [==============================] - 2s 2ms/step - loss: 9717.2386 - acc: 0.0111\n",
      "Epoch 47/50\n",
      "961/961 [==============================] - 2s 2ms/step - loss: 9740.5122 - acc: 0.0087\n",
      "Epoch 48/50\n",
      "961/961 [==============================] - 2s 2ms/step - loss: 10037.7143 - acc: 0.0041\n",
      "Epoch 49/50\n",
      "961/961 [==============================] - 2s 2ms/step - loss: 10843.8292 - acc: 0.0062\n",
      "Epoch 50/50\n",
      "961/961 [==============================] - 2s 2ms/step - loss: 10559.7203 - acc: 0.0039\n"
     ]
    }
   ],
   "source": [
    "predict_fert.compile(\n",
    "    optimizer = tf.optimizers.SGD(learning_rate=0.001),\n",
    "    loss = tf.keras.losses.MSE,\n",
    "    metrics = ['acc']\n",
    ")\n",
    "\n",
    "hist = predict_fert.fit(\n",
    "    train_dataset,\n",
    "    #fertiliser,\n",
    "    epochs = 50,\n",
    "#    callbacks = [lr_schedule]\n",
    " )"
   ]
  },
  {
   "cell_type": "code",
   "execution_count": 41,
   "metadata": {},
   "outputs": [
    {
     "output_type": "stream",
     "name": "stdout",
     "text": [
      "Model: \"sequential_1\"\n_________________________________________________________________\nLayer (type)                 Output Shape              Param #   \n=================================================================\ndense_2 (Dense)              (None, 32)                224       \n_________________________________________________________________\ndense_3 (Dense)              (None, 1)                 33        \n=================================================================\nTotal params: 257\nTrainable params: 257\nNon-trainable params: 0\n_________________________________________________________________\n"
     ]
    }
   ],
   "source": [
    "predict_fert.summary()"
   ]
  },
  {
   "cell_type": "code",
   "execution_count": 50,
   "metadata": {},
   "outputs": [
    {
     "output_type": "execute_result",
     "data": {
      "text/plain": [
       "array([[0.]], dtype=float32)"
      ]
     },
     "metadata": {},
     "execution_count": 50
    }
   ],
   "source": [
    "predict_fert.predict(np.expand_dims(\n",
    "    FERTILISER_TEST_FEATURES.loc[0].values,\n",
    "    0\n",
    "    ))"
   ]
  },
  {
   "cell_type": "code",
   "execution_count": 43,
   "metadata": {},
   "outputs": [
    {
     "output_type": "error",
     "ename": "ValueError",
     "evalue": "in user code:\n\n    C:\\tools\\miniconda3\\lib\\site-packages\\tensorflow\\python\\keras\\engine\\training.py:1574 predict_function  *\n        return step_function(self, iterator)\n    C:\\tools\\miniconda3\\lib\\site-packages\\tensorflow\\python\\keras\\engine\\training.py:1564 step_function  **\n        outputs = model.distribute_strategy.run(run_step, args=(data,))\n    C:\\tools\\miniconda3\\lib\\site-packages\\tensorflow\\python\\distribute\\distribute_lib.py:1285 run\n        return self._extended.call_for_each_replica(fn, args=args, kwargs=kwargs)\n    C:\\tools\\miniconda3\\lib\\site-packages\\tensorflow\\python\\distribute\\distribute_lib.py:2833 call_for_each_replica\n        return self._call_for_each_replica(fn, args, kwargs)\n    C:\\tools\\miniconda3\\lib\\site-packages\\tensorflow\\python\\distribute\\distribute_lib.py:3608 _call_for_each_replica\n        return fn(*args, **kwargs)\n    C:\\tools\\miniconda3\\lib\\site-packages\\tensorflow\\python\\keras\\engine\\training.py:1557 run_step  **\n        outputs = model.predict_step(data)\n    C:\\tools\\miniconda3\\lib\\site-packages\\tensorflow\\python\\keras\\engine\\training.py:1530 predict_step\n        return self(x, training=False)\n    C:\\tools\\miniconda3\\lib\\site-packages\\tensorflow\\python\\keras\\engine\\base_layer.py:1014 __call__\n        input_spec.assert_input_compatibility(self.input_spec, inputs, self.name)\n    C:\\tools\\miniconda3\\lib\\site-packages\\tensorflow\\python\\keras\\engine\\input_spec.py:251 assert_input_compatibility\n        raise ValueError(\n\n    ValueError: Input 0 of layer sequential_1 is incompatible with the layer: expected axis -1 of input shape to have value 6 but received input with shape (None, 1)\n",
     "traceback": [
      "\u001b[1;31m---------------------------------------------------------------------------\u001b[0m",
      "\u001b[1;31mValueError\u001b[0m                                Traceback (most recent call last)",
      "\u001b[1;32m<ipython-input-43-b836cdab4528>\u001b[0m in \u001b[0;36m<module>\u001b[1;34m\u001b[0m\n\u001b[1;32m----> 1\u001b[1;33m predict_fert.predict(\n\u001b[0m\u001b[0;32m      2\u001b[0m     \u001b[0mFERTILISER_TEST_FEATURES\u001b[0m\u001b[1;33m.\u001b[0m\u001b[0mloc\u001b[0m\u001b[1;33m[\u001b[0m\u001b[1;36m0\u001b[0m\u001b[1;33m]\u001b[0m\u001b[1;33m.\u001b[0m\u001b[0mvalues\u001b[0m\u001b[1;33m,\u001b[0m\u001b[1;33m\u001b[0m\u001b[1;33m\u001b[0m\u001b[0m\n\u001b[0;32m      3\u001b[0m     \u001b[1;36m0\u001b[0m\u001b[1;33m\u001b[0m\u001b[1;33m\u001b[0m\u001b[0m\n\u001b[0;32m      4\u001b[0m     )\n",
      "\u001b[1;32mC:\\tools\\miniconda3\\lib\\site-packages\\tensorflow\\python\\keras\\engine\\training.py\u001b[0m in \u001b[0;36mpredict\u001b[1;34m(self, x, batch_size, verbose, steps, callbacks, max_queue_size, workers, use_multiprocessing)\u001b[0m\n\u001b[0;32m   1730\u001b[0m           \u001b[1;32mfor\u001b[0m \u001b[0mstep\u001b[0m \u001b[1;32min\u001b[0m \u001b[0mdata_handler\u001b[0m\u001b[1;33m.\u001b[0m\u001b[0msteps\u001b[0m\u001b[1;33m(\u001b[0m\u001b[1;33m)\u001b[0m\u001b[1;33m:\u001b[0m\u001b[1;33m\u001b[0m\u001b[1;33m\u001b[0m\u001b[0m\n\u001b[0;32m   1731\u001b[0m             \u001b[0mcallbacks\u001b[0m\u001b[1;33m.\u001b[0m\u001b[0mon_predict_batch_begin\u001b[0m\u001b[1;33m(\u001b[0m\u001b[0mstep\u001b[0m\u001b[1;33m)\u001b[0m\u001b[1;33m\u001b[0m\u001b[1;33m\u001b[0m\u001b[0m\n\u001b[1;32m-> 1732\u001b[1;33m             \u001b[0mtmp_batch_outputs\u001b[0m \u001b[1;33m=\u001b[0m \u001b[0mself\u001b[0m\u001b[1;33m.\u001b[0m\u001b[0mpredict_function\u001b[0m\u001b[1;33m(\u001b[0m\u001b[0miterator\u001b[0m\u001b[1;33m)\u001b[0m\u001b[1;33m\u001b[0m\u001b[1;33m\u001b[0m\u001b[0m\n\u001b[0m\u001b[0;32m   1733\u001b[0m             \u001b[1;32mif\u001b[0m \u001b[0mdata_handler\u001b[0m\u001b[1;33m.\u001b[0m\u001b[0mshould_sync\u001b[0m\u001b[1;33m:\u001b[0m\u001b[1;33m\u001b[0m\u001b[1;33m\u001b[0m\u001b[0m\n\u001b[0;32m   1734\u001b[0m               \u001b[0mcontext\u001b[0m\u001b[1;33m.\u001b[0m\u001b[0masync_wait\u001b[0m\u001b[1;33m(\u001b[0m\u001b[1;33m)\u001b[0m\u001b[1;33m\u001b[0m\u001b[1;33m\u001b[0m\u001b[0m\n",
      "\u001b[1;32mC:\\tools\\miniconda3\\lib\\site-packages\\tensorflow\\python\\eager\\def_function.py\u001b[0m in \u001b[0;36m__call__\u001b[1;34m(self, *args, **kwds)\u001b[0m\n\u001b[0;32m    883\u001b[0m \u001b[1;33m\u001b[0m\u001b[0m\n\u001b[0;32m    884\u001b[0m       \u001b[1;32mwith\u001b[0m \u001b[0mOptionalXlaContext\u001b[0m\u001b[1;33m(\u001b[0m\u001b[0mself\u001b[0m\u001b[1;33m.\u001b[0m\u001b[0m_jit_compile\u001b[0m\u001b[1;33m)\u001b[0m\u001b[1;33m:\u001b[0m\u001b[1;33m\u001b[0m\u001b[1;33m\u001b[0m\u001b[0m\n\u001b[1;32m--> 885\u001b[1;33m         \u001b[0mresult\u001b[0m \u001b[1;33m=\u001b[0m \u001b[0mself\u001b[0m\u001b[1;33m.\u001b[0m\u001b[0m_call\u001b[0m\u001b[1;33m(\u001b[0m\u001b[1;33m*\u001b[0m\u001b[0margs\u001b[0m\u001b[1;33m,\u001b[0m \u001b[1;33m**\u001b[0m\u001b[0mkwds\u001b[0m\u001b[1;33m)\u001b[0m\u001b[1;33m\u001b[0m\u001b[1;33m\u001b[0m\u001b[0m\n\u001b[0m\u001b[0;32m    886\u001b[0m \u001b[1;33m\u001b[0m\u001b[0m\n\u001b[0;32m    887\u001b[0m       \u001b[0mnew_tracing_count\u001b[0m \u001b[1;33m=\u001b[0m \u001b[0mself\u001b[0m\u001b[1;33m.\u001b[0m\u001b[0mexperimental_get_tracing_count\u001b[0m\u001b[1;33m(\u001b[0m\u001b[1;33m)\u001b[0m\u001b[1;33m\u001b[0m\u001b[1;33m\u001b[0m\u001b[0m\n",
      "\u001b[1;32mC:\\tools\\miniconda3\\lib\\site-packages\\tensorflow\\python\\eager\\def_function.py\u001b[0m in \u001b[0;36m_call\u001b[1;34m(self, *args, **kwds)\u001b[0m\n\u001b[0;32m    918\u001b[0m       \u001b[1;31m# In this case we have not created variables on the first call. So we can\u001b[0m\u001b[1;33m\u001b[0m\u001b[1;33m\u001b[0m\u001b[1;33m\u001b[0m\u001b[0m\n\u001b[0;32m    919\u001b[0m       \u001b[1;31m# run the first trace but we should fail if variables are created.\u001b[0m\u001b[1;33m\u001b[0m\u001b[1;33m\u001b[0m\u001b[1;33m\u001b[0m\u001b[0m\n\u001b[1;32m--> 920\u001b[1;33m       \u001b[0mresults\u001b[0m \u001b[1;33m=\u001b[0m \u001b[0mself\u001b[0m\u001b[1;33m.\u001b[0m\u001b[0m_stateful_fn\u001b[0m\u001b[1;33m(\u001b[0m\u001b[1;33m*\u001b[0m\u001b[0margs\u001b[0m\u001b[1;33m,\u001b[0m \u001b[1;33m**\u001b[0m\u001b[0mkwds\u001b[0m\u001b[1;33m)\u001b[0m\u001b[1;33m\u001b[0m\u001b[1;33m\u001b[0m\u001b[0m\n\u001b[0m\u001b[0;32m    921\u001b[0m       \u001b[1;32mif\u001b[0m \u001b[0mself\u001b[0m\u001b[1;33m.\u001b[0m\u001b[0m_created_variables\u001b[0m\u001b[1;33m:\u001b[0m\u001b[1;33m\u001b[0m\u001b[1;33m\u001b[0m\u001b[0m\n\u001b[0;32m    922\u001b[0m         raise ValueError(\"Creating variables on a non-first call to a function\"\n",
      "\u001b[1;32mC:\\tools\\miniconda3\\lib\\site-packages\\tensorflow\\python\\eager\\function.py\u001b[0m in \u001b[0;36m__call__\u001b[1;34m(self, *args, **kwargs)\u001b[0m\n\u001b[0;32m   3029\u001b[0m     \u001b[1;32mwith\u001b[0m \u001b[0mself\u001b[0m\u001b[1;33m.\u001b[0m\u001b[0m_lock\u001b[0m\u001b[1;33m:\u001b[0m\u001b[1;33m\u001b[0m\u001b[1;33m\u001b[0m\u001b[0m\n\u001b[0;32m   3030\u001b[0m       (graph_function,\n\u001b[1;32m-> 3031\u001b[1;33m        filtered_flat_args) = self._maybe_define_function(args, kwargs)\n\u001b[0m\u001b[0;32m   3032\u001b[0m     return graph_function._call_flat(\n\u001b[0;32m   3033\u001b[0m         filtered_flat_args, captured_inputs=graph_function.captured_inputs)  # pylint: disable=protected-access\n",
      "\u001b[1;32mC:\\tools\\miniconda3\\lib\\site-packages\\tensorflow\\python\\eager\\function.py\u001b[0m in \u001b[0;36m_maybe_define_function\u001b[1;34m(self, args, kwargs)\u001b[0m\n\u001b[0;32m   3450\u001b[0m               \u001b[0mself\u001b[0m\u001b[1;33m.\u001b[0m\u001b[0minput_signature\u001b[0m \u001b[1;32mis\u001b[0m \u001b[1;32mNone\u001b[0m \u001b[1;32mand\u001b[0m\u001b[1;33m\u001b[0m\u001b[1;33m\u001b[0m\u001b[0m\n\u001b[0;32m   3451\u001b[0m               call_context_key in self._function_cache.missed):\n\u001b[1;32m-> 3452\u001b[1;33m             return self._define_function_with_shape_relaxation(\n\u001b[0m\u001b[0;32m   3453\u001b[0m                 args, kwargs, flat_args, filtered_flat_args, cache_key_context)\n\u001b[0;32m   3454\u001b[0m \u001b[1;33m\u001b[0m\u001b[0m\n",
      "\u001b[1;32mC:\\tools\\miniconda3\\lib\\site-packages\\tensorflow\\python\\eager\\function.py\u001b[0m in \u001b[0;36m_define_function_with_shape_relaxation\u001b[1;34m(self, args, kwargs, flat_args, filtered_flat_args, cache_key_context)\u001b[0m\n\u001b[0;32m   3372\u001b[0m           expand_composites=True)\n\u001b[0;32m   3373\u001b[0m \u001b[1;33m\u001b[0m\u001b[0m\n\u001b[1;32m-> 3374\u001b[1;33m     graph_function = self._create_graph_function(\n\u001b[0m\u001b[0;32m   3375\u001b[0m         args, kwargs, override_flat_arg_shapes=relaxed_arg_shapes)\n\u001b[0;32m   3376\u001b[0m     \u001b[0mself\u001b[0m\u001b[1;33m.\u001b[0m\u001b[0m_function_cache\u001b[0m\u001b[1;33m.\u001b[0m\u001b[0marg_relaxed\u001b[0m\u001b[1;33m[\u001b[0m\u001b[0mrank_only_cache_key\u001b[0m\u001b[1;33m]\u001b[0m \u001b[1;33m=\u001b[0m \u001b[0mgraph_function\u001b[0m\u001b[1;33m\u001b[0m\u001b[1;33m\u001b[0m\u001b[0m\n",
      "\u001b[1;32mC:\\tools\\miniconda3\\lib\\site-packages\\tensorflow\\python\\eager\\function.py\u001b[0m in \u001b[0;36m_create_graph_function\u001b[1;34m(self, args, kwargs, override_flat_arg_shapes)\u001b[0m\n\u001b[0;32m   3289\u001b[0m     \u001b[0marg_names\u001b[0m \u001b[1;33m=\u001b[0m \u001b[0mbase_arg_names\u001b[0m \u001b[1;33m+\u001b[0m \u001b[0mmissing_arg_names\u001b[0m\u001b[1;33m\u001b[0m\u001b[1;33m\u001b[0m\u001b[0m\n\u001b[0;32m   3290\u001b[0m     graph_function = ConcreteFunction(\n\u001b[1;32m-> 3291\u001b[1;33m         func_graph_module.func_graph_from_py_func(\n\u001b[0m\u001b[0;32m   3292\u001b[0m             \u001b[0mself\u001b[0m\u001b[1;33m.\u001b[0m\u001b[0m_name\u001b[0m\u001b[1;33m,\u001b[0m\u001b[1;33m\u001b[0m\u001b[1;33m\u001b[0m\u001b[0m\n\u001b[0;32m   3293\u001b[0m             \u001b[0mself\u001b[0m\u001b[1;33m.\u001b[0m\u001b[0m_python_function\u001b[0m\u001b[1;33m,\u001b[0m\u001b[1;33m\u001b[0m\u001b[1;33m\u001b[0m\u001b[0m\n",
      "\u001b[1;32mC:\\tools\\miniconda3\\lib\\site-packages\\tensorflow\\python\\framework\\func_graph.py\u001b[0m in \u001b[0;36mfunc_graph_from_py_func\u001b[1;34m(name, python_func, args, kwargs, signature, func_graph, autograph, autograph_options, add_control_dependencies, arg_names, op_return_value, collections, capture_by_value, override_flat_arg_shapes)\u001b[0m\n\u001b[0;32m    997\u001b[0m         \u001b[0m_\u001b[0m\u001b[1;33m,\u001b[0m \u001b[0moriginal_func\u001b[0m \u001b[1;33m=\u001b[0m \u001b[0mtf_decorator\u001b[0m\u001b[1;33m.\u001b[0m\u001b[0munwrap\u001b[0m\u001b[1;33m(\u001b[0m\u001b[0mpython_func\u001b[0m\u001b[1;33m)\u001b[0m\u001b[1;33m\u001b[0m\u001b[1;33m\u001b[0m\u001b[0m\n\u001b[0;32m    998\u001b[0m \u001b[1;33m\u001b[0m\u001b[0m\n\u001b[1;32m--> 999\u001b[1;33m       \u001b[0mfunc_outputs\u001b[0m \u001b[1;33m=\u001b[0m \u001b[0mpython_func\u001b[0m\u001b[1;33m(\u001b[0m\u001b[1;33m*\u001b[0m\u001b[0mfunc_args\u001b[0m\u001b[1;33m,\u001b[0m \u001b[1;33m**\u001b[0m\u001b[0mfunc_kwargs\u001b[0m\u001b[1;33m)\u001b[0m\u001b[1;33m\u001b[0m\u001b[1;33m\u001b[0m\u001b[0m\n\u001b[0m\u001b[0;32m   1000\u001b[0m \u001b[1;33m\u001b[0m\u001b[0m\n\u001b[0;32m   1001\u001b[0m       \u001b[1;31m# invariant: `func_outputs` contains only Tensors, CompositeTensors,\u001b[0m\u001b[1;33m\u001b[0m\u001b[1;33m\u001b[0m\u001b[1;33m\u001b[0m\u001b[0m\n",
      "\u001b[1;32mC:\\tools\\miniconda3\\lib\\site-packages\\tensorflow\\python\\eager\\def_function.py\u001b[0m in \u001b[0;36mwrapped_fn\u001b[1;34m(*args, **kwds)\u001b[0m\n\u001b[0;32m    666\u001b[0m         \u001b[1;31m# the function a weak reference to itself to avoid a reference cycle.\u001b[0m\u001b[1;33m\u001b[0m\u001b[1;33m\u001b[0m\u001b[1;33m\u001b[0m\u001b[0m\n\u001b[0;32m    667\u001b[0m         \u001b[1;32mwith\u001b[0m \u001b[0mOptionalXlaContext\u001b[0m\u001b[1;33m(\u001b[0m\u001b[0mcompile_with_xla\u001b[0m\u001b[1;33m)\u001b[0m\u001b[1;33m:\u001b[0m\u001b[1;33m\u001b[0m\u001b[1;33m\u001b[0m\u001b[0m\n\u001b[1;32m--> 668\u001b[1;33m           \u001b[0mout\u001b[0m \u001b[1;33m=\u001b[0m \u001b[0mweak_wrapped_fn\u001b[0m\u001b[1;33m(\u001b[0m\u001b[1;33m)\u001b[0m\u001b[1;33m.\u001b[0m\u001b[0m__wrapped__\u001b[0m\u001b[1;33m(\u001b[0m\u001b[1;33m*\u001b[0m\u001b[0margs\u001b[0m\u001b[1;33m,\u001b[0m \u001b[1;33m**\u001b[0m\u001b[0mkwds\u001b[0m\u001b[1;33m)\u001b[0m\u001b[1;33m\u001b[0m\u001b[1;33m\u001b[0m\u001b[0m\n\u001b[0m\u001b[0;32m    669\u001b[0m         \u001b[1;32mreturn\u001b[0m \u001b[0mout\u001b[0m\u001b[1;33m\u001b[0m\u001b[1;33m\u001b[0m\u001b[0m\n\u001b[0;32m    670\u001b[0m \u001b[1;33m\u001b[0m\u001b[0m\n",
      "\u001b[1;32mC:\\tools\\miniconda3\\lib\\site-packages\\tensorflow\\python\\framework\\func_graph.py\u001b[0m in \u001b[0;36mwrapper\u001b[1;34m(*args, **kwargs)\u001b[0m\n\u001b[0;32m    984\u001b[0m           \u001b[1;32mexcept\u001b[0m \u001b[0mException\u001b[0m \u001b[1;32mas\u001b[0m \u001b[0me\u001b[0m\u001b[1;33m:\u001b[0m  \u001b[1;31m# pylint:disable=broad-except\u001b[0m\u001b[1;33m\u001b[0m\u001b[1;33m\u001b[0m\u001b[0m\n\u001b[0;32m    985\u001b[0m             \u001b[1;32mif\u001b[0m \u001b[0mhasattr\u001b[0m\u001b[1;33m(\u001b[0m\u001b[0me\u001b[0m\u001b[1;33m,\u001b[0m \u001b[1;34m\"ag_error_metadata\"\u001b[0m\u001b[1;33m)\u001b[0m\u001b[1;33m:\u001b[0m\u001b[1;33m\u001b[0m\u001b[1;33m\u001b[0m\u001b[0m\n\u001b[1;32m--> 986\u001b[1;33m               \u001b[1;32mraise\u001b[0m \u001b[0me\u001b[0m\u001b[1;33m.\u001b[0m\u001b[0mag_error_metadata\u001b[0m\u001b[1;33m.\u001b[0m\u001b[0mto_exception\u001b[0m\u001b[1;33m(\u001b[0m\u001b[0me\u001b[0m\u001b[1;33m)\u001b[0m\u001b[1;33m\u001b[0m\u001b[1;33m\u001b[0m\u001b[0m\n\u001b[0m\u001b[0;32m    987\u001b[0m             \u001b[1;32melse\u001b[0m\u001b[1;33m:\u001b[0m\u001b[1;33m\u001b[0m\u001b[1;33m\u001b[0m\u001b[0m\n\u001b[0;32m    988\u001b[0m               \u001b[1;32mraise\u001b[0m\u001b[1;33m\u001b[0m\u001b[1;33m\u001b[0m\u001b[0m\n",
      "\u001b[1;31mValueError\u001b[0m: in user code:\n\n    C:\\tools\\miniconda3\\lib\\site-packages\\tensorflow\\python\\keras\\engine\\training.py:1574 predict_function  *\n        return step_function(self, iterator)\n    C:\\tools\\miniconda3\\lib\\site-packages\\tensorflow\\python\\keras\\engine\\training.py:1564 step_function  **\n        outputs = model.distribute_strategy.run(run_step, args=(data,))\n    C:\\tools\\miniconda3\\lib\\site-packages\\tensorflow\\python\\distribute\\distribute_lib.py:1285 run\n        return self._extended.call_for_each_replica(fn, args=args, kwargs=kwargs)\n    C:\\tools\\miniconda3\\lib\\site-packages\\tensorflow\\python\\distribute\\distribute_lib.py:2833 call_for_each_replica\n        return self._call_for_each_replica(fn, args, kwargs)\n    C:\\tools\\miniconda3\\lib\\site-packages\\tensorflow\\python\\distribute\\distribute_lib.py:3608 _call_for_each_replica\n        return fn(*args, **kwargs)\n    C:\\tools\\miniconda3\\lib\\site-packages\\tensorflow\\python\\keras\\engine\\training.py:1557 run_step  **\n        outputs = model.predict_step(data)\n    C:\\tools\\miniconda3\\lib\\site-packages\\tensorflow\\python\\keras\\engine\\training.py:1530 predict_step\n        return self(x, training=False)\n    C:\\tools\\miniconda3\\lib\\site-packages\\tensorflow\\python\\keras\\engine\\base_layer.py:1014 __call__\n        input_spec.assert_input_compatibility(self.input_spec, inputs, self.name)\n    C:\\tools\\miniconda3\\lib\\site-packages\\tensorflow\\python\\keras\\engine\\input_spec.py:251 assert_input_compatibility\n        raise ValueError(\n\n    ValueError: Input 0 of layer sequential_1 is incompatible with the layer: expected axis -1 of input shape to have value 6 but received input with shape (None, 1)\n"
     ]
    }
   ],
   "source": [
    "predict_fert.predict(\n",
    "    FERTILISER_TEST_FEATURES.loc[0].values,\n",
    "    0\n",
    "    )"
   ]
  },
  {
   "cell_type": "code",
   "execution_count": 44,
   "metadata": {},
   "outputs": [
    {
     "output_type": "execute_result",
     "data": {
      "text/plain": [
       "array([[0.]], dtype=float32)"
      ]
     },
     "metadata": {},
     "execution_count": 44
    }
   ],
   "source": [
    "predict_fert.predict(np.expand_dims(\n",
    "    FERTILISER_TEST_FEATURES.loc[237].values,\n",
    "    0\n",
    "    ))"
   ]
  },
  {
   "cell_type": "code",
   "execution_count": 45,
   "metadata": {},
   "outputs": [
    {
     "output_type": "execute_result",
     "data": {
      "text/plain": [
       "array([[0.]], dtype=float32)"
      ]
     },
     "metadata": {},
     "execution_count": 45
    }
   ],
   "source": [
    "predict_fert.predict(np.expand_dims(FERTILISER_TEST_FEATURES.loc[238].values, 0))"
   ]
  },
  {
   "cell_type": "code",
   "execution_count": 46,
   "metadata": {},
   "outputs": [
    {
     "output_type": "execute_result",
     "data": {
      "text/plain": [
       "temperature       22.608010\n",
       "humidity          94.589006\n",
       "ph                 6.226290\n",
       "rainfall         116.039659\n",
       "label              0.000000\n",
       "target_output      1.000000\n",
       "Name: 237, dtype: float64"
      ]
     },
     "metadata": {},
     "execution_count": 46
    }
   ],
   "source": [
    "FERTILISER_TEST_FEATURES.loc[237]"
   ]
  },
  {
   "cell_type": "code",
   "execution_count": 47,
   "metadata": {},
   "outputs": [
    {
     "output_type": "execute_result",
     "data": {
      "text/plain": [
       "     output  temperature   humidity        ph    rainfall  label  \\\n",
       "0         8    28.262049  91.983174  6.929216  105.213226      3   \n",
       "1        17    23.391282  61.744272  5.871648  107.319813      2   \n",
       "2         8    21.032001  92.964197  7.684420  110.682394      3   \n",
       "3        28    31.349201  91.482476  7.181908  109.154982      3   \n",
       "4        10    34.052969  92.058117  6.725601  116.802085      3   \n",
       "..      ...          ...        ...       ...         ...    ...   \n",
       "235     142    27.237083  82.945733  6.224543   70.425089      1   \n",
       "236       9    10.356096  93.756520  7.796034  101.145695      3   \n",
       "237     128    22.608010  94.589006  6.226290  116.039659      0   \n",
       "238       5    19.667056  90.500967  7.764040  100.173796      3   \n",
       "239      20    21.701814  60.474705  6.708447   95.713885      2   \n",
       "\n",
       "     target_output  \n",
       "0                0  \n",
       "1                2  \n",
       "2                2  \n",
       "3                1  \n",
       "4                1  \n",
       "..             ...  \n",
       "235              1  \n",
       "236              2  \n",
       "237              1  \n",
       "238              2  \n",
       "239              2  \n",
       "\n",
       "[240 rows x 7 columns]"
      ],
      "text/html": "<div>\n<style scoped>\n    .dataframe tbody tr th:only-of-type {\n        vertical-align: middle;\n    }\n\n    .dataframe tbody tr th {\n        vertical-align: top;\n    }\n\n    .dataframe thead th {\n        text-align: right;\n    }\n</style>\n<table border=\"1\" class=\"dataframe\">\n  <thead>\n    <tr style=\"text-align: right;\">\n      <th></th>\n      <th>output</th>\n      <th>temperature</th>\n      <th>humidity</th>\n      <th>ph</th>\n      <th>rainfall</th>\n      <th>label</th>\n      <th>target_output</th>\n    </tr>\n  </thead>\n  <tbody>\n    <tr>\n      <th>0</th>\n      <td>8</td>\n      <td>28.262049</td>\n      <td>91.983174</td>\n      <td>6.929216</td>\n      <td>105.213226</td>\n      <td>3</td>\n      <td>0</td>\n    </tr>\n    <tr>\n      <th>1</th>\n      <td>17</td>\n      <td>23.391282</td>\n      <td>61.744272</td>\n      <td>5.871648</td>\n      <td>107.319813</td>\n      <td>2</td>\n      <td>2</td>\n    </tr>\n    <tr>\n      <th>2</th>\n      <td>8</td>\n      <td>21.032001</td>\n      <td>92.964197</td>\n      <td>7.684420</td>\n      <td>110.682394</td>\n      <td>3</td>\n      <td>2</td>\n    </tr>\n    <tr>\n      <th>3</th>\n      <td>28</td>\n      <td>31.349201</td>\n      <td>91.482476</td>\n      <td>7.181908</td>\n      <td>109.154982</td>\n      <td>3</td>\n      <td>1</td>\n    </tr>\n    <tr>\n      <th>4</th>\n      <td>10</td>\n      <td>34.052969</td>\n      <td>92.058117</td>\n      <td>6.725601</td>\n      <td>116.802085</td>\n      <td>3</td>\n      <td>1</td>\n    </tr>\n    <tr>\n      <th>...</th>\n      <td>...</td>\n      <td>...</td>\n      <td>...</td>\n      <td>...</td>\n      <td>...</td>\n      <td>...</td>\n      <td>...</td>\n    </tr>\n    <tr>\n      <th>235</th>\n      <td>142</td>\n      <td>27.237083</td>\n      <td>82.945733</td>\n      <td>6.224543</td>\n      <td>70.425089</td>\n      <td>1</td>\n      <td>1</td>\n    </tr>\n    <tr>\n      <th>236</th>\n      <td>9</td>\n      <td>10.356096</td>\n      <td>93.756520</td>\n      <td>7.796034</td>\n      <td>101.145695</td>\n      <td>3</td>\n      <td>2</td>\n    </tr>\n    <tr>\n      <th>237</th>\n      <td>128</td>\n      <td>22.608010</td>\n      <td>94.589006</td>\n      <td>6.226290</td>\n      <td>116.039659</td>\n      <td>0</td>\n      <td>1</td>\n    </tr>\n    <tr>\n      <th>238</th>\n      <td>5</td>\n      <td>19.667056</td>\n      <td>90.500967</td>\n      <td>7.764040</td>\n      <td>100.173796</td>\n      <td>3</td>\n      <td>2</td>\n    </tr>\n    <tr>\n      <th>239</th>\n      <td>20</td>\n      <td>21.701814</td>\n      <td>60.474705</td>\n      <td>6.708447</td>\n      <td>95.713885</td>\n      <td>2</td>\n      <td>2</td>\n    </tr>\n  </tbody>\n</table>\n<p>240 rows × 7 columns</p>\n</div>"
     },
     "metadata": {},
     "execution_count": 47
    }
   ],
   "source": [
    "FERTILISER_TEST"
   ]
  },
  {
   "cell_type": "code",
   "execution_count": 29,
   "metadata": {},
   "outputs": [
    {
     "output_type": "display_data",
     "data": {
      "text/plain": "<Figure size 432x288 with 1 Axes>",
      "image/svg+xml": "<?xml version=\"1.0\" encoding=\"utf-8\" standalone=\"no\"?>\r\n<!DOCTYPE svg PUBLIC \"-//W3C//DTD SVG 1.1//EN\"\r\n  \"http://www.w3.org/Graphics/SVG/1.1/DTD/svg11.dtd\">\r\n<!-- Created with matplotlib (https://matplotlib.org/) -->\r\n<svg height=\"248.518125pt\" version=\"1.1\" viewBox=\"0 0 386.845312 248.518125\" width=\"386.845312pt\" xmlns=\"http://www.w3.org/2000/svg\" xmlns:xlink=\"http://www.w3.org/1999/xlink\">\r\n <metadata>\r\n  <rdf:RDF xmlns:cc=\"http://creativecommons.org/ns#\" xmlns:dc=\"http://purl.org/dc/elements/1.1/\" xmlns:rdf=\"http://www.w3.org/1999/02/22-rdf-syntax-ns#\">\r\n   <cc:Work>\r\n    <dc:type rdf:resource=\"http://purl.org/dc/dcmitype/StillImage\"/>\r\n    <dc:date>2021-05-24T07:02:05.601516</dc:date>\r\n    <dc:format>image/svg+xml</dc:format>\r\n    <dc:creator>\r\n     <cc:Agent>\r\n      <dc:title>Matplotlib v3.3.3, https://matplotlib.org/</dc:title>\r\n     </cc:Agent>\r\n    </dc:creator>\r\n   </cc:Work>\r\n  </rdf:RDF>\r\n </metadata>\r\n <defs>\r\n  <style type=\"text/css\">*{stroke-linecap:butt;stroke-linejoin:round;}</style>\r\n </defs>\r\n <g id=\"figure_1\">\r\n  <g id=\"patch_1\">\r\n   <path d=\"M 0 248.518125 \r\nL 386.845312 248.518125 \r\nL 386.845312 0 \r\nL 0 0 \r\nz\r\n\" style=\"fill:none;\"/>\r\n  </g>\r\n  <g id=\"axes_1\">\r\n   <g id=\"patch_2\">\r\n    <path d=\"M 44.845313 224.64 \r\nL 379.645313 224.64 \r\nL 379.645313 7.2 \r\nL 44.845313 7.2 \r\nz\r\n\" style=\"fill:#ffffff;\"/>\r\n   </g>\r\n   <g id=\"matplotlib.axis_1\">\r\n    <g id=\"xtick_1\">\r\n     <g id=\"line2d_1\">\r\n      <defs>\r\n       <path d=\"M 0 0 \r\nL 0 3.5 \r\n\" id=\"m1423250c89\" style=\"stroke:#000000;stroke-width:0.8;\"/>\r\n      </defs>\r\n      <g>\r\n       <use style=\"stroke:#000000;stroke-width:0.8;\" x=\"90.499858\" xlink:href=\"#m1423250c89\" y=\"224.64\"/>\r\n      </g>\r\n     </g>\r\n     <g id=\"text_1\">\r\n      <!-- −0.04 -->\r\n      <g transform=\"translate(75.177202 239.238437)scale(0.1 -0.1)\">\r\n       <defs>\r\n        <path d=\"M 10.59375 35.5 \r\nL 73.1875 35.5 \r\nL 73.1875 27.203125 \r\nL 10.59375 27.203125 \r\nz\r\n\" id=\"DejaVuSans-8722\"/>\r\n        <path d=\"M 31.78125 66.40625 \r\nQ 24.171875 66.40625 20.328125 58.90625 \r\nQ 16.5 51.421875 16.5 36.375 \r\nQ 16.5 21.390625 20.328125 13.890625 \r\nQ 24.171875 6.390625 31.78125 6.390625 \r\nQ 39.453125 6.390625 43.28125 13.890625 \r\nQ 47.125 21.390625 47.125 36.375 \r\nQ 47.125 51.421875 43.28125 58.90625 \r\nQ 39.453125 66.40625 31.78125 66.40625 \r\nz\r\nM 31.78125 74.21875 \r\nQ 44.046875 74.21875 50.515625 64.515625 \r\nQ 56.984375 54.828125 56.984375 36.375 \r\nQ 56.984375 17.96875 50.515625 8.265625 \r\nQ 44.046875 -1.421875 31.78125 -1.421875 \r\nQ 19.53125 -1.421875 13.0625 8.265625 \r\nQ 6.59375 17.96875 6.59375 36.375 \r\nQ 6.59375 54.828125 13.0625 64.515625 \r\nQ 19.53125 74.21875 31.78125 74.21875 \r\nz\r\n\" id=\"DejaVuSans-48\"/>\r\n        <path d=\"M 10.6875 12.40625 \r\nL 21 12.40625 \r\nL 21 0 \r\nL 10.6875 0 \r\nz\r\n\" id=\"DejaVuSans-46\"/>\r\n        <path d=\"M 37.796875 64.3125 \r\nL 12.890625 25.390625 \r\nL 37.796875 25.390625 \r\nz\r\nM 35.203125 72.90625 \r\nL 47.609375 72.90625 \r\nL 47.609375 25.390625 \r\nL 58.015625 25.390625 \r\nL 58.015625 17.1875 \r\nL 47.609375 17.1875 \r\nL 47.609375 0 \r\nL 37.796875 0 \r\nL 37.796875 17.1875 \r\nL 4.890625 17.1875 \r\nL 4.890625 26.703125 \r\nz\r\n\" id=\"DejaVuSans-52\"/>\r\n       </defs>\r\n       <use xlink:href=\"#DejaVuSans-8722\"/>\r\n       <use x=\"83.789062\" xlink:href=\"#DejaVuSans-48\"/>\r\n       <use x=\"147.412109\" xlink:href=\"#DejaVuSans-46\"/>\r\n       <use x=\"179.199219\" xlink:href=\"#DejaVuSans-48\"/>\r\n       <use x=\"242.822266\" xlink:href=\"#DejaVuSans-52\"/>\r\n      </g>\r\n     </g>\r\n    </g>\r\n    <g id=\"xtick_2\">\r\n     <g id=\"line2d_2\">\r\n      <g>\r\n       <use style=\"stroke:#000000;stroke-width:0.8;\" x=\"151.372585\" xlink:href=\"#m1423250c89\" y=\"224.64\"/>\r\n      </g>\r\n     </g>\r\n     <g id=\"text_2\">\r\n      <!-- −0.02 -->\r\n      <g transform=\"translate(136.049929 239.238437)scale(0.1 -0.1)\">\r\n       <defs>\r\n        <path d=\"M 19.1875 8.296875 \r\nL 53.609375 8.296875 \r\nL 53.609375 0 \r\nL 7.328125 0 \r\nL 7.328125 8.296875 \r\nQ 12.9375 14.109375 22.625 23.890625 \r\nQ 32.328125 33.6875 34.8125 36.53125 \r\nQ 39.546875 41.84375 41.421875 45.53125 \r\nQ 43.3125 49.21875 43.3125 52.78125 \r\nQ 43.3125 58.59375 39.234375 62.25 \r\nQ 35.15625 65.921875 28.609375 65.921875 \r\nQ 23.96875 65.921875 18.8125 64.3125 \r\nQ 13.671875 62.703125 7.8125 59.421875 \r\nL 7.8125 69.390625 \r\nQ 13.765625 71.78125 18.9375 73 \r\nQ 24.125 74.21875 28.421875 74.21875 \r\nQ 39.75 74.21875 46.484375 68.546875 \r\nQ 53.21875 62.890625 53.21875 53.421875 \r\nQ 53.21875 48.921875 51.53125 44.890625 \r\nQ 49.859375 40.875 45.40625 35.40625 \r\nQ 44.1875 33.984375 37.640625 27.21875 \r\nQ 31.109375 20.453125 19.1875 8.296875 \r\nz\r\n\" id=\"DejaVuSans-50\"/>\r\n       </defs>\r\n       <use xlink:href=\"#DejaVuSans-8722\"/>\r\n       <use x=\"83.789062\" xlink:href=\"#DejaVuSans-48\"/>\r\n       <use x=\"147.412109\" xlink:href=\"#DejaVuSans-46\"/>\r\n       <use x=\"179.199219\" xlink:href=\"#DejaVuSans-48\"/>\r\n       <use x=\"242.822266\" xlink:href=\"#DejaVuSans-50\"/>\r\n      </g>\r\n     </g>\r\n    </g>\r\n    <g id=\"xtick_3\">\r\n     <g id=\"line2d_3\">\r\n      <g>\r\n       <use style=\"stroke:#000000;stroke-width:0.8;\" x=\"212.245313\" xlink:href=\"#m1423250c89\" y=\"224.64\"/>\r\n      </g>\r\n     </g>\r\n     <g id=\"text_3\">\r\n      <!-- 0.00 -->\r\n      <g transform=\"translate(201.1125 239.238437)scale(0.1 -0.1)\">\r\n       <use xlink:href=\"#DejaVuSans-48\"/>\r\n       <use x=\"63.623047\" xlink:href=\"#DejaVuSans-46\"/>\r\n       <use x=\"95.410156\" xlink:href=\"#DejaVuSans-48\"/>\r\n       <use x=\"159.033203\" xlink:href=\"#DejaVuSans-48\"/>\r\n      </g>\r\n     </g>\r\n    </g>\r\n    <g id=\"xtick_4\">\r\n     <g id=\"line2d_4\">\r\n      <g>\r\n       <use style=\"stroke:#000000;stroke-width:0.8;\" x=\"273.11804\" xlink:href=\"#m1423250c89\" y=\"224.64\"/>\r\n      </g>\r\n     </g>\r\n     <g id=\"text_4\">\r\n      <!-- 0.02 -->\r\n      <g transform=\"translate(261.985227 239.238437)scale(0.1 -0.1)\">\r\n       <use xlink:href=\"#DejaVuSans-48\"/>\r\n       <use x=\"63.623047\" xlink:href=\"#DejaVuSans-46\"/>\r\n       <use x=\"95.410156\" xlink:href=\"#DejaVuSans-48\"/>\r\n       <use x=\"159.033203\" xlink:href=\"#DejaVuSans-50\"/>\r\n      </g>\r\n     </g>\r\n    </g>\r\n    <g id=\"xtick_5\">\r\n     <g id=\"line2d_5\">\r\n      <g>\r\n       <use style=\"stroke:#000000;stroke-width:0.8;\" x=\"333.990767\" xlink:href=\"#m1423250c89\" y=\"224.64\"/>\r\n      </g>\r\n     </g>\r\n     <g id=\"text_5\">\r\n      <!-- 0.04 -->\r\n      <g transform=\"translate(322.857955 239.238437)scale(0.1 -0.1)\">\r\n       <use xlink:href=\"#DejaVuSans-48\"/>\r\n       <use x=\"63.623047\" xlink:href=\"#DejaVuSans-46\"/>\r\n       <use x=\"95.410156\" xlink:href=\"#DejaVuSans-48\"/>\r\n       <use x=\"159.033203\" xlink:href=\"#DejaVuSans-52\"/>\r\n      </g>\r\n     </g>\r\n    </g>\r\n   </g>\r\n   <g id=\"matplotlib.axis_2\">\r\n    <g id=\"ytick_1\">\r\n     <g id=\"line2d_6\">\r\n      <defs>\r\n       <path d=\"M 0 0 \r\nL -3.5 0 \r\n\" id=\"mdd6759a7ad\" style=\"stroke:#000000;stroke-width:0.8;\"/>\r\n      </defs>\r\n      <g>\r\n       <use style=\"stroke:#000000;stroke-width:0.8;\" x=\"44.845313\" xlink:href=\"#mdd6759a7ad\" y=\"194.989091\"/>\r\n      </g>\r\n     </g>\r\n     <g id=\"text_6\">\r\n      <!-- −0.04 -->\r\n      <g transform=\"translate(7.2 198.78831)scale(0.1 -0.1)\">\r\n       <use xlink:href=\"#DejaVuSans-8722\"/>\r\n       <use x=\"83.789062\" xlink:href=\"#DejaVuSans-48\"/>\r\n       <use x=\"147.412109\" xlink:href=\"#DejaVuSans-46\"/>\r\n       <use x=\"179.199219\" xlink:href=\"#DejaVuSans-48\"/>\r\n       <use x=\"242.822266\" xlink:href=\"#DejaVuSans-52\"/>\r\n      </g>\r\n     </g>\r\n    </g>\r\n    <g id=\"ytick_2\">\r\n     <g id=\"line2d_7\">\r\n      <g>\r\n       <use style=\"stroke:#000000;stroke-width:0.8;\" x=\"44.845313\" xlink:href=\"#mdd6759a7ad\" y=\"155.454545\"/>\r\n      </g>\r\n     </g>\r\n     <g id=\"text_7\">\r\n      <!-- −0.02 -->\r\n      <g transform=\"translate(7.2 159.253764)scale(0.1 -0.1)\">\r\n       <use xlink:href=\"#DejaVuSans-8722\"/>\r\n       <use x=\"83.789062\" xlink:href=\"#DejaVuSans-48\"/>\r\n       <use x=\"147.412109\" xlink:href=\"#DejaVuSans-46\"/>\r\n       <use x=\"179.199219\" xlink:href=\"#DejaVuSans-48\"/>\r\n       <use x=\"242.822266\" xlink:href=\"#DejaVuSans-50\"/>\r\n      </g>\r\n     </g>\r\n    </g>\r\n    <g id=\"ytick_3\">\r\n     <g id=\"line2d_8\">\r\n      <g>\r\n       <use style=\"stroke:#000000;stroke-width:0.8;\" x=\"44.845313\" xlink:href=\"#mdd6759a7ad\" y=\"115.92\"/>\r\n      </g>\r\n     </g>\r\n     <g id=\"text_8\">\r\n      <!-- 0.00 -->\r\n      <g transform=\"translate(15.579688 119.719219)scale(0.1 -0.1)\">\r\n       <use xlink:href=\"#DejaVuSans-48\"/>\r\n       <use x=\"63.623047\" xlink:href=\"#DejaVuSans-46\"/>\r\n       <use x=\"95.410156\" xlink:href=\"#DejaVuSans-48\"/>\r\n       <use x=\"159.033203\" xlink:href=\"#DejaVuSans-48\"/>\r\n      </g>\r\n     </g>\r\n    </g>\r\n    <g id=\"ytick_4\">\r\n     <g id=\"line2d_9\">\r\n      <g>\r\n       <use style=\"stroke:#000000;stroke-width:0.8;\" x=\"44.845313\" xlink:href=\"#mdd6759a7ad\" y=\"76.385455\"/>\r\n      </g>\r\n     </g>\r\n     <g id=\"text_9\">\r\n      <!-- 0.02 -->\r\n      <g transform=\"translate(15.579688 80.184673)scale(0.1 -0.1)\">\r\n       <use xlink:href=\"#DejaVuSans-48\"/>\r\n       <use x=\"63.623047\" xlink:href=\"#DejaVuSans-46\"/>\r\n       <use x=\"95.410156\" xlink:href=\"#DejaVuSans-48\"/>\r\n       <use x=\"159.033203\" xlink:href=\"#DejaVuSans-50\"/>\r\n      </g>\r\n     </g>\r\n    </g>\r\n    <g id=\"ytick_5\">\r\n     <g id=\"line2d_10\">\r\n      <g>\r\n       <use style=\"stroke:#000000;stroke-width:0.8;\" x=\"44.845313\" xlink:href=\"#mdd6759a7ad\" y=\"36.850909\"/>\r\n      </g>\r\n     </g>\r\n     <g id=\"text_10\">\r\n      <!-- 0.04 -->\r\n      <g transform=\"translate(15.579688 40.650128)scale(0.1 -0.1)\">\r\n       <use xlink:href=\"#DejaVuSans-48\"/>\r\n       <use x=\"63.623047\" xlink:href=\"#DejaVuSans-46\"/>\r\n       <use x=\"95.410156\" xlink:href=\"#DejaVuSans-48\"/>\r\n       <use x=\"159.033203\" xlink:href=\"#DejaVuSans-52\"/>\r\n      </g>\r\n     </g>\r\n    </g>\r\n   </g>\r\n   <g id=\"line2d_11\">\r\n    <path clip-path=\"url(#p1f88d44ff9)\" d=\"M 0 0 \r\n\" style=\"fill:none;stroke:#1f77b4;stroke-linecap:square;stroke-width:1.5;\"/>\r\n   </g>\r\n   <g id=\"patch_3\">\r\n    <path d=\"M 44.845313 224.64 \r\nL 44.845313 7.2 \r\n\" style=\"fill:none;stroke:#000000;stroke-linecap:square;stroke-linejoin:miter;stroke-width:0.8;\"/>\r\n   </g>\r\n   <g id=\"patch_4\">\r\n    <path d=\"M 379.645313 224.64 \r\nL 379.645313 7.2 \r\n\" style=\"fill:none;stroke:#000000;stroke-linecap:square;stroke-linejoin:miter;stroke-width:0.8;\"/>\r\n   </g>\r\n   <g id=\"patch_5\">\r\n    <path d=\"M 44.845313 224.64 \r\nL 379.645313 224.64 \r\n\" style=\"fill:none;stroke:#000000;stroke-linecap:square;stroke-linejoin:miter;stroke-width:0.8;\"/>\r\n   </g>\r\n   <g id=\"patch_6\">\r\n    <path d=\"M 44.845313 7.2 \r\nL 379.645313 7.2 \r\n\" style=\"fill:none;stroke:#000000;stroke-linecap:square;stroke-linejoin:miter;stroke-width:0.8;\"/>\r\n   </g>\r\n  </g>\r\n </g>\r\n <defs>\r\n  <clipPath id=\"p1f88d44ff9\">\r\n   <rect height=\"217.44\" width=\"334.8\" x=\"44.845313\" y=\"7.2\"/>\r\n  </clipPath>\r\n </defs>\r\n</svg>\r\n",
      "image/png": "[encoded data removed]"
     },
     "metadata": {
      "needs_background": "light"
     }
    }
   ],
   "source": [
    "from matplotlib import pyplot as plt\n",
    "\n",
    "plt.plot(range(len(hist.history['loss'])), hist.history['loss'])\n",
    "plt.show()"
   ]
  },
  {
   "cell_type": "code",
   "execution_count": 28,
   "metadata": {},
   "outputs": [
    {
     "output_type": "execute_result",
     "data": {
      "text/plain": [
       "{'loss': [0.18927262723445892,\n",
       "  0.18918836116790771,\n",
       "  0.18909336626529694,\n",
       "  0.18898619711399078,\n",
       "  0.18886560201644897,\n",
       "  0.1887301355600357,\n",
       "  0.18857775628566742,\n",
       "  0.18840639293193817,\n",
       "  0.18821386992931366,\n",
       "  0.18799704313278198,\n",
       "  0.18775340914726257,\n",
       "  0.1874794214963913,\n",
       "  0.18717160820960999,\n",
       "  0.18682576715946198,\n",
       "  0.18643787503242493,\n",
       "  0.186003178358078,\n",
       "  0.18551622331142426,\n",
       "  0.18497122824192047,\n",
       "  0.18436217308044434,\n",
       "  0.18368224799633026,\n",
       "  0.18292470276355743,\n",
       "  0.18208079040050507,\n",
       "  0.18114130198955536,\n",
       "  0.18009795248508453,\n",
       "  0.17894195020198822,\n",
       "  0.177662193775177,\n",
       "  0.1762455701828003,\n",
       "  0.17468033730983734,\n",
       "  0.17295479774475098,\n",
       "  0.17105832695960999,\n",
       "  0.1689797341823578,\n",
       "  0.16670994460582733,\n",
       "  0.16423088312149048,\n",
       "  0.16153258085250854,\n",
       "  0.15860743820667267,\n",
       "  0.15545153617858887,\n",
       "  0.1520637571811676,\n",
       "  0.14844059944152832,\n",
       "  0.14458300173282623,\n",
       "  0.1405075639486313,\n",
       "  0.13623777031898499,\n",
       "  0.13180546462535858,\n",
       "  0.12724371254444122,\n",
       "  0.12257826328277588,\n",
       "  0.11786773055791855,\n",
       "  0.11318792402744293,\n",
       "  0.10860826820135117,\n",
       "  0.10419830679893494,\n",
       "  0.10002383589744568,\n",
       "  0.09614402800798416,\n",
       "  0.09261780977249146,\n",
       "  0.08953307569026947,\n",
       "  0.08693044632673264,\n",
       "  0.08481151610612869,\n",
       "  0.08314701169729233,\n",
       "  0.08190115541219711,\n",
       "  0.08101701736450195,\n",
       "  0.08042928576469421,\n",
       "  0.0800669938325882,\n",
       "  0.07986520230770111,\n",
       "  0.07976658642292023,\n",
       "  0.07972743362188339,\n",
       "  0.07972027361392975,\n",
       "  0.07972441613674164,\n",
       "  0.0797334760427475,\n",
       "  0.07974264770746231,\n",
       "  0.07974767684936523,\n",
       "  0.07975400239229202,\n",
       "  0.07975555956363678,\n",
       "  0.07974940538406372,\n",
       "  0.07973189651966095,\n",
       "  0.07970405369997025,\n",
       "  0.07964272797107697,\n",
       "  0.07957153022289276,\n",
       "  0.07945507019758224,\n",
       "  0.07927824556827545,\n",
       "  0.07903861999511719,\n",
       "  0.07871738821268082,\n",
       "  0.07830266654491425,\n",
       "  0.07778838276863098,\n",
       "  0.07713685184717178,\n",
       "  0.0763562023639679,\n",
       "  0.07540357112884521,\n",
       "  0.07428636401891708,\n",
       "  0.0730387270450592,\n",
       "  0.07163000851869583,\n",
       "  0.07006077468395233,\n",
       "  0.06835085898637772,\n",
       "  0.0665503442287445,\n",
       "  0.0647212341427803,\n",
       "  0.06259388476610184,\n",
       "  0.060343071818351746,\n",
       "  0.05807754769921303,\n",
       "  0.055788762867450714,\n",
       "  0.054075226187705994,\n",
       "  0.05185522139072418,\n",
       "  0.049819525331258774,\n",
       "  0.047941770404577255,\n",
       "  0.046583183109760284,\n",
       "  0.04479045420885086],\n",
       " 'acc': [0.00832466222345829,\n",
       "  0.00832466222345829,\n",
       "  0.00832466222345829,\n",
       "  0.00832466222345829,\n",
       "  0.00832466222345829,\n",
       "  0.00832466222345829,\n",
       "  0.00832466222345829,\n",
       "  0.00832466222345829,\n",
       "  0.00832466222345829,\n",
       "  0.00832466222345829,\n",
       "  0.00832466222345829,\n",
       "  0.00832466222345829,\n",
       "  0.00832466222345829,\n",
       "  0.00832466222345829,\n",
       "  0.00832466222345829,\n",
       "  0.00832466222345829,\n",
       "  0.00832466222345829,\n",
       "  0.00832466222345829,\n",
       "  0.00832466222345829,\n",
       "  0.00832466222345829,\n",
       "  0.00832466222345829,\n",
       "  0.00832466222345829,\n",
       "  0.00832466222345829,\n",
       "  0.00832466222345829,\n",
       "  0.00832466222345829,\n",
       "  0.00832466222345829,\n",
       "  0.00832466222345829,\n",
       "  0.00832466222345829,\n",
       "  0.00832466222345829,\n",
       "  0.00832466222345829,\n",
       "  0.00832466222345829,\n",
       "  0.00832466222345829,\n",
       "  0.00832466222345829,\n",
       "  0.00832466222345829,\n",
       "  0.00832466222345829,\n",
       "  0.00832466222345829,\n",
       "  0.00832466222345829,\n",
       "  0.00832466222345829,\n",
       "  0.00832466222345829,\n",
       "  0.00832466222345829,\n",
       "  0.00832466222345829,\n",
       "  0.00832466222345829,\n",
       "  0.00832466222345829,\n",
       "  0.00832466222345829,\n",
       "  0.00832466222345829,\n",
       "  0.00832466222345829,\n",
       "  0.00832466222345829,\n",
       "  0.00832466222345829,\n",
       "  0.00832466222345829,\n",
       "  0.00832466222345829,\n",
       "  0.00832466222345829,\n",
       "  0.00832466222345829,\n",
       "  0.00832466222345829,\n",
       "  0.00832466222345829,\n",
       "  0.00832466222345829,\n",
       "  0.00832466222345829,\n",
       "  0.00832466222345829,\n",
       "  0.00832466222345829,\n",
       "  0.00832466222345829,\n",
       "  0.00832466222345829,\n",
       "  0.00832466222345829,\n",
       "  0.00832466222345829,\n",
       "  0.00832466222345829,\n",
       "  0.00832466222345829,\n",
       "  0.00832466222345829,\n",
       "  0.00832466222345829,\n",
       "  0.00832466222345829,\n",
       "  0.00832466222345829,\n",
       "  0.00832466222345829,\n",
       "  0.00832466222345829,\n",
       "  0.00832466222345829,\n",
       "  0.00832466222345829,\n",
       "  0.00832466222345829,\n",
       "  0.00832466222345829,\n",
       "  0.00832466222345829,\n",
       "  0.00832466222345829,\n",
       "  0.00832466222345829,\n",
       "  0.00832466222345829,\n",
       "  0.00832466222345829,\n",
       "  0.00832466222345829,\n",
       "  0.00832466222345829,\n",
       "  0.00832466222345829,\n",
       "  0.00832466222345829,\n",
       "  0.00832466222345829,\n",
       "  0.00832466222345829,\n",
       "  0.00832466222345829,\n",
       "  0.00832466222345829,\n",
       "  0.00832466222345829,\n",
       "  0.00832466222345829,\n",
       "  0.00832466222345829,\n",
       "  0.00832466222345829,\n",
       "  0.00832466222345829,\n",
       "  0.00832466222345829,\n",
       "  0.00832466222345829,\n",
       "  0.00832466222345829,\n",
       "  0.00832466222345829,\n",
       "  0.00832466222345829,\n",
       "  0.00832466222345829,\n",
       "  0.00832466222345829,\n",
       "  0.00832466222345829],\n",
       " 'val_loss': [0.5808660984039307,\n",
       "  0.5807026028633118,\n",
       "  0.580517590045929,\n",
       "  0.5803095102310181,\n",
       "  0.5800751447677612,\n",
       "  0.5798114538192749,\n",
       "  0.5795153379440308,\n",
       "  0.5791820883750916,\n",
       "  0.5788068771362305,\n",
       "  0.578385055065155,\n",
       "  0.5779102444648743,\n",
       "  0.577376663684845,\n",
       "  0.5767771005630493,\n",
       "  0.5761021375656128,\n",
       "  0.5753458738327026,\n",
       "  0.5744980573654175,\n",
       "  0.5735474228858948,\n",
       "  0.5724826455116272,\n",
       "  0.5712909698486328,\n",
       "  0.5699607729911804,\n",
       "  0.5684757828712463,\n",
       "  0.5668184161186218,\n",
       "  0.5649716854095459,\n",
       "  0.5629187226295471,\n",
       "  0.5606400370597839,\n",
       "  0.558108925819397,\n",
       "  0.5552998781204224,\n",
       "  0.5521862506866455,\n",
       "  0.5487433075904846,\n",
       "  0.5449454188346863,\n",
       "  0.5407708287239075,\n",
       "  0.5361810326576233,\n",
       "  0.5311410427093506,\n",
       "  0.525620698928833,\n",
       "  0.5195949673652649,\n",
       "  0.5130444765090942,\n",
       "  0.5059440732002258,\n",
       "  0.49826452136039734,\n",
       "  0.4899963140487671,\n",
       "  0.4811461567878723,\n",
       "  0.47173452377319336,\n",
       "  0.4617893397808075,\n",
       "  0.4513148367404938,\n",
       "  0.4403265118598938,\n",
       "  0.428944855928421,\n",
       "  0.417275995016098,\n",
       "  0.4054311513900757,\n",
       "  0.3935203552246094,\n",
       "  0.3816662132740021,\n",
       "  0.36990371346473694,\n",
       "  0.358467161655426,\n",
       "  0.3476335108280182,\n",
       "  0.33754417300224304,\n",
       "  0.32828110456466675,\n",
       "  0.3199155926704407,\n",
       "  0.3125007748603821,\n",
       "  0.3060377538204193,\n",
       "  0.30055907368659973,\n",
       "  0.2960032820701599,\n",
       "  0.29228445887565613,\n",
       "  0.2892822325229645,\n",
       "  0.28686630725860596,\n",
       "  0.28490355610847473,\n",
       "  0.2832516133785248,\n",
       "  0.28179511427879333,\n",
       "  0.28044092655181885,\n",
       "  0.27908557653427124,\n",
       "  0.277688592672348,\n",
       "  0.27620643377304077,\n",
       "  0.274615615606308,\n",
       "  0.27287721633911133,\n",
       "  0.2710157036781311,\n",
       "  0.2689569294452667,\n",
       "  0.2668412923812866,\n",
       "  0.2646518349647522,\n",
       "  0.2623024880886078,\n",
       "  0.25985410809516907,\n",
       "  0.25719544291496277,\n",
       "  0.25434714555740356,\n",
       "  0.2514134645462036,\n",
       "  0.24833723902702332,\n",
       "  0.24526914954185486,\n",
       "  0.24200405180454254,\n",
       "  0.23876170814037323,\n",
       "  0.23528791964054108,\n",
       "  0.23173126578330994,\n",
       "  0.22779610753059387,\n",
       "  0.2238101363182068,\n",
       "  0.22024591267108917,\n",
       "  0.2168237268924713,\n",
       "  0.2135871797800064,\n",
       "  0.2111876904964447,\n",
       "  0.21004809439182281,\n",
       "  0.21059550344944,\n",
       "  0.21212543547153473,\n",
       "  0.21571244299411774,\n",
       "  0.22073091566562653,\n",
       "  0.22759218513965607,\n",
       "  0.23395930230617523,\n",
       "  0.2427425980567932],\n",
       " 'val_acc': [0.0,\n",
       "  0.0,\n",
       "  0.0,\n",
       "  0.0,\n",
       "  0.0,\n",
       "  0.0,\n",
       "  0.0,\n",
       "  0.0,\n",
       "  0.0,\n",
       "  0.0,\n",
       "  0.0,\n",
       "  0.0,\n",
       "  0.0,\n",
       "  0.0,\n",
       "  0.0,\n",
       "  0.0,\n",
       "  0.0,\n",
       "  0.0,\n",
       "  0.0,\n",
       "  0.0,\n",
       "  0.0,\n",
       "  0.0,\n",
       "  0.0,\n",
       "  0.0,\n",
       "  0.0,\n",
       "  0.0,\n",
       "  0.0,\n",
       "  0.0,\n",
       "  0.0,\n",
       "  0.0,\n",
       "  0.0,\n",
       "  0.0,\n",
       "  0.0,\n",
       "  0.0,\n",
       "  0.0,\n",
       "  0.0,\n",
       "  0.0,\n",
       "  0.0,\n",
       "  0.0,\n",
       "  0.0,\n",
       "  0.0,\n",
       "  0.0,\n",
       "  0.0,\n",
       "  0.0,\n",
       "  0.0,\n",
       "  0.0,\n",
       "  0.0,\n",
       "  0.0,\n",
       "  0.0,\n",
       "  0.0,\n",
       "  0.0,\n",
       "  0.0,\n",
       "  0.0,\n",
       "  0.0,\n",
       "  0.0,\n",
       "  0.0,\n",
       "  0.0,\n",
       "  0.0,\n",
       "  0.0,\n",
       "  0.0,\n",
       "  0.0,\n",
       "  0.0,\n",
       "  0.0,\n",
       "  0.0,\n",
       "  0.0,\n",
       "  0.0,\n",
       "  0.0,\n",
       "  0.0,\n",
       "  0.0,\n",
       "  0.0,\n",
       "  0.0,\n",
       "  0.0,\n",
       "  0.0,\n",
       "  0.0,\n",
       "  0.0,\n",
       "  0.0,\n",
       "  0.0,\n",
       "  0.0,\n",
       "  0.0,\n",
       "  0.0,\n",
       "  0.0,\n",
       "  0.0,\n",
       "  0.0,\n",
       "  0.0,\n",
       "  0.0,\n",
       "  0.0,\n",
       "  0.0,\n",
       "  0.0,\n",
       "  0.015909090638160706,\n",
       "  0.03181818127632141,\n",
       "  0.05833333358168602,\n",
       "  0.05833333358168602,\n",
       "  0.05833333358168602,\n",
       "  0.05833333358168602,\n",
       "  0.05833333358168602,\n",
       "  0.05833333358168602,\n",
       "  0.05833333358168602,\n",
       "  0.05833333358168602,\n",
       "  0.05833333358168602,\n",
       "  0.05833333358168602],\n",
       " 'lr': [1e-08,\n",
       "  1.1220185e-08,\n",
       "  1.2589254e-08,\n",
       "  1.41253755e-08,\n",
       "  1.5848931e-08,\n",
       "  1.7782794e-08,\n",
       "  1.9952623e-08,\n",
       "  2.2387212e-08,\n",
       "  2.5118863e-08,\n",
       "  2.8183829e-08,\n",
       "  3.1622776e-08,\n",
       "  3.548134e-08,\n",
       "  3.981072e-08,\n",
       "  4.4668358e-08,\n",
       "  5.011872e-08,\n",
       "  5.6234132e-08,\n",
       "  6.309573e-08,\n",
       "  7.079458e-08,\n",
       "  7.943282e-08,\n",
       "  8.9125095e-08,\n",
       "  1e-07,\n",
       "  1.12201846e-07,\n",
       "  1.2589254e-07,\n",
       "  1.4125375e-07,\n",
       "  1.5848931e-07,\n",
       "  1.7782794e-07,\n",
       "  1.9952623e-07,\n",
       "  2.2387212e-07,\n",
       "  2.5118865e-07,\n",
       "  2.8183828e-07,\n",
       "  3.1622776e-07,\n",
       "  3.5481338e-07,\n",
       "  3.9810718e-07,\n",
       "  4.466836e-07,\n",
       "  5.0118723e-07,\n",
       "  5.623413e-07,\n",
       "  6.3095735e-07,\n",
       "  7.079458e-07,\n",
       "  7.9432823e-07,\n",
       "  8.912509e-07,\n",
       "  1e-06,\n",
       "  1.1220185e-06,\n",
       "  1.2589254e-06,\n",
       "  1.4125376e-06,\n",
       "  1.5848932e-06,\n",
       "  1.7782794e-06,\n",
       "  1.9952622e-06,\n",
       "  2.2387212e-06,\n",
       "  2.5118864e-06,\n",
       "  2.8183829e-06,\n",
       "  3.1622776e-06,\n",
       "  3.548134e-06,\n",
       "  3.9810716e-06,\n",
       "  4.466836e-06,\n",
       "  5.0118724e-06,\n",
       "  5.6234135e-06,\n",
       "  6.3095736e-06,\n",
       "  7.0794576e-06,\n",
       "  7.943282e-06,\n",
       "  8.91251e-06,\n",
       "  1e-05,\n",
       "  1.1220184e-05,\n",
       "  1.2589254e-05,\n",
       "  1.4125376e-05,\n",
       "  1.5848931e-05,\n",
       "  1.7782793e-05,\n",
       "  1.9952624e-05,\n",
       "  2.2387212e-05,\n",
       "  2.5118865e-05,\n",
       "  2.818383e-05,\n",
       "  3.1622778e-05,\n",
       "  3.548134e-05,\n",
       "  3.981072e-05,\n",
       "  4.466836e-05,\n",
       "  5.0118724e-05,\n",
       "  5.6234134e-05,\n",
       "  6.309574e-05,\n",
       "  7.079458e-05,\n",
       "  7.943282e-05,\n",
       "  8.91251e-05,\n",
       "  1e-04,\n",
       "  0.000112201844,\n",
       "  0.00012589255,\n",
       "  0.00014125375,\n",
       "  0.00015848932,\n",
       "  0.00017782794,\n",
       "  0.00019952623,\n",
       "  0.00022387212,\n",
       "  0.00025118864,\n",
       "  0.0002818383,\n",
       "  0.00031622776,\n",
       "  0.00035481338,\n",
       "  0.00039810716,\n",
       "  0.00044668358,\n",
       "  0.0005011872,\n",
       "  0.0005623413,\n",
       "  0.00063095737,\n",
       "  0.0007079458,\n",
       "  0.0007943282,\n",
       "  0.00089125097]}"
      ]
     },
     "metadata": {},
     "execution_count": 28
    }
   ],
   "source": [
    "hist.history"
   ]
  },
  {
   "cell_type": "code",
   "execution_count": null,
   "metadata": {},
   "outputs": [],
   "source": []
  }
 ]
}