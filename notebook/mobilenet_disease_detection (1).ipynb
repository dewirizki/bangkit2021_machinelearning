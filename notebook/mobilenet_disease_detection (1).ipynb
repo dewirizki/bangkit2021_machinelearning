{
 "cells": [
  {
   "cell_type": "code",
   "execution_count": 1,
   "metadata": {
    "colab": {
     "base_uri": "https://localhost:8080/"
    },
    "id": "vr_04AjIpxHE",
    "outputId": "12739a87-c105-4c94-9f1a-6b6f6985f73c"
   },
   "outputs": [],
   "source": [
    "# # mounting google drive\n",
    "# from google.colab import drive\n",
    "# drive.mount('/content/drive')"
   ]
  },
  {
   "cell_type": "code",
   "execution_count": 2,
   "metadata": {
    "id": "Jx_xmjitpput"
   },
   "outputs": [],
   "source": [
    "# define and move to dataset directory\n",
    "datasetdir = '../dataset/Plant_leaf_diseases_dataset_with_augmentation'\n",
    "import os\n",
    "os.chdir(datasetdir)"
   ]
  },
  {
   "cell_type": "code",
   "execution_count": 3,
   "metadata": {
    "id": "0V3kn6Rfpe6R"
   },
   "outputs": [
    {
     "output_type": "stream",
     "name": "stdout",
     "text": [
      "INFO:tensorflow:Enabling eager execution\n",
      "INFO:tensorflow:Enabling v2 tensorshape\n",
      "INFO:tensorflow:Enabling resource variables\n",
      "INFO:tensorflow:Enabling tensor equality\n",
      "INFO:tensorflow:Enabling control flow v2\n"
     ]
    }
   ],
   "source": [
    "# import the needed packages\n",
    "import matplotlib.pyplot as plt\n",
    "import matplotlib.image as img\n",
    "import numpy as np\n",
    "import tensorflow as tf\n",
    "from tensorflow import keras"
   ]
  },
  {
   "cell_type": "code",
   "execution_count": 4,
   "metadata": {
    "colab": {
     "base_uri": "https://localhost:8080/"
    },
    "id": "NEL6YmiEpe6U",
    "outputId": "52d58a73-1166-456e-adc0-fea1352bb832",
    "scrolled": true
   },
   "outputs": [
    {
     "output_type": "stream",
     "name": "stdout",
     "text": [
      "Num GPU Available:  1\n"
     ]
    }
   ],
   "source": [
    "print('Num GPU Available: ', len(tf.config.experimental.list_physical_devices('GPU')))"
   ]
  },
  {
   "cell_type": "code",
   "execution_count": 5,
   "metadata": {
    "id": "8Z3LMevcpe6V"
   },
   "outputs": [],
   "source": [
    "from tensorflow.keras.preprocessing.image import ImageDataGenerator\n",
    "\n",
    "batch_size = 5\n",
    "\n",
    "def generators(shape): \n",
    "    '''Create the training and validation datasets for \n",
    "    a given image shape.\n",
    "    '''\n",
    "    imgdatagen = ImageDataGenerator(\n",
    "        # preprocessing_function = preprocessing,\n",
    "        horizontal_flip = True, \n",
    "        validation_split = 0.1)\n",
    "\n",
    "    height, width = shape\n",
    "\n",
    "    train_dataset = imgdatagen.flow_from_directory(\n",
    "        os.getcwd(),\n",
    "        target_size = (height, width),\n",
    "        batch_size = batch_size,\n",
    "        subset = 'training')\n",
    "\n",
    "    val_dataset = imgdatagen.flow_from_directory(\n",
    "        os.getcwd(),\n",
    "        target_size = (height, width),\n",
    "        batch_size = batch_size,\n",
    "        subset = 'validation')\n",
    "    \n",
    "    return train_dataset, val_dataset"
   ]
  },
  {
   "cell_type": "code",
   "execution_count": 6,
   "metadata": {
    "id": "ELPhWgkype6W"
   },
   "outputs": [],
   "source": [
    "def plot_history(history, yrange):\n",
    "    '''Plot loss and accuracy as a function of the epoch,\n",
    "    for the training and validation datasets.\n",
    "    '''\n",
    "    acc = history.history['acc']\n",
    "    val_acc = history.history['val_acc']\n",
    "    loss = history.history['loss']\n",
    "    val_loss = history.history['val_loss']\n",
    "\n",
    "    # Get number of epochs\n",
    "    epochs = range(len(acc))\n",
    "\n",
    "    # Plot training and validation accuracy per epoch\n",
    "    plt.plot(epochs, acc)\n",
    "    plt.plot(epochs, val_acc)\n",
    "    plt.title('Training and validation accuracy')\n",
    "    plt.ylim(yrange)\n",
    "    \n",
    "    # Plot training and validation loss per epoch\n",
    "    plt.figure()\n",
    "\n",
    "    plt.plot(epochs, loss)\n",
    "    plt.plot(epochs, val_loss)\n",
    "    plt.title('Training and validation loss')\n",
    "    \n",
    "    plt.show()"
   ]
  },
  {
   "cell_type": "code",
   "execution_count": 7,
   "metadata": {
    "id": "cPwrvLZepe6X"
   },
   "outputs": [],
   "source": [
    "# Define a Callback class that stops training once accuracy reaches 97.0%\n",
    "class myCallback(tf.keras.callbacks.Callback):\n",
    "    def on_epoch_end(self, epoch, logs={}):\n",
    "        if(logs.get('val_acc')>0.9704):\n",
    "            print(\"\\nReached 97.04% accuracy so cancelling training!\")\n",
    "            self.model.stop_training = True"
   ]
  },
  {
   "cell_type": "markdown",
   "metadata": {
    "id": "dhLAd1b8pe6X"
   },
   "source": [
    "__VGG19__"
   ]
  },
  {
   "cell_type": "code",
   "execution_count": 8,
   "metadata": {
    "colab": {
     "base_uri": "https://localhost:8080/"
    },
    "id": "vqvSe7FMpe6X",
    "outputId": "edd21c31-f810-4d19-ae18-fedf96692271"
   },
   "outputs": [
    {
     "output_type": "stream",
     "name": "stdout",
     "text": [
      "Model: \"model\"\n_________________________________________________________________\nLayer (type)                 Output Shape              Param #   \n=================================================================\ninput_1 (InputLayer)         [(None, 224, 224, 3)]     0         \n_________________________________________________________________\nblock1_conv1 (Conv2D)        (None, 224, 224, 64)      1792      \n_________________________________________________________________\nblock1_conv2 (Conv2D)        (None, 224, 224, 64)      36928     \n_________________________________________________________________\nblock1_pool (MaxPooling2D)   (None, 112, 112, 64)      0         \n_________________________________________________________________\nblock2_conv1 (Conv2D)        (None, 112, 112, 128)     73856     \n_________________________________________________________________\nblock2_conv2 (Conv2D)        (None, 112, 112, 128)     147584    \n_________________________________________________________________\nblock2_pool (MaxPooling2D)   (None, 56, 56, 128)       0         \n_________________________________________________________________\nblock3_conv1 (Conv2D)        (None, 56, 56, 256)       295168    \n_________________________________________________________________\nblock3_conv2 (Conv2D)        (None, 56, 56, 256)       590080    \n_________________________________________________________________\nblock3_conv3 (Conv2D)        (None, 56, 56, 256)       590080    \n_________________________________________________________________\nblock3_conv4 (Conv2D)        (None, 56, 56, 256)       590080    \n_________________________________________________________________\nblock3_pool (MaxPooling2D)   (None, 28, 28, 256)       0         \n_________________________________________________________________\nblock4_conv1 (Conv2D)        (None, 28, 28, 512)       1180160   \n_________________________________________________________________\nblock4_conv2 (Conv2D)        (None, 28, 28, 512)       2359808   \n_________________________________________________________________\nblock4_conv3 (Conv2D)        (None, 28, 28, 512)       2359808   \n_________________________________________________________________\nblock4_conv4 (Conv2D)        (None, 28, 28, 512)       2359808   \n_________________________________________________________________\nblock4_pool (MaxPooling2D)   (None, 14, 14, 512)       0         \n_________________________________________________________________\nblock5_conv1 (Conv2D)        (None, 14, 14, 512)       2359808   \n_________________________________________________________________\nblock5_conv2 (Conv2D)        (None, 14, 14, 512)       2359808   \n_________________________________________________________________\nblock5_conv3 (Conv2D)        (None, 14, 14, 512)       2359808   \n_________________________________________________________________\nblock5_conv4 (Conv2D)        (None, 14, 14, 512)       2359808   \n_________________________________________________________________\nblock5_pool (MaxPooling2D)   (None, 7, 7, 512)         0         \n_________________________________________________________________\nflatten (Flatten)            (None, 25088)             0         \n_________________________________________________________________\ndense (Dense)                (None, 64)                1605696   \n_________________________________________________________________\ndense_1 (Dense)              (None, 128)               8320      \n_________________________________________________________________\ndense_2 (Dense)              (None, 15)                1935      \n=================================================================\nTotal params: 21,640,335\nTrainable params: 1,615,951\nNon-trainable params: 20,024,384\n_________________________________________________________________\n"
     ]
    }
   ],
   "source": [
    "vgg19 = keras.applications.vgg19\n",
    "conv_model = vgg19.VGG19(weights='imagenet', include_top=False, input_shape=(224,224,3))\n",
    "for layer in conv_model.layers: \n",
    "    layer.trainable = False\n",
    "x = keras.layers.Flatten()(conv_model.output)\n",
    "x = keras.layers.Dense(64, activation='relu')(x)\n",
    "x = keras.layers.Dense(128, activation='relu')(x)\n",
    "predictions = keras.layers.Dense(15, activation='softmax')(x)\n",
    "full_model = keras.models.Model(inputs=conv_model.input, outputs=predictions)\n",
    "full_model.summary()"
   ]
  },
  {
   "cell_type": "code",
   "execution_count": 9,
   "metadata": {
    "colab": {
     "base_uri": "https://localhost:8080/"
    },
    "id": "iKqttwIgpe6Y",
    "outputId": "9f59c5ca-a2e1-46ad-eab0-58719c146658"
   },
   "outputs": [
    {
     "output_type": "stream",
     "name": "stdout",
     "text": [
      "Found 22843 images belonging to 15 classes.\n",
      "Found 2535 images belonging to 15 classes.\n"
     ]
    }
   ],
   "source": [
    "train_dataset, val_dataset = generators((224,224))"
   ]
  },
  {
   "cell_type": "code",
   "execution_count": 10,
   "metadata": {
    "id": "jnY9AZImpe6Y"
   },
   "outputs": [],
   "source": [
    "full_model.compile(loss='categorical_crossentropy',\n",
    "                  optimizer=keras.optimizers.Adamax(learning_rate=0.001),\n",
    "                  metrics=['acc'])"
   ]
  },
  {
   "cell_type": "code",
   "execution_count": 11,
   "metadata": {
    "colab": {
     "base_uri": "https://localhost:8080/"
    },
    "id": "35WBfyxGpe6Y",
    "outputId": "4751293f-41b7-4244-d456-0643195cdc41",
    "tags": [
     "outputPrepend"
    ]
   },
   "outputs": [
    {
     "output_type": "stream",
     "name": "stdout",
     "text": [
      "======] - 23s 6s/step - loss: 0.0255 - acc: 1.0000 - val_loss: 0.2825 - val_acc: 0.9136\n",
      "Epoch 349/500\n",
      "5/5 [==============================] - 23s 6s/step - loss: 0.5155 - acc: 0.7850 - val_loss: 0.2474 - val_acc: 0.9128\n",
      "Epoch 350/500\n",
      "5/5 [==============================] - 23s 6s/step - loss: 0.1371 - acc: 0.9672 - val_loss: 0.2322 - val_acc: 0.9266\n",
      "Epoch 351/500\n",
      "5/5 [==============================] - 23s 6s/step - loss: 0.0564 - acc: 0.9783 - val_loss: 0.1934 - val_acc: 0.9310\n",
      "Epoch 352/500\n",
      "5/5 [==============================] - 23s 6s/step - loss: 0.5648 - acc: 0.9172 - val_loss: 0.1863 - val_acc: 0.9345\n",
      "Epoch 353/500\n",
      "5/5 [==============================] - 23s 6s/step - loss: 0.0730 - acc: 0.9783 - val_loss: 0.1929 - val_acc: 0.9314\n",
      "Epoch 354/500\n",
      "5/5 [==============================] - 23s 6s/step - loss: 0.1849 - acc: 0.9506 - val_loss: 0.1690 - val_acc: 0.9381\n",
      "Epoch 355/500\n",
      "5/5 [==============================] - 23s 6s/step - loss: 0.0633 - acc: 0.9783 - val_loss: 0.1635 - val_acc: 0.9424\n",
      "Epoch 356/500\n",
      "5/5 [==============================] - 23s 6s/step - loss: 0.0504 - acc: 0.9506 - val_loss: 0.1636 - val_acc: 0.9456\n",
      "Epoch 357/500\n",
      "5/5 [==============================] - 23s 6s/step - loss: 0.1221 - acc: 0.9011 - val_loss: 0.1477 - val_acc: 0.9503\n",
      "Epoch 358/500\n",
      "5/5 [==============================] - 23s 6s/step - loss: 0.2630 - acc: 0.9039 - val_loss: 0.1805 - val_acc: 0.9345\n",
      "Epoch 359/500\n",
      "5/5 [==============================] - 23s 6s/step - loss: 0.1187 - acc: 0.9867 - val_loss: 0.2260 - val_acc: 0.9243\n",
      "Epoch 360/500\n",
      "5/5 [==============================] - 23s 6s/step - loss: 0.3545 - acc: 0.8344 - val_loss: 0.1801 - val_acc: 0.9404\n",
      "Epoch 361/500\n",
      "5/5 [==============================] - 23s 6s/step - loss: 0.3188 - acc: 0.8683 - val_loss: 0.1775 - val_acc: 0.9452\n",
      "Epoch 362/500\n",
      "5/5 [==============================] - 23s 6s/step - loss: 0.1872 - acc: 0.9456 - val_loss: 0.2263 - val_acc: 0.9329\n",
      "Epoch 363/500\n",
      "5/5 [==============================] - 23s 6s/step - loss: 0.3558 - acc: 0.8494 - val_loss: 0.2749 - val_acc: 0.9211\n",
      "Epoch 364/500\n",
      "5/5 [==============================] - 23s 6s/step - loss: 0.2513 - acc: 0.9650 - val_loss: 0.2647 - val_acc: 0.9116\n",
      "Epoch 365/500\n",
      "5/5 [==============================] - 22s 6s/step - loss: 0.4127 - acc: 0.8344 - val_loss: 0.2462 - val_acc: 0.9144\n",
      "Epoch 366/500\n",
      "5/5 [==============================] - 23s 6s/step - loss: 0.0460 - acc: 0.9867 - val_loss: 0.2356 - val_acc: 0.9152\n",
      "Epoch 367/500\n",
      "5/5 [==============================] - 22s 6s/step - loss: 0.1035 - acc: 0.9783 - val_loss: 0.2219 - val_acc: 0.9254\n",
      "Epoch 368/500\n",
      "5/5 [==============================] - 22s 6s/step - loss: 0.0621 - acc: 0.9672 - val_loss: 0.2177 - val_acc: 0.9195\n",
      "Epoch 369/500\n",
      "5/5 [==============================] - 22s 6s/step - loss: 0.3648 - acc: 0.8906 - val_loss: 0.1874 - val_acc: 0.9329\n",
      "Epoch 370/500\n",
      "5/5 [==============================] - 23s 6s/step - loss: 0.0246 - acc: 1.0000 - val_loss: 0.2085 - val_acc: 0.9290\n",
      "Epoch 371/500\n",
      "5/5 [==============================] - 23s 6s/step - loss: 0.3659 - acc: 0.9322 - val_loss: 0.1746 - val_acc: 0.9373\n",
      "Epoch 372/500\n",
      "5/5 [==============================] - 23s 6s/step - loss: 0.0279 - acc: 1.0000 - val_loss: 0.1705 - val_acc: 0.9396\n",
      "Epoch 373/500\n",
      "5/5 [==============================] - 22s 6s/step - loss: 0.1389 - acc: 0.9539 - val_loss: 0.1781 - val_acc: 0.9373\n",
      "Epoch 374/500\n",
      "5/5 [==============================] - 22s 6s/step - loss: 0.2181 - acc: 0.9011 - val_loss: 0.1790 - val_acc: 0.9385\n",
      "Epoch 375/500\n",
      "5/5 [==============================] - 23s 6s/step - loss: 0.0817 - acc: 0.9567 - val_loss: 0.2061 - val_acc: 0.9310\n",
      "Epoch 376/500\n",
      "5/5 [==============================] - 23s 6s/step - loss: 0.0142 - acc: 1.0000 - val_loss: 0.1920 - val_acc: 0.9373\n",
      "Epoch 377/500\n",
      "5/5 [==============================] - 23s 6s/step - loss: 0.0632 - acc: 0.9783 - val_loss: 0.1685 - val_acc: 0.9436\n",
      "Epoch 378/500\n",
      "5/5 [==============================] - 22s 6s/step - loss: 0.0304 - acc: 0.9783 - val_loss: 0.1728 - val_acc: 0.9400\n",
      "Epoch 379/500\n",
      "5/5 [==============================] - 23s 6s/step - loss: 0.3379 - acc: 0.8678 - val_loss: 0.1675 - val_acc: 0.9436\n",
      "Epoch 380/500\n",
      "5/5 [==============================] - 23s 6s/step - loss: 0.0089 - acc: 1.0000 - val_loss: 0.1668 - val_acc: 0.9393\n",
      "Epoch 381/500\n",
      "5/5 [==============================] - 22s 6s/step - loss: 0.3043 - acc: 0.8350 - val_loss: 0.1605 - val_acc: 0.9389\n",
      "Epoch 382/500\n",
      "5/5 [==============================] - 22s 6s/step - loss: 0.0814 - acc: 0.9672 - val_loss: 0.1735 - val_acc: 0.9408\n",
      "Epoch 383/500\n",
      "5/5 [==============================] - 23s 6s/step - loss: 0.6832 - acc: 0.9172 - val_loss: 0.1631 - val_acc: 0.9396\n",
      "Epoch 384/500\n",
      "5/5 [==============================] - 23s 6s/step - loss: 0.0440 - acc: 0.9672 - val_loss: 0.1830 - val_acc: 0.9408\n",
      "Epoch 385/500\n",
      "5/5 [==============================] - 22s 6s/step - loss: 0.1287 - acc: 0.9867 - val_loss: 0.1754 - val_acc: 0.9377\n",
      "Epoch 386/500\n",
      "5/5 [==============================] - 22s 6s/step - loss: 0.0849 - acc: 0.9783 - val_loss: 0.2086 - val_acc: 0.9337\n",
      "Epoch 387/500\n",
      "5/5 [==============================] - 23s 6s/step - loss: 0.0833 - acc: 1.0000 - val_loss: 0.2724 - val_acc: 0.9211\n",
      "Epoch 388/500\n",
      "5/5 [==============================] - 23s 6s/step - loss: 0.0378 - acc: 0.9783 - val_loss: 0.3305 - val_acc: 0.9144\n",
      "Epoch 389/500\n",
      "5/5 [==============================] - 23s 6s/step - loss: 0.2220 - acc: 0.9539 - val_loss: 0.3363 - val_acc: 0.9093\n",
      "Epoch 390/500\n",
      "5/5 [==============================] - 23s 6s/step - loss: 0.0607 - acc: 0.9783 - val_loss: 0.3065 - val_acc: 0.9187\n",
      "Epoch 391/500\n",
      "5/5 [==============================] - 22s 6s/step - loss: 0.4313 - acc: 0.9456 - val_loss: 0.2700 - val_acc: 0.9219\n",
      "Epoch 392/500\n",
      "5/5 [==============================] - 23s 6s/step - loss: 0.1584 - acc: 0.9056 - val_loss: 0.2628 - val_acc: 0.9191\n",
      "Epoch 393/500\n",
      "5/5 [==============================] - 23s 6s/step - loss: 0.0646 - acc: 1.0000 - val_loss: 0.2350 - val_acc: 0.9231\n",
      "Epoch 394/500\n",
      "5/5 [==============================] - 22s 5s/step - loss: 0.1922 - acc: 0.9672 - val_loss: 0.2219 - val_acc: 0.9282\n",
      "Epoch 395/500\n",
      "5/5 [==============================] - 22s 5s/step - loss: 0.0225 - acc: 1.0000 - val_loss: 0.2118 - val_acc: 0.9258\n",
      "Epoch 396/500\n",
      "5/5 [==============================] - 23s 6s/step - loss: 0.1242 - acc: 0.9178 - val_loss: 0.2097 - val_acc: 0.9231\n",
      "Epoch 397/500\n",
      "5/5 [==============================] - 22s 6s/step - loss: 0.3752 - acc: 0.8133 - val_loss: 0.1759 - val_acc: 0.9345\n",
      "Epoch 398/500\n",
      "5/5 [==============================] - 22s 6s/step - loss: 0.0409 - acc: 0.9867 - val_loss: 0.1640 - val_acc: 0.9396\n",
      "Epoch 399/500\n",
      "5/5 [==============================] - 23s 6s/step - loss: 0.0311 - acc: 0.9783 - val_loss: 0.1756 - val_acc: 0.9361\n",
      "Epoch 400/500\n",
      "5/5 [==============================] - 23s 6s/step - loss: 0.3085 - acc: 0.8678 - val_loss: 0.1740 - val_acc: 0.9357\n",
      "Epoch 401/500\n",
      "5/5 [==============================] - 23s 6s/step - loss: 0.0448 - acc: 0.9783 - val_loss: 0.1697 - val_acc: 0.9345\n",
      "Epoch 402/500\n",
      "5/5 [==============================] - 23s 6s/step - loss: 0.1140 - acc: 0.9172 - val_loss: 0.1875 - val_acc: 0.9318\n",
      "Epoch 403/500\n",
      "5/5 [==============================] - 23s 6s/step - loss: 0.0407 - acc: 0.9867 - val_loss: 0.1877 - val_acc: 0.9294\n",
      "Epoch 404/500\n",
      "5/5 [==============================] - 22s 6s/step - loss: 0.0039 - acc: 1.0000 - val_loss: 0.1941 - val_acc: 0.9325\n",
      "Epoch 405/500\n",
      "5/5 [==============================] - 23s 6s/step - loss: 0.0520 - acc: 1.0000 - val_loss: 0.2014 - val_acc: 0.9321\n",
      "Epoch 406/500\n",
      "5/5 [==============================] - 23s 6s/step - loss: 0.2241 - acc: 0.9383 - val_loss: 0.2092 - val_acc: 0.9298\n",
      "Epoch 407/500\n",
      "5/5 [==============================] - 23s 6s/step - loss: 0.0724 - acc: 0.9783 - val_loss: 0.1721 - val_acc: 0.9420\n",
      "Epoch 408/500\n",
      "5/5 [==============================] - 23s 6s/step - loss: 0.0223 - acc: 1.0000 - val_loss: 0.1658 - val_acc: 0.9456\n",
      "Epoch 409/500\n",
      "5/5 [==============================] - 23s 6s/step - loss: 0.0026 - acc: 1.0000 - val_loss: 0.1593 - val_acc: 0.9464\n",
      "Epoch 410/500\n",
      "5/5 [==============================] - 23s 6s/step - loss: 0.0533 - acc: 0.9867 - val_loss: 0.1618 - val_acc: 0.9440\n",
      "Epoch 411/500\n",
      "5/5 [==============================] - 23s 6s/step - loss: 0.0856 - acc: 1.0000 - val_loss: 0.1587 - val_acc: 0.9475\n",
      "Epoch 412/500\n",
      "5/5 [==============================] - 22s 6s/step - loss: 0.0258 - acc: 0.9783 - val_loss: 0.1580 - val_acc: 0.9452\n",
      "Epoch 413/500\n",
      "5/5 [==============================] - 23s 6s/step - loss: 0.0169 - acc: 1.0000 - val_loss: 0.1666 - val_acc: 0.9448\n",
      "Epoch 414/500\n",
      "5/5 [==============================] - 23s 6s/step - loss: 0.3812 - acc: 0.9172 - val_loss: 0.1894 - val_acc: 0.9420\n",
      "Epoch 415/500\n",
      "5/5 [==============================] - 23s 6s/step - loss: 0.1083 - acc: 0.9506 - val_loss: 0.1833 - val_acc: 0.9452\n",
      "Epoch 416/500\n",
      "5/5 [==============================] - 23s 6s/step - loss: 0.1078 - acc: 0.9539 - val_loss: 0.1887 - val_acc: 0.9432\n",
      "Epoch 417/500\n",
      "5/5 [==============================] - 23s 6s/step - loss: 0.0262 - acc: 1.0000 - val_loss: 0.1699 - val_acc: 0.9460\n",
      "Epoch 418/500\n",
      "5/5 [==============================] - 23s 6s/step - loss: 0.0732 - acc: 0.9733 - val_loss: 0.1713 - val_acc: 0.9396\n",
      "Epoch 419/500\n",
      "5/5 [==============================] - 23s 6s/step - loss: 0.0783 - acc: 0.9567 - val_loss: 0.1879 - val_acc: 0.9357\n",
      "Epoch 420/500\n",
      "5/5 [==============================] - 23s 6s/step - loss: 0.5187 - acc: 0.8633 - val_loss: 0.1865 - val_acc: 0.9404\n",
      "Epoch 421/500\n",
      "5/5 [==============================] - 23s 6s/step - loss: 0.1458 - acc: 0.9456 - val_loss: 0.2124 - val_acc: 0.9310\n",
      "Epoch 422/500\n",
      "5/5 [==============================] - 23s 6s/step - loss: 0.0046 - acc: 1.0000 - val_loss: 0.2720 - val_acc: 0.9254\n",
      "Epoch 423/500\n",
      "5/5 [==============================] - 23s 6s/step - loss: 0.1421 - acc: 0.9172 - val_loss: 0.3256 - val_acc: 0.9136\n",
      "Epoch 424/500\n",
      "5/5 [==============================] - 23s 6s/step - loss: 0.0306 - acc: 0.9867 - val_loss: 0.3547 - val_acc: 0.9093\n",
      "Epoch 425/500\n",
      "5/5 [==============================] - 23s 6s/step - loss: 0.1915 - acc: 0.9189 - val_loss: 0.3043 - val_acc: 0.9183\n",
      "Epoch 426/500\n",
      "5/5 [==============================] - 23s 6s/step - loss: 0.2029 - acc: 0.8128 - val_loss: 0.2127 - val_acc: 0.9329\n",
      "Epoch 427/500\n",
      "5/5 [==============================] - 23s 6s/step - loss: 0.1712 - acc: 0.9011 - val_loss: 0.1894 - val_acc: 0.9400\n",
      "Epoch 428/500\n",
      "5/5 [==============================] - 23s 6s/step - loss: 0.1499 - acc: 0.9783 - val_loss: 0.2064 - val_acc: 0.9365\n",
      "Epoch 429/500\n",
      "5/5 [==============================] - 22s 6s/step - loss: 0.0268 - acc: 1.0000 - val_loss: 0.2166 - val_acc: 0.9306\n",
      "Epoch 430/500\n",
      "5/5 [==============================] - 22s 6s/step - loss: 0.1961 - acc: 0.9506 - val_loss: 0.1911 - val_acc: 0.9369\n",
      "Epoch 431/500\n",
      "5/5 [==============================] - 23s 6s/step - loss: 0.0306 - acc: 1.0000 - val_loss: 0.1805 - val_acc: 0.9408\n",
      "Epoch 432/500\n",
      "5/5 [==============================] - 23s 6s/step - loss: 0.3352 - acc: 0.9172 - val_loss: 0.1923 - val_acc: 0.9373\n",
      "Epoch 433/500\n",
      "5/5 [==============================] - 23s 6s/step - loss: 0.0017 - acc: 1.0000 - val_loss: 0.1905 - val_acc: 0.9341\n",
      "Epoch 434/500\n",
      "5/5 [==============================] - 23s 6s/step - loss: 0.0056 - acc: 1.0000 - val_loss: 0.2137 - val_acc: 0.9314\n",
      "Epoch 435/500\n",
      "5/5 [==============================] - 23s 6s/step - loss: 0.2710 - acc: 0.8956 - val_loss: 0.1998 - val_acc: 0.9357\n",
      "Epoch 436/500\n",
      "5/5 [==============================] - 22s 6s/step - loss: 0.2644 - acc: 0.9172 - val_loss: 0.1808 - val_acc: 0.9353\n",
      "Epoch 437/500\n",
      "5/5 [==============================] - 23s 6s/step - loss: 0.0369 - acc: 1.0000 - val_loss: 0.1957 - val_acc: 0.9349\n",
      "Epoch 438/500\n",
      "5/5 [==============================] - 23s 6s/step - loss: 0.1404 - acc: 0.9506 - val_loss: 0.1842 - val_acc: 0.9365\n",
      "Epoch 439/500\n",
      "5/5 [==============================] - 22s 6s/step - loss: 0.2425 - acc: 0.9672 - val_loss: 0.2110 - val_acc: 0.9318\n",
      "Epoch 440/500\n",
      "5/5 [==============================] - 22s 6s/step - loss: 0.0453 - acc: 0.9867 - val_loss: 0.2089 - val_acc: 0.9357\n",
      "Epoch 441/500\n",
      "5/5 [==============================] - 23s 6s/step - loss: 0.0420 - acc: 0.9867 - val_loss: 0.2075 - val_acc: 0.9365\n",
      "Epoch 442/500\n",
      "5/5 [==============================] - 23s 6s/step - loss: 0.0014 - acc: 1.0000 - val_loss: 0.2025 - val_acc: 0.9369\n",
      "Epoch 443/500\n",
      "5/5 [==============================] - 23s 6s/step - loss: 0.1536 - acc: 0.9506 - val_loss: 0.1882 - val_acc: 0.9389\n",
      "Epoch 444/500\n",
      "5/5 [==============================] - 23s 6s/step - loss: 0.0107 - acc: 1.0000 - val_loss: 0.1869 - val_acc: 0.9424\n",
      "Epoch 445/500\n",
      "5/5 [==============================] - 22s 6s/step - loss: 0.1798 - acc: 0.9506 - val_loss: 0.1656 - val_acc: 0.9487\n",
      "Epoch 446/500\n",
      "5/5 [==============================] - 22s 6s/step - loss: 0.0414 - acc: 0.9506 - val_loss: 0.1809 - val_acc: 0.9424\n",
      "Epoch 447/500\n",
      "5/5 [==============================] - 23s 6s/step - loss: 0.2341 - acc: 0.9044 - val_loss: 0.1777 - val_acc: 0.9377\n",
      "Epoch 448/500\n",
      "5/5 [==============================] - 23s 6s/step - loss: 0.1535 - acc: 0.8956 - val_loss: 0.1648 - val_acc: 0.9420\n",
      "Epoch 449/500\n",
      "5/5 [==============================] - 23s 6s/step - loss: 0.1690 - acc: 0.9867 - val_loss: 0.1684 - val_acc: 0.9357\n",
      "Epoch 450/500\n",
      "5/5 [==============================] - 23s 6s/step - loss: 0.0172 - acc: 1.0000 - val_loss: 0.1990 - val_acc: 0.9321\n",
      "Epoch 451/500\n",
      "5/5 [==============================] - 23s 6s/step - loss: 0.0424 - acc: 0.9672 - val_loss: 0.2021 - val_acc: 0.9353\n",
      "Epoch 452/500\n",
      "5/5 [==============================] - 23s 6s/step - loss: 0.0601 - acc: 0.9867 - val_loss: 0.1804 - val_acc: 0.9357\n",
      "Epoch 453/500\n",
      "5/5 [==============================] - 23s 6s/step - loss: 0.0259 - acc: 1.0000 - val_loss: 0.1748 - val_acc: 0.9389\n",
      "Epoch 454/500\n",
      "5/5 [==============================] - 23s 6s/step - loss: 0.0639 - acc: 0.9867 - val_loss: 0.1705 - val_acc: 0.9416\n",
      "Epoch 455/500\n",
      "5/5 [==============================] - 23s 6s/step - loss: 0.1033 - acc: 0.9672 - val_loss: 0.1615 - val_acc: 0.9373\n",
      "Epoch 456/500\n",
      "5/5 [==============================] - 23s 6s/step - loss: 0.1257 - acc: 0.9650 - val_loss: 0.1766 - val_acc: 0.9349\n",
      "Epoch 457/500\n",
      "5/5 [==============================] - 23s 6s/step - loss: 0.0057 - acc: 1.0000 - val_loss: 0.1738 - val_acc: 0.9389\n",
      "Epoch 458/500\n",
      "5/5 [==============================] - 22s 6s/step - loss: 0.1100 - acc: 0.9672 - val_loss: 0.1708 - val_acc: 0.9393\n",
      "Epoch 459/500\n",
      "5/5 [==============================] - 22s 5s/step - loss: 0.1182 - acc: 0.9172 - val_loss: 0.1657 - val_acc: 0.9369\n",
      "Epoch 460/500\n",
      "5/5 [==============================] - 22s 6s/step - loss: 0.2008 - acc: 0.9289 - val_loss: 0.1542 - val_acc: 0.9460\n",
      "Epoch 461/500\n",
      "5/5 [==============================] - 22s 6s/step - loss: 0.0273 - acc: 1.0000 - val_loss: 0.1648 - val_acc: 0.9460\n",
      "Epoch 462/500\n",
      "5/5 [==============================] - 22s 6s/step - loss: 0.0388 - acc: 1.0000 - val_loss: 0.1532 - val_acc: 0.9420\n",
      "Epoch 463/500\n",
      "5/5 [==============================] - 22s 6s/step - loss: 0.4830 - acc: 0.8956 - val_loss: 0.1702 - val_acc: 0.9420\n",
      "Epoch 464/500\n",
      "5/5 [==============================] - 23s 6s/step - loss: 0.2260 - acc: 0.8844 - val_loss: 0.1897 - val_acc: 0.9341\n",
      "Epoch 465/500\n",
      "5/5 [==============================] - 23s 6s/step - loss: 0.2462 - acc: 0.9506 - val_loss: 0.1868 - val_acc: 0.9385\n",
      "Epoch 466/500\n",
      "5/5 [==============================] - 22s 6s/step - loss: 0.0089 - acc: 1.0000 - val_loss: 0.1784 - val_acc: 0.9377\n",
      "Epoch 467/500\n",
      "5/5 [==============================] - 23s 6s/step - loss: 0.1922 - acc: 0.9506 - val_loss: 0.1887 - val_acc: 0.9369\n",
      "Epoch 468/500\n",
      "5/5 [==============================] - 23s 6s/step - loss: 0.0576 - acc: 1.0000 - val_loss: 0.2144 - val_acc: 0.9321\n",
      "Epoch 469/500\n",
      "5/5 [==============================] - 23s 6s/step - loss: 0.6592 - acc: 0.8522 - val_loss: 0.1825 - val_acc: 0.9329\n",
      "Epoch 470/500\n",
      "5/5 [==============================] - 23s 6s/step - loss: 0.1612 - acc: 0.9672 - val_loss: 0.1747 - val_acc: 0.9377\n",
      "Epoch 471/500\n",
      "5/5 [==============================] - 23s 6s/step - loss: 0.0681 - acc: 0.9672 - val_loss: 0.1348 - val_acc: 0.9467\n",
      "Epoch 472/500\n",
      "5/5 [==============================] - 23s 6s/step - loss: 0.0779 - acc: 0.9733 - val_loss: 0.1565 - val_acc: 0.9424\n",
      "Epoch 473/500\n",
      "5/5 [==============================] - 23s 6s/step - loss: 0.0148 - acc: 1.0000 - val_loss: 0.1709 - val_acc: 0.9353\n",
      "Epoch 474/500\n",
      "5/5 [==============================] - 22s 6s/step - loss: 0.1916 - acc: 0.8844 - val_loss: 0.1770 - val_acc: 0.9365\n",
      "Epoch 475/500\n",
      "5/5 [==============================] - 22s 6s/step - loss: 0.0529 - acc: 0.9783 - val_loss: 0.1835 - val_acc: 0.9373\n",
      "Epoch 476/500\n",
      "5/5 [==============================] - 22s 6s/step - loss: 0.0226 - acc: 1.0000 - val_loss: 0.1836 - val_acc: 0.9396\n",
      "Epoch 477/500\n",
      "5/5 [==============================] - 23s 6s/step - loss: 0.1263 - acc: 0.9239 - val_loss: 0.1945 - val_acc: 0.9341\n",
      "Epoch 478/500\n",
      "5/5 [==============================] - 23s 6s/step - loss: 0.0089 - acc: 1.0000 - val_loss: 0.1542 - val_acc: 0.9456\n",
      "Epoch 479/500\n",
      "5/5 [==============================] - 23s 6s/step - loss: 0.9007 - acc: 0.9039 - val_loss: 0.1526 - val_acc: 0.9479\n",
      "Epoch 480/500\n",
      "5/5 [==============================] - 23s 6s/step - loss: 0.0608 - acc: 1.0000 - val_loss: 0.1577 - val_acc: 0.9416\n",
      "Epoch 481/500\n",
      "5/5 [==============================] - 23s 6s/step - loss: 0.0102 - acc: 1.0000 - val_loss: 0.1618 - val_acc: 0.9393\n",
      "Epoch 482/500\n",
      "5/5 [==============================] - 23s 6s/step - loss: 0.0639 - acc: 0.9372 - val_loss: 0.1739 - val_acc: 0.9357\n",
      "Epoch 483/500\n",
      "5/5 [==============================] - 23s 6s/step - loss: 0.3731 - acc: 0.8517 - val_loss: 0.1726 - val_acc: 0.9404\n",
      "Epoch 484/500\n",
      "5/5 [==============================] - 23s 6s/step - loss: 0.0397 - acc: 1.0000 - val_loss: 0.1822 - val_acc: 0.9357\n",
      "Epoch 485/500\n",
      "5/5 [==============================] - 23s 6s/step - loss: 0.3947 - acc: 0.9172 - val_loss: 0.2304 - val_acc: 0.9258\n",
      "Epoch 486/500\n",
      "5/5 [==============================] - 23s 6s/step - loss: 0.3430 - acc: 0.9344 - val_loss: 0.2200 - val_acc: 0.9270\n",
      "Epoch 487/500\n",
      "5/5 [==============================] - 23s 6s/step - loss: 0.5186 - acc: 0.8711 - val_loss: 0.2488 - val_acc: 0.9219\n",
      "Epoch 488/500\n",
      "5/5 [==============================] - 23s 6s/step - loss: 0.3334 - acc: 0.9156 - val_loss: 0.2479 - val_acc: 0.9314\n",
      "Epoch 489/500\n",
      "5/5 [==============================] - 23s 6s/step - loss: 0.0115 - acc: 1.0000 - val_loss: 0.2655 - val_acc: 0.9274\n",
      "Epoch 490/500\n",
      "5/5 [==============================] - 23s 6s/step - loss: 0.0139 - acc: 1.0000 - val_loss: 0.2854 - val_acc: 0.9250\n",
      "Epoch 491/500\n",
      "5/5 [==============================] - 23s 6s/step - loss: 0.1167 - acc: 0.9372 - val_loss: 0.2613 - val_acc: 0.9290\n",
      "Epoch 492/500\n",
      "5/5 [==============================] - 23s 6s/step - loss: 0.0538 - acc: 0.9783 - val_loss: 0.2296 - val_acc: 0.9357\n",
      "Epoch 493/500\n",
      "5/5 [==============================] - 23s 6s/step - loss: 0.1356 - acc: 0.9044 - val_loss: 0.1888 - val_acc: 0.9361\n",
      "Epoch 494/500\n",
      "5/5 [==============================] - 23s 6s/step - loss: 0.2546 - acc: 0.8961 - val_loss: 0.1633 - val_acc: 0.9471\n",
      "Epoch 495/500\n",
      "5/5 [==============================] - 23s 6s/step - loss: 0.0167 - acc: 1.0000 - val_loss: 0.1439 - val_acc: 0.9499\n",
      "Epoch 496/500\n",
      "5/5 [==============================] - 23s 6s/step - loss: 0.1215 - acc: 0.9172 - val_loss: 0.1356 - val_acc: 0.9507\n",
      "Epoch 497/500\n",
      "5/5 [==============================] - 23s 6s/step - loss: 0.0607 - acc: 0.9867 - val_loss: 0.1403 - val_acc: 0.9483\n",
      "Epoch 498/500\n",
      "5/5 [==============================] - 23s 6s/step - loss: 0.0224 - acc: 1.0000 - val_loss: 0.1710 - val_acc: 0.9499\n",
      "Epoch 499/500\n",
      "5/5 [==============================] - 22s 6s/step - loss: 0.0045 - acc: 1.0000 - val_loss: 0.1929 - val_acc: 0.9460\n",
      "Epoch 500/500\n",
      "5/5 [==============================] - 23s 6s/step - loss: 0.1429 - acc: 0.9289 - val_loss: 0.2193 - val_acc: 0.9412\n"
     ]
    }
   ],
   "source": [
    "callbacks = myCallback()\n",
    "history = full_model.fit(\n",
    "    train_dataset, \n",
    "    validation_data = val_dataset,\n",
    "    epochs=500,\n",
    "    steps_per_epoch=5,\n",
    "    callbacks = [callbacks])"
   ]
  },
  {
   "cell_type": "code",
   "execution_count": 13,
   "metadata": {
    "colab": {
     "base_uri": "https://localhost:8080/",
     "height": 545
    },
    "id": "jUjVOY7upe6Z",
    "outputId": "ba308c6b-2052-4c71-9669-acf39651ea64"
   },
   "outputs": [
    {
     "output_type": "display_data",
     "data": {
      "text/plain": "<Figure size 432x288 with 1 Axes>",
      "image/svg+xml": "<?xml version=\"1.0\" encoding=\"utf-8\" standalone=\"no\"?>\r\n<!DOCTYPE svg PUBLIC \"-//W3C//DTD SVG 1.1//EN\"\r\n  \"http://www.w3.org/Graphics/SVG/1.1/DTD/svg11.dtd\">\r\n<!-- Created with matplotlib (https://matplotlib.org/) -->\r\n<svg height=\"263.63625pt\" version=\"1.1\" viewBox=\"0 0 372.103125 263.63625\" width=\"372.103125pt\" xmlns=\"http://www.w3.org/2000/svg\" xmlns:xlink=\"http://www.w3.org/1999/xlink\">\r\n <metadata>\r\n  <rdf:RDF xmlns:cc=\"http://creativecommons.org/ns#\" xmlns:dc=\"http://purl.org/dc/elements/1.1/\" xmlns:rdf=\"http://www.w3.org/1999/02/22-rdf-syntax-ns#\">\r\n   <cc:Work>\r\n    <dc:type rdf:resource=\"http://purl.org/dc/dcmitype/StillImage\"/>\r\n    <dc:date>2021-06-08T21:22:13.149116</dc:date>\r\n    <dc:format>image/svg+xml</dc:format>\r\n    <dc:creator>\r\n     <cc:Agent>\r\n      <dc:title>Matplotlib v3.3.3, https://matplotlib.org/</dc:title>\r\n     </cc:Agent>\r\n    </dc:creator>\r\n   </cc:Work>\r\n  </rdf:RDF>\r\n </metadata>\r\n <defs>\r\n  <style type=\"text/css\">*{stroke-linecap:butt;stroke-linejoin:round;}</style>\r\n </defs>\r\n <g id=\"figure_1\">\r\n  <g id=\"patch_1\">\r\n   <path d=\"M 0 263.63625 \r\nL 372.103125 263.63625 \r\nL 372.103125 0 \r\nL 0 0 \r\nz\r\n\" style=\"fill:none;\"/>\r\n  </g>\r\n  <g id=\"axes_1\">\r\n   <g id=\"patch_2\">\r\n    <path d=\"M 30.103125 239.758125 \r\nL 364.903125 239.758125 \r\nL 364.903125 22.318125 \r\nL 30.103125 22.318125 \r\nz\r\n\" style=\"fill:#ffffff;\"/>\r\n   </g>\r\n   <g id=\"matplotlib.axis_1\">\r\n    <g id=\"xtick_1\">\r\n     <g id=\"line2d_1\">\r\n      <defs>\r\n       <path d=\"M 0 0 \r\nL 0 3.5 \r\n\" id=\"m17434b3ad0\" style=\"stroke:#000000;stroke-width:0.8;\"/>\r\n      </defs>\r\n      <g>\r\n       <use style=\"stroke:#000000;stroke-width:0.8;\" x=\"45.321307\" xlink:href=\"#m17434b3ad0\" y=\"239.758125\"/>\r\n      </g>\r\n     </g>\r\n     <g id=\"text_1\">\r\n      <!-- 0 -->\r\n      <g transform=\"translate(42.140057 254.356563)scale(0.1 -0.1)\">\r\n       <defs>\r\n        <path d=\"M 31.78125 66.40625 \r\nQ 24.171875 66.40625 20.328125 58.90625 \r\nQ 16.5 51.421875 16.5 36.375 \r\nQ 16.5 21.390625 20.328125 13.890625 \r\nQ 24.171875 6.390625 31.78125 6.390625 \r\nQ 39.453125 6.390625 43.28125 13.890625 \r\nQ 47.125 21.390625 47.125 36.375 \r\nQ 47.125 51.421875 43.28125 58.90625 \r\nQ 39.453125 66.40625 31.78125 66.40625 \r\nz\r\nM 31.78125 74.21875 \r\nQ 44.046875 74.21875 50.515625 64.515625 \r\nQ 56.984375 54.828125 56.984375 36.375 \r\nQ 56.984375 17.96875 50.515625 8.265625 \r\nQ 44.046875 -1.421875 31.78125 -1.421875 \r\nQ 19.53125 -1.421875 13.0625 8.265625 \r\nQ 6.59375 17.96875 6.59375 36.375 \r\nQ 6.59375 54.828125 13.0625 64.515625 \r\nQ 19.53125 74.21875 31.78125 74.21875 \r\nz\r\n\" id=\"DejaVuSans-48\"/>\r\n       </defs>\r\n       <use xlink:href=\"#DejaVuSans-48\"/>\r\n      </g>\r\n     </g>\r\n    </g>\r\n    <g id=\"xtick_2\">\r\n     <g id=\"line2d_2\">\r\n      <g>\r\n       <use style=\"stroke:#000000;stroke-width:0.8;\" x=\"106.316024\" xlink:href=\"#m17434b3ad0\" y=\"239.758125\"/>\r\n      </g>\r\n     </g>\r\n     <g id=\"text_2\">\r\n      <!-- 100 -->\r\n      <g transform=\"translate(96.772274 254.356563)scale(0.1 -0.1)\">\r\n       <defs>\r\n        <path d=\"M 12.40625 8.296875 \r\nL 28.515625 8.296875 \r\nL 28.515625 63.921875 \r\nL 10.984375 60.40625 \r\nL 10.984375 69.390625 \r\nL 28.421875 72.90625 \r\nL 38.28125 72.90625 \r\nL 38.28125 8.296875 \r\nL 54.390625 8.296875 \r\nL 54.390625 0 \r\nL 12.40625 0 \r\nz\r\n\" id=\"DejaVuSans-49\"/>\r\n       </defs>\r\n       <use xlink:href=\"#DejaVuSans-49\"/>\r\n       <use x=\"63.623047\" xlink:href=\"#DejaVuSans-48\"/>\r\n       <use x=\"127.246094\" xlink:href=\"#DejaVuSans-48\"/>\r\n      </g>\r\n     </g>\r\n    </g>\r\n    <g id=\"xtick_3\">\r\n     <g id=\"line2d_3\">\r\n      <g>\r\n       <use style=\"stroke:#000000;stroke-width:0.8;\" x=\"167.31074\" xlink:href=\"#m17434b3ad0\" y=\"239.758125\"/>\r\n      </g>\r\n     </g>\r\n     <g id=\"text_3\">\r\n      <!-- 200 -->\r\n      <g transform=\"translate(157.76699 254.356563)scale(0.1 -0.1)\">\r\n       <defs>\r\n        <path d=\"M 19.1875 8.296875 \r\nL 53.609375 8.296875 \r\nL 53.609375 0 \r\nL 7.328125 0 \r\nL 7.328125 8.296875 \r\nQ 12.9375 14.109375 22.625 23.890625 \r\nQ 32.328125 33.6875 34.8125 36.53125 \r\nQ 39.546875 41.84375 41.421875 45.53125 \r\nQ 43.3125 49.21875 43.3125 52.78125 \r\nQ 43.3125 58.59375 39.234375 62.25 \r\nQ 35.15625 65.921875 28.609375 65.921875 \r\nQ 23.96875 65.921875 18.8125 64.3125 \r\nQ 13.671875 62.703125 7.8125 59.421875 \r\nL 7.8125 69.390625 \r\nQ 13.765625 71.78125 18.9375 73 \r\nQ 24.125 74.21875 28.421875 74.21875 \r\nQ 39.75 74.21875 46.484375 68.546875 \r\nQ 53.21875 62.890625 53.21875 53.421875 \r\nQ 53.21875 48.921875 51.53125 44.890625 \r\nQ 49.859375 40.875 45.40625 35.40625 \r\nQ 44.1875 33.984375 37.640625 27.21875 \r\nQ 31.109375 20.453125 19.1875 8.296875 \r\nz\r\n\" id=\"DejaVuSans-50\"/>\r\n       </defs>\r\n       <use xlink:href=\"#DejaVuSans-50\"/>\r\n       <use x=\"63.623047\" xlink:href=\"#DejaVuSans-48\"/>\r\n       <use x=\"127.246094\" xlink:href=\"#DejaVuSans-48\"/>\r\n      </g>\r\n     </g>\r\n    </g>\r\n    <g id=\"xtick_4\">\r\n     <g id=\"line2d_4\">\r\n      <g>\r\n       <use style=\"stroke:#000000;stroke-width:0.8;\" x=\"228.305457\" xlink:href=\"#m17434b3ad0\" y=\"239.758125\"/>\r\n      </g>\r\n     </g>\r\n     <g id=\"text_4\">\r\n      <!-- 300 -->\r\n      <g transform=\"translate(218.761707 254.356563)scale(0.1 -0.1)\">\r\n       <defs>\r\n        <path d=\"M 40.578125 39.3125 \r\nQ 47.65625 37.796875 51.625 33 \r\nQ 55.609375 28.21875 55.609375 21.1875 \r\nQ 55.609375 10.40625 48.1875 4.484375 \r\nQ 40.765625 -1.421875 27.09375 -1.421875 \r\nQ 22.515625 -1.421875 17.65625 -0.515625 \r\nQ 12.796875 0.390625 7.625 2.203125 \r\nL 7.625 11.71875 \r\nQ 11.71875 9.328125 16.59375 8.109375 \r\nQ 21.484375 6.890625 26.8125 6.890625 \r\nQ 36.078125 6.890625 40.9375 10.546875 \r\nQ 45.796875 14.203125 45.796875 21.1875 \r\nQ 45.796875 27.640625 41.28125 31.265625 \r\nQ 36.765625 34.90625 28.71875 34.90625 \r\nL 20.21875 34.90625 \r\nL 20.21875 43.015625 \r\nL 29.109375 43.015625 \r\nQ 36.375 43.015625 40.234375 45.921875 \r\nQ 44.09375 48.828125 44.09375 54.296875 \r\nQ 44.09375 59.90625 40.109375 62.90625 \r\nQ 36.140625 65.921875 28.71875 65.921875 \r\nQ 24.65625 65.921875 20.015625 65.03125 \r\nQ 15.375 64.15625 9.8125 62.3125 \r\nL 9.8125 71.09375 \r\nQ 15.4375 72.65625 20.34375 73.4375 \r\nQ 25.25 74.21875 29.59375 74.21875 \r\nQ 40.828125 74.21875 47.359375 69.109375 \r\nQ 53.90625 64.015625 53.90625 55.328125 \r\nQ 53.90625 49.265625 50.4375 45.09375 \r\nQ 46.96875 40.921875 40.578125 39.3125 \r\nz\r\n\" id=\"DejaVuSans-51\"/>\r\n       </defs>\r\n       <use xlink:href=\"#DejaVuSans-51\"/>\r\n       <use x=\"63.623047\" xlink:href=\"#DejaVuSans-48\"/>\r\n       <use x=\"127.246094\" xlink:href=\"#DejaVuSans-48\"/>\r\n      </g>\r\n     </g>\r\n    </g>\r\n    <g id=\"xtick_5\">\r\n     <g id=\"line2d_5\">\r\n      <g>\r\n       <use style=\"stroke:#000000;stroke-width:0.8;\" x=\"289.300174\" xlink:href=\"#m17434b3ad0\" y=\"239.758125\"/>\r\n      </g>\r\n     </g>\r\n     <g id=\"text_5\">\r\n      <!-- 400 -->\r\n      <g transform=\"translate(279.756424 254.356563)scale(0.1 -0.1)\">\r\n       <defs>\r\n        <path d=\"M 37.796875 64.3125 \r\nL 12.890625 25.390625 \r\nL 37.796875 25.390625 \r\nz\r\nM 35.203125 72.90625 \r\nL 47.609375 72.90625 \r\nL 47.609375 25.390625 \r\nL 58.015625 25.390625 \r\nL 58.015625 17.1875 \r\nL 47.609375 17.1875 \r\nL 47.609375 0 \r\nL 37.796875 0 \r\nL 37.796875 17.1875 \r\nL 4.890625 17.1875 \r\nL 4.890625 26.703125 \r\nz\r\n\" id=\"DejaVuSans-52\"/>\r\n       </defs>\r\n       <use xlink:href=\"#DejaVuSans-52\"/>\r\n       <use x=\"63.623047\" xlink:href=\"#DejaVuSans-48\"/>\r\n       <use x=\"127.246094\" xlink:href=\"#DejaVuSans-48\"/>\r\n      </g>\r\n     </g>\r\n    </g>\r\n    <g id=\"xtick_6\">\r\n     <g id=\"line2d_6\">\r\n      <g>\r\n       <use style=\"stroke:#000000;stroke-width:0.8;\" x=\"350.29489\" xlink:href=\"#m17434b3ad0\" y=\"239.758125\"/>\r\n      </g>\r\n     </g>\r\n     <g id=\"text_6\">\r\n      <!-- 500 -->\r\n      <g transform=\"translate(340.75114 254.356563)scale(0.1 -0.1)\">\r\n       <defs>\r\n        <path d=\"M 10.796875 72.90625 \r\nL 49.515625 72.90625 \r\nL 49.515625 64.59375 \r\nL 19.828125 64.59375 \r\nL 19.828125 46.734375 \r\nQ 21.96875 47.46875 24.109375 47.828125 \r\nQ 26.265625 48.1875 28.421875 48.1875 \r\nQ 40.625 48.1875 47.75 41.5 \r\nQ 54.890625 34.8125 54.890625 23.390625 \r\nQ 54.890625 11.625 47.5625 5.09375 \r\nQ 40.234375 -1.421875 26.90625 -1.421875 \r\nQ 22.3125 -1.421875 17.546875 -0.640625 \r\nQ 12.796875 0.140625 7.71875 1.703125 \r\nL 7.71875 11.625 \r\nQ 12.109375 9.234375 16.796875 8.0625 \r\nQ 21.484375 6.890625 26.703125 6.890625 \r\nQ 35.15625 6.890625 40.078125 11.328125 \r\nQ 45.015625 15.765625 45.015625 23.390625 \r\nQ 45.015625 31 40.078125 35.4375 \r\nQ 35.15625 39.890625 26.703125 39.890625 \r\nQ 22.75 39.890625 18.8125 39.015625 \r\nQ 14.890625 38.140625 10.796875 36.28125 \r\nz\r\n\" id=\"DejaVuSans-53\"/>\r\n       </defs>\r\n       <use xlink:href=\"#DejaVuSans-53\"/>\r\n       <use x=\"63.623047\" xlink:href=\"#DejaVuSans-48\"/>\r\n       <use x=\"127.246094\" xlink:href=\"#DejaVuSans-48\"/>\r\n      </g>\r\n     </g>\r\n    </g>\r\n   </g>\r\n   <g id=\"matplotlib.axis_2\">\r\n    <g id=\"ytick_1\">\r\n     <g id=\"line2d_7\">\r\n      <defs>\r\n       <path d=\"M 0 0 \r\nL -3.5 0 \r\n\" id=\"m5bb798ae86\" style=\"stroke:#000000;stroke-width:0.8;\"/>\r\n      </defs>\r\n      <g>\r\n       <use style=\"stroke:#000000;stroke-width:0.8;\" x=\"30.103125\" xlink:href=\"#m5bb798ae86\" y=\"239.758125\"/>\r\n      </g>\r\n     </g>\r\n     <g id=\"text_7\">\r\n      <!-- 0.0 -->\r\n      <g transform=\"translate(7.2 243.557344)scale(0.1 -0.1)\">\r\n       <defs>\r\n        <path d=\"M 10.6875 12.40625 \r\nL 21 12.40625 \r\nL 21 0 \r\nL 10.6875 0 \r\nz\r\n\" id=\"DejaVuSans-46\"/>\r\n       </defs>\r\n       <use xlink:href=\"#DejaVuSans-48\"/>\r\n       <use x=\"63.623047\" xlink:href=\"#DejaVuSans-46\"/>\r\n       <use x=\"95.410156\" xlink:href=\"#DejaVuSans-48\"/>\r\n      </g>\r\n     </g>\r\n    </g>\r\n    <g id=\"ytick_2\">\r\n     <g id=\"line2d_8\">\r\n      <g>\r\n       <use style=\"stroke:#000000;stroke-width:0.8;\" x=\"30.103125\" xlink:href=\"#m5bb798ae86\" y=\"196.270125\"/>\r\n      </g>\r\n     </g>\r\n     <g id=\"text_8\">\r\n      <!-- 0.2 -->\r\n      <g transform=\"translate(7.2 200.069344)scale(0.1 -0.1)\">\r\n       <use xlink:href=\"#DejaVuSans-48\"/>\r\n       <use x=\"63.623047\" xlink:href=\"#DejaVuSans-46\"/>\r\n       <use x=\"95.410156\" xlink:href=\"#DejaVuSans-50\"/>\r\n      </g>\r\n     </g>\r\n    </g>\r\n    <g id=\"ytick_3\">\r\n     <g id=\"line2d_9\">\r\n      <g>\r\n       <use style=\"stroke:#000000;stroke-width:0.8;\" x=\"30.103125\" xlink:href=\"#m5bb798ae86\" y=\"152.782125\"/>\r\n      </g>\r\n     </g>\r\n     <g id=\"text_9\">\r\n      <!-- 0.4 -->\r\n      <g transform=\"translate(7.2 156.581344)scale(0.1 -0.1)\">\r\n       <use xlink:href=\"#DejaVuSans-48\"/>\r\n       <use x=\"63.623047\" xlink:href=\"#DejaVuSans-46\"/>\r\n       <use x=\"95.410156\" xlink:href=\"#DejaVuSans-52\"/>\r\n      </g>\r\n     </g>\r\n    </g>\r\n    <g id=\"ytick_4\">\r\n     <g id=\"line2d_10\">\r\n      <g>\r\n       <use style=\"stroke:#000000;stroke-width:0.8;\" x=\"30.103125\" xlink:href=\"#m5bb798ae86\" y=\"109.294125\"/>\r\n      </g>\r\n     </g>\r\n     <g id=\"text_10\">\r\n      <!-- 0.6 -->\r\n      <g transform=\"translate(7.2 113.093344)scale(0.1 -0.1)\">\r\n       <defs>\r\n        <path d=\"M 33.015625 40.375 \r\nQ 26.375 40.375 22.484375 35.828125 \r\nQ 18.609375 31.296875 18.609375 23.390625 \r\nQ 18.609375 15.53125 22.484375 10.953125 \r\nQ 26.375 6.390625 33.015625 6.390625 \r\nQ 39.65625 6.390625 43.53125 10.953125 \r\nQ 47.40625 15.53125 47.40625 23.390625 \r\nQ 47.40625 31.296875 43.53125 35.828125 \r\nQ 39.65625 40.375 33.015625 40.375 \r\nz\r\nM 52.59375 71.296875 \r\nL 52.59375 62.3125 \r\nQ 48.875 64.0625 45.09375 64.984375 \r\nQ 41.3125 65.921875 37.59375 65.921875 \r\nQ 27.828125 65.921875 22.671875 59.328125 \r\nQ 17.53125 52.734375 16.796875 39.40625 \r\nQ 19.671875 43.65625 24.015625 45.921875 \r\nQ 28.375 48.1875 33.59375 48.1875 \r\nQ 44.578125 48.1875 50.953125 41.515625 \r\nQ 57.328125 34.859375 57.328125 23.390625 \r\nQ 57.328125 12.15625 50.6875 5.359375 \r\nQ 44.046875 -1.421875 33.015625 -1.421875 \r\nQ 20.359375 -1.421875 13.671875 8.265625 \r\nQ 6.984375 17.96875 6.984375 36.375 \r\nQ 6.984375 53.65625 15.1875 63.9375 \r\nQ 23.390625 74.21875 37.203125 74.21875 \r\nQ 40.921875 74.21875 44.703125 73.484375 \r\nQ 48.484375 72.75 52.59375 71.296875 \r\nz\r\n\" id=\"DejaVuSans-54\"/>\r\n       </defs>\r\n       <use xlink:href=\"#DejaVuSans-48\"/>\r\n       <use x=\"63.623047\" xlink:href=\"#DejaVuSans-46\"/>\r\n       <use x=\"95.410156\" xlink:href=\"#DejaVuSans-54\"/>\r\n      </g>\r\n     </g>\r\n    </g>\r\n    <g id=\"ytick_5\">\r\n     <g id=\"line2d_11\">\r\n      <g>\r\n       <use style=\"stroke:#000000;stroke-width:0.8;\" x=\"30.103125\" xlink:href=\"#m5bb798ae86\" y=\"65.806125\"/>\r\n      </g>\r\n     </g>\r\n     <g id=\"text_11\">\r\n      <!-- 0.8 -->\r\n      <g transform=\"translate(7.2 69.605344)scale(0.1 -0.1)\">\r\n       <defs>\r\n        <path d=\"M 31.78125 34.625 \r\nQ 24.75 34.625 20.71875 30.859375 \r\nQ 16.703125 27.09375 16.703125 20.515625 \r\nQ 16.703125 13.921875 20.71875 10.15625 \r\nQ 24.75 6.390625 31.78125 6.390625 \r\nQ 38.8125 6.390625 42.859375 10.171875 \r\nQ 46.921875 13.96875 46.921875 20.515625 \r\nQ 46.921875 27.09375 42.890625 30.859375 \r\nQ 38.875 34.625 31.78125 34.625 \r\nz\r\nM 21.921875 38.8125 \r\nQ 15.578125 40.375 12.03125 44.71875 \r\nQ 8.5 49.078125 8.5 55.328125 \r\nQ 8.5 64.0625 14.71875 69.140625 \r\nQ 20.953125 74.21875 31.78125 74.21875 \r\nQ 42.671875 74.21875 48.875 69.140625 \r\nQ 55.078125 64.0625 55.078125 55.328125 \r\nQ 55.078125 49.078125 51.53125 44.71875 \r\nQ 48 40.375 41.703125 38.8125 \r\nQ 48.828125 37.15625 52.796875 32.3125 \r\nQ 56.78125 27.484375 56.78125 20.515625 \r\nQ 56.78125 9.90625 50.3125 4.234375 \r\nQ 43.84375 -1.421875 31.78125 -1.421875 \r\nQ 19.734375 -1.421875 13.25 4.234375 \r\nQ 6.78125 9.90625 6.78125 20.515625 \r\nQ 6.78125 27.484375 10.78125 32.3125 \r\nQ 14.796875 37.15625 21.921875 38.8125 \r\nz\r\nM 18.3125 54.390625 \r\nQ 18.3125 48.734375 21.84375 45.5625 \r\nQ 25.390625 42.390625 31.78125 42.390625 \r\nQ 38.140625 42.390625 41.71875 45.5625 \r\nQ 45.3125 48.734375 45.3125 54.390625 \r\nQ 45.3125 60.0625 41.71875 63.234375 \r\nQ 38.140625 66.40625 31.78125 66.40625 \r\nQ 25.390625 66.40625 21.84375 63.234375 \r\nQ 18.3125 60.0625 18.3125 54.390625 \r\nz\r\n\" id=\"DejaVuSans-56\"/>\r\n       </defs>\r\n       <use xlink:href=\"#DejaVuSans-48\"/>\r\n       <use x=\"63.623047\" xlink:href=\"#DejaVuSans-46\"/>\r\n       <use x=\"95.410156\" xlink:href=\"#DejaVuSans-56\"/>\r\n      </g>\r\n     </g>\r\n    </g>\r\n    <g id=\"ytick_6\">\r\n     <g id=\"line2d_12\">\r\n      <g>\r\n       <use style=\"stroke:#000000;stroke-width:0.8;\" x=\"30.103125\" xlink:href=\"#m5bb798ae86\" y=\"22.318125\"/>\r\n      </g>\r\n     </g>\r\n     <g id=\"text_12\">\r\n      <!-- 1.0 -->\r\n      <g transform=\"translate(7.2 26.117344)scale(0.1 -0.1)\">\r\n       <use xlink:href=\"#DejaVuSans-49\"/>\r\n       <use x=\"63.623047\" xlink:href=\"#DejaVuSans-46\"/>\r\n       <use x=\"95.410156\" xlink:href=\"#DejaVuSans-48\"/>\r\n      </g>\r\n     </g>\r\n    </g>\r\n   </g>\r\n   <g id=\"line2d_13\">\r\n    <path clip-path=\"url(#p5445f13983)\" d=\"M 45.321307 204.967726 \r\nL 46.541201 187.572526 \r\nL 47.151148 126.689329 \r\nL 48.371043 109.29412 \r\nL 48.98099 187.572526 \r\nL 49.590937 144.084526 \r\nL 50.200884 91.898923 \r\nL 50.810831 144.084526 \r\nL 51.420778 144.084526 \r\nL 52.030726 152.782124 \r\nL 52.640673 144.084526 \r\nL 53.25062 109.29412 \r\nL 53.860567 109.29412 \r\nL 54.470514 117.991724 \r\nL 55.080461 74.503727 \r\nL 55.690409 74.503727 \r\nL 56.300356 117.991724 \r\nL 56.910303 74.503727 \r\nL 58.130197 126.689329 \r\nL 58.740144 126.689329 \r\nL 59.350092 74.503727 \r\nL 59.960039 152.782124 \r\nL 60.569986 109.29412 \r\nL 61.179933 109.29412 \r\nL 61.78988 91.898923 \r\nL 62.399827 65.806122 \r\nL 63.009775 83.201319 \r\nL 63.619722 83.201319 \r\nL 64.229669 100.596528 \r\nL 64.839616 91.898923 \r\nL 66.05951 91.898923 \r\nL 66.669458 100.596528 \r\nL 67.279405 100.596528 \r\nL 67.889352 74.503727 \r\nL 68.499299 126.689329 \r\nL 69.109246 91.898923 \r\nL 69.719194 91.898923 \r\nL 70.329141 57.108531 \r\nL 70.939088 83.201319 \r\nL 72.158982 83.201319 \r\nL 72.768929 74.503727 \r\nL 73.988824 74.503727 \r\nL 75.208718 109.29412 \r\nL 76.428612 57.108531 \r\nL 77.03856 57.108531 \r\nL 77.648507 100.596528 \r\nL 78.258454 83.201319 \r\nL 79.478348 65.806122 \r\nL 80.088295 48.410926 \r\nL 80.698243 57.108531 \r\nL 81.30819 83.201319 \r\nL 81.918137 48.410926 \r\nL 82.528084 22.318125 \r\nL 83.138031 48.410926 \r\nL 84.357926 65.806122 \r\nL 84.967873 57.108531 \r\nL 85.57782 39.713321 \r\nL 86.187767 48.410926 \r\nL 86.797714 39.713321 \r\nL 87.407661 74.503727 \r\nL 88.017609 74.503727 \r\nL 88.627556 65.806122 \r\nL 89.237503 100.596528 \r\nL 89.84745 65.806122 \r\nL 90.457397 39.713321 \r\nL 91.067344 74.503727 \r\nL 91.677292 65.806122 \r\nL 92.287239 74.503727 \r\nL 92.897186 39.713321 \r\nL 93.507133 39.713321 \r\nL 94.11708 31.01573 \r\nL 94.727027 74.503727 \r\nL 95.336975 65.806122 \r\nL 95.946922 22.318125 \r\nL 96.556869 57.108531 \r\nL 97.166816 65.806122 \r\nL 97.776763 48.410926 \r\nL 98.38671 48.410926 \r\nL 98.996658 57.108531 \r\nL 99.606605 39.713321 \r\nL 100.216552 31.01573 \r\nL 100.826499 57.108531 \r\nL 101.436446 65.806122 \r\nL 102.046393 57.108531 \r\nL 102.656341 31.01573 \r\nL 103.266288 31.01573 \r\nL 103.876235 57.108531 \r\nL 104.486182 31.01573 \r\nL 105.706076 48.410926 \r\nL 106.316024 48.410926 \r\nL 106.925971 31.01573 \r\nL 107.535918 48.410926 \r\nL 108.145865 22.318125 \r\nL 108.755812 39.713321 \r\nL 109.365759 22.318125 \r\nL 109.975707 48.410926 \r\nL 110.585654 31.01573 \r\nL 111.195601 39.713321 \r\nL 111.805548 57.108531 \r\nL 112.415495 39.713321 \r\nL 113.025442 31.01573 \r\nL 114.245337 31.01573 \r\nL 114.855284 22.318125 \r\nL 115.465231 57.108531 \r\nL 116.685125 57.108531 \r\nL 117.295073 31.01573 \r\nL 117.90502 74.503727 \r\nL 118.514967 31.01573 \r\nL 119.124914 65.806122 \r\nL 119.734861 57.108531 \r\nL 120.344808 57.108531 \r\nL 120.954756 31.01573 \r\nL 121.564703 57.108531 \r\nL 122.784597 57.108531 \r\nL 123.394544 48.410926 \r\nL 124.004491 22.318125 \r\nL 124.614439 65.806122 \r\nL 125.224386 48.410926 \r\nL 125.834333 57.108531 \r\nL 126.44428 74.503727 \r\nL 127.054227 39.713321 \r\nL 127.664174 31.01573 \r\nL 128.884069 48.410926 \r\nL 129.494016 31.01573 \r\nL 130.103963 57.108531 \r\nL 130.71391 48.410926 \r\nL 131.323857 48.410926 \r\nL 131.933805 31.01573 \r\nL 132.543752 57.108531 \r\nL 134.373593 31.01573 \r\nL 134.98354 31.01573 \r\nL 135.593488 39.713321 \r\nL 136.203435 39.713321 \r\nL 136.813382 31.01573 \r\nL 137.423329 74.503727 \r\nL 138.033276 57.108531 \r\nL 138.643223 31.01573 \r\nL 139.253171 48.410926 \r\nL 139.863118 31.01573 \r\nL 140.473065 31.01573 \r\nL 141.083012 48.410926 \r\nL 141.692959 31.01573 \r\nL 142.302906 39.713321 \r\nL 142.912854 57.108531 \r\nL 144.132748 57.108531 \r\nL 144.742695 39.713321 \r\nL 145.352642 57.108531 \r\nL 145.962589 39.713321 \r\nL 146.572537 57.108531 \r\nL 147.182484 57.108531 \r\nL 148.402378 22.318125 \r\nL 149.622272 39.713321 \r\nL 150.23222 57.108531 \r\nL 150.842167 31.01573 \r\nL 151.452114 39.713321 \r\nL 152.062061 31.01573 \r\nL 153.281955 65.806122 \r\nL 153.891903 39.713321 \r\nL 154.50185 39.713321 \r\nL 155.111797 65.806122 \r\nL 155.721744 39.713321 \r\nL 156.941638 57.108531 \r\nL 157.551586 57.108531 \r\nL 158.161533 39.713321 \r\nL 158.77148 48.410926 \r\nL 159.381427 39.713321 \r\nL 160.601321 57.108531 \r\nL 161.211269 31.01573 \r\nL 161.821216 39.713321 \r\nL 162.431163 39.713321 \r\nL 163.04111 31.01573 \r\nL 163.651057 39.713321 \r\nL 164.261004 31.01573 \r\nL 164.870952 57.108531 \r\nL 165.480899 31.01573 \r\nL 166.090846 57.108531 \r\nL 166.700793 57.108531 \r\nL 167.31074 65.806122 \r\nL 167.920687 48.410926 \r\nL 168.530635 57.108531 \r\nL 169.140582 39.713321 \r\nL 169.750529 57.108531 \r\nL 170.360476 31.01573 \r\nL 170.970423 22.318125 \r\nL 171.58037 39.713321 \r\nL 172.190318 48.410926 \r\nL 172.800265 31.01573 \r\nL 173.410212 39.713321 \r\nL 174.020159 57.108531 \r\nL 174.630106 39.713321 \r\nL 175.240053 48.410926 \r\nL 175.850001 31.01573 \r\nL 177.069895 48.410926 \r\nL 177.679842 31.01573 \r\nL 178.289789 31.01573 \r\nL 179.509684 65.806122 \r\nL 180.119631 48.410926 \r\nL 180.729578 48.410926 \r\nL 181.339525 39.713321 \r\nL 182.559419 39.713321 \r\nL 183.169367 48.410926 \r\nL 183.779314 22.318125 \r\nL 184.389261 31.01573 \r\nL 184.999208 22.318125 \r\nL 185.609155 39.713321 \r\nL 186.219102 65.806122 \r\nL 186.82905 31.01573 \r\nL 187.438997 31.01573 \r\nL 188.048944 57.108531 \r\nL 189.268838 22.318125 \r\nL 189.878785 57.108531 \r\nL 190.488733 31.01573 \r\nL 191.09868 31.01573 \r\nL 191.708627 48.410926 \r\nL 192.928521 31.01573 \r\nL 193.538468 48.410926 \r\nL 194.148416 31.01573 \r\nL 194.758363 48.410926 \r\nL 195.36831 22.318125 \r\nL 195.978257 31.01573 \r\nL 197.198151 31.01573 \r\nL 197.808099 39.713321 \r\nL 198.418046 31.01573 \r\nL 199.027993 31.01573 \r\nL 199.63794 48.410926 \r\nL 200.247887 31.01573 \r\nL 200.857834 39.713321 \r\nL 201.467782 22.318125 \r\nL 202.077729 22.318125 \r\nL 202.687676 31.01573 \r\nL 203.297623 22.318125 \r\nL 203.90757 39.713321 \r\nL 205.127465 39.713321 \r\nL 205.737412 48.410926 \r\nL 206.347359 31.01573 \r\nL 207.567253 31.01573 \r\nL 208.1772 48.410926 \r\nL 208.787148 31.01573 \r\nL 209.397095 22.318125 \r\nL 210.007042 22.318125 \r\nL 210.616989 48.410926 \r\nL 211.226936 48.410926 \r\nL 211.836883 31.01573 \r\nL 212.446831 57.108531 \r\nL 213.056778 31.01573 \r\nL 213.666725 39.713321 \r\nL 214.276672 39.713321 \r\nL 214.886619 22.318125 \r\nL 216.106514 22.318125 \r\nL 216.716461 31.01573 \r\nL 217.326408 31.01573 \r\nL 217.936355 39.713321 \r\nL 218.546302 22.318125 \r\nL 219.156249 48.410926 \r\nL 219.766197 48.410926 \r\nL 220.376144 31.01573 \r\nL 220.986091 31.01573 \r\nL 221.596038 57.108531 \r\nL 222.205985 31.01573 \r\nL 222.815932 48.410926 \r\nL 223.42588 31.01573 \r\nL 224.035827 22.318125 \r\nL 224.645774 31.01573 \r\nL 225.255721 31.01573 \r\nL 225.865668 65.806122 \r\nL 226.475615 31.01573 \r\nL 227.085563 22.318125 \r\nL 227.69551 31.01573 \r\nL 228.305457 22.318125 \r\nL 229.525351 22.318125 \r\nL 230.135298 31.01573 \r\nL 230.745246 22.318125 \r\nL 231.355193 31.01573 \r\nL 231.96514 31.01573 \r\nL 233.185034 48.410926 \r\nL 233.794981 39.713321 \r\nL 234.404929 48.410926 \r\nL 235.014876 22.318125 \r\nL 235.624823 22.318125 \r\nL 236.23477 39.713321 \r\nL 236.844717 22.318125 \r\nL 238.064612 39.713321 \r\nL 238.674559 22.318125 \r\nL 239.284506 22.318125 \r\nL 239.894453 31.01573 \r\nL 240.5044 22.318125 \r\nL 241.114347 31.01573 \r\nL 241.724295 31.01573 \r\nL 242.334242 22.318125 \r\nL 243.554136 39.713321 \r\nL 244.164083 57.108531 \r\nL 244.77403 39.713321 \r\nL 245.383978 57.108531 \r\nL 245.993925 39.713321 \r\nL 246.603872 39.713321 \r\nL 247.213819 41.225947 \r\nL 247.823766 39.713321 \r\nL 248.433713 39.713321 \r\nL 249.043661 31.01573 \r\nL 249.653608 31.01573 \r\nL 250.263555 22.318125 \r\nL 251.483449 39.713321 \r\nL 252.093396 22.318125 \r\nL 252.703344 22.318125 \r\nL 253.313291 39.713321 \r\nL 253.923238 39.713321 \r\nL 254.533185 48.410926 \r\nL 255.143132 48.410926 \r\nL 255.753079 22.318125 \r\nL 256.363027 31.01573 \r\nL 256.972974 22.318125 \r\nL 257.582921 48.410926 \r\nL 258.192868 31.01573 \r\nL 261.852551 31.01573 \r\nL 262.462498 39.713321 \r\nL 263.072445 39.713321 \r\nL 263.682393 31.01573 \r\nL 264.902287 48.410926 \r\nL 265.512234 39.713321 \r\nL 266.122181 57.108531 \r\nL 266.732128 39.713321 \r\nL 267.342076 39.713321 \r\nL 267.952023 31.01573 \r\nL 269.171917 31.01573 \r\nL 269.781864 48.410926 \r\nL 270.391811 22.318125 \r\nL 271.001759 48.410926 \r\nL 271.611706 22.318125 \r\nL 272.221653 39.713321 \r\nL 273.441547 39.713321 \r\nL 274.051494 22.318125 \r\nL 274.661442 31.01573 \r\nL 275.271389 31.01573 \r\nL 275.881336 39.713321 \r\nL 276.491283 22.318125 \r\nL 277.10123 48.410926 \r\nL 277.711177 31.01573 \r\nL 280.150966 31.01573 \r\nL 280.760913 22.318125 \r\nL 281.980808 39.713321 \r\nL 282.590755 31.01573 \r\nL 283.200702 39.713321 \r\nL 283.810649 65.806122 \r\nL 284.420596 22.318125 \r\nL 285.030543 31.01573 \r\nL 285.640491 22.318125 \r\nL 286.860385 57.108531 \r\nL 287.470332 31.01573 \r\nL 288.080279 31.01573 \r\nL 288.690226 39.713321 \r\nL 289.300174 31.01573 \r\nL 290.520068 31.01573 \r\nL 291.130015 22.318125 \r\nL 291.739962 22.318125 \r\nL 292.349909 57.108531 \r\nL 292.959857 31.01573 \r\nL 293.569804 22.318125 \r\nL 294.179751 22.318125 \r\nL 294.789698 31.01573 \r\nL 295.399645 22.318125 \r\nL 296.009592 31.01573 \r\nL 296.61954 22.318125 \r\nL 297.229487 31.01573 \r\nL 297.839434 31.01573 \r\nL 298.449381 39.713321 \r\nL 299.059328 22.318125 \r\nL 299.669275 39.713321 \r\nL 300.279223 39.713321 \r\nL 300.88917 57.108531 \r\nL 302.109064 22.318125 \r\nL 302.719011 31.01573 \r\nL 303.328958 31.01573 \r\nL 303.938906 57.108531 \r\nL 306.378694 22.318125 \r\nL 306.988641 31.01573 \r\nL 307.598589 22.318125 \r\nL 308.208536 31.01573 \r\nL 308.818483 22.318125 \r\nL 309.42843 22.318125 \r\nL 310.038377 39.713321 \r\nL 311.258272 22.318125 \r\nL 311.868219 31.01573 \r\nL 313.69806 31.01573 \r\nL 314.308007 22.318125 \r\nL 314.917955 31.01573 \r\nL 315.527902 22.318125 \r\nL 316.137849 31.01573 \r\nL 316.747796 31.01573 \r\nL 317.357743 48.410926 \r\nL 319.187585 22.318125 \r\nL 319.797532 31.01573 \r\nL 320.407479 31.01573 \r\nL 321.017426 22.318125 \r\nL 321.627373 31.01573 \r\nL 322.237321 31.01573 \r\nL 322.847268 39.713321 \r\nL 323.457215 22.318125 \r\nL 324.067162 31.01573 \r\nL 324.677109 31.01573 \r\nL 325.287056 39.713321 \r\nL 325.897004 22.318125 \r\nL 326.506951 22.318125 \r\nL 327.116898 39.713321 \r\nL 327.726845 39.713321 \r\nL 328.94674 22.318125 \r\nL 329.556687 31.01573 \r\nL 330.166634 22.318125 \r\nL 330.776581 57.108531 \r\nL 331.386528 31.01573 \r\nL 331.996475 31.01573 \r\nL 332.606423 39.713321 \r\nL 333.21637 22.318125 \r\nL 333.826317 39.713321 \r\nL 335.046211 22.318125 \r\nL 335.656158 48.410926 \r\nL 336.266106 22.318125 \r\nL 336.876053 39.713321 \r\nL 337.486 22.318125 \r\nL 338.095947 22.318125 \r\nL 338.705894 39.713321 \r\nL 339.315841 48.410926 \r\nL 339.925789 22.318125 \r\nL 341.75563 48.410926 \r\nL 342.365577 48.410926 \r\nL 342.975524 22.318125 \r\nL 343.585472 22.318125 \r\nL 344.195419 39.713321 \r\nL 344.805366 31.01573 \r\nL 345.415313 48.410926 \r\nL 346.02526 48.410926 \r\nL 346.635207 22.318125 \r\nL 347.245155 31.01573 \r\nL 347.855102 31.01573 \r\nL 348.465049 22.318125 \r\nL 349.074996 22.318125 \r\nL 349.684943 39.713321 \r\nL 349.684943 39.713321 \r\n\" style=\"fill:none;stroke:#1f77b4;stroke-linecap:square;stroke-width:1.5;\"/>\r\n   </g>\r\n   <g id=\"line2d_14\">\r\n    <path clip-path=\"url(#p5445f13983)\" d=\"M 45.321307 213.253605 \r\nL 45.931254 192.839118 \r\nL 46.541201 167.707003 \r\nL 47.151148 136.141749 \r\nL 47.761095 133.654266 \r\nL 48.371043 134.254691 \r\nL 48.98099 126.620704 \r\nL 49.590937 121.388421 \r\nL 50.200884 119.758698 \r\nL 50.810831 116.156138 \r\nL 51.420778 120.78799 \r\nL 52.030726 120.78799 \r\nL 52.640673 118.214735 \r\nL 53.25062 114.183314 \r\nL 53.860567 114.869504 \r\nL 54.470514 109.637221 \r\nL 55.080461 106.463548 \r\nL 55.690409 107.407068 \r\nL 56.300356 104.319167 \r\nL 56.910303 104.147622 \r\nL 57.52025 107.835941 \r\nL 58.130197 108.779474 \r\nL 58.740144 107.235523 \r\nL 59.350092 101.488582 \r\nL 59.960039 98.572238 \r\nL 60.569986 97.199832 \r\nL 61.179933 94.111918 \r\nL 61.78988 91.967549 \r\nL 62.399827 91.624447 \r\nL 63.009775 86.049063 \r\nL 63.619722 84.419327 \r\nL 64.229669 89.222736 \r\nL 64.839616 89.994712 \r\nL 65.449563 82.875377 \r\nL 66.05951 87.764558 \r\nL 67.279405 79.530146 \r\nL 67.889352 80.302122 \r\nL 68.499299 84.076226 \r\nL 69.109246 91.881764 \r\nL 69.719194 85.791734 \r\nL 70.329141 72.839685 \r\nL 70.939088 78.15774 \r\nL 71.549035 79.358602 \r\nL 72.158982 79.187045 \r\nL 72.768929 73.182787 \r\nL 73.378877 72.496584 \r\nL 73.988824 73.354344 \r\nL 74.598771 82.446503 \r\nL 75.208718 74.555193 \r\nL 75.818665 71.038405 \r\nL 76.428612 68.207833 \r\nL 77.03856 66.320781 \r\nL 77.648507 63.061323 \r\nL 78.258454 65.119919 \r\nL 78.868401 64.262172 \r\nL 79.478348 60.745397 \r\nL 80.088295 61.688917 \r\nL 80.698243 62.889766 \r\nL 81.30819 59.801864 \r\nL 81.918137 61.946246 \r\nL 82.528084 63.061323 \r\nL 83.138031 62.975551 \r\nL 83.747978 58.686788 \r\nL 84.357926 56.628178 \r\nL 84.967873 60.31651 \r\nL 85.57782 60.659612 \r\nL 86.187767 63.061323 \r\nL 86.797714 60.831169 \r\nL 87.407661 57.743255 \r\nL 88.017609 58.000584 \r\nL 88.627556 61.517372 \r\nL 89.237503 65.97768 \r\nL 89.84745 64.1764 \r\nL 90.457397 59.201433 \r\nL 91.067344 55.684659 \r\nL 91.677292 56.28509 \r\nL 92.287239 53.282948 \r\nL 92.897186 53.197175 \r\nL 93.507133 51.310123 \r\nL 94.11708 52.253656 \r\nL 94.727027 52.4252 \r\nL 95.336975 51.824782 \r\nL 95.946922 53.282948 \r\nL 96.556869 54.054936 \r\nL 97.166816 51.567453 \r\nL 97.776763 51.310123 \r\nL 98.38671 49.423071 \r\nL 98.996658 48.050665 \r\nL 99.606605 48.393766 \r\nL 100.216552 50.366604 \r\nL 101.436446 48.82264 \r\nL 102.046393 48.651096 \r\nL 102.656341 48.994197 \r\nL 103.266288 48.736868 \r\nL 103.876235 50.195046 \r\nL 104.486182 53.368733 \r\nL 105.096129 52.939859 \r\nL 105.706076 50.366604 \r\nL 106.316024 50.795477 \r\nL 106.925971 49.07997 \r\nL 107.535918 48.736868 \r\nL 108.145865 47.364462 \r\nL 108.755812 46.592486 \r\nL 109.365759 48.736868 \r\nL 109.975707 49.766173 \r\nL 110.585654 48.050665 \r\nL 111.195601 49.423071 \r\nL 111.805548 49.680401 \r\nL 112.415495 51.738997 \r\nL 113.025442 51.653225 \r\nL 113.63539 48.994197 \r\nL 114.245337 50.452376 \r\nL 114.855284 48.307994 \r\nL 115.465231 47.021373 \r\nL 116.075178 44.448118 \r\nL 116.685125 45.305865 \r\nL 117.295073 46.935588 \r\nL 117.90502 47.450247 \r\nL 118.514967 50.195046 \r\nL 119.124914 49.680401 \r\nL 120.344808 45.391637 \r\nL 120.954756 48.994197 \r\nL 121.564703 53.626049 \r\nL 122.17465 52.68253 \r\nL 122.784597 50.280819 \r\nL 124.004491 46.849816 \r\nL 124.614439 46.163613 \r\nL 125.224386 46.592486 \r\nL 125.834333 44.619662 \r\nL 126.44428 48.050665 \r\nL 127.054227 47.450247 \r\nL 127.664174 46.420942 \r\nL 128.274122 47.621791 \r\nL 128.884069 46.163613 \r\nL 129.494016 45.47741 \r\nL 130.103963 43.676143 \r\nL 130.71391 45.734739 \r\nL 131.323857 46.849816 \r\nL 131.933805 49.680401 \r\nL 132.543752 48.479552 \r\nL 133.153699 46.420942 \r\nL 133.763646 43.075712 \r\nL 134.373593 43.590357 \r\nL 134.98354 42.046407 \r\nL 135.593488 41.445989 \r\nL 136.203435 42.475281 \r\nL 136.813382 42.818382 \r\nL 137.423329 42.818382 \r\nL 138.033276 44.791219 \r\nL 139.253171 45.391637 \r\nL 139.863118 43.933459 \r\nL 140.473065 41.789077 \r\nL 141.083012 42.475281 \r\nL 141.692959 41.617533 \r\nL 142.302906 39.301607 \r\nL 142.912854 39.816253 \r\nL 143.522801 41.017102 \r\nL 144.132748 39.473152 \r\nL 144.742695 42.818382 \r\nL 145.352642 42.217964 \r\nL 145.962589 43.676143 \r\nL 146.572537 45.906296 \r\nL 147.182484 46.33517 \r\nL 147.792431 39.215835 \r\nL 148.402378 38.701176 \r\nL 149.012325 39.730481 \r\nL 149.622272 40.330912 \r\nL 150.23222 42.303736 \r\nL 150.842167 43.504585 \r\nL 152.062061 44.962764 \r\nL 152.672008 42.904154 \r\nL 153.891903 43.504585 \r\nL 154.50185 45.734739 \r\nL 155.111797 47.364462 \r\nL 155.721744 47.192917 \r\nL 156.331691 47.536019 \r\nL 156.941638 47.192917 \r\nL 157.551586 46.678272 \r\nL 158.161533 44.019231 \r\nL 158.77148 44.53389 \r\nL 159.991374 53.197175 \r\nL 160.601321 45.992068 \r\nL 161.821216 41.274432 \r\nL 162.431163 42.904154 \r\nL 163.04111 43.676143 \r\nL 163.651057 44.791219 \r\nL 164.261004 39.816253 \r\nL 164.870952 40.159355 \r\nL 165.480899 39.558924 \r\nL 166.090846 39.473152 \r\nL 167.31074 42.132179 \r\nL 167.920687 43.161484 \r\nL 168.530635 42.132179 \r\nL 169.140582 43.075712 \r\nL 169.750529 42.303736 \r\nL 170.360476 44.962764 \r\nL 170.970423 48.82264 \r\nL 171.58037 48.994197 \r\nL 172.190318 42.904154 \r\nL 172.800265 39.387379 \r\nL 173.410212 40.588228 \r\nL 174.020159 41.188659 \r\nL 174.630106 40.502456 \r\nL 175.240053 37.757657 \r\nL 175.850001 38.701176 \r\nL 176.459948 42.73261 \r\nL 177.679842 38.701176 \r\nL 178.289789 38.786948 \r\nL 178.899736 37.757657 \r\nL 179.509684 37.32877 \r\nL 180.119631 38.18653 \r\nL 180.729578 37.071454 \r\nL 182.559419 37.32877 \r\nL 183.169367 37.929201 \r\nL 183.779314 36.556795 \r\nL 184.389261 40.502456 \r\nL 184.999208 40.330912 \r\nL 185.609155 41.531761 \r\nL 186.219102 41.531761 \r\nL 186.82905 43.247256 \r\nL 187.438997 42.904154 \r\nL 189.268838 36.64258 \r\nL 189.878785 39.044278 \r\nL 190.488733 42.217964 \r\nL 191.09868 41.617533 \r\nL 191.708627 41.360204 \r\nL 192.318574 40.073583 \r\nL 192.928521 40.416684 \r\nL 193.538468 40.502456 \r\nL 194.148416 40.93133 \r\nL 194.758363 37.157226 \r\nL 195.36831 36.042149 \r\nL 195.978257 36.899896 \r\nL 196.588204 36.213693 \r\nL 197.198151 38.272303 \r\nL 197.808099 36.556795 \r\nL 198.418046 37.757657 \r\nL 199.027993 40.416684 \r\nL 199.63794 41.531761 \r\nL 200.247887 40.416684 \r\nL 200.857834 39.558924 \r\nL 201.467782 40.245127 \r\nL 202.077729 41.531761 \r\nL 202.687676 42.217964 \r\nL 203.297623 43.075712 \r\nL 203.90757 39.473152 \r\nL 204.517517 38.100758 \r\nL 205.127465 38.18653 \r\nL 205.737412 35.699047 \r\nL 206.347359 36.728352 \r\nL 206.957306 38.272303 \r\nL 207.567253 38.958506 \r\nL 208.1772 38.443847 \r\nL 208.787148 37.242998 \r\nL 209.397095 38.100758 \r\nL 210.007042 38.615404 \r\nL 210.616989 38.701176 \r\nL 211.226936 38.18653 \r\nL 211.836883 39.558924 \r\nL 212.446831 38.872734 \r\nL 213.056778 38.786948 \r\nL 213.666725 40.93133 \r\nL 214.276672 39.387379 \r\nL 214.886619 40.073583 \r\nL 215.496566 38.958506 \r\nL 216.106514 39.902025 \r\nL 216.716461 38.18653 \r\nL 217.326408 37.929201 \r\nL 217.936355 36.814124 \r\nL 218.546302 36.556795 \r\nL 219.156249 37.929201 \r\nL 219.766197 36.556795 \r\nL 220.376144 36.38525 \r\nL 220.986091 37.843429 \r\nL 221.596038 38.014973 \r\nL 222.205985 40.159355 \r\nL 222.815932 39.387379 \r\nL 223.42588 38.272303 \r\nL 224.035827 38.529632 \r\nL 224.645774 37.671872 \r\nL 225.255721 36.213693 \r\nL 225.865668 35.956377 \r\nL 226.475615 36.127921 \r\nL 227.085563 38.18653 \r\nL 228.305457 37.671872 \r\nL 228.915404 38.615404 \r\nL 229.525351 38.014973 \r\nL 230.135298 38.272303 \r\nL 230.745246 39.644709 \r\nL 231.355193 38.701176 \r\nL 231.96514 39.215835 \r\nL 232.575087 36.042149 \r\nL 233.185034 36.127921 \r\nL 233.794981 36.728352 \r\nL 234.404929 36.213693 \r\nL 235.014876 37.929201 \r\nL 235.624823 38.100758 \r\nL 236.23477 36.64258 \r\nL 236.844717 35.870605 \r\nL 237.454664 36.728352 \r\nL 238.064612 35.012844 \r\nL 239.284506 36.985681 \r\nL 239.894453 36.471023 \r\nL 240.5044 36.299478 \r\nL 241.114347 34.927072 \r\nL 241.724295 35.441718 \r\nL 242.334242 34.326641 \r\nL 242.944189 35.699047 \r\nL 243.554136 34.155097 \r\nL 245.383978 40.159355 \r\nL 245.993925 38.443847 \r\nL 246.603872 37.929201 \r\nL 247.213819 37.242998 \r\nL 247.823766 39.13005 \r\nL 248.433713 39.044278 \r\nL 249.043661 38.100758 \r\nL 249.653608 38.958506 \r\nL 250.263555 41.617533 \r\nL 250.873502 42.73261 \r\nL 251.483449 37.414555 \r\nL 252.703344 39.644709 \r\nL 253.313291 35.699047 \r\nL 253.923238 34.755528 \r\nL 254.533185 34.155097 \r\nL 255.143132 35.784819 \r\nL 255.753079 39.13005 \r\nL 256.363027 41.445989 \r\nL 256.972974 41.102887 \r\nL 257.582921 41.274432 \r\nL 258.192868 38.272303 \r\nL 259.412762 36.556795 \r\nL 260.02271 37.242998 \r\nL 260.632657 35.784819 \r\nL 261.242604 34.8413 \r\nL 261.852551 34.155097 \r\nL 262.462498 33.125792 \r\nL 263.072445 36.556795 \r\nL 263.682393 38.786948 \r\nL 264.29234 35.270174 \r\nL 264.902287 34.240869 \r\nL 266.122181 39.473152 \r\nL 266.732128 41.531761 \r\nL 267.342076 40.93133 \r\nL 267.952023 40.759786 \r\nL 268.56197 38.529632 \r\nL 269.171917 39.816253 \r\nL 269.781864 36.899896 \r\nL 270.391811 37.757657 \r\nL 271.001759 35.956377 \r\nL 271.611706 35.441718 \r\nL 272.221653 35.956377 \r\nL 272.8316 35.699047 \r\nL 273.441547 37.32877 \r\nL 274.661442 34.58397 \r\nL 275.271389 35.355946 \r\nL 275.881336 34.58397 \r\nL 276.491283 35.527503 \r\nL 277.10123 35.613275 \r\nL 277.711177 35.184401 \r\nL 278.321125 35.441718 \r\nL 278.931072 35.184401 \r\nL 279.541019 35.870605 \r\nL 280.150966 36.728352 \r\nL 280.760913 39.473152 \r\nL 281.37086 40.93133 \r\nL 281.980808 42.046407 \r\nL 282.590755 39.98781 \r\nL 283.200702 39.301607 \r\nL 283.810649 39.902025 \r\nL 284.420596 39.044278 \r\nL 285.030543 37.929201 \r\nL 286.250438 39.044278 \r\nL 286.860385 36.556795 \r\nL 287.470332 35.441718 \r\nL 288.080279 36.213693 \r\nL 288.690226 36.299478 \r\nL 289.300174 36.556795 \r\nL 290.520068 37.671872 \r\nL 291.130015 36.985681 \r\nL 291.739962 37.071454 \r\nL 292.349909 37.586099 \r\nL 292.959857 34.927072 \r\nL 293.569804 34.155097 \r\nL 294.179751 33.983539 \r\nL 294.789698 34.498198 \r\nL 295.399645 33.726223 \r\nL 296.009592 34.240869 \r\nL 296.61954 34.326641 \r\nL 297.229487 34.927072 \r\nL 297.839434 34.240869 \r\nL 298.449381 34.669743 \r\nL 299.059328 34.069325 \r\nL 299.669275 35.441718 \r\nL 300.279223 36.299478 \r\nL 300.88917 35.270174 \r\nL 301.499117 37.32877 \r\nL 302.109064 38.529632 \r\nL 302.719011 41.102887 \r\nL 303.328958 42.046407 \r\nL 303.938906 40.073583 \r\nL 304.548853 36.899896 \r\nL 305.1588 35.355946 \r\nL 305.768747 36.127921 \r\nL 306.378694 37.414555 \r\nL 306.988641 36.042149 \r\nL 307.598589 35.184401 \r\nL 308.818483 36.64258 \r\nL 309.42843 37.242998 \r\nL 310.038377 36.299478 \r\nL 311.258272 36.471023 \r\nL 311.868219 36.127921 \r\nL 312.478166 37.157226 \r\nL 313.088113 36.299478 \r\nL 314.308007 36.042149 \r\nL 314.917955 35.613275 \r\nL 315.527902 34.8413 \r\nL 316.137849 33.468894 \r\nL 316.747796 34.8413 \r\nL 317.357743 35.870605 \r\nL 317.96769 34.927072 \r\nL 318.577638 36.299478 \r\nL 319.187585 37.071454 \r\nL 319.797532 36.38525 \r\nL 320.407479 36.299478 \r\nL 321.627373 35.012844 \r\nL 322.237321 35.956377 \r\nL 322.847268 36.471023 \r\nL 323.457215 35.613275 \r\nL 324.067162 35.527503 \r\nL 324.677109 36.042149 \r\nL 325.287056 34.069325 \r\nL 325.897004 34.069325 \r\nL 326.506951 34.927072 \r\nL 327.116898 34.927072 \r\nL 327.726845 36.64258 \r\nL 328.336792 35.699047 \r\nL 329.556687 36.042149 \r\nL 330.166634 37.071454 \r\nL 330.776581 36.899896 \r\nL 331.386528 35.870605 \r\nL 331.996475 33.897767 \r\nL 332.606423 34.8413 \r\nL 333.21637 36.38525 \r\nL 334.436264 35.956377 \r\nL 335.046211 35.441718 \r\nL 335.656158 36.64258 \r\nL 336.266106 34.155097 \r\nL 336.876053 33.640451 \r\nL 337.486 35.012844 \r\nL 338.095947 35.527503 \r\nL 338.705894 36.299478 \r\nL 339.315841 35.270174 \r\nL 339.925789 36.299478 \r\nL 340.535736 38.443847 \r\nL 341.145683 38.18653 \r\nL 341.75563 39.301607 \r\nL 342.365577 37.242998 \r\nL 342.975524 38.100758 \r\nL 343.585472 38.615404 \r\nL 344.195419 37.757657 \r\nL 344.805366 36.299478 \r\nL 345.415313 36.213693 \r\nL 346.02526 33.811995 \r\nL 346.635207 33.211564 \r\nL 347.245155 33.04002 \r\nL 347.855102 33.554666 \r\nL 348.465049 33.211564 \r\nL 349.684943 35.098616 \r\nL 349.684943 35.098616 \r\n\" style=\"fill:none;stroke:#ff7f0e;stroke-linecap:square;stroke-width:1.5;\"/>\r\n   </g>\r\n   <g id=\"patch_3\">\r\n    <path d=\"M 30.103125 239.758125 \r\nL 30.103125 22.318125 \r\n\" style=\"fill:none;stroke:#000000;stroke-linecap:square;stroke-linejoin:miter;stroke-width:0.8;\"/>\r\n   </g>\r\n   <g id=\"patch_4\">\r\n    <path d=\"M 364.903125 239.758125 \r\nL 364.903125 22.318125 \r\n\" style=\"fill:none;stroke:#000000;stroke-linecap:square;stroke-linejoin:miter;stroke-width:0.8;\"/>\r\n   </g>\r\n   <g id=\"patch_5\">\r\n    <path d=\"M 30.103125 239.758125 \r\nL 364.903125 239.758125 \r\n\" style=\"fill:none;stroke:#000000;stroke-linecap:square;stroke-linejoin:miter;stroke-width:0.8;\"/>\r\n   </g>\r\n   <g id=\"patch_6\">\r\n    <path d=\"M 30.103125 22.318125 \r\nL 364.903125 22.318125 \r\n\" style=\"fill:none;stroke:#000000;stroke-linecap:square;stroke-linejoin:miter;stroke-width:0.8;\"/>\r\n   </g>\r\n   <g id=\"text_13\">\r\n    <!-- Training and validation accuracy -->\r\n    <g transform=\"translate(100.21125 16.318125)scale(0.12 -0.12)\">\r\n     <defs>\r\n      <path d=\"M -0.296875 72.90625 \r\nL 61.375 72.90625 \r\nL 61.375 64.59375 \r\nL 35.5 64.59375 \r\nL 35.5 0 \r\nL 25.59375 0 \r\nL 25.59375 64.59375 \r\nL -0.296875 64.59375 \r\nz\r\n\" id=\"DejaVuSans-84\"/>\r\n      <path d=\"M 41.109375 46.296875 \r\nQ 39.59375 47.171875 37.8125 47.578125 \r\nQ 36.03125 48 33.890625 48 \r\nQ 26.265625 48 22.1875 43.046875 \r\nQ 18.109375 38.09375 18.109375 28.8125 \r\nL 18.109375 0 \r\nL 9.078125 0 \r\nL 9.078125 54.6875 \r\nL 18.109375 54.6875 \r\nL 18.109375 46.1875 \r\nQ 20.953125 51.171875 25.484375 53.578125 \r\nQ 30.03125 56 36.53125 56 \r\nQ 37.453125 56 38.578125 55.875 \r\nQ 39.703125 55.765625 41.0625 55.515625 \r\nz\r\n\" id=\"DejaVuSans-114\"/>\r\n      <path d=\"M 34.28125 27.484375 \r\nQ 23.390625 27.484375 19.1875 25 \r\nQ 14.984375 22.515625 14.984375 16.5 \r\nQ 14.984375 11.71875 18.140625 8.90625 \r\nQ 21.296875 6.109375 26.703125 6.109375 \r\nQ 34.1875 6.109375 38.703125 11.40625 \r\nQ 43.21875 16.703125 43.21875 25.484375 \r\nL 43.21875 27.484375 \r\nz\r\nM 52.203125 31.203125 \r\nL 52.203125 0 \r\nL 43.21875 0 \r\nL 43.21875 8.296875 \r\nQ 40.140625 3.328125 35.546875 0.953125 \r\nQ 30.953125 -1.421875 24.3125 -1.421875 \r\nQ 15.921875 -1.421875 10.953125 3.296875 \r\nQ 6 8.015625 6 15.921875 \r\nQ 6 25.140625 12.171875 29.828125 \r\nQ 18.359375 34.515625 30.609375 34.515625 \r\nL 43.21875 34.515625 \r\nL 43.21875 35.40625 \r\nQ 43.21875 41.609375 39.140625 45 \r\nQ 35.0625 48.390625 27.6875 48.390625 \r\nQ 23 48.390625 18.546875 47.265625 \r\nQ 14.109375 46.140625 10.015625 43.890625 \r\nL 10.015625 52.203125 \r\nQ 14.9375 54.109375 19.578125 55.046875 \r\nQ 24.21875 56 28.609375 56 \r\nQ 40.484375 56 46.34375 49.84375 \r\nQ 52.203125 43.703125 52.203125 31.203125 \r\nz\r\n\" id=\"DejaVuSans-97\"/>\r\n      <path d=\"M 9.421875 54.6875 \r\nL 18.40625 54.6875 \r\nL 18.40625 0 \r\nL 9.421875 0 \r\nz\r\nM 9.421875 75.984375 \r\nL 18.40625 75.984375 \r\nL 18.40625 64.59375 \r\nL 9.421875 64.59375 \r\nz\r\n\" id=\"DejaVuSans-105\"/>\r\n      <path d=\"M 54.890625 33.015625 \r\nL 54.890625 0 \r\nL 45.90625 0 \r\nL 45.90625 32.71875 \r\nQ 45.90625 40.484375 42.875 44.328125 \r\nQ 39.84375 48.1875 33.796875 48.1875 \r\nQ 26.515625 48.1875 22.3125 43.546875 \r\nQ 18.109375 38.921875 18.109375 30.90625 \r\nL 18.109375 0 \r\nL 9.078125 0 \r\nL 9.078125 54.6875 \r\nL 18.109375 54.6875 \r\nL 18.109375 46.1875 \r\nQ 21.34375 51.125 25.703125 53.5625 \r\nQ 30.078125 56 35.796875 56 \r\nQ 45.21875 56 50.046875 50.171875 \r\nQ 54.890625 44.34375 54.890625 33.015625 \r\nz\r\n\" id=\"DejaVuSans-110\"/>\r\n      <path d=\"M 45.40625 27.984375 \r\nQ 45.40625 37.75 41.375 43.109375 \r\nQ 37.359375 48.484375 30.078125 48.484375 \r\nQ 22.859375 48.484375 18.828125 43.109375 \r\nQ 14.796875 37.75 14.796875 27.984375 \r\nQ 14.796875 18.265625 18.828125 12.890625 \r\nQ 22.859375 7.515625 30.078125 7.515625 \r\nQ 37.359375 7.515625 41.375 12.890625 \r\nQ 45.40625 18.265625 45.40625 27.984375 \r\nz\r\nM 54.390625 6.78125 \r\nQ 54.390625 -7.171875 48.1875 -13.984375 \r\nQ 42 -20.796875 29.203125 -20.796875 \r\nQ 24.46875 -20.796875 20.265625 -20.09375 \r\nQ 16.0625 -19.390625 12.109375 -17.921875 \r\nL 12.109375 -9.1875 \r\nQ 16.0625 -11.328125 19.921875 -12.34375 \r\nQ 23.78125 -13.375 27.78125 -13.375 \r\nQ 36.625 -13.375 41.015625 -8.765625 \r\nQ 45.40625 -4.15625 45.40625 5.171875 \r\nL 45.40625 9.625 \r\nQ 42.625 4.78125 38.28125 2.390625 \r\nQ 33.9375 0 27.875 0 \r\nQ 17.828125 0 11.671875 7.65625 \r\nQ 5.515625 15.328125 5.515625 27.984375 \r\nQ 5.515625 40.671875 11.671875 48.328125 \r\nQ 17.828125 56 27.875 56 \r\nQ 33.9375 56 38.28125 53.609375 \r\nQ 42.625 51.21875 45.40625 46.390625 \r\nL 45.40625 54.6875 \r\nL 54.390625 54.6875 \r\nz\r\n\" id=\"DejaVuSans-103\"/>\r\n      <path id=\"DejaVuSans-32\"/>\r\n      <path d=\"M 45.40625 46.390625 \r\nL 45.40625 75.984375 \r\nL 54.390625 75.984375 \r\nL 54.390625 0 \r\nL 45.40625 0 \r\nL 45.40625 8.203125 \r\nQ 42.578125 3.328125 38.25 0.953125 \r\nQ 33.9375 -1.421875 27.875 -1.421875 \r\nQ 17.96875 -1.421875 11.734375 6.484375 \r\nQ 5.515625 14.40625 5.515625 27.296875 \r\nQ 5.515625 40.1875 11.734375 48.09375 \r\nQ 17.96875 56 27.875 56 \r\nQ 33.9375 56 38.25 53.625 \r\nQ 42.578125 51.265625 45.40625 46.390625 \r\nz\r\nM 14.796875 27.296875 \r\nQ 14.796875 17.390625 18.875 11.75 \r\nQ 22.953125 6.109375 30.078125 6.109375 \r\nQ 37.203125 6.109375 41.296875 11.75 \r\nQ 45.40625 17.390625 45.40625 27.296875 \r\nQ 45.40625 37.203125 41.296875 42.84375 \r\nQ 37.203125 48.484375 30.078125 48.484375 \r\nQ 22.953125 48.484375 18.875 42.84375 \r\nQ 14.796875 37.203125 14.796875 27.296875 \r\nz\r\n\" id=\"DejaVuSans-100\"/>\r\n      <path d=\"M 2.984375 54.6875 \r\nL 12.5 54.6875 \r\nL 29.59375 8.796875 \r\nL 46.6875 54.6875 \r\nL 56.203125 54.6875 \r\nL 35.6875 0 \r\nL 23.484375 0 \r\nz\r\n\" id=\"DejaVuSans-118\"/>\r\n      <path d=\"M 9.421875 75.984375 \r\nL 18.40625 75.984375 \r\nL 18.40625 0 \r\nL 9.421875 0 \r\nz\r\n\" id=\"DejaVuSans-108\"/>\r\n      <path d=\"M 18.3125 70.21875 \r\nL 18.3125 54.6875 \r\nL 36.8125 54.6875 \r\nL 36.8125 47.703125 \r\nL 18.3125 47.703125 \r\nL 18.3125 18.015625 \r\nQ 18.3125 11.328125 20.140625 9.421875 \r\nQ 21.96875 7.515625 27.59375 7.515625 \r\nL 36.8125 7.515625 \r\nL 36.8125 0 \r\nL 27.59375 0 \r\nQ 17.1875 0 13.234375 3.875 \r\nQ 9.28125 7.765625 9.28125 18.015625 \r\nL 9.28125 47.703125 \r\nL 2.6875 47.703125 \r\nL 2.6875 54.6875 \r\nL 9.28125 54.6875 \r\nL 9.28125 70.21875 \r\nz\r\n\" id=\"DejaVuSans-116\"/>\r\n      <path d=\"M 30.609375 48.390625 \r\nQ 23.390625 48.390625 19.1875 42.75 \r\nQ 14.984375 37.109375 14.984375 27.296875 \r\nQ 14.984375 17.484375 19.15625 11.84375 \r\nQ 23.34375 6.203125 30.609375 6.203125 \r\nQ 37.796875 6.203125 41.984375 11.859375 \r\nQ 46.1875 17.53125 46.1875 27.296875 \r\nQ 46.1875 37.015625 41.984375 42.703125 \r\nQ 37.796875 48.390625 30.609375 48.390625 \r\nz\r\nM 30.609375 56 \r\nQ 42.328125 56 49.015625 48.375 \r\nQ 55.71875 40.765625 55.71875 27.296875 \r\nQ 55.71875 13.875 49.015625 6.21875 \r\nQ 42.328125 -1.421875 30.609375 -1.421875 \r\nQ 18.84375 -1.421875 12.171875 6.21875 \r\nQ 5.515625 13.875 5.515625 27.296875 \r\nQ 5.515625 40.765625 12.171875 48.375 \r\nQ 18.84375 56 30.609375 56 \r\nz\r\n\" id=\"DejaVuSans-111\"/>\r\n      <path d=\"M 48.78125 52.59375 \r\nL 48.78125 44.1875 \r\nQ 44.96875 46.296875 41.140625 47.34375 \r\nQ 37.3125 48.390625 33.40625 48.390625 \r\nQ 24.65625 48.390625 19.8125 42.84375 \r\nQ 14.984375 37.3125 14.984375 27.296875 \r\nQ 14.984375 17.28125 19.8125 11.734375 \r\nQ 24.65625 6.203125 33.40625 6.203125 \r\nQ 37.3125 6.203125 41.140625 7.25 \r\nQ 44.96875 8.296875 48.78125 10.40625 \r\nL 48.78125 2.09375 \r\nQ 45.015625 0.34375 40.984375 -0.53125 \r\nQ 36.96875 -1.421875 32.421875 -1.421875 \r\nQ 20.0625 -1.421875 12.78125 6.34375 \r\nQ 5.515625 14.109375 5.515625 27.296875 \r\nQ 5.515625 40.671875 12.859375 48.328125 \r\nQ 20.21875 56 33.015625 56 \r\nQ 37.15625 56 41.109375 55.140625 \r\nQ 45.0625 54.296875 48.78125 52.59375 \r\nz\r\n\" id=\"DejaVuSans-99\"/>\r\n      <path d=\"M 8.5 21.578125 \r\nL 8.5 54.6875 \r\nL 17.484375 54.6875 \r\nL 17.484375 21.921875 \r\nQ 17.484375 14.15625 20.5 10.265625 \r\nQ 23.53125 6.390625 29.59375 6.390625 \r\nQ 36.859375 6.390625 41.078125 11.03125 \r\nQ 45.3125 15.671875 45.3125 23.6875 \r\nL 45.3125 54.6875 \r\nL 54.296875 54.6875 \r\nL 54.296875 0 \r\nL 45.3125 0 \r\nL 45.3125 8.40625 \r\nQ 42.046875 3.421875 37.71875 1 \r\nQ 33.40625 -1.421875 27.6875 -1.421875 \r\nQ 18.265625 -1.421875 13.375 4.4375 \r\nQ 8.5 10.296875 8.5 21.578125 \r\nz\r\nM 31.109375 56 \r\nz\r\n\" id=\"DejaVuSans-117\"/>\r\n      <path d=\"M 32.171875 -5.078125 \r\nQ 28.375 -14.84375 24.75 -17.8125 \r\nQ 21.140625 -20.796875 15.09375 -20.796875 \r\nL 7.90625 -20.796875 \r\nL 7.90625 -13.28125 \r\nL 13.1875 -13.28125 \r\nQ 16.890625 -13.28125 18.9375 -11.515625 \r\nQ 21 -9.765625 23.484375 -3.21875 \r\nL 25.09375 0.875 \r\nL 2.984375 54.6875 \r\nL 12.5 54.6875 \r\nL 29.59375 11.921875 \r\nL 46.6875 54.6875 \r\nL 56.203125 54.6875 \r\nz\r\n\" id=\"DejaVuSans-121\"/>\r\n     </defs>\r\n     <use xlink:href=\"#DejaVuSans-84\"/>\r\n     <use x=\"46.333984\" xlink:href=\"#DejaVuSans-114\"/>\r\n     <use x=\"87.447266\" xlink:href=\"#DejaVuSans-97\"/>\r\n     <use x=\"148.726562\" xlink:href=\"#DejaVuSans-105\"/>\r\n     <use x=\"176.509766\" xlink:href=\"#DejaVuSans-110\"/>\r\n     <use x=\"239.888672\" xlink:href=\"#DejaVuSans-105\"/>\r\n     <use x=\"267.671875\" xlink:href=\"#DejaVuSans-110\"/>\r\n     <use x=\"331.050781\" xlink:href=\"#DejaVuSans-103\"/>\r\n     <use x=\"394.527344\" xlink:href=\"#DejaVuSans-32\"/>\r\n     <use x=\"426.314453\" xlink:href=\"#DejaVuSans-97\"/>\r\n     <use x=\"487.59375\" xlink:href=\"#DejaVuSans-110\"/>\r\n     <use x=\"550.972656\" xlink:href=\"#DejaVuSans-100\"/>\r\n     <use x=\"614.449219\" xlink:href=\"#DejaVuSans-32\"/>\r\n     <use x=\"646.236328\" xlink:href=\"#DejaVuSans-118\"/>\r\n     <use x=\"705.416016\" xlink:href=\"#DejaVuSans-97\"/>\r\n     <use x=\"766.695312\" xlink:href=\"#DejaVuSans-108\"/>\r\n     <use x=\"794.478516\" xlink:href=\"#DejaVuSans-105\"/>\r\n     <use x=\"822.261719\" xlink:href=\"#DejaVuSans-100\"/>\r\n     <use x=\"885.738281\" xlink:href=\"#DejaVuSans-97\"/>\r\n     <use x=\"947.017578\" xlink:href=\"#DejaVuSans-116\"/>\r\n     <use x=\"986.226562\" xlink:href=\"#DejaVuSans-105\"/>\r\n     <use x=\"1014.009766\" xlink:href=\"#DejaVuSans-111\"/>\r\n     <use x=\"1075.191406\" xlink:href=\"#DejaVuSans-110\"/>\r\n     <use x=\"1138.570312\" xlink:href=\"#DejaVuSans-32\"/>\r\n     <use x=\"1170.357422\" xlink:href=\"#DejaVuSans-97\"/>\r\n     <use x=\"1231.636719\" xlink:href=\"#DejaVuSans-99\"/>\r\n     <use x=\"1286.617188\" xlink:href=\"#DejaVuSans-99\"/>\r\n     <use x=\"1341.597656\" xlink:href=\"#DejaVuSans-117\"/>\r\n     <use x=\"1404.976562\" xlink:href=\"#DejaVuSans-114\"/>\r\n     <use x=\"1446.089844\" xlink:href=\"#DejaVuSans-97\"/>\r\n     <use x=\"1507.369141\" xlink:href=\"#DejaVuSans-99\"/>\r\n     <use x=\"1562.349609\" xlink:href=\"#DejaVuSans-121\"/>\r\n    </g>\r\n   </g>\r\n  </g>\r\n </g>\r\n <defs>\r\n  <clipPath id=\"p5445f13983\">\r\n   <rect height=\"217.44\" width=\"334.8\" x=\"30.103125\" y=\"22.318125\"/>\r\n  </clipPath>\r\n </defs>\r\n</svg>\r\n",
      "image/png": "[encoded data removed]"
     },
     "metadata": {
      "needs_background": "light"
     }
    },
    {
     "output_type": "display_data",
     "data": {
      "text/plain": "<Figure size 432x288 with 1 Axes>",
      "image/svg+xml": "<?xml version=\"1.0\" encoding=\"utf-8\" standalone=\"no\"?>\r\n<!DOCTYPE svg PUBLIC \"-//W3C//DTD SVG 1.1//EN\"\r\n  \"http://www.w3.org/Graphics/SVG/1.1/DTD/svg11.dtd\">\r\n<!-- Created with matplotlib (https://matplotlib.org/) -->\r\n<svg height=\"263.63625pt\" version=\"1.1\" viewBox=\"0 0 368.925 263.63625\" width=\"368.925pt\" xmlns=\"http://www.w3.org/2000/svg\" xmlns:xlink=\"http://www.w3.org/1999/xlink\">\r\n <metadata>\r\n  <rdf:RDF xmlns:cc=\"http://creativecommons.org/ns#\" xmlns:dc=\"http://purl.org/dc/elements/1.1/\" xmlns:rdf=\"http://www.w3.org/1999/02/22-rdf-syntax-ns#\">\r\n   <cc:Work>\r\n    <dc:type rdf:resource=\"http://purl.org/dc/dcmitype/StillImage\"/>\r\n    <dc:date>2021-06-08T21:22:13.396115</dc:date>\r\n    <dc:format>image/svg+xml</dc:format>\r\n    <dc:creator>\r\n     <cc:Agent>\r\n      <dc:title>Matplotlib v3.3.3, https://matplotlib.org/</dc:title>\r\n     </cc:Agent>\r\n    </dc:creator>\r\n   </cc:Work>\r\n  </rdf:RDF>\r\n </metadata>\r\n <defs>\r\n  <style type=\"text/css\">*{stroke-linecap:butt;stroke-linejoin:round;}</style>\r\n </defs>\r\n <g id=\"figure_1\">\r\n  <g id=\"patch_1\">\r\n   <path d=\"M -0 263.63625 \r\nL 368.925 263.63625 \r\nL 368.925 0 \r\nL -0 0 \r\nz\r\n\" style=\"fill:none;\"/>\r\n  </g>\r\n  <g id=\"axes_1\">\r\n   <g id=\"patch_2\">\r\n    <path d=\"M 26.925 239.758125 \r\nL 361.725 239.758125 \r\nL 361.725 22.318125 \r\nL 26.925 22.318125 \r\nz\r\n\" style=\"fill:#ffffff;\"/>\r\n   </g>\r\n   <g id=\"matplotlib.axis_1\">\r\n    <g id=\"xtick_1\">\r\n     <g id=\"line2d_1\">\r\n      <defs>\r\n       <path d=\"M 0 0 \r\nL 0 3.5 \r\n\" id=\"m8c7b91aada\" style=\"stroke:#000000;stroke-width:0.8;\"/>\r\n      </defs>\r\n      <g>\r\n       <use style=\"stroke:#000000;stroke-width:0.8;\" x=\"42.143182\" xlink:href=\"#m8c7b91aada\" y=\"239.758125\"/>\r\n      </g>\r\n     </g>\r\n     <g id=\"text_1\">\r\n      <!-- 0 -->\r\n      <g transform=\"translate(38.961932 254.356563)scale(0.1 -0.1)\">\r\n       <defs>\r\n        <path d=\"M 31.78125 66.40625 \r\nQ 24.171875 66.40625 20.328125 58.90625 \r\nQ 16.5 51.421875 16.5 36.375 \r\nQ 16.5 21.390625 20.328125 13.890625 \r\nQ 24.171875 6.390625 31.78125 6.390625 \r\nQ 39.453125 6.390625 43.28125 13.890625 \r\nQ 47.125 21.390625 47.125 36.375 \r\nQ 47.125 51.421875 43.28125 58.90625 \r\nQ 39.453125 66.40625 31.78125 66.40625 \r\nz\r\nM 31.78125 74.21875 \r\nQ 44.046875 74.21875 50.515625 64.515625 \r\nQ 56.984375 54.828125 56.984375 36.375 \r\nQ 56.984375 17.96875 50.515625 8.265625 \r\nQ 44.046875 -1.421875 31.78125 -1.421875 \r\nQ 19.53125 -1.421875 13.0625 8.265625 \r\nQ 6.59375 17.96875 6.59375 36.375 \r\nQ 6.59375 54.828125 13.0625 64.515625 \r\nQ 19.53125 74.21875 31.78125 74.21875 \r\nz\r\n\" id=\"DejaVuSans-48\"/>\r\n       </defs>\r\n       <use xlink:href=\"#DejaVuSans-48\"/>\r\n      </g>\r\n     </g>\r\n    </g>\r\n    <g id=\"xtick_2\">\r\n     <g id=\"line2d_2\">\r\n      <g>\r\n       <use style=\"stroke:#000000;stroke-width:0.8;\" x=\"103.137899\" xlink:href=\"#m8c7b91aada\" y=\"239.758125\"/>\r\n      </g>\r\n     </g>\r\n     <g id=\"text_2\">\r\n      <!-- 100 -->\r\n      <g transform=\"translate(93.594149 254.356563)scale(0.1 -0.1)\">\r\n       <defs>\r\n        <path d=\"M 12.40625 8.296875 \r\nL 28.515625 8.296875 \r\nL 28.515625 63.921875 \r\nL 10.984375 60.40625 \r\nL 10.984375 69.390625 \r\nL 28.421875 72.90625 \r\nL 38.28125 72.90625 \r\nL 38.28125 8.296875 \r\nL 54.390625 8.296875 \r\nL 54.390625 0 \r\nL 12.40625 0 \r\nz\r\n\" id=\"DejaVuSans-49\"/>\r\n       </defs>\r\n       <use xlink:href=\"#DejaVuSans-49\"/>\r\n       <use x=\"63.623047\" xlink:href=\"#DejaVuSans-48\"/>\r\n       <use x=\"127.246094\" xlink:href=\"#DejaVuSans-48\"/>\r\n      </g>\r\n     </g>\r\n    </g>\r\n    <g id=\"xtick_3\">\r\n     <g id=\"line2d_3\">\r\n      <g>\r\n       <use style=\"stroke:#000000;stroke-width:0.8;\" x=\"164.132615\" xlink:href=\"#m8c7b91aada\" y=\"239.758125\"/>\r\n      </g>\r\n     </g>\r\n     <g id=\"text_3\">\r\n      <!-- 200 -->\r\n      <g transform=\"translate(154.588865 254.356563)scale(0.1 -0.1)\">\r\n       <defs>\r\n        <path d=\"M 19.1875 8.296875 \r\nL 53.609375 8.296875 \r\nL 53.609375 0 \r\nL 7.328125 0 \r\nL 7.328125 8.296875 \r\nQ 12.9375 14.109375 22.625 23.890625 \r\nQ 32.328125 33.6875 34.8125 36.53125 \r\nQ 39.546875 41.84375 41.421875 45.53125 \r\nQ 43.3125 49.21875 43.3125 52.78125 \r\nQ 43.3125 58.59375 39.234375 62.25 \r\nQ 35.15625 65.921875 28.609375 65.921875 \r\nQ 23.96875 65.921875 18.8125 64.3125 \r\nQ 13.671875 62.703125 7.8125 59.421875 \r\nL 7.8125 69.390625 \r\nQ 13.765625 71.78125 18.9375 73 \r\nQ 24.125 74.21875 28.421875 74.21875 \r\nQ 39.75 74.21875 46.484375 68.546875 \r\nQ 53.21875 62.890625 53.21875 53.421875 \r\nQ 53.21875 48.921875 51.53125 44.890625 \r\nQ 49.859375 40.875 45.40625 35.40625 \r\nQ 44.1875 33.984375 37.640625 27.21875 \r\nQ 31.109375 20.453125 19.1875 8.296875 \r\nz\r\n\" id=\"DejaVuSans-50\"/>\r\n       </defs>\r\n       <use xlink:href=\"#DejaVuSans-50\"/>\r\n       <use x=\"63.623047\" xlink:href=\"#DejaVuSans-48\"/>\r\n       <use x=\"127.246094\" xlink:href=\"#DejaVuSans-48\"/>\r\n      </g>\r\n     </g>\r\n    </g>\r\n    <g id=\"xtick_4\">\r\n     <g id=\"line2d_4\">\r\n      <g>\r\n       <use style=\"stroke:#000000;stroke-width:0.8;\" x=\"225.127332\" xlink:href=\"#m8c7b91aada\" y=\"239.758125\"/>\r\n      </g>\r\n     </g>\r\n     <g id=\"text_4\">\r\n      <!-- 300 -->\r\n      <g transform=\"translate(215.583582 254.356563)scale(0.1 -0.1)\">\r\n       <defs>\r\n        <path d=\"M 40.578125 39.3125 \r\nQ 47.65625 37.796875 51.625 33 \r\nQ 55.609375 28.21875 55.609375 21.1875 \r\nQ 55.609375 10.40625 48.1875 4.484375 \r\nQ 40.765625 -1.421875 27.09375 -1.421875 \r\nQ 22.515625 -1.421875 17.65625 -0.515625 \r\nQ 12.796875 0.390625 7.625 2.203125 \r\nL 7.625 11.71875 \r\nQ 11.71875 9.328125 16.59375 8.109375 \r\nQ 21.484375 6.890625 26.8125 6.890625 \r\nQ 36.078125 6.890625 40.9375 10.546875 \r\nQ 45.796875 14.203125 45.796875 21.1875 \r\nQ 45.796875 27.640625 41.28125 31.265625 \r\nQ 36.765625 34.90625 28.71875 34.90625 \r\nL 20.21875 34.90625 \r\nL 20.21875 43.015625 \r\nL 29.109375 43.015625 \r\nQ 36.375 43.015625 40.234375 45.921875 \r\nQ 44.09375 48.828125 44.09375 54.296875 \r\nQ 44.09375 59.90625 40.109375 62.90625 \r\nQ 36.140625 65.921875 28.71875 65.921875 \r\nQ 24.65625 65.921875 20.015625 65.03125 \r\nQ 15.375 64.15625 9.8125 62.3125 \r\nL 9.8125 71.09375 \r\nQ 15.4375 72.65625 20.34375 73.4375 \r\nQ 25.25 74.21875 29.59375 74.21875 \r\nQ 40.828125 74.21875 47.359375 69.109375 \r\nQ 53.90625 64.015625 53.90625 55.328125 \r\nQ 53.90625 49.265625 50.4375 45.09375 \r\nQ 46.96875 40.921875 40.578125 39.3125 \r\nz\r\n\" id=\"DejaVuSans-51\"/>\r\n       </defs>\r\n       <use xlink:href=\"#DejaVuSans-51\"/>\r\n       <use x=\"63.623047\" xlink:href=\"#DejaVuSans-48\"/>\r\n       <use x=\"127.246094\" xlink:href=\"#DejaVuSans-48\"/>\r\n      </g>\r\n     </g>\r\n    </g>\r\n    <g id=\"xtick_5\">\r\n     <g id=\"line2d_5\">\r\n      <g>\r\n       <use style=\"stroke:#000000;stroke-width:0.8;\" x=\"286.122049\" xlink:href=\"#m8c7b91aada\" y=\"239.758125\"/>\r\n      </g>\r\n     </g>\r\n     <g id=\"text_5\">\r\n      <!-- 400 -->\r\n      <g transform=\"translate(276.578299 254.356563)scale(0.1 -0.1)\">\r\n       <defs>\r\n        <path d=\"M 37.796875 64.3125 \r\nL 12.890625 25.390625 \r\nL 37.796875 25.390625 \r\nz\r\nM 35.203125 72.90625 \r\nL 47.609375 72.90625 \r\nL 47.609375 25.390625 \r\nL 58.015625 25.390625 \r\nL 58.015625 17.1875 \r\nL 47.609375 17.1875 \r\nL 47.609375 0 \r\nL 37.796875 0 \r\nL 37.796875 17.1875 \r\nL 4.890625 17.1875 \r\nL 4.890625 26.703125 \r\nz\r\n\" id=\"DejaVuSans-52\"/>\r\n       </defs>\r\n       <use xlink:href=\"#DejaVuSans-52\"/>\r\n       <use x=\"63.623047\" xlink:href=\"#DejaVuSans-48\"/>\r\n       <use x=\"127.246094\" xlink:href=\"#DejaVuSans-48\"/>\r\n      </g>\r\n     </g>\r\n    </g>\r\n    <g id=\"xtick_6\">\r\n     <g id=\"line2d_6\">\r\n      <g>\r\n       <use style=\"stroke:#000000;stroke-width:0.8;\" x=\"347.116765\" xlink:href=\"#m8c7b91aada\" y=\"239.758125\"/>\r\n      </g>\r\n     </g>\r\n     <g id=\"text_6\">\r\n      <!-- 500 -->\r\n      <g transform=\"translate(337.573015 254.356563)scale(0.1 -0.1)\">\r\n       <defs>\r\n        <path d=\"M 10.796875 72.90625 \r\nL 49.515625 72.90625 \r\nL 49.515625 64.59375 \r\nL 19.828125 64.59375 \r\nL 19.828125 46.734375 \r\nQ 21.96875 47.46875 24.109375 47.828125 \r\nQ 26.265625 48.1875 28.421875 48.1875 \r\nQ 40.625 48.1875 47.75 41.5 \r\nQ 54.890625 34.8125 54.890625 23.390625 \r\nQ 54.890625 11.625 47.5625 5.09375 \r\nQ 40.234375 -1.421875 26.90625 -1.421875 \r\nQ 22.3125 -1.421875 17.546875 -0.640625 \r\nQ 12.796875 0.140625 7.71875 1.703125 \r\nL 7.71875 11.625 \r\nQ 12.109375 9.234375 16.796875 8.0625 \r\nQ 21.484375 6.890625 26.703125 6.890625 \r\nQ 35.15625 6.890625 40.078125 11.328125 \r\nQ 45.015625 15.765625 45.015625 23.390625 \r\nQ 45.015625 31 40.078125 35.4375 \r\nQ 35.15625 39.890625 26.703125 39.890625 \r\nQ 22.75 39.890625 18.8125 39.015625 \r\nQ 14.890625 38.140625 10.796875 36.28125 \r\nz\r\n\" id=\"DejaVuSans-53\"/>\r\n       </defs>\r\n       <use xlink:href=\"#DejaVuSans-53\"/>\r\n       <use x=\"63.623047\" xlink:href=\"#DejaVuSans-48\"/>\r\n       <use x=\"127.246094\" xlink:href=\"#DejaVuSans-48\"/>\r\n      </g>\r\n     </g>\r\n    </g>\r\n   </g>\r\n   <g id=\"matplotlib.axis_2\">\r\n    <g id=\"ytick_1\">\r\n     <g id=\"line2d_7\">\r\n      <defs>\r\n       <path d=\"M 0 0 \r\nL -3.5 0 \r\n\" id=\"mf04616711e\" style=\"stroke:#000000;stroke-width:0.8;\"/>\r\n      </defs>\r\n      <g>\r\n       <use style=\"stroke:#000000;stroke-width:0.8;\" x=\"26.925\" xlink:href=\"#mf04616711e\" y=\"229.8918\"/>\r\n      </g>\r\n     </g>\r\n     <g id=\"text_7\">\r\n      <!-- 0 -->\r\n      <g transform=\"translate(13.5625 233.691019)scale(0.1 -0.1)\">\r\n       <use xlink:href=\"#DejaVuSans-48\"/>\r\n      </g>\r\n     </g>\r\n    </g>\r\n    <g id=\"ytick_2\">\r\n     <g id=\"line2d_8\">\r\n      <g>\r\n       <use style=\"stroke:#000000;stroke-width:0.8;\" x=\"26.925\" xlink:href=\"#mf04616711e\" y=\"189.808463\"/>\r\n      </g>\r\n     </g>\r\n     <g id=\"text_8\">\r\n      <!-- 5 -->\r\n      <g transform=\"translate(13.5625 193.607682)scale(0.1 -0.1)\">\r\n       <use xlink:href=\"#DejaVuSans-53\"/>\r\n      </g>\r\n     </g>\r\n    </g>\r\n    <g id=\"ytick_3\">\r\n     <g id=\"line2d_9\">\r\n      <g>\r\n       <use style=\"stroke:#000000;stroke-width:0.8;\" x=\"26.925\" xlink:href=\"#mf04616711e\" y=\"149.725126\"/>\r\n      </g>\r\n     </g>\r\n     <g id=\"text_9\">\r\n      <!-- 10 -->\r\n      <g transform=\"translate(7.2 153.524345)scale(0.1 -0.1)\">\r\n       <use xlink:href=\"#DejaVuSans-49\"/>\r\n       <use x=\"63.623047\" xlink:href=\"#DejaVuSans-48\"/>\r\n      </g>\r\n     </g>\r\n    </g>\r\n    <g id=\"ytick_4\">\r\n     <g id=\"line2d_10\">\r\n      <g>\r\n       <use style=\"stroke:#000000;stroke-width:0.8;\" x=\"26.925\" xlink:href=\"#mf04616711e\" y=\"109.641789\"/>\r\n      </g>\r\n     </g>\r\n     <g id=\"text_10\">\r\n      <!-- 15 -->\r\n      <g transform=\"translate(7.2 113.441008)scale(0.1 -0.1)\">\r\n       <use xlink:href=\"#DejaVuSans-49\"/>\r\n       <use x=\"63.623047\" xlink:href=\"#DejaVuSans-53\"/>\r\n      </g>\r\n     </g>\r\n    </g>\r\n    <g id=\"ytick_5\">\r\n     <g id=\"line2d_11\">\r\n      <g>\r\n       <use style=\"stroke:#000000;stroke-width:0.8;\" x=\"26.925\" xlink:href=\"#mf04616711e\" y=\"69.558452\"/>\r\n      </g>\r\n     </g>\r\n     <g id=\"text_11\">\r\n      <!-- 20 -->\r\n      <g transform=\"translate(7.2 73.357671)scale(0.1 -0.1)\">\r\n       <use xlink:href=\"#DejaVuSans-50\"/>\r\n       <use x=\"63.623047\" xlink:href=\"#DejaVuSans-48\"/>\r\n      </g>\r\n     </g>\r\n    </g>\r\n    <g id=\"ytick_6\">\r\n     <g id=\"line2d_12\">\r\n      <g>\r\n       <use style=\"stroke:#000000;stroke-width:0.8;\" x=\"26.925\" xlink:href=\"#mf04616711e\" y=\"29.475115\"/>\r\n      </g>\r\n     </g>\r\n     <g id=\"text_12\">\r\n      <!-- 25 -->\r\n      <g transform=\"translate(7.2 33.274333)scale(0.1 -0.1)\">\r\n       <use xlink:href=\"#DejaVuSans-50\"/>\r\n       <use x=\"63.623047\" xlink:href=\"#DejaVuSans-53\"/>\r\n      </g>\r\n     </g>\r\n    </g>\r\n   </g>\r\n   <g id=\"line2d_13\">\r\n    <path clip-path=\"url(#pcdffde66ee)\" d=\"M 42.143182 32.201761 \r\nL 42.753129 150.215847 \r\nL 43.363076 168.228639 \r\nL 43.973023 202.31158 \r\nL 44.58297 187.615458 \r\nL 45.192918 199.751614 \r\nL 45.802865 189.390495 \r\nL 46.412812 209.355503 \r\nL 47.022759 222.096684 \r\nL 47.632706 207.136218 \r\nL 48.242653 210.515066 \r\nL 48.852601 209.125146 \r\nL 49.462548 216.547956 \r\nL 50.072495 220.31525 \r\nL 50.682442 217.169506 \r\nL 51.902336 222.664436 \r\nL 52.512284 222.553879 \r\nL 53.122231 215.667813 \r\nL 53.732178 221.093909 \r\nL 54.342125 219.544017 \r\nL 54.952072 216.729376 \r\nL 55.562019 218.781701 \r\nL 56.171967 222.905506 \r\nL 56.781914 214.023129 \r\nL 57.391861 219.771765 \r\nL 58.611755 220.730393 \r\nL 59.221702 223.493259 \r\nL 59.83165 223.29368 \r\nL 60.441597 222.801996 \r\nL 61.051544 218.835584 \r\nL 61.661491 222.637962 \r\nL 62.271438 220.013648 \r\nL 62.881385 221.023687 \r\nL 63.491333 217.078391 \r\nL 64.10128 216.972087 \r\nL 64.711227 221.384747 \r\nL 65.321174 219.935491 \r\nL 65.931121 222.527102 \r\nL 66.541069 223.198279 \r\nL 67.151016 225.329649 \r\nL 67.760963 220.701626 \r\nL 68.37091 222.18378 \r\nL 68.980857 221.425566 \r\nL 69.590804 225.554286 \r\nL 70.200752 222.091803 \r\nL 70.810699 220.95083 \r\nL 71.420646 222.62988 \r\nL 72.030593 214.086989 \r\nL 72.64054 221.340391 \r\nL 73.250487 224.315955 \r\nL 73.860435 225.003017 \r\nL 74.470382 221.611693 \r\nL 75.080329 221.83208 \r\nL 75.690276 225.83168 \r\nL 76.300223 224.168716 \r\nL 76.91017 227.755041 \r\nL 77.520118 224.573274 \r\nL 78.130065 224.647057 \r\nL 78.740012 227.372342 \r\nL 79.349959 228.993697 \r\nL 79.959906 225.245034 \r\nL 80.569853 222.865871 \r\nL 81.179801 225.855888 \r\nL 81.789748 225.21696 \r\nL 82.399695 224.896543 \r\nL 83.009642 226.001568 \r\nL 83.619589 226.364827 \r\nL 84.229536 222.889366 \r\nL 84.839484 223.564696 \r\nL 85.449431 224.728836 \r\nL 86.059378 221.016509 \r\nL 86.669325 224.980999 \r\nL 87.279272 226.96861 \r\nL 87.889219 225.813971 \r\nL 88.499167 226.914536 \r\nL 89.109114 227.120247 \r\nL 89.719061 227.550588 \r\nL 90.329008 228.334646 \r\nL 90.938955 228.544312 \r\nL 91.548902 224.190303 \r\nL 92.15885 225.026781 \r\nL 92.768797 228.640119 \r\nL 93.378744 224.820345 \r\nL 93.988691 227.052747 \r\nL 94.598638 226.991469 \r\nL 95.208585 225.806712 \r\nL 95.818533 225.472488 \r\nL 96.42848 227.606484 \r\nL 97.038427 229.067041 \r\nL 97.648374 224.732955 \r\nL 98.258321 225.403794 \r\nL 98.868268 225.52593 \r\nL 99.478216 228.950448 \r\nL 100.088163 227.808542 \r\nL 100.69811 225.02307 \r\nL 101.308057 228.393531 \r\nL 101.918004 227.287468 \r\nL 102.527951 227.68416 \r\nL 103.137899 227.135822 \r\nL 103.747846 228.728613 \r\nL 104.357793 228.016255 \r\nL 104.96774 229.201885 \r\nL 105.577687 226.455717 \r\nL 106.187634 229.261199 \r\nL 106.797582 227.270923 \r\nL 107.407529 228.075053 \r\nL 108.017476 227.909456 \r\nL 108.627423 226.786929 \r\nL 109.23737 227.894021 \r\nL 109.847317 229.314626 \r\nL 110.457265 228.913712 \r\nL 111.067212 229.031662 \r\nL 111.677159 228.804197 \r\nL 112.287106 225.953885 \r\nL 112.897053 225.376968 \r\nL 113.507 226.366336 \r\nL 114.116948 228.902232 \r\nL 114.726895 224.72863 \r\nL 115.336842 228.189324 \r\nL 115.946789 225.925728 \r\nL 116.556736 225.381265 \r\nL 117.166683 226.266058 \r\nL 117.776631 228.171422 \r\nL 118.386578 226.805679 \r\nL 118.996525 226.267762 \r\nL 119.606472 225.400577 \r\nL 120.216419 225.88706 \r\nL 120.826366 229.098739 \r\nL 121.436314 227.542573 \r\nL 122.046261 226.42258 \r\nL 122.656208 226.409098 \r\nL 123.266155 225.420875 \r\nL 123.876102 228.119112 \r\nL 124.486049 228.598016 \r\nL 125.095997 228.711758 \r\nL 125.705944 226.808855 \r\nL 126.315891 228.474886 \r\nL 126.925838 225.610258 \r\nL 127.535785 227.122056 \r\nL 128.145732 226.439463 \r\nL 128.75568 228.817251 \r\nL 129.365627 225.554226 \r\nL 129.975574 226.5697 \r\nL 130.585521 228.592779 \r\nL 131.195468 228.615022 \r\nL 131.805415 228.771513 \r\nL 132.415363 227.475635 \r\nL 133.635257 228.857655 \r\nL 134.245204 224.467175 \r\nL 134.855151 225.113225 \r\nL 135.465098 228.490731 \r\nL 136.075046 228.191423 \r\nL 136.684993 228.992345 \r\nL 137.904887 228.12706 \r\nL 138.514834 228.893137 \r\nL 139.124781 228.857453 \r\nL 139.734729 227.946623 \r\nL 140.344676 226.582977 \r\nL 140.954623 226.34271 \r\nL 141.56457 228.224861 \r\nL 142.174517 225.998893 \r\nL 142.784464 227.320464 \r\nL 143.394412 227.100204 \r\nL 144.004359 226.227258 \r\nL 144.614306 225.070216 \r\nL 145.224253 229.728792 \r\nL 145.8342 229.258993 \r\nL 147.054095 226.545608 \r\nL 147.664042 229.023608 \r\nL 148.273989 227.00415 \r\nL 148.883936 227.798747 \r\nL 149.493883 225.949342 \r\nL 150.10383 225.697973 \r\nL 150.713778 227.941551 \r\nL 151.323725 228.58308 \r\nL 151.933672 226.252293 \r\nL 152.543619 228.316542 \r\nL 153.153566 226.790565 \r\nL 153.763513 226.705286 \r\nL 154.373461 224.314767 \r\nL 154.983408 228.914542 \r\nL 155.593355 227.319364 \r\nL 156.203302 229.083087 \r\nL 156.813249 227.528569 \r\nL 157.423196 226.812504 \r\nL 158.033144 228.451137 \r\nL 158.643091 228.442688 \r\nL 159.862985 227.775101 \r\nL 160.472932 226.747868 \r\nL 161.082879 228.657992 \r\nL 161.692827 225.307192 \r\nL 162.302774 228.466079 \r\nL 162.912721 227.477367 \r\nL 163.522668 223.941021 \r\nL 164.132615 225.514041 \r\nL 164.742562 227.917852 \r\nL 165.35251 227.220779 \r\nL 165.962457 226.881597 \r\nL 166.572404 227.4511 \r\nL 167.182351 229.296505 \r\nL 167.792298 229.550908 \r\nL 168.402245 228.820506 \r\nL 169.012193 224.997111 \r\nL 169.62214 229.323513 \r\nL 170.232087 227.950876 \r\nL 170.842034 227.670754 \r\nL 171.451981 229.039076 \r\nL 172.061928 226.351805 \r\nL 172.671876 228.91624 \r\nL 173.281823 227.925111 \r\nL 173.89177 228.049109 \r\nL 175.111664 229.354339 \r\nL 175.721611 226.905828 \r\nL 176.331559 225.763876 \r\nL 176.941506 225.947838 \r\nL 177.551453 227.085721 \r\nL 178.1614 228.621359 \r\nL 178.771347 228.593204 \r\nL 179.381294 228.165396 \r\nL 179.991242 225.398263 \r\nL 180.601189 229.801355 \r\nL 181.211136 229.18914 \r\nL 181.821083 229.703466 \r\nL 182.43103 228.968229 \r\nL 183.040977 224.942968 \r\nL 183.650925 229.251469 \r\nL 184.260872 229.342168 \r\nL 184.870819 224.968689 \r\nL 185.480766 225.501988 \r\nL 186.090713 229.613328 \r\nL 186.70066 227.778778 \r\nL 187.310608 228.961826 \r\nL 187.920555 228.733341 \r\nL 188.530502 226.17248 \r\nL 189.140449 227.645565 \r\nL 189.750396 228.513526 \r\nL 190.360343 227.167255 \r\nL 190.970291 229.451028 \r\nL 191.580238 227.065265 \r\nL 192.190185 229.572943 \r\nL 192.800132 228.830766 \r\nL 193.410079 229.041605 \r\nL 194.020026 228.86265 \r\nL 195.239921 227.486176 \r\nL 195.849868 228.509972 \r\nL 196.459815 225.832013 \r\nL 197.069762 228.945797 \r\nL 197.679709 226.79613 \r\nL 198.289657 229.303509 \r\nL 198.899604 229.333336 \r\nL 199.509551 228.15751 \r\nL 200.119498 229.813596 \r\nL 200.729445 228.300404 \r\nL 201.339392 227.116646 \r\nL 201.94934 226.981325 \r\nL 202.559287 225.996022 \r\nL 203.169234 229.47558 \r\nL 204.389128 229.078073 \r\nL 204.999075 224.29303 \r\nL 205.609023 228.651372 \r\nL 206.21897 229.558623 \r\nL 206.828917 229.376136 \r\nL 207.438864 226.351955 \r\nL 208.048811 228.353403 \r\nL 208.658758 228.376355 \r\nL 209.268706 225.795125 \r\nL 209.878653 228.694068 \r\nL 210.4886 228.745906 \r\nL 211.098547 226.701018 \r\nL 211.708494 229.651545 \r\nL 212.928389 229.812692 \r\nL 213.538336 229.264831 \r\nL 214.148283 229.247398 \r\nL 214.75823 227.632486 \r\nL 215.368177 229.495573 \r\nL 215.978124 227.029423 \r\nL 216.588072 227.443155 \r\nL 217.198019 228.154532 \r\nL 217.807966 229.186887 \r\nL 218.417913 226.93769 \r\nL 219.02786 228.60689 \r\nL 219.637807 228.708465 \r\nL 220.247755 229.304173 \r\nL 220.857702 229.704302 \r\nL 221.467649 228.585198 \r\nL 222.077596 228.844331 \r\nL 222.687543 226.694387 \r\nL 223.29749 229.428858 \r\nL 223.907438 229.508113 \r\nL 224.517385 227.23197 \r\nL 225.127332 229.534904 \r\nL 225.737279 229.41624 \r\nL 226.347226 229.841281 \r\nL 226.957173 228.99411 \r\nL 227.567121 229.809092 \r\nL 228.177068 228.56602 \r\nL 228.787015 228.152752 \r\nL 230.006909 226.981881 \r\nL 230.616856 226.944507 \r\nL 231.226804 227.096244 \r\nL 231.836751 229.813223 \r\nL 232.446698 229.659667 \r\nL 233.056645 228.247626 \r\nL 233.666592 229.805333 \r\nL 234.276539 229.107007 \r\nL 234.886487 227.801262 \r\nL 235.496434 229.757032 \r\nL 236.716328 228.355364 \r\nL 237.326275 229.707192 \r\nL 237.936222 229.426889 \r\nL 238.54617 228.540604 \r\nL 239.156117 229.546434 \r\nL 239.766064 229.309945 \r\nL 240.376011 226.349085 \r\nL 240.985958 226.330106 \r\nL 241.595905 228.780527 \r\nL 242.205853 224.426862 \r\nL 242.8158 228.37555 \r\nL 243.425747 228.379146 \r\nL 244.035694 228.859587 \r\nL 244.645641 226.954341 \r\nL 245.255588 228.727108 \r\nL 245.865536 228.090029 \r\nL 247.08543 229.594866 \r\nL 248.305324 227.196118 \r\nL 248.915271 229.181003 \r\nL 249.525219 229.645711 \r\nL 250.135166 224.730417 \r\nL 250.745113 228.55706 \r\nL 251.35506 228.20038 \r\nL 251.965007 226.987435 \r\nL 252.574954 229.61807 \r\nL 253.184902 229.388212 \r\nL 253.794849 229.662388 \r\nL 254.404796 227.51499 \r\nL 255.014743 228.763025 \r\nL 255.62469 229.072825 \r\nL 256.234637 227.6724 \r\nL 256.844585 229.004294 \r\nL 257.454532 228.461324 \r\nL 258.064479 229.272462 \r\nL 258.674426 229.556582 \r\nL 259.89432 228.585637 \r\nL 260.504268 227.379255 \r\nL 261.114215 228.48218 \r\nL 261.724162 227.729531 \r\nL 262.334109 227.643526 \r\nL 262.944056 226.502001 \r\nL 263.554003 226.675196 \r\nL 264.773898 229.230891 \r\nL 265.383845 228.360331 \r\nL 265.993792 229.080646 \r\nL 266.603739 225.654708 \r\nL 267.213686 229.790478 \r\nL 267.823634 225.836992 \r\nL 268.433581 229.641232 \r\nL 269.043528 228.519501 \r\nL 269.653475 228.493818 \r\nL 270.263422 228.761545 \r\nL 270.873369 229.778748 \r\nL 271.483317 229.161916 \r\nL 272.093264 229.534755 \r\nL 272.703211 228.075821 \r\nL 273.313158 229.793807 \r\nL 273.923105 227.847918 \r\nL 274.533052 229.055092 \r\nL 275.143 227.061997 \r\nL 275.752947 229.476168 \r\nL 276.362894 227.60599 \r\nL 276.972841 228.713155 \r\nL 277.582788 229.358729 \r\nL 278.192735 229.465545 \r\nL 278.802683 227.87506 \r\nL 279.41263 229.033914 \r\nL 280.022577 224.959076 \r\nL 281.242471 229.540881 \r\nL 281.852418 227.847128 \r\nL 282.462366 229.638645 \r\nL 283.072313 228.841383 \r\nL 283.68226 226.817421 \r\nL 284.292207 229.295762 \r\nL 284.902154 229.508245 \r\nL 285.512101 228.255111 \r\nL 286.122049 229.530657 \r\nL 286.731996 229.324938 \r\nL 287.341943 229.33231 \r\nL 287.95189 229.854535 \r\nL 288.561837 229.586887 \r\nL 289.171784 225.581781 \r\nL 289.781732 229.108377 \r\nL 290.391679 229.735986 \r\nL 291.001626 229.87428 \r\nL 291.611573 229.151855 \r\nL 292.22152 229.395021 \r\nL 293.441415 229.694988 \r\nL 294.051362 228.25069 \r\nL 294.661309 229.188867 \r\nL 295.271256 228.640775 \r\nL 295.881203 229.668319 \r\nL 296.49115 228.401888 \r\nL 297.101098 228.996055 \r\nL 297.711045 225.943044 \r\nL 298.930939 229.838532 \r\nL 299.540886 229.299695 \r\nL 300.150833 229.455989 \r\nL 300.760781 226.891694 \r\nL 301.370728 228.695013 \r\nL 301.980675 228.746687 \r\nL 302.590622 228.123768 \r\nL 303.200569 229.726463 \r\nL 303.810516 228.62116 \r\nL 304.420464 229.440677 \r\nL 305.030411 228.377513 \r\nL 305.640358 229.8729 \r\nL 306.250305 229.853908 \r\nL 306.860252 228.079456 \r\nL 307.470199 228.785215 \r\nL 308.080147 229.679063 \r\nL 308.690094 228.953499 \r\nL 309.300041 227.546721 \r\nL 309.909988 229.383265 \r\nL 310.519935 229.070295 \r\nL 311.129882 229.874489 \r\nL 311.73983 228.710212 \r\nL 312.349777 229.665294 \r\nL 312.959724 228.660175 \r\nL 313.569671 229.589907 \r\nL 314.179618 226.366603 \r\nL 314.789565 228.572087 \r\nL 315.399513 227.594424 \r\nL 316.00946 229.758349 \r\nL 316.619407 229.445103 \r\nL 317.229354 228.973291 \r\nL 317.839301 229.697127 \r\nL 318.449248 228.51213 \r\nL 319.059196 228.885784 \r\nL 319.669143 227.848161 \r\nL 320.27909 229.842243 \r\nL 320.889037 228.932105 \r\nL 321.498984 229.426984 \r\nL 322.108931 227.985012 \r\nL 322.718879 229.694088 \r\nL 323.328826 229.583348 \r\nL 323.938773 227.480043 \r\nL 324.54872 228.766354 \r\nL 325.158667 228.236755 \r\nL 325.768615 229.821227 \r\nL 326.378562 228.656705 \r\nL 326.988509 229.494461 \r\nL 327.598456 226.082918 \r\nL 328.208403 228.473037 \r\nL 328.81835 229.270782 \r\nL 329.428298 228.47044 \r\nL 330.038245 229.807197 \r\nL 330.648192 228.938042 \r\nL 331.258139 229.214066 \r\nL 331.868086 229.794507 \r\nL 332.478033 228.577865 \r\nL 333.087981 229.719527 \r\nL 333.697928 226.037461 \r\nL 334.307875 229.643191 \r\nL 334.917822 229.702833 \r\nL 335.527769 229.156392 \r\nL 336.137716 227.413502 \r\nL 336.747664 229.714236 \r\nL 337.357611 228.311686 \r\nL 337.967558 226.575152 \r\nL 338.577505 225.711439 \r\nL 339.187452 226.749241 \r\nL 339.797399 229.805799 \r\nL 340.407347 229.767077 \r\nL 341.017294 228.501156 \r\nL 341.627241 229.031055 \r\nL 342.237188 228.542436 \r\nL 342.847135 227.758016 \r\nL 343.457082 229.729231 \r\nL 344.06703 229.207611 \r\nL 344.676977 228.991879 \r\nL 345.286924 229.58392 \r\nL 345.896871 229.834549 \r\nL 346.506818 228.826674 \r\nL 346.506818 228.826674 \r\n\" style=\"fill:none;stroke:#1f77b4;stroke-linecap:square;stroke-width:1.5;\"/>\r\n   </g>\r\n   <g id=\"line2d_14\">\r\n    <path clip-path=\"url(#pcdffde66ee)\" d=\"M 42.143182 138.929984 \r\nL 42.753129 161.242549 \r\nL 43.363076 187.820868 \r\nL 43.973023 195.103629 \r\nL 44.58297 197.791121 \r\nL 45.192918 202.49573 \r\nL 45.802865 209.537852 \r\nL 46.412812 211.926195 \r\nL 47.022759 213.038393 \r\nL 47.632706 214.624815 \r\nL 48.242653 215.355198 \r\nL 48.852601 216.622082 \r\nL 49.462548 217.58299 \r\nL 50.072495 218.101663 \r\nL 50.682442 218.374922 \r\nL 51.292389 218.94478 \r\nL 51.902336 218.756847 \r\nL 52.512284 218.104343 \r\nL 53.122231 219.144374 \r\nL 53.732178 219.740672 \r\nL 54.342125 219.270877 \r\nL 54.952072 219.512763 \r\nL 56.171967 218.812028 \r\nL 56.781914 219.841417 \r\nL 57.391861 220.517919 \r\nL 58.001808 221.024164 \r\nL 58.611755 221.374837 \r\nL 59.221702 221.463534 \r\nL 59.83165 221.932766 \r\nL 60.441597 222.151032 \r\nL 61.051544 221.862973 \r\nL 61.661491 221.244755 \r\nL 62.271438 222.500046 \r\nL 62.881385 221.346266 \r\nL 63.491333 221.604081 \r\nL 64.10128 222.627685 \r\nL 65.321174 223.031777 \r\nL 65.931121 222.18479 \r\nL 66.541069 222.648796 \r\nL 67.151016 223.445126 \r\nL 67.760963 222.9212 \r\nL 68.37091 222.857873 \r\nL 68.980857 222.948038 \r\nL 69.590804 223.255481 \r\nL 70.200752 223.136461 \r\nL 70.810699 222.890318 \r\nL 71.420646 221.7255 \r\nL 72.64054 223.962591 \r\nL 73.250487 224.584729 \r\nL 73.860435 224.741781 \r\nL 74.470382 225.170309 \r\nL 76.300223 225.530122 \r\nL 77.520118 225.233066 \r\nL 78.130065 225.666624 \r\nL 78.740012 225.631567 \r\nL 79.349959 225.196336 \r\nL 79.959906 225.332362 \r\nL 80.569853 225.839225 \r\nL 81.179801 225.949585 \r\nL 81.789748 225.584835 \r\nL 83.009642 225.182328 \r\nL 83.619589 225.612662 \r\nL 84.229536 225.869336 \r\nL 84.839484 225.845767 \r\nL 86.059378 224.956422 \r\nL 86.669325 225.247487 \r\nL 87.279272 225.813733 \r\nL 87.889219 226.205456 \r\nL 88.499167 226.18203 \r\nL 89.109114 226.437035 \r\nL 90.938955 226.738085 \r\nL 91.548902 226.734334 \r\nL 93.378744 226.475986 \r\nL 95.208585 226.946051 \r\nL 95.818533 227.113525 \r\nL 97.038427 226.853964 \r\nL 97.648374 226.706648 \r\nL 98.258321 227.048357 \r\nL 100.69811 226.72926 \r\nL 101.308057 226.322228 \r\nL 101.918004 226.262713 \r\nL 102.527951 226.716096 \r\nL 103.137899 226.722648 \r\nL 105.577687 227.176623 \r\nL 106.187634 226.841273 \r\nL 106.797582 226.722152 \r\nL 108.017476 226.892415 \r\nL 109.23737 226.587323 \r\nL 110.457265 226.537452 \r\nL 111.067212 226.585295 \r\nL 112.287106 227.159938 \r\nL 113.507 227.267973 \r\nL 114.116948 226.94256 \r\nL 114.726895 226.865914 \r\nL 115.336842 226.351398 \r\nL 115.946789 226.707217 \r\nL 117.166683 227.23919 \r\nL 117.776631 227.013978 \r\nL 118.386578 226.494485 \r\nL 119.606472 226.808437 \r\nL 120.216419 227.161385 \r\nL 121.436314 227.272127 \r\nL 122.046261 227.228682 \r\nL 122.656208 227.537075 \r\nL 123.266155 226.914545 \r\nL 125.095997 226.877743 \r\nL 125.705944 227.086958 \r\nL 127.535785 227.189413 \r\nL 128.75568 226.582114 \r\nL 129.365627 226.758859 \r\nL 129.975574 227.190915 \r\nL 130.585521 227.426971 \r\nL 131.195468 227.404691 \r\nL 131.805415 227.612438 \r\nL 132.415363 227.69249 \r\nL 133.635257 227.396849 \r\nL 134.245204 227.522989 \r\nL 134.855151 227.283934 \r\nL 136.075046 227.414161 \r\nL 137.29494 227.671678 \r\nL 138.514834 227.745481 \r\nL 139.734729 227.981908 \r\nL 140.344676 227.866643 \r\nL 140.954623 227.874557 \r\nL 141.56457 227.53546 \r\nL 142.174517 227.61722 \r\nL 143.394412 227.077708 \r\nL 144.004359 227.228594 \r\nL 144.614306 228.049033 \r\nL 145.224253 228.041144 \r\nL 146.444147 227.798033 \r\nL 147.664042 227.686547 \r\nL 148.273989 227.431458 \r\nL 148.883936 227.323036 \r\nL 149.493883 227.498716 \r\nL 150.10383 227.496574 \r\nL 150.713778 227.360906 \r\nL 151.933672 226.824528 \r\nL 153.763513 227.119328 \r\nL 154.983408 227.691167 \r\nL 155.593355 227.644728 \r\nL 156.813249 226.559063 \r\nL 157.423196 227.300446 \r\nL 158.643091 227.801806 \r\nL 160.472932 227.699359 \r\nL 161.082879 228.084003 \r\nL 162.302774 228.078045 \r\nL 164.742562 227.736948 \r\nL 166.572404 227.922551 \r\nL 167.792298 227.220658 \r\nL 168.402245 227.186003 \r\nL 169.012193 227.80193 \r\nL 169.62214 228.072525 \r\nL 170.232087 227.820346 \r\nL 171.451981 227.787176 \r\nL 172.061928 228.256034 \r\nL 172.671876 228.199348 \r\nL 173.281823 227.780234 \r\nL 174.501717 228.210035 \r\nL 176.941506 228.189218 \r\nL 177.551453 228.300448 \r\nL 179.991242 228.236881 \r\nL 180.601189 228.339581 \r\nL 181.211136 228.042844 \r\nL 181.821083 227.96821 \r\nL 182.43103 227.683048 \r\nL 183.040977 227.747885 \r\nL 183.650925 227.534984 \r\nL 184.260872 227.524797 \r\nL 185.480766 228.164947 \r\nL 186.090713 228.232038 \r\nL 186.70066 228.157749 \r\nL 187.310608 227.88213 \r\nL 188.530502 227.877003 \r\nL 189.140449 228.041121 \r\nL 189.750396 227.972773 \r\nL 190.360343 228.091246 \r\nL 190.970291 227.905597 \r\nL 191.580238 228.300073 \r\nL 192.190185 228.388875 \r\nL 195.239921 228.079177 \r\nL 195.849868 227.827526 \r\nL 196.459815 227.731282 \r\nL 197.679709 227.98609 \r\nL 200.119498 227.619467 \r\nL 201.339392 228.154504 \r\nL 201.94934 228.147004 \r\nL 202.559287 228.362507 \r\nL 203.169234 228.410133 \r\nL 204.389128 228.098841 \r\nL 206.21897 228.190881 \r\nL 207.438864 227.93332 \r\nL 208.048811 228.268433 \r\nL 208.658758 228.038919 \r\nL 209.268706 228.185599 \r\nL 209.878653 228.05182 \r\nL 210.4886 227.68877 \r\nL 211.098547 227.937051 \r\nL 212.928389 227.932768 \r\nL 214.148283 228.307792 \r\nL 214.75823 228.315003 \r\nL 215.368177 228.451501 \r\nL 215.978124 228.318744 \r\nL 216.588072 228.448289 \r\nL 217.198019 228.450492 \r\nL 219.02786 227.915166 \r\nL 220.247755 228.084752 \r\nL 220.857702 228.140422 \r\nL 221.467649 228.053733 \r\nL 222.077596 228.255444 \r\nL 223.29749 228.268725 \r\nL 223.907438 228.083553 \r\nL 225.127332 228.298732 \r\nL 225.737279 228.187041 \r\nL 226.957173 228.099596 \r\nL 228.177068 227.988432 \r\nL 228.787015 227.98021 \r\nL 229.396962 228.407974 \r\nL 230.616856 228.06486 \r\nL 231.226804 228.192534 \r\nL 232.446698 228.190205 \r\nL 233.666592 228.429897 \r\nL 234.276539 228.361607 \r\nL 234.886487 228.548153 \r\nL 236.106381 228.107508 \r\nL 237.326275 228.246392 \r\nL 237.936222 228.406632 \r\nL 240.376011 228.574701 \r\nL 242.205853 227.824953 \r\nL 242.8158 228.11574 \r\nL 244.035694 228.347281 \r\nL 244.645641 228.067741 \r\nL 245.255588 228.082553 \r\nL 246.475483 228.252403 \r\nL 247.08543 227.889017 \r\nL 247.695377 227.84637 \r\nL 248.305324 228.277807 \r\nL 249.525219 227.69871 \r\nL 250.135166 228.292007 \r\nL 250.745113 228.567124 \r\nL 251.35506 228.626848 \r\nL 251.965007 228.524802 \r\nL 253.184902 227.691282 \r\nL 253.794849 227.627151 \r\nL 254.404796 227.908145 \r\nL 255.014743 228.030445 \r\nL 255.62469 228.341247 \r\nL 259.284373 228.707544 \r\nL 260.504268 228.079634 \r\nL 261.114215 228.447892 \r\nL 261.724162 228.468703 \r\nL 262.944056 227.687813 \r\nL 265.993792 228.146519 \r\nL 266.603739 228.389478 \r\nL 267.213686 228.220309 \r\nL 267.823634 228.49241 \r\nL 269.043528 228.464243 \r\nL 269.653475 228.456516 \r\nL 270.263422 228.239738 \r\nL 272.093264 228.506158 \r\nL 273.923105 228.604742 \r\nL 274.533052 228.501008 \r\nL 275.143 228.584128 \r\nL 275.752947 228.424482 \r\nL 276.362894 228.485783 \r\nL 276.972841 228.219565 \r\nL 278.192735 227.241966 \r\nL 278.802683 227.196183 \r\nL 280.022577 227.727404 \r\nL 280.632524 227.785056 \r\nL 281.852418 228.113167 \r\nL 283.072313 228.210826 \r\nL 283.68226 228.48151 \r\nL 284.292207 228.576955 \r\nL 285.512101 228.496851 \r\nL 286.122049 228.531703 \r\nL 286.731996 228.388685 \r\nL 288.561837 228.276917 \r\nL 289.171784 228.214669 \r\nL 289.781732 228.51229 \r\nL 292.22152 228.61947 \r\nL 293.441415 228.556478 \r\nL 294.051362 228.373839 \r\nL 296.49115 228.518296 \r\nL 297.101098 228.385608 \r\nL 297.711045 228.396922 \r\nL 298.320992 228.188669 \r\nL 299.540886 227.281666 \r\nL 300.150833 227.0486 \r\nL 300.760781 227.451993 \r\nL 301.370728 228.186878 \r\nL 301.980675 228.37382 \r\nL 303.200569 228.155699 \r\nL 303.810516 228.35954 \r\nL 304.420464 228.444743 \r\nL 306.250305 228.178366 \r\nL 307.470199 228.442446 \r\nL 308.080147 228.322984 \r\nL 308.690094 228.414998 \r\nL 309.300041 228.200468 \r\nL 311.129882 228.268141 \r\nL 312.959724 228.564467 \r\nL 313.569671 228.441654 \r\nL 315.399513 228.542073 \r\nL 316.00946 228.296811 \r\nL 316.619407 228.271433 \r\nL 317.229354 228.445584 \r\nL 319.059196 228.59688 \r\nL 319.669143 228.476203 \r\nL 323.938773 228.527546 \r\nL 324.54872 228.370757 \r\nL 326.378562 228.378725 \r\nL 326.988509 228.17292 \r\nL 327.598456 228.429086 \r\nL 328.208403 228.491689 \r\nL 328.81835 228.811509 \r\nL 330.038245 228.521499 \r\nL 332.478033 228.332205 \r\nL 333.087981 228.655983 \r\nL 334.917822 228.594585 \r\nL 336.137716 228.508219 \r\nL 336.747664 228.431198 \r\nL 337.357611 228.044573 \r\nL 337.967558 228.128252 \r\nL 338.577505 227.897014 \r\nL 339.187452 227.90483 \r\nL 340.407347 227.603583 \r\nL 341.627241 228.051536 \r\nL 342.847135 228.582391 \r\nL 344.06703 228.804555 \r\nL 344.676977 228.766829 \r\nL 346.506818 228.133372 \r\nL 346.506818 228.133372 \r\n\" style=\"fill:none;stroke:#ff7f0e;stroke-linecap:square;stroke-width:1.5;\"/>\r\n   </g>\r\n   <g id=\"patch_3\">\r\n    <path d=\"M 26.925 239.758125 \r\nL 26.925 22.318125 \r\n\" style=\"fill:none;stroke:#000000;stroke-linecap:square;stroke-linejoin:miter;stroke-width:0.8;\"/>\r\n   </g>\r\n   <g id=\"patch_4\">\r\n    <path d=\"M 361.725 239.758125 \r\nL 361.725 22.318125 \r\n\" style=\"fill:none;stroke:#000000;stroke-linecap:square;stroke-linejoin:miter;stroke-width:0.8;\"/>\r\n   </g>\r\n   <g id=\"patch_5\">\r\n    <path d=\"M 26.925 239.758125 \r\nL 361.725 239.758125 \r\n\" style=\"fill:none;stroke:#000000;stroke-linecap:square;stroke-linejoin:miter;stroke-width:0.8;\"/>\r\n   </g>\r\n   <g id=\"patch_6\">\r\n    <path d=\"M 26.925 22.318125 \r\nL 361.725 22.318125 \r\n\" style=\"fill:none;stroke:#000000;stroke-linecap:square;stroke-linejoin:miter;stroke-width:0.8;\"/>\r\n   </g>\r\n   <g id=\"text_13\">\r\n    <!-- Training and validation loss -->\r\n    <g transform=\"translate(112.515 16.318125)scale(0.12 -0.12)\">\r\n     <defs>\r\n      <path d=\"M -0.296875 72.90625 \r\nL 61.375 72.90625 \r\nL 61.375 64.59375 \r\nL 35.5 64.59375 \r\nL 35.5 0 \r\nL 25.59375 0 \r\nL 25.59375 64.59375 \r\nL -0.296875 64.59375 \r\nz\r\n\" id=\"DejaVuSans-84\"/>\r\n      <path d=\"M 41.109375 46.296875 \r\nQ 39.59375 47.171875 37.8125 47.578125 \r\nQ 36.03125 48 33.890625 48 \r\nQ 26.265625 48 22.1875 43.046875 \r\nQ 18.109375 38.09375 18.109375 28.8125 \r\nL 18.109375 0 \r\nL 9.078125 0 \r\nL 9.078125 54.6875 \r\nL 18.109375 54.6875 \r\nL 18.109375 46.1875 \r\nQ 20.953125 51.171875 25.484375 53.578125 \r\nQ 30.03125 56 36.53125 56 \r\nQ 37.453125 56 38.578125 55.875 \r\nQ 39.703125 55.765625 41.0625 55.515625 \r\nz\r\n\" id=\"DejaVuSans-114\"/>\r\n      <path d=\"M 34.28125 27.484375 \r\nQ 23.390625 27.484375 19.1875 25 \r\nQ 14.984375 22.515625 14.984375 16.5 \r\nQ 14.984375 11.71875 18.140625 8.90625 \r\nQ 21.296875 6.109375 26.703125 6.109375 \r\nQ 34.1875 6.109375 38.703125 11.40625 \r\nQ 43.21875 16.703125 43.21875 25.484375 \r\nL 43.21875 27.484375 \r\nz\r\nM 52.203125 31.203125 \r\nL 52.203125 0 \r\nL 43.21875 0 \r\nL 43.21875 8.296875 \r\nQ 40.140625 3.328125 35.546875 0.953125 \r\nQ 30.953125 -1.421875 24.3125 -1.421875 \r\nQ 15.921875 -1.421875 10.953125 3.296875 \r\nQ 6 8.015625 6 15.921875 \r\nQ 6 25.140625 12.171875 29.828125 \r\nQ 18.359375 34.515625 30.609375 34.515625 \r\nL 43.21875 34.515625 \r\nL 43.21875 35.40625 \r\nQ 43.21875 41.609375 39.140625 45 \r\nQ 35.0625 48.390625 27.6875 48.390625 \r\nQ 23 48.390625 18.546875 47.265625 \r\nQ 14.109375 46.140625 10.015625 43.890625 \r\nL 10.015625 52.203125 \r\nQ 14.9375 54.109375 19.578125 55.046875 \r\nQ 24.21875 56 28.609375 56 \r\nQ 40.484375 56 46.34375 49.84375 \r\nQ 52.203125 43.703125 52.203125 31.203125 \r\nz\r\n\" id=\"DejaVuSans-97\"/>\r\n      <path d=\"M 9.421875 54.6875 \r\nL 18.40625 54.6875 \r\nL 18.40625 0 \r\nL 9.421875 0 \r\nz\r\nM 9.421875 75.984375 \r\nL 18.40625 75.984375 \r\nL 18.40625 64.59375 \r\nL 9.421875 64.59375 \r\nz\r\n\" id=\"DejaVuSans-105\"/>\r\n      <path d=\"M 54.890625 33.015625 \r\nL 54.890625 0 \r\nL 45.90625 0 \r\nL 45.90625 32.71875 \r\nQ 45.90625 40.484375 42.875 44.328125 \r\nQ 39.84375 48.1875 33.796875 48.1875 \r\nQ 26.515625 48.1875 22.3125 43.546875 \r\nQ 18.109375 38.921875 18.109375 30.90625 \r\nL 18.109375 0 \r\nL 9.078125 0 \r\nL 9.078125 54.6875 \r\nL 18.109375 54.6875 \r\nL 18.109375 46.1875 \r\nQ 21.34375 51.125 25.703125 53.5625 \r\nQ 30.078125 56 35.796875 56 \r\nQ 45.21875 56 50.046875 50.171875 \r\nQ 54.890625 44.34375 54.890625 33.015625 \r\nz\r\n\" id=\"DejaVuSans-110\"/>\r\n      <path d=\"M 45.40625 27.984375 \r\nQ 45.40625 37.75 41.375 43.109375 \r\nQ 37.359375 48.484375 30.078125 48.484375 \r\nQ 22.859375 48.484375 18.828125 43.109375 \r\nQ 14.796875 37.75 14.796875 27.984375 \r\nQ 14.796875 18.265625 18.828125 12.890625 \r\nQ 22.859375 7.515625 30.078125 7.515625 \r\nQ 37.359375 7.515625 41.375 12.890625 \r\nQ 45.40625 18.265625 45.40625 27.984375 \r\nz\r\nM 54.390625 6.78125 \r\nQ 54.390625 -7.171875 48.1875 -13.984375 \r\nQ 42 -20.796875 29.203125 -20.796875 \r\nQ 24.46875 -20.796875 20.265625 -20.09375 \r\nQ 16.0625 -19.390625 12.109375 -17.921875 \r\nL 12.109375 -9.1875 \r\nQ 16.0625 -11.328125 19.921875 -12.34375 \r\nQ 23.78125 -13.375 27.78125 -13.375 \r\nQ 36.625 -13.375 41.015625 -8.765625 \r\nQ 45.40625 -4.15625 45.40625 5.171875 \r\nL 45.40625 9.625 \r\nQ 42.625 4.78125 38.28125 2.390625 \r\nQ 33.9375 0 27.875 0 \r\nQ 17.828125 0 11.671875 7.65625 \r\nQ 5.515625 15.328125 5.515625 27.984375 \r\nQ 5.515625 40.671875 11.671875 48.328125 \r\nQ 17.828125 56 27.875 56 \r\nQ 33.9375 56 38.28125 53.609375 \r\nQ 42.625 51.21875 45.40625 46.390625 \r\nL 45.40625 54.6875 \r\nL 54.390625 54.6875 \r\nz\r\n\" id=\"DejaVuSans-103\"/>\r\n      <path id=\"DejaVuSans-32\"/>\r\n      <path d=\"M 45.40625 46.390625 \r\nL 45.40625 75.984375 \r\nL 54.390625 75.984375 \r\nL 54.390625 0 \r\nL 45.40625 0 \r\nL 45.40625 8.203125 \r\nQ 42.578125 3.328125 38.25 0.953125 \r\nQ 33.9375 -1.421875 27.875 -1.421875 \r\nQ 17.96875 -1.421875 11.734375 6.484375 \r\nQ 5.515625 14.40625 5.515625 27.296875 \r\nQ 5.515625 40.1875 11.734375 48.09375 \r\nQ 17.96875 56 27.875 56 \r\nQ 33.9375 56 38.25 53.625 \r\nQ 42.578125 51.265625 45.40625 46.390625 \r\nz\r\nM 14.796875 27.296875 \r\nQ 14.796875 17.390625 18.875 11.75 \r\nQ 22.953125 6.109375 30.078125 6.109375 \r\nQ 37.203125 6.109375 41.296875 11.75 \r\nQ 45.40625 17.390625 45.40625 27.296875 \r\nQ 45.40625 37.203125 41.296875 42.84375 \r\nQ 37.203125 48.484375 30.078125 48.484375 \r\nQ 22.953125 48.484375 18.875 42.84375 \r\nQ 14.796875 37.203125 14.796875 27.296875 \r\nz\r\n\" id=\"DejaVuSans-100\"/>\r\n      <path d=\"M 2.984375 54.6875 \r\nL 12.5 54.6875 \r\nL 29.59375 8.796875 \r\nL 46.6875 54.6875 \r\nL 56.203125 54.6875 \r\nL 35.6875 0 \r\nL 23.484375 0 \r\nz\r\n\" id=\"DejaVuSans-118\"/>\r\n      <path d=\"M 9.421875 75.984375 \r\nL 18.40625 75.984375 \r\nL 18.40625 0 \r\nL 9.421875 0 \r\nz\r\n\" id=\"DejaVuSans-108\"/>\r\n      <path d=\"M 18.3125 70.21875 \r\nL 18.3125 54.6875 \r\nL 36.8125 54.6875 \r\nL 36.8125 47.703125 \r\nL 18.3125 47.703125 \r\nL 18.3125 18.015625 \r\nQ 18.3125 11.328125 20.140625 9.421875 \r\nQ 21.96875 7.515625 27.59375 7.515625 \r\nL 36.8125 7.515625 \r\nL 36.8125 0 \r\nL 27.59375 0 \r\nQ 17.1875 0 13.234375 3.875 \r\nQ 9.28125 7.765625 9.28125 18.015625 \r\nL 9.28125 47.703125 \r\nL 2.6875 47.703125 \r\nL 2.6875 54.6875 \r\nL 9.28125 54.6875 \r\nL 9.28125 70.21875 \r\nz\r\n\" id=\"DejaVuSans-116\"/>\r\n      <path d=\"M 30.609375 48.390625 \r\nQ 23.390625 48.390625 19.1875 42.75 \r\nQ 14.984375 37.109375 14.984375 27.296875 \r\nQ 14.984375 17.484375 19.15625 11.84375 \r\nQ 23.34375 6.203125 30.609375 6.203125 \r\nQ 37.796875 6.203125 41.984375 11.859375 \r\nQ 46.1875 17.53125 46.1875 27.296875 \r\nQ 46.1875 37.015625 41.984375 42.703125 \r\nQ 37.796875 48.390625 30.609375 48.390625 \r\nz\r\nM 30.609375 56 \r\nQ 42.328125 56 49.015625 48.375 \r\nQ 55.71875 40.765625 55.71875 27.296875 \r\nQ 55.71875 13.875 49.015625 6.21875 \r\nQ 42.328125 -1.421875 30.609375 -1.421875 \r\nQ 18.84375 -1.421875 12.171875 6.21875 \r\nQ 5.515625 13.875 5.515625 27.296875 \r\nQ 5.515625 40.765625 12.171875 48.375 \r\nQ 18.84375 56 30.609375 56 \r\nz\r\n\" id=\"DejaVuSans-111\"/>\r\n      <path d=\"M 44.28125 53.078125 \r\nL 44.28125 44.578125 \r\nQ 40.484375 46.53125 36.375 47.5 \r\nQ 32.28125 48.484375 27.875 48.484375 \r\nQ 21.1875 48.484375 17.84375 46.4375 \r\nQ 14.5 44.390625 14.5 40.28125 \r\nQ 14.5 37.15625 16.890625 35.375 \r\nQ 19.28125 33.59375 26.515625 31.984375 \r\nL 29.59375 31.296875 \r\nQ 39.15625 29.25 43.1875 25.515625 \r\nQ 47.21875 21.78125 47.21875 15.09375 \r\nQ 47.21875 7.46875 41.1875 3.015625 \r\nQ 35.15625 -1.421875 24.609375 -1.421875 \r\nQ 20.21875 -1.421875 15.453125 -0.5625 \r\nQ 10.6875 0.296875 5.421875 2 \r\nL 5.421875 11.28125 \r\nQ 10.40625 8.6875 15.234375 7.390625 \r\nQ 20.0625 6.109375 24.8125 6.109375 \r\nQ 31.15625 6.109375 34.5625 8.28125 \r\nQ 37.984375 10.453125 37.984375 14.40625 \r\nQ 37.984375 18.0625 35.515625 20.015625 \r\nQ 33.0625 21.96875 24.703125 23.78125 \r\nL 21.578125 24.515625 \r\nQ 13.234375 26.265625 9.515625 29.90625 \r\nQ 5.8125 33.546875 5.8125 39.890625 \r\nQ 5.8125 47.609375 11.28125 51.796875 \r\nQ 16.75 56 26.8125 56 \r\nQ 31.78125 56 36.171875 55.265625 \r\nQ 40.578125 54.546875 44.28125 53.078125 \r\nz\r\n\" id=\"DejaVuSans-115\"/>\r\n     </defs>\r\n     <use xlink:href=\"#DejaVuSans-84\"/>\r\n     <use x=\"46.333984\" xlink:href=\"#DejaVuSans-114\"/>\r\n     <use x=\"87.447266\" xlink:href=\"#DejaVuSans-97\"/>\r\n     <use x=\"148.726562\" xlink:href=\"#DejaVuSans-105\"/>\r\n     <use x=\"176.509766\" xlink:href=\"#DejaVuSans-110\"/>\r\n     <use x=\"239.888672\" xlink:href=\"#DejaVuSans-105\"/>\r\n     <use x=\"267.671875\" xlink:href=\"#DejaVuSans-110\"/>\r\n     <use x=\"331.050781\" xlink:href=\"#DejaVuSans-103\"/>\r\n     <use x=\"394.527344\" xlink:href=\"#DejaVuSans-32\"/>\r\n     <use x=\"426.314453\" xlink:href=\"#DejaVuSans-97\"/>\r\n     <use x=\"487.59375\" xlink:href=\"#DejaVuSans-110\"/>\r\n     <use x=\"550.972656\" xlink:href=\"#DejaVuSans-100\"/>\r\n     <use x=\"614.449219\" xlink:href=\"#DejaVuSans-32\"/>\r\n     <use x=\"646.236328\" xlink:href=\"#DejaVuSans-118\"/>\r\n     <use x=\"705.416016\" xlink:href=\"#DejaVuSans-97\"/>\r\n     <use x=\"766.695312\" xlink:href=\"#DejaVuSans-108\"/>\r\n     <use x=\"794.478516\" xlink:href=\"#DejaVuSans-105\"/>\r\n     <use x=\"822.261719\" xlink:href=\"#DejaVuSans-100\"/>\r\n     <use x=\"885.738281\" xlink:href=\"#DejaVuSans-97\"/>\r\n     <use x=\"947.017578\" xlink:href=\"#DejaVuSans-116\"/>\r\n     <use x=\"986.226562\" xlink:href=\"#DejaVuSans-105\"/>\r\n     <use x=\"1014.009766\" xlink:href=\"#DejaVuSans-111\"/>\r\n     <use x=\"1075.191406\" xlink:href=\"#DejaVuSans-110\"/>\r\n     <use x=\"1138.570312\" xlink:href=\"#DejaVuSans-32\"/>\r\n     <use x=\"1170.357422\" xlink:href=\"#DejaVuSans-108\"/>\r\n     <use x=\"1198.140625\" xlink:href=\"#DejaVuSans-111\"/>\r\n     <use x=\"1259.322266\" xlink:href=\"#DejaVuSans-115\"/>\r\n     <use x=\"1311.421875\" xlink:href=\"#DejaVuSans-115\"/>\r\n    </g>\r\n   </g>\r\n  </g>\r\n </g>\r\n <defs>\r\n  <clipPath id=\"pcdffde66ee\">\r\n   <rect height=\"217.44\" width=\"334.8\" x=\"26.925\" y=\"22.318125\"/>\r\n  </clipPath>\r\n </defs>\r\n</svg>\r\n",
      "image/png": "[encoded data removed]"
     },
     "metadata": {
      "needs_background": "light"
     }
    }
   ],
   "source": [
    "plot_history(history, yrange=(0,1))"
   ]
  },
  {
   "cell_type": "code",
   "execution_count": null,
   "metadata": {},
   "outputs": [],
   "source": [
    "os.chdir('../../')"
   ]
  },
  {
   "cell_type": "code",
   "execution_count": 17,
   "metadata": {
    "colab": {
     "base_uri": "https://localhost:8080/"
    },
    "id": "dykE1Z8bpe6Z",
    "outputId": "7963d716-e660-4e24-8305-e06230809fe3"
   },
   "outputs": [
    {
     "output_type": "stream",
     "name": "stdout",
     "text": [
      "INFO:tensorflow:Assets written to: model/mobilenet_disease_detection_saved_model\\assets\n"
     ]
    }
   ],
   "source": [
    "# save the model in SavedModel format\n",
    "full_model.save(\"model/mobilenet_disease_detection_saved_model\")"
   ]
  },
  {
   "cell_type": "code",
   "execution_count": null,
   "metadata": {
    "id": "4Bbgue3LbjYj"
   },
   "outputs": [],
   "source": [
    "# !zip -r /content/model.zip /content/drive/MyDrive/Capstone/plant_disease_detection/model"
   ]
  },
  {
   "cell_type": "code",
   "execution_count": 18,
   "metadata": {
    "colab": {
     "base_uri": "https://localhost:8080/"
    },
    "id": "TFEfrhqxpe6Z",
    "outputId": "55b5129c-add7-4d37-b057-a9e4f565b16b"
   },
   "outputs": [
    {
     "output_type": "stream",
     "name": "stdout",
     "text": [
      "Model: \"model\"\n_________________________________________________________________\nLayer (type)                 Output Shape              Param #   \n=================================================================\ninput_1 (InputLayer)         [(None, 224, 224, 3)]     0         \n_________________________________________________________________\nblock1_conv1 (Conv2D)        (None, 224, 224, 64)      1792      \n_________________________________________________________________\nblock1_conv2 (Conv2D)        (None, 224, 224, 64)      36928     \n_________________________________________________________________\nblock1_pool (MaxPooling2D)   (None, 112, 112, 64)      0         \n_________________________________________________________________\nblock2_conv1 (Conv2D)        (None, 112, 112, 128)     73856     \n_________________________________________________________________\nblock2_conv2 (Conv2D)        (None, 112, 112, 128)     147584    \n_________________________________________________________________\nblock2_pool (MaxPooling2D)   (None, 56, 56, 128)       0         \n_________________________________________________________________\nblock3_conv1 (Conv2D)        (None, 56, 56, 256)       295168    \n_________________________________________________________________\nblock3_conv2 (Conv2D)        (None, 56, 56, 256)       590080    \n_________________________________________________________________\nblock3_conv3 (Conv2D)        (None, 56, 56, 256)       590080    \n_________________________________________________________________\nblock3_conv4 (Conv2D)        (None, 56, 56, 256)       590080    \n_________________________________________________________________\nblock3_pool (MaxPooling2D)   (None, 28, 28, 256)       0         \n_________________________________________________________________\nblock4_conv1 (Conv2D)        (None, 28, 28, 512)       1180160   \n_________________________________________________________________\nblock4_conv2 (Conv2D)        (None, 28, 28, 512)       2359808   \n_________________________________________________________________\nblock4_conv3 (Conv2D)        (None, 28, 28, 512)       2359808   \n_________________________________________________________________\nblock4_conv4 (Conv2D)        (None, 28, 28, 512)       2359808   \n_________________________________________________________________\nblock4_pool (MaxPooling2D)   (None, 14, 14, 512)       0         \n_________________________________________________________________\nblock5_conv1 (Conv2D)        (None, 14, 14, 512)       2359808   \n_________________________________________________________________\nblock5_conv2 (Conv2D)        (None, 14, 14, 512)       2359808   \n_________________________________________________________________\nblock5_conv3 (Conv2D)        (None, 14, 14, 512)       2359808   \n_________________________________________________________________\nblock5_conv4 (Conv2D)        (None, 14, 14, 512)       2359808   \n_________________________________________________________________\nblock5_pool (MaxPooling2D)   (None, 7, 7, 512)         0         \n_________________________________________________________________\nflatten (Flatten)            (None, 25088)             0         \n_________________________________________________________________\ndense (Dense)                (None, 64)                1605696   \n_________________________________________________________________\ndense_1 (Dense)              (None, 128)               8320      \n_________________________________________________________________\ndense_2 (Dense)              (None, 15)                1935      \n=================================================================\nTotal params: 21,640,335\nTrainable params: 1,615,951\nNon-trainable params: 20,024,384\n_________________________________________________________________\n"
     ]
    }
   ],
   "source": [
    "# load SavedModel model\n",
    "model = keras.models.load_model('model/mobilenet_disease_detection_saved_model')\n",
    "model.summary()"
   ]
  },
  {
   "cell_type": "markdown",
   "metadata": {
    "id": "P8mQwxUKZN4I"
   },
   "source": [
    "__Predict Image__"
   ]
  },
  {
   "cell_type": "code",
   "execution_count": null,
   "metadata": {
    "id": "NUPvlKlZX0Us"
   },
   "outputs": [],
   "source": [
    "class_names = ['Apple___Apple_scab', 'Apple___Black_rot', 'Apple___Cedar_apple_rust', 'Apple___healthy', 'Background_without_leaves',\n",
    "               'Corn___Cercospora_leaf_spot Gray_leaf_spot', 'Corn___Common_rust', 'Corn___healthy', 'Corn___Northern_Leaf_Blight',\n",
    "               'Grape___Black_rot', 'Grape___Esca_(Black_Measles)', 'Grape___healthy', 'Grape___Leaf_blight_(Isariopsis_Leaf_Spot)',\n",
    "               'Orange___Haunglongbing_(Citrus_greening)', 'Soybean___healthy']"
   ]
  },
  {
   "cell_type": "code",
   "execution_count": null,
   "metadata": {
    "id": "4_tfwyWPGK0I"
   },
   "outputs": [],
   "source": [
    "image_path = '/content/drive/MyDrive/Capstone/plant_disease_detection/Corn___Cercospora_leaf_spot Gray_leaf_spot_test_image.png'"
   ]
  },
  {
   "cell_type": "code",
   "execution_count": null,
   "metadata": {
    "id": "dhE_aZpqMbwE"
   },
   "outputs": [],
   "source": [
    "from tensorflow.keras.preprocessing import image\n",
    "from tensorflow.keras.applications.vgg19 import preprocess_input, decode_predictions"
   ]
  },
  {
   "cell_type": "code",
   "execution_count": null,
   "metadata": {
    "id": "oH4GxalPLkcu"
   },
   "outputs": [],
   "source": [
    "img = image.load_img(image_path, target_size=(224, 224))\n",
    "img_array = image.img_to_array(img)\n",
    "img_batch = np.expand_dims(img_array, axis=0)"
   ]
  },
  {
   "cell_type": "code",
   "execution_count": null,
   "metadata": {
    "id": "5eph8N7SMd59"
   },
   "outputs": [],
   "source": [
    "image_test = preprocess_input(img_batch)"
   ]
  },
  {
   "cell_type": "code",
   "execution_count": null,
   "metadata": {
    "id": "p4GXLlNiKJF1"
   },
   "outputs": [],
   "source": [
    "prediction = model.predict(image_test)[0]"
   ]
  },
  {
   "cell_type": "code",
   "execution_count": null,
   "metadata": {
    "colab": {
     "base_uri": "https://localhost:8080/"
    },
    "id": "NL8ZuhOYC-Ph",
    "outputId": "7d0e7fdb-66f1-4015-d0a8-98af86fc3017"
   },
   "outputs": [],
   "source": [
    "print(prediction)"
   ]
  },
  {
   "cell_type": "code",
   "execution_count": null,
   "metadata": {
    "colab": {
     "base_uri": "https://localhost:8080/",
     "height": 35
    },
    "id": "sGzQMZ3FaKIu",
    "outputId": "d52c8c5d-fbec-477c-8e65-e7e36a15774b"
   },
   "outputs": [],
   "source": [
    "class_names[np.argmax(prediction)]"
   ]
  },
  {
   "cell_type": "markdown",
   "metadata": {
    "id": "99sZvOSNX0pc"
   },
   "source": [
    "__TFLite Model__"
   ]
  },
  {
   "cell_type": "code",
   "execution_count": 19,
   "metadata": {
    "id": "J6ME4T1Y9DCE"
   },
   "outputs": [],
   "source": [
    "# convert SavedModel to tflite\n",
    "saved_model_dir = 'model/mobilenet_disease_detection_saved_model'\n",
    "converter = tf.lite.TFLiteConverter.from_saved_model(saved_model_dir) # path to the SavedModel directory\n",
    "tflite_model = converter.convert()\n",
    "\n",
    "# save tflite model.\n",
    "with open('model.tflite', 'wb') as f:\n",
    "  f.write(tflite_model)"
   ]
  },
  {
   "cell_type": "markdown",
   "metadata": {
    "id": "ektC40ZPXyeI"
   },
   "source": [
    "---"
   ]
  },
  {
   "cell_type": "code",
   "execution_count": null,
   "metadata": {
    "id": "QhdT1qOxXxip"
   },
   "outputs": [],
   "source": [
    "interpreter = tf.lite.Interpreter(\n",
    "    model_path=\"/content/drive/MyDrive/Capstone/plant_disease_detection/model.tflite\"\n",
    ")"
   ]
  },
  {
   "cell_type": "code",
   "execution_count": null,
   "metadata": {
    "id": "MOAC0AKWaGP8"
   },
   "outputs": [],
   "source": [
    "interpreter.allocate_tensors()"
   ]
  },
  {
   "cell_type": "code",
   "execution_count": null,
   "metadata": {
    "colab": {
     "base_uri": "https://localhost:8080/"
    },
    "id": "sSyLaodFaSWT",
    "outputId": "13c49968-d2c8-4928-bbea-fd11e97a003c"
   },
   "outputs": [],
   "source": [
    "interpreter.get_input_details()"
   ]
  },
  {
   "cell_type": "code",
   "execution_count": null,
   "metadata": {
    "id": "Zi8RRcwyaruT"
   },
   "outputs": [],
   "source": [
    "img = image.load_img(image_path, target_size=(224, 224))"
   ]
  },
  {
   "cell_type": "code",
   "execution_count": null,
   "metadata": {
    "id": "ABoeCsZ9bMw6"
   },
   "outputs": [],
   "source": [
    "img_array = image.img_to_array(img)\n",
    "img_batch = np.expand_dims(img_array, axis=0)"
   ]
  },
  {
   "cell_type": "code",
   "execution_count": null,
   "metadata": {
    "id": "0yUQkUZ_ckil"
   },
   "outputs": [],
   "source": [
    "input_index = interpreter.get_input_details()[0][\"index\"]\n",
    "output_index = interpreter.get_output_details()[0][\"index\"]"
   ]
  },
  {
   "cell_type": "code",
   "execution_count": null,
   "metadata": {
    "id": "LExsXLUhbess"
   },
   "outputs": [],
   "source": [
    "interpreter.set_tensor(input_index, img_batch)\n",
    "interpreter.invoke()"
   ]
  },
  {
   "cell_type": "code",
   "execution_count": null,
   "metadata": {
    "id": "B3LLHS08dAqi"
   },
   "outputs": [],
   "source": [
    "prediction = interpreter.get_tensor(output_index)"
   ]
  },
  {
   "cell_type": "code",
   "execution_count": null,
   "metadata": {
    "colab": {
     "base_uri": "https://localhost:8080/",
     "height": 35
    },
    "id": "_1cf2MLLdWpF",
    "outputId": "70b9905d-3bc1-4d65-ba97-6af4848c1348"
   },
   "outputs": [],
   "source": [
    "class_names[np.argmax(prediction)]"
   ]
  },
  {
   "cell_type": "code",
   "execution_count": null,
   "metadata": {
    "colab": {
     "base_uri": "https://localhost:8080/"
    },
    "id": "h_livixCd189",
    "outputId": "66f4b63e-5055-4847-9cab-db554a9916b9"
   },
   "outputs": [],
   "source": [
    "print(img_batch.dtype)"
   ]
  }
 ],
 "metadata": {
  "accelerator": "GPU",
  "colab": {
   "collapsed_sections": [],
   "name": "mobilenet_disease_detection.ipynb",
   "provenance": []
  },
  "kernelspec": {
   "name": "python385jvsc74a57bd0fbff9bfab3ee0df4124016b4e010029cf2ec5864ce5e3c4aa09796cc364af95f",
   "display_name": "Python 3.8.5 64-bit ('tools': virtualenv)"
  },
  "language_info": {
   "codemirror_mode": {
    "name": "ipython",
    "version": 3
   },
   "file_extension": ".py",
   "mimetype": "text/x-python",
   "name": "python",
   "nbconvert_exporter": "python",
   "pygments_lexer": "ipython3",
   "version": "3.8.5"
  },
  "toc": {
   "base_numbering": 1,
   "nav_menu": {},
   "number_sections": true,
   "sideBar": true,
   "skip_h1_title": false,
   "title_cell": "Table of Contents",
   "title_sidebar": "Contents",
   "toc_cell": false,
   "toc_position": {},
   "toc_section_display": true,
   "toc_window_display": false
  }
 },
 "nbformat": 4,
 "nbformat_minor": 1
}