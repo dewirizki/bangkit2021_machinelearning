{
 "metadata": {
  "language_info": {
   "codemirror_mode": {
    "name": "ipython",
    "version": 3
   },
   "file_extension": ".py",
   "mimetype": "text/x-python",
   "name": "python",
   "nbconvert_exporter": "python",
   "pygments_lexer": "ipython3",
   "version": "3.8.5"
  },
  "orig_nbformat": 2,
  "kernelspec": {
   "name": "python385jvsc74a57bd0fbff9bfab3ee0df4124016b4e010029cf2ec5864ce5e3c4aa09796cc364af95f",
   "display_name": "Python 3.8.5 64-bit (conda)"
  }
 },
 "nbformat": 4,
 "nbformat_minor": 2,
 "cells": [
  {
   "cell_type": "code",
   "execution_count": 1,
   "metadata": {},
   "outputs": [],
   "source": [
    "import pandas as pd\n",
    "import numpy as np\n",
    "from pathlib import PurePosixPath, PureWindowsPath"
   ]
  },
  {
   "cell_type": "code",
   "execution_count": 2,
   "metadata": {},
   "outputs": [],
   "source": [
    "def get_directory(path):\n",
    "    if os.name == 'posix':\n",
    "        return str(PurePosixPath(path))\n",
    "    else:\n",
    "        return str(PureWindowsPath(path))"
   ]
  },
  {
   "cell_type": "code",
   "execution_count": 3,
   "metadata": {},
   "outputs": [],
   "source": [
    "# Variables\n",
    "FERTILIZER_LOCATION = get_directory('../dataset/fertilizer')\n",
    "TRAIN_SPLIT = 0.8\n",
    "INPUT_HEADERS = ['temperature', 'humidity', 'ph', 'rainfall', 'is_maize', 'is_grape', 'is_apple', 'is_orange', 'label']"
   ]
  },
  {
   "cell_type": "code",
   "execution_count": 4,
   "metadata": {},
   "outputs": [
    {
     "output_type": "execute_result",
     "data": {
      "text/plain": [
       "['temperature',\n",
       " 'humidity',\n",
       " 'ph',\n",
       " 'rainfall',\n",
       " 'is_maize',\n",
       " 'is_grape',\n",
       " 'is_apple',\n",
       " 'is_orange',\n",
       " 'label']"
      ]
     },
     "metadata": {},
     "execution_count": 4
    }
   ],
   "source": [
    "INPUT_HEADERS"
   ]
  },
  {
   "cell_type": "code",
   "execution_count": 5,
   "metadata": {},
   "outputs": [],
   "source": [
    "_fert = pd.read_excel(get_directory(FERTILIZER_LOCATION + '/Fertilizer Prediction.xlsx'))\n",
    "#_fert = pd.read_excel('./dataset/fertilizer/Fertilizer Prediction.xlsx')"
   ]
  },
  {
   "cell_type": "code",
   "execution_count": 6,
   "metadata": {},
   "outputs": [
    {
     "output_type": "execute_result",
     "data": {
      "text/plain": [
       "    N   P   K  temperature   humidity        ph    rainfall  label\n",
       "0  71  54  16    22.613600  63.690706  5.749914   87.759539  maize\n",
       "1  61  44  17    26.100184  71.574769  6.931757  102.266244  maize\n",
       "2  80  43  16    23.558821  71.593514  6.657965   66.719955  maize\n",
       "3  73  58  21    19.972160  57.682729  6.596061   60.651715  maize\n",
       "4  61  38  20    18.478913  62.695039  5.970458   65.438354  maize"
      ],
      "text/html": "<div>\n<style scoped>\n    .dataframe tbody tr th:only-of-type {\n        vertical-align: middle;\n    }\n\n    .dataframe tbody tr th {\n        vertical-align: top;\n    }\n\n    .dataframe thead th {\n        text-align: right;\n    }\n</style>\n<table border=\"1\" class=\"dataframe\">\n  <thead>\n    <tr style=\"text-align: right;\">\n      <th></th>\n      <th>N</th>\n      <th>P</th>\n      <th>K</th>\n      <th>temperature</th>\n      <th>humidity</th>\n      <th>ph</th>\n      <th>rainfall</th>\n      <th>label</th>\n    </tr>\n  </thead>\n  <tbody>\n    <tr>\n      <th>0</th>\n      <td>71</td>\n      <td>54</td>\n      <td>16</td>\n      <td>22.613600</td>\n      <td>63.690706</td>\n      <td>5.749914</td>\n      <td>87.759539</td>\n      <td>maize</td>\n    </tr>\n    <tr>\n      <th>1</th>\n      <td>61</td>\n      <td>44</td>\n      <td>17</td>\n      <td>26.100184</td>\n      <td>71.574769</td>\n      <td>6.931757</td>\n      <td>102.266244</td>\n      <td>maize</td>\n    </tr>\n    <tr>\n      <th>2</th>\n      <td>80</td>\n      <td>43</td>\n      <td>16</td>\n      <td>23.558821</td>\n      <td>71.593514</td>\n      <td>6.657965</td>\n      <td>66.719955</td>\n      <td>maize</td>\n    </tr>\n    <tr>\n      <th>3</th>\n      <td>73</td>\n      <td>58</td>\n      <td>21</td>\n      <td>19.972160</td>\n      <td>57.682729</td>\n      <td>6.596061</td>\n      <td>60.651715</td>\n      <td>maize</td>\n    </tr>\n    <tr>\n      <th>4</th>\n      <td>61</td>\n      <td>38</td>\n      <td>20</td>\n      <td>18.478913</td>\n      <td>62.695039</td>\n      <td>5.970458</td>\n      <td>65.438354</td>\n      <td>maize</td>\n    </tr>\n  </tbody>\n</table>\n</div>"
     },
     "metadata": {},
     "execution_count": 6
    }
   ],
   "source": [
    "_fert.head()"
   ]
  },
  {
   "cell_type": "code",
   "execution_count": 7,
   "metadata": {},
   "outputs": [
    {
     "output_type": "execute_result",
     "data": {
      "text/plain": [
       "N                int64\n",
       "P                int64\n",
       "K                int64\n",
       "temperature    float64\n",
       "humidity       float64\n",
       "ph             float64\n",
       "rainfall       float64\n",
       "label           object\n",
       "dtype: object"
      ]
     },
     "metadata": {},
     "execution_count": 7
    }
   ],
   "source": [
    "_fert.dtypes"
   ]
  },
  {
   "cell_type": "code",
   "execution_count": 8,
   "metadata": {},
   "outputs": [
    {
     "output_type": "execute_result",
     "data": {
      "text/plain": [
       "      N   P   K  temperature   humidity        ph    rainfall   label\n",
       "0    71  54  16    22.613600  63.690706  5.749914   87.759539   maize\n",
       "1    61  44  17    26.100184  71.574769  6.931757  102.266244   maize\n",
       "2    80  43  16    23.558821  71.593514  6.657965   66.719955   maize\n",
       "3    73  58  21    19.972160  57.682729  6.596061   60.651715   maize\n",
       "4    61  38  20    18.478913  62.695039  5.970458   65.438354   maize\n",
       "..   ..  ..  ..          ...        ...       ...         ...     ...\n",
       "395  27  30   5    32.717485  90.546083  7.656978  113.328978  orange\n",
       "396  13   8  12    25.162966  92.547360  7.105905  114.311720  orange\n",
       "397   6   7   7    27.681673  94.473169  7.199106  113.999515  orange\n",
       "398  40  17  15    21.350934  90.949297  7.871063  107.086209  orange\n",
       "399  31  26   9    11.698946  93.256389  7.566166  103.200599  orange\n",
       "\n",
       "[400 rows x 8 columns]"
      ],
      "text/html": "<div>\n<style scoped>\n    .dataframe tbody tr th:only-of-type {\n        vertical-align: middle;\n    }\n\n    .dataframe tbody tr th {\n        vertical-align: top;\n    }\n\n    .dataframe thead th {\n        text-align: right;\n    }\n</style>\n<table border=\"1\" class=\"dataframe\">\n  <thead>\n    <tr style=\"text-align: right;\">\n      <th></th>\n      <th>N</th>\n      <th>P</th>\n      <th>K</th>\n      <th>temperature</th>\n      <th>humidity</th>\n      <th>ph</th>\n      <th>rainfall</th>\n      <th>label</th>\n    </tr>\n  </thead>\n  <tbody>\n    <tr>\n      <th>0</th>\n      <td>71</td>\n      <td>54</td>\n      <td>16</td>\n      <td>22.613600</td>\n      <td>63.690706</td>\n      <td>5.749914</td>\n      <td>87.759539</td>\n      <td>maize</td>\n    </tr>\n    <tr>\n      <th>1</th>\n      <td>61</td>\n      <td>44</td>\n      <td>17</td>\n      <td>26.100184</td>\n      <td>71.574769</td>\n      <td>6.931757</td>\n      <td>102.266244</td>\n      <td>maize</td>\n    </tr>\n    <tr>\n      <th>2</th>\n      <td>80</td>\n      <td>43</td>\n      <td>16</td>\n      <td>23.558821</td>\n      <td>71.593514</td>\n      <td>6.657965</td>\n      <td>66.719955</td>\n      <td>maize</td>\n    </tr>\n    <tr>\n      <th>3</th>\n      <td>73</td>\n      <td>58</td>\n      <td>21</td>\n      <td>19.972160</td>\n      <td>57.682729</td>\n      <td>6.596061</td>\n      <td>60.651715</td>\n      <td>maize</td>\n    </tr>\n    <tr>\n      <th>4</th>\n      <td>61</td>\n      <td>38</td>\n      <td>20</td>\n      <td>18.478913</td>\n      <td>62.695039</td>\n      <td>5.970458</td>\n      <td>65.438354</td>\n      <td>maize</td>\n    </tr>\n    <tr>\n      <th>...</th>\n      <td>...</td>\n      <td>...</td>\n      <td>...</td>\n      <td>...</td>\n      <td>...</td>\n      <td>...</td>\n      <td>...</td>\n      <td>...</td>\n    </tr>\n    <tr>\n      <th>395</th>\n      <td>27</td>\n      <td>30</td>\n      <td>5</td>\n      <td>32.717485</td>\n      <td>90.546083</td>\n      <td>7.656978</td>\n      <td>113.328978</td>\n      <td>orange</td>\n    </tr>\n    <tr>\n      <th>396</th>\n      <td>13</td>\n      <td>8</td>\n      <td>12</td>\n      <td>25.162966</td>\n      <td>92.547360</td>\n      <td>7.105905</td>\n      <td>114.311720</td>\n      <td>orange</td>\n    </tr>\n    <tr>\n      <th>397</th>\n      <td>6</td>\n      <td>7</td>\n      <td>7</td>\n      <td>27.681673</td>\n      <td>94.473169</td>\n      <td>7.199106</td>\n      <td>113.999515</td>\n      <td>orange</td>\n    </tr>\n    <tr>\n      <th>398</th>\n      <td>40</td>\n      <td>17</td>\n      <td>15</td>\n      <td>21.350934</td>\n      <td>90.949297</td>\n      <td>7.871063</td>\n      <td>107.086209</td>\n      <td>orange</td>\n    </tr>\n    <tr>\n      <th>399</th>\n      <td>31</td>\n      <td>26</td>\n      <td>9</td>\n      <td>11.698946</td>\n      <td>93.256389</td>\n      <td>7.566166</td>\n      <td>103.200599</td>\n      <td>orange</td>\n    </tr>\n  </tbody>\n</table>\n<p>400 rows × 8 columns</p>\n</div>"
     },
     "metadata": {},
     "execution_count": 8
    }
   ],
   "source": [
    "# Sanity check - now Label should be gone, replaced by one-hot encodings\n",
    "_fert"
   ]
  },
  {
   "cell_type": "code",
   "execution_count": 9,
   "metadata": {},
   "outputs": [],
   "source": [
    "_fert['label'] = pd.Categorical(_fert['label'])\n",
    "_fert['label'] = _fert.label.cat.codes"
   ]
  },
  {
   "cell_type": "code",
   "execution_count": 10,
   "metadata": {},
   "outputs": [
    {
     "output_type": "execute_result",
     "data": {
      "text/plain": [
       "    N   P   K  temperature   humidity        ph    rainfall  label\n",
       "0  71  54  16    22.613600  63.690706  5.749914   87.759539      2\n",
       "1  61  44  17    26.100184  71.574769  6.931757  102.266244      2\n",
       "2  80  43  16    23.558821  71.593514  6.657965   66.719955      2\n",
       "3  73  58  21    19.972160  57.682729  6.596061   60.651715      2\n",
       "4  61  38  20    18.478913  62.695039  5.970458   65.438354      2"
      ],
      "text/html": "<div>\n<style scoped>\n    .dataframe tbody tr th:only-of-type {\n        vertical-align: middle;\n    }\n\n    .dataframe tbody tr th {\n        vertical-align: top;\n    }\n\n    .dataframe thead th {\n        text-align: right;\n    }\n</style>\n<table border=\"1\" class=\"dataframe\">\n  <thead>\n    <tr style=\"text-align: right;\">\n      <th></th>\n      <th>N</th>\n      <th>P</th>\n      <th>K</th>\n      <th>temperature</th>\n      <th>humidity</th>\n      <th>ph</th>\n      <th>rainfall</th>\n      <th>label</th>\n    </tr>\n  </thead>\n  <tbody>\n    <tr>\n      <th>0</th>\n      <td>71</td>\n      <td>54</td>\n      <td>16</td>\n      <td>22.613600</td>\n      <td>63.690706</td>\n      <td>5.749914</td>\n      <td>87.759539</td>\n      <td>2</td>\n    </tr>\n    <tr>\n      <th>1</th>\n      <td>61</td>\n      <td>44</td>\n      <td>17</td>\n      <td>26.100184</td>\n      <td>71.574769</td>\n      <td>6.931757</td>\n      <td>102.266244</td>\n      <td>2</td>\n    </tr>\n    <tr>\n      <th>2</th>\n      <td>80</td>\n      <td>43</td>\n      <td>16</td>\n      <td>23.558821</td>\n      <td>71.593514</td>\n      <td>6.657965</td>\n      <td>66.719955</td>\n      <td>2</td>\n    </tr>\n    <tr>\n      <th>3</th>\n      <td>73</td>\n      <td>58</td>\n      <td>21</td>\n      <td>19.972160</td>\n      <td>57.682729</td>\n      <td>6.596061</td>\n      <td>60.651715</td>\n      <td>2</td>\n    </tr>\n    <tr>\n      <th>4</th>\n      <td>61</td>\n      <td>38</td>\n      <td>20</td>\n      <td>18.478913</td>\n      <td>62.695039</td>\n      <td>5.970458</td>\n      <td>65.438354</td>\n      <td>2</td>\n    </tr>\n  </tbody>\n</table>\n</div>"
     },
     "metadata": {},
     "execution_count": 10
    }
   ],
   "source": [
    "_fert.head()"
   ]
  },
  {
   "cell_type": "code",
   "execution_count": 11,
   "metadata": {},
   "outputs": [],
   "source": [
    "_fert_N = _fert[['N', 'temperature', 'humidity', 'ph', 'rainfall', 'label']].copy()\n",
    "_fert_P = _fert[['P', 'temperature', 'humidity', 'ph', 'rainfall', 'label']].copy()\n",
    "_fert_K = _fert[['K', 'temperature', 'humidity', 'ph', 'rainfall', 'label']].copy()"
   ]
  },
  {
   "cell_type": "code",
   "execution_count": 12,
   "metadata": {},
   "outputs": [],
   "source": [
    "# Labelling representation of each data\n",
    "_fert_N.loc[:, 'target_output'] = 0\n",
    "_fert_P.loc[:, 'target_output'] = 1\n",
    "_fert_K.loc[:, 'target_output'] = 2\n",
    "\n",
    "_fert_N.rename(columns = {'N': 'output'}, inplace=True)\n",
    "_fert_P.rename(columns = {'P': 'output'}, inplace=True)\n",
    "_fert_K.rename(columns = {'K': 'output'}, inplace=True)"
   ]
  },
  {
   "cell_type": "code",
   "execution_count": 13,
   "metadata": {},
   "outputs": [
    {
     "output_type": "execute_result",
     "data": {
      "text/plain": [
       "     output  temperature   humidity        ph    rainfall  label  \\\n",
       "0        71    22.613600  63.690706  5.749914   87.759539      2   \n",
       "1        61    26.100184  71.574769  6.931757  102.266244      2   \n",
       "2        80    23.558821  71.593514  6.657965   66.719955      2   \n",
       "3        73    19.972160  57.682729  6.596061   60.651715      2   \n",
       "4        61    18.478913  62.695039  5.970458   65.438354      2   \n",
       "..      ...          ...        ...       ...         ...    ...   \n",
       "395      27    32.717485  90.546083  7.656978  113.328978      3   \n",
       "396      13    25.162966  92.547360  7.105905  114.311720      3   \n",
       "397       6    27.681673  94.473169  7.199106  113.999515      3   \n",
       "398      40    21.350934  90.949297  7.871063  107.086209      3   \n",
       "399      31    11.698946  93.256389  7.566166  103.200599      3   \n",
       "\n",
       "     target_output  \n",
       "0                0  \n",
       "1                0  \n",
       "2                0  \n",
       "3                0  \n",
       "4                0  \n",
       "..             ...  \n",
       "395              0  \n",
       "396              0  \n",
       "397              0  \n",
       "398              0  \n",
       "399              0  \n",
       "\n",
       "[400 rows x 7 columns]"
      ],
      "text/html": "<div>\n<style scoped>\n    .dataframe tbody tr th:only-of-type {\n        vertical-align: middle;\n    }\n\n    .dataframe tbody tr th {\n        vertical-align: top;\n    }\n\n    .dataframe thead th {\n        text-align: right;\n    }\n</style>\n<table border=\"1\" class=\"dataframe\">\n  <thead>\n    <tr style=\"text-align: right;\">\n      <th></th>\n      <th>output</th>\n      <th>temperature</th>\n      <th>humidity</th>\n      <th>ph</th>\n      <th>rainfall</th>\n      <th>label</th>\n      <th>target_output</th>\n    </tr>\n  </thead>\n  <tbody>\n    <tr>\n      <th>0</th>\n      <td>71</td>\n      <td>22.613600</td>\n      <td>63.690706</td>\n      <td>5.749914</td>\n      <td>87.759539</td>\n      <td>2</td>\n      <td>0</td>\n    </tr>\n    <tr>\n      <th>1</th>\n      <td>61</td>\n      <td>26.100184</td>\n      <td>71.574769</td>\n      <td>6.931757</td>\n      <td>102.266244</td>\n      <td>2</td>\n      <td>0</td>\n    </tr>\n    <tr>\n      <th>2</th>\n      <td>80</td>\n      <td>23.558821</td>\n      <td>71.593514</td>\n      <td>6.657965</td>\n      <td>66.719955</td>\n      <td>2</td>\n      <td>0</td>\n    </tr>\n    <tr>\n      <th>3</th>\n      <td>73</td>\n      <td>19.972160</td>\n      <td>57.682729</td>\n      <td>6.596061</td>\n      <td>60.651715</td>\n      <td>2</td>\n      <td>0</td>\n    </tr>\n    <tr>\n      <th>4</th>\n      <td>61</td>\n      <td>18.478913</td>\n      <td>62.695039</td>\n      <td>5.970458</td>\n      <td>65.438354</td>\n      <td>2</td>\n      <td>0</td>\n    </tr>\n    <tr>\n      <th>...</th>\n      <td>...</td>\n      <td>...</td>\n      <td>...</td>\n      <td>...</td>\n      <td>...</td>\n      <td>...</td>\n      <td>...</td>\n    </tr>\n    <tr>\n      <th>395</th>\n      <td>27</td>\n      <td>32.717485</td>\n      <td>90.546083</td>\n      <td>7.656978</td>\n      <td>113.328978</td>\n      <td>3</td>\n      <td>0</td>\n    </tr>\n    <tr>\n      <th>396</th>\n      <td>13</td>\n      <td>25.162966</td>\n      <td>92.547360</td>\n      <td>7.105905</td>\n      <td>114.311720</td>\n      <td>3</td>\n      <td>0</td>\n    </tr>\n    <tr>\n      <th>397</th>\n      <td>6</td>\n      <td>27.681673</td>\n      <td>94.473169</td>\n      <td>7.199106</td>\n      <td>113.999515</td>\n      <td>3</td>\n      <td>0</td>\n    </tr>\n    <tr>\n      <th>398</th>\n      <td>40</td>\n      <td>21.350934</td>\n      <td>90.949297</td>\n      <td>7.871063</td>\n      <td>107.086209</td>\n      <td>3</td>\n      <td>0</td>\n    </tr>\n    <tr>\n      <th>399</th>\n      <td>31</td>\n      <td>11.698946</td>\n      <td>93.256389</td>\n      <td>7.566166</td>\n      <td>103.200599</td>\n      <td>3</td>\n      <td>0</td>\n    </tr>\n  </tbody>\n</table>\n<p>400 rows × 7 columns</p>\n</div>"
     },
     "metadata": {},
     "execution_count": 13
    }
   ],
   "source": [
    "# Sanity check\n",
    "_fert_N"
   ]
  },
  {
   "cell_type": "code",
   "execution_count": 14,
   "metadata": {},
   "outputs": [
    {
     "output_type": "execute_result",
     "data": {
      "text/plain": [
       "     output  temperature   humidity        ph    rainfall  label  \\\n",
       "0        16    22.613600  63.690706  5.749914   87.759539      2   \n",
       "1        17    26.100184  71.574769  6.931757  102.266244      2   \n",
       "2        16    23.558821  71.593514  6.657965   66.719955      2   \n",
       "3        21    19.972160  57.682729  6.596061   60.651715      2   \n",
       "4        20    18.478913  62.695039  5.970458   65.438354      2   \n",
       "..      ...          ...        ...       ...         ...    ...   \n",
       "395       5    32.717485  90.546083  7.656978  113.328978      3   \n",
       "396      12    25.162966  92.547360  7.105905  114.311720      3   \n",
       "397       7    27.681673  94.473169  7.199106  113.999515      3   \n",
       "398      15    21.350934  90.949297  7.871063  107.086209      3   \n",
       "399       9    11.698946  93.256389  7.566166  103.200599      3   \n",
       "\n",
       "     target_output  \n",
       "0                2  \n",
       "1                2  \n",
       "2                2  \n",
       "3                2  \n",
       "4                2  \n",
       "..             ...  \n",
       "395              2  \n",
       "396              2  \n",
       "397              2  \n",
       "398              2  \n",
       "399              2  \n",
       "\n",
       "[400 rows x 7 columns]"
      ],
      "text/html": "<div>\n<style scoped>\n    .dataframe tbody tr th:only-of-type {\n        vertical-align: middle;\n    }\n\n    .dataframe tbody tr th {\n        vertical-align: top;\n    }\n\n    .dataframe thead th {\n        text-align: right;\n    }\n</style>\n<table border=\"1\" class=\"dataframe\">\n  <thead>\n    <tr style=\"text-align: right;\">\n      <th></th>\n      <th>output</th>\n      <th>temperature</th>\n      <th>humidity</th>\n      <th>ph</th>\n      <th>rainfall</th>\n      <th>label</th>\n      <th>target_output</th>\n    </tr>\n  </thead>\n  <tbody>\n    <tr>\n      <th>0</th>\n      <td>16</td>\n      <td>22.613600</td>\n      <td>63.690706</td>\n      <td>5.749914</td>\n      <td>87.759539</td>\n      <td>2</td>\n      <td>2</td>\n    </tr>\n    <tr>\n      <th>1</th>\n      <td>17</td>\n      <td>26.100184</td>\n      <td>71.574769</td>\n      <td>6.931757</td>\n      <td>102.266244</td>\n      <td>2</td>\n      <td>2</td>\n    </tr>\n    <tr>\n      <th>2</th>\n      <td>16</td>\n      <td>23.558821</td>\n      <td>71.593514</td>\n      <td>6.657965</td>\n      <td>66.719955</td>\n      <td>2</td>\n      <td>2</td>\n    </tr>\n    <tr>\n      <th>3</th>\n      <td>21</td>\n      <td>19.972160</td>\n      <td>57.682729</td>\n      <td>6.596061</td>\n      <td>60.651715</td>\n      <td>2</td>\n      <td>2</td>\n    </tr>\n    <tr>\n      <th>4</th>\n      <td>20</td>\n      <td>18.478913</td>\n      <td>62.695039</td>\n      <td>5.970458</td>\n      <td>65.438354</td>\n      <td>2</td>\n      <td>2</td>\n    </tr>\n    <tr>\n      <th>...</th>\n      <td>...</td>\n      <td>...</td>\n      <td>...</td>\n      <td>...</td>\n      <td>...</td>\n      <td>...</td>\n      <td>...</td>\n    </tr>\n    <tr>\n      <th>395</th>\n      <td>5</td>\n      <td>32.717485</td>\n      <td>90.546083</td>\n      <td>7.656978</td>\n      <td>113.328978</td>\n      <td>3</td>\n      <td>2</td>\n    </tr>\n    <tr>\n      <th>396</th>\n      <td>12</td>\n      <td>25.162966</td>\n      <td>92.547360</td>\n      <td>7.105905</td>\n      <td>114.311720</td>\n      <td>3</td>\n      <td>2</td>\n    </tr>\n    <tr>\n      <th>397</th>\n      <td>7</td>\n      <td>27.681673</td>\n      <td>94.473169</td>\n      <td>7.199106</td>\n      <td>113.999515</td>\n      <td>3</td>\n      <td>2</td>\n    </tr>\n    <tr>\n      <th>398</th>\n      <td>15</td>\n      <td>21.350934</td>\n      <td>90.949297</td>\n      <td>7.871063</td>\n      <td>107.086209</td>\n      <td>3</td>\n      <td>2</td>\n    </tr>\n    <tr>\n      <th>399</th>\n      <td>9</td>\n      <td>11.698946</td>\n      <td>93.256389</td>\n      <td>7.566166</td>\n      <td>103.200599</td>\n      <td>3</td>\n      <td>2</td>\n    </tr>\n  </tbody>\n</table>\n<p>400 rows × 7 columns</p>\n</div>"
     },
     "metadata": {},
     "execution_count": 14
    }
   ],
   "source": [
    "_fert_K"
   ]
  },
  {
   "cell_type": "code",
   "execution_count": 15,
   "metadata": {},
   "outputs": [
    {
     "output_type": "execute_result",
     "data": {
      "text/plain": [
       "      output  temperature   humidity        ph    rainfall  label  \\\n",
       "0         71    22.613600  63.690706  5.749914   87.759539      2   \n",
       "1         61    26.100184  71.574769  6.931757  102.266244      2   \n",
       "2         80    23.558821  71.593514  6.657965   66.719955      2   \n",
       "3         73    19.972160  57.682729  6.596061   60.651715      2   \n",
       "4         61    18.478913  62.695039  5.970458   65.438354      2   \n",
       "...      ...          ...        ...       ...         ...    ...   \n",
       "1195       5    32.717485  90.546083  7.656978  113.328978      3   \n",
       "1196      12    25.162966  92.547360  7.105905  114.311720      3   \n",
       "1197       7    27.681673  94.473169  7.199106  113.999515      3   \n",
       "1198      15    21.350934  90.949297  7.871063  107.086209      3   \n",
       "1199       9    11.698946  93.256389  7.566166  103.200599      3   \n",
       "\n",
       "      target_output  \n",
       "0                 0  \n",
       "1                 0  \n",
       "2                 0  \n",
       "3                 0  \n",
       "4                 0  \n",
       "...             ...  \n",
       "1195              2  \n",
       "1196              2  \n",
       "1197              2  \n",
       "1198              2  \n",
       "1199              2  \n",
       "\n",
       "[1200 rows x 7 columns]"
      ],
      "text/html": "<div>\n<style scoped>\n    .dataframe tbody tr th:only-of-type {\n        vertical-align: middle;\n    }\n\n    .dataframe tbody tr th {\n        vertical-align: top;\n    }\n\n    .dataframe thead th {\n        text-align: right;\n    }\n</style>\n<table border=\"1\" class=\"dataframe\">\n  <thead>\n    <tr style=\"text-align: right;\">\n      <th></th>\n      <th>output</th>\n      <th>temperature</th>\n      <th>humidity</th>\n      <th>ph</th>\n      <th>rainfall</th>\n      <th>label</th>\n      <th>target_output</th>\n    </tr>\n  </thead>\n  <tbody>\n    <tr>\n      <th>0</th>\n      <td>71</td>\n      <td>22.613600</td>\n      <td>63.690706</td>\n      <td>5.749914</td>\n      <td>87.759539</td>\n      <td>2</td>\n      <td>0</td>\n    </tr>\n    <tr>\n      <th>1</th>\n      <td>61</td>\n      <td>26.100184</td>\n      <td>71.574769</td>\n      <td>6.931757</td>\n      <td>102.266244</td>\n      <td>2</td>\n      <td>0</td>\n    </tr>\n    <tr>\n      <th>2</th>\n      <td>80</td>\n      <td>23.558821</td>\n      <td>71.593514</td>\n      <td>6.657965</td>\n      <td>66.719955</td>\n      <td>2</td>\n      <td>0</td>\n    </tr>\n    <tr>\n      <th>3</th>\n      <td>73</td>\n      <td>19.972160</td>\n      <td>57.682729</td>\n      <td>6.596061</td>\n      <td>60.651715</td>\n      <td>2</td>\n      <td>0</td>\n    </tr>\n    <tr>\n      <th>4</th>\n      <td>61</td>\n      <td>18.478913</td>\n      <td>62.695039</td>\n      <td>5.970458</td>\n      <td>65.438354</td>\n      <td>2</td>\n      <td>0</td>\n    </tr>\n    <tr>\n      <th>...</th>\n      <td>...</td>\n      <td>...</td>\n      <td>...</td>\n      <td>...</td>\n      <td>...</td>\n      <td>...</td>\n      <td>...</td>\n    </tr>\n    <tr>\n      <th>1195</th>\n      <td>5</td>\n      <td>32.717485</td>\n      <td>90.546083</td>\n      <td>7.656978</td>\n      <td>113.328978</td>\n      <td>3</td>\n      <td>2</td>\n    </tr>\n    <tr>\n      <th>1196</th>\n      <td>12</td>\n      <td>25.162966</td>\n      <td>92.547360</td>\n      <td>7.105905</td>\n      <td>114.311720</td>\n      <td>3</td>\n      <td>2</td>\n    </tr>\n    <tr>\n      <th>1197</th>\n      <td>7</td>\n      <td>27.681673</td>\n      <td>94.473169</td>\n      <td>7.199106</td>\n      <td>113.999515</td>\n      <td>3</td>\n      <td>2</td>\n    </tr>\n    <tr>\n      <th>1198</th>\n      <td>15</td>\n      <td>21.350934</td>\n      <td>90.949297</td>\n      <td>7.871063</td>\n      <td>107.086209</td>\n      <td>3</td>\n      <td>2</td>\n    </tr>\n    <tr>\n      <th>1199</th>\n      <td>9</td>\n      <td>11.698946</td>\n      <td>93.256389</td>\n      <td>7.566166</td>\n      <td>103.200599</td>\n      <td>3</td>\n      <td>2</td>\n    </tr>\n  </tbody>\n</table>\n<p>1200 rows × 7 columns</p>\n</div>"
     },
     "metadata": {},
     "execution_count": 15
    }
   ],
   "source": [
    "FERTILISER = _fert_N.copy()\n",
    "FERTILISER = FERTILISER.append(\n",
    "    _fert_P, \n",
    "    ignore_index=True).append(\n",
    "        _fert_K,\n",
    "        ignore_index=True\n",
    "    )\n",
    "\n",
    "FERTILISER"
   ]
  },
  {
   "cell_type": "code",
   "execution_count": 16,
   "metadata": {},
   "outputs": [
    {
     "output_type": "execute_result",
     "data": {
      "text/plain": [
       "            output  temperature     humidity           ph     rainfall  \\\n",
       "count  1200.000000  1200.000000  1200.000000  1200.000000  1200.000000   \n",
       "mean     75.238333    22.908862    82.867767     6.304437    94.377141   \n",
       "std      70.161186     6.253690    11.493721     0.588955    20.189610   \n",
       "min       0.000000     8.825675    55.282204     5.510925    60.651715   \n",
       "25%      17.000000    19.723364    78.719580     5.839879    71.424148   \n",
       "50%      39.000000    22.705257    86.994867     6.206827   102.626226   \n",
       "75%     135.000000    25.190546    92.049560     6.552920   111.777102   \n",
       "max     205.000000    41.948657    94.964199     7.995849   124.983162   \n",
       "\n",
       "           label  target_output  \n",
       "count  1200.0000    1200.000000  \n",
       "mean      1.5000       1.000000  \n",
       "std       1.1185       0.816837  \n",
       "min       0.0000       0.000000  \n",
       "25%       0.7500       0.000000  \n",
       "50%       1.5000       1.000000  \n",
       "75%       2.2500       2.000000  \n",
       "max       3.0000       2.000000  "
      ],
      "text/html": "<div>\n<style scoped>\n    .dataframe tbody tr th:only-of-type {\n        vertical-align: middle;\n    }\n\n    .dataframe tbody tr th {\n        vertical-align: top;\n    }\n\n    .dataframe thead th {\n        text-align: right;\n    }\n</style>\n<table border=\"1\" class=\"dataframe\">\n  <thead>\n    <tr style=\"text-align: right;\">\n      <th></th>\n      <th>output</th>\n      <th>temperature</th>\n      <th>humidity</th>\n      <th>ph</th>\n      <th>rainfall</th>\n      <th>label</th>\n      <th>target_output</th>\n    </tr>\n  </thead>\n  <tbody>\n    <tr>\n      <th>count</th>\n      <td>1200.000000</td>\n      <td>1200.000000</td>\n      <td>1200.000000</td>\n      <td>1200.000000</td>\n      <td>1200.000000</td>\n      <td>1200.0000</td>\n      <td>1200.000000</td>\n    </tr>\n    <tr>\n      <th>mean</th>\n      <td>75.238333</td>\n      <td>22.908862</td>\n      <td>82.867767</td>\n      <td>6.304437</td>\n      <td>94.377141</td>\n      <td>1.5000</td>\n      <td>1.000000</td>\n    </tr>\n    <tr>\n      <th>std</th>\n      <td>70.161186</td>\n      <td>6.253690</td>\n      <td>11.493721</td>\n      <td>0.588955</td>\n      <td>20.189610</td>\n      <td>1.1185</td>\n      <td>0.816837</td>\n    </tr>\n    <tr>\n      <th>min</th>\n      <td>0.000000</td>\n      <td>8.825675</td>\n      <td>55.282204</td>\n      <td>5.510925</td>\n      <td>60.651715</td>\n      <td>0.0000</td>\n      <td>0.000000</td>\n    </tr>\n    <tr>\n      <th>25%</th>\n      <td>17.000000</td>\n      <td>19.723364</td>\n      <td>78.719580</td>\n      <td>5.839879</td>\n      <td>71.424148</td>\n      <td>0.7500</td>\n      <td>0.000000</td>\n    </tr>\n    <tr>\n      <th>50%</th>\n      <td>39.000000</td>\n      <td>22.705257</td>\n      <td>86.994867</td>\n      <td>6.206827</td>\n      <td>102.626226</td>\n      <td>1.5000</td>\n      <td>1.000000</td>\n    </tr>\n    <tr>\n      <th>75%</th>\n      <td>135.000000</td>\n      <td>25.190546</td>\n      <td>92.049560</td>\n      <td>6.552920</td>\n      <td>111.777102</td>\n      <td>2.2500</td>\n      <td>2.000000</td>\n    </tr>\n    <tr>\n      <th>max</th>\n      <td>205.000000</td>\n      <td>41.948657</td>\n      <td>94.964199</td>\n      <td>7.995849</td>\n      <td>124.983162</td>\n      <td>3.0000</td>\n      <td>2.000000</td>\n    </tr>\n  </tbody>\n</table>\n</div>"
     },
     "metadata": {},
     "execution_count": 16
    }
   ],
   "source": [
    "# Data to see before deciding on normalisation: max values\n",
    "FERTILISER.describe()"
   ]
  },
  {
   "cell_type": "code",
   "execution_count": 17,
   "metadata": {},
   "outputs": [
    {
     "output_type": "execute_result",
     "data": {
      "text/plain": [
       "      output  temperature   humidity        ph    rainfall  label  \\\n",
       "0         71    22.613600  63.690706  5.749914   87.759539      2   \n",
       "1         61    26.100184  71.574769  6.931757  102.266244      2   \n",
       "2         80    23.558821  71.593514  6.657965   66.719955      2   \n",
       "3         73    19.972160  57.682729  6.596061   60.651715      2   \n",
       "4         61    18.478913  62.695039  5.970458   65.438354      2   \n",
       "...      ...          ...        ...       ...         ...    ...   \n",
       "1195       5    32.717485  90.546083  7.656978  113.328978      3   \n",
       "1196      12    25.162966  92.547360  7.105905  114.311720      3   \n",
       "1197       7    27.681673  94.473169  7.199106  113.999515      3   \n",
       "1198      15    21.350934  90.949297  7.871063  107.086209      3   \n",
       "1199       9    11.698946  93.256389  7.566166  103.200599      3   \n",
       "\n",
       "      target_output  \n",
       "0                 0  \n",
       "1                 0  \n",
       "2                 0  \n",
       "3                 0  \n",
       "4                 0  \n",
       "...             ...  \n",
       "1195              2  \n",
       "1196              2  \n",
       "1197              2  \n",
       "1198              2  \n",
       "1199              2  \n",
       "\n",
       "[1200 rows x 7 columns]"
      ],
      "text/html": "<div>\n<style scoped>\n    .dataframe tbody tr th:only-of-type {\n        vertical-align: middle;\n    }\n\n    .dataframe tbody tr th {\n        vertical-align: top;\n    }\n\n    .dataframe thead th {\n        text-align: right;\n    }\n</style>\n<table border=\"1\" class=\"dataframe\">\n  <thead>\n    <tr style=\"text-align: right;\">\n      <th></th>\n      <th>output</th>\n      <th>temperature</th>\n      <th>humidity</th>\n      <th>ph</th>\n      <th>rainfall</th>\n      <th>label</th>\n      <th>target_output</th>\n    </tr>\n  </thead>\n  <tbody>\n    <tr>\n      <th>0</th>\n      <td>71</td>\n      <td>22.613600</td>\n      <td>63.690706</td>\n      <td>5.749914</td>\n      <td>87.759539</td>\n      <td>2</td>\n      <td>0</td>\n    </tr>\n    <tr>\n      <th>1</th>\n      <td>61</td>\n      <td>26.100184</td>\n      <td>71.574769</td>\n      <td>6.931757</td>\n      <td>102.266244</td>\n      <td>2</td>\n      <td>0</td>\n    </tr>\n    <tr>\n      <th>2</th>\n      <td>80</td>\n      <td>23.558821</td>\n      <td>71.593514</td>\n      <td>6.657965</td>\n      <td>66.719955</td>\n      <td>2</td>\n      <td>0</td>\n    </tr>\n    <tr>\n      <th>3</th>\n      <td>73</td>\n      <td>19.972160</td>\n      <td>57.682729</td>\n      <td>6.596061</td>\n      <td>60.651715</td>\n      <td>2</td>\n      <td>0</td>\n    </tr>\n    <tr>\n      <th>4</th>\n      <td>61</td>\n      <td>18.478913</td>\n      <td>62.695039</td>\n      <td>5.970458</td>\n      <td>65.438354</td>\n      <td>2</td>\n      <td>0</td>\n    </tr>\n    <tr>\n      <th>...</th>\n      <td>...</td>\n      <td>...</td>\n      <td>...</td>\n      <td>...</td>\n      <td>...</td>\n      <td>...</td>\n      <td>...</td>\n    </tr>\n    <tr>\n      <th>1195</th>\n      <td>5</td>\n      <td>32.717485</td>\n      <td>90.546083</td>\n      <td>7.656978</td>\n      <td>113.328978</td>\n      <td>3</td>\n      <td>2</td>\n    </tr>\n    <tr>\n      <th>1196</th>\n      <td>12</td>\n      <td>25.162966</td>\n      <td>92.547360</td>\n      <td>7.105905</td>\n      <td>114.311720</td>\n      <td>3</td>\n      <td>2</td>\n    </tr>\n    <tr>\n      <th>1197</th>\n      <td>7</td>\n      <td>27.681673</td>\n      <td>94.473169</td>\n      <td>7.199106</td>\n      <td>113.999515</td>\n      <td>3</td>\n      <td>2</td>\n    </tr>\n    <tr>\n      <th>1198</th>\n      <td>15</td>\n      <td>21.350934</td>\n      <td>90.949297</td>\n      <td>7.871063</td>\n      <td>107.086209</td>\n      <td>3</td>\n      <td>2</td>\n    </tr>\n    <tr>\n      <th>1199</th>\n      <td>9</td>\n      <td>11.698946</td>\n      <td>93.256389</td>\n      <td>7.566166</td>\n      <td>103.200599</td>\n      <td>3</td>\n      <td>2</td>\n    </tr>\n  </tbody>\n</table>\n<p>1200 rows × 7 columns</p>\n</div>"
     },
     "metadata": {},
     "execution_count": 17
    }
   ],
   "source": [
    "FERTILISER.reset_index().drop('index', axis=1)"
   ]
  },
  {
   "cell_type": "code",
   "execution_count": 18,
   "metadata": {},
   "outputs": [
    {
     "output_type": "execute_result",
     "data": {
      "text/plain": [
       "output             int64\n",
       "temperature      float64\n",
       "humidity         float64\n",
       "ph               float64\n",
       "rainfall         float64\n",
       "label               int8\n",
       "target_output      int64\n",
       "dtype: object"
      ]
     },
     "metadata": {},
     "execution_count": 18
    }
   ],
   "source": [
    "FERTILISER.dtypes"
   ]
  },
  {
   "cell_type": "code",
   "execution_count": 19,
   "metadata": {},
   "outputs": [],
   "source": [
    "# manually normalise\n",
    "#FERTILISER.loc[:, 'output'] = FERTILISER['output'] / 205\n",
    "#FERTILISER.loc[:, 'temperature'] = FERTILISER['temperature'] / 42\n",
    "#FERTILISER.loc[:, 'humidity'] = FERTILISER['humidity'] / 95\n",
    "#FERTILISER.loc[:, 'ph'] = FERTILISER['ph'] / 8\n",
    "#FERTILISER.loc[:, 'rainfall'] = FERTILISER['rainfall'] / 125"
   ]
  },
  {
   "cell_type": "code",
   "execution_count": 20,
   "metadata": {},
   "outputs": [],
   "source": [
    "FERTILISER = FERTILISER.sample(frac=1).reset_index().drop('index', axis=1)\n",
    "\n",
    "FERTILISER_FEATURES = FERTILISER.copy().reset_index().drop('index', axis=1)\n",
    "FERTILISER_LABEL = FERTILISER_FEATURES.pop('output')\n",
    "\n",
    "FERTILISER_TRAIN = FERTILISER.loc[:int(len(FERTILISER) * TRAIN_SPLIT)].reset_index().drop('index', axis=1)\n",
    "FERTILISER_TEST = FERTILISER.loc[int(len(FERTILISER) * TRAIN_SPLIT):].reset_index().drop('index', axis=1)\n",
    "\n",
    "FERTILISER_TRAIN_FEATURES = FERTILISER_TRAIN.copy()\n",
    "FERTILISER_TEST_FEATURES = FERTILISER_TEST.copy()\n",
    "\n",
    "FERTILISER_TRAIN_LABEL = FERTILISER_TRAIN_FEATURES.pop('output')\n",
    "FERTILISER_TEST_LABEL = FERTILISER_TEST_FEATURES.pop('output')"
   ]
  },
  {
   "cell_type": "code",
   "execution_count": 23,
   "metadata": {},
   "outputs": [
    {
     "output_type": "execute_result",
     "data": {
      "text/plain": [
       "           output  temperature    humidity          ph    rainfall  \\\n",
       "count  961.000000   961.000000  961.000000  961.000000  961.000000   \n",
       "mean    73.728408    22.937057   82.917768    6.312068   94.183757   \n",
       "std     70.004450     6.202390   11.412172    0.590414   20.369110   \n",
       "min      0.000000     8.825675   55.282204    5.510925   60.651715   \n",
       "25%     17.000000    19.893639   80.031000    5.852607   71.182894   \n",
       "50%     37.000000    22.750888   83.983517    6.207601  102.485293   \n",
       "75%    133.000000    25.260527   92.032728    6.562595  111.780373   \n",
       "max    205.000000    41.948657   94.964199    7.995849  124.983162   \n",
       "\n",
       "            label  target_output  \n",
       "count  961.000000     961.000000  \n",
       "mean     1.511967       0.984391  \n",
       "std      1.117154       0.819531  \n",
       "min      0.000000       0.000000  \n",
       "25%      1.000000       0.000000  \n",
       "50%      2.000000       1.000000  \n",
       "75%      3.000000       2.000000  \n",
       "max      3.000000       2.000000  "
      ],
      "text/html": "<div>\n<style scoped>\n    .dataframe tbody tr th:only-of-type {\n        vertical-align: middle;\n    }\n\n    .dataframe tbody tr th {\n        vertical-align: top;\n    }\n\n    .dataframe thead th {\n        text-align: right;\n    }\n</style>\n<table border=\"1\" class=\"dataframe\">\n  <thead>\n    <tr style=\"text-align: right;\">\n      <th></th>\n      <th>output</th>\n      <th>temperature</th>\n      <th>humidity</th>\n      <th>ph</th>\n      <th>rainfall</th>\n      <th>label</th>\n      <th>target_output</th>\n    </tr>\n  </thead>\n  <tbody>\n    <tr>\n      <th>count</th>\n      <td>961.000000</td>\n      <td>961.000000</td>\n      <td>961.000000</td>\n      <td>961.000000</td>\n      <td>961.000000</td>\n      <td>961.000000</td>\n      <td>961.000000</td>\n    </tr>\n    <tr>\n      <th>mean</th>\n      <td>73.728408</td>\n      <td>22.937057</td>\n      <td>82.917768</td>\n      <td>6.312068</td>\n      <td>94.183757</td>\n      <td>1.511967</td>\n      <td>0.984391</td>\n    </tr>\n    <tr>\n      <th>std</th>\n      <td>70.004450</td>\n      <td>6.202390</td>\n      <td>11.412172</td>\n      <td>0.590414</td>\n      <td>20.369110</td>\n      <td>1.117154</td>\n      <td>0.819531</td>\n    </tr>\n    <tr>\n      <th>min</th>\n      <td>0.000000</td>\n      <td>8.825675</td>\n      <td>55.282204</td>\n      <td>5.510925</td>\n      <td>60.651715</td>\n      <td>0.000000</td>\n      <td>0.000000</td>\n    </tr>\n    <tr>\n      <th>25%</th>\n      <td>17.000000</td>\n      <td>19.893639</td>\n      <td>80.031000</td>\n      <td>5.852607</td>\n      <td>71.182894</td>\n      <td>1.000000</td>\n      <td>0.000000</td>\n    </tr>\n    <tr>\n      <th>50%</th>\n      <td>37.000000</td>\n      <td>22.750888</td>\n      <td>83.983517</td>\n      <td>6.207601</td>\n      <td>102.485293</td>\n      <td>2.000000</td>\n      <td>1.000000</td>\n    </tr>\n    <tr>\n      <th>75%</th>\n      <td>133.000000</td>\n      <td>25.260527</td>\n      <td>92.032728</td>\n      <td>6.562595</td>\n      <td>111.780373</td>\n      <td>3.000000</td>\n      <td>2.000000</td>\n    </tr>\n    <tr>\n      <th>max</th>\n      <td>205.000000</td>\n      <td>41.948657</td>\n      <td>94.964199</td>\n      <td>7.995849</td>\n      <td>124.983162</td>\n      <td>3.000000</td>\n      <td>2.000000</td>\n    </tr>\n  </tbody>\n</table>\n</div>"
     },
     "metadata": {},
     "execution_count": 23
    }
   ],
   "source": [
    "# Check if they're balanced or not\n",
    "FERTILISER_TRAIN.describe()"
   ]
  },
  {
   "cell_type": "code",
   "execution_count": 24,
   "metadata": {},
   "outputs": [
    {
     "output_type": "execute_result",
     "data": {
      "text/plain": [
       "           output  temperature    humidity          ph    rainfall  \\\n",
       "count  240.000000   240.000000  240.000000  240.000000  240.000000   \n",
       "mean    81.029167    22.748441   82.717663    6.276552   95.239780   \n",
       "std     70.595222     6.495430   11.839810    0.583666   19.477132   \n",
       "min      0.000000     9.851243   55.282204    5.510925   60.651715   \n",
       "25%     19.750000    19.201294   73.625484    5.798424   73.068630   \n",
       "50%     50.500000    22.587326   90.143626    6.206827  102.887178   \n",
       "75%    138.250000    24.806073   92.188849    6.525447  110.495049   \n",
       "max    205.000000    41.948657   94.964199    7.995849  124.983162   \n",
       "\n",
       "            label  target_output  \n",
       "count  240.000000     240.000000  \n",
       "mean     1.458333       1.062500  \n",
       "std      1.127042       0.802878  \n",
       "min      0.000000       0.000000  \n",
       "25%      0.000000       0.000000  \n",
       "50%      1.500000       1.000000  \n",
       "75%      2.000000       2.000000  \n",
       "max      3.000000       2.000000  "
      ],
      "text/html": "<div>\n<style scoped>\n    .dataframe tbody tr th:only-of-type {\n        vertical-align: middle;\n    }\n\n    .dataframe tbody tr th {\n        vertical-align: top;\n    }\n\n    .dataframe thead th {\n        text-align: right;\n    }\n</style>\n<table border=\"1\" class=\"dataframe\">\n  <thead>\n    <tr style=\"text-align: right;\">\n      <th></th>\n      <th>output</th>\n      <th>temperature</th>\n      <th>humidity</th>\n      <th>ph</th>\n      <th>rainfall</th>\n      <th>label</th>\n      <th>target_output</th>\n    </tr>\n  </thead>\n  <tbody>\n    <tr>\n      <th>count</th>\n      <td>240.000000</td>\n      <td>240.000000</td>\n      <td>240.000000</td>\n      <td>240.000000</td>\n      <td>240.000000</td>\n      <td>240.000000</td>\n      <td>240.000000</td>\n    </tr>\n    <tr>\n      <th>mean</th>\n      <td>81.029167</td>\n      <td>22.748441</td>\n      <td>82.717663</td>\n      <td>6.276552</td>\n      <td>95.239780</td>\n      <td>1.458333</td>\n      <td>1.062500</td>\n    </tr>\n    <tr>\n      <th>std</th>\n      <td>70.595222</td>\n      <td>6.495430</td>\n      <td>11.839810</td>\n      <td>0.583666</td>\n      <td>19.477132</td>\n      <td>1.127042</td>\n      <td>0.802878</td>\n    </tr>\n    <tr>\n      <th>min</th>\n      <td>0.000000</td>\n      <td>9.851243</td>\n      <td>55.282204</td>\n      <td>5.510925</td>\n      <td>60.651715</td>\n      <td>0.000000</td>\n      <td>0.000000</td>\n    </tr>\n    <tr>\n      <th>25%</th>\n      <td>19.750000</td>\n      <td>19.201294</td>\n      <td>73.625484</td>\n      <td>5.798424</td>\n      <td>73.068630</td>\n      <td>0.000000</td>\n      <td>0.000000</td>\n    </tr>\n    <tr>\n      <th>50%</th>\n      <td>50.500000</td>\n      <td>22.587326</td>\n      <td>90.143626</td>\n      <td>6.206827</td>\n      <td>102.887178</td>\n      <td>1.500000</td>\n      <td>1.000000</td>\n    </tr>\n    <tr>\n      <th>75%</th>\n      <td>138.250000</td>\n      <td>24.806073</td>\n      <td>92.188849</td>\n      <td>6.525447</td>\n      <td>110.495049</td>\n      <td>2.000000</td>\n      <td>2.000000</td>\n    </tr>\n    <tr>\n      <th>max</th>\n      <td>205.000000</td>\n      <td>41.948657</td>\n      <td>94.964199</td>\n      <td>7.995849</td>\n      <td>124.983162</td>\n      <td>3.000000</td>\n      <td>2.000000</td>\n    </tr>\n  </tbody>\n</table>\n</div>"
     },
     "metadata": {},
     "execution_count": 24
    }
   ],
   "source": [
    "FERTILISER_TEST.describe()"
   ]
  },
  {
   "cell_type": "code",
   "execution_count": 25,
   "metadata": {},
   "outputs": [],
   "source": [
    "import seaborn as sns\n",
    "#sns.pairplot(FERTILISER_TRAIN)"
   ]
  },
  {
   "cell_type": "code",
   "execution_count": 26,
   "metadata": {
    "tags": []
   },
   "outputs": [
    {
     "output_type": "stream",
     "name": "stdout",
     "text": [
      "INFO:tensorflow:Enabling eager execution\n",
      "INFO:tensorflow:Enabling v2 tensorshape\n",
      "INFO:tensorflow:Enabling resource variables\n",
      "INFO:tensorflow:Enabling tensor equality\n",
      "INFO:tensorflow:Enabling control flow v2\n"
     ]
    }
   ],
   "source": [
    "import tensorflow as tf\n",
    "#fertiliser_train = df_to_dataset(FERTILISER_TRAIN)\n",
    "#fertiliser_test = df_to_dataset(FERTILISER_TEST)\n",
    "#dataset = dataset.shuffle(len(_fert)).batch(1)"
   ]
  },
  {
   "cell_type": "code",
   "execution_count": 27,
   "metadata": {},
   "outputs": [],
   "source": [
    "# Create a tf.Dataset\n",
    "train_features = np.array(FERTILISER_TRAIN_FEATURES)\n",
    "train_labels = np.array(FERTILISER_TRAIN_LABEL)\n",
    "\n",
    "test_features = np.array(FERTILISER_TEST_FEATURES)\n",
    "test_labels = np.array(FERTILISER_TEST_LABEL)"
   ]
  },
  {
   "cell_type": "code",
   "execution_count": 29,
   "metadata": {},
   "outputs": [
    {
     "output_type": "execute_result",
     "data": {
      "text/plain": [
       "array([0.50835557, 0.95736102, 0.98388288, 0.85668968, 3.        ,\n",
       "       2.        ])"
      ]
     },
     "metadata": {},
     "execution_count": 29
    }
   ],
   "source": [
    "train_features[0]"
   ]
  },
  {
   "cell_type": "code",
   "execution_count": 30,
   "metadata": {},
   "outputs": [],
   "source": [
    "tf.keras.backend.clear_session()\n",
    "tf.random.set_seed(51)\n",
    "np.random.seed(51)\n",
    "\n",
    "tf.keras.backend.clear_session()\n",
    "\n",
    "# Define model\n",
    "predict_fert = tf.keras.Sequential([\n",
    "    tf.keras.layers.Dense(64, activation=tf.nn.relu),\n",
    "    tf.keras.layers.Dense(1, activation=tf.nn.relu)\n",
    "])\n",
    "\n",
    "#predict_fert.summary()"
   ]
  },
  {
   "cell_type": "code",
   "execution_count": 31,
   "metadata": {
    "tags": [
     "outputPrepend"
    ]
   },
   "outputs": [
    {
     "output_type": "stream",
     "name": "stdout",
     "text": [
      "[==============================] - 0s 3ms/step - loss: 0.0096 - accuracy: 0.0208 - val_loss: 0.0109 - val_accuracy: 0.0125\n",
      "Epoch 162/300\n",
      "31/31 [==============================] - 0s 3ms/step - loss: 0.0097 - accuracy: 0.0206 - val_loss: 0.0109 - val_accuracy: 0.0125\n",
      "Epoch 163/300\n",
      "31/31 [==============================] - 0s 3ms/step - loss: 0.0090 - accuracy: 0.0162 - val_loss: 0.0109 - val_accuracy: 0.0125\n",
      "Epoch 164/300\n",
      "31/31 [==============================] - 0s 3ms/step - loss: 0.0090 - accuracy: 0.0261 - val_loss: 0.0108 - val_accuracy: 0.0125\n",
      "Epoch 165/300\n",
      "31/31 [==============================] - 0s 3ms/step - loss: 0.0089 - accuracy: 0.0244 - val_loss: 0.0107 - val_accuracy: 0.0125\n",
      "Epoch 166/300\n",
      "31/31 [==============================] - 0s 3ms/step - loss: 0.0087 - accuracy: 0.0207 - val_loss: 0.0106 - val_accuracy: 0.0125\n",
      "Epoch 167/300\n",
      "31/31 [==============================] - 0s 3ms/step - loss: 0.0091 - accuracy: 0.0211 - val_loss: 0.0106 - val_accuracy: 0.0125\n",
      "Epoch 168/300\n",
      "31/31 [==============================] - 0s 4ms/step - loss: 0.0094 - accuracy: 0.0184 - val_loss: 0.0105 - val_accuracy: 0.0125\n",
      "Epoch 169/300\n",
      "31/31 [==============================] - 0s 3ms/step - loss: 0.0090 - accuracy: 0.0199 - val_loss: 0.0105 - val_accuracy: 0.0125\n",
      "Epoch 170/300\n",
      "31/31 [==============================] - 0s 3ms/step - loss: 0.0086 - accuracy: 0.0261 - val_loss: 0.0105 - val_accuracy: 0.0125\n",
      "Epoch 171/300\n",
      "31/31 [==============================] - 0s 3ms/step - loss: 0.0095 - accuracy: 0.0277 - val_loss: 0.0104 - val_accuracy: 0.0125\n",
      "Epoch 172/300\n",
      "31/31 [==============================] - 0s 3ms/step - loss: 0.0089 - accuracy: 0.0246 - val_loss: 0.0104 - val_accuracy: 0.0125\n",
      "Epoch 173/300\n",
      "31/31 [==============================] - 0s 3ms/step - loss: 0.0092 - accuracy: 0.0356 - val_loss: 0.0103 - val_accuracy: 0.0125\n",
      "Epoch 174/300\n",
      "31/31 [==============================] - 0s 3ms/step - loss: 0.0087 - accuracy: 0.0212 - val_loss: 0.0103 - val_accuracy: 0.0125\n",
      "Epoch 175/300\n",
      "31/31 [==============================] - 0s 3ms/step - loss: 0.0081 - accuracy: 0.0288 - val_loss: 0.0102 - val_accuracy: 0.0125\n",
      "Epoch 176/300\n",
      "31/31 [==============================] - 0s 3ms/step - loss: 0.0086 - accuracy: 0.0262 - val_loss: 0.0102 - val_accuracy: 0.0125\n",
      "Epoch 177/300\n",
      "31/31 [==============================] - 0s 4ms/step - loss: 0.0087 - accuracy: 0.0221 - val_loss: 0.0101 - val_accuracy: 0.0125\n",
      "Epoch 178/300\n",
      "31/31 [==============================] - 0s 3ms/step - loss: 0.0083 - accuracy: 0.0208 - val_loss: 0.0100 - val_accuracy: 0.0125\n",
      "Epoch 179/300\n",
      "31/31 [==============================] - 0s 4ms/step - loss: 0.0085 - accuracy: 0.0292 - val_loss: 0.0100 - val_accuracy: 0.0125\n",
      "Epoch 180/300\n",
      "31/31 [==============================] - 0s 4ms/step - loss: 0.0082 - accuracy: 0.0214 - val_loss: 0.0099 - val_accuracy: 0.0125\n",
      "Epoch 181/300\n",
      "31/31 [==============================] - 0s 4ms/step - loss: 0.0084 - accuracy: 0.0231 - val_loss: 0.0098 - val_accuracy: 0.0125\n",
      "Epoch 182/300\n",
      "31/31 [==============================] - 0s 4ms/step - loss: 0.0081 - accuracy: 0.0217 - val_loss: 0.0098 - val_accuracy: 0.0125\n",
      "Epoch 183/300\n",
      "31/31 [==============================] - 0s 4ms/step - loss: 0.0086 - accuracy: 0.0288 - val_loss: 0.0098 - val_accuracy: 0.0125\n",
      "Epoch 184/300\n",
      "31/31 [==============================] - 0s 4ms/step - loss: 0.0085 - accuracy: 0.0308 - val_loss: 0.0098 - val_accuracy: 0.0125\n",
      "Epoch 185/300\n",
      "31/31 [==============================] - 0s 4ms/step - loss: 0.0080 - accuracy: 0.0169 - val_loss: 0.0097 - val_accuracy: 0.0125\n",
      "Epoch 186/300\n",
      "31/31 [==============================] - 0s 4ms/step - loss: 0.0084 - accuracy: 0.0227 - val_loss: 0.0097 - val_accuracy: 0.0125\n",
      "Epoch 187/300\n",
      "31/31 [==============================] - 0s 4ms/step - loss: 0.0079 - accuracy: 0.0357 - val_loss: 0.0096 - val_accuracy: 0.0125\n",
      "Epoch 188/300\n",
      "31/31 [==============================] - 0s 4ms/step - loss: 0.0086 - accuracy: 0.0286 - val_loss: 0.0096 - val_accuracy: 0.0125\n",
      "Epoch 189/300\n",
      "31/31 [==============================] - 0s 5ms/step - loss: 0.0077 - accuracy: 0.0176 - val_loss: 0.0095 - val_accuracy: 0.0125\n",
      "Epoch 190/300\n",
      "31/31 [==============================] - 0s 4ms/step - loss: 0.0082 - accuracy: 0.0307 - val_loss: 0.0095 - val_accuracy: 0.0125\n",
      "Epoch 191/300\n",
      "31/31 [==============================] - 0s 4ms/step - loss: 0.0082 - accuracy: 0.0187 - val_loss: 0.0094 - val_accuracy: 0.0125\n",
      "Epoch 192/300\n",
      "31/31 [==============================] - 0s 4ms/step - loss: 0.0086 - accuracy: 0.0238 - val_loss: 0.0094 - val_accuracy: 0.0125\n",
      "Epoch 193/300\n",
      "31/31 [==============================] - 0s 3ms/step - loss: 0.0076 - accuracy: 0.0279 - val_loss: 0.0093 - val_accuracy: 0.0125\n",
      "Epoch 194/300\n",
      "31/31 [==============================] - 0s 4ms/step - loss: 0.0082 - accuracy: 0.0195 - val_loss: 0.0093 - val_accuracy: 0.0125\n",
      "Epoch 195/300\n",
      "31/31 [==============================] - 0s 4ms/step - loss: 0.0080 - accuracy: 0.0207 - val_loss: 0.0093 - val_accuracy: 0.0125\n",
      "Epoch 196/300\n",
      "31/31 [==============================] - 0s 4ms/step - loss: 0.0079 - accuracy: 0.0224 - val_loss: 0.0092 - val_accuracy: 0.0125\n",
      "Epoch 197/300\n",
      "31/31 [==============================] - 0s 3ms/step - loss: 0.0084 - accuracy: 0.0193 - val_loss: 0.0092 - val_accuracy: 0.0125\n",
      "Epoch 198/300\n",
      "31/31 [==============================] - 0s 3ms/step - loss: 0.0079 - accuracy: 0.0225 - val_loss: 0.0092 - val_accuracy: 0.0125\n",
      "Epoch 199/300\n",
      "31/31 [==============================] - 0s 3ms/step - loss: 0.0080 - accuracy: 0.0190 - val_loss: 0.0092 - val_accuracy: 0.0125\n",
      "Epoch 200/300\n",
      "31/31 [==============================] - 0s 3ms/step - loss: 0.0075 - accuracy: 0.0214 - val_loss: 0.0091 - val_accuracy: 0.0125\n",
      "Epoch 201/300\n",
      "31/31 [==============================] - 0s 3ms/step - loss: 0.0075 - accuracy: 0.0290 - val_loss: 0.0091 - val_accuracy: 0.0125\n",
      "Epoch 202/300\n",
      "31/31 [==============================] - 0s 3ms/step - loss: 0.0080 - accuracy: 0.0242 - val_loss: 0.0090 - val_accuracy: 0.0125\n",
      "Epoch 203/300\n",
      "31/31 [==============================] - 0s 3ms/step - loss: 0.0080 - accuracy: 0.0185 - val_loss: 0.0090 - val_accuracy: 0.0125\n",
      "Epoch 204/300\n",
      "31/31 [==============================] - 0s 3ms/step - loss: 0.0082 - accuracy: 0.0277 - val_loss: 0.0089 - val_accuracy: 0.0125\n",
      "Epoch 205/300\n",
      "31/31 [==============================] - 0s 3ms/step - loss: 0.0075 - accuracy: 0.0217 - val_loss: 0.0089 - val_accuracy: 0.0125\n",
      "Epoch 206/300\n",
      "31/31 [==============================] - 0s 3ms/step - loss: 0.0073 - accuracy: 0.0253 - val_loss: 0.0089 - val_accuracy: 0.0125\n",
      "Epoch 207/300\n",
      "31/31 [==============================] - 0s 3ms/step - loss: 0.0072 - accuracy: 0.0297 - val_loss: 0.0089 - val_accuracy: 0.0125\n",
      "Epoch 208/300\n",
      "31/31 [==============================] - 0s 4ms/step - loss: 0.0077 - accuracy: 0.0220 - val_loss: 0.0088 - val_accuracy: 0.0125\n",
      "Epoch 209/300\n",
      "31/31 [==============================] - 0s 3ms/step - loss: 0.0076 - accuracy: 0.0184 - val_loss: 0.0088 - val_accuracy: 0.0125\n",
      "Epoch 210/300\n",
      "31/31 [==============================] - 0s 3ms/step - loss: 0.0082 - accuracy: 0.0275 - val_loss: 0.0088 - val_accuracy: 0.0125\n",
      "Epoch 211/300\n",
      "31/31 [==============================] - 0s 3ms/step - loss: 0.0074 - accuracy: 0.0373 - val_loss: 0.0087 - val_accuracy: 0.0125\n",
      "Epoch 212/300\n",
      "31/31 [==============================] - 0s 3ms/step - loss: 0.0072 - accuracy: 0.0243 - val_loss: 0.0087 - val_accuracy: 0.0125\n",
      "Epoch 213/300\n",
      "31/31 [==============================] - 0s 3ms/step - loss: 0.0073 - accuracy: 0.0237 - val_loss: 0.0087 - val_accuracy: 0.0125\n",
      "Epoch 214/300\n",
      "31/31 [==============================] - 0s 3ms/step - loss: 0.0073 - accuracy: 0.0243 - val_loss: 0.0086 - val_accuracy: 0.0125\n",
      "Epoch 215/300\n",
      "31/31 [==============================] - 0s 3ms/step - loss: 0.0069 - accuracy: 0.0204 - val_loss: 0.0086 - val_accuracy: 0.0125\n",
      "Epoch 216/300\n",
      "31/31 [==============================] - 0s 3ms/step - loss: 0.0068 - accuracy: 0.0287 - val_loss: 0.0085 - val_accuracy: 0.0125\n",
      "Epoch 217/300\n",
      "31/31 [==============================] - 0s 3ms/step - loss: 0.0074 - accuracy: 0.0243 - val_loss: 0.0085 - val_accuracy: 0.0125\n",
      "Epoch 218/300\n",
      "31/31 [==============================] - 0s 3ms/step - loss: 0.0072 - accuracy: 0.0249 - val_loss: 0.0085 - val_accuracy: 0.0125\n",
      "Epoch 219/300\n",
      "31/31 [==============================] - 0s 3ms/step - loss: 0.0074 - accuracy: 0.0207 - val_loss: 0.0085 - val_accuracy: 0.0125\n",
      "Epoch 220/300\n",
      "31/31 [==============================] - 0s 3ms/step - loss: 0.0073 - accuracy: 0.0229 - val_loss: 0.0085 - val_accuracy: 0.0125\n",
      "Epoch 221/300\n",
      "31/31 [==============================] - 0s 3ms/step - loss: 0.0074 - accuracy: 0.0244 - val_loss: 0.0085 - val_accuracy: 0.0125\n",
      "Epoch 222/300\n",
      "31/31 [==============================] - 0s 4ms/step - loss: 0.0072 - accuracy: 0.0200 - val_loss: 0.0084 - val_accuracy: 0.0125\n",
      "Epoch 223/300\n",
      "31/31 [==============================] - 0s 4ms/step - loss: 0.0072 - accuracy: 0.0295 - val_loss: 0.0084 - val_accuracy: 0.0125\n",
      "Epoch 224/300\n",
      "31/31 [==============================] - 0s 3ms/step - loss: 0.0073 - accuracy: 0.0278 - val_loss: 0.0083 - val_accuracy: 0.0125\n",
      "Epoch 225/300\n",
      "31/31 [==============================] - 0s 3ms/step - loss: 0.0070 - accuracy: 0.0209 - val_loss: 0.0083 - val_accuracy: 0.0125\n",
      "Epoch 226/300\n",
      "31/31 [==============================] - 0s 3ms/step - loss: 0.0077 - accuracy: 0.0289 - val_loss: 0.0083 - val_accuracy: 0.0125\n",
      "Epoch 227/300\n",
      "31/31 [==============================] - 0s 3ms/step - loss: 0.0071 - accuracy: 0.0233 - val_loss: 0.0083 - val_accuracy: 0.0125\n",
      "Epoch 228/300\n",
      "31/31 [==============================] - 0s 3ms/step - loss: 0.0070 - accuracy: 0.0223 - val_loss: 0.0082 - val_accuracy: 0.0125\n",
      "Epoch 229/300\n",
      "31/31 [==============================] - 0s 3ms/step - loss: 0.0072 - accuracy: 0.0254 - val_loss: 0.0082 - val_accuracy: 0.0125\n",
      "Epoch 230/300\n",
      "31/31 [==============================] - 0s 3ms/step - loss: 0.0074 - accuracy: 0.0206 - val_loss: 0.0082 - val_accuracy: 0.0125\n",
      "Epoch 231/300\n",
      "31/31 [==============================] - 0s 3ms/step - loss: 0.0071 - accuracy: 0.0261 - val_loss: 0.0082 - val_accuracy: 0.0125\n",
      "Epoch 232/300\n",
      "31/31 [==============================] - 0s 3ms/step - loss: 0.0070 - accuracy: 0.0280 - val_loss: 0.0081 - val_accuracy: 0.0125\n",
      "Epoch 233/300\n",
      "31/31 [==============================] - 0s 3ms/step - loss: 0.0069 - accuracy: 0.0259 - val_loss: 0.0081 - val_accuracy: 0.0125\n",
      "Epoch 234/300\n",
      "31/31 [==============================] - 0s 3ms/step - loss: 0.0071 - accuracy: 0.0219 - val_loss: 0.0081 - val_accuracy: 0.0125\n",
      "Epoch 235/300\n",
      "31/31 [==============================] - 0s 4ms/step - loss: 0.0074 - accuracy: 0.0149 - val_loss: 0.0080 - val_accuracy: 0.0125\n",
      "Epoch 236/300\n",
      "31/31 [==============================] - 0s 3ms/step - loss: 0.0071 - accuracy: 0.0212 - val_loss: 0.0080 - val_accuracy: 0.0125\n",
      "Epoch 237/300\n",
      "31/31 [==============================] - 0s 3ms/step - loss: 0.0069 - accuracy: 0.0263 - val_loss: 0.0080 - val_accuracy: 0.0125\n",
      "Epoch 238/300\n",
      "31/31 [==============================] - 0s 3ms/step - loss: 0.0068 - accuracy: 0.0251 - val_loss: 0.0080 - val_accuracy: 0.0125\n",
      "Epoch 239/300\n",
      "31/31 [==============================] - 0s 3ms/step - loss: 0.0068 - accuracy: 0.0243 - val_loss: 0.0079 - val_accuracy: 0.0125\n",
      "Epoch 240/300\n",
      "31/31 [==============================] - 0s 3ms/step - loss: 0.0070 - accuracy: 0.0208 - val_loss: 0.0079 - val_accuracy: 0.0125\n",
      "Epoch 241/300\n",
      "31/31 [==============================] - 0s 3ms/step - loss: 0.0066 - accuracy: 0.0303 - val_loss: 0.0079 - val_accuracy: 0.0125\n",
      "Epoch 242/300\n",
      "31/31 [==============================] - 0s 3ms/step - loss: 0.0066 - accuracy: 0.0233 - val_loss: 0.0079 - val_accuracy: 0.0125\n",
      "Epoch 243/300\n",
      "31/31 [==============================] - 0s 3ms/step - loss: 0.0069 - accuracy: 0.0226 - val_loss: 0.0078 - val_accuracy: 0.0125\n",
      "Epoch 244/300\n",
      "31/31 [==============================] - 0s 3ms/step - loss: 0.0068 - accuracy: 0.0251 - val_loss: 0.0078 - val_accuracy: 0.0125\n",
      "Epoch 245/300\n",
      "31/31 [==============================] - 0s 3ms/step - loss: 0.0067 - accuracy: 0.0125 - val_loss: 0.0078 - val_accuracy: 0.0125\n",
      "Epoch 246/300\n",
      "31/31 [==============================] - 0s 3ms/step - loss: 0.0067 - accuracy: 0.0240 - val_loss: 0.0078 - val_accuracy: 0.0125\n",
      "Epoch 247/300\n",
      "31/31 [==============================] - 0s 3ms/step - loss: 0.0070 - accuracy: 0.0221 - val_loss: 0.0078 - val_accuracy: 0.0125\n",
      "Epoch 248/300\n",
      "31/31 [==============================] - 0s 4ms/step - loss: 0.0067 - accuracy: 0.0221 - val_loss: 0.0077 - val_accuracy: 0.0125\n",
      "Epoch 249/300\n",
      "31/31 [==============================] - 0s 3ms/step - loss: 0.0065 - accuracy: 0.0216 - val_loss: 0.0077 - val_accuracy: 0.0125\n",
      "Epoch 250/300\n",
      "31/31 [==============================] - 0s 3ms/step - loss: 0.0064 - accuracy: 0.0230 - val_loss: 0.0077 - val_accuracy: 0.0125\n",
      "Epoch 251/300\n",
      "31/31 [==============================] - 0s 3ms/step - loss: 0.0062 - accuracy: 0.0264 - val_loss: 0.0077 - val_accuracy: 0.0125\n",
      "Epoch 252/300\n",
      "31/31 [==============================] - 0s 3ms/step - loss: 0.0066 - accuracy: 0.0239 - val_loss: 0.0077 - val_accuracy: 0.0125\n",
      "Epoch 253/300\n",
      "31/31 [==============================] - 0s 3ms/step - loss: 0.0066 - accuracy: 0.0150 - val_loss: 0.0077 - val_accuracy: 0.0125\n",
      "Epoch 254/300\n",
      "31/31 [==============================] - 0s 3ms/step - loss: 0.0064 - accuracy: 0.0280 - val_loss: 0.0076 - val_accuracy: 0.0125\n",
      "Epoch 255/300\n",
      "31/31 [==============================] - 0s 3ms/step - loss: 0.0066 - accuracy: 0.0255 - val_loss: 0.0076 - val_accuracy: 0.0125\n",
      "Epoch 256/300\n",
      "31/31 [==============================] - 0s 3ms/step - loss: 0.0068 - accuracy: 0.0223 - val_loss: 0.0076 - val_accuracy: 0.0125\n",
      "Epoch 257/300\n",
      "31/31 [==============================] - 0s 3ms/step - loss: 0.0065 - accuracy: 0.0201 - val_loss: 0.0076 - val_accuracy: 0.0125\n",
      "Epoch 258/300\n",
      "31/31 [==============================] - 0s 4ms/step - loss: 0.0066 - accuracy: 0.0291 - val_loss: 0.0075 - val_accuracy: 0.0125\n",
      "Epoch 259/300\n",
      "31/31 [==============================] - 0s 3ms/step - loss: 0.0064 - accuracy: 0.0292 - val_loss: 0.0075 - val_accuracy: 0.0125\n",
      "Epoch 260/300\n",
      "31/31 [==============================] - 0s 3ms/step - loss: 0.0063 - accuracy: 0.0296 - val_loss: 0.0075 - val_accuracy: 0.0125\n",
      "Epoch 261/300\n",
      "31/31 [==============================] - 0s 3ms/step - loss: 0.0067 - accuracy: 0.0161 - val_loss: 0.0075 - val_accuracy: 0.0125\n",
      "Epoch 262/300\n",
      "31/31 [==============================] - 0s 3ms/step - loss: 0.0067 - accuracy: 0.0258 - val_loss: 0.0075 - val_accuracy: 0.0125\n",
      "Epoch 263/300\n",
      "31/31 [==============================] - 0s 3ms/step - loss: 0.0066 - accuracy: 0.0288 - val_loss: 0.0074 - val_accuracy: 0.0125\n",
      "Epoch 264/300\n",
      "31/31 [==============================] - 0s 3ms/step - loss: 0.0059 - accuracy: 0.0237 - val_loss: 0.0074 - val_accuracy: 0.0125\n",
      "Epoch 265/300\n",
      "31/31 [==============================] - 0s 3ms/step - loss: 0.0064 - accuracy: 0.0241 - val_loss: 0.0074 - val_accuracy: 0.0125\n",
      "Epoch 266/300\n",
      "31/31 [==============================] - 0s 4ms/step - loss: 0.0061 - accuracy: 0.0320 - val_loss: 0.0074 - val_accuracy: 0.0125\n",
      "Epoch 267/300\n",
      "31/31 [==============================] - 0s 3ms/step - loss: 0.0062 - accuracy: 0.0191 - val_loss: 0.0074 - val_accuracy: 0.0125\n",
      "Epoch 268/300\n",
      "31/31 [==============================] - 0s 3ms/step - loss: 0.0062 - accuracy: 0.0249 - val_loss: 0.0073 - val_accuracy: 0.0125\n",
      "Epoch 269/300\n",
      "31/31 [==============================] - 0s 3ms/step - loss: 0.0062 - accuracy: 0.0247 - val_loss: 0.0073 - val_accuracy: 0.0125\n",
      "Epoch 270/300\n",
      "31/31 [==============================] - 0s 3ms/step - loss: 0.0060 - accuracy: 0.0181 - val_loss: 0.0073 - val_accuracy: 0.0125\n",
      "Epoch 271/300\n",
      "31/31 [==============================] - 0s 3ms/step - loss: 0.0065 - accuracy: 0.0227 - val_loss: 0.0073 - val_accuracy: 0.0125\n",
      "Epoch 272/300\n",
      "31/31 [==============================] - 0s 3ms/step - loss: 0.0064 - accuracy: 0.0274 - val_loss: 0.0073 - val_accuracy: 0.0125\n",
      "Epoch 273/300\n",
      "31/31 [==============================] - 0s 3ms/step - loss: 0.0064 - accuracy: 0.0271 - val_loss: 0.0073 - val_accuracy: 0.0125\n",
      "Epoch 274/300\n",
      "31/31 [==============================] - 0s 4ms/step - loss: 0.0060 - accuracy: 0.0282 - val_loss: 0.0072 - val_accuracy: 0.0125\n",
      "Epoch 275/300\n",
      "31/31 [==============================] - 0s 3ms/step - loss: 0.0060 - accuracy: 0.0204 - val_loss: 0.0072 - val_accuracy: 0.0125\n",
      "Epoch 276/300\n",
      "31/31 [==============================] - 0s 3ms/step - loss: 0.0063 - accuracy: 0.0269 - val_loss: 0.0072 - val_accuracy: 0.0125\n",
      "Epoch 277/300\n",
      "31/31 [==============================] - 0s 3ms/step - loss: 0.0060 - accuracy: 0.0262 - val_loss: 0.0072 - val_accuracy: 0.0125\n",
      "Epoch 278/300\n",
      "31/31 [==============================] - 0s 3ms/step - loss: 0.0059 - accuracy: 0.0201 - val_loss: 0.0072 - val_accuracy: 0.0125\n",
      "Epoch 279/300\n",
      "31/31 [==============================] - 0s 3ms/step - loss: 0.0060 - accuracy: 0.0222 - val_loss: 0.0072 - val_accuracy: 0.0125\n",
      "Epoch 280/300\n",
      "31/31 [==============================] - 0s 3ms/step - loss: 0.0061 - accuracy: 0.0215 - val_loss: 0.0071 - val_accuracy: 0.0125\n",
      "Epoch 281/300\n",
      "31/31 [==============================] - 0s 3ms/step - loss: 0.0058 - accuracy: 0.0197 - val_loss: 0.0071 - val_accuracy: 0.0125\n",
      "Epoch 282/300\n",
      "31/31 [==============================] - 0s 3ms/step - loss: 0.0058 - accuracy: 0.0205 - val_loss: 0.0071 - val_accuracy: 0.0125\n",
      "Epoch 283/300\n",
      "31/31 [==============================] - 0s 3ms/step - loss: 0.0061 - accuracy: 0.0211 - val_loss: 0.0071 - val_accuracy: 0.0125\n",
      "Epoch 284/300\n",
      "31/31 [==============================] - 0s 3ms/step - loss: 0.0065 - accuracy: 0.0279 - val_loss: 0.0070 - val_accuracy: 0.0125\n",
      "Epoch 285/300\n",
      "31/31 [==============================] - 0s 3ms/step - loss: 0.0065 - accuracy: 0.0230 - val_loss: 0.0070 - val_accuracy: 0.0125\n",
      "Epoch 286/300\n",
      "31/31 [==============================] - 0s 3ms/step - loss: 0.0060 - accuracy: 0.0278 - val_loss: 0.0070 - val_accuracy: 0.0125\n",
      "Epoch 287/300\n",
      "31/31 [==============================] - 0s 3ms/step - loss: 0.0058 - accuracy: 0.0204 - val_loss: 0.0070 - val_accuracy: 0.0125\n",
      "Epoch 288/300\n",
      "31/31 [==============================] - 0s 3ms/step - loss: 0.0057 - accuracy: 0.0284 - val_loss: 0.0069 - val_accuracy: 0.0125\n",
      "Epoch 289/300\n",
      "31/31 [==============================] - 0s 3ms/step - loss: 0.0061 - accuracy: 0.0258 - val_loss: 0.0069 - val_accuracy: 0.0125\n",
      "Epoch 290/300\n",
      "31/31 [==============================] - 0s 3ms/step - loss: 0.0058 - accuracy: 0.0222 - val_loss: 0.0069 - val_accuracy: 0.0125\n",
      "Epoch 291/300\n",
      "31/31 [==============================] - 0s 3ms/step - loss: 0.0060 - accuracy: 0.0248 - val_loss: 0.0069 - val_accuracy: 0.0125\n",
      "Epoch 292/300\n",
      "31/31 [==============================] - 0s 3ms/step - loss: 0.0059 - accuracy: 0.0240 - val_loss: 0.0069 - val_accuracy: 0.0125\n",
      "Epoch 293/300\n",
      "31/31 [==============================] - 0s 3ms/step - loss: 0.0059 - accuracy: 0.0281 - val_loss: 0.0069 - val_accuracy: 0.0125\n",
      "Epoch 294/300\n",
      "31/31 [==============================] - 0s 3ms/step - loss: 0.0058 - accuracy: 0.0247 - val_loss: 0.0069 - val_accuracy: 0.0125\n",
      "Epoch 295/300\n",
      "31/31 [==============================] - 0s 3ms/step - loss: 0.0058 - accuracy: 0.0269 - val_loss: 0.0069 - val_accuracy: 0.0125\n",
      "Epoch 296/300\n",
      "31/31 [==============================] - 0s 3ms/step - loss: 0.0060 - accuracy: 0.0273 - val_loss: 0.0068 - val_accuracy: 0.0125\n",
      "Epoch 297/300\n",
      "31/31 [==============================] - 0s 3ms/step - loss: 0.0058 - accuracy: 0.0184 - val_loss: 0.0068 - val_accuracy: 0.0125\n",
      "Epoch 298/300\n",
      "31/31 [==============================] - 0s 3ms/step - loss: 0.0062 - accuracy: 0.0214 - val_loss: 0.0068 - val_accuracy: 0.0125\n",
      "Epoch 299/300\n",
      "31/31 [==============================] - 0s 3ms/step - loss: 0.0061 - accuracy: 0.0292 - val_loss: 0.0068 - val_accuracy: 0.0125\n",
      "Epoch 300/300\n",
      "31/31 [==============================] - 0s 3ms/step - loss: 0.0057 - accuracy: 0.0306 - val_loss: 0.0067 - val_accuracy: 0.0125\n"
     ]
    }
   ],
   "source": [
    "#lr_schedule = tf.keras.callbacks.LearningRateScheduler(\n",
    "#    lambda epoch: 1e-4 * 10**(epoch / 20))\n",
    "optimizer = tf.keras.optimizers.SGD(learning_rate=1e-3, momentum=0.5)\n",
    "\n",
    "predict_fert.compile(\n",
    "    optimizer = optimizer,\n",
    "    loss = tf.keras.losses.MSE,\n",
    "    metrics = ['accuracy']\n",
    ")\n",
    "\n",
    "hist = predict_fert.fit(\n",
    "    train_features, train_labels,\n",
    "    #fertiliser,\n",
    "    epochs = 300,\n",
    "    validation_data = (test_features, test_labels),\n",
    "#    callbacks = [lr_schedule]\n",
    " )"
   ]
  },
  {
   "cell_type": "code",
   "execution_count": 32,
   "metadata": {},
   "outputs": [
    {
     "output_type": "display_data",
     "data": {
      "text/plain": "<Figure size 432x288 with 1 Axes>",
      "image/svg+xml": "<?xml version=\"1.0\" encoding=\"utf-8\" standalone=\"no\"?>\r\n<!DOCTYPE svg PUBLIC \"-//W3C//DTD SVG 1.1//EN\"\r\n  \"http://www.w3.org/Graphics/SVG/1.1/DTD/svg11.dtd\">\r\n<!-- Created with matplotlib (https://matplotlib.org/) -->\r\n<svg height=\"248.730227pt\" version=\"1.1\" viewBox=\"0 0 378.465625 248.730227\" width=\"378.465625pt\" xmlns=\"http://www.w3.org/2000/svg\" xmlns:xlink=\"http://www.w3.org/1999/xlink\">\r\n <metadata>\r\n  <rdf:RDF xmlns:cc=\"http://creativecommons.org/ns#\" xmlns:dc=\"http://purl.org/dc/elements/1.1/\" xmlns:rdf=\"http://www.w3.org/1999/02/22-rdf-syntax-ns#\">\r\n   <cc:Work>\r\n    <dc:type rdf:resource=\"http://purl.org/dc/dcmitype/StillImage\"/>\r\n    <dc:date>2021-05-28T17:47:42.610947</dc:date>\r\n    <dc:format>image/svg+xml</dc:format>\r\n    <dc:creator>\r\n     <cc:Agent>\r\n      <dc:title>Matplotlib v3.3.3, https://matplotlib.org/</dc:title>\r\n     </cc:Agent>\r\n    </dc:creator>\r\n   </cc:Work>\r\n  </rdf:RDF>\r\n </metadata>\r\n <defs>\r\n  <style type=\"text/css\">*{stroke-linecap:butt;stroke-linejoin:round;}</style>\r\n </defs>\r\n <g id=\"figure_1\">\r\n  <g id=\"patch_1\">\r\n   <path d=\"M 0 248.730227 \r\nL 378.465625 248.730227 \r\nL 378.465625 0 \r\nL 0 0 \r\nz\r\n\" style=\"fill:none;\"/>\r\n  </g>\r\n  <g id=\"axes_1\">\r\n   <g id=\"patch_2\">\r\n    <path d=\"M 36.465625 224.852102 \r\nL 371.265625 224.852102 \r\nL 371.265625 7.412102 \r\nL 36.465625 7.412102 \r\nz\r\n\" style=\"fill:#ffffff;\"/>\r\n   </g>\r\n   <g id=\"matplotlib.axis_1\">\r\n    <g id=\"xtick_1\">\r\n     <g id=\"line2d_1\">\r\n      <defs>\r\n       <path d=\"M 0 0 \r\nL 0 3.5 \r\n\" id=\"m7d99e50906\" style=\"stroke:#000000;stroke-width:0.8;\"/>\r\n      </defs>\r\n      <g>\r\n       <use style=\"stroke:#000000;stroke-width:0.8;\" x=\"51.683807\" xlink:href=\"#m7d99e50906\" y=\"224.852102\"/>\r\n      </g>\r\n     </g>\r\n     <g id=\"text_1\">\r\n      <!-- 0 -->\r\n      <g transform=\"translate(48.502557 239.450539)scale(0.1 -0.1)\">\r\n       <defs>\r\n        <path d=\"M 31.78125 66.40625 \r\nQ 24.171875 66.40625 20.328125 58.90625 \r\nQ 16.5 51.421875 16.5 36.375 \r\nQ 16.5 21.390625 20.328125 13.890625 \r\nQ 24.171875 6.390625 31.78125 6.390625 \r\nQ 39.453125 6.390625 43.28125 13.890625 \r\nQ 47.125 21.390625 47.125 36.375 \r\nQ 47.125 51.421875 43.28125 58.90625 \r\nQ 39.453125 66.40625 31.78125 66.40625 \r\nz\r\nM 31.78125 74.21875 \r\nQ 44.046875 74.21875 50.515625 64.515625 \r\nQ 56.984375 54.828125 56.984375 36.375 \r\nQ 56.984375 17.96875 50.515625 8.265625 \r\nQ 44.046875 -1.421875 31.78125 -1.421875 \r\nQ 19.53125 -1.421875 13.0625 8.265625 \r\nQ 6.59375 17.96875 6.59375 36.375 \r\nQ 6.59375 54.828125 13.0625 64.515625 \r\nQ 19.53125 74.21875 31.78125 74.21875 \r\nz\r\n\" id=\"DejaVuSans-48\"/>\r\n       </defs>\r\n       <use xlink:href=\"#DejaVuSans-48\"/>\r\n      </g>\r\n     </g>\r\n    </g>\r\n    <g id=\"xtick_2\">\r\n     <g id=\"line2d_2\">\r\n      <g>\r\n       <use style=\"stroke:#000000;stroke-width:0.8;\" x=\"102.580736\" xlink:href=\"#m7d99e50906\" y=\"224.852102\"/>\r\n      </g>\r\n     </g>\r\n     <g id=\"text_2\">\r\n      <!-- 50 -->\r\n      <g transform=\"translate(96.218236 239.450539)scale(0.1 -0.1)\">\r\n       <defs>\r\n        <path d=\"M 10.796875 72.90625 \r\nL 49.515625 72.90625 \r\nL 49.515625 64.59375 \r\nL 19.828125 64.59375 \r\nL 19.828125 46.734375 \r\nQ 21.96875 47.46875 24.109375 47.828125 \r\nQ 26.265625 48.1875 28.421875 48.1875 \r\nQ 40.625 48.1875 47.75 41.5 \r\nQ 54.890625 34.8125 54.890625 23.390625 \r\nQ 54.890625 11.625 47.5625 5.09375 \r\nQ 40.234375 -1.421875 26.90625 -1.421875 \r\nQ 22.3125 -1.421875 17.546875 -0.640625 \r\nQ 12.796875 0.140625 7.71875 1.703125 \r\nL 7.71875 11.625 \r\nQ 12.109375 9.234375 16.796875 8.0625 \r\nQ 21.484375 6.890625 26.703125 6.890625 \r\nQ 35.15625 6.890625 40.078125 11.328125 \r\nQ 45.015625 15.765625 45.015625 23.390625 \r\nQ 45.015625 31 40.078125 35.4375 \r\nQ 35.15625 39.890625 26.703125 39.890625 \r\nQ 22.75 39.890625 18.8125 39.015625 \r\nQ 14.890625 38.140625 10.796875 36.28125 \r\nz\r\n\" id=\"DejaVuSans-53\"/>\r\n       </defs>\r\n       <use xlink:href=\"#DejaVuSans-53\"/>\r\n       <use x=\"63.623047\" xlink:href=\"#DejaVuSans-48\"/>\r\n      </g>\r\n     </g>\r\n    </g>\r\n    <g id=\"xtick_3\">\r\n     <g id=\"line2d_3\">\r\n      <g>\r\n       <use style=\"stroke:#000000;stroke-width:0.8;\" x=\"153.477665\" xlink:href=\"#m7d99e50906\" y=\"224.852102\"/>\r\n      </g>\r\n     </g>\r\n     <g id=\"text_3\">\r\n      <!-- 100 -->\r\n      <g transform=\"translate(143.933915 239.450539)scale(0.1 -0.1)\">\r\n       <defs>\r\n        <path d=\"M 12.40625 8.296875 \r\nL 28.515625 8.296875 \r\nL 28.515625 63.921875 \r\nL 10.984375 60.40625 \r\nL 10.984375 69.390625 \r\nL 28.421875 72.90625 \r\nL 38.28125 72.90625 \r\nL 38.28125 8.296875 \r\nL 54.390625 8.296875 \r\nL 54.390625 0 \r\nL 12.40625 0 \r\nz\r\n\" id=\"DejaVuSans-49\"/>\r\n       </defs>\r\n       <use xlink:href=\"#DejaVuSans-49\"/>\r\n       <use x=\"63.623047\" xlink:href=\"#DejaVuSans-48\"/>\r\n       <use x=\"127.246094\" xlink:href=\"#DejaVuSans-48\"/>\r\n      </g>\r\n     </g>\r\n    </g>\r\n    <g id=\"xtick_4\">\r\n     <g id=\"line2d_4\">\r\n      <g>\r\n       <use style=\"stroke:#000000;stroke-width:0.8;\" x=\"204.374594\" xlink:href=\"#m7d99e50906\" y=\"224.852102\"/>\r\n      </g>\r\n     </g>\r\n     <g id=\"text_4\">\r\n      <!-- 150 -->\r\n      <g transform=\"translate(194.830844 239.450539)scale(0.1 -0.1)\">\r\n       <use xlink:href=\"#DejaVuSans-49\"/>\r\n       <use x=\"63.623047\" xlink:href=\"#DejaVuSans-53\"/>\r\n       <use x=\"127.246094\" xlink:href=\"#DejaVuSans-48\"/>\r\n      </g>\r\n     </g>\r\n    </g>\r\n    <g id=\"xtick_5\">\r\n     <g id=\"line2d_5\">\r\n      <g>\r\n       <use style=\"stroke:#000000;stroke-width:0.8;\" x=\"255.271523\" xlink:href=\"#m7d99e50906\" y=\"224.852102\"/>\r\n      </g>\r\n     </g>\r\n     <g id=\"text_5\">\r\n      <!-- 200 -->\r\n      <g transform=\"translate(245.727773 239.450539)scale(0.1 -0.1)\">\r\n       <defs>\r\n        <path d=\"M 19.1875 8.296875 \r\nL 53.609375 8.296875 \r\nL 53.609375 0 \r\nL 7.328125 0 \r\nL 7.328125 8.296875 \r\nQ 12.9375 14.109375 22.625 23.890625 \r\nQ 32.328125 33.6875 34.8125 36.53125 \r\nQ 39.546875 41.84375 41.421875 45.53125 \r\nQ 43.3125 49.21875 43.3125 52.78125 \r\nQ 43.3125 58.59375 39.234375 62.25 \r\nQ 35.15625 65.921875 28.609375 65.921875 \r\nQ 23.96875 65.921875 18.8125 64.3125 \r\nQ 13.671875 62.703125 7.8125 59.421875 \r\nL 7.8125 69.390625 \r\nQ 13.765625 71.78125 18.9375 73 \r\nQ 24.125 74.21875 28.421875 74.21875 \r\nQ 39.75 74.21875 46.484375 68.546875 \r\nQ 53.21875 62.890625 53.21875 53.421875 \r\nQ 53.21875 48.921875 51.53125 44.890625 \r\nQ 49.859375 40.875 45.40625 35.40625 \r\nQ 44.1875 33.984375 37.640625 27.21875 \r\nQ 31.109375 20.453125 19.1875 8.296875 \r\nz\r\n\" id=\"DejaVuSans-50\"/>\r\n       </defs>\r\n       <use xlink:href=\"#DejaVuSans-50\"/>\r\n       <use x=\"63.623047\" xlink:href=\"#DejaVuSans-48\"/>\r\n       <use x=\"127.246094\" xlink:href=\"#DejaVuSans-48\"/>\r\n      </g>\r\n     </g>\r\n    </g>\r\n    <g id=\"xtick_6\">\r\n     <g id=\"line2d_6\">\r\n      <g>\r\n       <use style=\"stroke:#000000;stroke-width:0.8;\" x=\"306.168453\" xlink:href=\"#m7d99e50906\" y=\"224.852102\"/>\r\n      </g>\r\n     </g>\r\n     <g id=\"text_6\">\r\n      <!-- 250 -->\r\n      <g transform=\"translate(296.624703 239.450539)scale(0.1 -0.1)\">\r\n       <use xlink:href=\"#DejaVuSans-50\"/>\r\n       <use x=\"63.623047\" xlink:href=\"#DejaVuSans-53\"/>\r\n       <use x=\"127.246094\" xlink:href=\"#DejaVuSans-48\"/>\r\n      </g>\r\n     </g>\r\n    </g>\r\n    <g id=\"xtick_7\">\r\n     <g id=\"line2d_7\">\r\n      <g>\r\n       <use style=\"stroke:#000000;stroke-width:0.8;\" x=\"357.065382\" xlink:href=\"#m7d99e50906\" y=\"224.852102\"/>\r\n      </g>\r\n     </g>\r\n     <g id=\"text_7\">\r\n      <!-- 300 -->\r\n      <g transform=\"translate(347.521632 239.450539)scale(0.1 -0.1)\">\r\n       <defs>\r\n        <path d=\"M 40.578125 39.3125 \r\nQ 47.65625 37.796875 51.625 33 \r\nQ 55.609375 28.21875 55.609375 21.1875 \r\nQ 55.609375 10.40625 48.1875 4.484375 \r\nQ 40.765625 -1.421875 27.09375 -1.421875 \r\nQ 22.515625 -1.421875 17.65625 -0.515625 \r\nQ 12.796875 0.390625 7.625 2.203125 \r\nL 7.625 11.71875 \r\nQ 11.71875 9.328125 16.59375 8.109375 \r\nQ 21.484375 6.890625 26.8125 6.890625 \r\nQ 36.078125 6.890625 40.9375 10.546875 \r\nQ 45.796875 14.203125 45.796875 21.1875 \r\nQ 45.796875 27.640625 41.28125 31.265625 \r\nQ 36.765625 34.90625 28.71875 34.90625 \r\nL 20.21875 34.90625 \r\nL 20.21875 43.015625 \r\nL 29.109375 43.015625 \r\nQ 36.375 43.015625 40.234375 45.921875 \r\nQ 44.09375 48.828125 44.09375 54.296875 \r\nQ 44.09375 59.90625 40.109375 62.90625 \r\nQ 36.140625 65.921875 28.71875 65.921875 \r\nQ 24.65625 65.921875 20.015625 65.03125 \r\nQ 15.375 64.15625 9.8125 62.3125 \r\nL 9.8125 71.09375 \r\nQ 15.4375 72.65625 20.34375 73.4375 \r\nQ 25.25 74.21875 29.59375 74.21875 \r\nQ 40.828125 74.21875 47.359375 69.109375 \r\nQ 53.90625 64.015625 53.90625 55.328125 \r\nQ 53.90625 49.265625 50.4375 45.09375 \r\nQ 46.96875 40.921875 40.578125 39.3125 \r\nz\r\n\" id=\"DejaVuSans-51\"/>\r\n       </defs>\r\n       <use xlink:href=\"#DejaVuSans-51\"/>\r\n       <use x=\"63.623047\" xlink:href=\"#DejaVuSans-48\"/>\r\n       <use x=\"127.246094\" xlink:href=\"#DejaVuSans-48\"/>\r\n      </g>\r\n     </g>\r\n    </g>\r\n   </g>\r\n   <g id=\"matplotlib.axis_2\">\r\n    <g id=\"ytick_1\">\r\n     <g id=\"line2d_8\">\r\n      <defs>\r\n       <path d=\"M 0 0 \r\nL -3.5 0 \r\n\" id=\"maca32631f2\" style=\"stroke:#000000;stroke-width:0.8;\"/>\r\n      </defs>\r\n      <g>\r\n       <use style=\"stroke:#000000;stroke-width:0.8;\" x=\"36.465625\" xlink:href=\"#maca32631f2\" y=\"222.841294\"/>\r\n      </g>\r\n     </g>\r\n     <g id=\"text_8\">\r\n      <!-- 0.00 -->\r\n      <g transform=\"translate(7.2 226.640513)scale(0.1 -0.1)\">\r\n       <defs>\r\n        <path d=\"M 10.6875 12.40625 \r\nL 21 12.40625 \r\nL 21 0 \r\nL 10.6875 0 \r\nz\r\n\" id=\"DejaVuSans-46\"/>\r\n       </defs>\r\n       <use xlink:href=\"#DejaVuSans-48\"/>\r\n       <use x=\"63.623047\" xlink:href=\"#DejaVuSans-46\"/>\r\n       <use x=\"95.410156\" xlink:href=\"#DejaVuSans-48\"/>\r\n       <use x=\"159.033203\" xlink:href=\"#DejaVuSans-48\"/>\r\n      </g>\r\n     </g>\r\n    </g>\r\n    <g id=\"ytick_2\">\r\n     <g id=\"line2d_9\">\r\n      <g>\r\n       <use style=\"stroke:#000000;stroke-width:0.8;\" x=\"36.465625\" xlink:href=\"#maca32631f2\" y=\"192.57814\"/>\r\n      </g>\r\n     </g>\r\n     <g id=\"text_9\">\r\n      <!-- 0.02 -->\r\n      <g transform=\"translate(7.2 196.377359)scale(0.1 -0.1)\">\r\n       <use xlink:href=\"#DejaVuSans-48\"/>\r\n       <use x=\"63.623047\" xlink:href=\"#DejaVuSans-46\"/>\r\n       <use x=\"95.410156\" xlink:href=\"#DejaVuSans-48\"/>\r\n       <use x=\"159.033203\" xlink:href=\"#DejaVuSans-50\"/>\r\n      </g>\r\n     </g>\r\n    </g>\r\n    <g id=\"ytick_3\">\r\n     <g id=\"line2d_10\">\r\n      <g>\r\n       <use style=\"stroke:#000000;stroke-width:0.8;\" x=\"36.465625\" xlink:href=\"#maca32631f2\" y=\"162.314987\"/>\r\n      </g>\r\n     </g>\r\n     <g id=\"text_10\">\r\n      <!-- 0.04 -->\r\n      <g transform=\"translate(7.2 166.114205)scale(0.1 -0.1)\">\r\n       <defs>\r\n        <path d=\"M 37.796875 64.3125 \r\nL 12.890625 25.390625 \r\nL 37.796875 25.390625 \r\nz\r\nM 35.203125 72.90625 \r\nL 47.609375 72.90625 \r\nL 47.609375 25.390625 \r\nL 58.015625 25.390625 \r\nL 58.015625 17.1875 \r\nL 47.609375 17.1875 \r\nL 47.609375 0 \r\nL 37.796875 0 \r\nL 37.796875 17.1875 \r\nL 4.890625 17.1875 \r\nL 4.890625 26.703125 \r\nz\r\n\" id=\"DejaVuSans-52\"/>\r\n       </defs>\r\n       <use xlink:href=\"#DejaVuSans-48\"/>\r\n       <use x=\"63.623047\" xlink:href=\"#DejaVuSans-46\"/>\r\n       <use x=\"95.410156\" xlink:href=\"#DejaVuSans-48\"/>\r\n       <use x=\"159.033203\" xlink:href=\"#DejaVuSans-52\"/>\r\n      </g>\r\n     </g>\r\n    </g>\r\n    <g id=\"ytick_4\">\r\n     <g id=\"line2d_11\">\r\n      <g>\r\n       <use style=\"stroke:#000000;stroke-width:0.8;\" x=\"36.465625\" xlink:href=\"#maca32631f2\" y=\"132.051833\"/>\r\n      </g>\r\n     </g>\r\n     <g id=\"text_11\">\r\n      <!-- 0.06 -->\r\n      <g transform=\"translate(7.2 135.851052)scale(0.1 -0.1)\">\r\n       <defs>\r\n        <path d=\"M 33.015625 40.375 \r\nQ 26.375 40.375 22.484375 35.828125 \r\nQ 18.609375 31.296875 18.609375 23.390625 \r\nQ 18.609375 15.53125 22.484375 10.953125 \r\nQ 26.375 6.390625 33.015625 6.390625 \r\nQ 39.65625 6.390625 43.53125 10.953125 \r\nQ 47.40625 15.53125 47.40625 23.390625 \r\nQ 47.40625 31.296875 43.53125 35.828125 \r\nQ 39.65625 40.375 33.015625 40.375 \r\nz\r\nM 52.59375 71.296875 \r\nL 52.59375 62.3125 \r\nQ 48.875 64.0625 45.09375 64.984375 \r\nQ 41.3125 65.921875 37.59375 65.921875 \r\nQ 27.828125 65.921875 22.671875 59.328125 \r\nQ 17.53125 52.734375 16.796875 39.40625 \r\nQ 19.671875 43.65625 24.015625 45.921875 \r\nQ 28.375 48.1875 33.59375 48.1875 \r\nQ 44.578125 48.1875 50.953125 41.515625 \r\nQ 57.328125 34.859375 57.328125 23.390625 \r\nQ 57.328125 12.15625 50.6875 5.359375 \r\nQ 44.046875 -1.421875 33.015625 -1.421875 \r\nQ 20.359375 -1.421875 13.671875 8.265625 \r\nQ 6.984375 17.96875 6.984375 36.375 \r\nQ 6.984375 53.65625 15.1875 63.9375 \r\nQ 23.390625 74.21875 37.203125 74.21875 \r\nQ 40.921875 74.21875 44.703125 73.484375 \r\nQ 48.484375 72.75 52.59375 71.296875 \r\nz\r\n\" id=\"DejaVuSans-54\"/>\r\n       </defs>\r\n       <use xlink:href=\"#DejaVuSans-48\"/>\r\n       <use x=\"63.623047\" xlink:href=\"#DejaVuSans-46\"/>\r\n       <use x=\"95.410156\" xlink:href=\"#DejaVuSans-48\"/>\r\n       <use x=\"159.033203\" xlink:href=\"#DejaVuSans-54\"/>\r\n      </g>\r\n     </g>\r\n    </g>\r\n    <g id=\"ytick_5\">\r\n     <g id=\"line2d_12\">\r\n      <g>\r\n       <use style=\"stroke:#000000;stroke-width:0.8;\" x=\"36.465625\" xlink:href=\"#maca32631f2\" y=\"101.78868\"/>\r\n      </g>\r\n     </g>\r\n     <g id=\"text_12\">\r\n      <!-- 0.08 -->\r\n      <g transform=\"translate(7.2 105.587898)scale(0.1 -0.1)\">\r\n       <defs>\r\n        <path d=\"M 31.78125 34.625 \r\nQ 24.75 34.625 20.71875 30.859375 \r\nQ 16.703125 27.09375 16.703125 20.515625 \r\nQ 16.703125 13.921875 20.71875 10.15625 \r\nQ 24.75 6.390625 31.78125 6.390625 \r\nQ 38.8125 6.390625 42.859375 10.171875 \r\nQ 46.921875 13.96875 46.921875 20.515625 \r\nQ 46.921875 27.09375 42.890625 30.859375 \r\nQ 38.875 34.625 31.78125 34.625 \r\nz\r\nM 21.921875 38.8125 \r\nQ 15.578125 40.375 12.03125 44.71875 \r\nQ 8.5 49.078125 8.5 55.328125 \r\nQ 8.5 64.0625 14.71875 69.140625 \r\nQ 20.953125 74.21875 31.78125 74.21875 \r\nQ 42.671875 74.21875 48.875 69.140625 \r\nQ 55.078125 64.0625 55.078125 55.328125 \r\nQ 55.078125 49.078125 51.53125 44.71875 \r\nQ 48 40.375 41.703125 38.8125 \r\nQ 48.828125 37.15625 52.796875 32.3125 \r\nQ 56.78125 27.484375 56.78125 20.515625 \r\nQ 56.78125 9.90625 50.3125 4.234375 \r\nQ 43.84375 -1.421875 31.78125 -1.421875 \r\nQ 19.734375 -1.421875 13.25 4.234375 \r\nQ 6.78125 9.90625 6.78125 20.515625 \r\nQ 6.78125 27.484375 10.78125 32.3125 \r\nQ 14.796875 37.15625 21.921875 38.8125 \r\nz\r\nM 18.3125 54.390625 \r\nQ 18.3125 48.734375 21.84375 45.5625 \r\nQ 25.390625 42.390625 31.78125 42.390625 \r\nQ 38.140625 42.390625 41.71875 45.5625 \r\nQ 45.3125 48.734375 45.3125 54.390625 \r\nQ 45.3125 60.0625 41.71875 63.234375 \r\nQ 38.140625 66.40625 31.78125 66.40625 \r\nQ 25.390625 66.40625 21.84375 63.234375 \r\nQ 18.3125 60.0625 18.3125 54.390625 \r\nz\r\n\" id=\"DejaVuSans-56\"/>\r\n       </defs>\r\n       <use xlink:href=\"#DejaVuSans-48\"/>\r\n       <use x=\"63.623047\" xlink:href=\"#DejaVuSans-46\"/>\r\n       <use x=\"95.410156\" xlink:href=\"#DejaVuSans-48\"/>\r\n       <use x=\"159.033203\" xlink:href=\"#DejaVuSans-56\"/>\r\n      </g>\r\n     </g>\r\n    </g>\r\n    <g id=\"ytick_6\">\r\n     <g id=\"line2d_13\">\r\n      <g>\r\n       <use style=\"stroke:#000000;stroke-width:0.8;\" x=\"36.465625\" xlink:href=\"#maca32631f2\" y=\"71.525526\"/>\r\n      </g>\r\n     </g>\r\n     <g id=\"text_13\">\r\n      <!-- 0.10 -->\r\n      <g transform=\"translate(7.2 75.324745)scale(0.1 -0.1)\">\r\n       <use xlink:href=\"#DejaVuSans-48\"/>\r\n       <use x=\"63.623047\" xlink:href=\"#DejaVuSans-46\"/>\r\n       <use x=\"95.410156\" xlink:href=\"#DejaVuSans-49\"/>\r\n       <use x=\"159.033203\" xlink:href=\"#DejaVuSans-48\"/>\r\n      </g>\r\n     </g>\r\n    </g>\r\n    <g id=\"ytick_7\">\r\n     <g id=\"line2d_14\">\r\n      <g>\r\n       <use style=\"stroke:#000000;stroke-width:0.8;\" x=\"36.465625\" xlink:href=\"#maca32631f2\" y=\"41.262372\"/>\r\n      </g>\r\n     </g>\r\n     <g id=\"text_14\">\r\n      <!-- 0.12 -->\r\n      <g transform=\"translate(7.2 45.061591)scale(0.1 -0.1)\">\r\n       <use xlink:href=\"#DejaVuSans-48\"/>\r\n       <use x=\"63.623047\" xlink:href=\"#DejaVuSans-46\"/>\r\n       <use x=\"95.410156\" xlink:href=\"#DejaVuSans-49\"/>\r\n       <use x=\"159.033203\" xlink:href=\"#DejaVuSans-50\"/>\r\n      </g>\r\n     </g>\r\n    </g>\r\n    <g id=\"ytick_8\">\r\n     <g id=\"line2d_15\">\r\n      <g>\r\n       <use style=\"stroke:#000000;stroke-width:0.8;\" x=\"36.465625\" xlink:href=\"#maca32631f2\" y=\"10.999219\"/>\r\n      </g>\r\n     </g>\r\n     <g id=\"text_15\">\r\n      <!-- 0.14 -->\r\n      <g transform=\"translate(7.2 14.798437)scale(0.1 -0.1)\">\r\n       <use xlink:href=\"#DejaVuSans-48\"/>\r\n       <use x=\"63.623047\" xlink:href=\"#DejaVuSans-46\"/>\r\n       <use x=\"95.410156\" xlink:href=\"#DejaVuSans-49\"/>\r\n       <use x=\"159.033203\" xlink:href=\"#DejaVuSans-52\"/>\r\n      </g>\r\n     </g>\r\n    </g>\r\n   </g>\r\n   <g id=\"line2d_16\">\r\n    <path clip-path=\"url(#p31f2fea2ba)\" d=\"M 51.683807 17.295738 \r\nL 52.701745 63.042126 \r\nL 53.719684 94.734984 \r\nL 54.737623 114.31241 \r\nL 55.755561 126.386806 \r\nL 56.7735 135.188748 \r\nL 57.791438 141.489005 \r\nL 58.809377 146.402195 \r\nL 59.827315 149.813672 \r\nL 60.845254 152.785259 \r\nL 63.89907 158.971785 \r\nL 65.934947 162.115603 \r\nL 66.952886 163.474103 \r\nL 67.970824 164.639864 \r\nL 68.988763 166.037186 \r\nL 71.02464 168.276904 \r\nL 75.096394 172.419748 \r\nL 76.114333 173.288791 \r\nL 77.132271 174.324125 \r\nL 81.204026 177.620738 \r\nL 85.27578 180.797253 \r\nL 90.365473 183.949129 \r\nL 97.491043 187.619061 \r\nL 99.52692 188.527459 \r\nL 106.65249 191.475782 \r\nL 108.688367 192.223819 \r\nL 115.813938 194.564276 \r\nL 127.011262 197.525558 \r\nL 129.047139 197.938146 \r\nL 130.065078 198.224464 \r\nL 132.100955 198.566506 \r\nL 134.136832 199.071954 \r\nL 137.190648 199.714663 \r\nL 143.298279 200.789056 \r\nL 144.316218 200.891045 \r\nL 146.352095 201.325615 \r\nL 151.441788 202.08382 \r\nL 152.459727 202.303135 \r\nL 153.477665 202.336172 \r\nL 156.531481 202.897994 \r\nL 179.944068 205.677153 \r\nL 188.087577 206.393546 \r\nL 191.141393 206.723041 \r\nL 193.17727 206.844877 \r\nL 195.213147 207.049955 \r\nL 209.464287 208.177727 \r\nL 212.518103 208.36656 \r\nL 214.55398 208.592504 \r\nL 216.589857 208.713766 \r\nL 227.787182 209.528724 \r\nL 252.217708 210.936803 \r\nL 263.415032 211.416742 \r\nL 268.504725 211.631497 \r\nL 281.737927 212.114912 \r\nL 328.563101 213.435959 \r\nL 356.047443 214.087307 \r\nL 356.047443 214.087307 \r\n\" style=\"fill:none;stroke:#ff0000;stroke-linecap:square;stroke-width:1.5;\"/>\r\n   </g>\r\n   <g id=\"line2d_17\">\r\n    <path clip-path=\"url(#p31f2fea2ba)\" d=\"M 51.683807 214.968465 \r\nL 52.701745 214.968465 \r\nL 53.719684 199.222808 \r\nL 54.737623 189.775412 \r\nL 55.755561 188.200848 \r\nL 56.7735 188.200848 \r\nL 57.791438 186.626281 \r\nL 356.047443 186.626281 \r\nL 356.047443 186.626281 \r\n\" style=\"fill:none;stroke:#008000;stroke-linecap:square;stroke-width:1.5;\"/>\r\n   </g>\r\n   <g id=\"line2d_18\">\r\n    <path clip-path=\"url(#p31f2fea2ba)\" d=\"M 51.683807 56.639428 \r\nL 52.701745 91.63368 \r\nL 53.719684 113.619167 \r\nL 54.737623 126.561179 \r\nL 55.755561 135.155794 \r\nL 56.7735 141.125557 \r\nL 57.791438 146.19037 \r\nL 58.809377 148.798001 \r\nL 59.827315 152.243666 \r\nL 60.845254 154.337219 \r\nL 61.863193 155.720781 \r\nL 62.881131 157.579611 \r\nL 65.934947 161.441903 \r\nL 66.952886 162.379604 \r\nL 67.970824 163.545563 \r\nL 68.988763 164.272775 \r\nL 70.006701 165.820777 \r\nL 71.02464 166.434439 \r\nL 72.042578 167.539591 \r\nL 73.060517 168.243077 \r\nL 74.078456 169.42213 \r\nL 78.15021 172.374867 \r\nL 79.168149 173.012186 \r\nL 80.186087 174.257654 \r\nL 82.221964 175.658881 \r\nL 83.239903 176.074578 \r\nL 86.293719 178.108658 \r\nL 87.311657 178.519437 \r\nL 88.329596 179.653851 \r\nL 89.347534 180.087992 \r\nL 90.365473 180.869293 \r\nL 91.383412 181.419516 \r\nL 92.40135 181.821462 \r\nL 94.437227 182.831003 \r\nL 95.455166 183.10884 \r\nL 96.473104 183.895325 \r\nL 100.544859 185.641015 \r\nL 101.562797 185.870146 \r\nL 102.580736 186.35737 \r\nL 103.598675 186.625086 \r\nL 107.670429 188.219844 \r\nL 108.688367 188.574158 \r\nL 110.724245 189.451761 \r\nL 111.742183 189.622211 \r\nL 112.760122 190.174356 \r\nL 113.77806 190.407847 \r\nL 117.849815 191.717297 \r\nL 120.90363 192.533192 \r\nL 123.957446 193.268482 \r\nL 125.993323 193.803245 \r\nL 129.047139 194.382994 \r\nL 134.136832 195.728013 \r\nL 137.190648 196.35029 \r\nL 139.226525 196.719902 \r\nL 142.280341 197.296912 \r\nL 144.316218 197.584005 \r\nL 148.387972 198.389105 \r\nL 152.459727 199.101808 \r\nL 153.477665 199.423855 \r\nL 155.513542 199.745694 \r\nL 170.782621 201.759277 \r\nL 171.80056 201.804899 \r\nL 175.872314 202.525073 \r\nL 176.890253 202.589462 \r\nL 178.92613 202.940479 \r\nL 180.962007 203.109067 \r\nL 182.997884 203.400417 \r\nL 184.015823 203.379415 \r\nL 186.0517 203.625398 \r\nL 188.087577 203.763409 \r\nL 191.141393 204.046614 \r\nL 194.195208 204.366974 \r\nL 200.30284 204.973712 \r\nL 222.697489 206.915905 \r\nL 246.110076 208.674183 \r\nL 250.181831 208.888486 \r\nL 273.594418 209.981627 \r\nL 275.630295 210.024272 \r\nL 280.719988 210.32432 \r\nL 286.82762 210.54374 \r\nL 318.383716 211.578051 \r\nL 328.563101 211.86347 \r\nL 334.670733 212.021289 \r\nL 348.921873 212.39924 \r\nL 351.975689 212.500765 \r\nL 356.047443 212.672965 \r\nL 356.047443 212.672965 \r\n\" style=\"fill:none;stroke:#0000ff;stroke-linecap:square;stroke-width:1.5;\"/>\r\n   </g>\r\n   <g id=\"line2d_19\">\r\n    <defs>\r\n     <path d=\"M 0 -3 \r\nL -2.85317 -0.927051 \r\nL -1.763356 2.427051 \r\nL 1.763356 2.427051 \r\nL 2.85317 -0.927051 \r\nz\r\n\" id=\"m2f58ca2ec4\" style=\"stroke:#1f77b4;stroke-linejoin:miter;\"/>\r\n    </defs>\r\n    <g clip-path=\"url(#p31f2fea2ba)\">\r\n     <use style=\"fill:#1f77b4;stroke:#1f77b4;stroke-linejoin:miter;\" x=\"51.683807\" xlink:href=\"#m2f58ca2ec4\" y=\"203.926823\"/>\r\n     <use style=\"fill:#1f77b4;stroke:#1f77b4;stroke-linejoin:miter;\" x=\"52.701745\" xlink:href=\"#m2f58ca2ec4\" y=\"203.926823\"/>\r\n     <use style=\"fill:#1f77b4;stroke:#1f77b4;stroke-linejoin:miter;\" x=\"53.719684\" xlink:href=\"#m2f58ca2ec4\" y=\"203.926823\"/>\r\n     <use style=\"fill:#1f77b4;stroke:#1f77b4;stroke-linejoin:miter;\" x=\"54.737623\" xlink:href=\"#m2f58ca2ec4\" y=\"203.926823\"/>\r\n     <use style=\"fill:#1f77b4;stroke:#1f77b4;stroke-linejoin:miter;\" x=\"55.755561\" xlink:href=\"#m2f58ca2ec4\" y=\"203.926823\"/>\r\n     <use style=\"fill:#1f77b4;stroke:#1f77b4;stroke-linejoin:miter;\" x=\"56.7735\" xlink:href=\"#m2f58ca2ec4\" y=\"203.926823\"/>\r\n     <use style=\"fill:#1f77b4;stroke:#1f77b4;stroke-linejoin:miter;\" x=\"57.791438\" xlink:href=\"#m2f58ca2ec4\" y=\"203.926823\"/>\r\n     <use style=\"fill:#1f77b4;stroke:#1f77b4;stroke-linejoin:miter;\" x=\"58.809377\" xlink:href=\"#m2f58ca2ec4\" y=\"203.926823\"/>\r\n     <use style=\"fill:#1f77b4;stroke:#1f77b4;stroke-linejoin:miter;\" x=\"59.827315\" xlink:href=\"#m2f58ca2ec4\" y=\"203.926823\"/>\r\n     <use style=\"fill:#1f77b4;stroke:#1f77b4;stroke-linejoin:miter;\" x=\"60.845254\" xlink:href=\"#m2f58ca2ec4\" y=\"203.926823\"/>\r\n     <use style=\"fill:#1f77b4;stroke:#1f77b4;stroke-linejoin:miter;\" x=\"61.863193\" xlink:href=\"#m2f58ca2ec4\" y=\"203.926823\"/>\r\n     <use style=\"fill:#1f77b4;stroke:#1f77b4;stroke-linejoin:miter;\" x=\"62.881131\" xlink:href=\"#m2f58ca2ec4\" y=\"203.926823\"/>\r\n     <use style=\"fill:#1f77b4;stroke:#1f77b4;stroke-linejoin:miter;\" x=\"63.89907\" xlink:href=\"#m2f58ca2ec4\" y=\"203.926823\"/>\r\n     <use style=\"fill:#1f77b4;stroke:#1f77b4;stroke-linejoin:miter;\" x=\"64.917008\" xlink:href=\"#m2f58ca2ec4\" y=\"203.926823\"/>\r\n     <use style=\"fill:#1f77b4;stroke:#1f77b4;stroke-linejoin:miter;\" x=\"65.934947\" xlink:href=\"#m2f58ca2ec4\" y=\"203.926823\"/>\r\n     <use style=\"fill:#1f77b4;stroke:#1f77b4;stroke-linejoin:miter;\" x=\"66.952886\" xlink:href=\"#m2f58ca2ec4\" y=\"203.926823\"/>\r\n     <use style=\"fill:#1f77b4;stroke:#1f77b4;stroke-linejoin:miter;\" x=\"67.970824\" xlink:href=\"#m2f58ca2ec4\" y=\"203.926823\"/>\r\n     <use style=\"fill:#1f77b4;stroke:#1f77b4;stroke-linejoin:miter;\" x=\"68.988763\" xlink:href=\"#m2f58ca2ec4\" y=\"203.926823\"/>\r\n     <use style=\"fill:#1f77b4;stroke:#1f77b4;stroke-linejoin:miter;\" x=\"70.006701\" xlink:href=\"#m2f58ca2ec4\" y=\"203.926823\"/>\r\n     <use style=\"fill:#1f77b4;stroke:#1f77b4;stroke-linejoin:miter;\" x=\"71.02464\" xlink:href=\"#m2f58ca2ec4\" y=\"203.926823\"/>\r\n     <use style=\"fill:#1f77b4;stroke:#1f77b4;stroke-linejoin:miter;\" x=\"72.042578\" xlink:href=\"#m2f58ca2ec4\" y=\"203.926823\"/>\r\n     <use style=\"fill:#1f77b4;stroke:#1f77b4;stroke-linejoin:miter;\" x=\"73.060517\" xlink:href=\"#m2f58ca2ec4\" y=\"203.926823\"/>\r\n     <use style=\"fill:#1f77b4;stroke:#1f77b4;stroke-linejoin:miter;\" x=\"74.078456\" xlink:href=\"#m2f58ca2ec4\" y=\"203.926823\"/>\r\n     <use style=\"fill:#1f77b4;stroke:#1f77b4;stroke-linejoin:miter;\" x=\"75.096394\" xlink:href=\"#m2f58ca2ec4\" y=\"203.926823\"/>\r\n     <use style=\"fill:#1f77b4;stroke:#1f77b4;stroke-linejoin:miter;\" x=\"76.114333\" xlink:href=\"#m2f58ca2ec4\" y=\"203.926823\"/>\r\n     <use style=\"fill:#1f77b4;stroke:#1f77b4;stroke-linejoin:miter;\" x=\"77.132271\" xlink:href=\"#m2f58ca2ec4\" y=\"203.926823\"/>\r\n     <use style=\"fill:#1f77b4;stroke:#1f77b4;stroke-linejoin:miter;\" x=\"78.15021\" xlink:href=\"#m2f58ca2ec4\" y=\"203.926823\"/>\r\n     <use style=\"fill:#1f77b4;stroke:#1f77b4;stroke-linejoin:miter;\" x=\"79.168149\" xlink:href=\"#m2f58ca2ec4\" y=\"203.926823\"/>\r\n     <use style=\"fill:#1f77b4;stroke:#1f77b4;stroke-linejoin:miter;\" x=\"80.186087\" xlink:href=\"#m2f58ca2ec4\" y=\"203.926823\"/>\r\n     <use style=\"fill:#1f77b4;stroke:#1f77b4;stroke-linejoin:miter;\" x=\"81.204026\" xlink:href=\"#m2f58ca2ec4\" y=\"203.926823\"/>\r\n     <use style=\"fill:#1f77b4;stroke:#1f77b4;stroke-linejoin:miter;\" x=\"82.221964\" xlink:href=\"#m2f58ca2ec4\" y=\"203.926823\"/>\r\n     <use style=\"fill:#1f77b4;stroke:#1f77b4;stroke-linejoin:miter;\" x=\"83.239903\" xlink:href=\"#m2f58ca2ec4\" y=\"203.926823\"/>\r\n     <use style=\"fill:#1f77b4;stroke:#1f77b4;stroke-linejoin:miter;\" x=\"84.257841\" xlink:href=\"#m2f58ca2ec4\" y=\"203.926823\"/>\r\n     <use style=\"fill:#1f77b4;stroke:#1f77b4;stroke-linejoin:miter;\" x=\"85.27578\" xlink:href=\"#m2f58ca2ec4\" y=\"203.926823\"/>\r\n     <use style=\"fill:#1f77b4;stroke:#1f77b4;stroke-linejoin:miter;\" x=\"86.293719\" xlink:href=\"#m2f58ca2ec4\" y=\"203.926823\"/>\r\n     <use style=\"fill:#1f77b4;stroke:#1f77b4;stroke-linejoin:miter;\" x=\"87.311657\" xlink:href=\"#m2f58ca2ec4\" y=\"203.926823\"/>\r\n     <use style=\"fill:#1f77b4;stroke:#1f77b4;stroke-linejoin:miter;\" x=\"88.329596\" xlink:href=\"#m2f58ca2ec4\" y=\"203.926823\"/>\r\n     <use style=\"fill:#1f77b4;stroke:#1f77b4;stroke-linejoin:miter;\" x=\"89.347534\" xlink:href=\"#m2f58ca2ec4\" y=\"203.926823\"/>\r\n     <use style=\"fill:#1f77b4;stroke:#1f77b4;stroke-linejoin:miter;\" x=\"90.365473\" xlink:href=\"#m2f58ca2ec4\" y=\"203.926823\"/>\r\n     <use style=\"fill:#1f77b4;stroke:#1f77b4;stroke-linejoin:miter;\" x=\"91.383412\" xlink:href=\"#m2f58ca2ec4\" y=\"203.926823\"/>\r\n     <use style=\"fill:#1f77b4;stroke:#1f77b4;stroke-linejoin:miter;\" x=\"92.40135\" xlink:href=\"#m2f58ca2ec4\" y=\"203.926823\"/>\r\n     <use style=\"fill:#1f77b4;stroke:#1f77b4;stroke-linejoin:miter;\" x=\"93.419289\" xlink:href=\"#m2f58ca2ec4\" y=\"203.926823\"/>\r\n     <use style=\"fill:#1f77b4;stroke:#1f77b4;stroke-linejoin:miter;\" x=\"94.437227\" xlink:href=\"#m2f58ca2ec4\" y=\"203.926823\"/>\r\n     <use style=\"fill:#1f77b4;stroke:#1f77b4;stroke-linejoin:miter;\" x=\"95.455166\" xlink:href=\"#m2f58ca2ec4\" y=\"203.926823\"/>\r\n     <use style=\"fill:#1f77b4;stroke:#1f77b4;stroke-linejoin:miter;\" x=\"96.473104\" xlink:href=\"#m2f58ca2ec4\" y=\"203.926823\"/>\r\n     <use style=\"fill:#1f77b4;stroke:#1f77b4;stroke-linejoin:miter;\" x=\"97.491043\" xlink:href=\"#m2f58ca2ec4\" y=\"203.926823\"/>\r\n     <use style=\"fill:#1f77b4;stroke:#1f77b4;stroke-linejoin:miter;\" x=\"98.508982\" xlink:href=\"#m2f58ca2ec4\" y=\"203.926823\"/>\r\n     <use style=\"fill:#1f77b4;stroke:#1f77b4;stroke-linejoin:miter;\" x=\"99.52692\" xlink:href=\"#m2f58ca2ec4\" y=\"203.926823\"/>\r\n     <use style=\"fill:#1f77b4;stroke:#1f77b4;stroke-linejoin:miter;\" x=\"100.544859\" xlink:href=\"#m2f58ca2ec4\" y=\"203.926823\"/>\r\n     <use style=\"fill:#1f77b4;stroke:#1f77b4;stroke-linejoin:miter;\" x=\"101.562797\" xlink:href=\"#m2f58ca2ec4\" y=\"203.926823\"/>\r\n     <use style=\"fill:#1f77b4;stroke:#1f77b4;stroke-linejoin:miter;\" x=\"102.580736\" xlink:href=\"#m2f58ca2ec4\" y=\"203.926823\"/>\r\n     <use style=\"fill:#1f77b4;stroke:#1f77b4;stroke-linejoin:miter;\" x=\"103.598675\" xlink:href=\"#m2f58ca2ec4\" y=\"203.926823\"/>\r\n     <use style=\"fill:#1f77b4;stroke:#1f77b4;stroke-linejoin:miter;\" x=\"104.616613\" xlink:href=\"#m2f58ca2ec4\" y=\"203.926823\"/>\r\n     <use style=\"fill:#1f77b4;stroke:#1f77b4;stroke-linejoin:miter;\" x=\"105.634552\" xlink:href=\"#m2f58ca2ec4\" y=\"203.926823\"/>\r\n     <use style=\"fill:#1f77b4;stroke:#1f77b4;stroke-linejoin:miter;\" x=\"106.65249\" xlink:href=\"#m2f58ca2ec4\" y=\"203.926823\"/>\r\n     <use style=\"fill:#1f77b4;stroke:#1f77b4;stroke-linejoin:miter;\" x=\"107.670429\" xlink:href=\"#m2f58ca2ec4\" y=\"203.926823\"/>\r\n     <use style=\"fill:#1f77b4;stroke:#1f77b4;stroke-linejoin:miter;\" x=\"108.688367\" xlink:href=\"#m2f58ca2ec4\" y=\"203.926823\"/>\r\n     <use style=\"fill:#1f77b4;stroke:#1f77b4;stroke-linejoin:miter;\" x=\"109.706306\" xlink:href=\"#m2f58ca2ec4\" y=\"203.926823\"/>\r\n     <use style=\"fill:#1f77b4;stroke:#1f77b4;stroke-linejoin:miter;\" x=\"110.724245\" xlink:href=\"#m2f58ca2ec4\" y=\"203.926823\"/>\r\n     <use style=\"fill:#1f77b4;stroke:#1f77b4;stroke-linejoin:miter;\" x=\"111.742183\" xlink:href=\"#m2f58ca2ec4\" y=\"203.926823\"/>\r\n     <use style=\"fill:#1f77b4;stroke:#1f77b4;stroke-linejoin:miter;\" x=\"112.760122\" xlink:href=\"#m2f58ca2ec4\" y=\"203.926823\"/>\r\n     <use style=\"fill:#1f77b4;stroke:#1f77b4;stroke-linejoin:miter;\" x=\"113.77806\" xlink:href=\"#m2f58ca2ec4\" y=\"203.926823\"/>\r\n     <use style=\"fill:#1f77b4;stroke:#1f77b4;stroke-linejoin:miter;\" x=\"114.795999\" xlink:href=\"#m2f58ca2ec4\" y=\"203.926823\"/>\r\n     <use style=\"fill:#1f77b4;stroke:#1f77b4;stroke-linejoin:miter;\" x=\"115.813938\" xlink:href=\"#m2f58ca2ec4\" y=\"203.926823\"/>\r\n     <use style=\"fill:#1f77b4;stroke:#1f77b4;stroke-linejoin:miter;\" x=\"116.831876\" xlink:href=\"#m2f58ca2ec4\" y=\"203.926823\"/>\r\n     <use style=\"fill:#1f77b4;stroke:#1f77b4;stroke-linejoin:miter;\" x=\"117.849815\" xlink:href=\"#m2f58ca2ec4\" y=\"203.926823\"/>\r\n     <use style=\"fill:#1f77b4;stroke:#1f77b4;stroke-linejoin:miter;\" x=\"118.867753\" xlink:href=\"#m2f58ca2ec4\" y=\"203.926823\"/>\r\n     <use style=\"fill:#1f77b4;stroke:#1f77b4;stroke-linejoin:miter;\" x=\"119.885692\" xlink:href=\"#m2f58ca2ec4\" y=\"203.926823\"/>\r\n     <use style=\"fill:#1f77b4;stroke:#1f77b4;stroke-linejoin:miter;\" x=\"120.90363\" xlink:href=\"#m2f58ca2ec4\" y=\"203.926823\"/>\r\n     <use style=\"fill:#1f77b4;stroke:#1f77b4;stroke-linejoin:miter;\" x=\"121.921569\" xlink:href=\"#m2f58ca2ec4\" y=\"203.926823\"/>\r\n     <use style=\"fill:#1f77b4;stroke:#1f77b4;stroke-linejoin:miter;\" x=\"122.939508\" xlink:href=\"#m2f58ca2ec4\" y=\"203.926823\"/>\r\n     <use style=\"fill:#1f77b4;stroke:#1f77b4;stroke-linejoin:miter;\" x=\"123.957446\" xlink:href=\"#m2f58ca2ec4\" y=\"203.926823\"/>\r\n     <use style=\"fill:#1f77b4;stroke:#1f77b4;stroke-linejoin:miter;\" x=\"124.975385\" xlink:href=\"#m2f58ca2ec4\" y=\"203.926823\"/>\r\n     <use style=\"fill:#1f77b4;stroke:#1f77b4;stroke-linejoin:miter;\" x=\"125.993323\" xlink:href=\"#m2f58ca2ec4\" y=\"203.926823\"/>\r\n     <use style=\"fill:#1f77b4;stroke:#1f77b4;stroke-linejoin:miter;\" x=\"127.011262\" xlink:href=\"#m2f58ca2ec4\" y=\"203.926823\"/>\r\n     <use style=\"fill:#1f77b4;stroke:#1f77b4;stroke-linejoin:miter;\" x=\"128.029201\" xlink:href=\"#m2f58ca2ec4\" y=\"203.926823\"/>\r\n     <use style=\"fill:#1f77b4;stroke:#1f77b4;stroke-linejoin:miter;\" x=\"129.047139\" xlink:href=\"#m2f58ca2ec4\" y=\"203.926823\"/>\r\n     <use style=\"fill:#1f77b4;stroke:#1f77b4;stroke-linejoin:miter;\" x=\"130.065078\" xlink:href=\"#m2f58ca2ec4\" y=\"203.926823\"/>\r\n     <use style=\"fill:#1f77b4;stroke:#1f77b4;stroke-linejoin:miter;\" x=\"131.083016\" xlink:href=\"#m2f58ca2ec4\" y=\"203.926823\"/>\r\n     <use style=\"fill:#1f77b4;stroke:#1f77b4;stroke-linejoin:miter;\" x=\"132.100955\" xlink:href=\"#m2f58ca2ec4\" y=\"203.926823\"/>\r\n     <use style=\"fill:#1f77b4;stroke:#1f77b4;stroke-linejoin:miter;\" x=\"133.118893\" xlink:href=\"#m2f58ca2ec4\" y=\"203.926823\"/>\r\n     <use style=\"fill:#1f77b4;stroke:#1f77b4;stroke-linejoin:miter;\" x=\"134.136832\" xlink:href=\"#m2f58ca2ec4\" y=\"203.926823\"/>\r\n     <use style=\"fill:#1f77b4;stroke:#1f77b4;stroke-linejoin:miter;\" x=\"135.154771\" xlink:href=\"#m2f58ca2ec4\" y=\"203.926823\"/>\r\n     <use style=\"fill:#1f77b4;stroke:#1f77b4;stroke-linejoin:miter;\" x=\"136.172709\" xlink:href=\"#m2f58ca2ec4\" y=\"203.926823\"/>\r\n     <use style=\"fill:#1f77b4;stroke:#1f77b4;stroke-linejoin:miter;\" x=\"137.190648\" xlink:href=\"#m2f58ca2ec4\" y=\"203.926823\"/>\r\n     <use style=\"fill:#1f77b4;stroke:#1f77b4;stroke-linejoin:miter;\" x=\"138.208586\" xlink:href=\"#m2f58ca2ec4\" y=\"203.926823\"/>\r\n     <use style=\"fill:#1f77b4;stroke:#1f77b4;stroke-linejoin:miter;\" x=\"139.226525\" xlink:href=\"#m2f58ca2ec4\" y=\"203.926823\"/>\r\n     <use style=\"fill:#1f77b4;stroke:#1f77b4;stroke-linejoin:miter;\" x=\"140.244464\" xlink:href=\"#m2f58ca2ec4\" y=\"203.926823\"/>\r\n     <use style=\"fill:#1f77b4;stroke:#1f77b4;stroke-linejoin:miter;\" x=\"141.262402\" xlink:href=\"#m2f58ca2ec4\" y=\"203.926823\"/>\r\n     <use style=\"fill:#1f77b4;stroke:#1f77b4;stroke-linejoin:miter;\" x=\"142.280341\" xlink:href=\"#m2f58ca2ec4\" y=\"203.926823\"/>\r\n     <use style=\"fill:#1f77b4;stroke:#1f77b4;stroke-linejoin:miter;\" x=\"143.298279\" xlink:href=\"#m2f58ca2ec4\" y=\"203.926823\"/>\r\n     <use style=\"fill:#1f77b4;stroke:#1f77b4;stroke-linejoin:miter;\" x=\"144.316218\" xlink:href=\"#m2f58ca2ec4\" y=\"203.926823\"/>\r\n     <use style=\"fill:#1f77b4;stroke:#1f77b4;stroke-linejoin:miter;\" x=\"145.334156\" xlink:href=\"#m2f58ca2ec4\" y=\"203.926823\"/>\r\n     <use style=\"fill:#1f77b4;stroke:#1f77b4;stroke-linejoin:miter;\" x=\"146.352095\" xlink:href=\"#m2f58ca2ec4\" y=\"203.926823\"/>\r\n     <use style=\"fill:#1f77b4;stroke:#1f77b4;stroke-linejoin:miter;\" x=\"147.370034\" xlink:href=\"#m2f58ca2ec4\" y=\"203.926823\"/>\r\n     <use style=\"fill:#1f77b4;stroke:#1f77b4;stroke-linejoin:miter;\" x=\"148.387972\" xlink:href=\"#m2f58ca2ec4\" y=\"203.926823\"/>\r\n     <use style=\"fill:#1f77b4;stroke:#1f77b4;stroke-linejoin:miter;\" x=\"149.405911\" xlink:href=\"#m2f58ca2ec4\" y=\"203.926823\"/>\r\n     <use style=\"fill:#1f77b4;stroke:#1f77b4;stroke-linejoin:miter;\" x=\"150.423849\" xlink:href=\"#m2f58ca2ec4\" y=\"203.926823\"/>\r\n     <use style=\"fill:#1f77b4;stroke:#1f77b4;stroke-linejoin:miter;\" x=\"151.441788\" xlink:href=\"#m2f58ca2ec4\" y=\"203.926823\"/>\r\n     <use style=\"fill:#1f77b4;stroke:#1f77b4;stroke-linejoin:miter;\" x=\"152.459727\" xlink:href=\"#m2f58ca2ec4\" y=\"203.926823\"/>\r\n     <use style=\"fill:#1f77b4;stroke:#1f77b4;stroke-linejoin:miter;\" x=\"153.477665\" xlink:href=\"#m2f58ca2ec4\" y=\"203.926823\"/>\r\n     <use style=\"fill:#1f77b4;stroke:#1f77b4;stroke-linejoin:miter;\" x=\"154.495604\" xlink:href=\"#m2f58ca2ec4\" y=\"203.926823\"/>\r\n     <use style=\"fill:#1f77b4;stroke:#1f77b4;stroke-linejoin:miter;\" x=\"155.513542\" xlink:href=\"#m2f58ca2ec4\" y=\"203.926823\"/>\r\n     <use style=\"fill:#1f77b4;stroke:#1f77b4;stroke-linejoin:miter;\" x=\"156.531481\" xlink:href=\"#m2f58ca2ec4\" y=\"203.926823\"/>\r\n     <use style=\"fill:#1f77b4;stroke:#1f77b4;stroke-linejoin:miter;\" x=\"157.549419\" xlink:href=\"#m2f58ca2ec4\" y=\"203.926823\"/>\r\n     <use style=\"fill:#1f77b4;stroke:#1f77b4;stroke-linejoin:miter;\" x=\"158.567358\" xlink:href=\"#m2f58ca2ec4\" y=\"203.926823\"/>\r\n     <use style=\"fill:#1f77b4;stroke:#1f77b4;stroke-linejoin:miter;\" x=\"159.585297\" xlink:href=\"#m2f58ca2ec4\" y=\"203.926823\"/>\r\n     <use style=\"fill:#1f77b4;stroke:#1f77b4;stroke-linejoin:miter;\" x=\"160.603235\" xlink:href=\"#m2f58ca2ec4\" y=\"203.926823\"/>\r\n     <use style=\"fill:#1f77b4;stroke:#1f77b4;stroke-linejoin:miter;\" x=\"161.621174\" xlink:href=\"#m2f58ca2ec4\" y=\"203.926823\"/>\r\n     <use style=\"fill:#1f77b4;stroke:#1f77b4;stroke-linejoin:miter;\" x=\"162.639112\" xlink:href=\"#m2f58ca2ec4\" y=\"203.926823\"/>\r\n     <use style=\"fill:#1f77b4;stroke:#1f77b4;stroke-linejoin:miter;\" x=\"163.657051\" xlink:href=\"#m2f58ca2ec4\" y=\"203.926823\"/>\r\n     <use style=\"fill:#1f77b4;stroke:#1f77b4;stroke-linejoin:miter;\" x=\"164.67499\" xlink:href=\"#m2f58ca2ec4\" y=\"203.926823\"/>\r\n     <use style=\"fill:#1f77b4;stroke:#1f77b4;stroke-linejoin:miter;\" x=\"165.692928\" xlink:href=\"#m2f58ca2ec4\" y=\"203.926823\"/>\r\n     <use style=\"fill:#1f77b4;stroke:#1f77b4;stroke-linejoin:miter;\" x=\"166.710867\" xlink:href=\"#m2f58ca2ec4\" y=\"203.926823\"/>\r\n     <use style=\"fill:#1f77b4;stroke:#1f77b4;stroke-linejoin:miter;\" x=\"167.728805\" xlink:href=\"#m2f58ca2ec4\" y=\"203.926823\"/>\r\n     <use style=\"fill:#1f77b4;stroke:#1f77b4;stroke-linejoin:miter;\" x=\"168.746744\" xlink:href=\"#m2f58ca2ec4\" y=\"203.926823\"/>\r\n     <use style=\"fill:#1f77b4;stroke:#1f77b4;stroke-linejoin:miter;\" x=\"169.764682\" xlink:href=\"#m2f58ca2ec4\" y=\"203.926823\"/>\r\n     <use style=\"fill:#1f77b4;stroke:#1f77b4;stroke-linejoin:miter;\" x=\"170.782621\" xlink:href=\"#m2f58ca2ec4\" y=\"203.926823\"/>\r\n     <use style=\"fill:#1f77b4;stroke:#1f77b4;stroke-linejoin:miter;\" x=\"171.80056\" xlink:href=\"#m2f58ca2ec4\" y=\"203.926823\"/>\r\n     <use style=\"fill:#1f77b4;stroke:#1f77b4;stroke-linejoin:miter;\" x=\"172.818498\" xlink:href=\"#m2f58ca2ec4\" y=\"203.926823\"/>\r\n     <use style=\"fill:#1f77b4;stroke:#1f77b4;stroke-linejoin:miter;\" x=\"173.836437\" xlink:href=\"#m2f58ca2ec4\" y=\"203.926823\"/>\r\n     <use style=\"fill:#1f77b4;stroke:#1f77b4;stroke-linejoin:miter;\" x=\"174.854375\" xlink:href=\"#m2f58ca2ec4\" y=\"203.926823\"/>\r\n     <use style=\"fill:#1f77b4;stroke:#1f77b4;stroke-linejoin:miter;\" x=\"175.872314\" xlink:href=\"#m2f58ca2ec4\" y=\"203.926823\"/>\r\n     <use style=\"fill:#1f77b4;stroke:#1f77b4;stroke-linejoin:miter;\" x=\"176.890253\" xlink:href=\"#m2f58ca2ec4\" y=\"203.926823\"/>\r\n     <use style=\"fill:#1f77b4;stroke:#1f77b4;stroke-linejoin:miter;\" x=\"177.908191\" xlink:href=\"#m2f58ca2ec4\" y=\"203.926823\"/>\r\n     <use style=\"fill:#1f77b4;stroke:#1f77b4;stroke-linejoin:miter;\" x=\"178.92613\" xlink:href=\"#m2f58ca2ec4\" y=\"203.926823\"/>\r\n     <use style=\"fill:#1f77b4;stroke:#1f77b4;stroke-linejoin:miter;\" x=\"179.944068\" xlink:href=\"#m2f58ca2ec4\" y=\"203.926823\"/>\r\n     <use style=\"fill:#1f77b4;stroke:#1f77b4;stroke-linejoin:miter;\" x=\"180.962007\" xlink:href=\"#m2f58ca2ec4\" y=\"203.926823\"/>\r\n     <use style=\"fill:#1f77b4;stroke:#1f77b4;stroke-linejoin:miter;\" x=\"181.979945\" xlink:href=\"#m2f58ca2ec4\" y=\"203.926823\"/>\r\n     <use style=\"fill:#1f77b4;stroke:#1f77b4;stroke-linejoin:miter;\" x=\"182.997884\" xlink:href=\"#m2f58ca2ec4\" y=\"203.926823\"/>\r\n     <use style=\"fill:#1f77b4;stroke:#1f77b4;stroke-linejoin:miter;\" x=\"184.015823\" xlink:href=\"#m2f58ca2ec4\" y=\"203.926823\"/>\r\n     <use style=\"fill:#1f77b4;stroke:#1f77b4;stroke-linejoin:miter;\" x=\"185.033761\" xlink:href=\"#m2f58ca2ec4\" y=\"203.926823\"/>\r\n     <use style=\"fill:#1f77b4;stroke:#1f77b4;stroke-linejoin:miter;\" x=\"186.0517\" xlink:href=\"#m2f58ca2ec4\" y=\"203.926823\"/>\r\n     <use style=\"fill:#1f77b4;stroke:#1f77b4;stroke-linejoin:miter;\" x=\"187.069638\" xlink:href=\"#m2f58ca2ec4\" y=\"203.926823\"/>\r\n     <use style=\"fill:#1f77b4;stroke:#1f77b4;stroke-linejoin:miter;\" x=\"188.087577\" xlink:href=\"#m2f58ca2ec4\" y=\"203.926823\"/>\r\n     <use style=\"fill:#1f77b4;stroke:#1f77b4;stroke-linejoin:miter;\" x=\"189.105516\" xlink:href=\"#m2f58ca2ec4\" y=\"203.926823\"/>\r\n     <use style=\"fill:#1f77b4;stroke:#1f77b4;stroke-linejoin:miter;\" x=\"190.123454\" xlink:href=\"#m2f58ca2ec4\" y=\"203.926823\"/>\r\n     <use style=\"fill:#1f77b4;stroke:#1f77b4;stroke-linejoin:miter;\" x=\"191.141393\" xlink:href=\"#m2f58ca2ec4\" y=\"203.926823\"/>\r\n     <use style=\"fill:#1f77b4;stroke:#1f77b4;stroke-linejoin:miter;\" x=\"192.159331\" xlink:href=\"#m2f58ca2ec4\" y=\"203.926823\"/>\r\n     <use style=\"fill:#1f77b4;stroke:#1f77b4;stroke-linejoin:miter;\" x=\"193.17727\" xlink:href=\"#m2f58ca2ec4\" y=\"203.926823\"/>\r\n     <use style=\"fill:#1f77b4;stroke:#1f77b4;stroke-linejoin:miter;\" x=\"194.195208\" xlink:href=\"#m2f58ca2ec4\" y=\"203.926823\"/>\r\n     <use style=\"fill:#1f77b4;stroke:#1f77b4;stroke-linejoin:miter;\" x=\"195.213147\" xlink:href=\"#m2f58ca2ec4\" y=\"203.926823\"/>\r\n     <use style=\"fill:#1f77b4;stroke:#1f77b4;stroke-linejoin:miter;\" x=\"196.231086\" xlink:href=\"#m2f58ca2ec4\" y=\"203.926823\"/>\r\n     <use style=\"fill:#1f77b4;stroke:#1f77b4;stroke-linejoin:miter;\" x=\"197.249024\" xlink:href=\"#m2f58ca2ec4\" y=\"203.926823\"/>\r\n     <use style=\"fill:#1f77b4;stroke:#1f77b4;stroke-linejoin:miter;\" x=\"198.266963\" xlink:href=\"#m2f58ca2ec4\" y=\"203.926823\"/>\r\n     <use style=\"fill:#1f77b4;stroke:#1f77b4;stroke-linejoin:miter;\" x=\"199.284901\" xlink:href=\"#m2f58ca2ec4\" y=\"203.926823\"/>\r\n     <use style=\"fill:#1f77b4;stroke:#1f77b4;stroke-linejoin:miter;\" x=\"200.30284\" xlink:href=\"#m2f58ca2ec4\" y=\"203.926823\"/>\r\n     <use style=\"fill:#1f77b4;stroke:#1f77b4;stroke-linejoin:miter;\" x=\"201.320779\" xlink:href=\"#m2f58ca2ec4\" y=\"203.926823\"/>\r\n     <use style=\"fill:#1f77b4;stroke:#1f77b4;stroke-linejoin:miter;\" x=\"202.338717\" xlink:href=\"#m2f58ca2ec4\" y=\"203.926823\"/>\r\n     <use style=\"fill:#1f77b4;stroke:#1f77b4;stroke-linejoin:miter;\" x=\"203.356656\" xlink:href=\"#m2f58ca2ec4\" y=\"203.926823\"/>\r\n     <use style=\"fill:#1f77b4;stroke:#1f77b4;stroke-linejoin:miter;\" x=\"204.374594\" xlink:href=\"#m2f58ca2ec4\" y=\"203.926823\"/>\r\n     <use style=\"fill:#1f77b4;stroke:#1f77b4;stroke-linejoin:miter;\" x=\"205.392533\" xlink:href=\"#m2f58ca2ec4\" y=\"203.926823\"/>\r\n     <use style=\"fill:#1f77b4;stroke:#1f77b4;stroke-linejoin:miter;\" x=\"206.410471\" xlink:href=\"#m2f58ca2ec4\" y=\"203.926823\"/>\r\n     <use style=\"fill:#1f77b4;stroke:#1f77b4;stroke-linejoin:miter;\" x=\"207.42841\" xlink:href=\"#m2f58ca2ec4\" y=\"203.926823\"/>\r\n     <use style=\"fill:#1f77b4;stroke:#1f77b4;stroke-linejoin:miter;\" x=\"208.446349\" xlink:href=\"#m2f58ca2ec4\" y=\"203.926823\"/>\r\n     <use style=\"fill:#1f77b4;stroke:#1f77b4;stroke-linejoin:miter;\" x=\"209.464287\" xlink:href=\"#m2f58ca2ec4\" y=\"203.926823\"/>\r\n     <use style=\"fill:#1f77b4;stroke:#1f77b4;stroke-linejoin:miter;\" x=\"210.482226\" xlink:href=\"#m2f58ca2ec4\" y=\"203.926823\"/>\r\n     <use style=\"fill:#1f77b4;stroke:#1f77b4;stroke-linejoin:miter;\" x=\"211.500164\" xlink:href=\"#m2f58ca2ec4\" y=\"203.926823\"/>\r\n     <use style=\"fill:#1f77b4;stroke:#1f77b4;stroke-linejoin:miter;\" x=\"212.518103\" xlink:href=\"#m2f58ca2ec4\" y=\"203.926823\"/>\r\n     <use style=\"fill:#1f77b4;stroke:#1f77b4;stroke-linejoin:miter;\" x=\"213.536042\" xlink:href=\"#m2f58ca2ec4\" y=\"203.926823\"/>\r\n     <use style=\"fill:#1f77b4;stroke:#1f77b4;stroke-linejoin:miter;\" x=\"214.55398\" xlink:href=\"#m2f58ca2ec4\" y=\"203.926823\"/>\r\n     <use style=\"fill:#1f77b4;stroke:#1f77b4;stroke-linejoin:miter;\" x=\"215.571919\" xlink:href=\"#m2f58ca2ec4\" y=\"203.926823\"/>\r\n     <use style=\"fill:#1f77b4;stroke:#1f77b4;stroke-linejoin:miter;\" x=\"216.589857\" xlink:href=\"#m2f58ca2ec4\" y=\"203.926823\"/>\r\n     <use style=\"fill:#1f77b4;stroke:#1f77b4;stroke-linejoin:miter;\" x=\"217.607796\" xlink:href=\"#m2f58ca2ec4\" y=\"203.926823\"/>\r\n     <use style=\"fill:#1f77b4;stroke:#1f77b4;stroke-linejoin:miter;\" x=\"218.625734\" xlink:href=\"#m2f58ca2ec4\" y=\"203.926823\"/>\r\n     <use style=\"fill:#1f77b4;stroke:#1f77b4;stroke-linejoin:miter;\" x=\"219.643673\" xlink:href=\"#m2f58ca2ec4\" y=\"203.926823\"/>\r\n     <use style=\"fill:#1f77b4;stroke:#1f77b4;stroke-linejoin:miter;\" x=\"220.661612\" xlink:href=\"#m2f58ca2ec4\" y=\"203.926823\"/>\r\n     <use style=\"fill:#1f77b4;stroke:#1f77b4;stroke-linejoin:miter;\" x=\"221.67955\" xlink:href=\"#m2f58ca2ec4\" y=\"203.926823\"/>\r\n     <use style=\"fill:#1f77b4;stroke:#1f77b4;stroke-linejoin:miter;\" x=\"222.697489\" xlink:href=\"#m2f58ca2ec4\" y=\"203.926823\"/>\r\n     <use style=\"fill:#1f77b4;stroke:#1f77b4;stroke-linejoin:miter;\" x=\"223.715427\" xlink:href=\"#m2f58ca2ec4\" y=\"203.926823\"/>\r\n     <use style=\"fill:#1f77b4;stroke:#1f77b4;stroke-linejoin:miter;\" x=\"224.733366\" xlink:href=\"#m2f58ca2ec4\" y=\"203.926823\"/>\r\n     <use style=\"fill:#1f77b4;stroke:#1f77b4;stroke-linejoin:miter;\" x=\"225.751305\" xlink:href=\"#m2f58ca2ec4\" y=\"203.926823\"/>\r\n     <use style=\"fill:#1f77b4;stroke:#1f77b4;stroke-linejoin:miter;\" x=\"226.769243\" xlink:href=\"#m2f58ca2ec4\" y=\"203.926823\"/>\r\n     <use style=\"fill:#1f77b4;stroke:#1f77b4;stroke-linejoin:miter;\" x=\"227.787182\" xlink:href=\"#m2f58ca2ec4\" y=\"203.926823\"/>\r\n     <use style=\"fill:#1f77b4;stroke:#1f77b4;stroke-linejoin:miter;\" x=\"228.80512\" xlink:href=\"#m2f58ca2ec4\" y=\"203.926823\"/>\r\n     <use style=\"fill:#1f77b4;stroke:#1f77b4;stroke-linejoin:miter;\" x=\"229.823059\" xlink:href=\"#m2f58ca2ec4\" y=\"203.926823\"/>\r\n     <use style=\"fill:#1f77b4;stroke:#1f77b4;stroke-linejoin:miter;\" x=\"230.840997\" xlink:href=\"#m2f58ca2ec4\" y=\"203.926823\"/>\r\n     <use style=\"fill:#1f77b4;stroke:#1f77b4;stroke-linejoin:miter;\" x=\"231.858936\" xlink:href=\"#m2f58ca2ec4\" y=\"203.926823\"/>\r\n     <use style=\"fill:#1f77b4;stroke:#1f77b4;stroke-linejoin:miter;\" x=\"232.876875\" xlink:href=\"#m2f58ca2ec4\" y=\"203.926823\"/>\r\n     <use style=\"fill:#1f77b4;stroke:#1f77b4;stroke-linejoin:miter;\" x=\"233.894813\" xlink:href=\"#m2f58ca2ec4\" y=\"203.926823\"/>\r\n     <use style=\"fill:#1f77b4;stroke:#1f77b4;stroke-linejoin:miter;\" x=\"234.912752\" xlink:href=\"#m2f58ca2ec4\" y=\"203.926823\"/>\r\n     <use style=\"fill:#1f77b4;stroke:#1f77b4;stroke-linejoin:miter;\" x=\"235.93069\" xlink:href=\"#m2f58ca2ec4\" y=\"203.926823\"/>\r\n     <use style=\"fill:#1f77b4;stroke:#1f77b4;stroke-linejoin:miter;\" x=\"236.948629\" xlink:href=\"#m2f58ca2ec4\" y=\"203.926823\"/>\r\n     <use style=\"fill:#1f77b4;stroke:#1f77b4;stroke-linejoin:miter;\" x=\"237.966568\" xlink:href=\"#m2f58ca2ec4\" y=\"203.926823\"/>\r\n     <use style=\"fill:#1f77b4;stroke:#1f77b4;stroke-linejoin:miter;\" x=\"238.984506\" xlink:href=\"#m2f58ca2ec4\" y=\"203.926823\"/>\r\n     <use style=\"fill:#1f77b4;stroke:#1f77b4;stroke-linejoin:miter;\" x=\"240.002445\" xlink:href=\"#m2f58ca2ec4\" y=\"203.926823\"/>\r\n     <use style=\"fill:#1f77b4;stroke:#1f77b4;stroke-linejoin:miter;\" x=\"241.020383\" xlink:href=\"#m2f58ca2ec4\" y=\"203.926823\"/>\r\n     <use style=\"fill:#1f77b4;stroke:#1f77b4;stroke-linejoin:miter;\" x=\"242.038322\" xlink:href=\"#m2f58ca2ec4\" y=\"203.926823\"/>\r\n     <use style=\"fill:#1f77b4;stroke:#1f77b4;stroke-linejoin:miter;\" x=\"243.05626\" xlink:href=\"#m2f58ca2ec4\" y=\"203.926823\"/>\r\n     <use style=\"fill:#1f77b4;stroke:#1f77b4;stroke-linejoin:miter;\" x=\"244.074199\" xlink:href=\"#m2f58ca2ec4\" y=\"203.926823\"/>\r\n     <use style=\"fill:#1f77b4;stroke:#1f77b4;stroke-linejoin:miter;\" x=\"245.092138\" xlink:href=\"#m2f58ca2ec4\" y=\"203.926823\"/>\r\n     <use style=\"fill:#1f77b4;stroke:#1f77b4;stroke-linejoin:miter;\" x=\"246.110076\" xlink:href=\"#m2f58ca2ec4\" y=\"203.926823\"/>\r\n     <use style=\"fill:#1f77b4;stroke:#1f77b4;stroke-linejoin:miter;\" x=\"247.128015\" xlink:href=\"#m2f58ca2ec4\" y=\"203.926823\"/>\r\n     <use style=\"fill:#1f77b4;stroke:#1f77b4;stroke-linejoin:miter;\" x=\"248.145953\" xlink:href=\"#m2f58ca2ec4\" y=\"203.926823\"/>\r\n     <use style=\"fill:#1f77b4;stroke:#1f77b4;stroke-linejoin:miter;\" x=\"249.163892\" xlink:href=\"#m2f58ca2ec4\" y=\"203.926823\"/>\r\n     <use style=\"fill:#1f77b4;stroke:#1f77b4;stroke-linejoin:miter;\" x=\"250.181831\" xlink:href=\"#m2f58ca2ec4\" y=\"203.926823\"/>\r\n     <use style=\"fill:#1f77b4;stroke:#1f77b4;stroke-linejoin:miter;\" x=\"251.199769\" xlink:href=\"#m2f58ca2ec4\" y=\"203.926823\"/>\r\n     <use style=\"fill:#1f77b4;stroke:#1f77b4;stroke-linejoin:miter;\" x=\"252.217708\" xlink:href=\"#m2f58ca2ec4\" y=\"203.926823\"/>\r\n     <use style=\"fill:#1f77b4;stroke:#1f77b4;stroke-linejoin:miter;\" x=\"253.235646\" xlink:href=\"#m2f58ca2ec4\" y=\"203.926823\"/>\r\n     <use style=\"fill:#1f77b4;stroke:#1f77b4;stroke-linejoin:miter;\" x=\"254.253585\" xlink:href=\"#m2f58ca2ec4\" y=\"203.926823\"/>\r\n     <use style=\"fill:#1f77b4;stroke:#1f77b4;stroke-linejoin:miter;\" x=\"255.271523\" xlink:href=\"#m2f58ca2ec4\" y=\"203.926823\"/>\r\n     <use style=\"fill:#1f77b4;stroke:#1f77b4;stroke-linejoin:miter;\" x=\"256.289462\" xlink:href=\"#m2f58ca2ec4\" y=\"203.926823\"/>\r\n     <use style=\"fill:#1f77b4;stroke:#1f77b4;stroke-linejoin:miter;\" x=\"257.307401\" xlink:href=\"#m2f58ca2ec4\" y=\"203.926823\"/>\r\n     <use style=\"fill:#1f77b4;stroke:#1f77b4;stroke-linejoin:miter;\" x=\"258.325339\" xlink:href=\"#m2f58ca2ec4\" y=\"203.926823\"/>\r\n     <use style=\"fill:#1f77b4;stroke:#1f77b4;stroke-linejoin:miter;\" x=\"259.343278\" xlink:href=\"#m2f58ca2ec4\" y=\"203.926823\"/>\r\n     <use style=\"fill:#1f77b4;stroke:#1f77b4;stroke-linejoin:miter;\" x=\"260.361216\" xlink:href=\"#m2f58ca2ec4\" y=\"203.926823\"/>\r\n     <use style=\"fill:#1f77b4;stroke:#1f77b4;stroke-linejoin:miter;\" x=\"261.379155\" xlink:href=\"#m2f58ca2ec4\" y=\"203.926823\"/>\r\n     <use style=\"fill:#1f77b4;stroke:#1f77b4;stroke-linejoin:miter;\" x=\"262.397094\" xlink:href=\"#m2f58ca2ec4\" y=\"203.926823\"/>\r\n     <use style=\"fill:#1f77b4;stroke:#1f77b4;stroke-linejoin:miter;\" x=\"263.415032\" xlink:href=\"#m2f58ca2ec4\" y=\"203.926823\"/>\r\n     <use style=\"fill:#1f77b4;stroke:#1f77b4;stroke-linejoin:miter;\" x=\"264.432971\" xlink:href=\"#m2f58ca2ec4\" y=\"203.926823\"/>\r\n     <use style=\"fill:#1f77b4;stroke:#1f77b4;stroke-linejoin:miter;\" x=\"265.450909\" xlink:href=\"#m2f58ca2ec4\" y=\"203.926823\"/>\r\n     <use style=\"fill:#1f77b4;stroke:#1f77b4;stroke-linejoin:miter;\" x=\"266.468848\" xlink:href=\"#m2f58ca2ec4\" y=\"203.926823\"/>\r\n     <use style=\"fill:#1f77b4;stroke:#1f77b4;stroke-linejoin:miter;\" x=\"267.486786\" xlink:href=\"#m2f58ca2ec4\" y=\"203.926823\"/>\r\n     <use style=\"fill:#1f77b4;stroke:#1f77b4;stroke-linejoin:miter;\" x=\"268.504725\" xlink:href=\"#m2f58ca2ec4\" y=\"203.926823\"/>\r\n     <use style=\"fill:#1f77b4;stroke:#1f77b4;stroke-linejoin:miter;\" x=\"269.522664\" xlink:href=\"#m2f58ca2ec4\" y=\"203.926823\"/>\r\n     <use style=\"fill:#1f77b4;stroke:#1f77b4;stroke-linejoin:miter;\" x=\"270.540602\" xlink:href=\"#m2f58ca2ec4\" y=\"203.926823\"/>\r\n     <use style=\"fill:#1f77b4;stroke:#1f77b4;stroke-linejoin:miter;\" x=\"271.558541\" xlink:href=\"#m2f58ca2ec4\" y=\"203.926823\"/>\r\n     <use style=\"fill:#1f77b4;stroke:#1f77b4;stroke-linejoin:miter;\" x=\"272.576479\" xlink:href=\"#m2f58ca2ec4\" y=\"203.926823\"/>\r\n     <use style=\"fill:#1f77b4;stroke:#1f77b4;stroke-linejoin:miter;\" x=\"273.594418\" xlink:href=\"#m2f58ca2ec4\" y=\"203.926823\"/>\r\n     <use style=\"fill:#1f77b4;stroke:#1f77b4;stroke-linejoin:miter;\" x=\"274.612357\" xlink:href=\"#m2f58ca2ec4\" y=\"203.926823\"/>\r\n     <use style=\"fill:#1f77b4;stroke:#1f77b4;stroke-linejoin:miter;\" x=\"275.630295\" xlink:href=\"#m2f58ca2ec4\" y=\"203.926823\"/>\r\n     <use style=\"fill:#1f77b4;stroke:#1f77b4;stroke-linejoin:miter;\" x=\"276.648234\" xlink:href=\"#m2f58ca2ec4\" y=\"203.926823\"/>\r\n     <use style=\"fill:#1f77b4;stroke:#1f77b4;stroke-linejoin:miter;\" x=\"277.666172\" xlink:href=\"#m2f58ca2ec4\" y=\"203.926823\"/>\r\n     <use style=\"fill:#1f77b4;stroke:#1f77b4;stroke-linejoin:miter;\" x=\"278.684111\" xlink:href=\"#m2f58ca2ec4\" y=\"203.926823\"/>\r\n     <use style=\"fill:#1f77b4;stroke:#1f77b4;stroke-linejoin:miter;\" x=\"279.702049\" xlink:href=\"#m2f58ca2ec4\" y=\"203.926823\"/>\r\n     <use style=\"fill:#1f77b4;stroke:#1f77b4;stroke-linejoin:miter;\" x=\"280.719988\" xlink:href=\"#m2f58ca2ec4\" y=\"203.926823\"/>\r\n     <use style=\"fill:#1f77b4;stroke:#1f77b4;stroke-linejoin:miter;\" x=\"281.737927\" xlink:href=\"#m2f58ca2ec4\" y=\"203.926823\"/>\r\n     <use style=\"fill:#1f77b4;stroke:#1f77b4;stroke-linejoin:miter;\" x=\"282.755865\" xlink:href=\"#m2f58ca2ec4\" y=\"203.926823\"/>\r\n     <use style=\"fill:#1f77b4;stroke:#1f77b4;stroke-linejoin:miter;\" x=\"283.773804\" xlink:href=\"#m2f58ca2ec4\" y=\"203.926823\"/>\r\n     <use style=\"fill:#1f77b4;stroke:#1f77b4;stroke-linejoin:miter;\" x=\"284.791742\" xlink:href=\"#m2f58ca2ec4\" y=\"203.926823\"/>\r\n     <use style=\"fill:#1f77b4;stroke:#1f77b4;stroke-linejoin:miter;\" x=\"285.809681\" xlink:href=\"#m2f58ca2ec4\" y=\"203.926823\"/>\r\n     <use style=\"fill:#1f77b4;stroke:#1f77b4;stroke-linejoin:miter;\" x=\"286.82762\" xlink:href=\"#m2f58ca2ec4\" y=\"203.926823\"/>\r\n     <use style=\"fill:#1f77b4;stroke:#1f77b4;stroke-linejoin:miter;\" x=\"287.845558\" xlink:href=\"#m2f58ca2ec4\" y=\"203.926823\"/>\r\n     <use style=\"fill:#1f77b4;stroke:#1f77b4;stroke-linejoin:miter;\" x=\"288.863497\" xlink:href=\"#m2f58ca2ec4\" y=\"203.926823\"/>\r\n     <use style=\"fill:#1f77b4;stroke:#1f77b4;stroke-linejoin:miter;\" x=\"289.881435\" xlink:href=\"#m2f58ca2ec4\" y=\"203.926823\"/>\r\n     <use style=\"fill:#1f77b4;stroke:#1f77b4;stroke-linejoin:miter;\" x=\"290.899374\" xlink:href=\"#m2f58ca2ec4\" y=\"203.926823\"/>\r\n     <use style=\"fill:#1f77b4;stroke:#1f77b4;stroke-linejoin:miter;\" x=\"291.917312\" xlink:href=\"#m2f58ca2ec4\" y=\"203.926823\"/>\r\n     <use style=\"fill:#1f77b4;stroke:#1f77b4;stroke-linejoin:miter;\" x=\"292.935251\" xlink:href=\"#m2f58ca2ec4\" y=\"203.926823\"/>\r\n     <use style=\"fill:#1f77b4;stroke:#1f77b4;stroke-linejoin:miter;\" x=\"293.95319\" xlink:href=\"#m2f58ca2ec4\" y=\"203.926823\"/>\r\n     <use style=\"fill:#1f77b4;stroke:#1f77b4;stroke-linejoin:miter;\" x=\"294.971128\" xlink:href=\"#m2f58ca2ec4\" y=\"203.926823\"/>\r\n     <use style=\"fill:#1f77b4;stroke:#1f77b4;stroke-linejoin:miter;\" x=\"295.989067\" xlink:href=\"#m2f58ca2ec4\" y=\"203.926823\"/>\r\n     <use style=\"fill:#1f77b4;stroke:#1f77b4;stroke-linejoin:miter;\" x=\"297.007005\" xlink:href=\"#m2f58ca2ec4\" y=\"203.926823\"/>\r\n     <use style=\"fill:#1f77b4;stroke:#1f77b4;stroke-linejoin:miter;\" x=\"298.024944\" xlink:href=\"#m2f58ca2ec4\" y=\"203.926823\"/>\r\n     <use style=\"fill:#1f77b4;stroke:#1f77b4;stroke-linejoin:miter;\" x=\"299.042883\" xlink:href=\"#m2f58ca2ec4\" y=\"203.926823\"/>\r\n     <use style=\"fill:#1f77b4;stroke:#1f77b4;stroke-linejoin:miter;\" x=\"300.060821\" xlink:href=\"#m2f58ca2ec4\" y=\"203.926823\"/>\r\n     <use style=\"fill:#1f77b4;stroke:#1f77b4;stroke-linejoin:miter;\" x=\"301.07876\" xlink:href=\"#m2f58ca2ec4\" y=\"203.926823\"/>\r\n     <use style=\"fill:#1f77b4;stroke:#1f77b4;stroke-linejoin:miter;\" x=\"302.096698\" xlink:href=\"#m2f58ca2ec4\" y=\"203.926823\"/>\r\n     <use style=\"fill:#1f77b4;stroke:#1f77b4;stroke-linejoin:miter;\" x=\"303.114637\" xlink:href=\"#m2f58ca2ec4\" y=\"203.926823\"/>\r\n     <use style=\"fill:#1f77b4;stroke:#1f77b4;stroke-linejoin:miter;\" x=\"304.132575\" xlink:href=\"#m2f58ca2ec4\" y=\"203.926823\"/>\r\n     <use style=\"fill:#1f77b4;stroke:#1f77b4;stroke-linejoin:miter;\" x=\"305.150514\" xlink:href=\"#m2f58ca2ec4\" y=\"203.926823\"/>\r\n     <use style=\"fill:#1f77b4;stroke:#1f77b4;stroke-linejoin:miter;\" x=\"306.168453\" xlink:href=\"#m2f58ca2ec4\" y=\"203.926823\"/>\r\n     <use style=\"fill:#1f77b4;stroke:#1f77b4;stroke-linejoin:miter;\" x=\"307.186391\" xlink:href=\"#m2f58ca2ec4\" y=\"203.926823\"/>\r\n     <use style=\"fill:#1f77b4;stroke:#1f77b4;stroke-linejoin:miter;\" x=\"308.20433\" xlink:href=\"#m2f58ca2ec4\" y=\"203.926823\"/>\r\n     <use style=\"fill:#1f77b4;stroke:#1f77b4;stroke-linejoin:miter;\" x=\"309.222268\" xlink:href=\"#m2f58ca2ec4\" y=\"203.926823\"/>\r\n     <use style=\"fill:#1f77b4;stroke:#1f77b4;stroke-linejoin:miter;\" x=\"310.240207\" xlink:href=\"#m2f58ca2ec4\" y=\"203.926823\"/>\r\n     <use style=\"fill:#1f77b4;stroke:#1f77b4;stroke-linejoin:miter;\" x=\"311.258146\" xlink:href=\"#m2f58ca2ec4\" y=\"203.926823\"/>\r\n     <use style=\"fill:#1f77b4;stroke:#1f77b4;stroke-linejoin:miter;\" x=\"312.276084\" xlink:href=\"#m2f58ca2ec4\" y=\"203.926823\"/>\r\n     <use style=\"fill:#1f77b4;stroke:#1f77b4;stroke-linejoin:miter;\" x=\"313.294023\" xlink:href=\"#m2f58ca2ec4\" y=\"203.926823\"/>\r\n     <use style=\"fill:#1f77b4;stroke:#1f77b4;stroke-linejoin:miter;\" x=\"314.311961\" xlink:href=\"#m2f58ca2ec4\" y=\"203.926823\"/>\r\n     <use style=\"fill:#1f77b4;stroke:#1f77b4;stroke-linejoin:miter;\" x=\"315.3299\" xlink:href=\"#m2f58ca2ec4\" y=\"203.926823\"/>\r\n     <use style=\"fill:#1f77b4;stroke:#1f77b4;stroke-linejoin:miter;\" x=\"316.347838\" xlink:href=\"#m2f58ca2ec4\" y=\"203.926823\"/>\r\n     <use style=\"fill:#1f77b4;stroke:#1f77b4;stroke-linejoin:miter;\" x=\"317.365777\" xlink:href=\"#m2f58ca2ec4\" y=\"203.926823\"/>\r\n     <use style=\"fill:#1f77b4;stroke:#1f77b4;stroke-linejoin:miter;\" x=\"318.383716\" xlink:href=\"#m2f58ca2ec4\" y=\"203.926823\"/>\r\n     <use style=\"fill:#1f77b4;stroke:#1f77b4;stroke-linejoin:miter;\" x=\"319.401654\" xlink:href=\"#m2f58ca2ec4\" y=\"203.926823\"/>\r\n     <use style=\"fill:#1f77b4;stroke:#1f77b4;stroke-linejoin:miter;\" x=\"320.419593\" xlink:href=\"#m2f58ca2ec4\" y=\"203.926823\"/>\r\n     <use style=\"fill:#1f77b4;stroke:#1f77b4;stroke-linejoin:miter;\" x=\"321.437531\" xlink:href=\"#m2f58ca2ec4\" y=\"203.926823\"/>\r\n     <use style=\"fill:#1f77b4;stroke:#1f77b4;stroke-linejoin:miter;\" x=\"322.45547\" xlink:href=\"#m2f58ca2ec4\" y=\"203.926823\"/>\r\n     <use style=\"fill:#1f77b4;stroke:#1f77b4;stroke-linejoin:miter;\" x=\"323.473409\" xlink:href=\"#m2f58ca2ec4\" y=\"203.926823\"/>\r\n     <use style=\"fill:#1f77b4;stroke:#1f77b4;stroke-linejoin:miter;\" x=\"324.491347\" xlink:href=\"#m2f58ca2ec4\" y=\"203.926823\"/>\r\n     <use style=\"fill:#1f77b4;stroke:#1f77b4;stroke-linejoin:miter;\" x=\"325.509286\" xlink:href=\"#m2f58ca2ec4\" y=\"203.926823\"/>\r\n     <use style=\"fill:#1f77b4;stroke:#1f77b4;stroke-linejoin:miter;\" x=\"326.527224\" xlink:href=\"#m2f58ca2ec4\" y=\"203.926823\"/>\r\n     <use style=\"fill:#1f77b4;stroke:#1f77b4;stroke-linejoin:miter;\" x=\"327.545163\" xlink:href=\"#m2f58ca2ec4\" y=\"203.926823\"/>\r\n     <use style=\"fill:#1f77b4;stroke:#1f77b4;stroke-linejoin:miter;\" x=\"328.563101\" xlink:href=\"#m2f58ca2ec4\" y=\"203.926823\"/>\r\n     <use style=\"fill:#1f77b4;stroke:#1f77b4;stroke-linejoin:miter;\" x=\"329.58104\" xlink:href=\"#m2f58ca2ec4\" y=\"203.926823\"/>\r\n     <use style=\"fill:#1f77b4;stroke:#1f77b4;stroke-linejoin:miter;\" x=\"330.598979\" xlink:href=\"#m2f58ca2ec4\" y=\"203.926823\"/>\r\n     <use style=\"fill:#1f77b4;stroke:#1f77b4;stroke-linejoin:miter;\" x=\"331.616917\" xlink:href=\"#m2f58ca2ec4\" y=\"203.926823\"/>\r\n     <use style=\"fill:#1f77b4;stroke:#1f77b4;stroke-linejoin:miter;\" x=\"332.634856\" xlink:href=\"#m2f58ca2ec4\" y=\"203.926823\"/>\r\n     <use style=\"fill:#1f77b4;stroke:#1f77b4;stroke-linejoin:miter;\" x=\"333.652794\" xlink:href=\"#m2f58ca2ec4\" y=\"203.926823\"/>\r\n     <use style=\"fill:#1f77b4;stroke:#1f77b4;stroke-linejoin:miter;\" x=\"334.670733\" xlink:href=\"#m2f58ca2ec4\" y=\"203.926823\"/>\r\n     <use style=\"fill:#1f77b4;stroke:#1f77b4;stroke-linejoin:miter;\" x=\"335.688672\" xlink:href=\"#m2f58ca2ec4\" y=\"203.926823\"/>\r\n     <use style=\"fill:#1f77b4;stroke:#1f77b4;stroke-linejoin:miter;\" x=\"336.70661\" xlink:href=\"#m2f58ca2ec4\" y=\"203.926823\"/>\r\n     <use style=\"fill:#1f77b4;stroke:#1f77b4;stroke-linejoin:miter;\" x=\"337.724549\" xlink:href=\"#m2f58ca2ec4\" y=\"203.926823\"/>\r\n     <use style=\"fill:#1f77b4;stroke:#1f77b4;stroke-linejoin:miter;\" x=\"338.742487\" xlink:href=\"#m2f58ca2ec4\" y=\"203.926823\"/>\r\n     <use style=\"fill:#1f77b4;stroke:#1f77b4;stroke-linejoin:miter;\" x=\"339.760426\" xlink:href=\"#m2f58ca2ec4\" y=\"203.926823\"/>\r\n     <use style=\"fill:#1f77b4;stroke:#1f77b4;stroke-linejoin:miter;\" x=\"340.778364\" xlink:href=\"#m2f58ca2ec4\" y=\"203.926823\"/>\r\n     <use style=\"fill:#1f77b4;stroke:#1f77b4;stroke-linejoin:miter;\" x=\"341.796303\" xlink:href=\"#m2f58ca2ec4\" y=\"203.926823\"/>\r\n     <use style=\"fill:#1f77b4;stroke:#1f77b4;stroke-linejoin:miter;\" x=\"342.814242\" xlink:href=\"#m2f58ca2ec4\" y=\"203.926823\"/>\r\n     <use style=\"fill:#1f77b4;stroke:#1f77b4;stroke-linejoin:miter;\" x=\"343.83218\" xlink:href=\"#m2f58ca2ec4\" y=\"203.926823\"/>\r\n     <use style=\"fill:#1f77b4;stroke:#1f77b4;stroke-linejoin:miter;\" x=\"344.850119\" xlink:href=\"#m2f58ca2ec4\" y=\"203.926823\"/>\r\n     <use style=\"fill:#1f77b4;stroke:#1f77b4;stroke-linejoin:miter;\" x=\"345.868057\" xlink:href=\"#m2f58ca2ec4\" y=\"203.926823\"/>\r\n     <use style=\"fill:#1f77b4;stroke:#1f77b4;stroke-linejoin:miter;\" x=\"346.885996\" xlink:href=\"#m2f58ca2ec4\" y=\"203.926823\"/>\r\n     <use style=\"fill:#1f77b4;stroke:#1f77b4;stroke-linejoin:miter;\" x=\"347.903935\" xlink:href=\"#m2f58ca2ec4\" y=\"203.926823\"/>\r\n     <use style=\"fill:#1f77b4;stroke:#1f77b4;stroke-linejoin:miter;\" x=\"348.921873\" xlink:href=\"#m2f58ca2ec4\" y=\"203.926823\"/>\r\n     <use style=\"fill:#1f77b4;stroke:#1f77b4;stroke-linejoin:miter;\" x=\"349.939812\" xlink:href=\"#m2f58ca2ec4\" y=\"203.926823\"/>\r\n     <use style=\"fill:#1f77b4;stroke:#1f77b4;stroke-linejoin:miter;\" x=\"350.95775\" xlink:href=\"#m2f58ca2ec4\" y=\"203.926823\"/>\r\n     <use style=\"fill:#1f77b4;stroke:#1f77b4;stroke-linejoin:miter;\" x=\"351.975689\" xlink:href=\"#m2f58ca2ec4\" y=\"203.926823\"/>\r\n     <use style=\"fill:#1f77b4;stroke:#1f77b4;stroke-linejoin:miter;\" x=\"352.993627\" xlink:href=\"#m2f58ca2ec4\" y=\"203.926823\"/>\r\n     <use style=\"fill:#1f77b4;stroke:#1f77b4;stroke-linejoin:miter;\" x=\"354.011566\" xlink:href=\"#m2f58ca2ec4\" y=\"203.926823\"/>\r\n     <use style=\"fill:#1f77b4;stroke:#1f77b4;stroke-linejoin:miter;\" x=\"355.029505\" xlink:href=\"#m2f58ca2ec4\" y=\"203.926823\"/>\r\n     <use style=\"fill:#1f77b4;stroke:#1f77b4;stroke-linejoin:miter;\" x=\"356.047443\" xlink:href=\"#m2f58ca2ec4\" y=\"203.926823\"/>\r\n    </g>\r\n   </g>\r\n   <g id=\"patch_3\">\r\n    <path d=\"M 36.465625 224.852102 \r\nL 36.465625 7.412102 \r\n\" style=\"fill:none;stroke:#000000;stroke-linecap:square;stroke-linejoin:miter;stroke-width:0.8;\"/>\r\n   </g>\r\n   <g id=\"patch_4\">\r\n    <path d=\"M 371.265625 224.852102 \r\nL 371.265625 7.412102 \r\n\" style=\"fill:none;stroke:#000000;stroke-linecap:square;stroke-linejoin:miter;stroke-width:0.8;\"/>\r\n   </g>\r\n   <g id=\"patch_5\">\r\n    <path d=\"M 36.465625 224.852102 \r\nL 371.265625 224.852102 \r\n\" style=\"fill:none;stroke:#000000;stroke-linecap:square;stroke-linejoin:miter;stroke-width:0.8;\"/>\r\n   </g>\r\n   <g id=\"patch_6\">\r\n    <path d=\"M 36.465625 7.412102 \r\nL 371.265625 7.412102 \r\n\" style=\"fill:none;stroke:#000000;stroke-linecap:square;stroke-linejoin:miter;stroke-width:0.8;\"/>\r\n   </g>\r\n  </g>\r\n </g>\r\n <defs>\r\n  <clipPath id=\"p31f2fea2ba\">\r\n   <rect height=\"217.44\" width=\"334.8\" x=\"36.465625\" y=\"7.412102\"/>\r\n  </clipPath>\r\n </defs>\r\n</svg>\r\n",
      "image/png": "[encoded data removed]"
     },
     "metadata": {
      "needs_background": "light"
     }
    }
   ],
   "source": [
    "from matplotlib import pyplot as plt\n",
    "\n",
    "plt.plot(\n",
    "    range(len(hist.history['loss'])), hist.history['loss'], 'r',\n",
    "    range(len(hist.history['accuracy'])), hist.history['accuracy'], 'g',\n",
    "    range(len(hist.history['val_loss'])), hist.history['val_loss'], 'b',\n",
    "    range(len(hist.history['val_accuracy'])), hist.history['val_accuracy'], 'p'\n",
    "    )\n",
    "plt.show()\n",
    "\n",
    "#plt.semilogx(hist.history['lr'], hist.history['loss'])\n",
    "#plt.show()"
   ]
  },
  {
   "cell_type": "code",
   "execution_count": 33,
   "metadata": {},
   "outputs": [
    {
     "output_type": "stream",
     "name": "stdout",
     "text": [
      "Model: \"sequential\"\n_________________________________________________________________\nLayer (type)                 Output Shape              Param #   \n=================================================================\ndense (Dense)                (None, 64)                448       \n_________________________________________________________________\ndense_1 (Dense)              (None, 1)                 65        \n=================================================================\nTotal params: 513\nTrainable params: 513\nNon-trainable params: 0\n_________________________________________________________________\n"
     ]
    }
   ],
   "source": [
    "predict_fert.summary()"
   ]
  },
  {
   "cell_type": "code",
   "execution_count": 34,
   "metadata": {},
   "outputs": [
    {
     "output_type": "execute_result",
     "data": {
      "text/plain": [
       "array([[0.16489643]], dtype=float32)"
      ]
     },
     "metadata": {},
     "execution_count": 34
    }
   ],
   "source": [
    "predict_fert.predict(np.expand_dims(\n",
    "    FERTILISER_TRAIN_FEATURES.loc[2].values,\n",
    "    0\n",
    "    ))"
   ]
  },
  {
   "cell_type": "code",
   "execution_count": 35,
   "metadata": {},
   "outputs": [
    {
     "output_type": "execute_result",
     "data": {
      "text/plain": [
       "array([[0.00857047]], dtype=float32)"
      ]
     },
     "metadata": {},
     "execution_count": 35
    }
   ],
   "source": [
    "predict_fert.predict(np.expand_dims(\n",
    "    FERTILISER_TRAIN_FEATURES.loc[0].values,\n",
    "    0\n",
    "    ))"
   ]
  },
  {
   "cell_type": "code",
   "execution_count": 36,
   "metadata": {},
   "outputs": [
    {
     "output_type": "execute_result",
     "data": {
      "text/plain": [
       "array([[0.3133835]], dtype=float32)"
      ]
     },
     "metadata": {},
     "execution_count": 36
    }
   ],
   "source": [
    "predict_fert.predict(np.expand_dims(FERTILISER_TRAIN_FEATURES.loc[959].values, 0))"
   ]
  },
  {
   "cell_type": "code",
   "execution_count": 37,
   "metadata": {},
   "outputs": [
    {
     "output_type": "execute_result",
     "data": {
      "text/plain": [
       "       output  temperature  humidity        ph  rainfall  label  target_output\n",
       "0    0.073171     0.508356  0.957361  0.983883  0.856690      3              2\n",
       "1    0.960976     0.556006  0.956848  0.758907  0.904305      0              2\n",
       "2    0.156098     0.246574  0.986911  0.974504  0.809166      3              0\n",
       "3    0.419512     0.512894  0.627792  0.850491  0.878012      2              0\n",
       "4    0.053659     0.274949  0.991038  0.988495  0.870631      3              2\n",
       "..        ...          ...       ...       ...       ...    ...            ...\n",
       "956  0.365854     0.461869  0.656395  0.712026  0.487616      2              0\n",
       "957  0.146341     0.508996  0.976005  0.696655  0.849134      0              0\n",
       "958  0.995122     0.597883  0.876363  0.790685  0.584082      1              2\n",
       "959  0.302439     0.516710  0.636576  0.838556  0.765711      2              0\n",
       "960  0.058537     0.393681  0.997554  0.809409  0.880358      3              2\n",
       "\n",
       "[961 rows x 7 columns]"
      ],
      "text/html": "<div>\n<style scoped>\n    .dataframe tbody tr th:only-of-type {\n        vertical-align: middle;\n    }\n\n    .dataframe tbody tr th {\n        vertical-align: top;\n    }\n\n    .dataframe thead th {\n        text-align: right;\n    }\n</style>\n<table border=\"1\" class=\"dataframe\">\n  <thead>\n    <tr style=\"text-align: right;\">\n      <th></th>\n      <th>output</th>\n      <th>temperature</th>\n      <th>humidity</th>\n      <th>ph</th>\n      <th>rainfall</th>\n      <th>label</th>\n      <th>target_output</th>\n    </tr>\n  </thead>\n  <tbody>\n    <tr>\n      <th>0</th>\n      <td>0.073171</td>\n      <td>0.508356</td>\n      <td>0.957361</td>\n      <td>0.983883</td>\n      <td>0.856690</td>\n      <td>3</td>\n      <td>2</td>\n    </tr>\n    <tr>\n      <th>1</th>\n      <td>0.960976</td>\n      <td>0.556006</td>\n      <td>0.956848</td>\n      <td>0.758907</td>\n      <td>0.904305</td>\n      <td>0</td>\n      <td>2</td>\n    </tr>\n    <tr>\n      <th>2</th>\n      <td>0.156098</td>\n      <td>0.246574</td>\n      <td>0.986911</td>\n      <td>0.974504</td>\n      <td>0.809166</td>\n      <td>3</td>\n      <td>0</td>\n    </tr>\n    <tr>\n      <th>3</th>\n      <td>0.419512</td>\n      <td>0.512894</td>\n      <td>0.627792</td>\n      <td>0.850491</td>\n      <td>0.878012</td>\n      <td>2</td>\n      <td>0</td>\n    </tr>\n    <tr>\n      <th>4</th>\n      <td>0.053659</td>\n      <td>0.274949</td>\n      <td>0.991038</td>\n      <td>0.988495</td>\n      <td>0.870631</td>\n      <td>3</td>\n      <td>2</td>\n    </tr>\n    <tr>\n      <th>...</th>\n      <td>...</td>\n      <td>...</td>\n      <td>...</td>\n      <td>...</td>\n      <td>...</td>\n      <td>...</td>\n      <td>...</td>\n    </tr>\n    <tr>\n      <th>956</th>\n      <td>0.365854</td>\n      <td>0.461869</td>\n      <td>0.656395</td>\n      <td>0.712026</td>\n      <td>0.487616</td>\n      <td>2</td>\n      <td>0</td>\n    </tr>\n    <tr>\n      <th>957</th>\n      <td>0.146341</td>\n      <td>0.508996</td>\n      <td>0.976005</td>\n      <td>0.696655</td>\n      <td>0.849134</td>\n      <td>0</td>\n      <td>0</td>\n    </tr>\n    <tr>\n      <th>958</th>\n      <td>0.995122</td>\n      <td>0.597883</td>\n      <td>0.876363</td>\n      <td>0.790685</td>\n      <td>0.584082</td>\n      <td>1</td>\n      <td>2</td>\n    </tr>\n    <tr>\n      <th>959</th>\n      <td>0.302439</td>\n      <td>0.516710</td>\n      <td>0.636576</td>\n      <td>0.838556</td>\n      <td>0.765711</td>\n      <td>2</td>\n      <td>0</td>\n    </tr>\n    <tr>\n      <th>960</th>\n      <td>0.058537</td>\n      <td>0.393681</td>\n      <td>0.997554</td>\n      <td>0.809409</td>\n      <td>0.880358</td>\n      <td>3</td>\n      <td>2</td>\n    </tr>\n  </tbody>\n</table>\n<p>961 rows × 7 columns</p>\n</div>"
     },
     "metadata": {},
     "execution_count": 37
    }
   ],
   "source": [
    "FERTILISER_TRAIN"
   ]
  },
  {
   "cell_type": "code",
   "execution_count": 38,
   "metadata": {},
   "outputs": [
    {
     "output_type": "stream",
     "name": "stdout",
     "text": [
      "Real: 14.999999999999998\nPredicted: [[1.7569463]]\n"
     ]
    }
   ],
   "source": [
    "# Output\n",
    "print('Real:', FERTILISER_TRAIN.loc[0, 'output'] * 205)\n",
    "print('Predicted:', predict_fert.predict(np.expand_dims(\n",
    "    FERTILISER_TRAIN_FEATURES.loc[0].values,\n",
    "    0\n",
    "    )) * 205)"
   ]
  },
  {
   "cell_type": "code",
   "execution_count": 39,
   "metadata": {},
   "outputs": [
    {
     "output_type": "display_data",
     "data": {
      "text/plain": "<Figure size 432x288 with 1 Axes>",
      "image/svg+xml": "<?xml version=\"1.0\" encoding=\"utf-8\" standalone=\"no\"?>\r\n<!DOCTYPE svg PUBLIC \"-//W3C//DTD SVG 1.1//EN\"\r\n  \"http://www.w3.org/Graphics/SVG/1.1/DTD/svg11.dtd\">\r\n<!-- Created with matplotlib (https://matplotlib.org/) -->\r\n<svg height=\"248.75842pt\" version=\"1.1\" viewBox=\"0 0 378.465625 248.75842\" width=\"378.465625pt\" xmlns=\"http://www.w3.org/2000/svg\" xmlns:xlink=\"http://www.w3.org/1999/xlink\">\r\n <metadata>\r\n  <rdf:RDF xmlns:cc=\"http://creativecommons.org/ns#\" xmlns:dc=\"http://purl.org/dc/elements/1.1/\" xmlns:rdf=\"http://www.w3.org/1999/02/22-rdf-syntax-ns#\">\r\n   <cc:Work>\r\n    <dc:type rdf:resource=\"http://purl.org/dc/dcmitype/StillImage\"/>\r\n    <dc:date>2021-05-28T17:47:43.262944</dc:date>\r\n    <dc:format>image/svg+xml</dc:format>\r\n    <dc:creator>\r\n     <cc:Agent>\r\n      <dc:title>Matplotlib v3.3.3, https://matplotlib.org/</dc:title>\r\n     </cc:Agent>\r\n    </dc:creator>\r\n   </cc:Work>\r\n  </rdf:RDF>\r\n </metadata>\r\n <defs>\r\n  <style type=\"text/css\">*{stroke-linecap:butt;stroke-linejoin:round;}</style>\r\n </defs>\r\n <g id=\"figure_1\">\r\n  <g id=\"patch_1\">\r\n   <path d=\"M 0 248.75842 \r\nL 378.465625 248.75842 \r\nL 378.465625 0 \r\nL 0 0 \r\nz\r\n\" style=\"fill:none;\"/>\r\n  </g>\r\n  <g id=\"axes_1\">\r\n   <g id=\"patch_2\">\r\n    <path d=\"M 36.465625 224.880295 \r\nL 371.265625 224.880295 \r\nL 371.265625 7.440295 \r\nL 36.465625 7.440295 \r\nz\r\n\" style=\"fill:#ffffff;\"/>\r\n   </g>\r\n   <g id=\"matplotlib.axis_1\">\r\n    <g id=\"xtick_1\">\r\n     <g id=\"line2d_1\">\r\n      <defs>\r\n       <path d=\"M 0 0 \r\nL 0 3.5 \r\n\" id=\"m47317f23cb\" style=\"stroke:#000000;stroke-width:0.8;\"/>\r\n      </defs>\r\n      <g>\r\n       <use style=\"stroke:#000000;stroke-width:0.8;\" x=\"51.683807\" xlink:href=\"#m47317f23cb\" y=\"224.880295\"/>\r\n      </g>\r\n     </g>\r\n     <g id=\"text_1\">\r\n      <!-- 0 -->\r\n      <g transform=\"translate(48.502557 239.478732)scale(0.1 -0.1)\">\r\n       <defs>\r\n        <path d=\"M 31.78125 66.40625 \r\nQ 24.171875 66.40625 20.328125 58.90625 \r\nQ 16.5 51.421875 16.5 36.375 \r\nQ 16.5 21.390625 20.328125 13.890625 \r\nQ 24.171875 6.390625 31.78125 6.390625 \r\nQ 39.453125 6.390625 43.28125 13.890625 \r\nQ 47.125 21.390625 47.125 36.375 \r\nQ 47.125 51.421875 43.28125 58.90625 \r\nQ 39.453125 66.40625 31.78125 66.40625 \r\nz\r\nM 31.78125 74.21875 \r\nQ 44.046875 74.21875 50.515625 64.515625 \r\nQ 56.984375 54.828125 56.984375 36.375 \r\nQ 56.984375 17.96875 50.515625 8.265625 \r\nQ 44.046875 -1.421875 31.78125 -1.421875 \r\nQ 19.53125 -1.421875 13.0625 8.265625 \r\nQ 6.59375 17.96875 6.59375 36.375 \r\nQ 6.59375 54.828125 13.0625 64.515625 \r\nQ 19.53125 74.21875 31.78125 74.21875 \r\nz\r\n\" id=\"DejaVuSans-48\"/>\r\n       </defs>\r\n       <use xlink:href=\"#DejaVuSans-48\"/>\r\n      </g>\r\n     </g>\r\n    </g>\r\n    <g id=\"xtick_2\">\r\n     <g id=\"line2d_2\">\r\n      <g>\r\n       <use style=\"stroke:#000000;stroke-width:0.8;\" x=\"102.580736\" xlink:href=\"#m47317f23cb\" y=\"224.880295\"/>\r\n      </g>\r\n     </g>\r\n     <g id=\"text_2\">\r\n      <!-- 50 -->\r\n      <g transform=\"translate(96.218236 239.478732)scale(0.1 -0.1)\">\r\n       <defs>\r\n        <path d=\"M 10.796875 72.90625 \r\nL 49.515625 72.90625 \r\nL 49.515625 64.59375 \r\nL 19.828125 64.59375 \r\nL 19.828125 46.734375 \r\nQ 21.96875 47.46875 24.109375 47.828125 \r\nQ 26.265625 48.1875 28.421875 48.1875 \r\nQ 40.625 48.1875 47.75 41.5 \r\nQ 54.890625 34.8125 54.890625 23.390625 \r\nQ 54.890625 11.625 47.5625 5.09375 \r\nQ 40.234375 -1.421875 26.90625 -1.421875 \r\nQ 22.3125 -1.421875 17.546875 -0.640625 \r\nQ 12.796875 0.140625 7.71875 1.703125 \r\nL 7.71875 11.625 \r\nQ 12.109375 9.234375 16.796875 8.0625 \r\nQ 21.484375 6.890625 26.703125 6.890625 \r\nQ 35.15625 6.890625 40.078125 11.328125 \r\nQ 45.015625 15.765625 45.015625 23.390625 \r\nQ 45.015625 31 40.078125 35.4375 \r\nQ 35.15625 39.890625 26.703125 39.890625 \r\nQ 22.75 39.890625 18.8125 39.015625 \r\nQ 14.890625 38.140625 10.796875 36.28125 \r\nz\r\n\" id=\"DejaVuSans-53\"/>\r\n       </defs>\r\n       <use xlink:href=\"#DejaVuSans-53\"/>\r\n       <use x=\"63.623047\" xlink:href=\"#DejaVuSans-48\"/>\r\n      </g>\r\n     </g>\r\n    </g>\r\n    <g id=\"xtick_3\">\r\n     <g id=\"line2d_3\">\r\n      <g>\r\n       <use style=\"stroke:#000000;stroke-width:0.8;\" x=\"153.477665\" xlink:href=\"#m47317f23cb\" y=\"224.880295\"/>\r\n      </g>\r\n     </g>\r\n     <g id=\"text_3\">\r\n      <!-- 100 -->\r\n      <g transform=\"translate(143.933915 239.478732)scale(0.1 -0.1)\">\r\n       <defs>\r\n        <path d=\"M 12.40625 8.296875 \r\nL 28.515625 8.296875 \r\nL 28.515625 63.921875 \r\nL 10.984375 60.40625 \r\nL 10.984375 69.390625 \r\nL 28.421875 72.90625 \r\nL 38.28125 72.90625 \r\nL 38.28125 8.296875 \r\nL 54.390625 8.296875 \r\nL 54.390625 0 \r\nL 12.40625 0 \r\nz\r\n\" id=\"DejaVuSans-49\"/>\r\n       </defs>\r\n       <use xlink:href=\"#DejaVuSans-49\"/>\r\n       <use x=\"63.623047\" xlink:href=\"#DejaVuSans-48\"/>\r\n       <use x=\"127.246094\" xlink:href=\"#DejaVuSans-48\"/>\r\n      </g>\r\n     </g>\r\n    </g>\r\n    <g id=\"xtick_4\">\r\n     <g id=\"line2d_4\">\r\n      <g>\r\n       <use style=\"stroke:#000000;stroke-width:0.8;\" x=\"204.374594\" xlink:href=\"#m47317f23cb\" y=\"224.880295\"/>\r\n      </g>\r\n     </g>\r\n     <g id=\"text_4\">\r\n      <!-- 150 -->\r\n      <g transform=\"translate(194.830844 239.478732)scale(0.1 -0.1)\">\r\n       <use xlink:href=\"#DejaVuSans-49\"/>\r\n       <use x=\"63.623047\" xlink:href=\"#DejaVuSans-53\"/>\r\n       <use x=\"127.246094\" xlink:href=\"#DejaVuSans-48\"/>\r\n      </g>\r\n     </g>\r\n    </g>\r\n    <g id=\"xtick_5\">\r\n     <g id=\"line2d_5\">\r\n      <g>\r\n       <use style=\"stroke:#000000;stroke-width:0.8;\" x=\"255.271523\" xlink:href=\"#m47317f23cb\" y=\"224.880295\"/>\r\n      </g>\r\n     </g>\r\n     <g id=\"text_5\">\r\n      <!-- 200 -->\r\n      <g transform=\"translate(245.727773 239.478732)scale(0.1 -0.1)\">\r\n       <defs>\r\n        <path d=\"M 19.1875 8.296875 \r\nL 53.609375 8.296875 \r\nL 53.609375 0 \r\nL 7.328125 0 \r\nL 7.328125 8.296875 \r\nQ 12.9375 14.109375 22.625 23.890625 \r\nQ 32.328125 33.6875 34.8125 36.53125 \r\nQ 39.546875 41.84375 41.421875 45.53125 \r\nQ 43.3125 49.21875 43.3125 52.78125 \r\nQ 43.3125 58.59375 39.234375 62.25 \r\nQ 35.15625 65.921875 28.609375 65.921875 \r\nQ 23.96875 65.921875 18.8125 64.3125 \r\nQ 13.671875 62.703125 7.8125 59.421875 \r\nL 7.8125 69.390625 \r\nQ 13.765625 71.78125 18.9375 73 \r\nQ 24.125 74.21875 28.421875 74.21875 \r\nQ 39.75 74.21875 46.484375 68.546875 \r\nQ 53.21875 62.890625 53.21875 53.421875 \r\nQ 53.21875 48.921875 51.53125 44.890625 \r\nQ 49.859375 40.875 45.40625 35.40625 \r\nQ 44.1875 33.984375 37.640625 27.21875 \r\nQ 31.109375 20.453125 19.1875 8.296875 \r\nz\r\n\" id=\"DejaVuSans-50\"/>\r\n       </defs>\r\n       <use xlink:href=\"#DejaVuSans-50\"/>\r\n       <use x=\"63.623047\" xlink:href=\"#DejaVuSans-48\"/>\r\n       <use x=\"127.246094\" xlink:href=\"#DejaVuSans-48\"/>\r\n      </g>\r\n     </g>\r\n    </g>\r\n    <g id=\"xtick_6\">\r\n     <g id=\"line2d_6\">\r\n      <g>\r\n       <use style=\"stroke:#000000;stroke-width:0.8;\" x=\"306.168453\" xlink:href=\"#m47317f23cb\" y=\"224.880295\"/>\r\n      </g>\r\n     </g>\r\n     <g id=\"text_6\">\r\n      <!-- 250 -->\r\n      <g transform=\"translate(296.624703 239.478732)scale(0.1 -0.1)\">\r\n       <use xlink:href=\"#DejaVuSans-50\"/>\r\n       <use x=\"63.623047\" xlink:href=\"#DejaVuSans-53\"/>\r\n       <use x=\"127.246094\" xlink:href=\"#DejaVuSans-48\"/>\r\n      </g>\r\n     </g>\r\n    </g>\r\n    <g id=\"xtick_7\">\r\n     <g id=\"line2d_7\">\r\n      <g>\r\n       <use style=\"stroke:#000000;stroke-width:0.8;\" x=\"357.065382\" xlink:href=\"#m47317f23cb\" y=\"224.880295\"/>\r\n      </g>\r\n     </g>\r\n     <g id=\"text_7\">\r\n      <!-- 300 -->\r\n      <g transform=\"translate(347.521632 239.478732)scale(0.1 -0.1)\">\r\n       <defs>\r\n        <path d=\"M 40.578125 39.3125 \r\nQ 47.65625 37.796875 51.625 33 \r\nQ 55.609375 28.21875 55.609375 21.1875 \r\nQ 55.609375 10.40625 48.1875 4.484375 \r\nQ 40.765625 -1.421875 27.09375 -1.421875 \r\nQ 22.515625 -1.421875 17.65625 -0.515625 \r\nQ 12.796875 0.390625 7.625 2.203125 \r\nL 7.625 11.71875 \r\nQ 11.71875 9.328125 16.59375 8.109375 \r\nQ 21.484375 6.890625 26.8125 6.890625 \r\nQ 36.078125 6.890625 40.9375 10.546875 \r\nQ 45.796875 14.203125 45.796875 21.1875 \r\nQ 45.796875 27.640625 41.28125 31.265625 \r\nQ 36.765625 34.90625 28.71875 34.90625 \r\nL 20.21875 34.90625 \r\nL 20.21875 43.015625 \r\nL 29.109375 43.015625 \r\nQ 36.375 43.015625 40.234375 45.921875 \r\nQ 44.09375 48.828125 44.09375 54.296875 \r\nQ 44.09375 59.90625 40.109375 62.90625 \r\nQ 36.140625 65.921875 28.71875 65.921875 \r\nQ 24.65625 65.921875 20.015625 65.03125 \r\nQ 15.375 64.15625 9.8125 62.3125 \r\nL 9.8125 71.09375 \r\nQ 15.4375 72.65625 20.34375 73.4375 \r\nQ 25.25 74.21875 29.59375 74.21875 \r\nQ 40.828125 74.21875 47.359375 69.109375 \r\nQ 53.90625 64.015625 53.90625 55.328125 \r\nQ 53.90625 49.265625 50.4375 45.09375 \r\nQ 46.96875 40.921875 40.578125 39.3125 \r\nz\r\n\" id=\"DejaVuSans-51\"/>\r\n       </defs>\r\n       <use xlink:href=\"#DejaVuSans-51\"/>\r\n       <use x=\"63.623047\" xlink:href=\"#DejaVuSans-48\"/>\r\n       <use x=\"127.246094\" xlink:href=\"#DejaVuSans-48\"/>\r\n      </g>\r\n     </g>\r\n    </g>\r\n   </g>\r\n   <g id=\"matplotlib.axis_2\">\r\n    <g id=\"ytick_1\">\r\n     <g id=\"line2d_8\">\r\n      <defs>\r\n       <path d=\"M 0 0 \r\nL -3.5 0 \r\n\" id=\"m14aab6c936\" style=\"stroke:#000000;stroke-width:0.8;\"/>\r\n      </defs>\r\n      <g>\r\n       <use style=\"stroke:#000000;stroke-width:0.8;\" x=\"36.465625\" xlink:href=\"#m14aab6c936\" y=\"223.789842\"/>\r\n      </g>\r\n     </g>\r\n     <g id=\"text_8\">\r\n      <!-- 0.00 -->\r\n      <g transform=\"translate(7.2 227.589061)scale(0.1 -0.1)\">\r\n       <defs>\r\n        <path d=\"M 10.6875 12.40625 \r\nL 21 12.40625 \r\nL 21 0 \r\nL 10.6875 0 \r\nz\r\n\" id=\"DejaVuSans-46\"/>\r\n       </defs>\r\n       <use xlink:href=\"#DejaVuSans-48\"/>\r\n       <use x=\"63.623047\" xlink:href=\"#DejaVuSans-46\"/>\r\n       <use x=\"95.410156\" xlink:href=\"#DejaVuSans-48\"/>\r\n       <use x=\"159.033203\" xlink:href=\"#DejaVuSans-48\"/>\r\n      </g>\r\n     </g>\r\n    </g>\r\n    <g id=\"ytick_2\">\r\n     <g id=\"line2d_9\">\r\n      <g>\r\n       <use style=\"stroke:#000000;stroke-width:0.8;\" x=\"36.465625\" xlink:href=\"#m14aab6c936\" y=\"193.391182\"/>\r\n      </g>\r\n     </g>\r\n     <g id=\"text_9\">\r\n      <!-- 0.02 -->\r\n      <g transform=\"translate(7.2 197.1904)scale(0.1 -0.1)\">\r\n       <use xlink:href=\"#DejaVuSans-48\"/>\r\n       <use x=\"63.623047\" xlink:href=\"#DejaVuSans-46\"/>\r\n       <use x=\"95.410156\" xlink:href=\"#DejaVuSans-48\"/>\r\n       <use x=\"159.033203\" xlink:href=\"#DejaVuSans-50\"/>\r\n      </g>\r\n     </g>\r\n    </g>\r\n    <g id=\"ytick_3\">\r\n     <g id=\"line2d_10\">\r\n      <g>\r\n       <use style=\"stroke:#000000;stroke-width:0.8;\" x=\"36.465625\" xlink:href=\"#m14aab6c936\" y=\"162.992521\"/>\r\n      </g>\r\n     </g>\r\n     <g id=\"text_10\">\r\n      <!-- 0.04 -->\r\n      <g transform=\"translate(7.2 166.79174)scale(0.1 -0.1)\">\r\n       <defs>\r\n        <path d=\"M 37.796875 64.3125 \r\nL 12.890625 25.390625 \r\nL 37.796875 25.390625 \r\nz\r\nM 35.203125 72.90625 \r\nL 47.609375 72.90625 \r\nL 47.609375 25.390625 \r\nL 58.015625 25.390625 \r\nL 58.015625 17.1875 \r\nL 47.609375 17.1875 \r\nL 47.609375 0 \r\nL 37.796875 0 \r\nL 37.796875 17.1875 \r\nL 4.890625 17.1875 \r\nL 4.890625 26.703125 \r\nz\r\n\" id=\"DejaVuSans-52\"/>\r\n       </defs>\r\n       <use xlink:href=\"#DejaVuSans-48\"/>\r\n       <use x=\"63.623047\" xlink:href=\"#DejaVuSans-46\"/>\r\n       <use x=\"95.410156\" xlink:href=\"#DejaVuSans-48\"/>\r\n       <use x=\"159.033203\" xlink:href=\"#DejaVuSans-52\"/>\r\n      </g>\r\n     </g>\r\n    </g>\r\n    <g id=\"ytick_4\">\r\n     <g id=\"line2d_11\">\r\n      <g>\r\n       <use style=\"stroke:#000000;stroke-width:0.8;\" x=\"36.465625\" xlink:href=\"#m14aab6c936\" y=\"132.593861\"/>\r\n      </g>\r\n     </g>\r\n     <g id=\"text_11\">\r\n      <!-- 0.06 -->\r\n      <g transform=\"translate(7.2 136.393079)scale(0.1 -0.1)\">\r\n       <defs>\r\n        <path d=\"M 33.015625 40.375 \r\nQ 26.375 40.375 22.484375 35.828125 \r\nQ 18.609375 31.296875 18.609375 23.390625 \r\nQ 18.609375 15.53125 22.484375 10.953125 \r\nQ 26.375 6.390625 33.015625 6.390625 \r\nQ 39.65625 6.390625 43.53125 10.953125 \r\nQ 47.40625 15.53125 47.40625 23.390625 \r\nQ 47.40625 31.296875 43.53125 35.828125 \r\nQ 39.65625 40.375 33.015625 40.375 \r\nz\r\nM 52.59375 71.296875 \r\nL 52.59375 62.3125 \r\nQ 48.875 64.0625 45.09375 64.984375 \r\nQ 41.3125 65.921875 37.59375 65.921875 \r\nQ 27.828125 65.921875 22.671875 59.328125 \r\nQ 17.53125 52.734375 16.796875 39.40625 \r\nQ 19.671875 43.65625 24.015625 45.921875 \r\nQ 28.375 48.1875 33.59375 48.1875 \r\nQ 44.578125 48.1875 50.953125 41.515625 \r\nQ 57.328125 34.859375 57.328125 23.390625 \r\nQ 57.328125 12.15625 50.6875 5.359375 \r\nQ 44.046875 -1.421875 33.015625 -1.421875 \r\nQ 20.359375 -1.421875 13.671875 8.265625 \r\nQ 6.984375 17.96875 6.984375 36.375 \r\nQ 6.984375 53.65625 15.1875 63.9375 \r\nQ 23.390625 74.21875 37.203125 74.21875 \r\nQ 40.921875 74.21875 44.703125 73.484375 \r\nQ 48.484375 72.75 52.59375 71.296875 \r\nz\r\n\" id=\"DejaVuSans-54\"/>\r\n       </defs>\r\n       <use xlink:href=\"#DejaVuSans-48\"/>\r\n       <use x=\"63.623047\" xlink:href=\"#DejaVuSans-46\"/>\r\n       <use x=\"95.410156\" xlink:href=\"#DejaVuSans-48\"/>\r\n       <use x=\"159.033203\" xlink:href=\"#DejaVuSans-54\"/>\r\n      </g>\r\n     </g>\r\n    </g>\r\n    <g id=\"ytick_5\">\r\n     <g id=\"line2d_12\">\r\n      <g>\r\n       <use style=\"stroke:#000000;stroke-width:0.8;\" x=\"36.465625\" xlink:href=\"#m14aab6c936\" y=\"102.1952\"/>\r\n      </g>\r\n     </g>\r\n     <g id=\"text_12\">\r\n      <!-- 0.08 -->\r\n      <g transform=\"translate(7.2 105.994419)scale(0.1 -0.1)\">\r\n       <defs>\r\n        <path d=\"M 31.78125 34.625 \r\nQ 24.75 34.625 20.71875 30.859375 \r\nQ 16.703125 27.09375 16.703125 20.515625 \r\nQ 16.703125 13.921875 20.71875 10.15625 \r\nQ 24.75 6.390625 31.78125 6.390625 \r\nQ 38.8125 6.390625 42.859375 10.171875 \r\nQ 46.921875 13.96875 46.921875 20.515625 \r\nQ 46.921875 27.09375 42.890625 30.859375 \r\nQ 38.875 34.625 31.78125 34.625 \r\nz\r\nM 21.921875 38.8125 \r\nQ 15.578125 40.375 12.03125 44.71875 \r\nQ 8.5 49.078125 8.5 55.328125 \r\nQ 8.5 64.0625 14.71875 69.140625 \r\nQ 20.953125 74.21875 31.78125 74.21875 \r\nQ 42.671875 74.21875 48.875 69.140625 \r\nQ 55.078125 64.0625 55.078125 55.328125 \r\nQ 55.078125 49.078125 51.53125 44.71875 \r\nQ 48 40.375 41.703125 38.8125 \r\nQ 48.828125 37.15625 52.796875 32.3125 \r\nQ 56.78125 27.484375 56.78125 20.515625 \r\nQ 56.78125 9.90625 50.3125 4.234375 \r\nQ 43.84375 -1.421875 31.78125 -1.421875 \r\nQ 19.734375 -1.421875 13.25 4.234375 \r\nQ 6.78125 9.90625 6.78125 20.515625 \r\nQ 6.78125 27.484375 10.78125 32.3125 \r\nQ 14.796875 37.15625 21.921875 38.8125 \r\nz\r\nM 18.3125 54.390625 \r\nQ 18.3125 48.734375 21.84375 45.5625 \r\nQ 25.390625 42.390625 31.78125 42.390625 \r\nQ 38.140625 42.390625 41.71875 45.5625 \r\nQ 45.3125 48.734375 45.3125 54.390625 \r\nQ 45.3125 60.0625 41.71875 63.234375 \r\nQ 38.140625 66.40625 31.78125 66.40625 \r\nQ 25.390625 66.40625 21.84375 63.234375 \r\nQ 18.3125 60.0625 18.3125 54.390625 \r\nz\r\n\" id=\"DejaVuSans-56\"/>\r\n       </defs>\r\n       <use xlink:href=\"#DejaVuSans-48\"/>\r\n       <use x=\"63.623047\" xlink:href=\"#DejaVuSans-46\"/>\r\n       <use x=\"95.410156\" xlink:href=\"#DejaVuSans-48\"/>\r\n       <use x=\"159.033203\" xlink:href=\"#DejaVuSans-56\"/>\r\n      </g>\r\n     </g>\r\n    </g>\r\n    <g id=\"ytick_6\">\r\n     <g id=\"line2d_13\">\r\n      <g>\r\n       <use style=\"stroke:#000000;stroke-width:0.8;\" x=\"36.465625\" xlink:href=\"#m14aab6c936\" y=\"71.79654\"/>\r\n      </g>\r\n     </g>\r\n     <g id=\"text_13\">\r\n      <!-- 0.10 -->\r\n      <g transform=\"translate(7.2 75.595758)scale(0.1 -0.1)\">\r\n       <use xlink:href=\"#DejaVuSans-48\"/>\r\n       <use x=\"63.623047\" xlink:href=\"#DejaVuSans-46\"/>\r\n       <use x=\"95.410156\" xlink:href=\"#DejaVuSans-49\"/>\r\n       <use x=\"159.033203\" xlink:href=\"#DejaVuSans-48\"/>\r\n      </g>\r\n     </g>\r\n    </g>\r\n    <g id=\"ytick_7\">\r\n     <g id=\"line2d_14\">\r\n      <g>\r\n       <use style=\"stroke:#000000;stroke-width:0.8;\" x=\"36.465625\" xlink:href=\"#m14aab6c936\" y=\"41.397879\"/>\r\n      </g>\r\n     </g>\r\n     <g id=\"text_14\">\r\n      <!-- 0.12 -->\r\n      <g transform=\"translate(7.2 45.197098)scale(0.1 -0.1)\">\r\n       <use xlink:href=\"#DejaVuSans-48\"/>\r\n       <use x=\"63.623047\" xlink:href=\"#DejaVuSans-46\"/>\r\n       <use x=\"95.410156\" xlink:href=\"#DejaVuSans-49\"/>\r\n       <use x=\"159.033203\" xlink:href=\"#DejaVuSans-50\"/>\r\n      </g>\r\n     </g>\r\n    </g>\r\n    <g id=\"ytick_8\">\r\n     <g id=\"line2d_15\">\r\n      <g>\r\n       <use style=\"stroke:#000000;stroke-width:0.8;\" x=\"36.465625\" xlink:href=\"#m14aab6c936\" y=\"10.999219\"/>\r\n      </g>\r\n     </g>\r\n     <g id=\"text_15\">\r\n      <!-- 0.14 -->\r\n      <g transform=\"translate(7.2 14.798437)scale(0.1 -0.1)\">\r\n       <use xlink:href=\"#DejaVuSans-48\"/>\r\n       <use x=\"63.623047\" xlink:href=\"#DejaVuSans-46\"/>\r\n       <use x=\"95.410156\" xlink:href=\"#DejaVuSans-49\"/>\r\n       <use x=\"159.033203\" xlink:href=\"#DejaVuSans-52\"/>\r\n      </g>\r\n     </g>\r\n    </g>\r\n   </g>\r\n   <g id=\"line2d_16\">\r\n    <path clip-path=\"url(#pe1d9e553bb)\" d=\"M 51.683807 17.323931 \r\nL 52.701745 63.275154 \r\nL 53.719684 95.109921 \r\nL 54.737623 114.775008 \r\nL 55.755561 126.903468 \r\nL 56.7735 135.744821 \r\nL 57.791438 142.073289 \r\nL 58.809377 147.008478 \r\nL 59.827315 150.435231 \r\nL 60.845254 153.420123 \r\nL 63.89907 159.63435 \r\nL 65.934947 162.792245 \r\nL 66.952886 164.156828 \r\nL 67.970824 165.327809 \r\nL 68.988763 166.731387 \r\nL 71.02464 168.981134 \r\nL 75.096394 173.142528 \r\nL 76.114333 174.015462 \r\nL 77.132271 175.055431 \r\nL 81.204026 178.366806 \r\nL 85.27578 181.557544 \r\nL 90.365473 184.723533 \r\nL 97.491043 188.409897 \r\nL 99.52692 189.322362 \r\nL 106.65249 192.283887 \r\nL 108.688367 193.035274 \r\nL 115.813938 195.38621 \r\nL 127.011262 198.360752 \r\nL 129.047139 198.775188 \r\nL 130.065078 199.062787 \r\nL 132.100955 199.406361 \r\nL 134.136832 199.914072 \r\nL 137.190648 200.559659 \r\nL 143.298279 201.638862 \r\nL 144.316218 201.741308 \r\nL 146.352095 202.177824 \r\nL 151.441788 202.939424 \r\nL 152.459727 203.159721 \r\nL 153.477665 203.192906 \r\nL 156.531481 203.757244 \r\nL 179.944068 206.548846 \r\nL 188.087577 207.268447 \r\nL 191.141393 207.599418 \r\nL 193.17727 207.721799 \r\nL 195.213147 207.927795 \r\nL 209.464287 209.060617 \r\nL 212.518103 209.250296 \r\nL 214.55398 209.477251 \r\nL 216.589857 209.599056 \r\nL 227.787182 210.417663 \r\nL 252.217708 211.832048 \r\nL 263.415032 212.314135 \r\nL 268.504725 212.529852 \r\nL 281.737927 213.015432 \r\nL 328.563101 214.342394 \r\nL 356.047443 214.996659 \r\nL 356.047443 214.996659 \r\n\" style=\"fill:none;stroke:#1f77b4;stroke-linecap:square;stroke-width:1.5;\"/>\r\n   </g>\r\n   <g id=\"patch_3\">\r\n    <path d=\"M 36.465625 224.880295 \r\nL 36.465625 7.440295 \r\n\" style=\"fill:none;stroke:#000000;stroke-linecap:square;stroke-linejoin:miter;stroke-width:0.8;\"/>\r\n   </g>\r\n   <g id=\"patch_4\">\r\n    <path d=\"M 371.265625 224.880295 \r\nL 371.265625 7.440295 \r\n\" style=\"fill:none;stroke:#000000;stroke-linecap:square;stroke-linejoin:miter;stroke-width:0.8;\"/>\r\n   </g>\r\n   <g id=\"patch_5\">\r\n    <path d=\"M 36.465625 224.880295 \r\nL 371.265625 224.880295 \r\n\" style=\"fill:none;stroke:#000000;stroke-linecap:square;stroke-linejoin:miter;stroke-width:0.8;\"/>\r\n   </g>\r\n   <g id=\"patch_6\">\r\n    <path d=\"M 36.465625 7.440295 \r\nL 371.265625 7.440295 \r\n\" style=\"fill:none;stroke:#000000;stroke-linecap:square;stroke-linejoin:miter;stroke-width:0.8;\"/>\r\n   </g>\r\n  </g>\r\n </g>\r\n <defs>\r\n  <clipPath id=\"pe1d9e553bb\">\r\n   <rect height=\"217.44\" width=\"334.8\" x=\"36.465625\" y=\"7.440295\"/>\r\n  </clipPath>\r\n </defs>\r\n</svg>\r\n",
      "image/png": "[encoded data removed]"
     },
     "metadata": {
      "needs_background": "light"
     }
    }
   ],
   "source": [
    "from matplotlib import pyplot as plt\n",
    "\n",
    "plt.plot(range(len(hist.history['loss'])), hist.history['loss'])\n",
    "plt.show()"
   ]
  },
  {
   "cell_type": "code",
   "execution_count": 42,
   "metadata": {},
   "outputs": [],
   "source": [
    "predict_fert.save_weights('./weights/fertilizer-prediction/fertilizer-prediction')"
   ]
  },
  {
   "cell_type": "code",
   "execution_count": 44,
   "metadata": {},
   "outputs": [
    {
     "output_type": "stream",
     "name": "stdout",
     "text": [
      "INFO:tensorflow:Assets written to: ./model/fertilizer-prediction\\assets\n"
     ]
    }
   ],
   "source": [
    "predict_fert.save('./model/fertilizer-prediction')      # TF2 Save File\n",
    "predict_fert.save('./model/fertilizer-prediction.h5')   # HDF5"
   ]
  },
  {
   "cell_type": "code",
   "execution_count": null,
   "metadata": {},
   "outputs": [],
   "source": []
  }
 ]
}