{
 "metadata": {
  "language_info": {
   "codemirror_mode": {
    "name": "ipython",
    "version": 3
   },
   "file_extension": ".py",
   "mimetype": "text/x-python",
   "name": "python",
   "nbconvert_exporter": "python",
   "pygments_lexer": "ipython3",
   "version": "3.8.5"
  },
  "orig_nbformat": 2,
  "kernelspec": {
   "name": "python385jvsc74a57bd0fbff9bfab3ee0df4124016b4e010029cf2ec5864ce5e3c4aa09796cc364af95f",
   "display_name": "Python 3.8.5 64-bit (conda)"
  }
 },
 "nbformat": 4,
 "nbformat_minor": 2,
 "cells": [
  {
   "cell_type": "code",
   "execution_count": 1,
   "metadata": {},
   "outputs": [],
   "source": [
    "import pandas as pd\n",
    "import numpy as np\n",
    "from pathlib import PurePosixPath, PureWindowsPath"
   ]
  },
  {
   "cell_type": "code",
   "execution_count": 2,
   "metadata": {},
   "outputs": [],
   "source": [
    "def get_directory(path):\n",
    "    if os.name == 'posix':\n",
    "        return str(PurePosixPath(path))\n",
    "    else:\n",
    "        return str(PureWindowsPath(path))"
   ]
  },
  {
   "cell_type": "code",
   "execution_count": 3,
   "metadata": {},
   "outputs": [],
   "source": [
    "# Variables\n",
    "FERTILIZER_LOCATION = get_directory('./dataset/fertilizer')"
   ]
  },
  {
   "cell_type": "code",
   "execution_count": 4,
   "metadata": {},
   "outputs": [],
   "source": [
    "_fert = pd.read_csv(get_directory(FERTILIZER_LOCATION + '/Crop_recommendation.csv'))"
   ]
  },
  {
   "cell_type": "code",
   "execution_count": 5,
   "metadata": {},
   "outputs": [
    {
     "output_type": "execute_result",
     "data": {
      "text/plain": [
       "    N   P   K  temperature   humidity        ph    rainfall label\n",
       "0  90  42  43    20.879744  82.002744  6.502985  202.935536  rice\n",
       "1  85  58  41    21.770462  80.319644  7.038096  226.655537  rice\n",
       "2  60  55  44    23.004459  82.320763  7.840207  263.964248  rice\n",
       "3  74  35  40    26.491096  80.158363  6.980401  242.864034  rice\n",
       "4  78  42  42    20.130175  81.604873  7.628473  262.717340  rice"
      ],
      "text/html": "<div>\n<style scoped>\n    .dataframe tbody tr th:only-of-type {\n        vertical-align: middle;\n    }\n\n    .dataframe tbody tr th {\n        vertical-align: top;\n    }\n\n    .dataframe thead th {\n        text-align: right;\n    }\n</style>\n<table border=\"1\" class=\"dataframe\">\n  <thead>\n    <tr style=\"text-align: right;\">\n      <th></th>\n      <th>N</th>\n      <th>P</th>\n      <th>K</th>\n      <th>temperature</th>\n      <th>humidity</th>\n      <th>ph</th>\n      <th>rainfall</th>\n      <th>label</th>\n    </tr>\n  </thead>\n  <tbody>\n    <tr>\n      <th>0</th>\n      <td>90</td>\n      <td>42</td>\n      <td>43</td>\n      <td>20.879744</td>\n      <td>82.002744</td>\n      <td>6.502985</td>\n      <td>202.935536</td>\n      <td>rice</td>\n    </tr>\n    <tr>\n      <th>1</th>\n      <td>85</td>\n      <td>58</td>\n      <td>41</td>\n      <td>21.770462</td>\n      <td>80.319644</td>\n      <td>7.038096</td>\n      <td>226.655537</td>\n      <td>rice</td>\n    </tr>\n    <tr>\n      <th>2</th>\n      <td>60</td>\n      <td>55</td>\n      <td>44</td>\n      <td>23.004459</td>\n      <td>82.320763</td>\n      <td>7.840207</td>\n      <td>263.964248</td>\n      <td>rice</td>\n    </tr>\n    <tr>\n      <th>3</th>\n      <td>74</td>\n      <td>35</td>\n      <td>40</td>\n      <td>26.491096</td>\n      <td>80.158363</td>\n      <td>6.980401</td>\n      <td>242.864034</td>\n      <td>rice</td>\n    </tr>\n    <tr>\n      <th>4</th>\n      <td>78</td>\n      <td>42</td>\n      <td>42</td>\n      <td>20.130175</td>\n      <td>81.604873</td>\n      <td>7.628473</td>\n      <td>262.717340</td>\n      <td>rice</td>\n    </tr>\n  </tbody>\n</table>\n</div>"
     },
     "metadata": {},
     "execution_count": 5
    }
   ],
   "source": [
    "_fert.head()"
   ]
  },
  {
   "cell_type": "code",
   "execution_count": 6,
   "metadata": {},
   "outputs": [
    {
     "output_type": "stream",
     "name": "stdout",
     "text": [
      "                 N            P            K  temperature     humidity  \\\ncount  2200.000000  2200.000000  2200.000000  2200.000000  2200.000000   \nmean     50.551818    53.362727    48.149091    25.616244    71.481779   \nstd      36.917334    32.985883    50.647931     5.063749    22.263812   \nmin       0.000000     5.000000     5.000000     8.825675    14.258040   \n25%      21.000000    28.000000    20.000000    22.769375    60.261953   \n50%      37.000000    51.000000    32.000000    25.598693    80.473146   \n75%      84.250000    68.000000    49.000000    28.561654    89.948771   \nmax     140.000000   145.000000   205.000000    43.675493    99.981876   \n\n                ph     rainfall  \ncount  2200.000000  2200.000000  \nmean      6.469480   103.463655  \nstd       0.773938    54.958389  \nmin       3.504752    20.211267  \n25%       5.971693    64.551686  \n50%       6.425045    94.867624  \n75%       6.923643   124.267508  \nmax       9.935091   298.560117  \n"
     ]
    }
   ],
   "source": [
    "# Statistics\n",
    "print(_fert.describe())"
   ]
  },
  {
   "cell_type": "code",
   "execution_count": 7,
   "metadata": {},
   "outputs": [
    {
     "output_type": "execute_result",
     "data": {
      "text/plain": [
       "        N   P   K  temperature   humidity        ph    rainfall  label\n",
       "0      90  42  43    20.879744  82.002744  6.502985  202.935536      0\n",
       "1      85  58  41    21.770462  80.319644  7.038096  226.655537      0\n",
       "2      60  55  44    23.004459  82.320763  7.840207  263.964248      0\n",
       "3      74  35  40    26.491096  80.158363  6.980401  242.864034      0\n",
       "4      78  42  42    20.130175  81.604873  7.628473  262.717340      0\n",
       "...   ...  ..  ..          ...        ...       ...         ...    ...\n",
       "2195  107  34  32    26.774637  66.413269  6.780064  177.774507     21\n",
       "2196   99  15  27    27.417112  56.636362  6.086922  127.924610     21\n",
       "2197  118  33  30    24.131797  67.225123  6.362608  173.322839     21\n",
       "2198  117  32  34    26.272418  52.127394  6.758793  127.175293     21\n",
       "2199  104  18  30    23.603016  60.396475  6.779833  140.937041     21\n",
       "\n",
       "[2200 rows x 8 columns]"
      ],
      "text/html": "<div>\n<style scoped>\n    .dataframe tbody tr th:only-of-type {\n        vertical-align: middle;\n    }\n\n    .dataframe tbody tr th {\n        vertical-align: top;\n    }\n\n    .dataframe thead th {\n        text-align: right;\n    }\n</style>\n<table border=\"1\" class=\"dataframe\">\n  <thead>\n    <tr style=\"text-align: right;\">\n      <th></th>\n      <th>N</th>\n      <th>P</th>\n      <th>K</th>\n      <th>temperature</th>\n      <th>humidity</th>\n      <th>ph</th>\n      <th>rainfall</th>\n      <th>label</th>\n    </tr>\n  </thead>\n  <tbody>\n    <tr>\n      <th>0</th>\n      <td>90</td>\n      <td>42</td>\n      <td>43</td>\n      <td>20.879744</td>\n      <td>82.002744</td>\n      <td>6.502985</td>\n      <td>202.935536</td>\n      <td>0</td>\n    </tr>\n    <tr>\n      <th>1</th>\n      <td>85</td>\n      <td>58</td>\n      <td>41</td>\n      <td>21.770462</td>\n      <td>80.319644</td>\n      <td>7.038096</td>\n      <td>226.655537</td>\n      <td>0</td>\n    </tr>\n    <tr>\n      <th>2</th>\n      <td>60</td>\n      <td>55</td>\n      <td>44</td>\n      <td>23.004459</td>\n      <td>82.320763</td>\n      <td>7.840207</td>\n      <td>263.964248</td>\n      <td>0</td>\n    </tr>\n    <tr>\n      <th>3</th>\n      <td>74</td>\n      <td>35</td>\n      <td>40</td>\n      <td>26.491096</td>\n      <td>80.158363</td>\n      <td>6.980401</td>\n      <td>242.864034</td>\n      <td>0</td>\n    </tr>\n    <tr>\n      <th>4</th>\n      <td>78</td>\n      <td>42</td>\n      <td>42</td>\n      <td>20.130175</td>\n      <td>81.604873</td>\n      <td>7.628473</td>\n      <td>262.717340</td>\n      <td>0</td>\n    </tr>\n    <tr>\n      <th>...</th>\n      <td>...</td>\n      <td>...</td>\n      <td>...</td>\n      <td>...</td>\n      <td>...</td>\n      <td>...</td>\n      <td>...</td>\n      <td>...</td>\n    </tr>\n    <tr>\n      <th>2195</th>\n      <td>107</td>\n      <td>34</td>\n      <td>32</td>\n      <td>26.774637</td>\n      <td>66.413269</td>\n      <td>6.780064</td>\n      <td>177.774507</td>\n      <td>21</td>\n    </tr>\n    <tr>\n      <th>2196</th>\n      <td>99</td>\n      <td>15</td>\n      <td>27</td>\n      <td>27.417112</td>\n      <td>56.636362</td>\n      <td>6.086922</td>\n      <td>127.924610</td>\n      <td>21</td>\n    </tr>\n    <tr>\n      <th>2197</th>\n      <td>118</td>\n      <td>33</td>\n      <td>30</td>\n      <td>24.131797</td>\n      <td>67.225123</td>\n      <td>6.362608</td>\n      <td>173.322839</td>\n      <td>21</td>\n    </tr>\n    <tr>\n      <th>2198</th>\n      <td>117</td>\n      <td>32</td>\n      <td>34</td>\n      <td>26.272418</td>\n      <td>52.127394</td>\n      <td>6.758793</td>\n      <td>127.175293</td>\n      <td>21</td>\n    </tr>\n    <tr>\n      <th>2199</th>\n      <td>104</td>\n      <td>18</td>\n      <td>30</td>\n      <td>23.603016</td>\n      <td>60.396475</td>\n      <td>6.779833</td>\n      <td>140.937041</td>\n      <td>21</td>\n    </tr>\n  </tbody>\n</table>\n<p>2200 rows × 8 columns</p>\n</div>"
     },
     "metadata": {},
     "execution_count": 7
    }
   ],
   "source": [
    "# Discretisation\n",
    "_fert_labels = _fert.drop_duplicates(subset='label').label\n",
    "_iteration = 0\n",
    "LABEL_DICTIONARY = {}\n",
    "for i in _fert_labels:\n",
    "    LABEL_DICTIONARY[i] = _iteration\n",
    "    _iteration += 1\n",
    "\n",
    "# Applying discretisation\n",
    "_fert['label'] = _fert['label'].apply(lambda x: LABEL_DICTIONARY[x])\n",
    "_fert"
   ]
  },
  {
   "cell_type": "code",
   "execution_count": 8,
   "metadata": {},
   "outputs": [
    {
     "output_type": "execute_result",
     "data": {
      "text/plain": [
       "             N         P         K  temperature  humidity        ph  rainfall  \\\n",
       "0     0.642857  0.289655  0.209756     0.417595  0.820027  0.464499  0.676452   \n",
       "1     0.607143  0.400000  0.200000     0.435409  0.803196  0.502721  0.755518   \n",
       "2     0.428571  0.379310  0.214634     0.460089  0.823208  0.560015  0.879881   \n",
       "3     0.528571  0.241379  0.195122     0.529822  0.801584  0.498600  0.809547   \n",
       "4     0.557143  0.289655  0.204878     0.402603  0.816049  0.544891  0.875724   \n",
       "...        ...       ...       ...          ...       ...       ...       ...   \n",
       "2195  0.764286  0.234483  0.156098     0.535493  0.664133  0.484290  0.592582   \n",
       "2196  0.707143  0.103448  0.131707     0.548342  0.566364  0.434780  0.426415   \n",
       "2197  0.842857  0.227586  0.146341     0.482636  0.672251  0.454472  0.577743   \n",
       "2198  0.835714  0.220690  0.165854     0.525448  0.521274  0.482771  0.423918   \n",
       "2199  0.742857  0.124138  0.146341     0.472060  0.603965  0.484274  0.469790   \n",
       "\n",
       "      label  \n",
       "0       0.0  \n",
       "1       0.0  \n",
       "2       0.0  \n",
       "3       0.0  \n",
       "4       0.0  \n",
       "...     ...  \n",
       "2195    1.0  \n",
       "2196    1.0  \n",
       "2197    1.0  \n",
       "2198    1.0  \n",
       "2199    1.0  \n",
       "\n",
       "[2200 rows x 8 columns]"
      ],
      "text/html": "<div>\n<style scoped>\n    .dataframe tbody tr th:only-of-type {\n        vertical-align: middle;\n    }\n\n    .dataframe tbody tr th {\n        vertical-align: top;\n    }\n\n    .dataframe thead th {\n        text-align: right;\n    }\n</style>\n<table border=\"1\" class=\"dataframe\">\n  <thead>\n    <tr style=\"text-align: right;\">\n      <th></th>\n      <th>N</th>\n      <th>P</th>\n      <th>K</th>\n      <th>temperature</th>\n      <th>humidity</th>\n      <th>ph</th>\n      <th>rainfall</th>\n      <th>label</th>\n    </tr>\n  </thead>\n  <tbody>\n    <tr>\n      <th>0</th>\n      <td>0.642857</td>\n      <td>0.289655</td>\n      <td>0.209756</td>\n      <td>0.417595</td>\n      <td>0.820027</td>\n      <td>0.464499</td>\n      <td>0.676452</td>\n      <td>0.0</td>\n    </tr>\n    <tr>\n      <th>1</th>\n      <td>0.607143</td>\n      <td>0.400000</td>\n      <td>0.200000</td>\n      <td>0.435409</td>\n      <td>0.803196</td>\n      <td>0.502721</td>\n      <td>0.755518</td>\n      <td>0.0</td>\n    </tr>\n    <tr>\n      <th>2</th>\n      <td>0.428571</td>\n      <td>0.379310</td>\n      <td>0.214634</td>\n      <td>0.460089</td>\n      <td>0.823208</td>\n      <td>0.560015</td>\n      <td>0.879881</td>\n      <td>0.0</td>\n    </tr>\n    <tr>\n      <th>3</th>\n      <td>0.528571</td>\n      <td>0.241379</td>\n      <td>0.195122</td>\n      <td>0.529822</td>\n      <td>0.801584</td>\n      <td>0.498600</td>\n      <td>0.809547</td>\n      <td>0.0</td>\n    </tr>\n    <tr>\n      <th>4</th>\n      <td>0.557143</td>\n      <td>0.289655</td>\n      <td>0.204878</td>\n      <td>0.402603</td>\n      <td>0.816049</td>\n      <td>0.544891</td>\n      <td>0.875724</td>\n      <td>0.0</td>\n    </tr>\n    <tr>\n      <th>...</th>\n      <td>...</td>\n      <td>...</td>\n      <td>...</td>\n      <td>...</td>\n      <td>...</td>\n      <td>...</td>\n      <td>...</td>\n      <td>...</td>\n    </tr>\n    <tr>\n      <th>2195</th>\n      <td>0.764286</td>\n      <td>0.234483</td>\n      <td>0.156098</td>\n      <td>0.535493</td>\n      <td>0.664133</td>\n      <td>0.484290</td>\n      <td>0.592582</td>\n      <td>1.0</td>\n    </tr>\n    <tr>\n      <th>2196</th>\n      <td>0.707143</td>\n      <td>0.103448</td>\n      <td>0.131707</td>\n      <td>0.548342</td>\n      <td>0.566364</td>\n      <td>0.434780</td>\n      <td>0.426415</td>\n      <td>1.0</td>\n    </tr>\n    <tr>\n      <th>2197</th>\n      <td>0.842857</td>\n      <td>0.227586</td>\n      <td>0.146341</td>\n      <td>0.482636</td>\n      <td>0.672251</td>\n      <td>0.454472</td>\n      <td>0.577743</td>\n      <td>1.0</td>\n    </tr>\n    <tr>\n      <th>2198</th>\n      <td>0.835714</td>\n      <td>0.220690</td>\n      <td>0.165854</td>\n      <td>0.525448</td>\n      <td>0.521274</td>\n      <td>0.482771</td>\n      <td>0.423918</td>\n      <td>1.0</td>\n    </tr>\n    <tr>\n      <th>2199</th>\n      <td>0.742857</td>\n      <td>0.124138</td>\n      <td>0.146341</td>\n      <td>0.472060</td>\n      <td>0.603965</td>\n      <td>0.484274</td>\n      <td>0.469790</td>\n      <td>1.0</td>\n    </tr>\n  </tbody>\n</table>\n<p>2200 rows × 8 columns</p>\n</div>"
     },
     "metadata": {},
     "execution_count": 8
    }
   ],
   "source": [
    "# Normalisation and discretisation\n",
    "_fert['ph'] = _fert['ph'] / 14      # PH\n",
    "_fert['humidity'] = _fert['humidity'] / 100\n",
    "_fert['rainfall'] = _fert['rainfall'] / 300\n",
    "_fert['N'] = _fert['N'] / 140\n",
    "_fert['P'] = _fert['P'] / 145\n",
    "_fert['K'] = _fert['K'] / 205\n",
    "_fert['temperature'] = _fert['temperature'] / 50\n",
    "_fert['label'] = _fert['label'] / (_iteration - 1)\n",
    "\n",
    "_fert"
   ]
  },
  {
   "cell_type": "code",
   "execution_count": 9,
   "metadata": {},
   "outputs": [
    {
     "output_type": "execute_result",
     "data": {
      "text/plain": [
       "      temperature  humidity        ph  rainfall  label\n",
       "0        0.417595  0.820027  0.464499  0.676452    0.0\n",
       "1        0.435409  0.803196  0.502721  0.755518    0.0\n",
       "2        0.460089  0.823208  0.560015  0.879881    0.0\n",
       "3        0.529822  0.801584  0.498600  0.809547    0.0\n",
       "4        0.402603  0.816049  0.544891  0.875724    0.0\n",
       "...           ...       ...       ...       ...    ...\n",
       "2195     0.535493  0.664133  0.484290  0.592582    1.0\n",
       "2196     0.548342  0.566364  0.434780  0.426415    1.0\n",
       "2197     0.482636  0.672251  0.454472  0.577743    1.0\n",
       "2198     0.525448  0.521274  0.482771  0.423918    1.0\n",
       "2199     0.472060  0.603965  0.484274  0.469790    1.0\n",
       "\n",
       "[2200 rows x 5 columns]"
      ],
      "text/html": "<div>\n<style scoped>\n    .dataframe tbody tr th:only-of-type {\n        vertical-align: middle;\n    }\n\n    .dataframe tbody tr th {\n        vertical-align: top;\n    }\n\n    .dataframe thead th {\n        text-align: right;\n    }\n</style>\n<table border=\"1\" class=\"dataframe\">\n  <thead>\n    <tr style=\"text-align: right;\">\n      <th></th>\n      <th>temperature</th>\n      <th>humidity</th>\n      <th>ph</th>\n      <th>rainfall</th>\n      <th>label</th>\n    </tr>\n  </thead>\n  <tbody>\n    <tr>\n      <th>0</th>\n      <td>0.417595</td>\n      <td>0.820027</td>\n      <td>0.464499</td>\n      <td>0.676452</td>\n      <td>0.0</td>\n    </tr>\n    <tr>\n      <th>1</th>\n      <td>0.435409</td>\n      <td>0.803196</td>\n      <td>0.502721</td>\n      <td>0.755518</td>\n      <td>0.0</td>\n    </tr>\n    <tr>\n      <th>2</th>\n      <td>0.460089</td>\n      <td>0.823208</td>\n      <td>0.560015</td>\n      <td>0.879881</td>\n      <td>0.0</td>\n    </tr>\n    <tr>\n      <th>3</th>\n      <td>0.529822</td>\n      <td>0.801584</td>\n      <td>0.498600</td>\n      <td>0.809547</td>\n      <td>0.0</td>\n    </tr>\n    <tr>\n      <th>4</th>\n      <td>0.402603</td>\n      <td>0.816049</td>\n      <td>0.544891</td>\n      <td>0.875724</td>\n      <td>0.0</td>\n    </tr>\n    <tr>\n      <th>...</th>\n      <td>...</td>\n      <td>...</td>\n      <td>...</td>\n      <td>...</td>\n      <td>...</td>\n    </tr>\n    <tr>\n      <th>2195</th>\n      <td>0.535493</td>\n      <td>0.664133</td>\n      <td>0.484290</td>\n      <td>0.592582</td>\n      <td>1.0</td>\n    </tr>\n    <tr>\n      <th>2196</th>\n      <td>0.548342</td>\n      <td>0.566364</td>\n      <td>0.434780</td>\n      <td>0.426415</td>\n      <td>1.0</td>\n    </tr>\n    <tr>\n      <th>2197</th>\n      <td>0.482636</td>\n      <td>0.672251</td>\n      <td>0.454472</td>\n      <td>0.577743</td>\n      <td>1.0</td>\n    </tr>\n    <tr>\n      <th>2198</th>\n      <td>0.525448</td>\n      <td>0.521274</td>\n      <td>0.482771</td>\n      <td>0.423918</td>\n      <td>1.0</td>\n    </tr>\n    <tr>\n      <th>2199</th>\n      <td>0.472060</td>\n      <td>0.603965</td>\n      <td>0.484274</td>\n      <td>0.469790</td>\n      <td>1.0</td>\n    </tr>\n  </tbody>\n</table>\n<p>2200 rows × 5 columns</p>\n</div>"
     },
     "metadata": {},
     "execution_count": 9
    }
   ],
   "source": [
    "# Label set\n",
    "_fert_N = _fert.pop('N')\n",
    "_fert_P = _fert.pop('P')\n",
    "_fert_K = _fert.pop('K')\n",
    "\n",
    "_fert   # This is our input dataset."
   ]
  },
  {
   "cell_type": "code",
   "execution_count": 10,
   "metadata": {},
   "outputs": [
    {
     "output_type": "stream",
     "name": "stdout",
     "text": [
      "INFO:tensorflow:Enabling eager execution\n",
      "INFO:tensorflow:Enabling v2 tensorshape\n",
      "INFO:tensorflow:Enabling resource variables\n",
      "INFO:tensorflow:Enabling tensor equality\n",
      "INFO:tensorflow:Enabling control flow v2\n"
     ]
    }
   ],
   "source": [
    "import tensorflow as tf\n",
    "dataset_N = tf.data.Dataset.from_tensor_slices((_fert.values, _fert_N.values))\n",
    "dataset_N = dataset_N.shuffle(len(_fert)).batch(1)"
   ]
  },
  {
   "cell_type": "code",
   "execution_count": 11,
   "metadata": {},
   "outputs": [
    {
     "output_type": "stream",
     "name": "stdout",
     "text": [
      "Epoch 1/15\n",
      "2200/2200 [==============================] - 6s 2ms/step - loss: 2.2701 - acc: 0.0053\n",
      "Epoch 2/15\n",
      "2200/2200 [==============================] - 6s 3ms/step - loss: 0.9500 - acc: 0.0055\n",
      "Epoch 3/15\n",
      "2200/2200 [==============================] - 6s 3ms/step - loss: 0.7740 - acc: 0.0101\n",
      "Epoch 4/15\n",
      "2200/2200 [==============================] - 5s 2ms/step - loss: 0.7050 - acc: 0.0081\n",
      "Epoch 5/15\n",
      "2200/2200 [==============================] - 6s 2ms/step - loss: 0.5450 - acc: 0.0056\n",
      "Epoch 6/15\n",
      "2200/2200 [==============================] - 6s 3ms/step - loss: 0.5574 - acc: 0.0073\n",
      "Epoch 7/15\n",
      "2200/2200 [==============================] - 5s 2ms/step - loss: 0.5325 - acc: 0.0140\n",
      "Epoch 8/15\n",
      "2200/2200 [==============================] - 6s 3ms/step - loss: 0.5335 - acc: 0.0093\n",
      "Epoch 9/15\n",
      "2200/2200 [==============================] - 5s 2ms/step - loss: 0.4600 - acc: 0.0122\n",
      "Epoch 10/15\n",
      "2200/2200 [==============================] - 5s 2ms/step - loss: 0.3990 - acc: 0.0136\n",
      "Epoch 11/15\n",
      "2200/2200 [==============================] - 5s 2ms/step - loss: 0.3660 - acc: 0.0089\n",
      "Epoch 12/15\n",
      "2200/2200 [==============================] - 5s 2ms/step - loss: 0.3657 - acc: 0.0122\n",
      "Epoch 13/15\n",
      "2200/2200 [==============================] - 6s 3ms/step - loss: 0.2823 - acc: 0.0120\n",
      "Epoch 14/15\n",
      "2200/2200 [==============================] - 5s 2ms/step - loss: 0.2495 - acc: 0.0104\n",
      "Epoch 15/15\n",
      "2200/2200 [==============================] - 6s 3ms/step - loss: 0.2198 - acc: 0.0122\n"
     ]
    },
    {
     "output_type": "execute_result",
     "data": {
      "text/plain": [
       "<tensorflow.python.keras.callbacks.History at 0x1b9852bb490>"
      ]
     },
     "metadata": {},
     "execution_count": 11
    }
   ],
   "source": [
    "# Define model\n",
    "predict_N = tf.keras.Sequential([\n",
    "    tf.keras.layers.Dense(64, activation=tf.nn.relu),\n",
    "    tf.keras.layers.Dense(1),\n",
    "    tf.keras.layers.Lambda(lambda x: x * 140)\n",
    "])\n",
    "predict_N.compile(\n",
    "    optimizer = 'adam',\n",
    "    loss = tf.keras.losses.MAE,\n",
    "    metrics = ['acc']\n",
    ")\n",
    "\n",
    "predict_N.fit(dataset_N, epochs = 15)\n"
   ]
  },
  {
   "cell_type": "code",
   "execution_count": null,
   "metadata": {},
   "outputs": [],
   "source": []
  }
 ]
}