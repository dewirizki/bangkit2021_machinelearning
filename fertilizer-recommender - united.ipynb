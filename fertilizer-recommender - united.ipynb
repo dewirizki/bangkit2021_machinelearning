{
 "metadata": {
  "language_info": {
   "codemirror_mode": {
    "name": "ipython",
    "version": 3
   },
   "file_extension": ".py",
   "mimetype": "text/x-python",
   "name": "python",
   "nbconvert_exporter": "python",
   "pygments_lexer": "ipython3",
   "version": "3.8.5"
  },
  "orig_nbformat": 2,
  "kernelspec": {
   "name": "python385jvsc74a57bd0fbff9bfab3ee0df4124016b4e010029cf2ec5864ce5e3c4aa09796cc364af95f",
   "display_name": "Python 3.8.5 64-bit (conda)"
  }
 },
 "nbformat": 4,
 "nbformat_minor": 2,
 "cells": [
  {
   "cell_type": "code",
   "execution_count": 1,
   "metadata": {},
   "outputs": [],
   "source": [
    "import pandas as pd\n",
    "import numpy as np\n",
    "from pathlib import PurePosixPath, PureWindowsPath"
   ]
  },
  {
   "cell_type": "code",
   "execution_count": 2,
   "metadata": {},
   "outputs": [],
   "source": [
    "def get_directory(path):\n",
    "    if os.name == 'posix':\n",
    "        return str(PurePosixPath(path))\n",
    "    else:\n",
    "        return str(PureWindowsPath(path))"
   ]
  },
  {
   "cell_type": "code",
   "execution_count": 3,
   "metadata": {},
   "outputs": [],
   "source": [
    "# Variables\n",
    "FERTILIZER_LOCATION = get_directory('./dataset/fertilizer')\n",
    "TRAIN_SPLIT = 0.8\n",
    "INPUT_HEADERS = ['temperature', 'humidity', 'ph', 'rainfall', 'is_maize', 'is_grape', 'is_apple', 'is_orange', 'label']"
   ]
  },
  {
   "cell_type": "code",
   "execution_count": 4,
   "metadata": {},
   "outputs": [
    {
     "output_type": "execute_result",
     "data": {
      "text/plain": [
       "['temperature',\n",
       " 'humidity',\n",
       " 'ph',\n",
       " 'rainfall',\n",
       " 'is_maize',\n",
       " 'is_grape',\n",
       " 'is_apple',\n",
       " 'is_orange',\n",
       " 'label']"
      ]
     },
     "metadata": {},
     "execution_count": 4
    }
   ],
   "source": [
    "INPUT_HEADERS"
   ]
  },
  {
   "cell_type": "code",
   "execution_count": 5,
   "metadata": {},
   "outputs": [],
   "source": [
    "_fert = pd.read_excel(get_directory(FERTILIZER_LOCATION + '/Fertiliser Prediction.xlsx'))"
   ]
  },
  {
   "cell_type": "code",
   "execution_count": 6,
   "metadata": {},
   "outputs": [
    {
     "output_type": "execute_result",
     "data": {
      "text/plain": [
       "    N   P   K  temperature   humidity        ph    rainfall  label\n",
       "0  71  54  16    22.613600  63.690706  5.749914   87.759539  maize\n",
       "1  61  44  17    26.100184  71.574769  6.931757  102.266244  maize\n",
       "2  80  43  16    23.558821  71.593514  6.657965   66.719955  maize\n",
       "3  73  58  21    19.972160  57.682729  6.596061   60.651715  maize\n",
       "4  61  38  20    18.478913  62.695039  5.970458   65.438354  maize"
      ],
      "text/html": "<div>\n<style scoped>\n    .dataframe tbody tr th:only-of-type {\n        vertical-align: middle;\n    }\n\n    .dataframe tbody tr th {\n        vertical-align: top;\n    }\n\n    .dataframe thead th {\n        text-align: right;\n    }\n</style>\n<table border=\"1\" class=\"dataframe\">\n  <thead>\n    <tr style=\"text-align: right;\">\n      <th></th>\n      <th>N</th>\n      <th>P</th>\n      <th>K</th>\n      <th>temperature</th>\n      <th>humidity</th>\n      <th>ph</th>\n      <th>rainfall</th>\n      <th>label</th>\n    </tr>\n  </thead>\n  <tbody>\n    <tr>\n      <th>0</th>\n      <td>71</td>\n      <td>54</td>\n      <td>16</td>\n      <td>22.613600</td>\n      <td>63.690706</td>\n      <td>5.749914</td>\n      <td>87.759539</td>\n      <td>maize</td>\n    </tr>\n    <tr>\n      <th>1</th>\n      <td>61</td>\n      <td>44</td>\n      <td>17</td>\n      <td>26.100184</td>\n      <td>71.574769</td>\n      <td>6.931757</td>\n      <td>102.266244</td>\n      <td>maize</td>\n    </tr>\n    <tr>\n      <th>2</th>\n      <td>80</td>\n      <td>43</td>\n      <td>16</td>\n      <td>23.558821</td>\n      <td>71.593514</td>\n      <td>6.657965</td>\n      <td>66.719955</td>\n      <td>maize</td>\n    </tr>\n    <tr>\n      <th>3</th>\n      <td>73</td>\n      <td>58</td>\n      <td>21</td>\n      <td>19.972160</td>\n      <td>57.682729</td>\n      <td>6.596061</td>\n      <td>60.651715</td>\n      <td>maize</td>\n    </tr>\n    <tr>\n      <th>4</th>\n      <td>61</td>\n      <td>38</td>\n      <td>20</td>\n      <td>18.478913</td>\n      <td>62.695039</td>\n      <td>5.970458</td>\n      <td>65.438354</td>\n      <td>maize</td>\n    </tr>\n  </tbody>\n</table>\n</div>"
     },
     "metadata": {},
     "execution_count": 6
    }
   ],
   "source": [
    "_fert.head()"
   ]
  },
  {
   "cell_type": "code",
   "execution_count": 7,
   "metadata": {},
   "outputs": [
    {
     "output_type": "execute_result",
     "data": {
      "text/plain": [
       "N                int64\n",
       "P                int64\n",
       "K                int64\n",
       "temperature    float64\n",
       "humidity       float64\n",
       "ph             float64\n",
       "rainfall       float64\n",
       "label           object\n",
       "dtype: object"
      ]
     },
     "metadata": {},
     "execution_count": 7
    }
   ],
   "source": [
    "_fert.dtypes"
   ]
  },
  {
   "cell_type": "code",
   "execution_count": 8,
   "metadata": {},
   "outputs": [],
   "source": [
    "#_fert['label'] = pd.Categorical(_fert['label'])\n",
    "#_fert['label'] = _fert.label.cat.codes"
   ]
  },
  {
   "cell_type": "code",
   "execution_count": 9,
   "metadata": {},
   "outputs": [
    {
     "output_type": "execute_result",
     "data": {
      "text/plain": [
       "      N   P   K  temperature   humidity        ph    rainfall   label\n",
       "0    71  54  16    22.613600  63.690706  5.749914   87.759539   maize\n",
       "1    61  44  17    26.100184  71.574769  6.931757  102.266244   maize\n",
       "2    80  43  16    23.558821  71.593514  6.657965   66.719955   maize\n",
       "3    73  58  21    19.972160  57.682729  6.596061   60.651715   maize\n",
       "4    61  38  20    18.478913  62.695039  5.970458   65.438354   maize\n",
       "..   ..  ..  ..          ...        ...       ...         ...     ...\n",
       "395  27  30   5    32.717485  90.546083  7.656978  113.328978  orange\n",
       "396  13   8  12    25.162966  92.547360  7.105905  114.311720  orange\n",
       "397   6   7   7    27.681673  94.473169  7.199106  113.999515  orange\n",
       "398  40  17  15    21.350934  90.949297  7.871063  107.086209  orange\n",
       "399  31  26   9    11.698946  93.256389  7.566166  103.200599  orange\n",
       "\n",
       "[400 rows x 8 columns]"
      ],
      "text/html": "<div>\n<style scoped>\n    .dataframe tbody tr th:only-of-type {\n        vertical-align: middle;\n    }\n\n    .dataframe tbody tr th {\n        vertical-align: top;\n    }\n\n    .dataframe thead th {\n        text-align: right;\n    }\n</style>\n<table border=\"1\" class=\"dataframe\">\n  <thead>\n    <tr style=\"text-align: right;\">\n      <th></th>\n      <th>N</th>\n      <th>P</th>\n      <th>K</th>\n      <th>temperature</th>\n      <th>humidity</th>\n      <th>ph</th>\n      <th>rainfall</th>\n      <th>label</th>\n    </tr>\n  </thead>\n  <tbody>\n    <tr>\n      <th>0</th>\n      <td>71</td>\n      <td>54</td>\n      <td>16</td>\n      <td>22.613600</td>\n      <td>63.690706</td>\n      <td>5.749914</td>\n      <td>87.759539</td>\n      <td>maize</td>\n    </tr>\n    <tr>\n      <th>1</th>\n      <td>61</td>\n      <td>44</td>\n      <td>17</td>\n      <td>26.100184</td>\n      <td>71.574769</td>\n      <td>6.931757</td>\n      <td>102.266244</td>\n      <td>maize</td>\n    </tr>\n    <tr>\n      <th>2</th>\n      <td>80</td>\n      <td>43</td>\n      <td>16</td>\n      <td>23.558821</td>\n      <td>71.593514</td>\n      <td>6.657965</td>\n      <td>66.719955</td>\n      <td>maize</td>\n    </tr>\n    <tr>\n      <th>3</th>\n      <td>73</td>\n      <td>58</td>\n      <td>21</td>\n      <td>19.972160</td>\n      <td>57.682729</td>\n      <td>6.596061</td>\n      <td>60.651715</td>\n      <td>maize</td>\n    </tr>\n    <tr>\n      <th>4</th>\n      <td>61</td>\n      <td>38</td>\n      <td>20</td>\n      <td>18.478913</td>\n      <td>62.695039</td>\n      <td>5.970458</td>\n      <td>65.438354</td>\n      <td>maize</td>\n    </tr>\n    <tr>\n      <th>...</th>\n      <td>...</td>\n      <td>...</td>\n      <td>...</td>\n      <td>...</td>\n      <td>...</td>\n      <td>...</td>\n      <td>...</td>\n      <td>...</td>\n    </tr>\n    <tr>\n      <th>395</th>\n      <td>27</td>\n      <td>30</td>\n      <td>5</td>\n      <td>32.717485</td>\n      <td>90.546083</td>\n      <td>7.656978</td>\n      <td>113.328978</td>\n      <td>orange</td>\n    </tr>\n    <tr>\n      <th>396</th>\n      <td>13</td>\n      <td>8</td>\n      <td>12</td>\n      <td>25.162966</td>\n      <td>92.547360</td>\n      <td>7.105905</td>\n      <td>114.311720</td>\n      <td>orange</td>\n    </tr>\n    <tr>\n      <th>397</th>\n      <td>6</td>\n      <td>7</td>\n      <td>7</td>\n      <td>27.681673</td>\n      <td>94.473169</td>\n      <td>7.199106</td>\n      <td>113.999515</td>\n      <td>orange</td>\n    </tr>\n    <tr>\n      <th>398</th>\n      <td>40</td>\n      <td>17</td>\n      <td>15</td>\n      <td>21.350934</td>\n      <td>90.949297</td>\n      <td>7.871063</td>\n      <td>107.086209</td>\n      <td>orange</td>\n    </tr>\n    <tr>\n      <th>399</th>\n      <td>31</td>\n      <td>26</td>\n      <td>9</td>\n      <td>11.698946</td>\n      <td>93.256389</td>\n      <td>7.566166</td>\n      <td>103.200599</td>\n      <td>orange</td>\n    </tr>\n  </tbody>\n</table>\n<p>400 rows × 8 columns</p>\n</div>"
     },
     "metadata": {},
     "execution_count": 9
    }
   ],
   "source": [
    "# Sanity check - now Label should be gone, replaced by one-hot encodings\n",
    "_fert"
   ]
  },
  {
   "cell_type": "code",
   "execution_count": 10,
   "metadata": {},
   "outputs": [
    {
     "output_type": "execute_result",
     "data": {
      "text/plain": [
       "    N   P   K  temperature   humidity        ph    rainfall  label\n",
       "0  71  54  16    22.613600  63.690706  5.749914   87.759539  maize\n",
       "1  61  44  17    26.100184  71.574769  6.931757  102.266244  maize\n",
       "2  80  43  16    23.558821  71.593514  6.657965   66.719955  maize\n",
       "3  73  58  21    19.972160  57.682729  6.596061   60.651715  maize\n",
       "4  61  38  20    18.478913  62.695039  5.970458   65.438354  maize"
      ],
      "text/html": "<div>\n<style scoped>\n    .dataframe tbody tr th:only-of-type {\n        vertical-align: middle;\n    }\n\n    .dataframe tbody tr th {\n        vertical-align: top;\n    }\n\n    .dataframe thead th {\n        text-align: right;\n    }\n</style>\n<table border=\"1\" class=\"dataframe\">\n  <thead>\n    <tr style=\"text-align: right;\">\n      <th></th>\n      <th>N</th>\n      <th>P</th>\n      <th>K</th>\n      <th>temperature</th>\n      <th>humidity</th>\n      <th>ph</th>\n      <th>rainfall</th>\n      <th>label</th>\n    </tr>\n  </thead>\n  <tbody>\n    <tr>\n      <th>0</th>\n      <td>71</td>\n      <td>54</td>\n      <td>16</td>\n      <td>22.613600</td>\n      <td>63.690706</td>\n      <td>5.749914</td>\n      <td>87.759539</td>\n      <td>maize</td>\n    </tr>\n    <tr>\n      <th>1</th>\n      <td>61</td>\n      <td>44</td>\n      <td>17</td>\n      <td>26.100184</td>\n      <td>71.574769</td>\n      <td>6.931757</td>\n      <td>102.266244</td>\n      <td>maize</td>\n    </tr>\n    <tr>\n      <th>2</th>\n      <td>80</td>\n      <td>43</td>\n      <td>16</td>\n      <td>23.558821</td>\n      <td>71.593514</td>\n      <td>6.657965</td>\n      <td>66.719955</td>\n      <td>maize</td>\n    </tr>\n    <tr>\n      <th>3</th>\n      <td>73</td>\n      <td>58</td>\n      <td>21</td>\n      <td>19.972160</td>\n      <td>57.682729</td>\n      <td>6.596061</td>\n      <td>60.651715</td>\n      <td>maize</td>\n    </tr>\n    <tr>\n      <th>4</th>\n      <td>61</td>\n      <td>38</td>\n      <td>20</td>\n      <td>18.478913</td>\n      <td>62.695039</td>\n      <td>5.970458</td>\n      <td>65.438354</td>\n      <td>maize</td>\n    </tr>\n  </tbody>\n</table>\n</div>"
     },
     "metadata": {},
     "execution_count": 10
    }
   ],
   "source": [
    "_fert.head()"
   ]
  },
  {
   "cell_type": "code",
   "execution_count": 11,
   "metadata": {},
   "outputs": [],
   "source": [
    "_fert_N = _fert[['N', 'temperature', 'humidity', 'ph', 'rainfall', 'label']].copy()\n",
    "_fert_P = _fert[['P', 'temperature', 'humidity', 'ph', 'rainfall', 'label']].copy()\n",
    "_fert_K = _fert[['K', 'temperature', 'humidity', 'ph', 'rainfall', 'label']].copy()"
   ]
  },
  {
   "cell_type": "code",
   "execution_count": 12,
   "metadata": {},
   "outputs": [],
   "source": [
    "# Labelling representation of each data\n",
    "_fert_N.loc[:, 'target_output'] = 'N'\n",
    "_fert_P.loc[:, 'target_output'] = 'P'\n",
    "_fert_K.loc[:, 'target_output'] = 'K'\n",
    "\n",
    "_fert_N.rename(columns = {'N': 'output'}, inplace=True)\n",
    "_fert_P.rename(columns = {'P': 'output'}, inplace=True)\n",
    "_fert_K.rename(columns = {'K': 'output'}, inplace=True)"
   ]
  },
  {
   "cell_type": "code",
   "execution_count": 13,
   "metadata": {},
   "outputs": [
    {
     "output_type": "execute_result",
     "data": {
      "text/plain": [
       "     output  temperature   humidity        ph    rainfall   label  \\\n",
       "0        71    22.613600  63.690706  5.749914   87.759539   maize   \n",
       "1        61    26.100184  71.574769  6.931757  102.266244   maize   \n",
       "2        80    23.558821  71.593514  6.657965   66.719955   maize   \n",
       "3        73    19.972160  57.682729  6.596061   60.651715   maize   \n",
       "4        61    18.478913  62.695039  5.970458   65.438354   maize   \n",
       "..      ...          ...        ...       ...         ...     ...   \n",
       "395      27    32.717485  90.546083  7.656978  113.328978  orange   \n",
       "396      13    25.162966  92.547360  7.105905  114.311720  orange   \n",
       "397       6    27.681673  94.473169  7.199106  113.999515  orange   \n",
       "398      40    21.350934  90.949297  7.871063  107.086209  orange   \n",
       "399      31    11.698946  93.256389  7.566166  103.200599  orange   \n",
       "\n",
       "    target_output  \n",
       "0               N  \n",
       "1               N  \n",
       "2               N  \n",
       "3               N  \n",
       "4               N  \n",
       "..            ...  \n",
       "395             N  \n",
       "396             N  \n",
       "397             N  \n",
       "398             N  \n",
       "399             N  \n",
       "\n",
       "[400 rows x 7 columns]"
      ],
      "text/html": "<div>\n<style scoped>\n    .dataframe tbody tr th:only-of-type {\n        vertical-align: middle;\n    }\n\n    .dataframe tbody tr th {\n        vertical-align: top;\n    }\n\n    .dataframe thead th {\n        text-align: right;\n    }\n</style>\n<table border=\"1\" class=\"dataframe\">\n  <thead>\n    <tr style=\"text-align: right;\">\n      <th></th>\n      <th>output</th>\n      <th>temperature</th>\n      <th>humidity</th>\n      <th>ph</th>\n      <th>rainfall</th>\n      <th>label</th>\n      <th>target_output</th>\n    </tr>\n  </thead>\n  <tbody>\n    <tr>\n      <th>0</th>\n      <td>71</td>\n      <td>22.613600</td>\n      <td>63.690706</td>\n      <td>5.749914</td>\n      <td>87.759539</td>\n      <td>maize</td>\n      <td>N</td>\n    </tr>\n    <tr>\n      <th>1</th>\n      <td>61</td>\n      <td>26.100184</td>\n      <td>71.574769</td>\n      <td>6.931757</td>\n      <td>102.266244</td>\n      <td>maize</td>\n      <td>N</td>\n    </tr>\n    <tr>\n      <th>2</th>\n      <td>80</td>\n      <td>23.558821</td>\n      <td>71.593514</td>\n      <td>6.657965</td>\n      <td>66.719955</td>\n      <td>maize</td>\n      <td>N</td>\n    </tr>\n    <tr>\n      <th>3</th>\n      <td>73</td>\n      <td>19.972160</td>\n      <td>57.682729</td>\n      <td>6.596061</td>\n      <td>60.651715</td>\n      <td>maize</td>\n      <td>N</td>\n    </tr>\n    <tr>\n      <th>4</th>\n      <td>61</td>\n      <td>18.478913</td>\n      <td>62.695039</td>\n      <td>5.970458</td>\n      <td>65.438354</td>\n      <td>maize</td>\n      <td>N</td>\n    </tr>\n    <tr>\n      <th>...</th>\n      <td>...</td>\n      <td>...</td>\n      <td>...</td>\n      <td>...</td>\n      <td>...</td>\n      <td>...</td>\n      <td>...</td>\n    </tr>\n    <tr>\n      <th>395</th>\n      <td>27</td>\n      <td>32.717485</td>\n      <td>90.546083</td>\n      <td>7.656978</td>\n      <td>113.328978</td>\n      <td>orange</td>\n      <td>N</td>\n    </tr>\n    <tr>\n      <th>396</th>\n      <td>13</td>\n      <td>25.162966</td>\n      <td>92.547360</td>\n      <td>7.105905</td>\n      <td>114.311720</td>\n      <td>orange</td>\n      <td>N</td>\n    </tr>\n    <tr>\n      <th>397</th>\n      <td>6</td>\n      <td>27.681673</td>\n      <td>94.473169</td>\n      <td>7.199106</td>\n      <td>113.999515</td>\n      <td>orange</td>\n      <td>N</td>\n    </tr>\n    <tr>\n      <th>398</th>\n      <td>40</td>\n      <td>21.350934</td>\n      <td>90.949297</td>\n      <td>7.871063</td>\n      <td>107.086209</td>\n      <td>orange</td>\n      <td>N</td>\n    </tr>\n    <tr>\n      <th>399</th>\n      <td>31</td>\n      <td>11.698946</td>\n      <td>93.256389</td>\n      <td>7.566166</td>\n      <td>103.200599</td>\n      <td>orange</td>\n      <td>N</td>\n    </tr>\n  </tbody>\n</table>\n<p>400 rows × 7 columns</p>\n</div>"
     },
     "metadata": {},
     "execution_count": 13
    }
   ],
   "source": [
    "# Sanity check\n",
    "_fert_N"
   ]
  },
  {
   "cell_type": "code",
   "execution_count": 14,
   "metadata": {},
   "outputs": [
    {
     "output_type": "execute_result",
     "data": {
      "text/plain": [
       "     output  temperature   humidity        ph    rainfall   label  \\\n",
       "0        16    22.613600  63.690706  5.749914   87.759539   maize   \n",
       "1        17    26.100184  71.574769  6.931757  102.266244   maize   \n",
       "2        16    23.558821  71.593514  6.657965   66.719955   maize   \n",
       "3        21    19.972160  57.682729  6.596061   60.651715   maize   \n",
       "4        20    18.478913  62.695039  5.970458   65.438354   maize   \n",
       "..      ...          ...        ...       ...         ...     ...   \n",
       "395       5    32.717485  90.546083  7.656978  113.328978  orange   \n",
       "396      12    25.162966  92.547360  7.105905  114.311720  orange   \n",
       "397       7    27.681673  94.473169  7.199106  113.999515  orange   \n",
       "398      15    21.350934  90.949297  7.871063  107.086209  orange   \n",
       "399       9    11.698946  93.256389  7.566166  103.200599  orange   \n",
       "\n",
       "    target_output  \n",
       "0               K  \n",
       "1               K  \n",
       "2               K  \n",
       "3               K  \n",
       "4               K  \n",
       "..            ...  \n",
       "395             K  \n",
       "396             K  \n",
       "397             K  \n",
       "398             K  \n",
       "399             K  \n",
       "\n",
       "[400 rows x 7 columns]"
      ],
      "text/html": "<div>\n<style scoped>\n    .dataframe tbody tr th:only-of-type {\n        vertical-align: middle;\n    }\n\n    .dataframe tbody tr th {\n        vertical-align: top;\n    }\n\n    .dataframe thead th {\n        text-align: right;\n    }\n</style>\n<table border=\"1\" class=\"dataframe\">\n  <thead>\n    <tr style=\"text-align: right;\">\n      <th></th>\n      <th>output</th>\n      <th>temperature</th>\n      <th>humidity</th>\n      <th>ph</th>\n      <th>rainfall</th>\n      <th>label</th>\n      <th>target_output</th>\n    </tr>\n  </thead>\n  <tbody>\n    <tr>\n      <th>0</th>\n      <td>16</td>\n      <td>22.613600</td>\n      <td>63.690706</td>\n      <td>5.749914</td>\n      <td>87.759539</td>\n      <td>maize</td>\n      <td>K</td>\n    </tr>\n    <tr>\n      <th>1</th>\n      <td>17</td>\n      <td>26.100184</td>\n      <td>71.574769</td>\n      <td>6.931757</td>\n      <td>102.266244</td>\n      <td>maize</td>\n      <td>K</td>\n    </tr>\n    <tr>\n      <th>2</th>\n      <td>16</td>\n      <td>23.558821</td>\n      <td>71.593514</td>\n      <td>6.657965</td>\n      <td>66.719955</td>\n      <td>maize</td>\n      <td>K</td>\n    </tr>\n    <tr>\n      <th>3</th>\n      <td>21</td>\n      <td>19.972160</td>\n      <td>57.682729</td>\n      <td>6.596061</td>\n      <td>60.651715</td>\n      <td>maize</td>\n      <td>K</td>\n    </tr>\n    <tr>\n      <th>4</th>\n      <td>20</td>\n      <td>18.478913</td>\n      <td>62.695039</td>\n      <td>5.970458</td>\n      <td>65.438354</td>\n      <td>maize</td>\n      <td>K</td>\n    </tr>\n    <tr>\n      <th>...</th>\n      <td>...</td>\n      <td>...</td>\n      <td>...</td>\n      <td>...</td>\n      <td>...</td>\n      <td>...</td>\n      <td>...</td>\n    </tr>\n    <tr>\n      <th>395</th>\n      <td>5</td>\n      <td>32.717485</td>\n      <td>90.546083</td>\n      <td>7.656978</td>\n      <td>113.328978</td>\n      <td>orange</td>\n      <td>K</td>\n    </tr>\n    <tr>\n      <th>396</th>\n      <td>12</td>\n      <td>25.162966</td>\n      <td>92.547360</td>\n      <td>7.105905</td>\n      <td>114.311720</td>\n      <td>orange</td>\n      <td>K</td>\n    </tr>\n    <tr>\n      <th>397</th>\n      <td>7</td>\n      <td>27.681673</td>\n      <td>94.473169</td>\n      <td>7.199106</td>\n      <td>113.999515</td>\n      <td>orange</td>\n      <td>K</td>\n    </tr>\n    <tr>\n      <th>398</th>\n      <td>15</td>\n      <td>21.350934</td>\n      <td>90.949297</td>\n      <td>7.871063</td>\n      <td>107.086209</td>\n      <td>orange</td>\n      <td>K</td>\n    </tr>\n    <tr>\n      <th>399</th>\n      <td>9</td>\n      <td>11.698946</td>\n      <td>93.256389</td>\n      <td>7.566166</td>\n      <td>103.200599</td>\n      <td>orange</td>\n      <td>K</td>\n    </tr>\n  </tbody>\n</table>\n<p>400 rows × 7 columns</p>\n</div>"
     },
     "metadata": {},
     "execution_count": 14
    }
   ],
   "source": [
    "_fert_K"
   ]
  },
  {
   "cell_type": "code",
   "execution_count": 15,
   "metadata": {},
   "outputs": [
    {
     "output_type": "execute_result",
     "data": {
      "text/plain": [
       "      output  temperature   humidity        ph    rainfall   label  \\\n",
       "0         71    22.613600  63.690706  5.749914   87.759539   maize   \n",
       "1         61    26.100184  71.574769  6.931757  102.266244   maize   \n",
       "2         80    23.558821  71.593514  6.657965   66.719955   maize   \n",
       "3         73    19.972160  57.682729  6.596061   60.651715   maize   \n",
       "4         61    18.478913  62.695039  5.970458   65.438354   maize   \n",
       "...      ...          ...        ...       ...         ...     ...   \n",
       "1195       5    32.717485  90.546083  7.656978  113.328978  orange   \n",
       "1196      12    25.162966  92.547360  7.105905  114.311720  orange   \n",
       "1197       7    27.681673  94.473169  7.199106  113.999515  orange   \n",
       "1198      15    21.350934  90.949297  7.871063  107.086209  orange   \n",
       "1199       9    11.698946  93.256389  7.566166  103.200599  orange   \n",
       "\n",
       "     target_output  \n",
       "0                N  \n",
       "1                N  \n",
       "2                N  \n",
       "3                N  \n",
       "4                N  \n",
       "...            ...  \n",
       "1195             K  \n",
       "1196             K  \n",
       "1197             K  \n",
       "1198             K  \n",
       "1199             K  \n",
       "\n",
       "[1200 rows x 7 columns]"
      ],
      "text/html": "<div>\n<style scoped>\n    .dataframe tbody tr th:only-of-type {\n        vertical-align: middle;\n    }\n\n    .dataframe tbody tr th {\n        vertical-align: top;\n    }\n\n    .dataframe thead th {\n        text-align: right;\n    }\n</style>\n<table border=\"1\" class=\"dataframe\">\n  <thead>\n    <tr style=\"text-align: right;\">\n      <th></th>\n      <th>output</th>\n      <th>temperature</th>\n      <th>humidity</th>\n      <th>ph</th>\n      <th>rainfall</th>\n      <th>label</th>\n      <th>target_output</th>\n    </tr>\n  </thead>\n  <tbody>\n    <tr>\n      <th>0</th>\n      <td>71</td>\n      <td>22.613600</td>\n      <td>63.690706</td>\n      <td>5.749914</td>\n      <td>87.759539</td>\n      <td>maize</td>\n      <td>N</td>\n    </tr>\n    <tr>\n      <th>1</th>\n      <td>61</td>\n      <td>26.100184</td>\n      <td>71.574769</td>\n      <td>6.931757</td>\n      <td>102.266244</td>\n      <td>maize</td>\n      <td>N</td>\n    </tr>\n    <tr>\n      <th>2</th>\n      <td>80</td>\n      <td>23.558821</td>\n      <td>71.593514</td>\n      <td>6.657965</td>\n      <td>66.719955</td>\n      <td>maize</td>\n      <td>N</td>\n    </tr>\n    <tr>\n      <th>3</th>\n      <td>73</td>\n      <td>19.972160</td>\n      <td>57.682729</td>\n      <td>6.596061</td>\n      <td>60.651715</td>\n      <td>maize</td>\n      <td>N</td>\n    </tr>\n    <tr>\n      <th>4</th>\n      <td>61</td>\n      <td>18.478913</td>\n      <td>62.695039</td>\n      <td>5.970458</td>\n      <td>65.438354</td>\n      <td>maize</td>\n      <td>N</td>\n    </tr>\n    <tr>\n      <th>...</th>\n      <td>...</td>\n      <td>...</td>\n      <td>...</td>\n      <td>...</td>\n      <td>...</td>\n      <td>...</td>\n      <td>...</td>\n    </tr>\n    <tr>\n      <th>1195</th>\n      <td>5</td>\n      <td>32.717485</td>\n      <td>90.546083</td>\n      <td>7.656978</td>\n      <td>113.328978</td>\n      <td>orange</td>\n      <td>K</td>\n    </tr>\n    <tr>\n      <th>1196</th>\n      <td>12</td>\n      <td>25.162966</td>\n      <td>92.547360</td>\n      <td>7.105905</td>\n      <td>114.311720</td>\n      <td>orange</td>\n      <td>K</td>\n    </tr>\n    <tr>\n      <th>1197</th>\n      <td>7</td>\n      <td>27.681673</td>\n      <td>94.473169</td>\n      <td>7.199106</td>\n      <td>113.999515</td>\n      <td>orange</td>\n      <td>K</td>\n    </tr>\n    <tr>\n      <th>1198</th>\n      <td>15</td>\n      <td>21.350934</td>\n      <td>90.949297</td>\n      <td>7.871063</td>\n      <td>107.086209</td>\n      <td>orange</td>\n      <td>K</td>\n    </tr>\n    <tr>\n      <th>1199</th>\n      <td>9</td>\n      <td>11.698946</td>\n      <td>93.256389</td>\n      <td>7.566166</td>\n      <td>103.200599</td>\n      <td>orange</td>\n      <td>K</td>\n    </tr>\n  </tbody>\n</table>\n<p>1200 rows × 7 columns</p>\n</div>"
     },
     "metadata": {},
     "execution_count": 15
    }
   ],
   "source": [
    "FERTILISER = _fert_N.copy()\n",
    "FERTILISER = FERTILISER.append(\n",
    "    _fert_P, \n",
    "    ignore_index=True).append(\n",
    "        _fert_K,\n",
    "        ignore_index=True\n",
    "    )\n",
    "\n",
    "FERTILISER"
   ]
  },
  {
   "cell_type": "code",
   "execution_count": 16,
   "metadata": {},
   "outputs": [
    {
     "output_type": "execute_result",
     "data": {
      "text/plain": [
       "            output  temperature     humidity           ph     rainfall\n",
       "count  1200.000000  1200.000000  1200.000000  1200.000000  1200.000000\n",
       "mean     75.238333    22.908862    82.867767     6.304437    94.377141\n",
       "std      70.161186     6.253690    11.493721     0.588955    20.189610\n",
       "min       0.000000     8.825675    55.282204     5.510925    60.651715\n",
       "25%      17.000000    19.723364    78.719580     5.839879    71.424148\n",
       "50%      39.000000    22.705257    86.994867     6.206827   102.626226\n",
       "75%     135.000000    25.190546    92.049560     6.552920   111.777102\n",
       "max     205.000000    41.948657    94.964199     7.995849   124.983162"
      ],
      "text/html": "<div>\n<style scoped>\n    .dataframe tbody tr th:only-of-type {\n        vertical-align: middle;\n    }\n\n    .dataframe tbody tr th {\n        vertical-align: top;\n    }\n\n    .dataframe thead th {\n        text-align: right;\n    }\n</style>\n<table border=\"1\" class=\"dataframe\">\n  <thead>\n    <tr style=\"text-align: right;\">\n      <th></th>\n      <th>output</th>\n      <th>temperature</th>\n      <th>humidity</th>\n      <th>ph</th>\n      <th>rainfall</th>\n    </tr>\n  </thead>\n  <tbody>\n    <tr>\n      <th>count</th>\n      <td>1200.000000</td>\n      <td>1200.000000</td>\n      <td>1200.000000</td>\n      <td>1200.000000</td>\n      <td>1200.000000</td>\n    </tr>\n    <tr>\n      <th>mean</th>\n      <td>75.238333</td>\n      <td>22.908862</td>\n      <td>82.867767</td>\n      <td>6.304437</td>\n      <td>94.377141</td>\n    </tr>\n    <tr>\n      <th>std</th>\n      <td>70.161186</td>\n      <td>6.253690</td>\n      <td>11.493721</td>\n      <td>0.588955</td>\n      <td>20.189610</td>\n    </tr>\n    <tr>\n      <th>min</th>\n      <td>0.000000</td>\n      <td>8.825675</td>\n      <td>55.282204</td>\n      <td>5.510925</td>\n      <td>60.651715</td>\n    </tr>\n    <tr>\n      <th>25%</th>\n      <td>17.000000</td>\n      <td>19.723364</td>\n      <td>78.719580</td>\n      <td>5.839879</td>\n      <td>71.424148</td>\n    </tr>\n    <tr>\n      <th>50%</th>\n      <td>39.000000</td>\n      <td>22.705257</td>\n      <td>86.994867</td>\n      <td>6.206827</td>\n      <td>102.626226</td>\n    </tr>\n    <tr>\n      <th>75%</th>\n      <td>135.000000</td>\n      <td>25.190546</td>\n      <td>92.049560</td>\n      <td>6.552920</td>\n      <td>111.777102</td>\n    </tr>\n    <tr>\n      <th>max</th>\n      <td>205.000000</td>\n      <td>41.948657</td>\n      <td>94.964199</td>\n      <td>7.995849</td>\n      <td>124.983162</td>\n    </tr>\n  </tbody>\n</table>\n</div>"
     },
     "metadata": {},
     "execution_count": 16
    }
   ],
   "source": [
    "# Data to see before deciding on normalisation: max values\n",
    "FERTILISER.describe()"
   ]
  },
  {
   "cell_type": "code",
   "execution_count": 17,
   "metadata": {},
   "outputs": [
    {
     "output_type": "execute_result",
     "data": {
      "text/plain": [
       "      output  temperature   humidity        ph    rainfall   label  \\\n",
       "0         71    22.613600  63.690706  5.749914   87.759539   maize   \n",
       "1         61    26.100184  71.574769  6.931757  102.266244   maize   \n",
       "2         80    23.558821  71.593514  6.657965   66.719955   maize   \n",
       "3         73    19.972160  57.682729  6.596061   60.651715   maize   \n",
       "4         61    18.478913  62.695039  5.970458   65.438354   maize   \n",
       "...      ...          ...        ...       ...         ...     ...   \n",
       "1195       5    32.717485  90.546083  7.656978  113.328978  orange   \n",
       "1196      12    25.162966  92.547360  7.105905  114.311720  orange   \n",
       "1197       7    27.681673  94.473169  7.199106  113.999515  orange   \n",
       "1198      15    21.350934  90.949297  7.871063  107.086209  orange   \n",
       "1199       9    11.698946  93.256389  7.566166  103.200599  orange   \n",
       "\n",
       "     target_output  \n",
       "0                N  \n",
       "1                N  \n",
       "2                N  \n",
       "3                N  \n",
       "4                N  \n",
       "...            ...  \n",
       "1195             K  \n",
       "1196             K  \n",
       "1197             K  \n",
       "1198             K  \n",
       "1199             K  \n",
       "\n",
       "[1200 rows x 7 columns]"
      ],
      "text/html": "<div>\n<style scoped>\n    .dataframe tbody tr th:only-of-type {\n        vertical-align: middle;\n    }\n\n    .dataframe tbody tr th {\n        vertical-align: top;\n    }\n\n    .dataframe thead th {\n        text-align: right;\n    }\n</style>\n<table border=\"1\" class=\"dataframe\">\n  <thead>\n    <tr style=\"text-align: right;\">\n      <th></th>\n      <th>output</th>\n      <th>temperature</th>\n      <th>humidity</th>\n      <th>ph</th>\n      <th>rainfall</th>\n      <th>label</th>\n      <th>target_output</th>\n    </tr>\n  </thead>\n  <tbody>\n    <tr>\n      <th>0</th>\n      <td>71</td>\n      <td>22.613600</td>\n      <td>63.690706</td>\n      <td>5.749914</td>\n      <td>87.759539</td>\n      <td>maize</td>\n      <td>N</td>\n    </tr>\n    <tr>\n      <th>1</th>\n      <td>61</td>\n      <td>26.100184</td>\n      <td>71.574769</td>\n      <td>6.931757</td>\n      <td>102.266244</td>\n      <td>maize</td>\n      <td>N</td>\n    </tr>\n    <tr>\n      <th>2</th>\n      <td>80</td>\n      <td>23.558821</td>\n      <td>71.593514</td>\n      <td>6.657965</td>\n      <td>66.719955</td>\n      <td>maize</td>\n      <td>N</td>\n    </tr>\n    <tr>\n      <th>3</th>\n      <td>73</td>\n      <td>19.972160</td>\n      <td>57.682729</td>\n      <td>6.596061</td>\n      <td>60.651715</td>\n      <td>maize</td>\n      <td>N</td>\n    </tr>\n    <tr>\n      <th>4</th>\n      <td>61</td>\n      <td>18.478913</td>\n      <td>62.695039</td>\n      <td>5.970458</td>\n      <td>65.438354</td>\n      <td>maize</td>\n      <td>N</td>\n    </tr>\n    <tr>\n      <th>...</th>\n      <td>...</td>\n      <td>...</td>\n      <td>...</td>\n      <td>...</td>\n      <td>...</td>\n      <td>...</td>\n      <td>...</td>\n    </tr>\n    <tr>\n      <th>1195</th>\n      <td>5</td>\n      <td>32.717485</td>\n      <td>90.546083</td>\n      <td>7.656978</td>\n      <td>113.328978</td>\n      <td>orange</td>\n      <td>K</td>\n    </tr>\n    <tr>\n      <th>1196</th>\n      <td>12</td>\n      <td>25.162966</td>\n      <td>92.547360</td>\n      <td>7.105905</td>\n      <td>114.311720</td>\n      <td>orange</td>\n      <td>K</td>\n    </tr>\n    <tr>\n      <th>1197</th>\n      <td>7</td>\n      <td>27.681673</td>\n      <td>94.473169</td>\n      <td>7.199106</td>\n      <td>113.999515</td>\n      <td>orange</td>\n      <td>K</td>\n    </tr>\n    <tr>\n      <th>1198</th>\n      <td>15</td>\n      <td>21.350934</td>\n      <td>90.949297</td>\n      <td>7.871063</td>\n      <td>107.086209</td>\n      <td>orange</td>\n      <td>K</td>\n    </tr>\n    <tr>\n      <th>1199</th>\n      <td>9</td>\n      <td>11.698946</td>\n      <td>93.256389</td>\n      <td>7.566166</td>\n      <td>103.200599</td>\n      <td>orange</td>\n      <td>K</td>\n    </tr>\n  </tbody>\n</table>\n<p>1200 rows × 7 columns</p>\n</div>"
     },
     "metadata": {},
     "execution_count": 17
    }
   ],
   "source": [
    "FERTILISER.reset_index().drop('index', axis=1)"
   ]
  },
  {
   "cell_type": "code",
   "execution_count": 18,
   "metadata": {},
   "outputs": [
    {
     "output_type": "execute_result",
     "data": {
      "text/plain": [
       "1200"
      ]
     },
     "metadata": {},
     "execution_count": 18
    }
   ],
   "source": [
    "len(FERTILISER)"
   ]
  },
  {
   "cell_type": "code",
   "execution_count": 19,
   "metadata": {},
   "outputs": [],
   "source": [
    "# manually normalise\n",
    "#FERTILISER.loc[:, 'output'] = FERTILISER['output'] / 205\n",
    "#FERTILISER.loc[:, 'temperature'] = FERTILISER['temperature'] / 42\n",
    "#FERTILISER.loc[:, 'humidity'] = FERTILISER['humidity'] / 95\n",
    "#FERTILISER.loc[:, 'ph'] = FERTILISER['ph'] / 8\n",
    "#FERTILISER.loc[:, 'rainfall'] = FERTILISER['rainfall'] / 125"
   ]
  },
  {
   "cell_type": "code",
   "execution_count": 20,
   "metadata": {},
   "outputs": [],
   "source": [
    "FERTILISER = FERTILISER.sample(frac=1).reset_index().drop('index', axis=1)\n",
    "\n",
    "FERTILISER_TRAIN = FERTILISER.loc[:int(len(FERTILISER) * TRAIN_SPLIT)].reset_index().drop('index', axis=1)\n",
    "FERTILISER_TEST = FERTILISER.loc[int(len(FERTILISER) * TRAIN_SPLIT):].reset_index().drop('index', axis=1)\n",
    "\n",
    "FERTILISER_TRAIN_FEATURES = FERTILISER_TRAIN.copy()\n",
    "FERTILISER_TEST_FEATURES = FERTILISER_TEST.copy()\n",
    "\n",
    "FERTILISER_TRAIN_LABEL = FERTILISER_TRAIN_FEATURES.pop('output')\n",
    "FERTILISER_TEST_LABEL = FERTILISER_TEST_FEATURES.pop('output')"
   ]
  },
  {
   "cell_type": "code",
   "execution_count": 21,
   "metadata": {},
   "outputs": [
    {
     "output_type": "execute_result",
     "data": {
      "text/plain": [
       "     output  temperature   humidity        ph    rainfall   label  \\\n",
       "0         9    17.249446  91.137728  6.543192  112.509052  orange   \n",
       "1        40    24.536101  91.909972  6.488221  115.978799  orange   \n",
       "2         4    15.632110  94.259662  7.561143  101.470570  orange   \n",
       "3        17    26.100184  71.574769  6.931757  102.266244   maize   \n",
       "4        14    11.503229  94.893318  6.946355  115.568378  orange   \n",
       "..      ...          ...        ...       ...         ...     ...   \n",
       "956     199    23.996862  91.610017  5.824779  117.610292   apple   \n",
       "957      50    18.147101  71.094453  5.573286   88.077537   maize   \n",
       "958     200    38.060995  82.247296  6.234904   65.701482  grapes   \n",
       "959     196    27.027661  83.170939  5.833302   70.956660  grapes   \n",
       "960     195    23.640830  90.952579  5.560521  116.743132   apple   \n",
       "\n",
       "    target_output  \n",
       "0               K  \n",
       "1               N  \n",
       "2               N  \n",
       "3               K  \n",
       "4               P  \n",
       "..            ...  \n",
       "956             K  \n",
       "957             P  \n",
       "958             K  \n",
       "959             K  \n",
       "960             K  \n",
       "\n",
       "[961 rows x 7 columns]"
      ],
      "text/html": "<div>\n<style scoped>\n    .dataframe tbody tr th:only-of-type {\n        vertical-align: middle;\n    }\n\n    .dataframe tbody tr th {\n        vertical-align: top;\n    }\n\n    .dataframe thead th {\n        text-align: right;\n    }\n</style>\n<table border=\"1\" class=\"dataframe\">\n  <thead>\n    <tr style=\"text-align: right;\">\n      <th></th>\n      <th>output</th>\n      <th>temperature</th>\n      <th>humidity</th>\n      <th>ph</th>\n      <th>rainfall</th>\n      <th>label</th>\n      <th>target_output</th>\n    </tr>\n  </thead>\n  <tbody>\n    <tr>\n      <th>0</th>\n      <td>9</td>\n      <td>17.249446</td>\n      <td>91.137728</td>\n      <td>6.543192</td>\n      <td>112.509052</td>\n      <td>orange</td>\n      <td>K</td>\n    </tr>\n    <tr>\n      <th>1</th>\n      <td>40</td>\n      <td>24.536101</td>\n      <td>91.909972</td>\n      <td>6.488221</td>\n      <td>115.978799</td>\n      <td>orange</td>\n      <td>N</td>\n    </tr>\n    <tr>\n      <th>2</th>\n      <td>4</td>\n      <td>15.632110</td>\n      <td>94.259662</td>\n      <td>7.561143</td>\n      <td>101.470570</td>\n      <td>orange</td>\n      <td>N</td>\n    </tr>\n    <tr>\n      <th>3</th>\n      <td>17</td>\n      <td>26.100184</td>\n      <td>71.574769</td>\n      <td>6.931757</td>\n      <td>102.266244</td>\n      <td>maize</td>\n      <td>K</td>\n    </tr>\n    <tr>\n      <th>4</th>\n      <td>14</td>\n      <td>11.503229</td>\n      <td>94.893318</td>\n      <td>6.946355</td>\n      <td>115.568378</td>\n      <td>orange</td>\n      <td>P</td>\n    </tr>\n    <tr>\n      <th>...</th>\n      <td>...</td>\n      <td>...</td>\n      <td>...</td>\n      <td>...</td>\n      <td>...</td>\n      <td>...</td>\n      <td>...</td>\n    </tr>\n    <tr>\n      <th>956</th>\n      <td>199</td>\n      <td>23.996862</td>\n      <td>91.610017</td>\n      <td>5.824779</td>\n      <td>117.610292</td>\n      <td>apple</td>\n      <td>K</td>\n    </tr>\n    <tr>\n      <th>957</th>\n      <td>50</td>\n      <td>18.147101</td>\n      <td>71.094453</td>\n      <td>5.573286</td>\n      <td>88.077537</td>\n      <td>maize</td>\n      <td>P</td>\n    </tr>\n    <tr>\n      <th>958</th>\n      <td>200</td>\n      <td>38.060995</td>\n      <td>82.247296</td>\n      <td>6.234904</td>\n      <td>65.701482</td>\n      <td>grapes</td>\n      <td>K</td>\n    </tr>\n    <tr>\n      <th>959</th>\n      <td>196</td>\n      <td>27.027661</td>\n      <td>83.170939</td>\n      <td>5.833302</td>\n      <td>70.956660</td>\n      <td>grapes</td>\n      <td>K</td>\n    </tr>\n    <tr>\n      <th>960</th>\n      <td>195</td>\n      <td>23.640830</td>\n      <td>90.952579</td>\n      <td>5.560521</td>\n      <td>116.743132</td>\n      <td>apple</td>\n      <td>K</td>\n    </tr>\n  </tbody>\n</table>\n<p>961 rows × 7 columns</p>\n</div>"
     },
     "metadata": {},
     "execution_count": 21
    }
   ],
   "source": [
    "# Check if they're balanced or not\n",
    "FERTILISER_TRAIN"
   ]
  },
  {
   "cell_type": "code",
   "execution_count": 22,
   "metadata": {},
   "outputs": [
    {
     "output_type": "execute_result",
     "data": {
      "text/plain": [
       "     output  temperature   humidity        ph    rainfall   label  \\\n",
       "0       195    23.640830  90.952579  5.560521  116.743132   apple   \n",
       "1        36    26.549864  72.891873  5.787268   73.336361   maize   \n",
       "2         7    16.762017  82.003356  5.662140   73.287128  grapes   \n",
       "3       203    21.170892  90.237302  5.895319  123.649515   apple   \n",
       "4        25    25.974824  69.363857  6.822587  103.223421   maize   \n",
       "..      ...          ...        ...       ...         ...     ...   \n",
       "235      16    21.776893  57.808406  6.158831  102.086169   maize   \n",
       "236     144    23.849401  94.348150  6.133221  114.051249   apple   \n",
       "237      60    24.921622  66.786274  5.750255  109.216228   maize   \n",
       "238       4    29.937076  81.777135  5.898944   65.522793  grapes   \n",
       "239       1    10.786898  91.384119  6.819827  117.529345  orange   \n",
       "\n",
       "    target_output  \n",
       "0               K  \n",
       "1               P  \n",
       "2               N  \n",
       "3               K  \n",
       "4               K  \n",
       "..            ...  \n",
       "235             K  \n",
       "236             P  \n",
       "237             P  \n",
       "238             N  \n",
       "239             N  \n",
       "\n",
       "[240 rows x 7 columns]"
      ],
      "text/html": "<div>\n<style scoped>\n    .dataframe tbody tr th:only-of-type {\n        vertical-align: middle;\n    }\n\n    .dataframe tbody tr th {\n        vertical-align: top;\n    }\n\n    .dataframe thead th {\n        text-align: right;\n    }\n</style>\n<table border=\"1\" class=\"dataframe\">\n  <thead>\n    <tr style=\"text-align: right;\">\n      <th></th>\n      <th>output</th>\n      <th>temperature</th>\n      <th>humidity</th>\n      <th>ph</th>\n      <th>rainfall</th>\n      <th>label</th>\n      <th>target_output</th>\n    </tr>\n  </thead>\n  <tbody>\n    <tr>\n      <th>0</th>\n      <td>195</td>\n      <td>23.640830</td>\n      <td>90.952579</td>\n      <td>5.560521</td>\n      <td>116.743132</td>\n      <td>apple</td>\n      <td>K</td>\n    </tr>\n    <tr>\n      <th>1</th>\n      <td>36</td>\n      <td>26.549864</td>\n      <td>72.891873</td>\n      <td>5.787268</td>\n      <td>73.336361</td>\n      <td>maize</td>\n      <td>P</td>\n    </tr>\n    <tr>\n      <th>2</th>\n      <td>7</td>\n      <td>16.762017</td>\n      <td>82.003356</td>\n      <td>5.662140</td>\n      <td>73.287128</td>\n      <td>grapes</td>\n      <td>N</td>\n    </tr>\n    <tr>\n      <th>3</th>\n      <td>203</td>\n      <td>21.170892</td>\n      <td>90.237302</td>\n      <td>5.895319</td>\n      <td>123.649515</td>\n      <td>apple</td>\n      <td>K</td>\n    </tr>\n    <tr>\n      <th>4</th>\n      <td>25</td>\n      <td>25.974824</td>\n      <td>69.363857</td>\n      <td>6.822587</td>\n      <td>103.223421</td>\n      <td>maize</td>\n      <td>K</td>\n    </tr>\n    <tr>\n      <th>...</th>\n      <td>...</td>\n      <td>...</td>\n      <td>...</td>\n      <td>...</td>\n      <td>...</td>\n      <td>...</td>\n      <td>...</td>\n    </tr>\n    <tr>\n      <th>235</th>\n      <td>16</td>\n      <td>21.776893</td>\n      <td>57.808406</td>\n      <td>6.158831</td>\n      <td>102.086169</td>\n      <td>maize</td>\n      <td>K</td>\n    </tr>\n    <tr>\n      <th>236</th>\n      <td>144</td>\n      <td>23.849401</td>\n      <td>94.348150</td>\n      <td>6.133221</td>\n      <td>114.051249</td>\n      <td>apple</td>\n      <td>P</td>\n    </tr>\n    <tr>\n      <th>237</th>\n      <td>60</td>\n      <td>24.921622</td>\n      <td>66.786274</td>\n      <td>5.750255</td>\n      <td>109.216228</td>\n      <td>maize</td>\n      <td>P</td>\n    </tr>\n    <tr>\n      <th>238</th>\n      <td>4</td>\n      <td>29.937076</td>\n      <td>81.777135</td>\n      <td>5.898944</td>\n      <td>65.522793</td>\n      <td>grapes</td>\n      <td>N</td>\n    </tr>\n    <tr>\n      <th>239</th>\n      <td>1</td>\n      <td>10.786898</td>\n      <td>91.384119</td>\n      <td>6.819827</td>\n      <td>117.529345</td>\n      <td>orange</td>\n      <td>N</td>\n    </tr>\n  </tbody>\n</table>\n<p>240 rows × 7 columns</p>\n</div>"
     },
     "metadata": {},
     "execution_count": 22
    }
   ],
   "source": [
    "FERTILISER_TEST"
   ]
  },
  {
   "cell_type": "code",
   "execution_count": 23,
   "metadata": {},
   "outputs": [],
   "source": [
    "import seaborn as sns\n",
    "#sns.pairplot(FERTILISER_TRAIN)"
   ]
  },
  {
   "cell_type": "code",
   "execution_count": 24,
   "metadata": {
    "tags": []
   },
   "outputs": [
    {
     "output_type": "stream",
     "name": "stdout",
     "text": [
      "INFO:tensorflow:Enabling eager execution\n",
      "INFO:tensorflow:Enabling v2 tensorshape\n",
      "INFO:tensorflow:Enabling resource variables\n",
      "INFO:tensorflow:Enabling tensor equality\n",
      "INFO:tensorflow:Enabling control flow v2\n"
     ]
    }
   ],
   "source": [
    "import tensorflow as tf\n",
    "#fertiliser_train = df_to_dataset(FERTILISER_TRAIN)\n",
    "#fertiliser_test = df_to_dataset(FERTILISER_TEST)\n",
    "#dataset = dataset.shuffle(len(_fert)).batch(1)"
   ]
  },
  {
   "cell_type": "code",
   "execution_count": 25,
   "metadata": {},
   "outputs": [],
   "source": [
    "# A utility method to create a tf.data dataset from a Pandas Dataframe\n",
    "def df_to_dataset(dataframe, shuffle=True, batch_size=32):\n",
    "  dataframe = dataframe.copy()\n",
    "  labels = dataframe.pop('output')\n",
    "  ds = tf.data.Dataset.from_tensor_slices((dict(dataframe), labels))\n",
    "  if shuffle:\n",
    "    ds = ds.shuffle(buffer_size=len(dataframe))\n",
    "  ds = ds.batch(batch_size)\n",
    "  return ds"
   ]
  },
  {
   "cell_type": "code",
   "execution_count": 26,
   "metadata": {},
   "outputs": [],
   "source": [
    "# Create a tf.Dataset\n",
    "train_dataset = df_to_dataset(FERTILISER_TRAIN, shuffle=True)\n",
    "test_dataset = df_to_dataset(FERTILISER_TEST, shuffle=True)"
   ]
  },
  {
   "cell_type": "code",
   "execution_count": 27,
   "metadata": {},
   "outputs": [
    {
     "output_type": "stream",
     "name": "stdout",
     "text": [
      "Features: {'temperature': <tf.Tensor: shape=(32,), dtype=float64, numpy=\narray([19.3642553 , 25.51939719, 17.82803682, 21.72484506, 18.4269936 ,\n       41.36106301, 23.71059131, 26.54986394, 24.53610067, 17.66545409,\n       22.20700989, 22.35548159, 18.66116213, 33.1056981 , 22.44075021,\n       28.2620488 , 16.39624284, 23.99686172, 22.86006627, 23.98289638,\n       21.53574127, 26.16985907, 22.76643029, 25.34217103, 21.70416965,\n       23.81995682, 30.7280404 , 41.20733624, 19.33516809, 22.63946441,\n       15.63211033, 22.98208095])>, 'humidity': <tf.Tensor: shape=(32,), dtype=float64, numpy=\narray([83.36094029, 83.98351748, 80.96093443, 92.83975602, 80.55625868,\n       82.79782954, 93.27392415, 72.89187265, 91.90997228, 91.69865887,\n       93.50574163, 94.47811755, 61.55327249, 93.48447453, 92.70785115,\n       91.98317355, 92.18151927, 91.61001707, 93.12859895, 91.5473145 ,\n       71.50905983, 71.96246617, 92.12438519, 63.31801994, 93.44006288,\n       80.12211649, 82.42614055, 81.61051026, 91.97978938, 90.18451645,\n       94.25966183, 93.84505029])>, 'ph': <tf.Tensor: shape=(32,), dtype=float64, numpy=\narray([5.98059858, 6.2286454 , 6.27564088, 6.05652953, 5.56923032,\n       6.44437312, 5.65847382, 5.78726839, 6.48822113, 6.58341167,\n       6.44338291, 6.04667362, 6.12129404, 7.43411881, 5.6850624 ,\n       6.92921601, 6.62553865, 5.82477864, 5.82415169, 7.45599107,\n       5.9182638 , 6.24704042, 6.44228929, 6.33055439, 5.75170734,\n       6.00299607, 6.09224163, 6.38978328, 6.36167147, 5.69794552,\n       7.56114322, 5.97133218])>, 'rainfall': <tf.Tensor: shape=(32,), dtype=float64, numpy=\narray([ 67.15094741,  69.17281221,  65.84748763, 121.6961761 ,\n        69.75734306,  69.92107482, 112.6676589 ,  73.33636055,\n       115.9787989 , 110.6857506 , 120.1593771 , 116.7366261 ,\n        75.03247667, 119.1709113 , 121.4977331 , 105.2132259 ,\n       102.944161  , 117.6102915 , 117.7296726 , 118.4901697 ,\n       102.4852929 ,  79.84925393, 120.4359949 ,  74.52082026,\n       115.1781396 ,  67.2739864 ,  68.38135469,  65.90227462,\n       116.450422  , 108.3405879 , 101.4705704 , 109.5852253 ])>, 'label': <tf.Tensor: shape=(32,), dtype=string, numpy=\narray([b'grapes', b'grapes', b'grapes', b'apple', b'grapes', b'grapes',\n       b'apple', b'maize', b'orange', b'orange', b'apple', b'apple',\n       b'maize', b'orange', b'apple', b'orange', b'orange', b'apple',\n       b'apple', b'orange', b'maize', b'maize', b'apple', b'maize',\n       b'apple', b'grapes', b'grapes', b'grapes', b'orange', b'apple',\n       b'orange', b'apple'], dtype=object)>, 'target_output': <tf.Tensor: shape=(32,), dtype=string, numpy=\narray([b'K', b'K', b'K', b'K', b'N', b'N', b'P', b'N', b'P', b'N', b'K',\n       b'N', b'N', b'P', b'P', b'K', b'N', b'K', b'K', b'N', b'N', b'N',\n       b'N', b'K', b'P', b'K', b'K', b'K', b'K', b'N', b'N', b'P'],\n      dtype=object)>}, Target: [201 198 203 197  15  38 124  86  22  31 196  18  60  18 128  10  17 199\n 204  21  75  76  28  22 140 201 204 195  14  37   4 124]\nFeatures: {'temperature': <tf.Tensor: shape=(32,), dtype=float64, numpy=\narray([22.71271308, 22.69780133, 12.7567962 , 26.14384005, 27.83487131,\n       25.19192419, 23.06204373, 21.19909519, 21.03200078, 23.65167552,\n       12.59093977, 23.66682067, 11.50322938, 23.08950736, 24.71417533,\n       23.60115364, 22.96388477, 22.84852833, 21.70181447, 25.61707368,\n       22.77856513, 31.52675982, 31.75048899, 25.2990432 , 36.73126647,\n       22.44516988, 18.14710054, 12.22816189, 27.92004934, 12.087022  ,\n       25.08239719, 23.89114571])>, 'humidity': <tf.Tensor: shape=(32,), dtype=float64, numpy=\narray([90.45261746, 92.82223419, 81.62497448, 66.20569924, 83.51444973,\n       66.6902901 , 92.39544055, 90.80819418, 92.9641969 , 94.50528753,\n       91.81668769, 93.90191078, 94.8933184 , 90.22507299, 56.73426469,\n       82.48336987, 93.58065995, 94.32130209, 60.47470519, 63.4711755 ,\n       92.70124029, 90.50621806, 94.59551226, 94.96419851, 80.58931938,\n       94.73763514, 71.09445342, 90.26457428, 82.93262435, 83.59398734,\n       65.92195844, 57.48775781])>, 'ph': <tf.Tensor: shape=(32,), dtype=float64, numpy=\narray([5.66948906, 5.53456749, 6.13031049, 6.65542636, 6.20819688,\n       5.9136645 , 6.24585891, 5.67130617, 7.68442045, 6.49693449,\n       6.20605307, 5.95236766, 6.94635472, 6.0967531 , 6.64872533,\n       6.42321651, 5.85648105, 6.0794972 , 6.70844692, 6.57641821,\n       5.62420328, 6.39525836, 7.36220835, 7.2604164 , 5.77560044,\n       5.61722718, 5.57328644, 7.10665037, 5.73353981, 5.93202852,\n       6.45511664, 5.89309313])>, 'rainfall': <tf.Tensor: shape=(32,), dtype=float64, numpy=\narray([109.8852597 , 105.0508234 ,  66.77844567, 107.2361366 ,\n        73.02882766,  78.06639649, 114.7399101 , 103.6838922 ,\n       110.6823944 , 115.3611268 , 119.3916718 , 105.4004751 ,\n       115.5683776 , 108.2166601 ,  88.45361858,  73.23901752,\n       104.6472986 , 123.5977843 ,  95.71388473, 108.8303762 ,\n       113.7759219 , 113.1169398 , 115.1989301 , 117.9733424 ,\n        72.24230804, 107.1843273 ,  88.07753741, 108.4161706 ,\n        69.92092839,  68.66813363,  62.49190812, 102.8301942 ])>, 'label': <tf.Tensor: shape=(32,), dtype=string, numpy=\narray([b'apple', b'apple', b'grapes', b'maize', b'grapes', b'maize',\n       b'apple', b'apple', b'orange', b'apple', b'orange', b'apple',\n       b'orange', b'apple', b'maize', b'grapes', b'apple', b'apple',\n       b'maize', b'maize', b'apple', b'orange', b'orange', b'orange',\n       b'grapes', b'apple', b'maize', b'orange', b'grapes', b'grapes',\n       b'maize', b'maize'], dtype=object)>, 'target_output': <tf.Tensor: shape=(32,), dtype=string, numpy=\narray([b'N', b'K', b'P', b'N', b'N', b'P', b'K', b'P', b'N', b'N', b'P',\n       b'N', b'N', b'N', b'K', b'N', b'N', b'P', b'K', b'N', b'P', b'N',\n       b'K', b'P', b'K', b'N', b'P', b'K', b'N', b'N', b'K', b'N'],\n      dtype=object)>}, Target: [  2 197 123  68  22  60 200 138  33  36  12  27  11  29  23  13   7 121\n  20  87 135  37  10   8 201  26  50   6   6  24  15  94]\nFeatures: {'temperature': <tf.Tensor: shape=(32,), dtype=float64, numpy=\narray([22.19109412, 18.51816776,  9.85124263, 24.45132792, 29.36947679,\n       18.04185513, 22.69780133, 11.54785707, 23.65167552, 23.31689124,\n       19.89363946, 23.35225078, 25.23542319, 32.31944397, 31.8520694 ,\n       11.18994268, 21.41363812, 26.10018422, 19.32666088, 13.70319166,\n       23.01014302, 21.19852186, 22.43324518, 23.15791104, 20.18432263,\n       17.5862944 , 17.34083741, 22.21738222, 18.87957654, 20.68185224,\n       25.35467646, 19.84939404])>, 'humidity': <tf.Tensor: shape=(32,), dtype=float64, numpy=\narray([90.02575116, 55.53128131, 80.22631717, 93.10527686, 81.53996362,\n       60.61494304, 92.82223419, 94.14861001, 94.50528753, 73.4541537 ,\n       82.73366439, 90.90054697, 80.68700527, 93.67804556, 90.12220323,\n       80.8084305 , 92.99124545, 71.57476937, 68.034493  , 90.95589386,\n       91.11764246, 92.15595143, 92.48667725, 90.34396882, 90.65458473,\n       80.84806564, 93.04897191, 72.85462807, 92.04304496, 90.91510525,\n       91.81183218, 61.24500053])>, 'ph': <tf.Tensor: shape=(32,), dtype=float64, numpy=\narray([6.16203437, 6.64190635, 5.96537863, 6.52835493, 6.33642667,\n       5.51369792, 5.53456749, 7.90795625, 6.49693449, 5.8526071 ,\n       5.85657533, 6.07125513, 5.69579276, 6.19690794, 6.40771556,\n       6.41555596, 5.87856898, 6.93175656, 6.19236   , 7.60934825,\n       6.70888967, 6.2761986 , 5.80044895, 5.73153526, 6.96924968,\n       6.33477146, 7.1917274 , 6.80163854, 7.8139166 , 7.82950725,\n       7.99204198, 5.73061711])>, 'rainfall': <tf.Tensor: shape=(32,), dtype=float64, numpy=\narray([112.3126628 ,  90.988051  ,  68.42802444, 109.4711098 ,\n        66.13442813, 104.2321615 , 105.0508234 , 108.8289171 ,\n       115.3611268 ,  94.29712821,  69.66256816, 113.0381382 ,\n        67.03840888, 117.6236473 , 109.9455062 ,  66.34234944,\n       118.3979065 , 102.2662445 ,  84.22969177, 106.2944879 ,\n       112.6738296 , 105.8554351 , 119.1025189 , 110.712841  ,\n       116.8130969 ,  71.4065452 , 112.7194284 , 106.6213157 ,\n       114.6659511 , 109.7513927 , 116.7555937 , 100.7689246 ])>, 'label': <tf.Tensor: shape=(32,), dtype=string, numpy=\narray([b'apple', b'maize', b'grapes', b'orange', b'grapes', b'maize',\n       b'apple', b'orange', b'apple', b'maize', b'grapes', b'apple',\n       b'grapes', b'orange', b'orange', b'grapes', b'apple', b'maize',\n       b'maize', b'orange', b'orange', b'apple', b'apple', b'apple',\n       b'orange', b'grapes', b'orange', b'maize', b'orange', b'orange',\n       b'orange', b'maize'], dtype=object)>, 'target_output': <tf.Tensor: shape=(32,), dtype=string, numpy=\narray([b'P', b'N', b'N', b'K', b'N', b'P', b'N', b'N', b'P', b'N', b'N',\n       b'N', b'N', b'N', b'N', b'K', b'N', b'N', b'P', b'K', b'P', b'N',\n       b'K', b'P', b'K', b'K', b'P', b'N', b'P', b'P', b'K', b'N'],\n      dtype=object)>}, Target: [121  63  23  10   8  49   2  15 144  70  28  14  36  16  20 197  26  61\n  45  11   6  10 204 121   7 205  11  69  16  29  15  95]\nFeatures: {'temperature': <tf.Tensor: shape=(32,), dtype=float64, numpy=\narray([22.61359953, 16.39624284, 24.6129118 , 23.25230817, 21.44526922,\n       24.92162194, 24.89364635, 21.21306973, 16.76201707, 32.71748548,\n       12.14190714, 10.35609594, 34.90665289, 41.18664903, 25.51939719,\n       25.6217169 , 21.41363812, 25.1420613 , 23.02038334, 13.20844373,\n       34.5917846 , 24.06679352,  9.53558554, 28.2620488 , 23.76121837,\n       24.10859207, 22.3551049 , 19.6491772 , 21.53574127, 23.60115364,\n       22.78234161, 27.255435  ])>, 'humidity': <tf.Tensor: shape=(32,), dtype=float64, numpy=\narray([63.69070564, 92.18151927, 70.4162444 , 94.54128292, 63.1621551 ,\n       66.78627406, 65.61418761, 91.35349216, 82.00335557, 90.54608254,\n       83.56812483, 93.75652041, 92.87820148, 81.01783402, 83.98351748,\n       66.50415474, 92.99124545, 65.26185135, 61.89472002, 94.02769434,\n       92.13229786, 82.66396666, 80.73112694, 91.98317355, 93.661643  ,\n       73.13112261, 93.52211892, 80.15215777, 71.50905983, 82.48336987,\n       94.36803516, 91.71369387])>, 'ph': <tf.Tensor: shape=(32,), dtype=float64, numpy=\narray([5.74991442, 6.62553865, 6.60082702, 5.867421  , 6.1780563 ,\n       5.75025494, 6.62540435, 7.8178465 , 5.66214009, 7.65697811,\n       5.64720239, 7.79603401, 7.41876177, 5.53998081, 6.2286454 ,\n       6.04790668, 5.87856898, 6.02190224, 5.68036104, 6.35402255,\n       6.73075754, 6.05366254, 5.90872434, 6.92921601, 5.96555131,\n       6.23433036, 6.01039186, 6.10774179, 5.9182638 , 6.42321651,\n       5.68234374, 6.96988348])>, 'rainfall': <tf.Tensor: shape=(32,), dtype=float64, numpy=\narray([ 87.75953857, 102.944161  , 104.1626147 , 105.3558408 ,\n        65.88951188, 109.2162279 ,  87.9298085 , 112.9834361 ,\n        73.28712806, 113.328978  ,  69.63122027, 101.1456947 ,\n       102.1906333 ,  68.68895899,  69.17281221, 105.4654703 ,\n       118.3979065 ,  76.68456006,  63.03843397, 106.2696156 ,\n       115.5650287 ,  69.81855775,  69.44115171, 105.2132259 ,\n       100.825956  ,  71.07562236, 101.5164589 ,  73.69529586,\n       102.4852929 ,  73.23901752, 122.1449949 , 101.139435  ])>, 'label': <tf.Tensor: shape=(32,), dtype=string, numpy=\narray([b'maize', b'orange', b'maize', b'apple', b'maize', b'maize',\n       b'maize', b'orange', b'grapes', b'orange', b'grapes', b'orange',\n       b'orange', b'grapes', b'grapes', b'maize', b'apple', b'maize',\n       b'maize', b'orange', b'orange', b'grapes', b'grapes', b'orange',\n       b'apple', b'maize', b'orange', b'grapes', b'maize', b'grapes',\n       b'apple', b'orange'], dtype=object)>, 'target_output': <tf.Tensor: shape=(32,), dtype=string, numpy=\narray([b'N', b'K', b'K', b'N', b'P', b'N', b'P', b'K', b'K', b'K', b'K',\n       b'P', b'K', b'K', b'N', b'K', b'K', b'P', b'P', b'P', b'N', b'P',\n       b'K', b'N', b'N', b'K', b'P', b'N', b'K', b'K', b'P', b'N'],\n      dtype=object)>}, Target: [ 71  14  17   9  35  67  46   5 203   5 195  25   8 201  36  17 195  41\n  35  21  28 120 197   8  38  17  10  35  15 203 129  19]\nFeatures: {'temperature': <tf.Tensor: shape=(32,), dtype=float64, numpy=\narray([21.11903604, 21.19339319, 23.80436344, 21.17089176, 24.9321581 ,\n       35.83089092, 22.77856513, 35.12158265, 19.14381903, 25.70196694,\n       21.45278675, 22.75088787, 25.71895816, 13.05809741, 29.07412717,\n       22.44516988, 15.99050693,  9.53558554, 20.18432263, 22.63946441,\n       20.03728219, 11.03367937, 24.12188673, 23.87192332, 30.25578031,\n       16.39624284, 31.11047251, 23.30355338, 22.21738222, 23.13338811,\n       24.97256132, 21.37784654])>, 'humidity': <tf.Tensor: shape=(32,), dtype=float64, numpy=\narray([80.63399198, 82.33098331, 92.80441624, 90.23730166, 73.80435276,\n       83.32560104, 92.70124029, 82.26890793, 90.71037456, 61.33450447,\n       90.74531921, 90.69489172, 67.22190688, 80.28297993, 93.27189064,\n       94.73763514, 81.23966573, 80.73112694, 90.65458473, 90.18451645,\n       56.35606753, 92.22706805, 90.72351622, 90.49939035, 92.03272799,\n       92.18151927, 83.34010951, 73.62548442, 72.85462807, 91.94670335,\n       82.72828653, 92.72043743])>, 'ph': <tf.Tensor: shape=(32,), dtype=float64, numpy=\narray([6.34987591, 6.39943377, 6.02424879, 5.895319  , 6.55056382,\n       5.7785944 , 5.62420328, 5.55083218, 7.8546243 , 6.96035828,\n       6.11021883, 5.521467  , 5.54990242, 5.75700996, 7.36549204,\n       5.61722718, 5.73431701, 5.90872434, 6.96924968, 5.69794552,\n       6.72730328, 6.56259497, 6.94556289, 5.88215599, 6.05231846,\n       6.62553865, 5.65377606, 5.87324249, 6.80163854, 7.63978846,\n       6.47675772, 5.57324139])>, 'rainfall': <tf.Tensor: shape=(32,), dtype=float64, numpy=\narray([ 69.27779761,  74.62834921, 100.6192543 , 123.6495149 ,\n        79.74078719,  73.67984885, 113.7759219 ,  69.71518491,\n       108.0230792 ,  83.20711308, 116.7036582 , 110.4317855 ,\n        74.51490791,  70.75633584, 100.7896871 , 107.1843273 ,\n        74.40198861,  69.44115171, 116.8130969 , 108.3405879 ,\n       109.024141  , 112.7715925 , 102.835632  , 103.0548094 ,\n       116.7173125 , 102.944161  ,  71.43001582,  97.59081274,\n       106.6213157 , 104.4224145 ,  66.70016285, 106.1417017 ])>, 'label': <tf.Tensor: shape=(32,), dtype=string, numpy=\narray([b'grapes', b'grapes', b'apple', b'apple', b'maize', b'grapes',\n       b'apple', b'grapes', b'orange', b'maize', b'apple', b'apple',\n       b'maize', b'grapes', b'orange', b'apple', b'grapes', b'grapes',\n       b'orange', b'apple', b'maize', b'orange', b'orange', b'apple',\n       b'orange', b'orange', b'grapes', b'maize', b'maize', b'orange',\n       b'grapes', b'apple'], dtype=object)>, 'target_output': <tf.Tensor: shape=(32,), dtype=string, numpy=\narray([b'P', b'N', b'K', b'N', b'N', b'N', b'N', b'N', b'P', b'K', b'P',\n       b'P', b'N', b'K', b'K', b'K', b'K', b'P', b'P', b'P', b'P', b'P',\n       b'K', b'K', b'P', b'P', b'P', b'N', b'P', b'P', b'N', b'P'],\n      dtype=object)>}, Target: [140  39 200  35  77  39   1  33  24  22 120 128 100 198  10 202 197 138\n  12 137  58   8   5 196  12  16 136  94  51  11  40 122]\n"
     ]
    }
   ],
   "source": [
    "for feat, targ in train_dataset.take(5):\n",
    "  print ('Features: {}, Target: {}'.format(feat, targ))"
   ]
  },
  {
   "cell_type": "code",
   "execution_count": 28,
   "metadata": {},
   "outputs": [],
   "source": [
    "# Feature layer\n",
    "feature_columns = []\n",
    "\n",
    "for i in ['temperature', 'humidity', 'ph', 'rainfall']:\n",
    "    feature_columns.append(tf.feature_column.numeric_column(i))\n",
    "\n",
    "for i in ['label', 'target_output']:\n",
    "    categorical_column = tf.feature_column.categorical_column_with_vocabulary_list(\n",
    "        i, FERTILISER[i].unique())\n",
    "    indicator_column = tf.feature_column.indicator_column(categorical_column)\n",
    "    feature_columns.append(indicator_column)\n"
   ]
  },
  {
   "cell_type": "code",
   "execution_count": 29,
   "metadata": {},
   "outputs": [],
   "source": [
    "feature_layer = tf.keras.layers.DenseFeatures(feature_columns)"
   ]
  },
  {
   "cell_type": "code",
   "execution_count": 30,
   "metadata": {},
   "outputs": [],
   "source": [
    "# Define model\n",
    "predict_fert = tf.keras.Sequential([\n",
    "#    normaliser,\n",
    "    feature_layer,\n",
    "#    tf.keras.layers.Lambda(lambda x: tf.expand_dims(x, 0), input_shape=[11]),\n",
    "    tf.keras.layers.Dense(32, activation=tf.nn.relu),\n",
    "    tf.keras.layers.Dense(1, activation=tf.nn.relu)\n",
    "])\n",
    "\n",
    "#predict_fert.summary()"
   ]
  },
  {
   "cell_type": "code",
   "execution_count": 32,
   "metadata": {},
   "outputs": [
    {
     "output_type": "stream",
     "name": "stdout",
     "text": [
      "Epoch 1/100\n",
      "WARNING:tensorflow:Layers in a Sequential model should only have a single input tensor, but we receive a <class 'dict'> input: {'temperature': <tf.Tensor 'ExpandDims_5:0' shape=(None, 1) dtype=float64>, 'humidity': <tf.Tensor 'ExpandDims:0' shape=(None, 1) dtype=float64>, 'ph': <tf.Tensor 'ExpandDims_2:0' shape=(None, 1) dtype=float64>, 'rainfall': <tf.Tensor 'ExpandDims_3:0' shape=(None, 1) dtype=float64>, 'label': <tf.Tensor 'ExpandDims_1:0' shape=(None, 1) dtype=string>, 'target_output': <tf.Tensor 'ExpandDims_4:0' shape=(None, 1) dtype=string>}\n",
      "Consider rewriting this model with the Functional API.\n",
      "WARNING:tensorflow:Layers in a Sequential model should only have a single input tensor, but we receive a <class 'dict'> input: {'temperature': <tf.Tensor 'ExpandDims_5:0' shape=(None, 1) dtype=float64>, 'humidity': <tf.Tensor 'ExpandDims:0' shape=(None, 1) dtype=float64>, 'ph': <tf.Tensor 'ExpandDims_2:0' shape=(None, 1) dtype=float64>, 'rainfall': <tf.Tensor 'ExpandDims_3:0' shape=(None, 1) dtype=float64>, 'label': <tf.Tensor 'ExpandDims_1:0' shape=(None, 1) dtype=string>, 'target_output': <tf.Tensor 'ExpandDims_4:0' shape=(None, 1) dtype=string>}\n",
      "Consider rewriting this model with the Functional API.\n",
      "26/31 [========================>.....] - ETA: 0s - loss: 912.6668 - acc: 0.0026WARNING:tensorflow:Layers in a Sequential model should only have a single input tensor, but we receive a <class 'dict'> input: {'temperature': <tf.Tensor 'ExpandDims_5:0' shape=(None, 1) dtype=float64>, 'humidity': <tf.Tensor 'ExpandDims:0' shape=(None, 1) dtype=float64>, 'ph': <tf.Tensor 'ExpandDims_2:0' shape=(None, 1) dtype=float64>, 'rainfall': <tf.Tensor 'ExpandDims_3:0' shape=(None, 1) dtype=float64>, 'label': <tf.Tensor 'ExpandDims_1:0' shape=(None, 1) dtype=string>, 'target_output': <tf.Tensor 'ExpandDims_4:0' shape=(None, 1) dtype=string>}\n",
      "Consider rewriting this model with the Functional API.\n",
      "31/31 [==============================] - 1s 12ms/step - loss: 878.5811 - acc: 0.0031 - val_loss: 518.6957 - val_acc: 0.0042\n",
      "Epoch 2/100\n",
      "31/31 [==============================] - 0s 6ms/step - loss: 578.0806 - acc: 0.0022 - val_loss: 441.0012 - val_acc: 0.0042\n",
      "Epoch 3/100\n",
      "31/31 [==============================] - 0s 6ms/step - loss: 465.5748 - acc: 0.0073 - val_loss: 417.6518 - val_acc: 0.0042\n",
      "Epoch 4/100\n",
      "31/31 [==============================] - 0s 5ms/step - loss: 466.8395 - acc: 0.0056 - val_loss: 432.3945 - val_acc: 0.0042\n",
      "Epoch 5/100\n",
      "31/31 [==============================] - 0s 5ms/step - loss: 476.2805 - acc: 0.0075 - val_loss: 441.4892 - val_acc: 0.0042\n",
      "Epoch 6/100\n",
      "31/31 [==============================] - 0s 5ms/step - loss: 480.0695 - acc: 0.0031 - val_loss: 376.8959 - val_acc: 0.0042\n",
      "Epoch 7/100\n",
      "31/31 [==============================] - 0s 5ms/step - loss: 377.3559 - acc: 0.0057 - val_loss: 456.4773 - val_acc: 0.0042\n",
      "Epoch 8/100\n",
      "31/31 [==============================] - 0s 6ms/step - loss: 345.4809 - acc: 0.0044 - val_loss: 352.5060 - val_acc: 0.0042\n",
      "Epoch 9/100\n",
      "31/31 [==============================] - 0s 6ms/step - loss: 369.9055 - acc: 0.0072 - val_loss: 473.3113 - val_acc: 0.0042\n",
      "Epoch 10/100\n",
      "31/31 [==============================] - 0s 5ms/step - loss: 426.9535 - acc: 0.0037 - val_loss: 412.2647 - val_acc: 0.0042\n",
      "Epoch 11/100\n",
      "31/31 [==============================] - 0s 5ms/step - loss: 430.8790 - acc: 0.0064 - val_loss: 398.3027 - val_acc: 0.0042\n",
      "Epoch 12/100\n",
      "31/31 [==============================] - 0s 5ms/step - loss: 436.2412 - acc: 0.0054 - val_loss: 378.0578 - val_acc: 0.0042\n",
      "Epoch 13/100\n",
      "31/31 [==============================] - 0s 6ms/step - loss: 383.8253 - acc: 0.0057 - val_loss: 353.0617 - val_acc: 0.0042\n",
      "Epoch 14/100\n",
      "31/31 [==============================] - 0s 5ms/step - loss: 392.7888 - acc: 0.0055 - val_loss: 446.3750 - val_acc: 0.0042\n",
      "Epoch 15/100\n",
      "31/31 [==============================] - 0s 6ms/step - loss: 397.1061 - acc: 0.0081 - val_loss: 350.0736 - val_acc: 0.0042\n",
      "Epoch 16/100\n",
      "31/31 [==============================] - 0s 5ms/step - loss: 380.8202 - acc: 0.0041 - val_loss: 406.8792 - val_acc: 0.0042\n",
      "Epoch 17/100\n",
      "31/31 [==============================] - 0s 5ms/step - loss: 430.3112 - acc: 0.0037 - val_loss: 356.4058 - val_acc: 0.0042\n",
      "Epoch 18/100\n",
      "31/31 [==============================] - 0s 6ms/step - loss: 366.9554 - acc: 0.0025 - val_loss: 563.3698 - val_acc: 0.0042\n",
      "Epoch 19/100\n",
      "31/31 [==============================] - 0s 6ms/step - loss: 464.6997 - acc: 0.0133 - val_loss: 435.9472 - val_acc: 0.0042\n",
      "Epoch 20/100\n",
      "31/31 [==============================] - 0s 5ms/step - loss: 392.0008 - acc: 0.0074 - val_loss: 356.6435 - val_acc: 0.0042\n",
      "Epoch 21/100\n",
      "31/31 [==============================] - 0s 6ms/step - loss: 404.4565 - acc: 0.0040 - val_loss: 361.5899 - val_acc: 0.0042\n",
      "Epoch 22/100\n",
      "31/31 [==============================] - 0s 5ms/step - loss: 427.9326 - acc: 0.0074 - val_loss: 349.2957 - val_acc: 0.0042\n",
      "Epoch 23/100\n",
      "31/31 [==============================] - 0s 5ms/step - loss: 394.3580 - acc: 0.0031 - val_loss: 744.5182 - val_acc: 0.0042\n",
      "Epoch 24/100\n",
      "31/31 [==============================] - 0s 6ms/step - loss: 677.1579 - acc: 0.0058 - val_loss: 349.5573 - val_acc: 0.0042\n",
      "Epoch 25/100\n",
      "31/31 [==============================] - 0s 6ms/step - loss: 386.6458 - acc: 0.0057 - val_loss: 401.1736 - val_acc: 0.0042\n",
      "Epoch 26/100\n",
      "31/31 [==============================] - 0s 6ms/step - loss: 488.5551 - acc: 0.0075 - val_loss: 378.9136 - val_acc: 0.0042\n",
      "Epoch 27/100\n",
      "31/31 [==============================] - 0s 5ms/step - loss: 403.7197 - acc: 0.0030 - val_loss: 348.5777 - val_acc: 0.0042\n",
      "Epoch 28/100\n",
      "31/31 [==============================] - 0s 5ms/step - loss: 371.2583 - acc: 0.0041 - val_loss: 359.7913 - val_acc: 0.0042\n",
      "Epoch 29/100\n",
      "31/31 [==============================] - 0s 5ms/step - loss: 402.7443 - acc: 0.0091 - val_loss: 347.1083 - val_acc: 0.0042\n",
      "Epoch 30/100\n",
      "31/31 [==============================] - 0s 6ms/step - loss: 355.9972 - acc: 0.0034 - val_loss: 346.0913 - val_acc: 0.0042\n",
      "Epoch 31/100\n",
      "31/31 [==============================] - 0s 6ms/step - loss: 358.9167 - acc: 0.0040 - val_loss: 346.0991 - val_acc: 0.0042\n",
      "Epoch 32/100\n",
      "31/31 [==============================] - 0s 6ms/step - loss: 344.5586 - acc: 0.0043 - val_loss: 351.8501 - val_acc: 0.0042\n",
      "Epoch 33/100\n",
      "31/31 [==============================] - 0s 6ms/step - loss: 345.9083 - acc: 0.0067 - val_loss: 347.6157 - val_acc: 0.0042\n",
      "Epoch 34/100\n",
      "31/31 [==============================] - 0s 6ms/step - loss: 377.5546 - acc: 0.0078 - val_loss: 736.7339 - val_acc: 0.0042\n",
      "Epoch 35/100\n",
      "31/31 [==============================] - 0s 5ms/step - loss: 835.2533 - acc: 0.0049 - val_loss: 595.3037 - val_acc: 0.0042\n",
      "Epoch 36/100\n",
      "31/31 [==============================] - 0s 6ms/step - loss: 424.9644 - acc: 0.0040 - val_loss: 387.5060 - val_acc: 0.0042\n",
      "Epoch 37/100\n",
      "31/31 [==============================] - 0s 5ms/step - loss: 382.3831 - acc: 0.0056 - val_loss: 406.8874 - val_acc: 0.0042\n",
      "Epoch 38/100\n",
      "31/31 [==============================] - 0s 5ms/step - loss: 420.3045 - acc: 0.0032 - val_loss: 392.5849 - val_acc: 0.0042\n",
      "Epoch 39/100\n",
      "31/31 [==============================] - 0s 6ms/step - loss: 380.2850 - acc: 0.0043 - val_loss: 355.7291 - val_acc: 0.0042\n",
      "Epoch 40/100\n",
      "31/31 [==============================] - 0s 5ms/step - loss: 346.7900 - acc: 0.0035 - val_loss: 363.7746 - val_acc: 0.0042\n",
      "Epoch 41/100\n",
      "31/31 [==============================] - 0s 5ms/step - loss: 404.7696 - acc: 0.0093 - val_loss: 457.1059 - val_acc: 0.0042\n",
      "Epoch 42/100\n",
      "31/31 [==============================] - 0s 6ms/step - loss: 439.3901 - acc: 0.0036 - val_loss: 428.9676 - val_acc: 0.0042\n",
      "Epoch 43/100\n",
      "31/31 [==============================] - 0s 6ms/step - loss: 419.1818 - acc: 0.0051 - val_loss: 352.1674 - val_acc: 0.0042\n",
      "Epoch 44/100\n",
      "31/31 [==============================] - 0s 5ms/step - loss: 363.6468 - acc: 0.0072 - val_loss: 362.8773 - val_acc: 0.0042\n",
      "Epoch 45/100\n",
      "31/31 [==============================] - 0s 5ms/step - loss: 396.5253 - acc: 0.0039 - val_loss: 347.7236 - val_acc: 0.0042\n",
      "Epoch 46/100\n",
      "31/31 [==============================] - 0s 6ms/step - loss: 362.4415 - acc: 0.0020 - val_loss: 348.8229 - val_acc: 0.0042\n",
      "Epoch 47/100\n",
      "31/31 [==============================] - 0s 6ms/step - loss: 356.7481 - acc: 0.0049 - val_loss: 357.8951 - val_acc: 0.0042\n",
      "Epoch 48/100\n",
      "31/31 [==============================] - 0s 6ms/step - loss: 379.4996 - acc: 0.0062 - val_loss: 344.5294 - val_acc: 0.0042\n",
      "Epoch 49/100\n",
      "31/31 [==============================] - 0s 6ms/step - loss: 329.4254 - acc: 0.0046 - val_loss: 358.4552 - val_acc: 0.0042\n",
      "Epoch 50/100\n",
      "31/31 [==============================] - 0s 6ms/step - loss: 391.1264 - acc: 0.0061 - val_loss: 347.7110 - val_acc: 0.0042\n",
      "Epoch 51/100\n",
      "31/31 [==============================] - 0s 5ms/step - loss: 399.7253 - acc: 0.0105 - val_loss: 357.4938 - val_acc: 0.0042\n",
      "Epoch 52/100\n",
      "31/31 [==============================] - 0s 6ms/step - loss: 386.4140 - acc: 0.0045 - val_loss: 369.6404 - val_acc: 0.0042\n",
      "Epoch 53/100\n",
      "31/31 [==============================] - 0s 6ms/step - loss: 364.8956 - acc: 0.0036 - val_loss: 345.1890 - val_acc: 0.0042\n",
      "Epoch 54/100\n",
      "31/31 [==============================] - 0s 5ms/step - loss: 407.0186 - acc: 0.0080 - val_loss: 347.5187 - val_acc: 0.0042\n",
      "Epoch 55/100\n",
      "31/31 [==============================] - 0s 5ms/step - loss: 351.1748 - acc: 0.0066 - val_loss: 358.3869 - val_acc: 0.0042\n",
      "Epoch 56/100\n",
      "31/31 [==============================] - 0s 5ms/step - loss: 355.2568 - acc: 0.0058 - val_loss: 490.5997 - val_acc: 0.0042\n",
      "Epoch 57/100\n",
      "31/31 [==============================] - 0s 6ms/step - loss: 448.1217 - acc: 0.0078 - val_loss: 464.2138 - val_acc: 0.0042\n",
      "Epoch 58/100\n",
      "31/31 [==============================] - 0s 5ms/step - loss: 434.9703 - acc: 0.0052 - val_loss: 362.7197 - val_acc: 0.0042\n",
      "Epoch 59/100\n",
      "31/31 [==============================] - 0s 6ms/step - loss: 332.4202 - acc: 0.0039 - val_loss: 393.7032 - val_acc: 0.0042\n",
      "Epoch 60/100\n",
      "31/31 [==============================] - 0s 5ms/step - loss: 365.5716 - acc: 0.0060 - val_loss: 365.5750 - val_acc: 0.0042\n",
      "Epoch 61/100\n",
      "31/31 [==============================] - 0s 5ms/step - loss: 390.7505 - acc: 0.0063 - val_loss: 349.3943 - val_acc: 0.0042\n",
      "Epoch 62/100\n",
      "31/31 [==============================] - 0s 5ms/step - loss: 378.3474 - acc: 0.0056 - val_loss: 364.6969 - val_acc: 0.0042\n",
      "Epoch 63/100\n",
      "31/31 [==============================] - 0s 5ms/step - loss: 374.9508 - acc: 0.0071 - val_loss: 381.0474 - val_acc: 0.0042\n",
      "Epoch 64/100\n",
      "31/31 [==============================] - 0s 5ms/step - loss: 390.5100 - acc: 0.0088 - val_loss: 356.4684 - val_acc: 0.0042\n",
      "Epoch 65/100\n",
      "31/31 [==============================] - 0s 5ms/step - loss: 349.3978 - acc: 0.0040 - val_loss: 359.1295 - val_acc: 0.0042\n",
      "Epoch 66/100\n",
      "31/31 [==============================] - 0s 5ms/step - loss: 402.8504 - acc: 0.0051 - val_loss: 347.1294 - val_acc: 0.0042\n",
      "Epoch 67/100\n",
      "31/31 [==============================] - 0s 5ms/step - loss: 333.9609 - acc: 0.0027 - val_loss: 403.0540 - val_acc: 0.0042\n",
      "Epoch 68/100\n",
      "31/31 [==============================] - 0s 5ms/step - loss: 420.6798 - acc: 0.0027 - val_loss: 366.8528 - val_acc: 0.0042\n",
      "Epoch 69/100\n",
      "31/31 [==============================] - 0s 5ms/step - loss: 402.8080 - acc: 0.0019 - val_loss: 350.8320 - val_acc: 0.0042\n",
      "Epoch 70/100\n",
      "31/31 [==============================] - 0s 5ms/step - loss: 401.9789 - acc: 0.0079 - val_loss: 346.9803 - val_acc: 0.0042\n",
      "Epoch 71/100\n",
      "31/31 [==============================] - 0s 5ms/step - loss: 412.3017 - acc: 0.0069 - val_loss: 362.4539 - val_acc: 0.0042\n",
      "Epoch 72/100\n",
      "31/31 [==============================] - 0s 6ms/step - loss: 360.7654 - acc: 0.0037 - val_loss: 347.9665 - val_acc: 0.0042\n",
      "Epoch 73/100\n",
      "31/31 [==============================] - 0s 6ms/step - loss: 392.8391 - acc: 0.0056 - val_loss: 365.2277 - val_acc: 0.0042\n",
      "Epoch 74/100\n",
      "31/31 [==============================] - 0s 6ms/step - loss: 369.9020 - acc: 0.0048 - val_loss: 372.3126 - val_acc: 0.0042\n",
      "Epoch 75/100\n",
      "31/31 [==============================] - 0s 6ms/step - loss: 385.4953 - acc: 0.0078 - val_loss: 351.5049 - val_acc: 0.0042\n",
      "Epoch 76/100\n",
      "31/31 [==============================] - 0s 5ms/step - loss: 364.0201 - acc: 0.0077 - val_loss: 345.3280 - val_acc: 0.0042\n",
      "Epoch 77/100\n",
      "31/31 [==============================] - 0s 5ms/step - loss: 364.8793 - acc: 0.0114 - val_loss: 363.1663 - val_acc: 0.0042\n",
      "Epoch 78/100\n",
      "31/31 [==============================] - 0s 5ms/step - loss: 437.4857 - acc: 0.0055 - val_loss: 423.3311 - val_acc: 0.0042\n",
      "Epoch 79/100\n",
      "31/31 [==============================] - 0s 5ms/step - loss: 441.0525 - acc: 0.0068 - val_loss: 399.0872 - val_acc: 0.0042\n",
      "Epoch 80/100\n",
      "31/31 [==============================] - 0s 5ms/step - loss: 434.8737 - acc: 0.0045 - val_loss: 486.1740 - val_acc: 0.0042\n",
      "Epoch 81/100\n",
      "31/31 [==============================] - 0s 6ms/step - loss: 467.2267 - acc: 0.0025 - val_loss: 392.2245 - val_acc: 0.0042\n",
      "Epoch 82/100\n",
      "31/31 [==============================] - 0s 5ms/step - loss: 356.0490 - acc: 0.0032 - val_loss: 345.2066 - val_acc: 0.0042\n",
      "Epoch 83/100\n",
      "31/31 [==============================] - 0s 6ms/step - loss: 364.6471 - acc: 0.0056 - val_loss: 354.0079 - val_acc: 0.0042\n",
      "Epoch 84/100\n",
      "31/31 [==============================] - 0s 6ms/step - loss: 387.7224 - acc: 0.0054 - val_loss: 354.5733 - val_acc: 0.0042\n",
      "Epoch 85/100\n",
      "31/31 [==============================] - 0s 6ms/step - loss: 332.0898 - acc: 0.0044 - val_loss: 346.5317 - val_acc: 0.0042\n",
      "Epoch 86/100\n",
      "31/31 [==============================] - 0s 6ms/step - loss: 347.2570 - acc: 0.0054 - val_loss: 364.9225 - val_acc: 0.0042\n",
      "Epoch 87/100\n",
      "31/31 [==============================] - 0s 5ms/step - loss: 372.7339 - acc: 0.0033 - val_loss: 346.5284 - val_acc: 0.0042\n",
      "Epoch 88/100\n",
      "31/31 [==============================] - 0s 5ms/step - loss: 358.9876 - acc: 0.0030 - val_loss: 355.5510 - val_acc: 0.0042\n",
      "Epoch 89/100\n",
      "31/31 [==============================] - 0s 6ms/step - loss: 365.9123 - acc: 0.0060 - val_loss: 348.6753 - val_acc: 0.0042\n",
      "Epoch 90/100\n",
      "31/31 [==============================] - 0s 6ms/step - loss: 370.5502 - acc: 0.0078 - val_loss: 347.0551 - val_acc: 0.0042\n",
      "Epoch 91/100\n",
      "31/31 [==============================] - 0s 5ms/step - loss: 395.9799 - acc: 0.0044 - val_loss: 353.7034 - val_acc: 0.0042\n",
      "Epoch 92/100\n",
      "31/31 [==============================] - 0s 6ms/step - loss: 416.0202 - acc: 0.0062 - val_loss: 348.7836 - val_acc: 0.0042\n",
      "Epoch 93/100\n",
      "31/31 [==============================] - 0s 6ms/step - loss: 387.4584 - acc: 0.0023 - val_loss: 351.9458 - val_acc: 0.0042\n",
      "Epoch 94/100\n",
      "31/31 [==============================] - 0s 5ms/step - loss: 391.2892 - acc: 0.0066 - val_loss: 381.0503 - val_acc: 0.0042\n",
      "Epoch 95/100\n",
      "31/31 [==============================] - 0s 5ms/step - loss: 362.8016 - acc: 0.0040 - val_loss: 345.5905 - val_acc: 0.0042\n",
      "Epoch 96/100\n",
      "31/31 [==============================] - 0s 6ms/step - loss: 373.0324 - acc: 0.0037 - val_loss: 351.2545 - val_acc: 0.0042\n",
      "Epoch 97/100\n",
      "31/31 [==============================] - 0s 5ms/step - loss: 375.2396 - acc: 0.0070 - val_loss: 646.2783 - val_acc: 0.0042\n",
      "Epoch 98/100\n",
      "31/31 [==============================] - 0s 5ms/step - loss: 531.3445 - acc: 0.0087 - val_loss: 347.5919 - val_acc: 0.0042\n",
      "Epoch 99/100\n",
      "31/31 [==============================] - 0s 6ms/step - loss: 384.8490 - acc: 0.0040 - val_loss: 354.4139 - val_acc: 0.0042\n",
      "Epoch 100/100\n",
      "31/31 [==============================] - 0s 6ms/step - loss: 370.1711 - acc: 0.0063 - val_loss: 360.6517 - val_acc: 0.0042\n"
     ]
    }
   ],
   "source": [
    "predict_fert.compile(\n",
    "    optimizer = tf.optimizers.Adam(learning_rate=0.1),\n",
    "    loss = tf.keras.losses.MSE,\n",
    "    metrics = ['acc']\n",
    ")\n",
    "\n",
    "hist = predict_fert.fit(\n",
    "    train_dataset,\n",
    "    validation_data=test_dataset,\n",
    "    #fertiliser,\n",
    "    epochs = 50,\n",
    "#    callbacks = [lr_schedule]\n",
    " )"
   ]
  },
  {
   "cell_type": "code",
   "execution_count": 33,
   "metadata": {},
   "outputs": [
    {
     "output_type": "error",
     "ename": "ValueError",
     "evalue": "Failed to convert a NumPy array to a Tensor (Unsupported object type numpy.float64).",
     "traceback": [
      "\u001b[1;31m---------------------------------------------------------------------------\u001b[0m",
      "\u001b[1;31mValueError\u001b[0m                                Traceback (most recent call last)",
      "\u001b[1;32m<ipython-input-33-37ff938c4eb2>\u001b[0m in \u001b[0;36m<module>\u001b[1;34m\u001b[0m\n\u001b[1;32m----> 1\u001b[1;33m predict_fert.predict(np.expand_dims(\n\u001b[0m\u001b[0;32m      2\u001b[0m     \u001b[0mFERTILISER_TEST_FEATURES\u001b[0m\u001b[1;33m.\u001b[0m\u001b[0mloc\u001b[0m\u001b[1;33m[\u001b[0m\u001b[1;36m0\u001b[0m\u001b[1;33m]\u001b[0m\u001b[1;33m.\u001b[0m\u001b[0mvalues\u001b[0m\u001b[1;33m,\u001b[0m\u001b[1;33m\u001b[0m\u001b[1;33m\u001b[0m\u001b[0m\n\u001b[0;32m      3\u001b[0m     \u001b[1;36m0\u001b[0m\u001b[1;33m\u001b[0m\u001b[1;33m\u001b[0m\u001b[0m\n\u001b[0;32m      4\u001b[0m     ))\n",
      "\u001b[1;32mC:\\tools\\miniconda3\\lib\\site-packages\\tensorflow\\python\\keras\\engine\\training.py\u001b[0m in \u001b[0;36mpredict\u001b[1;34m(self, x, batch_size, verbose, steps, callbacks, max_queue_size, workers, use_multiprocessing)\u001b[0m\n\u001b[0;32m   1699\u001b[0m                         '. Consider setting it to AutoShardPolicy.DATA.')\n\u001b[0;32m   1700\u001b[0m \u001b[1;33m\u001b[0m\u001b[0m\n\u001b[1;32m-> 1701\u001b[1;33m       data_handler = data_adapter.get_data_handler(\n\u001b[0m\u001b[0;32m   1702\u001b[0m           \u001b[0mx\u001b[0m\u001b[1;33m=\u001b[0m\u001b[0mx\u001b[0m\u001b[1;33m,\u001b[0m\u001b[1;33m\u001b[0m\u001b[1;33m\u001b[0m\u001b[0m\n\u001b[0;32m   1703\u001b[0m           \u001b[0mbatch_size\u001b[0m\u001b[1;33m=\u001b[0m\u001b[0mbatch_size\u001b[0m\u001b[1;33m,\u001b[0m\u001b[1;33m\u001b[0m\u001b[1;33m\u001b[0m\u001b[0m\n",
      "\u001b[1;32mC:\\tools\\miniconda3\\lib\\site-packages\\tensorflow\\python\\keras\\engine\\data_adapter.py\u001b[0m in \u001b[0;36mget_data_handler\u001b[1;34m(*args, **kwargs)\u001b[0m\n\u001b[0;32m   1364\u001b[0m   \u001b[1;32mif\u001b[0m \u001b[0mgetattr\u001b[0m\u001b[1;33m(\u001b[0m\u001b[0mkwargs\u001b[0m\u001b[1;33m[\u001b[0m\u001b[1;34m\"model\"\u001b[0m\u001b[1;33m]\u001b[0m\u001b[1;33m,\u001b[0m \u001b[1;34m\"_cluster_coordinator\"\u001b[0m\u001b[1;33m,\u001b[0m \u001b[1;32mNone\u001b[0m\u001b[1;33m)\u001b[0m\u001b[1;33m:\u001b[0m\u001b[1;33m\u001b[0m\u001b[1;33m\u001b[0m\u001b[0m\n\u001b[0;32m   1365\u001b[0m     \u001b[1;32mreturn\u001b[0m \u001b[0m_ClusterCoordinatorDataHandler\u001b[0m\u001b[1;33m(\u001b[0m\u001b[1;33m*\u001b[0m\u001b[0margs\u001b[0m\u001b[1;33m,\u001b[0m \u001b[1;33m**\u001b[0m\u001b[0mkwargs\u001b[0m\u001b[1;33m)\u001b[0m\u001b[1;33m\u001b[0m\u001b[1;33m\u001b[0m\u001b[0m\n\u001b[1;32m-> 1366\u001b[1;33m   \u001b[1;32mreturn\u001b[0m \u001b[0mDataHandler\u001b[0m\u001b[1;33m(\u001b[0m\u001b[1;33m*\u001b[0m\u001b[0margs\u001b[0m\u001b[1;33m,\u001b[0m \u001b[1;33m**\u001b[0m\u001b[0mkwargs\u001b[0m\u001b[1;33m)\u001b[0m\u001b[1;33m\u001b[0m\u001b[1;33m\u001b[0m\u001b[0m\n\u001b[0m\u001b[0;32m   1367\u001b[0m \u001b[1;33m\u001b[0m\u001b[0m\n\u001b[0;32m   1368\u001b[0m \u001b[1;33m\u001b[0m\u001b[0m\n",
      "\u001b[1;32mC:\\tools\\miniconda3\\lib\\site-packages\\tensorflow\\python\\keras\\engine\\data_adapter.py\u001b[0m in \u001b[0;36m__init__\u001b[1;34m(self, x, y, sample_weight, batch_size, steps_per_epoch, initial_epoch, epochs, shuffle, class_weight, max_queue_size, workers, use_multiprocessing, model, steps_per_execution, distribute)\u001b[0m\n\u001b[0;32m   1153\u001b[0m     \u001b[0madapter_cls\u001b[0m \u001b[1;33m=\u001b[0m \u001b[0mselect_data_adapter\u001b[0m\u001b[1;33m(\u001b[0m\u001b[0mx\u001b[0m\u001b[1;33m,\u001b[0m \u001b[0my\u001b[0m\u001b[1;33m)\u001b[0m\u001b[1;33m\u001b[0m\u001b[1;33m\u001b[0m\u001b[0m\n\u001b[0;32m   1154\u001b[0m     \u001b[0mself\u001b[0m\u001b[1;33m.\u001b[0m\u001b[0m_verify_data_adapter_compatibility\u001b[0m\u001b[1;33m(\u001b[0m\u001b[0madapter_cls\u001b[0m\u001b[1;33m)\u001b[0m\u001b[1;33m\u001b[0m\u001b[1;33m\u001b[0m\u001b[0m\n\u001b[1;32m-> 1155\u001b[1;33m     self._adapter = adapter_cls(\n\u001b[0m\u001b[0;32m   1156\u001b[0m         \u001b[0mx\u001b[0m\u001b[1;33m,\u001b[0m\u001b[1;33m\u001b[0m\u001b[1;33m\u001b[0m\u001b[0m\n\u001b[0;32m   1157\u001b[0m         \u001b[0my\u001b[0m\u001b[1;33m,\u001b[0m\u001b[1;33m\u001b[0m\u001b[1;33m\u001b[0m\u001b[0m\n",
      "\u001b[1;32mC:\\tools\\miniconda3\\lib\\site-packages\\tensorflow\\python\\keras\\engine\\data_adapter.py\u001b[0m in \u001b[0;36m__init__\u001b[1;34m(self, x, y, sample_weights, sample_weight_modes, batch_size, epochs, steps, shuffle, **kwargs)\u001b[0m\n\u001b[0;32m    245\u001b[0m                **kwargs):\n\u001b[0;32m    246\u001b[0m     \u001b[0msuper\u001b[0m\u001b[1;33m(\u001b[0m\u001b[0mTensorLikeDataAdapter\u001b[0m\u001b[1;33m,\u001b[0m \u001b[0mself\u001b[0m\u001b[1;33m)\u001b[0m\u001b[1;33m.\u001b[0m\u001b[0m__init__\u001b[0m\u001b[1;33m(\u001b[0m\u001b[0mx\u001b[0m\u001b[1;33m,\u001b[0m \u001b[0my\u001b[0m\u001b[1;33m,\u001b[0m \u001b[1;33m**\u001b[0m\u001b[0mkwargs\u001b[0m\u001b[1;33m)\u001b[0m\u001b[1;33m\u001b[0m\u001b[1;33m\u001b[0m\u001b[0m\n\u001b[1;32m--> 247\u001b[1;33m     \u001b[0mx\u001b[0m\u001b[1;33m,\u001b[0m \u001b[0my\u001b[0m\u001b[1;33m,\u001b[0m \u001b[0msample_weights\u001b[0m \u001b[1;33m=\u001b[0m \u001b[0m_process_tensorlike\u001b[0m\u001b[1;33m(\u001b[0m\u001b[1;33m(\u001b[0m\u001b[0mx\u001b[0m\u001b[1;33m,\u001b[0m \u001b[0my\u001b[0m\u001b[1;33m,\u001b[0m \u001b[0msample_weights\u001b[0m\u001b[1;33m)\u001b[0m\u001b[1;33m)\u001b[0m\u001b[1;33m\u001b[0m\u001b[1;33m\u001b[0m\u001b[0m\n\u001b[0m\u001b[0;32m    248\u001b[0m     sample_weight_modes = broadcast_sample_weight_modes(\n\u001b[0;32m    249\u001b[0m         sample_weights, sample_weight_modes)\n",
      "\u001b[1;32mC:\\tools\\miniconda3\\lib\\site-packages\\tensorflow\\python\\keras\\engine\\data_adapter.py\u001b[0m in \u001b[0;36m_process_tensorlike\u001b[1;34m(inputs)\u001b[0m\n\u001b[0;32m   1045\u001b[0m     \u001b[1;32mreturn\u001b[0m \u001b[0mx\u001b[0m\u001b[1;33m\u001b[0m\u001b[1;33m\u001b[0m\u001b[0m\n\u001b[0;32m   1046\u001b[0m \u001b[1;33m\u001b[0m\u001b[0m\n\u001b[1;32m-> 1047\u001b[1;33m   \u001b[0minputs\u001b[0m \u001b[1;33m=\u001b[0m \u001b[0mnest\u001b[0m\u001b[1;33m.\u001b[0m\u001b[0mmap_structure\u001b[0m\u001b[1;33m(\u001b[0m\u001b[0m_convert_numpy_and_scipy\u001b[0m\u001b[1;33m,\u001b[0m \u001b[0minputs\u001b[0m\u001b[1;33m)\u001b[0m\u001b[1;33m\u001b[0m\u001b[1;33m\u001b[0m\u001b[0m\n\u001b[0m\u001b[0;32m   1048\u001b[0m   \u001b[1;32mreturn\u001b[0m \u001b[0mnest\u001b[0m\u001b[1;33m.\u001b[0m\u001b[0mlist_to_tuple\u001b[0m\u001b[1;33m(\u001b[0m\u001b[0minputs\u001b[0m\u001b[1;33m)\u001b[0m\u001b[1;33m\u001b[0m\u001b[1;33m\u001b[0m\u001b[0m\n\u001b[0;32m   1049\u001b[0m \u001b[1;33m\u001b[0m\u001b[0m\n",
      "\u001b[1;32mC:\\tools\\miniconda3\\lib\\site-packages\\tensorflow\\python\\util\\nest.py\u001b[0m in \u001b[0;36mmap_structure\u001b[1;34m(func, *structure, **kwargs)\u001b[0m\n\u001b[0;32m    865\u001b[0m \u001b[1;33m\u001b[0m\u001b[0m\n\u001b[0;32m    866\u001b[0m   return pack_sequence_as(\n\u001b[1;32m--> 867\u001b[1;33m       \u001b[0mstructure\u001b[0m\u001b[1;33m[\u001b[0m\u001b[1;36m0\u001b[0m\u001b[1;33m]\u001b[0m\u001b[1;33m,\u001b[0m \u001b[1;33m[\u001b[0m\u001b[0mfunc\u001b[0m\u001b[1;33m(\u001b[0m\u001b[1;33m*\u001b[0m\u001b[0mx\u001b[0m\u001b[1;33m)\u001b[0m \u001b[1;32mfor\u001b[0m \u001b[0mx\u001b[0m \u001b[1;32min\u001b[0m \u001b[0mentries\u001b[0m\u001b[1;33m]\u001b[0m\u001b[1;33m,\u001b[0m\u001b[1;33m\u001b[0m\u001b[1;33m\u001b[0m\u001b[0m\n\u001b[0m\u001b[0;32m    868\u001b[0m       expand_composites=expand_composites)\n\u001b[0;32m    869\u001b[0m \u001b[1;33m\u001b[0m\u001b[0m\n",
      "\u001b[1;32mC:\\tools\\miniconda3\\lib\\site-packages\\tensorflow\\python\\util\\nest.py\u001b[0m in \u001b[0;36m<listcomp>\u001b[1;34m(.0)\u001b[0m\n\u001b[0;32m    865\u001b[0m \u001b[1;33m\u001b[0m\u001b[0m\n\u001b[0;32m    866\u001b[0m   return pack_sequence_as(\n\u001b[1;32m--> 867\u001b[1;33m       \u001b[0mstructure\u001b[0m\u001b[1;33m[\u001b[0m\u001b[1;36m0\u001b[0m\u001b[1;33m]\u001b[0m\u001b[1;33m,\u001b[0m \u001b[1;33m[\u001b[0m\u001b[0mfunc\u001b[0m\u001b[1;33m(\u001b[0m\u001b[1;33m*\u001b[0m\u001b[0mx\u001b[0m\u001b[1;33m)\u001b[0m \u001b[1;32mfor\u001b[0m \u001b[0mx\u001b[0m \u001b[1;32min\u001b[0m \u001b[0mentries\u001b[0m\u001b[1;33m]\u001b[0m\u001b[1;33m,\u001b[0m\u001b[1;33m\u001b[0m\u001b[1;33m\u001b[0m\u001b[0m\n\u001b[0m\u001b[0;32m    868\u001b[0m       expand_composites=expand_composites)\n\u001b[0;32m    869\u001b[0m \u001b[1;33m\u001b[0m\u001b[0m\n",
      "\u001b[1;32mC:\\tools\\miniconda3\\lib\\site-packages\\tensorflow\\python\\keras\\engine\\data_adapter.py\u001b[0m in \u001b[0;36m_convert_numpy_and_scipy\u001b[1;34m(x)\u001b[0m\n\u001b[0;32m   1040\u001b[0m       \u001b[1;32mif\u001b[0m \u001b[0missubclass\u001b[0m\u001b[1;33m(\u001b[0m\u001b[0mx\u001b[0m\u001b[1;33m.\u001b[0m\u001b[0mdtype\u001b[0m\u001b[1;33m.\u001b[0m\u001b[0mtype\u001b[0m\u001b[1;33m,\u001b[0m \u001b[0mnp\u001b[0m\u001b[1;33m.\u001b[0m\u001b[0mfloating\u001b[0m\u001b[1;33m)\u001b[0m\u001b[1;33m:\u001b[0m\u001b[1;33m\u001b[0m\u001b[1;33m\u001b[0m\u001b[0m\n\u001b[0;32m   1041\u001b[0m         \u001b[0mdtype\u001b[0m \u001b[1;33m=\u001b[0m \u001b[0mbackend\u001b[0m\u001b[1;33m.\u001b[0m\u001b[0mfloatx\u001b[0m\u001b[1;33m(\u001b[0m\u001b[1;33m)\u001b[0m\u001b[1;33m\u001b[0m\u001b[1;33m\u001b[0m\u001b[0m\n\u001b[1;32m-> 1042\u001b[1;33m       \u001b[1;32mreturn\u001b[0m \u001b[0mops\u001b[0m\u001b[1;33m.\u001b[0m\u001b[0mconvert_to_tensor_v2_with_dispatch\u001b[0m\u001b[1;33m(\u001b[0m\u001b[0mx\u001b[0m\u001b[1;33m,\u001b[0m \u001b[0mdtype\u001b[0m\u001b[1;33m=\u001b[0m\u001b[0mdtype\u001b[0m\u001b[1;33m)\u001b[0m\u001b[1;33m\u001b[0m\u001b[1;33m\u001b[0m\u001b[0m\n\u001b[0m\u001b[0;32m   1043\u001b[0m     \u001b[1;32melif\u001b[0m \u001b[0m_is_scipy_sparse\u001b[0m\u001b[1;33m(\u001b[0m\u001b[0mx\u001b[0m\u001b[1;33m)\u001b[0m\u001b[1;33m:\u001b[0m\u001b[1;33m\u001b[0m\u001b[1;33m\u001b[0m\u001b[0m\n\u001b[0;32m   1044\u001b[0m       \u001b[1;32mreturn\u001b[0m \u001b[0m_scipy_sparse_to_sparse_tensor\u001b[0m\u001b[1;33m(\u001b[0m\u001b[0mx\u001b[0m\u001b[1;33m)\u001b[0m\u001b[1;33m\u001b[0m\u001b[1;33m\u001b[0m\u001b[0m\n",
      "\u001b[1;32mC:\\tools\\miniconda3\\lib\\site-packages\\tensorflow\\python\\util\\dispatch.py\u001b[0m in \u001b[0;36mwrapper\u001b[1;34m(*args, **kwargs)\u001b[0m\n\u001b[0;32m    204\u001b[0m     \u001b[1;34m\"\"\"Call target, and fall back on dispatchers if there is a TypeError.\"\"\"\u001b[0m\u001b[1;33m\u001b[0m\u001b[1;33m\u001b[0m\u001b[0m\n\u001b[0;32m    205\u001b[0m     \u001b[1;32mtry\u001b[0m\u001b[1;33m:\u001b[0m\u001b[1;33m\u001b[0m\u001b[1;33m\u001b[0m\u001b[0m\n\u001b[1;32m--> 206\u001b[1;33m       \u001b[1;32mreturn\u001b[0m \u001b[0mtarget\u001b[0m\u001b[1;33m(\u001b[0m\u001b[1;33m*\u001b[0m\u001b[0margs\u001b[0m\u001b[1;33m,\u001b[0m \u001b[1;33m**\u001b[0m\u001b[0mkwargs\u001b[0m\u001b[1;33m)\u001b[0m\u001b[1;33m\u001b[0m\u001b[1;33m\u001b[0m\u001b[0m\n\u001b[0m\u001b[0;32m    207\u001b[0m     \u001b[1;32mexcept\u001b[0m \u001b[1;33m(\u001b[0m\u001b[0mTypeError\u001b[0m\u001b[1;33m,\u001b[0m \u001b[0mValueError\u001b[0m\u001b[1;33m)\u001b[0m\u001b[1;33m:\u001b[0m\u001b[1;33m\u001b[0m\u001b[1;33m\u001b[0m\u001b[0m\n\u001b[0;32m    208\u001b[0m       \u001b[1;31m# Note: convert_to_eager_tensor currently raises a ValueError, not a\u001b[0m\u001b[1;33m\u001b[0m\u001b[1;33m\u001b[0m\u001b[1;33m\u001b[0m\u001b[0m\n",
      "\u001b[1;32mC:\\tools\\miniconda3\\lib\\site-packages\\tensorflow\\python\\framework\\ops.py\u001b[0m in \u001b[0;36mconvert_to_tensor_v2_with_dispatch\u001b[1;34m(value, dtype, dtype_hint, name)\u001b[0m\n\u001b[0;32m   1432\u001b[0m     \u001b[0mValueError\u001b[0m\u001b[1;33m:\u001b[0m \u001b[0mIf\u001b[0m \u001b[0mthe\u001b[0m\u001b[0;31m \u001b[0m\u001b[0;31m`\u001b[0m\u001b[0mvalue\u001b[0m\u001b[0;31m`\u001b[0m \u001b[1;32mis\u001b[0m \u001b[0ma\u001b[0m \u001b[0mtensor\u001b[0m \u001b[1;32mnot\u001b[0m \u001b[0mof\u001b[0m \u001b[0mgiven\u001b[0m\u001b[0;31m \u001b[0m\u001b[0;31m`\u001b[0m\u001b[0mdtype\u001b[0m\u001b[0;31m`\u001b[0m \u001b[1;32min\u001b[0m \u001b[0mgraph\u001b[0m \u001b[0mmode\u001b[0m\u001b[1;33m.\u001b[0m\u001b[1;33m\u001b[0m\u001b[1;33m\u001b[0m\u001b[0m\n\u001b[0;32m   1433\u001b[0m   \"\"\"\n\u001b[1;32m-> 1434\u001b[1;33m   return convert_to_tensor_v2(\n\u001b[0m\u001b[0;32m   1435\u001b[0m       value, dtype=dtype, dtype_hint=dtype_hint, name=name)\n\u001b[0;32m   1436\u001b[0m \u001b[1;33m\u001b[0m\u001b[0m\n",
      "\u001b[1;32mC:\\tools\\miniconda3\\lib\\site-packages\\tensorflow\\python\\framework\\ops.py\u001b[0m in \u001b[0;36mconvert_to_tensor_v2\u001b[1;34m(value, dtype, dtype_hint, name)\u001b[0m\n\u001b[0;32m   1438\u001b[0m \u001b[1;32mdef\u001b[0m \u001b[0mconvert_to_tensor_v2\u001b[0m\u001b[1;33m(\u001b[0m\u001b[0mvalue\u001b[0m\u001b[1;33m,\u001b[0m \u001b[0mdtype\u001b[0m\u001b[1;33m=\u001b[0m\u001b[1;32mNone\u001b[0m\u001b[1;33m,\u001b[0m \u001b[0mdtype_hint\u001b[0m\u001b[1;33m=\u001b[0m\u001b[1;32mNone\u001b[0m\u001b[1;33m,\u001b[0m \u001b[0mname\u001b[0m\u001b[1;33m=\u001b[0m\u001b[1;32mNone\u001b[0m\u001b[1;33m)\u001b[0m\u001b[1;33m:\u001b[0m\u001b[1;33m\u001b[0m\u001b[1;33m\u001b[0m\u001b[0m\n\u001b[0;32m   1439\u001b[0m   \u001b[1;34m\"\"\"Converts the given `value` to a `Tensor`.\"\"\"\u001b[0m\u001b[1;33m\u001b[0m\u001b[1;33m\u001b[0m\u001b[0m\n\u001b[1;32m-> 1440\u001b[1;33m   return convert_to_tensor(\n\u001b[0m\u001b[0;32m   1441\u001b[0m       \u001b[0mvalue\u001b[0m\u001b[1;33m=\u001b[0m\u001b[0mvalue\u001b[0m\u001b[1;33m,\u001b[0m\u001b[1;33m\u001b[0m\u001b[1;33m\u001b[0m\u001b[0m\n\u001b[0;32m   1442\u001b[0m       \u001b[0mdtype\u001b[0m\u001b[1;33m=\u001b[0m\u001b[0mdtype\u001b[0m\u001b[1;33m,\u001b[0m\u001b[1;33m\u001b[0m\u001b[1;33m\u001b[0m\u001b[0m\n",
      "\u001b[1;32mC:\\tools\\miniconda3\\lib\\site-packages\\tensorflow\\python\\profiler\\trace.py\u001b[0m in \u001b[0;36mwrapped\u001b[1;34m(*args, **kwargs)\u001b[0m\n\u001b[0;32m    161\u001b[0m         \u001b[1;32mwith\u001b[0m \u001b[0mTrace\u001b[0m\u001b[1;33m(\u001b[0m\u001b[0mtrace_name\u001b[0m\u001b[1;33m,\u001b[0m \u001b[1;33m**\u001b[0m\u001b[0mtrace_kwargs\u001b[0m\u001b[1;33m)\u001b[0m\u001b[1;33m:\u001b[0m\u001b[1;33m\u001b[0m\u001b[1;33m\u001b[0m\u001b[0m\n\u001b[0;32m    162\u001b[0m           \u001b[1;32mreturn\u001b[0m \u001b[0mfunc\u001b[0m\u001b[1;33m(\u001b[0m\u001b[1;33m*\u001b[0m\u001b[0margs\u001b[0m\u001b[1;33m,\u001b[0m \u001b[1;33m**\u001b[0m\u001b[0mkwargs\u001b[0m\u001b[1;33m)\u001b[0m\u001b[1;33m\u001b[0m\u001b[1;33m\u001b[0m\u001b[0m\n\u001b[1;32m--> 163\u001b[1;33m       \u001b[1;32mreturn\u001b[0m \u001b[0mfunc\u001b[0m\u001b[1;33m(\u001b[0m\u001b[1;33m*\u001b[0m\u001b[0margs\u001b[0m\u001b[1;33m,\u001b[0m \u001b[1;33m**\u001b[0m\u001b[0mkwargs\u001b[0m\u001b[1;33m)\u001b[0m\u001b[1;33m\u001b[0m\u001b[1;33m\u001b[0m\u001b[0m\n\u001b[0m\u001b[0;32m    164\u001b[0m \u001b[1;33m\u001b[0m\u001b[0m\n\u001b[0;32m    165\u001b[0m     \u001b[1;32mreturn\u001b[0m \u001b[0mwrapped\u001b[0m\u001b[1;33m\u001b[0m\u001b[1;33m\u001b[0m\u001b[0m\n",
      "\u001b[1;32mC:\\tools\\miniconda3\\lib\\site-packages\\tensorflow\\python\\framework\\ops.py\u001b[0m in \u001b[0;36mconvert_to_tensor\u001b[1;34m(value, dtype, name, as_ref, preferred_dtype, dtype_hint, ctx, accepted_result_types)\u001b[0m\n\u001b[0;32m   1568\u001b[0m \u001b[1;33m\u001b[0m\u001b[0m\n\u001b[0;32m   1569\u001b[0m     \u001b[1;32mif\u001b[0m \u001b[0mret\u001b[0m \u001b[1;32mis\u001b[0m \u001b[1;32mNone\u001b[0m\u001b[1;33m:\u001b[0m\u001b[1;33m\u001b[0m\u001b[1;33m\u001b[0m\u001b[0m\n\u001b[1;32m-> 1570\u001b[1;33m       \u001b[0mret\u001b[0m \u001b[1;33m=\u001b[0m \u001b[0mconversion_func\u001b[0m\u001b[1;33m(\u001b[0m\u001b[0mvalue\u001b[0m\u001b[1;33m,\u001b[0m \u001b[0mdtype\u001b[0m\u001b[1;33m=\u001b[0m\u001b[0mdtype\u001b[0m\u001b[1;33m,\u001b[0m \u001b[0mname\u001b[0m\u001b[1;33m=\u001b[0m\u001b[0mname\u001b[0m\u001b[1;33m,\u001b[0m \u001b[0mas_ref\u001b[0m\u001b[1;33m=\u001b[0m\u001b[0mas_ref\u001b[0m\u001b[1;33m)\u001b[0m\u001b[1;33m\u001b[0m\u001b[1;33m\u001b[0m\u001b[0m\n\u001b[0m\u001b[0;32m   1571\u001b[0m \u001b[1;33m\u001b[0m\u001b[0m\n\u001b[0;32m   1572\u001b[0m     \u001b[1;32mif\u001b[0m \u001b[0mret\u001b[0m \u001b[1;32mis\u001b[0m \u001b[0mNotImplemented\u001b[0m\u001b[1;33m:\u001b[0m\u001b[1;33m\u001b[0m\u001b[1;33m\u001b[0m\u001b[0m\n",
      "\u001b[1;32mC:\\tools\\miniconda3\\lib\\site-packages\\tensorflow\\python\\framework\\tensor_conversion_registry.py\u001b[0m in \u001b[0;36m_default_conversion_function\u001b[1;34m(***failed resolving arguments***)\u001b[0m\n\u001b[0;32m     50\u001b[0m \u001b[1;32mdef\u001b[0m \u001b[0m_default_conversion_function\u001b[0m\u001b[1;33m(\u001b[0m\u001b[0mvalue\u001b[0m\u001b[1;33m,\u001b[0m \u001b[0mdtype\u001b[0m\u001b[1;33m,\u001b[0m \u001b[0mname\u001b[0m\u001b[1;33m,\u001b[0m \u001b[0mas_ref\u001b[0m\u001b[1;33m)\u001b[0m\u001b[1;33m:\u001b[0m\u001b[1;33m\u001b[0m\u001b[1;33m\u001b[0m\u001b[0m\n\u001b[0;32m     51\u001b[0m   \u001b[1;32mdel\u001b[0m \u001b[0mas_ref\u001b[0m  \u001b[1;31m# Unused.\u001b[0m\u001b[1;33m\u001b[0m\u001b[1;33m\u001b[0m\u001b[0m\n\u001b[1;32m---> 52\u001b[1;33m   \u001b[1;32mreturn\u001b[0m \u001b[0mconstant_op\u001b[0m\u001b[1;33m.\u001b[0m\u001b[0mconstant\u001b[0m\u001b[1;33m(\u001b[0m\u001b[0mvalue\u001b[0m\u001b[1;33m,\u001b[0m \u001b[0mdtype\u001b[0m\u001b[1;33m,\u001b[0m \u001b[0mname\u001b[0m\u001b[1;33m=\u001b[0m\u001b[0mname\u001b[0m\u001b[1;33m)\u001b[0m\u001b[1;33m\u001b[0m\u001b[1;33m\u001b[0m\u001b[0m\n\u001b[0m\u001b[0;32m     53\u001b[0m \u001b[1;33m\u001b[0m\u001b[0m\n\u001b[0;32m     54\u001b[0m \u001b[1;33m\u001b[0m\u001b[0m\n",
      "\u001b[1;32mC:\\tools\\miniconda3\\lib\\site-packages\\tensorflow\\python\\framework\\constant_op.py\u001b[0m in \u001b[0;36mconstant\u001b[1;34m(value, dtype, shape, name)\u001b[0m\n\u001b[0;32m    262\u001b[0m     \u001b[0mValueError\u001b[0m\u001b[1;33m:\u001b[0m \u001b[1;32mif\u001b[0m \u001b[0mcalled\u001b[0m \u001b[0mon\u001b[0m \u001b[0ma\u001b[0m \u001b[0msymbolic\u001b[0m \u001b[0mtensor\u001b[0m\u001b[1;33m.\u001b[0m\u001b[1;33m\u001b[0m\u001b[1;33m\u001b[0m\u001b[0m\n\u001b[0;32m    263\u001b[0m   \"\"\"\n\u001b[1;32m--> 264\u001b[1;33m   return _constant_impl(value, dtype, shape, name, verify_shape=False,\n\u001b[0m\u001b[0;32m    265\u001b[0m                         allow_broadcast=True)\n\u001b[0;32m    266\u001b[0m \u001b[1;33m\u001b[0m\u001b[0m\n",
      "\u001b[1;32mC:\\tools\\miniconda3\\lib\\site-packages\\tensorflow\\python\\framework\\constant_op.py\u001b[0m in \u001b[0;36m_constant_impl\u001b[1;34m(value, dtype, shape, name, verify_shape, allow_broadcast)\u001b[0m\n\u001b[0;32m    274\u001b[0m       \u001b[1;32mwith\u001b[0m \u001b[0mtrace\u001b[0m\u001b[1;33m.\u001b[0m\u001b[0mTrace\u001b[0m\u001b[1;33m(\u001b[0m\u001b[1;34m\"tf.constant\"\u001b[0m\u001b[1;33m)\u001b[0m\u001b[1;33m:\u001b[0m\u001b[1;33m\u001b[0m\u001b[1;33m\u001b[0m\u001b[0m\n\u001b[0;32m    275\u001b[0m         \u001b[1;32mreturn\u001b[0m \u001b[0m_constant_eager_impl\u001b[0m\u001b[1;33m(\u001b[0m\u001b[0mctx\u001b[0m\u001b[1;33m,\u001b[0m \u001b[0mvalue\u001b[0m\u001b[1;33m,\u001b[0m \u001b[0mdtype\u001b[0m\u001b[1;33m,\u001b[0m \u001b[0mshape\u001b[0m\u001b[1;33m,\u001b[0m \u001b[0mverify_shape\u001b[0m\u001b[1;33m)\u001b[0m\u001b[1;33m\u001b[0m\u001b[1;33m\u001b[0m\u001b[0m\n\u001b[1;32m--> 276\u001b[1;33m     \u001b[1;32mreturn\u001b[0m \u001b[0m_constant_eager_impl\u001b[0m\u001b[1;33m(\u001b[0m\u001b[0mctx\u001b[0m\u001b[1;33m,\u001b[0m \u001b[0mvalue\u001b[0m\u001b[1;33m,\u001b[0m \u001b[0mdtype\u001b[0m\u001b[1;33m,\u001b[0m \u001b[0mshape\u001b[0m\u001b[1;33m,\u001b[0m \u001b[0mverify_shape\u001b[0m\u001b[1;33m)\u001b[0m\u001b[1;33m\u001b[0m\u001b[1;33m\u001b[0m\u001b[0m\n\u001b[0m\u001b[0;32m    277\u001b[0m \u001b[1;33m\u001b[0m\u001b[0m\n\u001b[0;32m    278\u001b[0m   \u001b[0mg\u001b[0m \u001b[1;33m=\u001b[0m \u001b[0mops\u001b[0m\u001b[1;33m.\u001b[0m\u001b[0mget_default_graph\u001b[0m\u001b[1;33m(\u001b[0m\u001b[1;33m)\u001b[0m\u001b[1;33m\u001b[0m\u001b[1;33m\u001b[0m\u001b[0m\n",
      "\u001b[1;32mC:\\tools\\miniconda3\\lib\\site-packages\\tensorflow\\python\\framework\\constant_op.py\u001b[0m in \u001b[0;36m_constant_eager_impl\u001b[1;34m(ctx, value, dtype, shape, verify_shape)\u001b[0m\n\u001b[0;32m    299\u001b[0m \u001b[1;32mdef\u001b[0m \u001b[0m_constant_eager_impl\u001b[0m\u001b[1;33m(\u001b[0m\u001b[0mctx\u001b[0m\u001b[1;33m,\u001b[0m \u001b[0mvalue\u001b[0m\u001b[1;33m,\u001b[0m \u001b[0mdtype\u001b[0m\u001b[1;33m,\u001b[0m \u001b[0mshape\u001b[0m\u001b[1;33m,\u001b[0m \u001b[0mverify_shape\u001b[0m\u001b[1;33m)\u001b[0m\u001b[1;33m:\u001b[0m\u001b[1;33m\u001b[0m\u001b[1;33m\u001b[0m\u001b[0m\n\u001b[0;32m    300\u001b[0m   \u001b[1;34m\"\"\"Implementation of eager constant.\"\"\"\u001b[0m\u001b[1;33m\u001b[0m\u001b[1;33m\u001b[0m\u001b[0m\n\u001b[1;32m--> 301\u001b[1;33m   \u001b[0mt\u001b[0m \u001b[1;33m=\u001b[0m \u001b[0mconvert_to_eager_tensor\u001b[0m\u001b[1;33m(\u001b[0m\u001b[0mvalue\u001b[0m\u001b[1;33m,\u001b[0m \u001b[0mctx\u001b[0m\u001b[1;33m,\u001b[0m \u001b[0mdtype\u001b[0m\u001b[1;33m)\u001b[0m\u001b[1;33m\u001b[0m\u001b[1;33m\u001b[0m\u001b[0m\n\u001b[0m\u001b[0;32m    302\u001b[0m   \u001b[1;32mif\u001b[0m \u001b[0mshape\u001b[0m \u001b[1;32mis\u001b[0m \u001b[1;32mNone\u001b[0m\u001b[1;33m:\u001b[0m\u001b[1;33m\u001b[0m\u001b[1;33m\u001b[0m\u001b[0m\n\u001b[0;32m    303\u001b[0m     \u001b[1;32mreturn\u001b[0m \u001b[0mt\u001b[0m\u001b[1;33m\u001b[0m\u001b[1;33m\u001b[0m\u001b[0m\n",
      "\u001b[1;32mC:\\tools\\miniconda3\\lib\\site-packages\\tensorflow\\python\\framework\\constant_op.py\u001b[0m in \u001b[0;36mconvert_to_eager_tensor\u001b[1;34m(value, ctx, dtype)\u001b[0m\n\u001b[0;32m     96\u001b[0m       \u001b[0mdtype\u001b[0m \u001b[1;33m=\u001b[0m \u001b[0mdtypes\u001b[0m\u001b[1;33m.\u001b[0m\u001b[0mas_dtype\u001b[0m\u001b[1;33m(\u001b[0m\u001b[0mdtype\u001b[0m\u001b[1;33m)\u001b[0m\u001b[1;33m.\u001b[0m\u001b[0mas_datatype_enum\u001b[0m\u001b[1;33m\u001b[0m\u001b[1;33m\u001b[0m\u001b[0m\n\u001b[0;32m     97\u001b[0m   \u001b[0mctx\u001b[0m\u001b[1;33m.\u001b[0m\u001b[0mensure_initialized\u001b[0m\u001b[1;33m(\u001b[0m\u001b[1;33m)\u001b[0m\u001b[1;33m\u001b[0m\u001b[1;33m\u001b[0m\u001b[0m\n\u001b[1;32m---> 98\u001b[1;33m   \u001b[1;32mreturn\u001b[0m \u001b[0mops\u001b[0m\u001b[1;33m.\u001b[0m\u001b[0mEagerTensor\u001b[0m\u001b[1;33m(\u001b[0m\u001b[0mvalue\u001b[0m\u001b[1;33m,\u001b[0m \u001b[0mctx\u001b[0m\u001b[1;33m.\u001b[0m\u001b[0mdevice_name\u001b[0m\u001b[1;33m,\u001b[0m \u001b[0mdtype\u001b[0m\u001b[1;33m)\u001b[0m\u001b[1;33m\u001b[0m\u001b[1;33m\u001b[0m\u001b[0m\n\u001b[0m\u001b[0;32m     99\u001b[0m \u001b[1;33m\u001b[0m\u001b[0m\n\u001b[0;32m    100\u001b[0m \u001b[1;33m\u001b[0m\u001b[0m\n",
      "\u001b[1;31mValueError\u001b[0m: Failed to convert a NumPy array to a Tensor (Unsupported object type numpy.float64)."
     ]
    }
   ],
   "source": [
    "predict_fert.predict(np.expand_dims(\n",
    "    FERTILISER_TEST_FEATURES.loc[0].values,\n",
    "    0\n",
    "    ))"
   ]
  },
  {
   "cell_type": "code",
   "execution_count": 50,
   "metadata": {},
   "outputs": [
    {
     "output_type": "execute_result",
     "data": {
      "text/plain": [
       "array([[0.]], dtype=float32)"
      ]
     },
     "metadata": {},
     "execution_count": 50
    }
   ],
   "source": [
    "predict_fert.predict(np.expand_dims(\n",
    "    FERTILISER_TEST_FEATURES.loc[237].values,\n",
    "    0\n",
    "    ))"
   ]
  },
  {
   "cell_type": "code",
   "execution_count": 44,
   "metadata": {},
   "outputs": [
    {
     "output_type": "execute_result",
     "data": {
      "text/plain": [
       "array([[[0.]]], dtype=float32)"
      ]
     },
     "metadata": {},
     "execution_count": 44
    }
   ],
   "source": [
    "predict_fert.predict(np.expand_dims(FERTILISER_TEST_FEATURES.loc[238].values, 0))"
   ]
  },
  {
   "cell_type": "code",
   "execution_count": 45,
   "metadata": {},
   "outputs": [
    {
     "output_type": "execute_result",
     "data": {
      "text/plain": [
       "temperature    0.659087\n",
       "humidity       0.994454\n",
       "ph             0.899888\n",
       "rainfall       0.911996\n",
       "is_maize       0.000000\n",
       "is_grape       0.000000\n",
       "is_apple       0.000000\n",
       "is_orange      1.000000\n",
       "needs_N        0.000000\n",
       "needs_P        0.000000\n",
       "needs_K        1.000000\n",
       "Name: 237, dtype: float64"
      ]
     },
     "metadata": {},
     "execution_count": 45
    }
   ],
   "source": [
    "FERTILISER_TEST_FEATURES.loc[237]"
   ]
  },
  {
   "cell_type": "code",
   "execution_count": 104,
   "metadata": {},
   "outputs": [
    {
     "output_type": "execute_result",
     "data": {
      "text/plain": [
       "     output  temperature   humidity        ph    rainfall  is_maize  is_grape  \\\n",
       "0       203    33.342145  82.510346  5.693287   70.680986         0         1   \n",
       "1       201    23.819957  80.122116  6.002996   67.273986         0         1   \n",
       "2       196    40.660123  81.249960  6.372960   74.030301         0         1   \n",
       "3       205    11.827682  80.282719  5.510925   74.102251         0         1   \n",
       "4       195    13.285043  83.541938  5.699453   65.800060         0         1   \n",
       "..      ...          ...        ...       ...         ...       ...       ...   \n",
       "235       5    32.717485  90.546083  7.656978  113.328978         0         0   \n",
       "236      12    25.162966  92.547360  7.105905  114.311720         0         0   \n",
       "237       7    27.681673  94.473169  7.199106  113.999515         0         0   \n",
       "238      15    21.350934  90.949297  7.871063  107.086209         0         0   \n",
       "239       9    11.698946  93.256389  7.566166  103.200599         0         0   \n",
       "\n",
       "     is_apple  is_orange  needs_N  needs_P  needs_K  \n",
       "0           0          0        0        0        1  \n",
       "1           0          0        0        0        1  \n",
       "2           0          0        0        0        1  \n",
       "3           0          0        0        0        1  \n",
       "4           0          0        0        0        1  \n",
       "..        ...        ...      ...      ...      ...  \n",
       "235         0          1        0        0        1  \n",
       "236         0          1        0        0        1  \n",
       "237         0          1        0        0        1  \n",
       "238         0          1        0        0        1  \n",
       "239         0          1        0        0        1  \n",
       "\n",
       "[240 rows x 12 columns]"
      ],
      "text/html": "<div>\n<style scoped>\n    .dataframe tbody tr th:only-of-type {\n        vertical-align: middle;\n    }\n\n    .dataframe tbody tr th {\n        vertical-align: top;\n    }\n\n    .dataframe thead th {\n        text-align: right;\n    }\n</style>\n<table border=\"1\" class=\"dataframe\">\n  <thead>\n    <tr style=\"text-align: right;\">\n      <th></th>\n      <th>output</th>\n      <th>temperature</th>\n      <th>humidity</th>\n      <th>ph</th>\n      <th>rainfall</th>\n      <th>is_maize</th>\n      <th>is_grape</th>\n      <th>is_apple</th>\n      <th>is_orange</th>\n      <th>needs_N</th>\n      <th>needs_P</th>\n      <th>needs_K</th>\n    </tr>\n  </thead>\n  <tbody>\n    <tr>\n      <th>0</th>\n      <td>203</td>\n      <td>33.342145</td>\n      <td>82.510346</td>\n      <td>5.693287</td>\n      <td>70.680986</td>\n      <td>0</td>\n      <td>1</td>\n      <td>0</td>\n      <td>0</td>\n      <td>0</td>\n      <td>0</td>\n      <td>1</td>\n    </tr>\n    <tr>\n      <th>1</th>\n      <td>201</td>\n      <td>23.819957</td>\n      <td>80.122116</td>\n      <td>6.002996</td>\n      <td>67.273986</td>\n      <td>0</td>\n      <td>1</td>\n      <td>0</td>\n      <td>0</td>\n      <td>0</td>\n      <td>0</td>\n      <td>1</td>\n    </tr>\n    <tr>\n      <th>2</th>\n      <td>196</td>\n      <td>40.660123</td>\n      <td>81.249960</td>\n      <td>6.372960</td>\n      <td>74.030301</td>\n      <td>0</td>\n      <td>1</td>\n      <td>0</td>\n      <td>0</td>\n      <td>0</td>\n      <td>0</td>\n      <td>1</td>\n    </tr>\n    <tr>\n      <th>3</th>\n      <td>205</td>\n      <td>11.827682</td>\n      <td>80.282719</td>\n      <td>5.510925</td>\n      <td>74.102251</td>\n      <td>0</td>\n      <td>1</td>\n      <td>0</td>\n      <td>0</td>\n      <td>0</td>\n      <td>0</td>\n      <td>1</td>\n    </tr>\n    <tr>\n      <th>4</th>\n      <td>195</td>\n      <td>13.285043</td>\n      <td>83.541938</td>\n      <td>5.699453</td>\n      <td>65.800060</td>\n      <td>0</td>\n      <td>1</td>\n      <td>0</td>\n      <td>0</td>\n      <td>0</td>\n      <td>0</td>\n      <td>1</td>\n    </tr>\n    <tr>\n      <th>...</th>\n      <td>...</td>\n      <td>...</td>\n      <td>...</td>\n      <td>...</td>\n      <td>...</td>\n      <td>...</td>\n      <td>...</td>\n      <td>...</td>\n      <td>...</td>\n      <td>...</td>\n      <td>...</td>\n      <td>...</td>\n    </tr>\n    <tr>\n      <th>235</th>\n      <td>5</td>\n      <td>32.717485</td>\n      <td>90.546083</td>\n      <td>7.656978</td>\n      <td>113.328978</td>\n      <td>0</td>\n      <td>0</td>\n      <td>0</td>\n      <td>1</td>\n      <td>0</td>\n      <td>0</td>\n      <td>1</td>\n    </tr>\n    <tr>\n      <th>236</th>\n      <td>12</td>\n      <td>25.162966</td>\n      <td>92.547360</td>\n      <td>7.105905</td>\n      <td>114.311720</td>\n      <td>0</td>\n      <td>0</td>\n      <td>0</td>\n      <td>1</td>\n      <td>0</td>\n      <td>0</td>\n      <td>1</td>\n    </tr>\n    <tr>\n      <th>237</th>\n      <td>7</td>\n      <td>27.681673</td>\n      <td>94.473169</td>\n      <td>7.199106</td>\n      <td>113.999515</td>\n      <td>0</td>\n      <td>0</td>\n      <td>0</td>\n      <td>1</td>\n      <td>0</td>\n      <td>0</td>\n      <td>1</td>\n    </tr>\n    <tr>\n      <th>238</th>\n      <td>15</td>\n      <td>21.350934</td>\n      <td>90.949297</td>\n      <td>7.871063</td>\n      <td>107.086209</td>\n      <td>0</td>\n      <td>0</td>\n      <td>0</td>\n      <td>1</td>\n      <td>0</td>\n      <td>0</td>\n      <td>1</td>\n    </tr>\n    <tr>\n      <th>239</th>\n      <td>9</td>\n      <td>11.698946</td>\n      <td>93.256389</td>\n      <td>7.566166</td>\n      <td>103.200599</td>\n      <td>0</td>\n      <td>0</td>\n      <td>0</td>\n      <td>1</td>\n      <td>0</td>\n      <td>0</td>\n      <td>1</td>\n    </tr>\n  </tbody>\n</table>\n<p>240 rows × 12 columns</p>\n</div>"
     },
     "metadata": {},
     "execution_count": 104
    }
   ],
   "source": [
    "FERTILISER_TEST"
   ]
  },
  {
   "cell_type": "code",
   "execution_count": 29,
   "metadata": {},
   "outputs": [
    {
     "output_type": "display_data",
     "data": {
      "text/plain": "<Figure size 432x288 with 1 Axes>",
      "image/svg+xml": "<?xml version=\"1.0\" encoding=\"utf-8\" standalone=\"no\"?>\r\n<!DOCTYPE svg PUBLIC \"-//W3C//DTD SVG 1.1//EN\"\r\n  \"http://www.w3.org/Graphics/SVG/1.1/DTD/svg11.dtd\">\r\n<!-- Created with matplotlib (https://matplotlib.org/) -->\r\n<svg height=\"248.518125pt\" version=\"1.1\" viewBox=\"0 0 386.845312 248.518125\" width=\"386.845312pt\" xmlns=\"http://www.w3.org/2000/svg\" xmlns:xlink=\"http://www.w3.org/1999/xlink\">\r\n <metadata>\r\n  <rdf:RDF xmlns:cc=\"http://creativecommons.org/ns#\" xmlns:dc=\"http://purl.org/dc/elements/1.1/\" xmlns:rdf=\"http://www.w3.org/1999/02/22-rdf-syntax-ns#\">\r\n   <cc:Work>\r\n    <dc:type rdf:resource=\"http://purl.org/dc/dcmitype/StillImage\"/>\r\n    <dc:date>2021-05-24T07:02:05.601516</dc:date>\r\n    <dc:format>image/svg+xml</dc:format>\r\n    <dc:creator>\r\n     <cc:Agent>\r\n      <dc:title>Matplotlib v3.3.3, https://matplotlib.org/</dc:title>\r\n     </cc:Agent>\r\n    </dc:creator>\r\n   </cc:Work>\r\n  </rdf:RDF>\r\n </metadata>\r\n <defs>\r\n  <style type=\"text/css\">*{stroke-linecap:butt;stroke-linejoin:round;}</style>\r\n </defs>\r\n <g id=\"figure_1\">\r\n  <g id=\"patch_1\">\r\n   <path d=\"M 0 248.518125 \r\nL 386.845312 248.518125 \r\nL 386.845312 0 \r\nL 0 0 \r\nz\r\n\" style=\"fill:none;\"/>\r\n  </g>\r\n  <g id=\"axes_1\">\r\n   <g id=\"patch_2\">\r\n    <path d=\"M 44.845313 224.64 \r\nL 379.645313 224.64 \r\nL 379.645313 7.2 \r\nL 44.845313 7.2 \r\nz\r\n\" style=\"fill:#ffffff;\"/>\r\n   </g>\r\n   <g id=\"matplotlib.axis_1\">\r\n    <g id=\"xtick_1\">\r\n     <g id=\"line2d_1\">\r\n      <defs>\r\n       <path d=\"M 0 0 \r\nL 0 3.5 \r\n\" id=\"m1423250c89\" style=\"stroke:#000000;stroke-width:0.8;\"/>\r\n      </defs>\r\n      <g>\r\n       <use style=\"stroke:#000000;stroke-width:0.8;\" x=\"90.499858\" xlink:href=\"#m1423250c89\" y=\"224.64\"/>\r\n      </g>\r\n     </g>\r\n     <g id=\"text_1\">\r\n      <!-- −0.04 -->\r\n      <g transform=\"translate(75.177202 239.238437)scale(0.1 -0.1)\">\r\n       <defs>\r\n        <path d=\"M 10.59375 35.5 \r\nL 73.1875 35.5 \r\nL 73.1875 27.203125 \r\nL 10.59375 27.203125 \r\nz\r\n\" id=\"DejaVuSans-8722\"/>\r\n        <path d=\"M 31.78125 66.40625 \r\nQ 24.171875 66.40625 20.328125 58.90625 \r\nQ 16.5 51.421875 16.5 36.375 \r\nQ 16.5 21.390625 20.328125 13.890625 \r\nQ 24.171875 6.390625 31.78125 6.390625 \r\nQ 39.453125 6.390625 43.28125 13.890625 \r\nQ 47.125 21.390625 47.125 36.375 \r\nQ 47.125 51.421875 43.28125 58.90625 \r\nQ 39.453125 66.40625 31.78125 66.40625 \r\nz\r\nM 31.78125 74.21875 \r\nQ 44.046875 74.21875 50.515625 64.515625 \r\nQ 56.984375 54.828125 56.984375 36.375 \r\nQ 56.984375 17.96875 50.515625 8.265625 \r\nQ 44.046875 -1.421875 31.78125 -1.421875 \r\nQ 19.53125 -1.421875 13.0625 8.265625 \r\nQ 6.59375 17.96875 6.59375 36.375 \r\nQ 6.59375 54.828125 13.0625 64.515625 \r\nQ 19.53125 74.21875 31.78125 74.21875 \r\nz\r\n\" id=\"DejaVuSans-48\"/>\r\n        <path d=\"M 10.6875 12.40625 \r\nL 21 12.40625 \r\nL 21 0 \r\nL 10.6875 0 \r\nz\r\n\" id=\"DejaVuSans-46\"/>\r\n        <path d=\"M 37.796875 64.3125 \r\nL 12.890625 25.390625 \r\nL 37.796875 25.390625 \r\nz\r\nM 35.203125 72.90625 \r\nL 47.609375 72.90625 \r\nL 47.609375 25.390625 \r\nL 58.015625 25.390625 \r\nL 58.015625 17.1875 \r\nL 47.609375 17.1875 \r\nL 47.609375 0 \r\nL 37.796875 0 \r\nL 37.796875 17.1875 \r\nL 4.890625 17.1875 \r\nL 4.890625 26.703125 \r\nz\r\n\" id=\"DejaVuSans-52\"/>\r\n       </defs>\r\n       <use xlink:href=\"#DejaVuSans-8722\"/>\r\n       <use x=\"83.789062\" xlink:href=\"#DejaVuSans-48\"/>\r\n       <use x=\"147.412109\" xlink:href=\"#DejaVuSans-46\"/>\r\n       <use x=\"179.199219\" xlink:href=\"#DejaVuSans-48\"/>\r\n       <use x=\"242.822266\" xlink:href=\"#DejaVuSans-52\"/>\r\n      </g>\r\n     </g>\r\n    </g>\r\n    <g id=\"xtick_2\">\r\n     <g id=\"line2d_2\">\r\n      <g>\r\n       <use style=\"stroke:#000000;stroke-width:0.8;\" x=\"151.372585\" xlink:href=\"#m1423250c89\" y=\"224.64\"/>\r\n      </g>\r\n     </g>\r\n     <g id=\"text_2\">\r\n      <!-- −0.02 -->\r\n      <g transform=\"translate(136.049929 239.238437)scale(0.1 -0.1)\">\r\n       <defs>\r\n        <path d=\"M 19.1875 8.296875 \r\nL 53.609375 8.296875 \r\nL 53.609375 0 \r\nL 7.328125 0 \r\nL 7.328125 8.296875 \r\nQ 12.9375 14.109375 22.625 23.890625 \r\nQ 32.328125 33.6875 34.8125 36.53125 \r\nQ 39.546875 41.84375 41.421875 45.53125 \r\nQ 43.3125 49.21875 43.3125 52.78125 \r\nQ 43.3125 58.59375 39.234375 62.25 \r\nQ 35.15625 65.921875 28.609375 65.921875 \r\nQ 23.96875 65.921875 18.8125 64.3125 \r\nQ 13.671875 62.703125 7.8125 59.421875 \r\nL 7.8125 69.390625 \r\nQ 13.765625 71.78125 18.9375 73 \r\nQ 24.125 74.21875 28.421875 74.21875 \r\nQ 39.75 74.21875 46.484375 68.546875 \r\nQ 53.21875 62.890625 53.21875 53.421875 \r\nQ 53.21875 48.921875 51.53125 44.890625 \r\nQ 49.859375 40.875 45.40625 35.40625 \r\nQ 44.1875 33.984375 37.640625 27.21875 \r\nQ 31.109375 20.453125 19.1875 8.296875 \r\nz\r\n\" id=\"DejaVuSans-50\"/>\r\n       </defs>\r\n       <use xlink:href=\"#DejaVuSans-8722\"/>\r\n       <use x=\"83.789062\" xlink:href=\"#DejaVuSans-48\"/>\r\n       <use x=\"147.412109\" xlink:href=\"#DejaVuSans-46\"/>\r\n       <use x=\"179.199219\" xlink:href=\"#DejaVuSans-48\"/>\r\n       <use x=\"242.822266\" xlink:href=\"#DejaVuSans-50\"/>\r\n      </g>\r\n     </g>\r\n    </g>\r\n    <g id=\"xtick_3\">\r\n     <g id=\"line2d_3\">\r\n      <g>\r\n       <use style=\"stroke:#000000;stroke-width:0.8;\" x=\"212.245313\" xlink:href=\"#m1423250c89\" y=\"224.64\"/>\r\n      </g>\r\n     </g>\r\n     <g id=\"text_3\">\r\n      <!-- 0.00 -->\r\n      <g transform=\"translate(201.1125 239.238437)scale(0.1 -0.1)\">\r\n       <use xlink:href=\"#DejaVuSans-48\"/>\r\n       <use x=\"63.623047\" xlink:href=\"#DejaVuSans-46\"/>\r\n       <use x=\"95.410156\" xlink:href=\"#DejaVuSans-48\"/>\r\n       <use x=\"159.033203\" xlink:href=\"#DejaVuSans-48\"/>\r\n      </g>\r\n     </g>\r\n    </g>\r\n    <g id=\"xtick_4\">\r\n     <g id=\"line2d_4\">\r\n      <g>\r\n       <use style=\"stroke:#000000;stroke-width:0.8;\" x=\"273.11804\" xlink:href=\"#m1423250c89\" y=\"224.64\"/>\r\n      </g>\r\n     </g>\r\n     <g id=\"text_4\">\r\n      <!-- 0.02 -->\r\n      <g transform=\"translate(261.985227 239.238437)scale(0.1 -0.1)\">\r\n       <use xlink:href=\"#DejaVuSans-48\"/>\r\n       <use x=\"63.623047\" xlink:href=\"#DejaVuSans-46\"/>\r\n       <use x=\"95.410156\" xlink:href=\"#DejaVuSans-48\"/>\r\n       <use x=\"159.033203\" xlink:href=\"#DejaVuSans-50\"/>\r\n      </g>\r\n     </g>\r\n    </g>\r\n    <g id=\"xtick_5\">\r\n     <g id=\"line2d_5\">\r\n      <g>\r\n       <use style=\"stroke:#000000;stroke-width:0.8;\" x=\"333.990767\" xlink:href=\"#m1423250c89\" y=\"224.64\"/>\r\n      </g>\r\n     </g>\r\n     <g id=\"text_5\">\r\n      <!-- 0.04 -->\r\n      <g transform=\"translate(322.857955 239.238437)scale(0.1 -0.1)\">\r\n       <use xlink:href=\"#DejaVuSans-48\"/>\r\n       <use x=\"63.623047\" xlink:href=\"#DejaVuSans-46\"/>\r\n       <use x=\"95.410156\" xlink:href=\"#DejaVuSans-48\"/>\r\n       <use x=\"159.033203\" xlink:href=\"#DejaVuSans-52\"/>\r\n      </g>\r\n     </g>\r\n    </g>\r\n   </g>\r\n   <g id=\"matplotlib.axis_2\">\r\n    <g id=\"ytick_1\">\r\n     <g id=\"line2d_6\">\r\n      <defs>\r\n       <path d=\"M 0 0 \r\nL -3.5 0 \r\n\" id=\"mdd6759a7ad\" style=\"stroke:#000000;stroke-width:0.8;\"/>\r\n      </defs>\r\n      <g>\r\n       <use style=\"stroke:#000000;stroke-width:0.8;\" x=\"44.845313\" xlink:href=\"#mdd6759a7ad\" y=\"194.989091\"/>\r\n      </g>\r\n     </g>\r\n     <g id=\"text_6\">\r\n      <!-- −0.04 -->\r\n      <g transform=\"translate(7.2 198.78831)scale(0.1 -0.1)\">\r\n       <use xlink:href=\"#DejaVuSans-8722\"/>\r\n       <use x=\"83.789062\" xlink:href=\"#DejaVuSans-48\"/>\r\n       <use x=\"147.412109\" xlink:href=\"#DejaVuSans-46\"/>\r\n       <use x=\"179.199219\" xlink:href=\"#DejaVuSans-48\"/>\r\n       <use x=\"242.822266\" xlink:href=\"#DejaVuSans-52\"/>\r\n      </g>\r\n     </g>\r\n    </g>\r\n    <g id=\"ytick_2\">\r\n     <g id=\"line2d_7\">\r\n      <g>\r\n       <use style=\"stroke:#000000;stroke-width:0.8;\" x=\"44.845313\" xlink:href=\"#mdd6759a7ad\" y=\"155.454545\"/>\r\n      </g>\r\n     </g>\r\n     <g id=\"text_7\">\r\n      <!-- −0.02 -->\r\n      <g transform=\"translate(7.2 159.253764)scale(0.1 -0.1)\">\r\n       <use xlink:href=\"#DejaVuSans-8722\"/>\r\n       <use x=\"83.789062\" xlink:href=\"#DejaVuSans-48\"/>\r\n       <use x=\"147.412109\" xlink:href=\"#DejaVuSans-46\"/>\r\n       <use x=\"179.199219\" xlink:href=\"#DejaVuSans-48\"/>\r\n       <use x=\"242.822266\" xlink:href=\"#DejaVuSans-50\"/>\r\n      </g>\r\n     </g>\r\n    </g>\r\n    <g id=\"ytick_3\">\r\n     <g id=\"line2d_8\">\r\n      <g>\r\n       <use style=\"stroke:#000000;stroke-width:0.8;\" x=\"44.845313\" xlink:href=\"#mdd6759a7ad\" y=\"115.92\"/>\r\n      </g>\r\n     </g>\r\n     <g id=\"text_8\">\r\n      <!-- 0.00 -->\r\n      <g transform=\"translate(15.579688 119.719219)scale(0.1 -0.1)\">\r\n       <use xlink:href=\"#DejaVuSans-48\"/>\r\n       <use x=\"63.623047\" xlink:href=\"#DejaVuSans-46\"/>\r\n       <use x=\"95.410156\" xlink:href=\"#DejaVuSans-48\"/>\r\n       <use x=\"159.033203\" xlink:href=\"#DejaVuSans-48\"/>\r\n      </g>\r\n     </g>\r\n    </g>\r\n    <g id=\"ytick_4\">\r\n     <g id=\"line2d_9\">\r\n      <g>\r\n       <use style=\"stroke:#000000;stroke-width:0.8;\" x=\"44.845313\" xlink:href=\"#mdd6759a7ad\" y=\"76.385455\"/>\r\n      </g>\r\n     </g>\r\n     <g id=\"text_9\">\r\n      <!-- 0.02 -->\r\n      <g transform=\"translate(15.579688 80.184673)scale(0.1 -0.1)\">\r\n       <use xlink:href=\"#DejaVuSans-48\"/>\r\n       <use x=\"63.623047\" xlink:href=\"#DejaVuSans-46\"/>\r\n       <use x=\"95.410156\" xlink:href=\"#DejaVuSans-48\"/>\r\n       <use x=\"159.033203\" xlink:href=\"#DejaVuSans-50\"/>\r\n      </g>\r\n     </g>\r\n    </g>\r\n    <g id=\"ytick_5\">\r\n     <g id=\"line2d_10\">\r\n      <g>\r\n       <use style=\"stroke:#000000;stroke-width:0.8;\" x=\"44.845313\" xlink:href=\"#mdd6759a7ad\" y=\"36.850909\"/>\r\n      </g>\r\n     </g>\r\n     <g id=\"text_10\">\r\n      <!-- 0.04 -->\r\n      <g transform=\"translate(15.579688 40.650128)scale(0.1 -0.1)\">\r\n       <use xlink:href=\"#DejaVuSans-48\"/>\r\n       <use x=\"63.623047\" xlink:href=\"#DejaVuSans-46\"/>\r\n       <use x=\"95.410156\" xlink:href=\"#DejaVuSans-48\"/>\r\n       <use x=\"159.033203\" xlink:href=\"#DejaVuSans-52\"/>\r\n      </g>\r\n     </g>\r\n    </g>\r\n   </g>\r\n   <g id=\"line2d_11\">\r\n    <path clip-path=\"url(#p1f88d44ff9)\" d=\"M 0 0 \r\n\" style=\"fill:none;stroke:#1f77b4;stroke-linecap:square;stroke-width:1.5;\"/>\r\n   </g>\r\n   <g id=\"patch_3\">\r\n    <path d=\"M 44.845313 224.64 \r\nL 44.845313 7.2 \r\n\" style=\"fill:none;stroke:#000000;stroke-linecap:square;stroke-linejoin:miter;stroke-width:0.8;\"/>\r\n   </g>\r\n   <g id=\"patch_4\">\r\n    <path d=\"M 379.645313 224.64 \r\nL 379.645313 7.2 \r\n\" style=\"fill:none;stroke:#000000;stroke-linecap:square;stroke-linejoin:miter;stroke-width:0.8;\"/>\r\n   </g>\r\n   <g id=\"patch_5\">\r\n    <path d=\"M 44.845313 224.64 \r\nL 379.645313 224.64 \r\n\" style=\"fill:none;stroke:#000000;stroke-linecap:square;stroke-linejoin:miter;stroke-width:0.8;\"/>\r\n   </g>\r\n   <g id=\"patch_6\">\r\n    <path d=\"M 44.845313 7.2 \r\nL 379.645313 7.2 \r\n\" style=\"fill:none;stroke:#000000;stroke-linecap:square;stroke-linejoin:miter;stroke-width:0.8;\"/>\r\n   </g>\r\n  </g>\r\n </g>\r\n <defs>\r\n  <clipPath id=\"p1f88d44ff9\">\r\n   <rect height=\"217.44\" width=\"334.8\" x=\"44.845313\" y=\"7.2\"/>\r\n  </clipPath>\r\n </defs>\r\n</svg>\r\n",
      "image/png": "[encoded data removed]"
     },
     "metadata": {
      "needs_background": "light"
     }
    }
   ],
   "source": [
    "from matplotlib import pyplot as plt\n",
    "\n",
    "plt.plot(range(len(hist.history['loss'])), hist.history['loss'])\n",
    "plt.show()"
   ]
  },
  {
   "cell_type": "code",
   "execution_count": 28,
   "metadata": {},
   "outputs": [
    {
     "output_type": "execute_result",
     "data": {
      "text/plain": [
       "{'loss': [0.18927262723445892,\n",
       "  0.18918836116790771,\n",
       "  0.18909336626529694,\n",
       "  0.18898619711399078,\n",
       "  0.18886560201644897,\n",
       "  0.1887301355600357,\n",
       "  0.18857775628566742,\n",
       "  0.18840639293193817,\n",
       "  0.18821386992931366,\n",
       "  0.18799704313278198,\n",
       "  0.18775340914726257,\n",
       "  0.1874794214963913,\n",
       "  0.18717160820960999,\n",
       "  0.18682576715946198,\n",
       "  0.18643787503242493,\n",
       "  0.186003178358078,\n",
       "  0.18551622331142426,\n",
       "  0.18497122824192047,\n",
       "  0.18436217308044434,\n",
       "  0.18368224799633026,\n",
       "  0.18292470276355743,\n",
       "  0.18208079040050507,\n",
       "  0.18114130198955536,\n",
       "  0.18009795248508453,\n",
       "  0.17894195020198822,\n",
       "  0.177662193775177,\n",
       "  0.1762455701828003,\n",
       "  0.17468033730983734,\n",
       "  0.17295479774475098,\n",
       "  0.17105832695960999,\n",
       "  0.1689797341823578,\n",
       "  0.16670994460582733,\n",
       "  0.16423088312149048,\n",
       "  0.16153258085250854,\n",
       "  0.15860743820667267,\n",
       "  0.15545153617858887,\n",
       "  0.1520637571811676,\n",
       "  0.14844059944152832,\n",
       "  0.14458300173282623,\n",
       "  0.1405075639486313,\n",
       "  0.13623777031898499,\n",
       "  0.13180546462535858,\n",
       "  0.12724371254444122,\n",
       "  0.12257826328277588,\n",
       "  0.11786773055791855,\n",
       "  0.11318792402744293,\n",
       "  0.10860826820135117,\n",
       "  0.10419830679893494,\n",
       "  0.10002383589744568,\n",
       "  0.09614402800798416,\n",
       "  0.09261780977249146,\n",
       "  0.08953307569026947,\n",
       "  0.08693044632673264,\n",
       "  0.08481151610612869,\n",
       "  0.08314701169729233,\n",
       "  0.08190115541219711,\n",
       "  0.08101701736450195,\n",
       "  0.08042928576469421,\n",
       "  0.0800669938325882,\n",
       "  0.07986520230770111,\n",
       "  0.07976658642292023,\n",
       "  0.07972743362188339,\n",
       "  0.07972027361392975,\n",
       "  0.07972441613674164,\n",
       "  0.0797334760427475,\n",
       "  0.07974264770746231,\n",
       "  0.07974767684936523,\n",
       "  0.07975400239229202,\n",
       "  0.07975555956363678,\n",
       "  0.07974940538406372,\n",
       "  0.07973189651966095,\n",
       "  0.07970405369997025,\n",
       "  0.07964272797107697,\n",
       "  0.07957153022289276,\n",
       "  0.07945507019758224,\n",
       "  0.07927824556827545,\n",
       "  0.07903861999511719,\n",
       "  0.07871738821268082,\n",
       "  0.07830266654491425,\n",
       "  0.07778838276863098,\n",
       "  0.07713685184717178,\n",
       "  0.0763562023639679,\n",
       "  0.07540357112884521,\n",
       "  0.07428636401891708,\n",
       "  0.0730387270450592,\n",
       "  0.07163000851869583,\n",
       "  0.07006077468395233,\n",
       "  0.06835085898637772,\n",
       "  0.0665503442287445,\n",
       "  0.0647212341427803,\n",
       "  0.06259388476610184,\n",
       "  0.060343071818351746,\n",
       "  0.05807754769921303,\n",
       "  0.055788762867450714,\n",
       "  0.054075226187705994,\n",
       "  0.05185522139072418,\n",
       "  0.049819525331258774,\n",
       "  0.047941770404577255,\n",
       "  0.046583183109760284,\n",
       "  0.04479045420885086],\n",
       " 'acc': [0.00832466222345829,\n",
       "  0.00832466222345829,\n",
       "  0.00832466222345829,\n",
       "  0.00832466222345829,\n",
       "  0.00832466222345829,\n",
       "  0.00832466222345829,\n",
       "  0.00832466222345829,\n",
       "  0.00832466222345829,\n",
       "  0.00832466222345829,\n",
       "  0.00832466222345829,\n",
       "  0.00832466222345829,\n",
       "  0.00832466222345829,\n",
       "  0.00832466222345829,\n",
       "  0.00832466222345829,\n",
       "  0.00832466222345829,\n",
       "  0.00832466222345829,\n",
       "  0.00832466222345829,\n",
       "  0.00832466222345829,\n",
       "  0.00832466222345829,\n",
       "  0.00832466222345829,\n",
       "  0.00832466222345829,\n",
       "  0.00832466222345829,\n",
       "  0.00832466222345829,\n",
       "  0.00832466222345829,\n",
       "  0.00832466222345829,\n",
       "  0.00832466222345829,\n",
       "  0.00832466222345829,\n",
       "  0.00832466222345829,\n",
       "  0.00832466222345829,\n",
       "  0.00832466222345829,\n",
       "  0.00832466222345829,\n",
       "  0.00832466222345829,\n",
       "  0.00832466222345829,\n",
       "  0.00832466222345829,\n",
       "  0.00832466222345829,\n",
       "  0.00832466222345829,\n",
       "  0.00832466222345829,\n",
       "  0.00832466222345829,\n",
       "  0.00832466222345829,\n",
       "  0.00832466222345829,\n",
       "  0.00832466222345829,\n",
       "  0.00832466222345829,\n",
       "  0.00832466222345829,\n",
       "  0.00832466222345829,\n",
       "  0.00832466222345829,\n",
       "  0.00832466222345829,\n",
       "  0.00832466222345829,\n",
       "  0.00832466222345829,\n",
       "  0.00832466222345829,\n",
       "  0.00832466222345829,\n",
       "  0.00832466222345829,\n",
       "  0.00832466222345829,\n",
       "  0.00832466222345829,\n",
       "  0.00832466222345829,\n",
       "  0.00832466222345829,\n",
       "  0.00832466222345829,\n",
       "  0.00832466222345829,\n",
       "  0.00832466222345829,\n",
       "  0.00832466222345829,\n",
       "  0.00832466222345829,\n",
       "  0.00832466222345829,\n",
       "  0.00832466222345829,\n",
       "  0.00832466222345829,\n",
       "  0.00832466222345829,\n",
       "  0.00832466222345829,\n",
       "  0.00832466222345829,\n",
       "  0.00832466222345829,\n",
       "  0.00832466222345829,\n",
       "  0.00832466222345829,\n",
       "  0.00832466222345829,\n",
       "  0.00832466222345829,\n",
       "  0.00832466222345829,\n",
       "  0.00832466222345829,\n",
       "  0.00832466222345829,\n",
       "  0.00832466222345829,\n",
       "  0.00832466222345829,\n",
       "  0.00832466222345829,\n",
       "  0.00832466222345829,\n",
       "  0.00832466222345829,\n",
       "  0.00832466222345829,\n",
       "  0.00832466222345829,\n",
       "  0.00832466222345829,\n",
       "  0.00832466222345829,\n",
       "  0.00832466222345829,\n",
       "  0.00832466222345829,\n",
       "  0.00832466222345829,\n",
       "  0.00832466222345829,\n",
       "  0.00832466222345829,\n",
       "  0.00832466222345829,\n",
       "  0.00832466222345829,\n",
       "  0.00832466222345829,\n",
       "  0.00832466222345829,\n",
       "  0.00832466222345829,\n",
       "  0.00832466222345829,\n",
       "  0.00832466222345829,\n",
       "  0.00832466222345829,\n",
       "  0.00832466222345829,\n",
       "  0.00832466222345829,\n",
       "  0.00832466222345829,\n",
       "  0.00832466222345829],\n",
       " 'val_loss': [0.5808660984039307,\n",
       "  0.5807026028633118,\n",
       "  0.580517590045929,\n",
       "  0.5803095102310181,\n",
       "  0.5800751447677612,\n",
       "  0.5798114538192749,\n",
       "  0.5795153379440308,\n",
       "  0.5791820883750916,\n",
       "  0.5788068771362305,\n",
       "  0.578385055065155,\n",
       "  0.5779102444648743,\n",
       "  0.577376663684845,\n",
       "  0.5767771005630493,\n",
       "  0.5761021375656128,\n",
       "  0.5753458738327026,\n",
       "  0.5744980573654175,\n",
       "  0.5735474228858948,\n",
       "  0.5724826455116272,\n",
       "  0.5712909698486328,\n",
       "  0.5699607729911804,\n",
       "  0.5684757828712463,\n",
       "  0.5668184161186218,\n",
       "  0.5649716854095459,\n",
       "  0.5629187226295471,\n",
       "  0.5606400370597839,\n",
       "  0.558108925819397,\n",
       "  0.5552998781204224,\n",
       "  0.5521862506866455,\n",
       "  0.5487433075904846,\n",
       "  0.5449454188346863,\n",
       "  0.5407708287239075,\n",
       "  0.5361810326576233,\n",
       "  0.5311410427093506,\n",
       "  0.525620698928833,\n",
       "  0.5195949673652649,\n",
       "  0.5130444765090942,\n",
       "  0.5059440732002258,\n",
       "  0.49826452136039734,\n",
       "  0.4899963140487671,\n",
       "  0.4811461567878723,\n",
       "  0.47173452377319336,\n",
       "  0.4617893397808075,\n",
       "  0.4513148367404938,\n",
       "  0.4403265118598938,\n",
       "  0.428944855928421,\n",
       "  0.417275995016098,\n",
       "  0.4054311513900757,\n",
       "  0.3935203552246094,\n",
       "  0.3816662132740021,\n",
       "  0.36990371346473694,\n",
       "  0.358467161655426,\n",
       "  0.3476335108280182,\n",
       "  0.33754417300224304,\n",
       "  0.32828110456466675,\n",
       "  0.3199155926704407,\n",
       "  0.3125007748603821,\n",
       "  0.3060377538204193,\n",
       "  0.30055907368659973,\n",
       "  0.2960032820701599,\n",
       "  0.29228445887565613,\n",
       "  0.2892822325229645,\n",
       "  0.28686630725860596,\n",
       "  0.28490355610847473,\n",
       "  0.2832516133785248,\n",
       "  0.28179511427879333,\n",
       "  0.28044092655181885,\n",
       "  0.27908557653427124,\n",
       "  0.277688592672348,\n",
       "  0.27620643377304077,\n",
       "  0.274615615606308,\n",
       "  0.27287721633911133,\n",
       "  0.2710157036781311,\n",
       "  0.2689569294452667,\n",
       "  0.2668412923812866,\n",
       "  0.2646518349647522,\n",
       "  0.2623024880886078,\n",
       "  0.25985410809516907,\n",
       "  0.25719544291496277,\n",
       "  0.25434714555740356,\n",
       "  0.2514134645462036,\n",
       "  0.24833723902702332,\n",
       "  0.24526914954185486,\n",
       "  0.24200405180454254,\n",
       "  0.23876170814037323,\n",
       "  0.23528791964054108,\n",
       "  0.23173126578330994,\n",
       "  0.22779610753059387,\n",
       "  0.2238101363182068,\n",
       "  0.22024591267108917,\n",
       "  0.2168237268924713,\n",
       "  0.2135871797800064,\n",
       "  0.2111876904964447,\n",
       "  0.21004809439182281,\n",
       "  0.21059550344944,\n",
       "  0.21212543547153473,\n",
       "  0.21571244299411774,\n",
       "  0.22073091566562653,\n",
       "  0.22759218513965607,\n",
       "  0.23395930230617523,\n",
       "  0.2427425980567932],\n",
       " 'val_acc': [0.0,\n",
       "  0.0,\n",
       "  0.0,\n",
       "  0.0,\n",
       "  0.0,\n",
       "  0.0,\n",
       "  0.0,\n",
       "  0.0,\n",
       "  0.0,\n",
       "  0.0,\n",
       "  0.0,\n",
       "  0.0,\n",
       "  0.0,\n",
       "  0.0,\n",
       "  0.0,\n",
       "  0.0,\n",
       "  0.0,\n",
       "  0.0,\n",
       "  0.0,\n",
       "  0.0,\n",
       "  0.0,\n",
       "  0.0,\n",
       "  0.0,\n",
       "  0.0,\n",
       "  0.0,\n",
       "  0.0,\n",
       "  0.0,\n",
       "  0.0,\n",
       "  0.0,\n",
       "  0.0,\n",
       "  0.0,\n",
       "  0.0,\n",
       "  0.0,\n",
       "  0.0,\n",
       "  0.0,\n",
       "  0.0,\n",
       "  0.0,\n",
       "  0.0,\n",
       "  0.0,\n",
       "  0.0,\n",
       "  0.0,\n",
       "  0.0,\n",
       "  0.0,\n",
       "  0.0,\n",
       "  0.0,\n",
       "  0.0,\n",
       "  0.0,\n",
       "  0.0,\n",
       "  0.0,\n",
       "  0.0,\n",
       "  0.0,\n",
       "  0.0,\n",
       "  0.0,\n",
       "  0.0,\n",
       "  0.0,\n",
       "  0.0,\n",
       "  0.0,\n",
       "  0.0,\n",
       "  0.0,\n",
       "  0.0,\n",
       "  0.0,\n",
       "  0.0,\n",
       "  0.0,\n",
       "  0.0,\n",
       "  0.0,\n",
       "  0.0,\n",
       "  0.0,\n",
       "  0.0,\n",
       "  0.0,\n",
       "  0.0,\n",
       "  0.0,\n",
       "  0.0,\n",
       "  0.0,\n",
       "  0.0,\n",
       "  0.0,\n",
       "  0.0,\n",
       "  0.0,\n",
       "  0.0,\n",
       "  0.0,\n",
       "  0.0,\n",
       "  0.0,\n",
       "  0.0,\n",
       "  0.0,\n",
       "  0.0,\n",
       "  0.0,\n",
       "  0.0,\n",
       "  0.0,\n",
       "  0.0,\n",
       "  0.015909090638160706,\n",
       "  0.03181818127632141,\n",
       "  0.05833333358168602,\n",
       "  0.05833333358168602,\n",
       "  0.05833333358168602,\n",
       "  0.05833333358168602,\n",
       "  0.05833333358168602,\n",
       "  0.05833333358168602,\n",
       "  0.05833333358168602,\n",
       "  0.05833333358168602,\n",
       "  0.05833333358168602,\n",
       "  0.05833333358168602],\n",
       " 'lr': [1e-08,\n",
       "  1.1220185e-08,\n",
       "  1.2589254e-08,\n",
       "  1.41253755e-08,\n",
       "  1.5848931e-08,\n",
       "  1.7782794e-08,\n",
       "  1.9952623e-08,\n",
       "  2.2387212e-08,\n",
       "  2.5118863e-08,\n",
       "  2.8183829e-08,\n",
       "  3.1622776e-08,\n",
       "  3.548134e-08,\n",
       "  3.981072e-08,\n",
       "  4.4668358e-08,\n",
       "  5.011872e-08,\n",
       "  5.6234132e-08,\n",
       "  6.309573e-08,\n",
       "  7.079458e-08,\n",
       "  7.943282e-08,\n",
       "  8.9125095e-08,\n",
       "  1e-07,\n",
       "  1.12201846e-07,\n",
       "  1.2589254e-07,\n",
       "  1.4125375e-07,\n",
       "  1.5848931e-07,\n",
       "  1.7782794e-07,\n",
       "  1.9952623e-07,\n",
       "  2.2387212e-07,\n",
       "  2.5118865e-07,\n",
       "  2.8183828e-07,\n",
       "  3.1622776e-07,\n",
       "  3.5481338e-07,\n",
       "  3.9810718e-07,\n",
       "  4.466836e-07,\n",
       "  5.0118723e-07,\n",
       "  5.623413e-07,\n",
       "  6.3095735e-07,\n",
       "  7.079458e-07,\n",
       "  7.9432823e-07,\n",
       "  8.912509e-07,\n",
       "  1e-06,\n",
       "  1.1220185e-06,\n",
       "  1.2589254e-06,\n",
       "  1.4125376e-06,\n",
       "  1.5848932e-06,\n",
       "  1.7782794e-06,\n",
       "  1.9952622e-06,\n",
       "  2.2387212e-06,\n",
       "  2.5118864e-06,\n",
       "  2.8183829e-06,\n",
       "  3.1622776e-06,\n",
       "  3.548134e-06,\n",
       "  3.9810716e-06,\n",
       "  4.466836e-06,\n",
       "  5.0118724e-06,\n",
       "  5.6234135e-06,\n",
       "  6.3095736e-06,\n",
       "  7.0794576e-06,\n",
       "  7.943282e-06,\n",
       "  8.91251e-06,\n",
       "  1e-05,\n",
       "  1.1220184e-05,\n",
       "  1.2589254e-05,\n",
       "  1.4125376e-05,\n",
       "  1.5848931e-05,\n",
       "  1.7782793e-05,\n",
       "  1.9952624e-05,\n",
       "  2.2387212e-05,\n",
       "  2.5118865e-05,\n",
       "  2.818383e-05,\n",
       "  3.1622778e-05,\n",
       "  3.548134e-05,\n",
       "  3.981072e-05,\n",
       "  4.466836e-05,\n",
       "  5.0118724e-05,\n",
       "  5.6234134e-05,\n",
       "  6.309574e-05,\n",
       "  7.079458e-05,\n",
       "  7.943282e-05,\n",
       "  8.91251e-05,\n",
       "  1e-04,\n",
       "  0.000112201844,\n",
       "  0.00012589255,\n",
       "  0.00014125375,\n",
       "  0.00015848932,\n",
       "  0.00017782794,\n",
       "  0.00019952623,\n",
       "  0.00022387212,\n",
       "  0.00025118864,\n",
       "  0.0002818383,\n",
       "  0.00031622776,\n",
       "  0.00035481338,\n",
       "  0.00039810716,\n",
       "  0.00044668358,\n",
       "  0.0005011872,\n",
       "  0.0005623413,\n",
       "  0.00063095737,\n",
       "  0.0007079458,\n",
       "  0.0007943282,\n",
       "  0.00089125097]}"
      ]
     },
     "metadata": {},
     "execution_count": 28
    }
   ],
   "source": [
    "hist.history"
   ]
  },
  {
   "cell_type": "code",
   "execution_count": null,
   "metadata": {},
   "outputs": [],
   "source": []
  }
 ]
}